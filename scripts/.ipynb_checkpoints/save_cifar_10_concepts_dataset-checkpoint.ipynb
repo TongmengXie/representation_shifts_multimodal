{
 "cells": [
  {
   "cell_type": "code",
   "execution_count": 5,
   "id": "4271f63d",
   "metadata": {
    "ExecuteTime": {
     "end_time": "2025-08-07T16:28:33.723710Z",
     "start_time": "2025-08-07T16:28:32.881620Z"
    }
   },
   "outputs": [
    {
     "name": "stdout",
     "output_type": "stream",
     "text": [
      "--2025-08-07 16:28:33--  http://images.cocodataset.org/annotations/annotations_trainval2017.zip\n",
      "Resolving images.cocodataset.org (images.cocodataset.org)... 3.5.29.225, 3.5.30.39, 3.5.21.80, ...\n",
      "Connecting to images.cocodataset.org (images.cocodataset.org)|3.5.29.225|:80... connected.\n",
      "HTTP request sent, awaiting response... 503 Slow Down\n",
      "2025-08-07 16:28:33 ERROR 503: Slow Down.\n",
      "\n",
      "unzip:  cannot find or open annotations_trainval2017.zip, annotations_trainval2017.zip.zip or annotations_trainval2017.zip.ZIP.\n"
     ]
    }
   ],
   "source": [
    "!wget http://images.cocodataset.org/annotations/annotations_trainval2017.zip\n",
    "!unzip annotations_trainval2017.zip"
   ]
  },
  {
   "cell_type": "code",
   "execution_count": null,
   "id": "34eda7aa",
   "metadata": {
    "ExecuteTime": {
     "start_time": "2025-08-07T16:44:39.383Z"
    }
   },
   "outputs": [
    {
     "name": "stdout",
     "output_type": "stream",
     "text": [
      "loading annotations into memory...\n"
     ]
    }
   ],
   "source": [
    "from pycocotools.coco import COCO\n",
    "import pandas as pd\n",
    "\n",
    "# 1. Load COCO annotations\n",
    "ANNO_DIR = '../data/annotations_trainval2017/annotations'\n",
    "train_json = f'{ANNO_DIR}/instances_train2017.json'\n",
    "coco = COCO(train_json)\n",
    "\n",
    "# 2. Get the category IDs for cat and dog\n",
    "cat_id = coco.getCatIds(catNms=['cat'])[0]  # should be 17\n",
    "dog_id = coco.getCatIds(catNms=['dog'])[0]  # should be 18\n",
    "\n",
    "# 3. Iterate over all images and record presence/absence\n",
    "records = []\n",
    "for img in coco.loadImgs(coco.getImgIds()):\n",
    "    img_id = img['id']\n",
    "    # check for cat\n",
    "    cat_anns = coco.getAnnIds(imgIds=[img_id], catIds=[cat_id], iscrowd=None)\n",
    "    has_cat = 1 if len(cat_anns) > 0 else 0\n",
    "    # check for dog\n",
    "    dog_anns = coco.getAnnIds(imgIds=[img_id], catIds=[dog_id], iscrowd=None)\n",
    "    has_dog = 1 if len(dog_anns) > 0 else 0\n",
    "\n",
    "    records.append({\n",
    "        'image_id': img_id,\n",
    "        'file_name': img['file_name'],\n",
    "        'has_cat': has_cat,\n",
    "        'has_dog': has_dog\n",
    "    })\n",
    "\n",
    "df = pd.DataFrame(records)\n",
    "\n",
    "# 4. Split into two binary-dataset tables\n",
    "cat_df = df[['file_name', 'has_cat']].rename(columns={'has_cat':'label'})\n",
    "dog_df = df[['file_name', 'has_dog']].rename(columns={'has_dog':'label'})\n",
    "\n",
    "SAVE_DIR = '../data'\n",
    "# 5. Save them out\n",
    "cat_df.to_csv(f'{SAVE_DIR}/coco_cat_binary.csv', index=False)\n",
    "dog_df.to_csv(f'{SAVE_DIR}/coco_dog_binary.csv', index=False)\n"
   ]
  }
 ],
 "metadata": {
  "kernelspec": {
   "display_name": "Python py311",
   "language": "python",
   "name": "py311"
  },
  "language_info": {
   "codemirror_mode": {
    "name": "ipython",
    "version": 3
   },
   "file_extension": ".py",
   "mimetype": "text/x-python",
   "name": "python",
   "nbconvert_exporter": "python",
   "pygments_lexer": "ipython3",
   "version": "3.11.13"
  },
  "toc": {
   "base_numbering": 1,
   "nav_menu": {},
   "number_sections": true,
   "sideBar": true,
   "skip_h1_title": false,
   "title_cell": "Table of Contents",
   "title_sidebar": "Contents",
   "toc_cell": false,
   "toc_position": {},
   "toc_section_display": true,
   "toc_window_display": false
  },
  "varInspector": {
   "cols": {
    "lenName": 16,
    "lenType": 16,
    "lenVar": 40
   },
   "kernels_config": {
    "python": {
     "delete_cmd_postfix": "",
     "delete_cmd_prefix": "del ",
     "library": "var_list.py",
     "varRefreshCmd": "print(var_dic_list())"
    },
    "r": {
     "delete_cmd_postfix": ") ",
     "delete_cmd_prefix": "rm(",
     "library": "var_list.r",
     "varRefreshCmd": "cat(var_dic_list()) "
    }
   },
   "types_to_exclude": [
    "module",
    "function",
    "builtin_function_or_method",
    "instance",
    "_Feature"
   ],
   "window_display": false
  }
 },
 "nbformat": 4,
 "nbformat_minor": 5
}
