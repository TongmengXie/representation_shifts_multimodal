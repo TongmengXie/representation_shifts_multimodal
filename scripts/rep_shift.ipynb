{
 "cells": [
  {
   "cell_type": "code",
   "execution_count": 4,
   "id": "08fdcde8",
   "metadata": {},
   "outputs": [],
   "source": [
    "#!/usr/bin/env python3\n",
    "\"\"\"\n",
    "Comprehensive SAE-based representation shift analysis with layer sweeping,\n",
    "real datasets, and patching logic for LLM->VLM adaptation studies.\n",
    "\"\"\"\n",
    "# Installation requirements:\n",
    "\"\"\"\n",
    "pip install sae-lens transformers torch matplotlib seaborn numpy datasets tqdm\n",
    "\n",
    "# For CUDA support (recommended):\n",
    "pip install torch torchvision torchaudio --index-url https://download.pytorch.org/whl/cu118\n",
    "\"\"\"\n",
    "\n",
    "import torch\n",
    "import numpy as np\n",
    "import os\n",
    "import gc\n",
    "from pathlib import Path\n",
    "from transformers import AutoTokenizer, AutoModelForCausalLM\n",
    "from sae_lens import SAE\n",
    "import matplotlib.pyplot as plt\n",
    "from typing import Dict, Tuple, List, Optional, Union\n",
    "from dataclasses import dataclass\n",
    "import seaborn as sns\n",
    "from datasets import load_dataset\n",
    "import json\n",
    "from tqdm import tqdm\n",
    "import warnings\n",
    "import random\n",
    "import json\n",
    "warnings.filterwarnings(\"ignore\")\n",
    "\n"
   ]
  },
  {
   "cell_type": "code",
   "execution_count": 1,
   "id": "21e77d5f",
   "metadata": {},
   "outputs": [
    {
     "name": "stderr",
     "output_type": "stream",
     "text": [
      "/opt/conda/envs/py311/lib/python3.11/site-packages/tqdm/auto.py:21: TqdmWarning: IProgress not found. Please update jupyter and ipywidgets. See https://ipywidgets.readthedocs.io/en/stable/user_install.html\n",
      "  from .autonotebook import tqdm as notebook_tqdm\n",
      "/opt/conda/envs/py311/lib/python3.11/site-packages/pydantic/_internal/_generate_schema.py:2225: UnsupportedFieldAttributeWarning: The 'repr' attribute with value False was provided to the `Field()` function, which has no effect in the context it was used. 'repr' is field-specific metadata, and can only be attached to a model field using `Annotated` metadata or by assignment. This may have happened because an `Annotated` type alias using the `type` statement was used, or if the `Field()` function was attached to a single member of a union type.\n",
      "  warnings.warn(\n",
      "/opt/conda/envs/py311/lib/python3.11/site-packages/pydantic/_internal/_generate_schema.py:2225: UnsupportedFieldAttributeWarning: The 'frozen' attribute with value True was provided to the `Field()` function, which has no effect in the context it was used. 'frozen' is field-specific metadata, and can only be attached to a model field using `Annotated` metadata or by assignment. This may have happened because an `Annotated` type alias using the `type` statement was used, or if the `Field()` function was attached to a single member of a union type.\n",
      "  warnings.warn(\n"
     ]
    },
    {
     "name": "stdout",
     "output_type": "stream",
     "text": [
      "🚀 Comprehensive SAE Layer Sweep Analysis: LLM→VLM Adaptation\n",
      "======================================================================\n",
      "🔧 Initialized SAE Analyzer\n",
      "   Device: cuda\n",
      "   Model Size: 2b\n",
      "   SAE Width: 16k\n",
      "   Output Dir: ../figs_tabs\n",
      "\n",
      "📚 Loading Datasets...\n",
      "✅ Loaded 666 CIFAR-100 captions\n",
      "❌ Error loading COCO: 'utf-8' codec can't decode byte 0xc4 in position 4: invalid continuation byte\n",
      "❌ Error loading LLaVA-Bench: Config name is missing.\n",
      "Please pick one among the available configs: ['CLEVR-Math(MathV360K)', 'Evol-Instruct-GPT4-Turbo', 'FigureQA(MathV360K)', 'GEOS(MathV360K)', 'GeoQA+(MathV360K)', 'Geometry3K(MathV360K)', 'IconQA(MathV360K)', 'MapQA(MathV360K)', 'MathV360K_TQA', 'MathV360K_VQA-AS', 'MathV360K_VQA-RAD', 'PMC-VQA(MathV360K)', 'Super-CLEVR(MathV360K)', 'TabMWP(MathV360K)', 'UniGeo(MathV360K)', 'VisualWebInstruct(filtered)', 'VizWiz(MathV360K)', 'ai2d(cauldron,llava_format)', 'ai2d(gpt4v)', 'ai2d(internvl)', 'allava_instruct_laion4v', 'allava_instruct_vflan4v', 'aokvqa(cauldron,llava_format)', 'chart2text(cauldron)', 'chartqa(cauldron,llava_format)', 'chrome_writting', 'clevr(cauldron,llava_format)', 'diagram_image_to_text(cauldron)', 'dvqa(cauldron,llava_format)', 'figureqa(cauldron,llava_format)', 'geo170k(align)', 'geo170k(qa)', 'geo3k', 'geomverse(cauldron)', 'hateful_memes(cauldron,llava_format)', 'hitab(cauldron,llava_format)', 'hme100k', 'iam(cauldron)', 'iconqa(cauldron,llava_format)', 'iiit5k', 'image_textualization(filtered)', 'infographic(gpt4v)', 'infographic_vqa', 'infographic_vqa_llava_format', 'intergps(cauldron,llava_format)', 'k12_printing', 'llava_wild_4v_12k_filtered', 'llava_wild_4v_39k_filtered', 'llavar_gpt4_20k', 'lrv_chart', 'lrv_normal(filtered)', 'magpie_pro(l3_80b_mt)', 'magpie_pro(l3_80b_st)', 'magpie_pro(qwen2_72b_st)', 'mapqa(cauldron,llava_format)', 'mathqa', 'mavis_math_metagen', 'mavis_math_rule_geo', 'multihiertt(cauldron)', 'orand_car_a', 'raven(cauldron)', 'rendered_text(cauldron)', 'robut_sqa(cauldron)', 'robut_wikisql(cauldron)', 'robut_wtq(cauldron,llava_format)', 'scienceqa(cauldron,llava_format)', 'scienceqa(nona_context)', 'screen2words(cauldron)', 'sharegpt4o', 'sharegpt4v(coco)', 'sharegpt4v(knowledge)', 'sharegpt4v(llava)', 'sharegpt4v(sam)', 'sroie', 'st_vqa(cauldron,llava_format)', 'tabmwp(cauldron)', 'tallyqa(cauldron,llava_format)', 'textcaps', 'textocr(gpt4v)', 'tqa(cauldron,llava_format)', 'ureader_cap', 'ureader_ie', 'vision_flan(filtered)', 'vistext(cauldron)', 'visual7w(cauldron,llava_format)', 'visualmrc(cauldron)', 'vqarad(cauldron,llava_format)', 'vsr(cauldron,llava_format)', 'websight(cauldron)']\n",
      "Example of usage:\n",
      "\t`load_dataset('lmms-lab/LLaVA-OneVision-Data', 'CLEVR-Math(MathV360K)')`\n",
      "✅ Loaded 353 texts from mixed datasets\n",
      "Sample texts: ['This is a photo of a worm.', 'A photo of a red apple on a white background.', 'An image showing a boy.']\n",
      "\n",
      "🔬 Research Configuration:\n",
      "   Model 1 (LLM): google/gemma-2-2b\n",
      "   Model 2 (VLM): google/paligemma2-3b-pt-224\n",
      "   Layers to analyze: [4, 8, 12, 16, 20, 24]\n",
      "   SAE Configuration: 2b-16k-canonical\n",
      "   Device: cuda\n",
      "   Total texts: 353\n",
      "\n",
      "🚀 Starting Layer Sweep Analysis...\n",
      "🚀 Starting Layer Sweep Analysis\n",
      "   Model 1: google/gemma-2-2b\n",
      "   Model 2: google/paligemma2-3b-pt-224\n",
      "   Layers: [4, 8, 12, 16, 20, 24]\n",
      "   Texts: 353 samples\n",
      "   Memory: 0.00GB\n"
     ]
    },
    {
     "name": "stderr",
     "output_type": "stream",
     "text": [
      "Processing layers:   0%|          | 0/6 [00:00<?, ?it/s]"
     ]
    },
    {
     "name": "stdout",
     "output_type": "stream",
     "text": [
      "\n",
      "📊 Processing Layer 4\n",
      "   📥 Loading SAE Layer 4: layer_4/width_16k/canonical\n"
     ]
    },
    {
     "name": "stderr",
     "output_type": "stream",
     "text": [
      "\n",
      "Layer 4 texts:   0%|          | 0/100 [00:00<?, ?it/s]\u001b[A"
     ]
    },
    {
     "name": "stdout",
     "output_type": "stream",
     "text": [
      "📥 Loading model: google/gemma-2-2b\n"
     ]
    },
    {
     "name": "stderr",
     "output_type": "stream",
     "text": [
      "\n",
      "\n",
      "Loading checkpoint shards: 100%|██████████| 3/3 [00:00<00:00, 55.65it/s]\n"
     ]
    },
    {
     "name": "stdout",
     "output_type": "stream",
     "text": [
      "📥 Loading model: google/paligemma2-3b-pt-224\n"
     ]
    },
    {
     "name": "stderr",
     "output_type": "stream",
     "text": [
      "\n",
      "\n",
      "Loading checkpoint shards:   0%|          | 0/2 [00:00<?, ?it/s]\u001b[A\u001b[A\n",
      "\n",
      "Loading checkpoint shards:  50%|█████     | 1/2 [00:01<00:01,  1.14s/it]\u001b[A\u001b[A\n",
      "\n",
      "Loading checkpoint shards: 100%|██████████| 2/2 [00:01<00:00,  1.51it/s]\u001b[A\u001b[A\n",
      "\n",
      "Layer 4 texts:   1%|          | 1/100 [00:13<22:21, 13.55s/it]\u001b[A"
     ]
    },
    {
     "name": "stdout",
     "output_type": "stream",
     "text": [
      "⚠️  No logits available for google/paligemma2-3b-pt-224, using zero loss\n",
      "📥 Loading model: google/gemma-2-2b\n"
     ]
    },
    {
     "name": "stderr",
     "output_type": "stream",
     "text": [
      "\n",
      "\n",
      "Loading checkpoint shards: 100%|██████████| 3/3 [00:00<00:00, 52.09it/s]\n"
     ]
    },
    {
     "name": "stdout",
     "output_type": "stream",
     "text": [
      "📥 Loading model: google/paligemma2-3b-pt-224\n"
     ]
    },
    {
     "name": "stderr",
     "output_type": "stream",
     "text": [
      "\n",
      "\n",
      "Loading checkpoint shards:   0%|          | 0/2 [00:00<?, ?it/s]\u001b[A\u001b[A\n",
      "\n",
      "Loading checkpoint shards:  50%|█████     | 1/2 [00:01<00:01,  1.07s/it]\u001b[A\u001b[A\n",
      "\n",
      "Loading checkpoint shards: 100%|██████████| 2/2 [00:01<00:00,  1.57it/s]\u001b[A\u001b[A\n",
      "\n",
      "Layer 4 texts:   2%|▏         | 2/100 [00:25<20:54, 12.80s/it]\u001b[A"
     ]
    },
    {
     "name": "stdout",
     "output_type": "stream",
     "text": [
      "⚠️  No logits available for google/paligemma2-3b-pt-224, using zero loss\n",
      "📥 Loading model: google/gemma-2-2b\n"
     ]
    },
    {
     "name": "stderr",
     "output_type": "stream",
     "text": [
      "\n",
      "\n",
      "Loading checkpoint shards: 100%|██████████| 3/3 [00:00<00:00, 59.27it/s]\n"
     ]
    },
    {
     "name": "stdout",
     "output_type": "stream",
     "text": [
      "📥 Loading model: google/paligemma2-3b-pt-224\n"
     ]
    },
    {
     "name": "stderr",
     "output_type": "stream",
     "text": [
      "\n",
      "\n",
      "Loading checkpoint shards:   0%|          | 0/2 [00:00<?, ?it/s]\u001b[A\u001b[A\n",
      "\n",
      "Loading checkpoint shards:  50%|█████     | 1/2 [00:01<00:01,  1.37s/it]\u001b[A\u001b[A\n",
      "\n",
      "Loading checkpoint shards: 100%|██████████| 2/2 [00:01<00:00,  1.27it/s]\u001b[A\u001b[A\n",
      "\n",
      "Layer 4 texts:   3%|▎         | 3/100 [00:38<20:44, 12.83s/it]\u001b[A"
     ]
    },
    {
     "name": "stdout",
     "output_type": "stream",
     "text": [
      "⚠️  No logits available for google/paligemma2-3b-pt-224, using zero loss\n",
      "📥 Loading model: google/gemma-2-2b\n"
     ]
    },
    {
     "name": "stderr",
     "output_type": "stream",
     "text": [
      "\n",
      "\n",
      "Loading checkpoint shards: 100%|██████████| 3/3 [00:00<00:00, 62.62it/s]\n"
     ]
    },
    {
     "name": "stdout",
     "output_type": "stream",
     "text": [
      "📥 Loading model: google/paligemma2-3b-pt-224\n"
     ]
    },
    {
     "name": "stderr",
     "output_type": "stream",
     "text": [
      "\n",
      "\n",
      "Loading checkpoint shards:   0%|          | 0/2 [00:00<?, ?it/s]\u001b[A\u001b[A\n",
      "\n",
      "Loading checkpoint shards:  50%|█████     | 1/2 [00:01<00:01,  1.35s/it]\u001b[A\u001b[A\n",
      "\n",
      "Loading checkpoint shards: 100%|██████████| 2/2 [00:01<00:00,  1.29it/s]\u001b[A\u001b[A\n",
      "\n",
      "Layer 4 texts:   4%|▍         | 4/100 [00:51<20:24, 12.76s/it]\u001b[A"
     ]
    },
    {
     "name": "stdout",
     "output_type": "stream",
     "text": [
      "⚠️  No logits available for google/paligemma2-3b-pt-224, using zero loss\n",
      "📥 Loading model: google/gemma-2-2b\n"
     ]
    },
    {
     "name": "stderr",
     "output_type": "stream",
     "text": [
      "\n",
      "\n",
      "Loading checkpoint shards: 100%|██████████| 3/3 [00:00<00:00, 63.39it/s]\n"
     ]
    },
    {
     "name": "stdout",
     "output_type": "stream",
     "text": [
      "📥 Loading model: google/paligemma2-3b-pt-224\n"
     ]
    },
    {
     "name": "stderr",
     "output_type": "stream",
     "text": [
      "\n",
      "\n",
      "Loading checkpoint shards:   0%|          | 0/2 [00:00<?, ?it/s]\u001b[A\u001b[A\n",
      "\n",
      "Loading checkpoint shards:  50%|█████     | 1/2 [00:00<00:00,  1.01it/s]\u001b[A\u001b[A\n",
      "\n",
      "Loading checkpoint shards: 100%|██████████| 2/2 [00:01<00:00,  1.45it/s]\u001b[A\u001b[A\n",
      "\n",
      "Layer 4 texts:   5%|▌         | 5/100 [01:03<19:56, 12.59s/it]\u001b[A"
     ]
    },
    {
     "name": "stdout",
     "output_type": "stream",
     "text": [
      "⚠️  No logits available for google/paligemma2-3b-pt-224, using zero loss\n",
      "📥 Loading model: google/gemma-2-2b\n"
     ]
    },
    {
     "name": "stderr",
     "output_type": "stream",
     "text": [
      "\n",
      "\n",
      "Loading checkpoint shards: 100%|██████████| 3/3 [00:00<00:00, 62.43it/s]\n"
     ]
    },
    {
     "name": "stdout",
     "output_type": "stream",
     "text": [
      "📥 Loading model: google/paligemma2-3b-pt-224\n"
     ]
    },
    {
     "name": "stderr",
     "output_type": "stream",
     "text": [
      "\n",
      "\n",
      "Loading checkpoint shards:   0%|          | 0/2 [00:00<?, ?it/s]\u001b[A\u001b[A\n",
      "\n",
      "Loading checkpoint shards:  50%|█████     | 1/2 [00:01<00:01,  1.05s/it]\u001b[A\u001b[A\n",
      "\n",
      "Loading checkpoint shards: 100%|██████████| 2/2 [00:01<00:00,  1.63it/s]\u001b[A\u001b[A\n",
      "\n",
      "Layer 4 texts:   6%|▌         | 6/100 [01:16<19:43, 12.59s/it]\u001b[A"
     ]
    },
    {
     "name": "stdout",
     "output_type": "stream",
     "text": [
      "⚠️  No logits available for google/paligemma2-3b-pt-224, using zero loss\n",
      "📥 Loading model: google/gemma-2-2b\n"
     ]
    },
    {
     "name": "stderr",
     "output_type": "stream",
     "text": [
      "\n",
      "\n",
      "Loading checkpoint shards: 100%|██████████| 3/3 [00:00<00:00, 62.50it/s]\n"
     ]
    },
    {
     "name": "stdout",
     "output_type": "stream",
     "text": [
      "📥 Loading model: google/paligemma2-3b-pt-224\n"
     ]
    },
    {
     "name": "stderr",
     "output_type": "stream",
     "text": [
      "\n",
      "\n",
      "Loading checkpoint shards:   0%|          | 0/2 [00:00<?, ?it/s]\u001b[A\u001b[A\n",
      "\n",
      "Loading checkpoint shards:  50%|█████     | 1/2 [00:00<00:00,  1.03it/s]\u001b[A\u001b[A\n",
      "\n",
      "Loading checkpoint shards: 100%|██████████| 2/2 [00:01<00:00,  1.74it/s]\u001b[A\u001b[A\n",
      "\n",
      "Layer 4 texts:   7%|▋         | 7/100 [01:28<19:23, 12.52s/it]\u001b[A"
     ]
    },
    {
     "name": "stdout",
     "output_type": "stream",
     "text": [
      "⚠️  No logits available for google/paligemma2-3b-pt-224, using zero loss\n",
      "📥 Loading model: google/gemma-2-2b\n"
     ]
    },
    {
     "name": "stderr",
     "output_type": "stream",
     "text": [
      "\n",
      "\n",
      "Loading checkpoint shards: 100%|██████████| 3/3 [00:00<00:00, 60.81it/s]\n"
     ]
    },
    {
     "name": "stdout",
     "output_type": "stream",
     "text": [
      "📥 Loading model: google/paligemma2-3b-pt-224\n"
     ]
    },
    {
     "name": "stderr",
     "output_type": "stream",
     "text": [
      "\n",
      "\n",
      "Loading checkpoint shards:   0%|          | 0/2 [00:00<?, ?it/s]\u001b[A\u001b[A\n",
      "\n",
      "Loading checkpoint shards:  50%|█████     | 1/2 [00:00<00:00,  1.08it/s]\u001b[A\u001b[A\n",
      "\n",
      "Loading checkpoint shards: 100%|██████████| 2/2 [00:01<00:00,  1.80it/s]\u001b[A\u001b[A\n",
      "\n",
      "Layer 4 texts:   8%|▊         | 8/100 [01:41<19:14, 12.54s/it]\u001b[A"
     ]
    },
    {
     "name": "stdout",
     "output_type": "stream",
     "text": [
      "⚠️  No logits available for google/paligemma2-3b-pt-224, using zero loss\n",
      "📥 Loading model: google/gemma-2-2b\n"
     ]
    },
    {
     "name": "stderr",
     "output_type": "stream",
     "text": [
      "\n",
      "\n",
      "Loading checkpoint shards: 100%|██████████| 3/3 [00:00<00:00, 62.65it/s]\n"
     ]
    },
    {
     "name": "stdout",
     "output_type": "stream",
     "text": [
      "📥 Loading model: google/paligemma2-3b-pt-224\n"
     ]
    },
    {
     "name": "stderr",
     "output_type": "stream",
     "text": [
      "\n",
      "\n",
      "Loading checkpoint shards:   0%|          | 0/2 [00:00<?, ?it/s]\u001b[A\u001b[A\n",
      "\n",
      "Loading checkpoint shards:  50%|█████     | 1/2 [00:00<00:00,  1.07it/s]\u001b[A\u001b[A\n",
      "\n",
      "Loading checkpoint shards: 100%|██████████| 2/2 [00:01<00:00,  1.80it/s]\u001b[A\u001b[A\n",
      "\n",
      "Layer 4 texts:   9%|▉         | 9/100 [01:53<18:47, 12.39s/it]\u001b[A"
     ]
    },
    {
     "name": "stdout",
     "output_type": "stream",
     "text": [
      "⚠️  No logits available for google/paligemma2-3b-pt-224, using zero loss\n",
      "📥 Loading model: google/gemma-2-2b\n"
     ]
    },
    {
     "name": "stderr",
     "output_type": "stream",
     "text": [
      "\n",
      "\n",
      "Loading checkpoint shards: 100%|██████████| 3/3 [00:00<00:00, 60.59it/s]\n"
     ]
    },
    {
     "name": "stdout",
     "output_type": "stream",
     "text": [
      "📥 Loading model: google/paligemma2-3b-pt-224\n"
     ]
    },
    {
     "name": "stderr",
     "output_type": "stream",
     "text": [
      "\n",
      "\n",
      "Loading checkpoint shards:   0%|          | 0/2 [00:00<?, ?it/s]\u001b[A\u001b[A\n",
      "\n",
      "Loading checkpoint shards:  50%|█████     | 1/2 [00:00<00:00,  1.17it/s]\u001b[A\u001b[A\n",
      "\n",
      "Loading checkpoint shards: 100%|██████████| 2/2 [00:01<00:00,  1.96it/s]\u001b[A\u001b[A\n",
      "\n",
      "Layer 4 texts:  10%|█         | 10/100 [02:05<18:33, 12.37s/it]\u001b[A"
     ]
    },
    {
     "name": "stdout",
     "output_type": "stream",
     "text": [
      "⚠️  No logits available for google/paligemma2-3b-pt-224, using zero loss\n",
      "📥 Loading model: google/gemma-2-2b\n"
     ]
    },
    {
     "name": "stderr",
     "output_type": "stream",
     "text": [
      "\n",
      "\n",
      "Loading checkpoint shards: 100%|██████████| 3/3 [00:00<00:00, 59.69it/s]\n"
     ]
    },
    {
     "name": "stdout",
     "output_type": "stream",
     "text": [
      "📥 Loading model: google/paligemma2-3b-pt-224\n"
     ]
    },
    {
     "name": "stderr",
     "output_type": "stream",
     "text": [
      "\n",
      "\n",
      "Loading checkpoint shards:   0%|          | 0/2 [00:00<?, ?it/s]\u001b[A\u001b[A\n",
      "\n",
      "Loading checkpoint shards:  50%|█████     | 1/2 [00:00<00:00,  1.22it/s]\u001b[A\u001b[A\n",
      "\n",
      "Loading checkpoint shards: 100%|██████████| 2/2 [00:01<00:00,  1.96it/s]\u001b[A\u001b[A\n",
      "\n",
      "Layer 4 texts:  11%|█         | 11/100 [02:17<18:15, 12.31s/it]\u001b[A"
     ]
    },
    {
     "name": "stdout",
     "output_type": "stream",
     "text": [
      "⚠️  No logits available for google/paligemma2-3b-pt-224, using zero loss\n",
      "📥 Loading model: google/gemma-2-2b\n"
     ]
    },
    {
     "name": "stderr",
     "output_type": "stream",
     "text": [
      "\n",
      "\n",
      "Loading checkpoint shards: 100%|██████████| 3/3 [00:00<00:00, 61.81it/s]\n"
     ]
    },
    {
     "name": "stdout",
     "output_type": "stream",
     "text": [
      "📥 Loading model: google/paligemma2-3b-pt-224\n"
     ]
    },
    {
     "name": "stderr",
     "output_type": "stream",
     "text": [
      "\n",
      "\n",
      "Loading checkpoint shards:   0%|          | 0/2 [00:00<?, ?it/s]\u001b[A\u001b[A\n",
      "\n",
      "Loading checkpoint shards:  50%|█████     | 1/2 [00:00<00:00,  1.07it/s]\u001b[A\u001b[A\n",
      "\n",
      "Loading checkpoint shards: 100%|██████████| 2/2 [00:01<00:00,  1.80it/s]\u001b[A\u001b[A\n",
      "\n",
      "Layer 4 texts:  12%|█▏        | 12/100 [02:29<17:48, 12.14s/it]\u001b[A"
     ]
    },
    {
     "name": "stdout",
     "output_type": "stream",
     "text": [
      "⚠️  No logits available for google/paligemma2-3b-pt-224, using zero loss\n",
      "📥 Loading model: google/gemma-2-2b\n"
     ]
    },
    {
     "name": "stderr",
     "output_type": "stream",
     "text": [
      "\n",
      "\n",
      "Loading checkpoint shards: 100%|██████████| 3/3 [00:00<00:00, 63.13it/s]\n"
     ]
    },
    {
     "name": "stdout",
     "output_type": "stream",
     "text": [
      "📥 Loading model: google/paligemma2-3b-pt-224\n"
     ]
    },
    {
     "name": "stderr",
     "output_type": "stream",
     "text": [
      "\n",
      "\n",
      "Loading checkpoint shards:   0%|          | 0/2 [00:00<?, ?it/s]\u001b[A\u001b[A\n",
      "\n",
      "Loading checkpoint shards:  50%|█████     | 1/2 [00:00<00:00,  1.08it/s]\u001b[A\u001b[A\n",
      "\n",
      "Loading checkpoint shards: 100%|██████████| 2/2 [00:01<00:00,  1.61it/s]\u001b[A\u001b[A\n",
      "\n",
      "Layer 4 texts:  13%|█▎        | 13/100 [02:41<17:30, 12.08s/it]\u001b[A"
     ]
    },
    {
     "name": "stdout",
     "output_type": "stream",
     "text": [
      "⚠️  No logits available for google/paligemma2-3b-pt-224, using zero loss\n",
      "📥 Loading model: google/gemma-2-2b\n"
     ]
    },
    {
     "name": "stderr",
     "output_type": "stream",
     "text": [
      "\n",
      "\n",
      "Loading checkpoint shards: 100%|██████████| 3/3 [00:00<00:00, 60.34it/s]\n"
     ]
    },
    {
     "name": "stdout",
     "output_type": "stream",
     "text": [
      "📥 Loading model: google/paligemma2-3b-pt-224\n"
     ]
    },
    {
     "name": "stderr",
     "output_type": "stream",
     "text": [
      "\n",
      "\n",
      "Loading checkpoint shards:   0%|          | 0/2 [00:00<?, ?it/s]\u001b[A\u001b[A\n",
      "\n",
      "Loading checkpoint shards:  50%|█████     | 1/2 [00:00<00:00,  1.14it/s]\u001b[A\u001b[A\n",
      "\n",
      "Loading checkpoint shards: 100%|██████████| 2/2 [00:01<00:00,  1.90it/s]\u001b[A\u001b[A\n",
      "\n",
      "Layer 4 texts:  14%|█▍        | 14/100 [02:53<17:13, 12.02s/it]\u001b[A"
     ]
    },
    {
     "name": "stdout",
     "output_type": "stream",
     "text": [
      "⚠️  No logits available for google/paligemma2-3b-pt-224, using zero loss\n",
      "📥 Loading model: google/gemma-2-2b\n"
     ]
    },
    {
     "name": "stderr",
     "output_type": "stream",
     "text": [
      "\n",
      "\n",
      "Loading checkpoint shards: 100%|██████████| 3/3 [00:00<00:00, 60.29it/s]\n"
     ]
    },
    {
     "name": "stdout",
     "output_type": "stream",
     "text": [
      "📥 Loading model: google/paligemma2-3b-pt-224\n"
     ]
    },
    {
     "name": "stderr",
     "output_type": "stream",
     "text": [
      "\n",
      "\n",
      "Loading checkpoint shards:   0%|          | 0/2 [00:00<?, ?it/s]\u001b[A\u001b[A\n",
      "\n",
      "Loading checkpoint shards:  50%|█████     | 1/2 [00:00<00:00,  1.22it/s]\u001b[A\u001b[A\n",
      "\n",
      "Loading checkpoint shards: 100%|██████████| 2/2 [00:00<00:00,  2.01it/s]\u001b[A\u001b[A\n",
      "\n",
      "Layer 4 texts:  15%|█▌        | 15/100 [03:05<17:00, 12.01s/it]\u001b[A"
     ]
    },
    {
     "name": "stdout",
     "output_type": "stream",
     "text": [
      "⚠️  No logits available for google/paligemma2-3b-pt-224, using zero loss\n",
      "📥 Loading model: google/gemma-2-2b\n"
     ]
    },
    {
     "name": "stderr",
     "output_type": "stream",
     "text": [
      "\n",
      "\n",
      "Loading checkpoint shards: 100%|██████████| 3/3 [00:00<00:00, 63.85it/s]\n"
     ]
    },
    {
     "name": "stdout",
     "output_type": "stream",
     "text": [
      "📥 Loading model: google/paligemma2-3b-pt-224\n"
     ]
    },
    {
     "name": "stderr",
     "output_type": "stream",
     "text": [
      "\n",
      "\n",
      "Loading checkpoint shards:   0%|          | 0/2 [00:00<?, ?it/s]\u001b[A\u001b[A\n",
      "\n",
      "Loading checkpoint shards:  50%|█████     | 1/2 [00:00<00:00,  1.25it/s]\u001b[A\u001b[A\n",
      "\n",
      "Loading checkpoint shards: 100%|██████████| 2/2 [00:00<00:00,  2.06it/s]\u001b[A\u001b[A\n",
      "\n",
      "Layer 4 texts:  16%|█▌        | 16/100 [03:17<16:41, 11.92s/it]\u001b[A"
     ]
    },
    {
     "name": "stdout",
     "output_type": "stream",
     "text": [
      "⚠️  No logits available for google/paligemma2-3b-pt-224, using zero loss\n",
      "📥 Loading model: google/gemma-2-2b\n"
     ]
    },
    {
     "name": "stderr",
     "output_type": "stream",
     "text": [
      "\n",
      "\n",
      "Loading checkpoint shards: 100%|██████████| 3/3 [00:00<00:00, 60.64it/s]\n"
     ]
    },
    {
     "name": "stdout",
     "output_type": "stream",
     "text": [
      "📥 Loading model: google/paligemma2-3b-pt-224\n"
     ]
    },
    {
     "name": "stderr",
     "output_type": "stream",
     "text": [
      "\n",
      "\n",
      "Loading checkpoint shards:   0%|          | 0/2 [00:00<?, ?it/s]\u001b[A\u001b[A\n",
      "\n",
      "Loading checkpoint shards:  50%|█████     | 1/2 [00:00<00:00,  1.28it/s]\u001b[A\u001b[A\n",
      "\n",
      "Loading checkpoint shards: 100%|██████████| 2/2 [00:00<00:00,  2.10it/s]\u001b[A\u001b[A\n",
      "\n",
      "Layer 4 texts:  17%|█▋        | 17/100 [03:29<16:31, 11.95s/it]\u001b[A"
     ]
    },
    {
     "name": "stdout",
     "output_type": "stream",
     "text": [
      "⚠️  No logits available for google/paligemma2-3b-pt-224, using zero loss\n",
      "📥 Loading model: google/gemma-2-2b\n"
     ]
    },
    {
     "name": "stderr",
     "output_type": "stream",
     "text": [
      "\n",
      "\n",
      "Loading checkpoint shards: 100%|██████████| 3/3 [00:00<00:00, 62.04it/s]\n"
     ]
    },
    {
     "name": "stdout",
     "output_type": "stream",
     "text": [
      "📥 Loading model: google/paligemma2-3b-pt-224\n"
     ]
    },
    {
     "name": "stderr",
     "output_type": "stream",
     "text": [
      "\n",
      "\n",
      "Loading checkpoint shards:   0%|          | 0/2 [00:00<?, ?it/s]\u001b[A\u001b[A\n",
      "\n",
      "Loading checkpoint shards:  50%|█████     | 1/2 [00:00<00:00,  1.17it/s]\u001b[A\u001b[A\n",
      "\n",
      "Loading checkpoint shards: 100%|██████████| 2/2 [00:01<00:00,  1.93it/s]\u001b[A\u001b[A\n",
      "\n",
      "Layer 4 texts:  18%|█▊        | 18/100 [03:41<16:30, 12.08s/it]\u001b[A"
     ]
    },
    {
     "name": "stdout",
     "output_type": "stream",
     "text": [
      "⚠️  No logits available for google/paligemma2-3b-pt-224, using zero loss\n",
      "📥 Loading model: google/gemma-2-2b\n"
     ]
    },
    {
     "name": "stderr",
     "output_type": "stream",
     "text": [
      "\n",
      "\n",
      "Loading checkpoint shards: 100%|██████████| 3/3 [00:00<00:00, 60.21it/s]\n"
     ]
    },
    {
     "name": "stdout",
     "output_type": "stream",
     "text": [
      "📥 Loading model: google/paligemma2-3b-pt-224\n"
     ]
    },
    {
     "name": "stderr",
     "output_type": "stream",
     "text": [
      "\n",
      "\n",
      "Loading checkpoint shards:   0%|          | 0/2 [00:00<?, ?it/s]\u001b[A\u001b[A\n",
      "\n",
      "Loading checkpoint shards:  50%|█████     | 1/2 [00:00<00:00,  1.19it/s]\u001b[A\u001b[A\n",
      "\n",
      "Loading checkpoint shards: 100%|██████████| 2/2 [00:01<00:00,  1.96it/s]\u001b[A\u001b[A\n",
      "\n",
      "Layer 4 texts:  19%|█▉        | 19/100 [03:53<16:24, 12.15s/it]\u001b[A"
     ]
    },
    {
     "name": "stdout",
     "output_type": "stream",
     "text": [
      "⚠️  No logits available for google/paligemma2-3b-pt-224, using zero loss\n",
      "📥 Loading model: google/gemma-2-2b\n"
     ]
    },
    {
     "name": "stderr",
     "output_type": "stream",
     "text": [
      "\n",
      "\n",
      "Loading checkpoint shards: 100%|██████████| 3/3 [00:00<00:00, 55.66it/s]\n"
     ]
    },
    {
     "name": "stdout",
     "output_type": "stream",
     "text": [
      "📥 Loading model: google/paligemma2-3b-pt-224\n"
     ]
    },
    {
     "name": "stderr",
     "output_type": "stream",
     "text": [
      "\n",
      "\n",
      "Loading checkpoint shards:   0%|          | 0/2 [00:00<?, ?it/s]\u001b[A\u001b[A\n",
      "\n",
      "Loading checkpoint shards:  50%|█████     | 1/2 [00:00<00:00,  1.15it/s]\u001b[A\u001b[A\n",
      "\n",
      "Loading checkpoint shards: 100%|██████████| 2/2 [00:01<00:00,  1.90it/s]\u001b[A\u001b[A\n",
      "\n",
      "Layer 4 texts:  20%|██        | 20/100 [04:05<16:09, 12.12s/it]\u001b[A"
     ]
    },
    {
     "name": "stdout",
     "output_type": "stream",
     "text": [
      "⚠️  No logits available for google/paligemma2-3b-pt-224, using zero loss\n",
      "📥 Loading model: google/gemma-2-2b\n"
     ]
    },
    {
     "name": "stderr",
     "output_type": "stream",
     "text": [
      "\n",
      "\n",
      "Loading checkpoint shards: 100%|██████████| 3/3 [00:00<00:00, 56.51it/s]\n"
     ]
    },
    {
     "name": "stdout",
     "output_type": "stream",
     "text": [
      "📥 Loading model: google/paligemma2-3b-pt-224\n"
     ]
    },
    {
     "name": "stderr",
     "output_type": "stream",
     "text": [
      "\n",
      "\n",
      "Loading checkpoint shards:   0%|          | 0/2 [00:00<?, ?it/s]\u001b[A\u001b[A\n",
      "\n",
      "Loading checkpoint shards:  50%|█████     | 1/2 [00:01<00:01,  1.10s/it]\u001b[A\u001b[A\n",
      "\n",
      "Loading checkpoint shards: 100%|██████████| 2/2 [00:01<00:00,  1.56it/s]\u001b[A\u001b[A\n",
      "\n",
      "Layer 4 texts:  21%|██        | 21/100 [04:18<16:05, 12.22s/it]\u001b[A"
     ]
    },
    {
     "name": "stdout",
     "output_type": "stream",
     "text": [
      "⚠️  No logits available for google/paligemma2-3b-pt-224, using zero loss\n",
      "📥 Loading model: google/gemma-2-2b\n"
     ]
    },
    {
     "name": "stderr",
     "output_type": "stream",
     "text": [
      "\n",
      "\n",
      "Loading checkpoint shards: 100%|██████████| 3/3 [00:00<00:00, 61.12it/s]\n"
     ]
    },
    {
     "name": "stdout",
     "output_type": "stream",
     "text": [
      "📥 Loading model: google/paligemma2-3b-pt-224\n"
     ]
    },
    {
     "name": "stderr",
     "output_type": "stream",
     "text": [
      "\n",
      "\n",
      "Loading checkpoint shards:   0%|          | 0/2 [00:00<?, ?it/s]\u001b[A\u001b[A\n",
      "\n",
      "Loading checkpoint shards:  50%|█████     | 1/2 [00:00<00:00,  1.00it/s]\u001b[A\u001b[A\n",
      "\n",
      "Loading checkpoint shards: 100%|██████████| 2/2 [00:01<00:00,  1.70it/s]\u001b[A\u001b[A\n",
      "\n",
      "Layer 4 texts:  22%|██▏       | 22/100 [04:30<15:47, 12.15s/it]\u001b[A"
     ]
    },
    {
     "name": "stdout",
     "output_type": "stream",
     "text": [
      "⚠️  No logits available for google/paligemma2-3b-pt-224, using zero loss\n",
      "📥 Loading model: google/gemma-2-2b\n"
     ]
    },
    {
     "name": "stderr",
     "output_type": "stream",
     "text": [
      "\n",
      "\n",
      "Loading checkpoint shards: 100%|██████████| 3/3 [00:00<00:00, 56.25it/s]\n"
     ]
    },
    {
     "name": "stdout",
     "output_type": "stream",
     "text": [
      "📥 Loading model: google/paligemma2-3b-pt-224\n"
     ]
    },
    {
     "name": "stderr",
     "output_type": "stream",
     "text": [
      "\n",
      "\n",
      "Loading checkpoint shards:   0%|          | 0/2 [00:00<?, ?it/s]\u001b[A\u001b[A\n",
      "\n",
      "Loading checkpoint shards:  50%|█████     | 1/2 [00:00<00:00,  1.17it/s]\u001b[A\u001b[A\n",
      "\n",
      "Loading checkpoint shards: 100%|██████████| 2/2 [00:01<00:00,  1.92it/s]\u001b[A\u001b[A\n",
      "\n",
      "Layer 4 texts:  23%|██▎       | 23/100 [04:42<15:29, 12.08s/it]\u001b[A"
     ]
    },
    {
     "name": "stdout",
     "output_type": "stream",
     "text": [
      "⚠️  No logits available for google/paligemma2-3b-pt-224, using zero loss\n",
      "📥 Loading model: google/gemma-2-2b\n"
     ]
    },
    {
     "name": "stderr",
     "output_type": "stream",
     "text": [
      "\n",
      "\n",
      "Loading checkpoint shards: 100%|██████████| 3/3 [00:00<00:00, 60.23it/s]\n"
     ]
    },
    {
     "name": "stdout",
     "output_type": "stream",
     "text": [
      "📥 Loading model: google/paligemma2-3b-pt-224\n"
     ]
    },
    {
     "name": "stderr",
     "output_type": "stream",
     "text": [
      "\n",
      "\n",
      "Loading checkpoint shards:   0%|          | 0/2 [00:00<?, ?it/s]\u001b[A\u001b[A\n",
      "\n",
      "Loading checkpoint shards:  50%|█████     | 1/2 [00:00<00:00,  1.24it/s]\u001b[A\u001b[A\n",
      "\n",
      "Loading checkpoint shards: 100%|██████████| 2/2 [00:00<00:00,  2.01it/s]\u001b[A\u001b[A\n",
      "\n",
      "Layer 4 texts:  24%|██▍       | 24/100 [04:54<15:21, 12.13s/it]\u001b[A"
     ]
    },
    {
     "name": "stdout",
     "output_type": "stream",
     "text": [
      "⚠️  No logits available for google/paligemma2-3b-pt-224, using zero loss\n",
      "📥 Loading model: google/gemma-2-2b\n"
     ]
    },
    {
     "name": "stderr",
     "output_type": "stream",
     "text": [
      "\n",
      "\n",
      "Loading checkpoint shards: 100%|██████████| 3/3 [00:00<00:00, 60.46it/s]\n"
     ]
    },
    {
     "name": "stdout",
     "output_type": "stream",
     "text": [
      "📥 Loading model: google/paligemma2-3b-pt-224\n"
     ]
    },
    {
     "name": "stderr",
     "output_type": "stream",
     "text": [
      "\n",
      "\n",
      "Loading checkpoint shards:   0%|          | 0/2 [00:00<?, ?it/s]\u001b[A\u001b[A\n",
      "\n",
      "Loading checkpoint shards:  50%|█████     | 1/2 [00:00<00:00,  1.26it/s]\u001b[A\u001b[A\n",
      "\n",
      "Loading checkpoint shards: 100%|██████████| 2/2 [00:00<00:00,  2.06it/s]\u001b[A\u001b[A\n",
      "\n",
      "Layer 4 texts:  25%|██▌       | 25/100 [05:06<15:08, 12.11s/it]\u001b[A"
     ]
    },
    {
     "name": "stdout",
     "output_type": "stream",
     "text": [
      "⚠️  No logits available for google/paligemma2-3b-pt-224, using zero loss\n",
      "📥 Loading model: google/gemma-2-2b\n"
     ]
    },
    {
     "name": "stderr",
     "output_type": "stream",
     "text": [
      "\n",
      "\n",
      "Loading checkpoint shards: 100%|██████████| 3/3 [00:00<00:00, 61.57it/s]\n"
     ]
    },
    {
     "name": "stdout",
     "output_type": "stream",
     "text": [
      "📥 Loading model: google/paligemma2-3b-pt-224\n"
     ]
    },
    {
     "name": "stderr",
     "output_type": "stream",
     "text": [
      "\n",
      "\n",
      "Loading checkpoint shards:   0%|          | 0/2 [00:00<?, ?it/s]\u001b[A\u001b[A\n",
      "\n",
      "Loading checkpoint shards:  50%|█████     | 1/2 [00:00<00:00,  1.27it/s]\u001b[A\u001b[A\n",
      "\n",
      "Loading checkpoint shards: 100%|██████████| 2/2 [00:00<00:00,  2.06it/s]\u001b[A\u001b[A\n",
      "\n",
      "Layer 4 texts:  26%|██▌       | 26/100 [05:18<14:52, 12.07s/it]\u001b[A"
     ]
    },
    {
     "name": "stdout",
     "output_type": "stream",
     "text": [
      "⚠️  No logits available for google/paligemma2-3b-pt-224, using zero loss\n",
      "📥 Loading model: google/gemma-2-2b\n"
     ]
    },
    {
     "name": "stderr",
     "output_type": "stream",
     "text": [
      "\n",
      "\n",
      "Loading checkpoint shards: 100%|██████████| 3/3 [00:00<00:00, 58.81it/s]\n"
     ]
    },
    {
     "name": "stdout",
     "output_type": "stream",
     "text": [
      "📥 Loading model: google/paligemma2-3b-pt-224\n"
     ]
    },
    {
     "name": "stderr",
     "output_type": "stream",
     "text": [
      "\n",
      "\n",
      "Loading checkpoint shards:   0%|          | 0/2 [00:00<?, ?it/s]\u001b[A\u001b[A\n",
      "\n",
      "Loading checkpoint shards:  50%|█████     | 1/2 [00:00<00:00,  1.21it/s]\u001b[A\u001b[A\n",
      "\n",
      "Loading checkpoint shards: 100%|██████████| 2/2 [00:01<00:00,  2.00it/s]\u001b[A\u001b[A\n",
      "\n",
      "Layer 4 texts:  27%|██▋       | 27/100 [05:30<14:34, 11.98s/it]\u001b[A"
     ]
    },
    {
     "name": "stdout",
     "output_type": "stream",
     "text": [
      "⚠️  No logits available for google/paligemma2-3b-pt-224, using zero loss\n",
      "📥 Loading model: google/gemma-2-2b\n"
     ]
    },
    {
     "name": "stderr",
     "output_type": "stream",
     "text": [
      "\n",
      "\n",
      "Loading checkpoint shards: 100%|██████████| 3/3 [00:00<00:00, 60.49it/s]\n"
     ]
    },
    {
     "name": "stdout",
     "output_type": "stream",
     "text": [
      "📥 Loading model: google/paligemma2-3b-pt-224\n"
     ]
    },
    {
     "name": "stderr",
     "output_type": "stream",
     "text": [
      "\n",
      "\n",
      "Loading checkpoint shards:   0%|          | 0/2 [00:00<?, ?it/s]\u001b[A\u001b[A\n",
      "\n",
      "Loading checkpoint shards:  50%|█████     | 1/2 [00:00<00:00,  1.23it/s]\u001b[A\u001b[A\n",
      "\n",
      "Loading checkpoint shards: 100%|██████████| 2/2 [00:00<00:00,  2.03it/s]\u001b[A\u001b[A\n",
      "\n",
      "Layer 4 texts:  28%|██▊       | 28/100 [05:42<14:27, 12.05s/it]\u001b[A"
     ]
    },
    {
     "name": "stdout",
     "output_type": "stream",
     "text": [
      "⚠️  No logits available for google/paligemma2-3b-pt-224, using zero loss\n",
      "📥 Loading model: google/gemma-2-2b\n"
     ]
    },
    {
     "name": "stderr",
     "output_type": "stream",
     "text": [
      "\n",
      "\n",
      "Loading checkpoint shards: 100%|██████████| 3/3 [00:00<00:00, 61.29it/s]\n"
     ]
    },
    {
     "name": "stdout",
     "output_type": "stream",
     "text": [
      "📥 Loading model: google/paligemma2-3b-pt-224\n"
     ]
    },
    {
     "name": "stderr",
     "output_type": "stream",
     "text": [
      "\n",
      "\n",
      "Loading checkpoint shards:   0%|          | 0/2 [00:00<?, ?it/s]\u001b[A\u001b[A\n",
      "\n",
      "Loading checkpoint shards:  50%|█████     | 1/2 [00:00<00:00,  1.17it/s]\u001b[A\u001b[A\n",
      "\n",
      "Loading checkpoint shards: 100%|██████████| 2/2 [00:01<00:00,  1.58it/s]\u001b[A\u001b[A\n",
      "\n",
      "Layer 4 texts:  29%|██▉       | 29/100 [05:54<14:17, 12.08s/it]\u001b[A"
     ]
    },
    {
     "name": "stdout",
     "output_type": "stream",
     "text": [
      "⚠️  No logits available for google/paligemma2-3b-pt-224, using zero loss\n",
      "📥 Loading model: google/gemma-2-2b\n"
     ]
    },
    {
     "name": "stderr",
     "output_type": "stream",
     "text": [
      "\n",
      "\n",
      "Loading checkpoint shards: 100%|██████████| 3/3 [00:00<00:00, 61.66it/s]\n"
     ]
    },
    {
     "name": "stdout",
     "output_type": "stream",
     "text": [
      "📥 Loading model: google/paligemma2-3b-pt-224\n"
     ]
    },
    {
     "name": "stderr",
     "output_type": "stream",
     "text": [
      "\n",
      "\n",
      "Loading checkpoint shards:   0%|          | 0/2 [00:00<?, ?it/s]\u001b[A\u001b[A\n",
      "\n",
      "Loading checkpoint shards:  50%|█████     | 1/2 [00:00<00:00,  1.25it/s]\u001b[A\u001b[A\n",
      "\n",
      "Loading checkpoint shards: 100%|██████████| 2/2 [00:00<00:00,  2.06it/s]\u001b[A\u001b[A\n",
      "\n",
      "Layer 4 texts:  30%|███       | 30/100 [06:06<14:09, 12.14s/it]\u001b[A"
     ]
    },
    {
     "name": "stdout",
     "output_type": "stream",
     "text": [
      "⚠️  No logits available for google/paligemma2-3b-pt-224, using zero loss\n",
      "📥 Loading model: google/gemma-2-2b\n"
     ]
    },
    {
     "name": "stderr",
     "output_type": "stream",
     "text": [
      "\n",
      "\n",
      "Loading checkpoint shards: 100%|██████████| 3/3 [00:00<00:00, 61.61it/s]\n"
     ]
    },
    {
     "name": "stdout",
     "output_type": "stream",
     "text": [
      "📥 Loading model: google/paligemma2-3b-pt-224\n"
     ]
    },
    {
     "name": "stderr",
     "output_type": "stream",
     "text": [
      "\n",
      "\n",
      "Loading checkpoint shards:   0%|          | 0/2 [00:00<?, ?it/s]\u001b[A\u001b[A\n",
      "\n",
      "Loading checkpoint shards:  50%|█████     | 1/2 [00:00<00:00,  1.21it/s]\u001b[A\u001b[A\n",
      "\n",
      "Loading checkpoint shards: 100%|██████████| 2/2 [00:01<00:00,  1.96it/s]\u001b[A\u001b[A\n",
      "\n",
      "Layer 4 texts:  31%|███       | 31/100 [06:18<13:57, 12.13s/it]\u001b[A"
     ]
    },
    {
     "name": "stdout",
     "output_type": "stream",
     "text": [
      "⚠️  No logits available for google/paligemma2-3b-pt-224, using zero loss\n",
      "📥 Loading model: google/gemma-2-2b\n"
     ]
    },
    {
     "name": "stderr",
     "output_type": "stream",
     "text": [
      "\n",
      "\n",
      "Loading checkpoint shards: 100%|██████████| 3/3 [00:00<00:00, 61.09it/s]\n"
     ]
    },
    {
     "name": "stdout",
     "output_type": "stream",
     "text": [
      "📥 Loading model: google/paligemma2-3b-pt-224\n"
     ]
    },
    {
     "name": "stderr",
     "output_type": "stream",
     "text": [
      "\n",
      "\n",
      "Loading checkpoint shards:   0%|          | 0/2 [00:00<?, ?it/s]\u001b[A\u001b[A\n",
      "\n",
      "Loading checkpoint shards:  50%|█████     | 1/2 [00:00<00:00,  1.21it/s]\u001b[A\u001b[A\n",
      "\n",
      "Loading checkpoint shards: 100%|██████████| 2/2 [00:01<00:00,  1.99it/s]\u001b[A\u001b[A\n",
      "\n",
      "Layer 4 texts:  32%|███▏      | 32/100 [06:31<13:48, 12.19s/it]\u001b[A"
     ]
    },
    {
     "name": "stdout",
     "output_type": "stream",
     "text": [
      "⚠️  No logits available for google/paligemma2-3b-pt-224, using zero loss\n",
      "📥 Loading model: google/gemma-2-2b\n"
     ]
    },
    {
     "name": "stderr",
     "output_type": "stream",
     "text": [
      "\n",
      "\n",
      "Loading checkpoint shards: 100%|██████████| 3/3 [00:00<00:00, 61.89it/s]\n"
     ]
    },
    {
     "name": "stdout",
     "output_type": "stream",
     "text": [
      "📥 Loading model: google/paligemma2-3b-pt-224\n"
     ]
    },
    {
     "name": "stderr",
     "output_type": "stream",
     "text": [
      "\n",
      "\n",
      "Loading checkpoint shards:   0%|          | 0/2 [00:00<?, ?it/s]\u001b[A\u001b[A\n",
      "\n",
      "Loading checkpoint shards:  50%|█████     | 1/2 [00:00<00:00,  1.23it/s]\u001b[A\u001b[A\n",
      "\n",
      "Loading checkpoint shards: 100%|██████████| 2/2 [00:00<00:00,  2.02it/s]\u001b[A\u001b[A\n",
      "\n",
      "Layer 4 texts:  33%|███▎      | 33/100 [06:43<13:39, 12.24s/it]\u001b[A"
     ]
    },
    {
     "name": "stdout",
     "output_type": "stream",
     "text": [
      "⚠️  No logits available for google/paligemma2-3b-pt-224, using zero loss\n",
      "📥 Loading model: google/gemma-2-2b\n"
     ]
    },
    {
     "name": "stderr",
     "output_type": "stream",
     "text": [
      "\n",
      "\n",
      "Loading checkpoint shards: 100%|██████████| 3/3 [00:00<00:00, 59.96it/s]\n"
     ]
    },
    {
     "name": "stdout",
     "output_type": "stream",
     "text": [
      "📥 Loading model: google/paligemma2-3b-pt-224\n"
     ]
    },
    {
     "name": "stderr",
     "output_type": "stream",
     "text": [
      "\n",
      "\n",
      "Loading checkpoint shards:   0%|          | 0/2 [00:00<?, ?it/s]\u001b[A\u001b[A\n",
      "\n",
      "Loading checkpoint shards:  50%|█████     | 1/2 [00:00<00:00,  1.22it/s]\u001b[A\u001b[A\n",
      "\n",
      "Loading checkpoint shards: 100%|██████████| 2/2 [00:01<00:00,  1.97it/s]\u001b[A\u001b[A\n",
      "\n",
      "Layer 4 texts:  34%|███▍      | 34/100 [06:55<13:24, 12.20s/it]\u001b[A"
     ]
    },
    {
     "name": "stdout",
     "output_type": "stream",
     "text": [
      "⚠️  No logits available for google/paligemma2-3b-pt-224, using zero loss\n",
      "📥 Loading model: google/gemma-2-2b\n"
     ]
    },
    {
     "name": "stderr",
     "output_type": "stream",
     "text": [
      "\n",
      "\n",
      "Loading checkpoint shards: 100%|██████████| 3/3 [00:00<00:00, 59.59it/s]\n"
     ]
    },
    {
     "name": "stdout",
     "output_type": "stream",
     "text": [
      "📥 Loading model: google/paligemma2-3b-pt-224\n"
     ]
    },
    {
     "name": "stderr",
     "output_type": "stream",
     "text": [
      "\n",
      "\n",
      "Loading checkpoint shards:   0%|          | 0/2 [00:00<?, ?it/s]\u001b[A\u001b[A\n",
      "\n",
      "Loading checkpoint shards:  50%|█████     | 1/2 [00:00<00:00,  1.23it/s]\u001b[A\u001b[A\n",
      "\n",
      "Loading checkpoint shards: 100%|██████████| 2/2 [00:01<00:00,  1.99it/s]\u001b[A\u001b[A\n",
      "\n",
      "Layer 4 texts:  35%|███▌      | 35/100 [07:07<13:07, 12.11s/it]\u001b[A"
     ]
    },
    {
     "name": "stdout",
     "output_type": "stream",
     "text": [
      "⚠️  No logits available for google/paligemma2-3b-pt-224, using zero loss\n",
      "📥 Loading model: google/gemma-2-2b\n"
     ]
    },
    {
     "name": "stderr",
     "output_type": "stream",
     "text": [
      "\n",
      "\n",
      "Loading checkpoint shards: 100%|██████████| 3/3 [00:00<00:00, 60.12it/s]\n"
     ]
    },
    {
     "name": "stdout",
     "output_type": "stream",
     "text": [
      "📥 Loading model: google/paligemma2-3b-pt-224\n"
     ]
    },
    {
     "name": "stderr",
     "output_type": "stream",
     "text": [
      "\n",
      "\n",
      "Loading checkpoint shards:   0%|          | 0/2 [00:00<?, ?it/s]\u001b[A\u001b[A\n",
      "\n",
      "Loading checkpoint shards:  50%|█████     | 1/2 [00:00<00:00,  1.21it/s]\u001b[A\u001b[A\n",
      "\n",
      "Loading checkpoint shards: 100%|██████████| 2/2 [00:01<00:00,  1.98it/s]\u001b[A\u001b[A\n",
      "\n",
      "Layer 4 texts:  36%|███▌      | 36/100 [07:19<12:49, 12.02s/it]\u001b[A"
     ]
    },
    {
     "name": "stdout",
     "output_type": "stream",
     "text": [
      "⚠️  No logits available for google/paligemma2-3b-pt-224, using zero loss\n",
      "📥 Loading model: google/gemma-2-2b\n"
     ]
    },
    {
     "name": "stderr",
     "output_type": "stream",
     "text": [
      "\n",
      "\n",
      "Loading checkpoint shards: 100%|██████████| 3/3 [00:00<00:00, 60.96it/s]\n"
     ]
    },
    {
     "name": "stdout",
     "output_type": "stream",
     "text": [
      "📥 Loading model: google/paligemma2-3b-pt-224\n"
     ]
    },
    {
     "name": "stderr",
     "output_type": "stream",
     "text": [
      "\n",
      "\n",
      "Loading checkpoint shards:   0%|          | 0/2 [00:00<?, ?it/s]\u001b[A\u001b[A\n",
      "\n",
      "Loading checkpoint shards:  50%|█████     | 1/2 [00:01<00:01,  1.01s/it]\u001b[A\u001b[A\n",
      "\n",
      "Loading checkpoint shards: 100%|██████████| 2/2 [00:01<00:00,  1.66it/s]\u001b[A\u001b[A\n",
      "\n",
      "Layer 4 texts:  37%|███▋      | 37/100 [07:31<12:39, 12.05s/it]\u001b[A"
     ]
    },
    {
     "name": "stdout",
     "output_type": "stream",
     "text": [
      "⚠️  No logits available for google/paligemma2-3b-pt-224, using zero loss\n",
      "📥 Loading model: google/gemma-2-2b\n"
     ]
    },
    {
     "name": "stderr",
     "output_type": "stream",
     "text": [
      "\n",
      "\n",
      "Loading checkpoint shards: 100%|██████████| 3/3 [00:00<00:00, 58.66it/s]\n"
     ]
    },
    {
     "name": "stdout",
     "output_type": "stream",
     "text": [
      "📥 Loading model: google/paligemma2-3b-pt-224\n"
     ]
    },
    {
     "name": "stderr",
     "output_type": "stream",
     "text": [
      "\n",
      "\n",
      "Loading checkpoint shards:   0%|          | 0/2 [00:00<?, ?it/s]\u001b[A\u001b[A\n",
      "\n",
      "Loading checkpoint shards:  50%|█████     | 1/2 [00:00<00:00,  1.21it/s]\u001b[A\u001b[A\n",
      "\n",
      "Loading checkpoint shards: 100%|██████████| 2/2 [00:01<00:00,  1.79it/s]\u001b[A\u001b[A\n",
      "\n",
      "Layer 4 texts:  38%|███▊      | 38/100 [07:43<12:24, 12.01s/it]\u001b[A"
     ]
    },
    {
     "name": "stdout",
     "output_type": "stream",
     "text": [
      "⚠️  No logits available for google/paligemma2-3b-pt-224, using zero loss\n",
      "📥 Loading model: google/gemma-2-2b\n"
     ]
    },
    {
     "name": "stderr",
     "output_type": "stream",
     "text": [
      "\n",
      "\n",
      "Loading checkpoint shards: 100%|██████████| 3/3 [00:00<00:00, 59.73it/s]\n"
     ]
    },
    {
     "name": "stdout",
     "output_type": "stream",
     "text": [
      "📥 Loading model: google/paligemma2-3b-pt-224\n"
     ]
    },
    {
     "name": "stderr",
     "output_type": "stream",
     "text": [
      "\n",
      "\n",
      "Loading checkpoint shards:   0%|          | 0/2 [00:00<?, ?it/s]\u001b[A\u001b[A\n",
      "\n",
      "Loading checkpoint shards:  50%|█████     | 1/2 [00:00<00:00,  1.17it/s]\u001b[A\u001b[A\n",
      "\n",
      "Loading checkpoint shards: 100%|██████████| 2/2 [00:01<00:00,  1.91it/s]\u001b[A\u001b[A\n",
      "\n",
      "Layer 4 texts:  39%|███▉      | 39/100 [07:55<12:17, 12.09s/it]\u001b[A"
     ]
    },
    {
     "name": "stdout",
     "output_type": "stream",
     "text": [
      "⚠️  No logits available for google/paligemma2-3b-pt-224, using zero loss\n",
      "📥 Loading model: google/gemma-2-2b\n"
     ]
    },
    {
     "name": "stderr",
     "output_type": "stream",
     "text": [
      "\n",
      "\n",
      "Loading checkpoint shards: 100%|██████████| 3/3 [00:00<00:00, 55.73it/s]\n"
     ]
    },
    {
     "name": "stdout",
     "output_type": "stream",
     "text": [
      "📥 Loading model: google/paligemma2-3b-pt-224\n"
     ]
    },
    {
     "name": "stderr",
     "output_type": "stream",
     "text": [
      "\n",
      "\n",
      "Loading checkpoint shards:   0%|          | 0/2 [00:00<?, ?it/s]\u001b[A\u001b[A\n",
      "\n",
      "Loading checkpoint shards:  50%|█████     | 1/2 [00:00<00:00,  1.14it/s]\u001b[A\u001b[A\n",
      "\n",
      "Loading checkpoint shards: 100%|██████████| 2/2 [00:01<00:00,  1.86it/s]\u001b[A\u001b[A\n",
      "\n",
      "Layer 4 texts:  40%|████      | 40/100 [08:08<12:09, 12.17s/it]\u001b[A"
     ]
    },
    {
     "name": "stdout",
     "output_type": "stream",
     "text": [
      "⚠️  No logits available for google/paligemma2-3b-pt-224, using zero loss\n",
      "📥 Loading model: google/gemma-2-2b\n"
     ]
    },
    {
     "name": "stderr",
     "output_type": "stream",
     "text": [
      "\n",
      "\n",
      "Loading checkpoint shards: 100%|██████████| 3/3 [00:00<00:00, 49.58it/s]\n"
     ]
    },
    {
     "name": "stdout",
     "output_type": "stream",
     "text": [
      "📥 Loading model: google/paligemma2-3b-pt-224\n"
     ]
    },
    {
     "name": "stderr",
     "output_type": "stream",
     "text": [
      "\n",
      "\n",
      "Loading checkpoint shards:   0%|          | 0/2 [00:00<?, ?it/s]\u001b[A\u001b[A\n",
      "\n",
      "Loading checkpoint shards:  50%|█████     | 1/2 [00:00<00:00,  1.14it/s]\u001b[A\u001b[A\n",
      "\n",
      "Loading checkpoint shards: 100%|██████████| 2/2 [00:01<00:00,  1.88it/s]\u001b[A\u001b[A\n",
      "\n",
      "Layer 4 texts:  41%|████      | 41/100 [08:20<12:02, 12.25s/it]\u001b[A"
     ]
    },
    {
     "name": "stdout",
     "output_type": "stream",
     "text": [
      "⚠️  No logits available for google/paligemma2-3b-pt-224, using zero loss\n",
      "📥 Loading model: google/gemma-2-2b\n"
     ]
    },
    {
     "name": "stderr",
     "output_type": "stream",
     "text": [
      "\n",
      "\n",
      "Loading checkpoint shards: 100%|██████████| 3/3 [00:00<00:00, 60.10it/s]\n"
     ]
    },
    {
     "name": "stdout",
     "output_type": "stream",
     "text": [
      "📥 Loading model: google/paligemma2-3b-pt-224\n"
     ]
    },
    {
     "name": "stderr",
     "output_type": "stream",
     "text": [
      "\n",
      "\n",
      "Loading checkpoint shards:   0%|          | 0/2 [00:00<?, ?it/s]\u001b[A\u001b[A\n",
      "\n",
      "Loading checkpoint shards:  50%|█████     | 1/2 [00:00<00:00,  1.29it/s]\u001b[A\u001b[A\n",
      "\n",
      "Loading checkpoint shards: 100%|██████████| 2/2 [00:00<00:00,  2.08it/s]\u001b[A\u001b[A\n",
      "\n",
      "Layer 4 texts:  42%|████▏     | 42/100 [08:32<11:47, 12.20s/it]\u001b[A"
     ]
    },
    {
     "name": "stdout",
     "output_type": "stream",
     "text": [
      "⚠️  No logits available for google/paligemma2-3b-pt-224, using zero loss\n",
      "📥 Loading model: google/gemma-2-2b\n"
     ]
    },
    {
     "name": "stderr",
     "output_type": "stream",
     "text": [
      "\n",
      "\n",
      "Loading checkpoint shards: 100%|██████████| 3/3 [00:00<00:00, 62.38it/s]\n"
     ]
    },
    {
     "name": "stdout",
     "output_type": "stream",
     "text": [
      "📥 Loading model: google/paligemma2-3b-pt-224\n"
     ]
    },
    {
     "name": "stderr",
     "output_type": "stream",
     "text": [
      "\n",
      "\n",
      "Loading checkpoint shards:   0%|          | 0/2 [00:00<?, ?it/s]\u001b[A\u001b[A\n",
      "\n",
      "Loading checkpoint shards:  50%|█████     | 1/2 [00:00<00:00,  1.28it/s]\u001b[A\u001b[A\n",
      "\n",
      "Loading checkpoint shards: 100%|██████████| 2/2 [00:00<00:00,  2.10it/s]\u001b[A\u001b[A\n",
      "\n",
      "Layer 4 texts:  43%|████▎     | 43/100 [08:44<11:32, 12.15s/it]\u001b[A"
     ]
    },
    {
     "name": "stdout",
     "output_type": "stream",
     "text": [
      "⚠️  No logits available for google/paligemma2-3b-pt-224, using zero loss\n",
      "📥 Loading model: google/gemma-2-2b\n"
     ]
    },
    {
     "name": "stderr",
     "output_type": "stream",
     "text": [
      "\n",
      "\n",
      "Loading checkpoint shards: 100%|██████████| 3/3 [00:00<00:00, 59.35it/s]\n"
     ]
    },
    {
     "name": "stdout",
     "output_type": "stream",
     "text": [
      "📥 Loading model: google/paligemma2-3b-pt-224\n"
     ]
    },
    {
     "name": "stderr",
     "output_type": "stream",
     "text": [
      "\n",
      "\n",
      "Loading checkpoint shards:   0%|          | 0/2 [00:00<?, ?it/s]\u001b[A\u001b[A\n",
      "\n",
      "Loading checkpoint shards:  50%|█████     | 1/2 [00:00<00:00,  1.29it/s]\u001b[A\u001b[A\n",
      "\n",
      "Loading checkpoint shards: 100%|██████████| 2/2 [00:00<00:00,  2.10it/s]\u001b[A\u001b[A\n",
      "\n",
      "Layer 4 texts:  44%|████▍     | 44/100 [08:56<11:14, 12.05s/it]\u001b[A"
     ]
    },
    {
     "name": "stdout",
     "output_type": "stream",
     "text": [
      "⚠️  No logits available for google/paligemma2-3b-pt-224, using zero loss\n",
      "📥 Loading model: google/gemma-2-2b\n"
     ]
    },
    {
     "name": "stderr",
     "output_type": "stream",
     "text": [
      "\n",
      "\n",
      "Loading checkpoint shards: 100%|██████████| 3/3 [00:00<00:00, 60.96it/s]\n"
     ]
    },
    {
     "name": "stdout",
     "output_type": "stream",
     "text": [
      "📥 Loading model: google/paligemma2-3b-pt-224\n"
     ]
    },
    {
     "name": "stderr",
     "output_type": "stream",
     "text": [
      "\n",
      "\n",
      "Loading checkpoint shards:   0%|          | 0/2 [00:00<?, ?it/s]\u001b[A\u001b[A\n",
      "\n",
      "Loading checkpoint shards:  50%|█████     | 1/2 [00:00<00:00,  1.23it/s]\u001b[A\u001b[A\n",
      "\n",
      "Loading checkpoint shards: 100%|██████████| 2/2 [00:01<00:00,  1.67it/s]\u001b[A\u001b[A\n",
      "\n",
      "Layer 4 texts:  45%|████▌     | 45/100 [09:08<11:02, 12.05s/it]\u001b[A"
     ]
    },
    {
     "name": "stdout",
     "output_type": "stream",
     "text": [
      "⚠️  No logits available for google/paligemma2-3b-pt-224, using zero loss\n",
      "📥 Loading model: google/gemma-2-2b\n"
     ]
    },
    {
     "name": "stderr",
     "output_type": "stream",
     "text": [
      "\n",
      "\n",
      "Loading checkpoint shards: 100%|██████████| 3/3 [00:00<00:00, 52.23it/s]\n"
     ]
    },
    {
     "name": "stdout",
     "output_type": "stream",
     "text": [
      "📥 Loading model: google/paligemma2-3b-pt-224\n"
     ]
    },
    {
     "name": "stderr",
     "output_type": "stream",
     "text": [
      "\n",
      "\n",
      "Loading checkpoint shards:   0%|          | 0/2 [00:00<?, ?it/s]\u001b[A\u001b[A\n",
      "\n",
      "Loading checkpoint shards:  50%|█████     | 1/2 [00:00<00:00,  1.24it/s]\u001b[A\u001b[A\n",
      "\n",
      "Loading checkpoint shards: 100%|██████████| 2/2 [00:00<00:00,  2.03it/s]\u001b[A\u001b[A\n",
      "\n",
      "Layer 4 texts:  46%|████▌     | 46/100 [09:20<10:52, 12.09s/it]\u001b[A"
     ]
    },
    {
     "name": "stdout",
     "output_type": "stream",
     "text": [
      "⚠️  No logits available for google/paligemma2-3b-pt-224, using zero loss\n",
      "📥 Loading model: google/gemma-2-2b\n"
     ]
    },
    {
     "name": "stderr",
     "output_type": "stream",
     "text": [
      "\n",
      "\n",
      "Loading checkpoint shards: 100%|██████████| 3/3 [00:00<00:00, 61.96it/s]\n"
     ]
    },
    {
     "name": "stdout",
     "output_type": "stream",
     "text": [
      "📥 Loading model: google/paligemma2-3b-pt-224\n"
     ]
    },
    {
     "name": "stderr",
     "output_type": "stream",
     "text": [
      "\n",
      "\n",
      "Loading checkpoint shards:   0%|          | 0/2 [00:00<?, ?it/s]\u001b[A\u001b[A\n",
      "\n",
      "Loading checkpoint shards:  50%|█████     | 1/2 [00:00<00:00,  1.28it/s]\u001b[A\u001b[A\n",
      "\n",
      "Loading checkpoint shards: 100%|██████████| 2/2 [00:00<00:00,  2.07it/s]\u001b[A\u001b[A\n",
      "\n",
      "Layer 4 texts:  47%|████▋     | 47/100 [09:33<10:44, 12.17s/it]\u001b[A"
     ]
    },
    {
     "name": "stdout",
     "output_type": "stream",
     "text": [
      "⚠️  No logits available for google/paligemma2-3b-pt-224, using zero loss\n",
      "📥 Loading model: google/gemma-2-2b\n"
     ]
    },
    {
     "name": "stderr",
     "output_type": "stream",
     "text": [
      "\n",
      "\n",
      "Loading checkpoint shards: 100%|██████████| 3/3 [00:00<00:00, 58.51it/s]\n"
     ]
    },
    {
     "name": "stdout",
     "output_type": "stream",
     "text": [
      "📥 Loading model: google/paligemma2-3b-pt-224\n"
     ]
    },
    {
     "name": "stderr",
     "output_type": "stream",
     "text": [
      "\n",
      "\n",
      "Loading checkpoint shards:   0%|          | 0/2 [00:00<?, ?it/s]\u001b[A\u001b[A\n",
      "\n",
      "Loading checkpoint shards:  50%|█████     | 1/2 [00:00<00:00,  1.24it/s]\u001b[A\u001b[A\n",
      "\n",
      "Loading checkpoint shards: 100%|██████████| 2/2 [00:00<00:00,  2.04it/s]\u001b[A\u001b[A\n",
      "\n",
      "Layer 4 texts:  48%|████▊     | 48/100 [09:45<10:31, 12.14s/it]\u001b[A"
     ]
    },
    {
     "name": "stdout",
     "output_type": "stream",
     "text": [
      "⚠️  No logits available for google/paligemma2-3b-pt-224, using zero loss\n",
      "📥 Loading model: google/gemma-2-2b\n"
     ]
    },
    {
     "name": "stderr",
     "output_type": "stream",
     "text": [
      "\n",
      "\n",
      "Loading checkpoint shards: 100%|██████████| 3/3 [00:00<00:00, 58.61it/s]\n"
     ]
    },
    {
     "name": "stdout",
     "output_type": "stream",
     "text": [
      "📥 Loading model: google/paligemma2-3b-pt-224\n"
     ]
    },
    {
     "name": "stderr",
     "output_type": "stream",
     "text": [
      "\n",
      "\n",
      "Loading checkpoint shards:   0%|          | 0/2 [00:00<?, ?it/s]\u001b[A\u001b[A\n",
      "\n",
      "Loading checkpoint shards:  50%|█████     | 1/2 [00:00<00:00,  1.25it/s]\u001b[A\u001b[A\n",
      "\n",
      "Loading checkpoint shards: 100%|██████████| 2/2 [00:00<00:00,  2.03it/s]\u001b[A\u001b[A\n",
      "\n",
      "Layer 4 texts:  49%|████▉     | 49/100 [09:57<10:21, 12.19s/it]\u001b[A"
     ]
    },
    {
     "name": "stdout",
     "output_type": "stream",
     "text": [
      "⚠️  No logits available for google/paligemma2-3b-pt-224, using zero loss\n",
      "📥 Loading model: google/gemma-2-2b\n"
     ]
    },
    {
     "name": "stderr",
     "output_type": "stream",
     "text": [
      "\n",
      "\n",
      "Loading checkpoint shards: 100%|██████████| 3/3 [00:00<00:00, 56.33it/s]\n"
     ]
    },
    {
     "name": "stdout",
     "output_type": "stream",
     "text": [
      "📥 Loading model: google/paligemma2-3b-pt-224\n"
     ]
    },
    {
     "name": "stderr",
     "output_type": "stream",
     "text": [
      "\n",
      "\n",
      "Loading checkpoint shards:   0%|          | 0/2 [00:00<?, ?it/s]\u001b[A\u001b[A\n",
      "\n",
      "Loading checkpoint shards:  50%|█████     | 1/2 [00:00<00:00,  1.27it/s]\u001b[A\u001b[A\n",
      "\n",
      "Loading checkpoint shards: 100%|██████████| 2/2 [00:00<00:00,  2.04it/s]\u001b[A\u001b[A\n",
      "\n",
      "Layer 4 texts:  50%|█████     | 50/100 [10:09<10:09, 12.19s/it]\u001b[A"
     ]
    },
    {
     "name": "stdout",
     "output_type": "stream",
     "text": [
      "⚠️  No logits available for google/paligemma2-3b-pt-224, using zero loss\n",
      "📥 Loading model: google/gemma-2-2b\n"
     ]
    },
    {
     "name": "stderr",
     "output_type": "stream",
     "text": [
      "\n",
      "\n",
      "Loading checkpoint shards: 100%|██████████| 3/3 [00:00<00:00, 60.05it/s]\n"
     ]
    },
    {
     "name": "stdout",
     "output_type": "stream",
     "text": [
      "📥 Loading model: google/paligemma2-3b-pt-224\n"
     ]
    },
    {
     "name": "stderr",
     "output_type": "stream",
     "text": [
      "\n",
      "\n",
      "Loading checkpoint shards:   0%|          | 0/2 [00:00<?, ?it/s]\u001b[A\u001b[A\n",
      "\n",
      "Loading checkpoint shards:  50%|█████     | 1/2 [00:00<00:00,  1.20it/s]\u001b[A\u001b[A\n",
      "\n",
      "Loading checkpoint shards: 100%|██████████| 2/2 [00:01<00:00,  1.94it/s]\u001b[A\u001b[A\n",
      "\n",
      "Layer 4 texts:  51%|█████     | 51/100 [10:21<09:56, 12.17s/it]\u001b[A"
     ]
    },
    {
     "name": "stdout",
     "output_type": "stream",
     "text": [
      "⚠️  No logits available for google/paligemma2-3b-pt-224, using zero loss\n",
      "📥 Loading model: google/gemma-2-2b\n"
     ]
    },
    {
     "name": "stderr",
     "output_type": "stream",
     "text": [
      "\n",
      "\n",
      "Loading checkpoint shards: 100%|██████████| 3/3 [00:00<00:00, 58.90it/s]\n"
     ]
    },
    {
     "name": "stdout",
     "output_type": "stream",
     "text": [
      "📥 Loading model: google/paligemma2-3b-pt-224\n"
     ]
    },
    {
     "name": "stderr",
     "output_type": "stream",
     "text": [
      "\n",
      "\n",
      "Loading checkpoint shards:   0%|          | 0/2 [00:00<?, ?it/s]\u001b[A\u001b[A\n",
      "\n",
      "Loading checkpoint shards:  50%|█████     | 1/2 [00:00<00:00,  1.22it/s]\u001b[A\u001b[A\n",
      "\n",
      "Loading checkpoint shards: 100%|██████████| 2/2 [00:01<00:00,  2.00it/s]\u001b[A\u001b[A\n",
      "\n",
      "Layer 4 texts:  52%|█████▏    | 52/100 [10:33<09:41, 12.12s/it]\u001b[A"
     ]
    },
    {
     "name": "stdout",
     "output_type": "stream",
     "text": [
      "⚠️  No logits available for google/paligemma2-3b-pt-224, using zero loss\n",
      "📥 Loading model: google/gemma-2-2b\n"
     ]
    },
    {
     "name": "stderr",
     "output_type": "stream",
     "text": [
      "\n",
      "\n",
      "Loading checkpoint shards: 100%|██████████| 3/3 [00:00<00:00, 58.53it/s]\n"
     ]
    },
    {
     "name": "stdout",
     "output_type": "stream",
     "text": [
      "📥 Loading model: google/paligemma2-3b-pt-224\n"
     ]
    },
    {
     "name": "stderr",
     "output_type": "stream",
     "text": [
      "\n",
      "\n",
      "Loading checkpoint shards:   0%|          | 0/2 [00:00<?, ?it/s]\u001b[A\u001b[A\n",
      "\n",
      "Loading checkpoint shards:  50%|█████     | 1/2 [00:00<00:00,  1.24it/s]\u001b[A\u001b[A\n",
      "\n",
      "Loading checkpoint shards: 100%|██████████| 2/2 [00:00<00:00,  2.02it/s]\u001b[A\u001b[A\n",
      "\n",
      "Layer 4 texts:  53%|█████▎    | 53/100 [10:45<09:24, 12.00s/it]\u001b[A"
     ]
    },
    {
     "name": "stdout",
     "output_type": "stream",
     "text": [
      "⚠️  No logits available for google/paligemma2-3b-pt-224, using zero loss\n",
      "📥 Loading model: google/gemma-2-2b\n"
     ]
    },
    {
     "name": "stderr",
     "output_type": "stream",
     "text": [
      "\n",
      "\n",
      "Loading checkpoint shards: 100%|██████████| 3/3 [00:00<00:00, 60.85it/s]\n"
     ]
    },
    {
     "name": "stdout",
     "output_type": "stream",
     "text": [
      "📥 Loading model: google/paligemma2-3b-pt-224\n"
     ]
    },
    {
     "name": "stderr",
     "output_type": "stream",
     "text": [
      "\n",
      "\n",
      "Loading checkpoint shards:   0%|          | 0/2 [00:00<?, ?it/s]\u001b[A\u001b[A\n",
      "\n",
      "Loading checkpoint shards:  50%|█████     | 1/2 [00:00<00:00,  1.28it/s]\u001b[A\u001b[A\n",
      "\n",
      "Loading checkpoint shards: 100%|██████████| 2/2 [00:00<00:00,  2.08it/s]\u001b[A\u001b[A\n",
      "\n",
      "Layer 4 texts:  54%|█████▍    | 54/100 [10:57<09:07, 11.91s/it]\u001b[A"
     ]
    },
    {
     "name": "stdout",
     "output_type": "stream",
     "text": [
      "⚠️  No logits available for google/paligemma2-3b-pt-224, using zero loss\n",
      "📥 Loading model: google/gemma-2-2b\n"
     ]
    },
    {
     "name": "stderr",
     "output_type": "stream",
     "text": [
      "\n",
      "\n",
      "Loading checkpoint shards: 100%|██████████| 3/3 [00:00<00:00, 53.44it/s]\n"
     ]
    },
    {
     "name": "stdout",
     "output_type": "stream",
     "text": [
      "📥 Loading model: google/paligemma2-3b-pt-224\n"
     ]
    },
    {
     "name": "stderr",
     "output_type": "stream",
     "text": [
      "\n",
      "\n",
      "Loading checkpoint shards:   0%|          | 0/2 [00:00<?, ?it/s]\u001b[A\u001b[A\n",
      "\n",
      "Loading checkpoint shards:  50%|█████     | 1/2 [00:00<00:00,  1.26it/s]\u001b[A\u001b[A\n",
      "\n",
      "Loading checkpoint shards: 100%|██████████| 2/2 [00:00<00:00,  2.05it/s]\u001b[A\u001b[A\n",
      "\n",
      "Layer 4 texts:  55%|█████▌    | 55/100 [11:09<09:00, 12.01s/it]\u001b[A"
     ]
    },
    {
     "name": "stdout",
     "output_type": "stream",
     "text": [
      "⚠️  No logits available for google/paligemma2-3b-pt-224, using zero loss\n",
      "📥 Loading model: google/gemma-2-2b\n"
     ]
    },
    {
     "name": "stderr",
     "output_type": "stream",
     "text": [
      "\n",
      "\n",
      "Loading checkpoint shards: 100%|██████████| 3/3 [00:00<00:00, 54.48it/s]\n"
     ]
    },
    {
     "name": "stdout",
     "output_type": "stream",
     "text": [
      "📥 Loading model: google/paligemma2-3b-pt-224\n"
     ]
    },
    {
     "name": "stderr",
     "output_type": "stream",
     "text": [
      "\n",
      "\n",
      "Loading checkpoint shards:   0%|          | 0/2 [00:00<?, ?it/s]\u001b[A\u001b[A\n",
      "\n",
      "Loading checkpoint shards:  50%|█████     | 1/2 [00:00<00:00,  1.21it/s]\u001b[A\u001b[A\n",
      "\n",
      "Loading checkpoint shards: 100%|██████████| 2/2 [00:01<00:00,  1.99it/s]\u001b[A\u001b[A\n",
      "\n",
      "Layer 4 texts:  56%|█████▌    | 56/100 [11:21<08:54, 12.16s/it]\u001b[A"
     ]
    },
    {
     "name": "stdout",
     "output_type": "stream",
     "text": [
      "⚠️  No logits available for google/paligemma2-3b-pt-224, using zero loss\n",
      "📥 Loading model: google/gemma-2-2b\n"
     ]
    },
    {
     "name": "stderr",
     "output_type": "stream",
     "text": [
      "\n",
      "\n",
      "Loading checkpoint shards: 100%|██████████| 3/3 [00:00<00:00, 62.49it/s]\n"
     ]
    },
    {
     "name": "stdout",
     "output_type": "stream",
     "text": [
      "📥 Loading model: google/paligemma2-3b-pt-224\n"
     ]
    },
    {
     "name": "stderr",
     "output_type": "stream",
     "text": [
      "\n",
      "\n",
      "Loading checkpoint shards:   0%|          | 0/2 [00:00<?, ?it/s]\u001b[A\u001b[A\n",
      "\n",
      "Loading checkpoint shards:  50%|█████     | 1/2 [00:00<00:00,  1.22it/s]\u001b[A\u001b[A\n",
      "\n",
      "Loading checkpoint shards: 100%|██████████| 2/2 [00:00<00:00,  2.02it/s]\u001b[A\u001b[A\n",
      "\n",
      "Layer 4 texts:  57%|█████▋    | 57/100 [11:33<08:39, 12.08s/it]\u001b[A"
     ]
    },
    {
     "name": "stdout",
     "output_type": "stream",
     "text": [
      "⚠️  No logits available for google/paligemma2-3b-pt-224, using zero loss\n",
      "📥 Loading model: google/gemma-2-2b\n"
     ]
    },
    {
     "name": "stderr",
     "output_type": "stream",
     "text": [
      "\n",
      "\n",
      "Loading checkpoint shards: 100%|██████████| 3/3 [00:00<00:00, 60.52it/s]\n"
     ]
    },
    {
     "name": "stdout",
     "output_type": "stream",
     "text": [
      "📥 Loading model: google/paligemma2-3b-pt-224\n"
     ]
    },
    {
     "name": "stderr",
     "output_type": "stream",
     "text": [
      "\n",
      "\n",
      "Loading checkpoint shards:   0%|          | 0/2 [00:00<?, ?it/s]\u001b[A\u001b[A\n",
      "\n",
      "Loading checkpoint shards:  50%|█████     | 1/2 [00:00<00:00,  1.28it/s]\u001b[A\u001b[A\n",
      "\n",
      "Loading checkpoint shards: 100%|██████████| 2/2 [00:00<00:00,  2.11it/s]\u001b[A\u001b[A\n",
      "\n",
      "Layer 4 texts:  58%|█████▊    | 58/100 [11:46<08:30, 12.15s/it]\u001b[A"
     ]
    },
    {
     "name": "stdout",
     "output_type": "stream",
     "text": [
      "⚠️  No logits available for google/paligemma2-3b-pt-224, using zero loss\n",
      "📥 Loading model: google/gemma-2-2b\n"
     ]
    },
    {
     "name": "stderr",
     "output_type": "stream",
     "text": [
      "\n",
      "\n",
      "Loading checkpoint shards: 100%|██████████| 3/3 [00:00<00:00, 59.88it/s]\n"
     ]
    },
    {
     "name": "stdout",
     "output_type": "stream",
     "text": [
      "📥 Loading model: google/paligemma2-3b-pt-224\n"
     ]
    },
    {
     "name": "stderr",
     "output_type": "stream",
     "text": [
      "\n",
      "\n",
      "Loading checkpoint shards:   0%|          | 0/2 [00:00<?, ?it/s]\u001b[A\u001b[A\n",
      "\n",
      "Loading checkpoint shards:  50%|█████     | 1/2 [00:00<00:00,  1.22it/s]\u001b[A\u001b[A\n",
      "\n",
      "Loading checkpoint shards: 100%|██████████| 2/2 [00:01<00:00,  1.99it/s]\u001b[A\u001b[A\n",
      "\n",
      "Layer 4 texts:  59%|█████▉    | 59/100 [11:58<08:17, 12.13s/it]\u001b[A"
     ]
    },
    {
     "name": "stdout",
     "output_type": "stream",
     "text": [
      "⚠️  No logits available for google/paligemma2-3b-pt-224, using zero loss\n",
      "📥 Loading model: google/gemma-2-2b\n"
     ]
    },
    {
     "name": "stderr",
     "output_type": "stream",
     "text": [
      "\n",
      "\n",
      "Loading checkpoint shards: 100%|██████████| 3/3 [00:00<00:00, 62.99it/s]\n"
     ]
    },
    {
     "name": "stdout",
     "output_type": "stream",
     "text": [
      "📥 Loading model: google/paligemma2-3b-pt-224\n"
     ]
    },
    {
     "name": "stderr",
     "output_type": "stream",
     "text": [
      "\n",
      "\n",
      "Loading checkpoint shards:   0%|          | 0/2 [00:00<?, ?it/s]\u001b[A\u001b[A\n",
      "\n",
      "Loading checkpoint shards:  50%|█████     | 1/2 [00:00<00:00,  1.22it/s]\u001b[A\u001b[A\n",
      "\n",
      "Loading checkpoint shards: 100%|██████████| 2/2 [00:01<00:00,  1.99it/s]\u001b[A\u001b[A\n",
      "\n",
      "Layer 4 texts:  60%|██████    | 60/100 [12:09<08:01, 12.03s/it]\u001b[A"
     ]
    },
    {
     "name": "stdout",
     "output_type": "stream",
     "text": [
      "⚠️  No logits available for google/paligemma2-3b-pt-224, using zero loss\n",
      "📥 Loading model: google/gemma-2-2b\n"
     ]
    },
    {
     "name": "stderr",
     "output_type": "stream",
     "text": [
      "\n",
      "\n",
      "Loading checkpoint shards: 100%|██████████| 3/3 [00:00<00:00, 62.82it/s]\n"
     ]
    },
    {
     "name": "stdout",
     "output_type": "stream",
     "text": [
      "📥 Loading model: google/paligemma2-3b-pt-224\n"
     ]
    },
    {
     "name": "stderr",
     "output_type": "stream",
     "text": [
      "\n",
      "\n",
      "Loading checkpoint shards:   0%|          | 0/2 [00:00<?, ?it/s]\u001b[A\u001b[A\n",
      "\n",
      "Loading checkpoint shards:  50%|█████     | 1/2 [00:01<00:01,  1.02s/it]\u001b[A\u001b[A\n",
      "\n",
      "Loading checkpoint shards: 100%|██████████| 2/2 [00:01<00:00,  1.67it/s]\u001b[A\u001b[A\n",
      "\n",
      "Layer 4 texts:  61%|██████    | 61/100 [12:21<07:48, 12.02s/it]\u001b[A"
     ]
    },
    {
     "name": "stdout",
     "output_type": "stream",
     "text": [
      "⚠️  No logits available for google/paligemma2-3b-pt-224, using zero loss\n",
      "📥 Loading model: google/gemma-2-2b\n"
     ]
    },
    {
     "name": "stderr",
     "output_type": "stream",
     "text": [
      "\n",
      "\n",
      "Loading checkpoint shards: 100%|██████████| 3/3 [00:00<00:00, 57.15it/s]\n"
     ]
    },
    {
     "name": "stdout",
     "output_type": "stream",
     "text": [
      "📥 Loading model: google/paligemma2-3b-pt-224\n"
     ]
    },
    {
     "name": "stderr",
     "output_type": "stream",
     "text": [
      "\n",
      "\n",
      "Loading checkpoint shards:   0%|          | 0/2 [00:00<?, ?it/s]\u001b[A\u001b[A\n",
      "\n",
      "Loading checkpoint shards:  50%|█████     | 1/2 [00:00<00:00,  1.17it/s]\u001b[A\u001b[A\n",
      "\n",
      "Loading checkpoint shards: 100%|██████████| 2/2 [00:01<00:00,  1.92it/s]\u001b[A\u001b[A\n",
      "\n",
      "Layer 4 texts:  62%|██████▏   | 62/100 [12:33<07:36, 12.01s/it]\u001b[A"
     ]
    },
    {
     "name": "stdout",
     "output_type": "stream",
     "text": [
      "⚠️  No logits available for google/paligemma2-3b-pt-224, using zero loss\n",
      "📥 Loading model: google/gemma-2-2b\n"
     ]
    },
    {
     "name": "stderr",
     "output_type": "stream",
     "text": [
      "\n",
      "\n",
      "Loading checkpoint shards: 100%|██████████| 3/3 [00:00<00:00, 62.21it/s]\n"
     ]
    },
    {
     "name": "stdout",
     "output_type": "stream",
     "text": [
      "📥 Loading model: google/paligemma2-3b-pt-224\n"
     ]
    },
    {
     "name": "stderr",
     "output_type": "stream",
     "text": [
      "\n",
      "\n",
      "Loading checkpoint shards:   0%|          | 0/2 [00:00<?, ?it/s]\u001b[A\u001b[A\n",
      "\n",
      "Loading checkpoint shards:  50%|█████     | 1/2 [00:00<00:00,  1.24it/s]\u001b[A\u001b[A\n",
      "\n",
      "Loading checkpoint shards: 100%|██████████| 2/2 [00:00<00:00,  2.03it/s]\u001b[A\u001b[A\n",
      "\n",
      "Layer 4 texts:  63%|██████▎   | 63/100 [12:46<07:25, 12.03s/it]\u001b[A"
     ]
    },
    {
     "name": "stdout",
     "output_type": "stream",
     "text": [
      "⚠️  No logits available for google/paligemma2-3b-pt-224, using zero loss\n",
      "📥 Loading model: google/gemma-2-2b\n"
     ]
    },
    {
     "name": "stderr",
     "output_type": "stream",
     "text": [
      "\n",
      "\n",
      "Loading checkpoint shards: 100%|██████████| 3/3 [00:00<00:00, 49.15it/s]\n"
     ]
    },
    {
     "name": "stdout",
     "output_type": "stream",
     "text": [
      "📥 Loading model: google/paligemma2-3b-pt-224\n"
     ]
    },
    {
     "name": "stderr",
     "output_type": "stream",
     "text": [
      "\n",
      "\n",
      "Loading checkpoint shards:   0%|          | 0/2 [00:00<?, ?it/s]\u001b[A\u001b[A\n",
      "\n",
      "Loading checkpoint shards:  50%|█████     | 1/2 [00:00<00:00,  1.23it/s]\u001b[A\u001b[A\n",
      "\n",
      "Loading checkpoint shards: 100%|██████████| 2/2 [00:00<00:00,  2.02it/s]\u001b[A\u001b[A\n",
      "\n",
      "Layer 4 texts:  64%|██████▍   | 64/100 [12:58<07:13, 12.04s/it]\u001b[A"
     ]
    },
    {
     "name": "stdout",
     "output_type": "stream",
     "text": [
      "⚠️  No logits available for google/paligemma2-3b-pt-224, using zero loss\n",
      "📥 Loading model: google/gemma-2-2b\n"
     ]
    },
    {
     "name": "stderr",
     "output_type": "stream",
     "text": [
      "\n",
      "\n",
      "Loading checkpoint shards: 100%|██████████| 3/3 [00:00<00:00, 59.42it/s]\n"
     ]
    },
    {
     "name": "stdout",
     "output_type": "stream",
     "text": [
      "📥 Loading model: google/paligemma2-3b-pt-224\n"
     ]
    },
    {
     "name": "stderr",
     "output_type": "stream",
     "text": [
      "\n",
      "\n",
      "Loading checkpoint shards:   0%|          | 0/2 [00:00<?, ?it/s]\u001b[A\u001b[A\n",
      "\n",
      "Loading checkpoint shards:  50%|█████     | 1/2 [00:00<00:00,  1.22it/s]\u001b[A\u001b[A\n",
      "\n",
      "Loading checkpoint shards: 100%|██████████| 2/2 [00:01<00:00,  2.00it/s]\u001b[A\u001b[A\n",
      "\n",
      "Layer 4 texts:  65%|██████▌   | 65/100 [13:10<07:02, 12.07s/it]\u001b[A"
     ]
    },
    {
     "name": "stdout",
     "output_type": "stream",
     "text": [
      "⚠️  No logits available for google/paligemma2-3b-pt-224, using zero loss\n",
      "📥 Loading model: google/gemma-2-2b\n"
     ]
    },
    {
     "name": "stderr",
     "output_type": "stream",
     "text": [
      "\n",
      "\n",
      "Loading checkpoint shards: 100%|██████████| 3/3 [00:00<00:00, 55.72it/s]\n"
     ]
    },
    {
     "name": "stdout",
     "output_type": "stream",
     "text": [
      "📥 Loading model: google/paligemma2-3b-pt-224\n"
     ]
    },
    {
     "name": "stderr",
     "output_type": "stream",
     "text": [
      "\n",
      "\n",
      "Loading checkpoint shards:   0%|          | 0/2 [00:00<?, ?it/s]\u001b[A\u001b[A\n",
      "\n",
      "Loading checkpoint shards:  50%|█████     | 1/2 [00:00<00:00,  1.25it/s]\u001b[A\u001b[A\n",
      "\n",
      "Loading checkpoint shards: 100%|██████████| 2/2 [00:00<00:00,  2.04it/s]\u001b[A\u001b[A\n",
      "\n",
      "Layer 4 texts:  66%|██████▌   | 66/100 [13:21<06:46, 11.95s/it]\u001b[A"
     ]
    },
    {
     "name": "stdout",
     "output_type": "stream",
     "text": [
      "⚠️  No logits available for google/paligemma2-3b-pt-224, using zero loss\n",
      "📥 Loading model: google/gemma-2-2b\n"
     ]
    },
    {
     "name": "stderr",
     "output_type": "stream",
     "text": [
      "\n",
      "\n",
      "Loading checkpoint shards: 100%|██████████| 3/3 [00:00<00:00, 61.62it/s]\n"
     ]
    },
    {
     "name": "stdout",
     "output_type": "stream",
     "text": [
      "📥 Loading model: google/paligemma2-3b-pt-224\n"
     ]
    },
    {
     "name": "stderr",
     "output_type": "stream",
     "text": [
      "\n",
      "\n",
      "Loading checkpoint shards:   0%|          | 0/2 [00:00<?, ?it/s]\u001b[A\u001b[A\n",
      "\n",
      "Loading checkpoint shards:  50%|█████     | 1/2 [00:00<00:00,  1.26it/s]\u001b[A\u001b[A\n",
      "\n",
      "Loading checkpoint shards: 100%|██████████| 2/2 [00:00<00:00,  2.05it/s]\u001b[A\u001b[A\n",
      "\n",
      "Layer 4 texts:  67%|██████▋   | 67/100 [13:33<06:31, 11.87s/it]\u001b[A"
     ]
    },
    {
     "name": "stdout",
     "output_type": "stream",
     "text": [
      "⚠️  No logits available for google/paligemma2-3b-pt-224, using zero loss\n",
      "📥 Loading model: google/gemma-2-2b\n"
     ]
    },
    {
     "name": "stderr",
     "output_type": "stream",
     "text": [
      "\n",
      "\n",
      "Loading checkpoint shards: 100%|██████████| 3/3 [00:00<00:00, 60.58it/s]\n"
     ]
    },
    {
     "name": "stdout",
     "output_type": "stream",
     "text": [
      "📥 Loading model: google/paligemma2-3b-pt-224\n"
     ]
    },
    {
     "name": "stderr",
     "output_type": "stream",
     "text": [
      "\n",
      "\n",
      "Loading checkpoint shards:   0%|          | 0/2 [00:00<?, ?it/s]\u001b[A\u001b[A\n",
      "\n",
      "Loading checkpoint shards:  50%|█████     | 1/2 [00:00<00:00,  1.17it/s]\u001b[A\u001b[A\n",
      "\n",
      "Loading checkpoint shards: 100%|██████████| 2/2 [00:01<00:00,  1.92it/s]\u001b[A\u001b[A\n",
      "\n",
      "Layer 4 texts:  68%|██████▊   | 68/100 [13:45<06:21, 11.93s/it]\u001b[A"
     ]
    },
    {
     "name": "stdout",
     "output_type": "stream",
     "text": [
      "⚠️  No logits available for google/paligemma2-3b-pt-224, using zero loss\n",
      "📥 Loading model: google/gemma-2-2b\n"
     ]
    },
    {
     "name": "stderr",
     "output_type": "stream",
     "text": [
      "\n",
      "\n",
      "Loading checkpoint shards: 100%|██████████| 3/3 [00:00<00:00, 55.32it/s]\n"
     ]
    },
    {
     "name": "stdout",
     "output_type": "stream",
     "text": [
      "📥 Loading model: google/paligemma2-3b-pt-224\n"
     ]
    },
    {
     "name": "stderr",
     "output_type": "stream",
     "text": [
      "\n",
      "\n",
      "Loading checkpoint shards:   0%|          | 0/2 [00:00<?, ?it/s]\u001b[A\u001b[A\n",
      "\n",
      "Loading checkpoint shards:  50%|█████     | 1/2 [00:00<00:00,  1.23it/s]\u001b[A\u001b[A\n",
      "\n",
      "Loading checkpoint shards: 100%|██████████| 2/2 [00:00<00:00,  2.00it/s]\u001b[A\u001b[A\n",
      "\n",
      "Layer 4 texts:  69%|██████▉   | 69/100 [13:57<06:07, 11.86s/it]\u001b[A"
     ]
    },
    {
     "name": "stdout",
     "output_type": "stream",
     "text": [
      "⚠️  No logits available for google/paligemma2-3b-pt-224, using zero loss\n",
      "📥 Loading model: google/gemma-2-2b\n"
     ]
    },
    {
     "name": "stderr",
     "output_type": "stream",
     "text": [
      "\n",
      "\n",
      "Loading checkpoint shards: 100%|██████████| 3/3 [00:00<00:00, 56.50it/s]\n"
     ]
    },
    {
     "name": "stdout",
     "output_type": "stream",
     "text": [
      "📥 Loading model: google/paligemma2-3b-pt-224\n"
     ]
    },
    {
     "name": "stderr",
     "output_type": "stream",
     "text": [
      "\n",
      "\n",
      "Loading checkpoint shards:   0%|          | 0/2 [00:00<?, ?it/s]\u001b[A\u001b[A\n",
      "\n",
      "Loading checkpoint shards:  50%|█████     | 1/2 [00:00<00:00,  1.16it/s]\u001b[A\u001b[A\n",
      "\n",
      "Loading checkpoint shards: 100%|██████████| 2/2 [00:01<00:00,  1.93it/s]\u001b[A\u001b[A\n",
      "\n",
      "Layer 4 texts:  70%|███████   | 70/100 [14:09<05:55, 11.85s/it]\u001b[A"
     ]
    },
    {
     "name": "stdout",
     "output_type": "stream",
     "text": [
      "⚠️  No logits available for google/paligemma2-3b-pt-224, using zero loss\n",
      "📥 Loading model: google/gemma-2-2b\n"
     ]
    },
    {
     "name": "stderr",
     "output_type": "stream",
     "text": [
      "\n",
      "\n",
      "Loading checkpoint shards: 100%|██████████| 3/3 [00:00<00:00, 60.10it/s]\n"
     ]
    },
    {
     "name": "stdout",
     "output_type": "stream",
     "text": [
      "📥 Loading model: google/paligemma2-3b-pt-224\n"
     ]
    },
    {
     "name": "stderr",
     "output_type": "stream",
     "text": [
      "\n",
      "\n",
      "Loading checkpoint shards:   0%|          | 0/2 [00:00<?, ?it/s]\u001b[A\u001b[A\n",
      "\n",
      "Loading checkpoint shards:  50%|█████     | 1/2 [00:00<00:00,  1.18it/s]\u001b[A\u001b[A\n",
      "\n",
      "Loading checkpoint shards: 100%|██████████| 2/2 [00:01<00:00,  1.95it/s]\u001b[A\u001b[A\n",
      "\n",
      "Layer 4 texts:  71%|███████   | 71/100 [14:21<05:45, 11.90s/it]\u001b[A"
     ]
    },
    {
     "name": "stdout",
     "output_type": "stream",
     "text": [
      "⚠️  No logits available for google/paligemma2-3b-pt-224, using zero loss\n",
      "📥 Loading model: google/gemma-2-2b\n"
     ]
    },
    {
     "name": "stderr",
     "output_type": "stream",
     "text": [
      "\n",
      "\n",
      "Loading checkpoint shards: 100%|██████████| 3/3 [00:00<00:00, 62.79it/s]\n"
     ]
    },
    {
     "name": "stdout",
     "output_type": "stream",
     "text": [
      "📥 Loading model: google/paligemma2-3b-pt-224\n"
     ]
    },
    {
     "name": "stderr",
     "output_type": "stream",
     "text": [
      "\n",
      "\n",
      "Loading checkpoint shards:   0%|          | 0/2 [00:00<?, ?it/s]\u001b[A\u001b[A\n",
      "\n",
      "Loading checkpoint shards:  50%|█████     | 1/2 [00:00<00:00,  1.22it/s]\u001b[A\u001b[A\n",
      "\n",
      "Loading checkpoint shards: 100%|██████████| 2/2 [00:01<00:00,  1.98it/s]\u001b[A\u001b[A\n",
      "\n",
      "Layer 4 texts:  72%|███████▏  | 72/100 [14:33<05:34, 11.95s/it]\u001b[A"
     ]
    },
    {
     "name": "stdout",
     "output_type": "stream",
     "text": [
      "⚠️  No logits available for google/paligemma2-3b-pt-224, using zero loss\n",
      "📥 Loading model: google/gemma-2-2b\n"
     ]
    },
    {
     "name": "stderr",
     "output_type": "stream",
     "text": [
      "\n",
      "\n",
      "Loading checkpoint shards: 100%|██████████| 3/3 [00:00<00:00, 56.26it/s]\n"
     ]
    },
    {
     "name": "stdout",
     "output_type": "stream",
     "text": [
      "📥 Loading model: google/paligemma2-3b-pt-224\n"
     ]
    },
    {
     "name": "stderr",
     "output_type": "stream",
     "text": [
      "\n",
      "\n",
      "Loading checkpoint shards:   0%|          | 0/2 [00:00<?, ?it/s]\u001b[A\u001b[A\n",
      "\n",
      "Loading checkpoint shards:  50%|█████     | 1/2 [00:00<00:00,  1.26it/s]\u001b[A\u001b[A\n",
      "\n",
      "Loading checkpoint shards: 100%|██████████| 2/2 [00:00<00:00,  2.05it/s]\u001b[A\u001b[A\n",
      "\n",
      "Layer 4 texts:  73%|███████▎  | 73/100 [14:45<05:25, 12.05s/it]\u001b[A"
     ]
    },
    {
     "name": "stdout",
     "output_type": "stream",
     "text": [
      "⚠️  No logits available for google/paligemma2-3b-pt-224, using zero loss\n",
      "📥 Loading model: google/gemma-2-2b\n"
     ]
    },
    {
     "name": "stderr",
     "output_type": "stream",
     "text": [
      "\n",
      "\n",
      "Loading checkpoint shards: 100%|██████████| 3/3 [00:00<00:00, 60.39it/s]\n"
     ]
    },
    {
     "name": "stdout",
     "output_type": "stream",
     "text": [
      "📥 Loading model: google/paligemma2-3b-pt-224\n"
     ]
    },
    {
     "name": "stderr",
     "output_type": "stream",
     "text": [
      "\n",
      "\n",
      "Loading checkpoint shards:   0%|          | 0/2 [00:00<?, ?it/s]\u001b[A\u001b[A\n",
      "\n",
      "Loading checkpoint shards:  50%|█████     | 1/2 [00:00<00:00,  1.22it/s]\u001b[A\u001b[A\n",
      "\n",
      "Loading checkpoint shards: 100%|██████████| 2/2 [00:01<00:00,  2.00it/s]\u001b[A\u001b[A\n",
      "\n",
      "Layer 4 texts:  74%|███████▍  | 74/100 [14:57<05:12, 12.03s/it]\u001b[A"
     ]
    },
    {
     "name": "stdout",
     "output_type": "stream",
     "text": [
      "⚠️  No logits available for google/paligemma2-3b-pt-224, using zero loss\n",
      "📥 Loading model: google/gemma-2-2b\n"
     ]
    },
    {
     "name": "stderr",
     "output_type": "stream",
     "text": [
      "\n",
      "\n",
      "Loading checkpoint shards: 100%|██████████| 3/3 [00:00<00:00, 56.57it/s]\n"
     ]
    },
    {
     "name": "stdout",
     "output_type": "stream",
     "text": [
      "📥 Loading model: google/paligemma2-3b-pt-224\n"
     ]
    },
    {
     "name": "stderr",
     "output_type": "stream",
     "text": [
      "\n",
      "\n",
      "Loading checkpoint shards:   0%|          | 0/2 [00:00<?, ?it/s]\u001b[A\u001b[A\n",
      "\n",
      "Loading checkpoint shards:  50%|█████     | 1/2 [00:00<00:00,  1.13it/s]\u001b[A\u001b[A\n",
      "\n",
      "Loading checkpoint shards: 100%|██████████| 2/2 [00:01<00:00,  1.88it/s]\u001b[A\u001b[A\n",
      "\n",
      "Layer 4 texts:  75%|███████▌  | 75/100 [15:14<05:39, 13.59s/it]\u001b[A"
     ]
    },
    {
     "name": "stdout",
     "output_type": "stream",
     "text": [
      "⚠️  No logits available for google/paligemma2-3b-pt-224, using zero loss\n",
      "📥 Loading model: google/gemma-2-2b\n"
     ]
    },
    {
     "name": "stderr",
     "output_type": "stream",
     "text": [
      "\n",
      "\n",
      "Loading checkpoint shards: 100%|██████████| 3/3 [00:00<00:00, 62.75it/s]\n"
     ]
    },
    {
     "name": "stdout",
     "output_type": "stream",
     "text": [
      "📥 Loading model: google/paligemma2-3b-pt-224\n"
     ]
    },
    {
     "name": "stderr",
     "output_type": "stream",
     "text": [
      "\n",
      "\n",
      "Loading checkpoint shards:   0%|          | 0/2 [00:00<?, ?it/s]\u001b[A\u001b[A\n",
      "\n",
      "Loading checkpoint shards:  50%|█████     | 1/2 [00:00<00:00,  1.25it/s]\u001b[A\u001b[A\n",
      "\n",
      "Loading checkpoint shards: 100%|██████████| 2/2 [00:00<00:00,  2.05it/s]\u001b[A\u001b[A\n",
      "\n",
      "Layer 4 texts:  76%|███████▌  | 76/100 [15:26<05:15, 13.15s/it]\u001b[A"
     ]
    },
    {
     "name": "stdout",
     "output_type": "stream",
     "text": [
      "⚠️  No logits available for google/paligemma2-3b-pt-224, using zero loss\n",
      "📥 Loading model: google/gemma-2-2b\n"
     ]
    },
    {
     "name": "stderr",
     "output_type": "stream",
     "text": [
      "\n",
      "\n",
      "Loading checkpoint shards: 100%|██████████| 3/3 [00:00<00:00, 58.78it/s]\n"
     ]
    },
    {
     "name": "stdout",
     "output_type": "stream",
     "text": [
      "📥 Loading model: google/paligemma2-3b-pt-224\n"
     ]
    },
    {
     "name": "stderr",
     "output_type": "stream",
     "text": [
      "\n",
      "\n",
      "Loading checkpoint shards:   0%|          | 0/2 [00:00<?, ?it/s]\u001b[A\u001b[A\n",
      "\n",
      "Loading checkpoint shards:  50%|█████     | 1/2 [00:00<00:00,  1.29it/s]\u001b[A\u001b[A\n",
      "\n",
      "Loading checkpoint shards: 100%|██████████| 2/2 [00:00<00:00,  2.08it/s]\u001b[A\u001b[A\n",
      "\n",
      "Layer 4 texts:  77%|███████▋  | 77/100 [15:38<04:54, 12.79s/it]\u001b[A"
     ]
    },
    {
     "name": "stdout",
     "output_type": "stream",
     "text": [
      "⚠️  No logits available for google/paligemma2-3b-pt-224, using zero loss\n",
      "📥 Loading model: google/gemma-2-2b\n"
     ]
    },
    {
     "name": "stderr",
     "output_type": "stream",
     "text": [
      "\n",
      "\n",
      "Loading checkpoint shards: 100%|██████████| 3/3 [00:00<00:00, 57.86it/s]\n"
     ]
    },
    {
     "name": "stdout",
     "output_type": "stream",
     "text": [
      "📥 Loading model: google/paligemma2-3b-pt-224\n"
     ]
    },
    {
     "name": "stderr",
     "output_type": "stream",
     "text": [
      "\n",
      "\n",
      "Loading checkpoint shards:   0%|          | 0/2 [00:00<?, ?it/s]\u001b[A\u001b[A\n",
      "\n",
      "Loading checkpoint shards:  50%|█████     | 1/2 [00:00<00:00,  1.23it/s]\u001b[A\u001b[A\n",
      "\n",
      "Loading checkpoint shards: 100%|██████████| 2/2 [00:00<00:00,  2.00it/s]\u001b[A\u001b[A\n",
      "\n",
      "Layer 4 texts:  78%|███████▊  | 78/100 [15:51<04:37, 12.60s/it]\u001b[A"
     ]
    },
    {
     "name": "stdout",
     "output_type": "stream",
     "text": [
      "⚠️  No logits available for google/paligemma2-3b-pt-224, using zero loss\n",
      "📥 Loading model: google/gemma-2-2b\n"
     ]
    },
    {
     "name": "stderr",
     "output_type": "stream",
     "text": [
      "\n",
      "\n",
      "Loading checkpoint shards: 100%|██████████| 3/3 [00:00<00:00, 63.75it/s]\n"
     ]
    },
    {
     "name": "stdout",
     "output_type": "stream",
     "text": [
      "📥 Loading model: google/paligemma2-3b-pt-224\n"
     ]
    },
    {
     "name": "stderr",
     "output_type": "stream",
     "text": [
      "\n",
      "\n",
      "Loading checkpoint shards:   0%|          | 0/2 [00:00<?, ?it/s]\u001b[A\u001b[A\n",
      "\n",
      "Loading checkpoint shards:  50%|█████     | 1/2 [00:00<00:00,  1.24it/s]\u001b[A\u001b[A\n",
      "\n",
      "Loading checkpoint shards: 100%|██████████| 2/2 [00:00<00:00,  2.02it/s]\u001b[A\u001b[A\n",
      "\n",
      "Layer 4 texts:  79%|███████▉  | 79/100 [16:03<04:24, 12.58s/it]\u001b[A"
     ]
    },
    {
     "name": "stdout",
     "output_type": "stream",
     "text": [
      "⚠️  No logits available for google/paligemma2-3b-pt-224, using zero loss\n",
      "📥 Loading model: google/gemma-2-2b\n"
     ]
    },
    {
     "name": "stderr",
     "output_type": "stream",
     "text": [
      "\n",
      "\n",
      "Loading checkpoint shards: 100%|██████████| 3/3 [00:00<00:00, 58.36it/s]\n"
     ]
    },
    {
     "name": "stdout",
     "output_type": "stream",
     "text": [
      "📥 Loading model: google/paligemma2-3b-pt-224\n"
     ]
    },
    {
     "name": "stderr",
     "output_type": "stream",
     "text": [
      "\n",
      "\n",
      "Loading checkpoint shards:   0%|          | 0/2 [00:00<?, ?it/s]\u001b[A\u001b[A\n",
      "\n",
      "Loading checkpoint shards:  50%|█████     | 1/2 [00:00<00:00,  1.25it/s]\u001b[A\u001b[A\n",
      "\n",
      "Loading checkpoint shards: 100%|██████████| 2/2 [00:00<00:00,  2.05it/s]\u001b[A\u001b[A\n",
      "\n",
      "Layer 4 texts:  80%|████████  | 80/100 [16:15<04:07, 12.36s/it]\u001b[A"
     ]
    },
    {
     "name": "stdout",
     "output_type": "stream",
     "text": [
      "⚠️  No logits available for google/paligemma2-3b-pt-224, using zero loss\n",
      "📥 Loading model: google/gemma-2-2b\n"
     ]
    },
    {
     "name": "stderr",
     "output_type": "stream",
     "text": [
      "\n",
      "\n",
      "Loading checkpoint shards: 100%|██████████| 3/3 [00:00<00:00, 63.11it/s]\n"
     ]
    },
    {
     "name": "stdout",
     "output_type": "stream",
     "text": [
      "📥 Loading model: google/paligemma2-3b-pt-224\n"
     ]
    },
    {
     "name": "stderr",
     "output_type": "stream",
     "text": [
      "\n",
      "\n",
      "Loading checkpoint shards:   0%|          | 0/2 [00:00<?, ?it/s]\u001b[A\u001b[A\n",
      "\n",
      "Loading checkpoint shards:  50%|█████     | 1/2 [00:00<00:00,  1.35it/s]\u001b[A\u001b[A\n",
      "\n",
      "Loading checkpoint shards: 100%|██████████| 2/2 [00:00<00:00,  2.20it/s]\u001b[A\u001b[A\n",
      "\n",
      "Layer 4 texts:  81%|████████  | 81/100 [16:27<03:51, 12.19s/it]\u001b[A"
     ]
    },
    {
     "name": "stdout",
     "output_type": "stream",
     "text": [
      "⚠️  No logits available for google/paligemma2-3b-pt-224, using zero loss\n",
      "📥 Loading model: google/gemma-2-2b\n"
     ]
    },
    {
     "name": "stderr",
     "output_type": "stream",
     "text": [
      "\n",
      "\n",
      "Loading checkpoint shards: 100%|██████████| 3/3 [00:00<00:00, 63.17it/s]\n"
     ]
    },
    {
     "name": "stdout",
     "output_type": "stream",
     "text": [
      "📥 Loading model: google/paligemma2-3b-pt-224\n"
     ]
    },
    {
     "name": "stderr",
     "output_type": "stream",
     "text": [
      "\n",
      "\n",
      "Loading checkpoint shards:   0%|          | 0/2 [00:00<?, ?it/s]\u001b[A\u001b[A\n",
      "\n",
      "Loading checkpoint shards:  50%|█████     | 1/2 [00:00<00:00,  1.27it/s]\u001b[A\u001b[A\n",
      "\n",
      "Loading checkpoint shards: 100%|██████████| 2/2 [00:00<00:00,  2.07it/s]\u001b[A\u001b[A\n",
      "\n",
      "Layer 4 texts:  82%|████████▏ | 82/100 [16:39<03:37, 12.10s/it]\u001b[A"
     ]
    },
    {
     "name": "stdout",
     "output_type": "stream",
     "text": [
      "⚠️  No logits available for google/paligemma2-3b-pt-224, using zero loss\n",
      "📥 Loading model: google/gemma-2-2b\n"
     ]
    },
    {
     "name": "stderr",
     "output_type": "stream",
     "text": [
      "\n",
      "\n",
      "Loading checkpoint shards: 100%|██████████| 3/3 [00:00<00:00, 62.99it/s]\n"
     ]
    },
    {
     "name": "stdout",
     "output_type": "stream",
     "text": [
      "📥 Loading model: google/paligemma2-3b-pt-224\n"
     ]
    },
    {
     "name": "stderr",
     "output_type": "stream",
     "text": [
      "\n",
      "\n",
      "Loading checkpoint shards:   0%|          | 0/2 [00:00<?, ?it/s]\u001b[A\u001b[A\n",
      "\n",
      "Loading checkpoint shards:  50%|█████     | 1/2 [00:00<00:00,  1.26it/s]\u001b[A\u001b[A\n",
      "\n",
      "Loading checkpoint shards: 100%|██████████| 2/2 [00:00<00:00,  2.06it/s]\u001b[A\u001b[A\n",
      "\n",
      "Layer 4 texts:  83%|████████▎ | 83/100 [16:50<03:24, 12.04s/it]\u001b[A"
     ]
    },
    {
     "name": "stdout",
     "output_type": "stream",
     "text": [
      "⚠️  No logits available for google/paligemma2-3b-pt-224, using zero loss\n",
      "📥 Loading model: google/gemma-2-2b\n"
     ]
    },
    {
     "name": "stderr",
     "output_type": "stream",
     "text": [
      "\n",
      "\n",
      "Loading checkpoint shards: 100%|██████████| 3/3 [00:00<00:00, 62.77it/s]\n"
     ]
    },
    {
     "name": "stdout",
     "output_type": "stream",
     "text": [
      "📥 Loading model: google/paligemma2-3b-pt-224\n"
     ]
    },
    {
     "name": "stderr",
     "output_type": "stream",
     "text": [
      "\n",
      "\n",
      "Loading checkpoint shards:   0%|          | 0/2 [00:00<?, ?it/s]\u001b[A\u001b[A\n",
      "\n",
      "Loading checkpoint shards:  50%|█████     | 1/2 [00:00<00:00,  1.29it/s]\u001b[A\u001b[A\n",
      "\n",
      "Loading checkpoint shards: 100%|██████████| 2/2 [00:00<00:00,  2.10it/s]\u001b[A\u001b[A\n",
      "\n",
      "Layer 4 texts:  84%|████████▍ | 84/100 [17:03<03:13, 12.10s/it]\u001b[A"
     ]
    },
    {
     "name": "stdout",
     "output_type": "stream",
     "text": [
      "⚠️  No logits available for google/paligemma2-3b-pt-224, using zero loss\n",
      "📥 Loading model: google/gemma-2-2b\n"
     ]
    },
    {
     "name": "stderr",
     "output_type": "stream",
     "text": [
      "\n",
      "\n",
      "Loading checkpoint shards: 100%|██████████| 3/3 [00:00<00:00, 62.93it/s]\n"
     ]
    },
    {
     "name": "stdout",
     "output_type": "stream",
     "text": [
      "📥 Loading model: google/paligemma2-3b-pt-224\n"
     ]
    },
    {
     "name": "stderr",
     "output_type": "stream",
     "text": [
      "\n",
      "\n",
      "Loading checkpoint shards:   0%|          | 0/2 [00:00<?, ?it/s]\u001b[A\u001b[A\n",
      "\n",
      "Loading checkpoint shards:  50%|█████     | 1/2 [00:00<00:00,  1.24it/s]\u001b[A\u001b[A\n",
      "\n",
      "Loading checkpoint shards: 100%|██████████| 2/2 [00:00<00:00,  2.04it/s]\u001b[A\u001b[A\n",
      "\n",
      "Layer 4 texts:  85%|████████▌ | 85/100 [17:15<03:01, 12.12s/it]\u001b[A"
     ]
    },
    {
     "name": "stdout",
     "output_type": "stream",
     "text": [
      "⚠️  No logits available for google/paligemma2-3b-pt-224, using zero loss\n",
      "📥 Loading model: google/gemma-2-2b\n"
     ]
    },
    {
     "name": "stderr",
     "output_type": "stream",
     "text": [
      "\n",
      "\n",
      "Loading checkpoint shards: 100%|██████████| 3/3 [00:00<00:00, 62.14it/s]\n"
     ]
    },
    {
     "name": "stdout",
     "output_type": "stream",
     "text": [
      "📥 Loading model: google/paligemma2-3b-pt-224\n"
     ]
    },
    {
     "name": "stderr",
     "output_type": "stream",
     "text": [
      "\n",
      "\n",
      "Loading checkpoint shards:   0%|          | 0/2 [00:00<?, ?it/s]\u001b[A\u001b[A\n",
      "\n",
      "Loading checkpoint shards:  50%|█████     | 1/2 [00:00<00:00,  1.21it/s]\u001b[A\u001b[A\n",
      "\n",
      "Loading checkpoint shards: 100%|██████████| 2/2 [00:01<00:00,  2.00it/s]\u001b[A\u001b[A\n",
      "\n",
      "Layer 4 texts:  86%|████████▌ | 86/100 [17:27<02:50, 12.16s/it]\u001b[A"
     ]
    },
    {
     "name": "stdout",
     "output_type": "stream",
     "text": [
      "⚠️  No logits available for google/paligemma2-3b-pt-224, using zero loss\n",
      "📥 Loading model: google/gemma-2-2b\n"
     ]
    },
    {
     "name": "stderr",
     "output_type": "stream",
     "text": [
      "\n",
      "\n",
      "Loading checkpoint shards: 100%|██████████| 3/3 [00:00<00:00, 62.95it/s]\n"
     ]
    },
    {
     "name": "stdout",
     "output_type": "stream",
     "text": [
      "📥 Loading model: google/paligemma2-3b-pt-224\n"
     ]
    },
    {
     "name": "stderr",
     "output_type": "stream",
     "text": [
      "\n",
      "\n",
      "Loading checkpoint shards:   0%|          | 0/2 [00:00<?, ?it/s]\u001b[A\u001b[A\n",
      "\n",
      "Loading checkpoint shards:  50%|█████     | 1/2 [00:00<00:00,  1.22it/s]\u001b[A\u001b[A\n",
      "\n",
      "Loading checkpoint shards: 100%|██████████| 2/2 [00:01<00:00,  2.00it/s]\u001b[A\u001b[A\n",
      "\n",
      "Layer 4 texts:  87%|████████▋ | 87/100 [17:39<02:37, 12.09s/it]\u001b[A"
     ]
    },
    {
     "name": "stdout",
     "output_type": "stream",
     "text": [
      "⚠️  No logits available for google/paligemma2-3b-pt-224, using zero loss\n",
      "📥 Loading model: google/gemma-2-2b\n"
     ]
    },
    {
     "name": "stderr",
     "output_type": "stream",
     "text": [
      "\n",
      "\n",
      "Loading checkpoint shards: 100%|██████████| 3/3 [00:00<00:00, 60.38it/s]\n"
     ]
    },
    {
     "name": "stdout",
     "output_type": "stream",
     "text": [
      "📥 Loading model: google/paligemma2-3b-pt-224\n"
     ]
    },
    {
     "name": "stderr",
     "output_type": "stream",
     "text": [
      "\n",
      "\n",
      "Loading checkpoint shards:   0%|          | 0/2 [00:00<?, ?it/s]\u001b[A\u001b[A\n",
      "\n",
      "Loading checkpoint shards:  50%|█████     | 1/2 [00:00<00:00,  1.25it/s]\u001b[A\u001b[A\n",
      "\n",
      "Loading checkpoint shards: 100%|██████████| 2/2 [00:00<00:00,  2.05it/s]\u001b[A\u001b[A\n",
      "\n",
      "Layer 4 texts:  88%|████████▊ | 88/100 [17:51<02:24, 12.04s/it]\u001b[A"
     ]
    },
    {
     "name": "stdout",
     "output_type": "stream",
     "text": [
      "⚠️  No logits available for google/paligemma2-3b-pt-224, using zero loss\n",
      "📥 Loading model: google/gemma-2-2b\n"
     ]
    },
    {
     "name": "stderr",
     "output_type": "stream",
     "text": [
      "\n",
      "\n",
      "Loading checkpoint shards: 100%|██████████| 3/3 [00:00<00:00, 62.70it/s]\n"
     ]
    },
    {
     "name": "stdout",
     "output_type": "stream",
     "text": [
      "📥 Loading model: google/paligemma2-3b-pt-224\n"
     ]
    },
    {
     "name": "stderr",
     "output_type": "stream",
     "text": [
      "\n",
      "\n",
      "Loading checkpoint shards:   0%|          | 0/2 [00:00<?, ?it/s]\u001b[A\u001b[A\n",
      "\n",
      "Loading checkpoint shards:  50%|█████     | 1/2 [00:00<00:00,  1.10it/s]\u001b[A\u001b[A\n",
      "\n",
      "Loading checkpoint shards: 100%|██████████| 2/2 [00:01<00:00,  1.84it/s]\u001b[A\u001b[A\n",
      "\n",
      "Layer 4 texts:  89%|████████▉ | 89/100 [18:03<02:13, 12.09s/it]\u001b[A"
     ]
    },
    {
     "name": "stdout",
     "output_type": "stream",
     "text": [
      "⚠️  No logits available for google/paligemma2-3b-pt-224, using zero loss\n",
      "📥 Loading model: google/gemma-2-2b\n"
     ]
    },
    {
     "name": "stderr",
     "output_type": "stream",
     "text": [
      "\n",
      "\n",
      "Loading checkpoint shards: 100%|██████████| 3/3 [00:00<00:00, 61.52it/s]\n"
     ]
    },
    {
     "name": "stdout",
     "output_type": "stream",
     "text": [
      "📥 Loading model: google/paligemma2-3b-pt-224\n"
     ]
    },
    {
     "name": "stderr",
     "output_type": "stream",
     "text": [
      "\n",
      "\n",
      "Loading checkpoint shards:   0%|          | 0/2 [00:00<?, ?it/s]\u001b[A\u001b[A\n",
      "\n",
      "Loading checkpoint shards:  50%|█████     | 1/2 [00:00<00:00,  1.18it/s]\u001b[A\u001b[A\n",
      "\n",
      "Loading checkpoint shards: 100%|██████████| 2/2 [00:01<00:00,  1.97it/s]\u001b[A\u001b[A\n",
      "\n",
      "Layer 4 texts:  90%|█████████ | 90/100 [18:15<02:00, 12.07s/it]\u001b[A"
     ]
    },
    {
     "name": "stdout",
     "output_type": "stream",
     "text": [
      "⚠️  No logits available for google/paligemma2-3b-pt-224, using zero loss\n",
      "📥 Loading model: google/gemma-2-2b\n"
     ]
    },
    {
     "name": "stderr",
     "output_type": "stream",
     "text": [
      "\n",
      "\n",
      "Loading checkpoint shards: 100%|██████████| 3/3 [00:00<00:00, 62.19it/s]\n"
     ]
    },
    {
     "name": "stdout",
     "output_type": "stream",
     "text": [
      "📥 Loading model: google/paligemma2-3b-pt-224\n"
     ]
    },
    {
     "name": "stderr",
     "output_type": "stream",
     "text": [
      "\n",
      "\n",
      "Loading checkpoint shards:   0%|          | 0/2 [00:00<?, ?it/s]\u001b[A\u001b[A\n",
      "\n",
      "Loading checkpoint shards:  50%|█████     | 1/2 [00:00<00:00,  1.28it/s]\u001b[A\u001b[A\n",
      "\n",
      "Loading checkpoint shards: 100%|██████████| 2/2 [00:00<00:00,  2.09it/s]\u001b[A\u001b[A\n",
      "\n",
      "Layer 4 texts:  91%|█████████ | 91/100 [18:28<01:49, 12.15s/it]\u001b[A"
     ]
    },
    {
     "name": "stdout",
     "output_type": "stream",
     "text": [
      "⚠️  No logits available for google/paligemma2-3b-pt-224, using zero loss\n",
      "📥 Loading model: google/gemma-2-2b\n"
     ]
    },
    {
     "name": "stderr",
     "output_type": "stream",
     "text": [
      "\n",
      "\n",
      "Loading checkpoint shards: 100%|██████████| 3/3 [00:00<00:00, 60.73it/s]\n"
     ]
    },
    {
     "name": "stdout",
     "output_type": "stream",
     "text": [
      "📥 Loading model: google/paligemma2-3b-pt-224\n"
     ]
    },
    {
     "name": "stderr",
     "output_type": "stream",
     "text": [
      "\n",
      "\n",
      "Loading checkpoint shards:   0%|          | 0/2 [00:00<?, ?it/s]\u001b[A\u001b[A\n",
      "\n",
      "Loading checkpoint shards:  50%|█████     | 1/2 [00:00<00:00,  1.29it/s]\u001b[A\u001b[A\n",
      "\n",
      "Loading checkpoint shards: 100%|██████████| 2/2 [00:00<00:00,  2.08it/s]\u001b[A\u001b[A\n",
      "\n",
      "Layer 4 texts:  92%|█████████▏| 92/100 [18:40<01:37, 12.17s/it]\u001b[A"
     ]
    },
    {
     "name": "stdout",
     "output_type": "stream",
     "text": [
      "⚠️  No logits available for google/paligemma2-3b-pt-224, using zero loss\n",
      "📥 Loading model: google/gemma-2-2b\n"
     ]
    },
    {
     "name": "stderr",
     "output_type": "stream",
     "text": [
      "\n",
      "\n",
      "Loading checkpoint shards: 100%|██████████| 3/3 [00:00<00:00, 60.58it/s]\n"
     ]
    },
    {
     "name": "stdout",
     "output_type": "stream",
     "text": [
      "📥 Loading model: google/paligemma2-3b-pt-224\n"
     ]
    },
    {
     "name": "stderr",
     "output_type": "stream",
     "text": [
      "\n",
      "\n",
      "Loading checkpoint shards:   0%|          | 0/2 [00:00<?, ?it/s]\u001b[A\u001b[A\n",
      "\n",
      "Loading checkpoint shards:  50%|█████     | 1/2 [00:00<00:00,  1.28it/s]\u001b[A\u001b[A\n",
      "\n",
      "Loading checkpoint shards: 100%|██████████| 2/2 [00:00<00:00,  2.10it/s]\u001b[A\u001b[A\n",
      "\n",
      "Layer 4 texts:  93%|█████████▎| 93/100 [18:52<01:25, 12.20s/it]\u001b[A"
     ]
    },
    {
     "name": "stdout",
     "output_type": "stream",
     "text": [
      "⚠️  No logits available for google/paligemma2-3b-pt-224, using zero loss\n",
      "📥 Loading model: google/gemma-2-2b\n"
     ]
    },
    {
     "name": "stderr",
     "output_type": "stream",
     "text": [
      "\n",
      "\n",
      "Loading checkpoint shards: 100%|██████████| 3/3 [00:00<00:00, 60.83it/s]\n"
     ]
    },
    {
     "name": "stdout",
     "output_type": "stream",
     "text": [
      "📥 Loading model: google/paligemma2-3b-pt-224\n"
     ]
    },
    {
     "name": "stderr",
     "output_type": "stream",
     "text": [
      "\n",
      "\n",
      "Loading checkpoint shards:   0%|          | 0/2 [00:00<?, ?it/s]\u001b[A\u001b[A\n",
      "\n",
      "Loading checkpoint shards:  50%|█████     | 1/2 [00:00<00:00,  1.26it/s]\u001b[A\u001b[A\n",
      "\n",
      "Loading checkpoint shards: 100%|██████████| 2/2 [00:00<00:00,  2.05it/s]\u001b[A\u001b[A\n",
      "\n",
      "Layer 4 texts:  94%|█████████▍| 94/100 [19:04<01:13, 12.22s/it]\u001b[A"
     ]
    },
    {
     "name": "stdout",
     "output_type": "stream",
     "text": [
      "⚠️  No logits available for google/paligemma2-3b-pt-224, using zero loss\n",
      "📥 Loading model: google/gemma-2-2b\n"
     ]
    },
    {
     "name": "stderr",
     "output_type": "stream",
     "text": [
      "\n",
      "\n",
      "Loading checkpoint shards: 100%|██████████| 3/3 [00:00<00:00, 62.68it/s]\n"
     ]
    },
    {
     "name": "stdout",
     "output_type": "stream",
     "text": [
      "📥 Loading model: google/paligemma2-3b-pt-224\n"
     ]
    },
    {
     "name": "stderr",
     "output_type": "stream",
     "text": [
      "\n",
      "\n",
      "Loading checkpoint shards:   0%|          | 0/2 [00:00<?, ?it/s]\u001b[A\u001b[A\n",
      "\n",
      "Loading checkpoint shards:  50%|█████     | 1/2 [00:00<00:00,  1.24it/s]\u001b[A\u001b[A\n",
      "\n",
      "Loading checkpoint shards: 100%|██████████| 2/2 [00:00<00:00,  2.05it/s]\u001b[A\u001b[A\n",
      "\n",
      "Layer 4 texts:  95%|█████████▌| 95/100 [19:16<01:00, 12.15s/it]\u001b[A"
     ]
    },
    {
     "name": "stdout",
     "output_type": "stream",
     "text": [
      "⚠️  No logits available for google/paligemma2-3b-pt-224, using zero loss\n",
      "📥 Loading model: google/gemma-2-2b\n"
     ]
    },
    {
     "name": "stderr",
     "output_type": "stream",
     "text": [
      "\n",
      "\n",
      "Loading checkpoint shards: 100%|██████████| 3/3 [00:00<00:00, 62.48it/s]\n"
     ]
    },
    {
     "name": "stdout",
     "output_type": "stream",
     "text": [
      "📥 Loading model: google/paligemma2-3b-pt-224\n"
     ]
    },
    {
     "name": "stderr",
     "output_type": "stream",
     "text": [
      "\n",
      "\n",
      "Loading checkpoint shards:   0%|          | 0/2 [00:00<?, ?it/s]\u001b[A\u001b[A\n",
      "\n",
      "Loading checkpoint shards:  50%|█████     | 1/2 [00:00<00:00,  1.27it/s]\u001b[A\u001b[A\n",
      "\n",
      "Loading checkpoint shards: 100%|██████████| 2/2 [00:00<00:00,  2.07it/s]\u001b[A\u001b[A\n",
      "\n",
      "Layer 4 texts:  96%|█████████▌| 96/100 [19:29<00:48, 12.18s/it]\u001b[A"
     ]
    },
    {
     "name": "stdout",
     "output_type": "stream",
     "text": [
      "⚠️  No logits available for google/paligemma2-3b-pt-224, using zero loss\n",
      "📥 Loading model: google/gemma-2-2b\n"
     ]
    },
    {
     "name": "stderr",
     "output_type": "stream",
     "text": [
      "\n",
      "\n",
      "Loading checkpoint shards: 100%|██████████| 3/3 [00:00<00:00, 59.61it/s]\n"
     ]
    },
    {
     "name": "stdout",
     "output_type": "stream",
     "text": [
      "📥 Loading model: google/paligemma2-3b-pt-224\n"
     ]
    },
    {
     "name": "stderr",
     "output_type": "stream",
     "text": [
      "\n",
      "\n",
      "Loading checkpoint shards:   0%|          | 0/2 [00:00<?, ?it/s]\u001b[A\u001b[A\n",
      "\n",
      "Loading checkpoint shards:  50%|█████     | 1/2 [00:00<00:00,  1.22it/s]\u001b[A\u001b[A\n",
      "\n",
      "Loading checkpoint shards: 100%|██████████| 2/2 [00:00<00:00,  2.00it/s]\u001b[A\u001b[A\n",
      "\n",
      "Layer 4 texts:  97%|█████████▋| 97/100 [19:41<00:36, 12.23s/it]\u001b[A"
     ]
    },
    {
     "name": "stdout",
     "output_type": "stream",
     "text": [
      "⚠️  No logits available for google/paligemma2-3b-pt-224, using zero loss\n",
      "📥 Loading model: google/gemma-2-2b\n"
     ]
    },
    {
     "name": "stderr",
     "output_type": "stream",
     "text": [
      "\n",
      "\n",
      "Loading checkpoint shards: 100%|██████████| 3/3 [00:00<00:00, 61.26it/s]\n"
     ]
    },
    {
     "name": "stdout",
     "output_type": "stream",
     "text": [
      "📥 Loading model: google/paligemma2-3b-pt-224\n"
     ]
    },
    {
     "name": "stderr",
     "output_type": "stream",
     "text": [
      "\n",
      "\n",
      "Loading checkpoint shards:   0%|          | 0/2 [00:00<?, ?it/s]\u001b[A\u001b[A\n",
      "\n",
      "Loading checkpoint shards:  50%|█████     | 1/2 [00:00<00:00,  1.26it/s]\u001b[A\u001b[A\n",
      "\n",
      "Loading checkpoint shards: 100%|██████████| 2/2 [00:00<00:00,  2.05it/s]\u001b[A\u001b[A\n",
      "\n",
      "Layer 4 texts:  98%|█████████▊| 98/100 [19:53<00:24, 12.27s/it]\u001b[A"
     ]
    },
    {
     "name": "stdout",
     "output_type": "stream",
     "text": [
      "⚠️  No logits available for google/paligemma2-3b-pt-224, using zero loss\n",
      "📥 Loading model: google/gemma-2-2b\n"
     ]
    },
    {
     "name": "stderr",
     "output_type": "stream",
     "text": [
      "\n",
      "\n",
      "Loading checkpoint shards: 100%|██████████| 3/3 [00:00<00:00, 59.88it/s]\n"
     ]
    },
    {
     "name": "stdout",
     "output_type": "stream",
     "text": [
      "📥 Loading model: google/paligemma2-3b-pt-224\n"
     ]
    },
    {
     "name": "stderr",
     "output_type": "stream",
     "text": [
      "\n",
      "\n",
      "Loading checkpoint shards:   0%|          | 0/2 [00:00<?, ?it/s]\u001b[A\u001b[A\n",
      "\n",
      "Loading checkpoint shards:  50%|█████     | 1/2 [00:00<00:00,  1.28it/s]\u001b[A\u001b[A\n",
      "\n",
      "Loading checkpoint shards: 100%|██████████| 2/2 [00:00<00:00,  2.07it/s]\u001b[A\u001b[A\n",
      "\n",
      "Layer 4 texts:  99%|█████████▉| 99/100 [20:05<00:12, 12.16s/it]\u001b[A"
     ]
    },
    {
     "name": "stdout",
     "output_type": "stream",
     "text": [
      "⚠️  No logits available for google/paligemma2-3b-pt-224, using zero loss\n",
      "📥 Loading model: google/gemma-2-2b\n"
     ]
    },
    {
     "name": "stderr",
     "output_type": "stream",
     "text": [
      "\n",
      "\n",
      "Loading checkpoint shards: 100%|██████████| 3/3 [00:00<00:00, 54.02it/s]\n"
     ]
    },
    {
     "name": "stdout",
     "output_type": "stream",
     "text": [
      "📥 Loading model: google/paligemma2-3b-pt-224\n"
     ]
    },
    {
     "name": "stderr",
     "output_type": "stream",
     "text": [
      "\n",
      "\n",
      "Loading checkpoint shards:   0%|          | 0/2 [00:00<?, ?it/s]\u001b[A\u001b[A\n",
      "\n",
      "Loading checkpoint shards:  50%|█████     | 1/2 [00:00<00:00,  1.26it/s]\u001b[A\u001b[A\n",
      "\n",
      "Loading checkpoint shards: 100%|██████████| 2/2 [00:00<00:00,  2.05it/s]\u001b[A\u001b[A\n",
      "\n",
      "Layer 4 texts: 100%|██████████| 100/100 [20:17<00:00, 12.06s/it]\u001b[A\n",
      "Processing layers:  17%|█▋        | 1/6 [20:21<1:41:47, 1221.48s/it]"
     ]
    },
    {
     "name": "stdout",
     "output_type": "stream",
     "text": [
      "⚠️  No logits available for google/paligemma2-3b-pt-224, using zero loss\n",
      "   Memory after layer 4: 12.53GB\n",
      "\n",
      "📊 Processing Layer 8\n",
      "   📥 Loading SAE Layer 8: layer_8/width_16k/canonical\n"
     ]
    },
    {
     "name": "stderr",
     "output_type": "stream",
     "text": [
      "\n",
      "Layer 8 texts:   0%|          | 0/100 [00:00<?, ?it/s]\u001b[A"
     ]
    },
    {
     "name": "stdout",
     "output_type": "stream",
     "text": [
      "📥 Loading model: google/gemma-2-2b\n"
     ]
    },
    {
     "name": "stderr",
     "output_type": "stream",
     "text": [
      "\n",
      "\n",
      "Loading checkpoint shards: 100%|██████████| 3/3 [00:00<00:00, 58.65it/s]\n"
     ]
    },
    {
     "name": "stdout",
     "output_type": "stream",
     "text": [
      "📥 Loading model: google/paligemma2-3b-pt-224\n"
     ]
    },
    {
     "name": "stderr",
     "output_type": "stream",
     "text": [
      "\n",
      "\n",
      "Loading checkpoint shards:   0%|          | 0/2 [00:00<?, ?it/s]\u001b[A\u001b[A\n",
      "\n",
      "Loading checkpoint shards:  50%|█████     | 1/2 [00:00<00:00,  1.11it/s]\u001b[A\u001b[A\n",
      "\n",
      "Loading checkpoint shards: 100%|██████████| 2/2 [00:01<00:00,  1.85it/s]\u001b[A\u001b[A\n",
      "\n",
      "Layer 8 texts:   1%|          | 1/100 [00:12<19:55, 12.08s/it]\u001b[A"
     ]
    },
    {
     "name": "stdout",
     "output_type": "stream",
     "text": [
      "⚠️  No logits available for google/paligemma2-3b-pt-224, using zero loss\n",
      "📥 Loading model: google/gemma-2-2b\n"
     ]
    },
    {
     "name": "stderr",
     "output_type": "stream",
     "text": [
      "\n",
      "\n",
      "Loading checkpoint shards: 100%|██████████| 3/3 [00:00<00:00, 62.30it/s]\n"
     ]
    },
    {
     "name": "stdout",
     "output_type": "stream",
     "text": [
      "📥 Loading model: google/paligemma2-3b-pt-224\n"
     ]
    },
    {
     "name": "stderr",
     "output_type": "stream",
     "text": [
      "\n",
      "\n",
      "Loading checkpoint shards:   0%|          | 0/2 [00:00<?, ?it/s]\u001b[A\u001b[A\n",
      "\n",
      "Loading checkpoint shards:  50%|█████     | 1/2 [00:00<00:00,  1.27it/s]\u001b[A\u001b[A\n",
      "\n",
      "Loading checkpoint shards: 100%|██████████| 2/2 [00:01<00:00,  1.67it/s]\u001b[A\u001b[A\n",
      "\n",
      "Layer 8 texts:   2%|▏         | 2/100 [00:24<19:52, 12.17s/it]\u001b[A"
     ]
    },
    {
     "name": "stdout",
     "output_type": "stream",
     "text": [
      "⚠️  No logits available for google/paligemma2-3b-pt-224, using zero loss\n",
      "📥 Loading model: google/gemma-2-2b\n"
     ]
    },
    {
     "name": "stderr",
     "output_type": "stream",
     "text": [
      "\n",
      "\n",
      "Loading checkpoint shards: 100%|██████████| 3/3 [00:00<00:00, 55.08it/s]\n"
     ]
    },
    {
     "name": "stdout",
     "output_type": "stream",
     "text": [
      "📥 Loading model: google/paligemma2-3b-pt-224\n"
     ]
    },
    {
     "name": "stderr",
     "output_type": "stream",
     "text": [
      "\n",
      "\n",
      "Loading checkpoint shards:   0%|          | 0/2 [00:00<?, ?it/s]\u001b[A\u001b[A\n",
      "\n",
      "Loading checkpoint shards:  50%|█████     | 1/2 [00:00<00:00,  1.17it/s]\u001b[A\u001b[A\n",
      "\n",
      "Loading checkpoint shards: 100%|██████████| 2/2 [00:01<00:00,  1.94it/s]\u001b[A\u001b[A\n",
      "\n",
      "Layer 8 texts:   3%|▎         | 3/100 [00:36<19:29, 12.06s/it]\u001b[A"
     ]
    },
    {
     "name": "stdout",
     "output_type": "stream",
     "text": [
      "⚠️  No logits available for google/paligemma2-3b-pt-224, using zero loss\n",
      "📥 Loading model: google/gemma-2-2b\n"
     ]
    },
    {
     "name": "stderr",
     "output_type": "stream",
     "text": [
      "\n",
      "\n",
      "Loading checkpoint shards: 100%|██████████| 3/3 [00:00<00:00, 55.48it/s]\n"
     ]
    },
    {
     "name": "stdout",
     "output_type": "stream",
     "text": [
      "📥 Loading model: google/paligemma2-3b-pt-224\n"
     ]
    },
    {
     "name": "stderr",
     "output_type": "stream",
     "text": [
      "\n",
      "\n",
      "Loading checkpoint shards:   0%|          | 0/2 [00:00<?, ?it/s]\u001b[A\u001b[A\n",
      "\n",
      "Loading checkpoint shards:  50%|█████     | 1/2 [00:00<00:00,  1.21it/s]\u001b[A\u001b[A\n",
      "\n",
      "Loading checkpoint shards: 100%|██████████| 2/2 [00:01<00:00,  1.99it/s]\u001b[A\u001b[A\n",
      "\n",
      "Layer 8 texts:   4%|▍         | 4/100 [00:48<19:32, 12.21s/it]\u001b[A"
     ]
    },
    {
     "name": "stdout",
     "output_type": "stream",
     "text": [
      "⚠️  No logits available for google/paligemma2-3b-pt-224, using zero loss\n",
      "📥 Loading model: google/gemma-2-2b\n"
     ]
    },
    {
     "name": "stderr",
     "output_type": "stream",
     "text": [
      "\n",
      "\n",
      "Loading checkpoint shards: 100%|██████████| 3/3 [00:00<00:00, 61.08it/s]\n"
     ]
    },
    {
     "name": "stdout",
     "output_type": "stream",
     "text": [
      "📥 Loading model: google/paligemma2-3b-pt-224\n"
     ]
    },
    {
     "name": "stderr",
     "output_type": "stream",
     "text": [
      "\n",
      "\n",
      "Loading checkpoint shards:   0%|          | 0/2 [00:00<?, ?it/s]\u001b[A\u001b[A\n",
      "\n",
      "Loading checkpoint shards:  50%|█████     | 1/2 [00:00<00:00,  1.19it/s]\u001b[A\u001b[A\n",
      "\n",
      "Loading checkpoint shards: 100%|██████████| 2/2 [00:01<00:00,  1.96it/s]\u001b[A\u001b[A\n",
      "\n",
      "Layer 8 texts:   5%|▌         | 5/100 [01:00<19:21, 12.23s/it]\u001b[A"
     ]
    },
    {
     "name": "stdout",
     "output_type": "stream",
     "text": [
      "⚠️  No logits available for google/paligemma2-3b-pt-224, using zero loss\n",
      "📥 Loading model: google/gemma-2-2b\n"
     ]
    },
    {
     "name": "stderr",
     "output_type": "stream",
     "text": [
      "\n",
      "\n",
      "Loading checkpoint shards: 100%|██████████| 3/3 [00:00<00:00, 55.13it/s]\n"
     ]
    },
    {
     "name": "stdout",
     "output_type": "stream",
     "text": [
      "📥 Loading model: google/paligemma2-3b-pt-224\n"
     ]
    },
    {
     "name": "stderr",
     "output_type": "stream",
     "text": [
      "\n",
      "\n",
      "Loading checkpoint shards:   0%|          | 0/2 [00:00<?, ?it/s]\u001b[A\u001b[A\n",
      "\n",
      "Loading checkpoint shards:  50%|█████     | 1/2 [00:00<00:00,  1.25it/s]\u001b[A\u001b[A\n",
      "\n",
      "Loading checkpoint shards: 100%|██████████| 2/2 [00:00<00:00,  2.03it/s]\u001b[A\u001b[A\n",
      "\n",
      "Layer 8 texts:   6%|▌         | 6/100 [01:12<18:59, 12.13s/it]\u001b[A"
     ]
    },
    {
     "name": "stdout",
     "output_type": "stream",
     "text": [
      "⚠️  No logits available for google/paligemma2-3b-pt-224, using zero loss\n",
      "📥 Loading model: google/gemma-2-2b\n"
     ]
    },
    {
     "name": "stderr",
     "output_type": "stream",
     "text": [
      "\n",
      "\n",
      "Loading checkpoint shards: 100%|██████████| 3/3 [00:00<00:00, 57.77it/s]\n"
     ]
    },
    {
     "name": "stdout",
     "output_type": "stream",
     "text": [
      "📥 Loading model: google/paligemma2-3b-pt-224\n"
     ]
    },
    {
     "name": "stderr",
     "output_type": "stream",
     "text": [
      "\n",
      "\n",
      "Loading checkpoint shards:   0%|          | 0/2 [00:00<?, ?it/s]\u001b[A\u001b[A\n",
      "\n",
      "Loading checkpoint shards:  50%|█████     | 1/2 [00:01<00:01,  1.00s/it]\u001b[A\u001b[A\n",
      "\n",
      "Loading checkpoint shards: 100%|██████████| 2/2 [00:01<00:00,  1.69it/s]\u001b[A\u001b[A\n",
      "\n",
      "Layer 8 texts:   7%|▋         | 7/100 [01:25<18:50, 12.15s/it]\u001b[A"
     ]
    },
    {
     "name": "stdout",
     "output_type": "stream",
     "text": [
      "⚠️  No logits available for google/paligemma2-3b-pt-224, using zero loss\n",
      "📥 Loading model: google/gemma-2-2b\n"
     ]
    },
    {
     "name": "stderr",
     "output_type": "stream",
     "text": [
      "\n",
      "\n",
      "Loading checkpoint shards: 100%|██████████| 3/3 [00:00<00:00, 51.49it/s]\n"
     ]
    },
    {
     "name": "stdout",
     "output_type": "stream",
     "text": [
      "📥 Loading model: google/paligemma2-3b-pt-224\n"
     ]
    },
    {
     "name": "stderr",
     "output_type": "stream",
     "text": [
      "\n",
      "\n",
      "Loading checkpoint shards:   0%|          | 0/2 [00:00<?, ?it/s]\u001b[A\u001b[A\n",
      "\n",
      "Loading checkpoint shards:  50%|█████     | 1/2 [00:00<00:00,  1.16it/s]\u001b[A\u001b[A\n",
      "\n",
      "Loading checkpoint shards: 100%|██████████| 2/2 [00:01<00:00,  1.91it/s]\u001b[A\u001b[A\n",
      "\n",
      "Layer 8 texts:   8%|▊         | 8/100 [01:37<18:32, 12.09s/it]\u001b[A"
     ]
    },
    {
     "name": "stdout",
     "output_type": "stream",
     "text": [
      "⚠️  No logits available for google/paligemma2-3b-pt-224, using zero loss\n",
      "📥 Loading model: google/gemma-2-2b\n"
     ]
    },
    {
     "name": "stderr",
     "output_type": "stream",
     "text": [
      "\n",
      "\n",
      "Loading checkpoint shards: 100%|██████████| 3/3 [00:00<00:00, 52.79it/s]\n"
     ]
    },
    {
     "name": "stdout",
     "output_type": "stream",
     "text": [
      "📥 Loading model: google/paligemma2-3b-pt-224\n"
     ]
    },
    {
     "name": "stderr",
     "output_type": "stream",
     "text": [
      "\n",
      "\n",
      "Loading checkpoint shards:   0%|          | 0/2 [00:00<?, ?it/s]\u001b[A\u001b[A\n",
      "\n",
      "Loading checkpoint shards:  50%|█████     | 1/2 [00:00<00:00,  1.27it/s]\u001b[A\u001b[A\n",
      "\n",
      "Loading checkpoint shards: 100%|██████████| 2/2 [00:00<00:00,  2.06it/s]\u001b[A\u001b[A\n",
      "\n",
      "Layer 8 texts:   9%|▉         | 9/100 [01:49<18:17, 12.06s/it]\u001b[A"
     ]
    },
    {
     "name": "stdout",
     "output_type": "stream",
     "text": [
      "⚠️  No logits available for google/paligemma2-3b-pt-224, using zero loss\n",
      "📥 Loading model: google/gemma-2-2b\n"
     ]
    },
    {
     "name": "stderr",
     "output_type": "stream",
     "text": [
      "\n",
      "\n",
      "Loading checkpoint shards: 100%|██████████| 3/3 [00:00<00:00, 58.60it/s]\n"
     ]
    },
    {
     "name": "stdout",
     "output_type": "stream",
     "text": [
      "📥 Loading model: google/paligemma2-3b-pt-224\n"
     ]
    },
    {
     "name": "stderr",
     "output_type": "stream",
     "text": [
      "\n",
      "\n",
      "Loading checkpoint shards:   0%|          | 0/2 [00:00<?, ?it/s]\u001b[A\u001b[A\n",
      "\n",
      "Loading checkpoint shards:  50%|█████     | 1/2 [00:00<00:00,  1.22it/s]\u001b[A\u001b[A\n",
      "\n",
      "Loading checkpoint shards: 100%|██████████| 2/2 [00:00<00:00,  2.00it/s]\u001b[A\u001b[A\n",
      "\n",
      "Layer 8 texts:  10%|█         | 10/100 [02:00<18:02, 12.03s/it]\u001b[A"
     ]
    },
    {
     "name": "stdout",
     "output_type": "stream",
     "text": [
      "⚠️  No logits available for google/paligemma2-3b-pt-224, using zero loss\n",
      "📥 Loading model: google/gemma-2-2b\n"
     ]
    },
    {
     "name": "stderr",
     "output_type": "stream",
     "text": [
      "\n",
      "\n",
      "Loading checkpoint shards: 100%|██████████| 3/3 [00:00<00:00, 57.41it/s]\n"
     ]
    },
    {
     "name": "stdout",
     "output_type": "stream",
     "text": [
      "📥 Loading model: google/paligemma2-3b-pt-224\n"
     ]
    },
    {
     "name": "stderr",
     "output_type": "stream",
     "text": [
      "\n",
      "\n",
      "Loading checkpoint shards:   0%|          | 0/2 [00:00<?, ?it/s]\u001b[A\u001b[A\n",
      "\n",
      "Loading checkpoint shards:  50%|█████     | 1/2 [00:00<00:00,  1.22it/s]\u001b[A\u001b[A\n",
      "\n",
      "Loading checkpoint shards: 100%|██████████| 2/2 [00:00<00:00,  2.01it/s]\u001b[A\u001b[A\n",
      "\n",
      "Layer 8 texts:  11%|█         | 11/100 [02:13<17:55, 12.09s/it]\u001b[A"
     ]
    },
    {
     "name": "stdout",
     "output_type": "stream",
     "text": [
      "⚠️  No logits available for google/paligemma2-3b-pt-224, using zero loss\n",
      "📥 Loading model: google/gemma-2-2b\n"
     ]
    },
    {
     "name": "stderr",
     "output_type": "stream",
     "text": [
      "\n",
      "\n",
      "Loading checkpoint shards: 100%|██████████| 3/3 [00:00<00:00, 60.72it/s]\n"
     ]
    },
    {
     "name": "stdout",
     "output_type": "stream",
     "text": [
      "📥 Loading model: google/paligemma2-3b-pt-224\n"
     ]
    },
    {
     "name": "stderr",
     "output_type": "stream",
     "text": [
      "\n",
      "\n",
      "Loading checkpoint shards:   0%|          | 0/2 [00:00<?, ?it/s]\u001b[A\u001b[A\n",
      "\n",
      "Loading checkpoint shards:  50%|█████     | 1/2 [00:00<00:00,  1.27it/s]\u001b[A\u001b[A\n",
      "\n",
      "Loading checkpoint shards: 100%|██████████| 2/2 [00:00<00:00,  2.08it/s]\u001b[A\u001b[A\n",
      "\n",
      "Layer 8 texts:  12%|█▏        | 12/100 [02:25<17:38, 12.02s/it]\u001b[A"
     ]
    },
    {
     "name": "stdout",
     "output_type": "stream",
     "text": [
      "⚠️  No logits available for google/paligemma2-3b-pt-224, using zero loss\n",
      "📥 Loading model: google/gemma-2-2b\n"
     ]
    },
    {
     "name": "stderr",
     "output_type": "stream",
     "text": [
      "\n",
      "\n",
      "Loading checkpoint shards: 100%|██████████| 3/3 [00:00<00:00, 62.51it/s]\n"
     ]
    },
    {
     "name": "stdout",
     "output_type": "stream",
     "text": [
      "📥 Loading model: google/paligemma2-3b-pt-224\n"
     ]
    },
    {
     "name": "stderr",
     "output_type": "stream",
     "text": [
      "\n",
      "\n",
      "Loading checkpoint shards:   0%|          | 0/2 [00:00<?, ?it/s]\u001b[A\u001b[A\n",
      "\n",
      "Loading checkpoint shards:  50%|█████     | 1/2 [00:00<00:00,  1.14it/s]\u001b[A\u001b[A\n",
      "\n",
      "Loading checkpoint shards: 100%|██████████| 2/2 [00:01<00:00,  1.90it/s]\u001b[A\u001b[A\n",
      "\n",
      "Layer 8 texts:  13%|█▎        | 13/100 [02:37<17:30, 12.07s/it]\u001b[A"
     ]
    },
    {
     "name": "stdout",
     "output_type": "stream",
     "text": [
      "⚠️  No logits available for google/paligemma2-3b-pt-224, using zero loss\n",
      "📥 Loading model: google/gemma-2-2b\n"
     ]
    },
    {
     "name": "stderr",
     "output_type": "stream",
     "text": [
      "\n",
      "\n",
      "Loading checkpoint shards: 100%|██████████| 3/3 [00:00<00:00, 61.11it/s]\n"
     ]
    },
    {
     "name": "stdout",
     "output_type": "stream",
     "text": [
      "📥 Loading model: google/paligemma2-3b-pt-224\n"
     ]
    },
    {
     "name": "stderr",
     "output_type": "stream",
     "text": [
      "\n",
      "\n",
      "Loading checkpoint shards:   0%|          | 0/2 [00:00<?, ?it/s]\u001b[A\u001b[A\n",
      "\n",
      "Loading checkpoint shards:  50%|█████     | 1/2 [00:00<00:00,  1.31it/s]\u001b[A\u001b[A\n",
      "\n",
      "Loading checkpoint shards: 100%|██████████| 2/2 [00:01<00:00,  1.89it/s]\u001b[A\u001b[A\n",
      "\n",
      "Layer 8 texts:  14%|█▍        | 14/100 [02:49<17:14, 12.03s/it]\u001b[A"
     ]
    },
    {
     "name": "stdout",
     "output_type": "stream",
     "text": [
      "⚠️  No logits available for google/paligemma2-3b-pt-224, using zero loss\n",
      "📥 Loading model: google/gemma-2-2b\n"
     ]
    },
    {
     "name": "stderr",
     "output_type": "stream",
     "text": [
      "\n",
      "\n",
      "Loading checkpoint shards: 100%|██████████| 3/3 [00:00<00:00, 61.63it/s]\n"
     ]
    },
    {
     "name": "stdout",
     "output_type": "stream",
     "text": [
      "📥 Loading model: google/paligemma2-3b-pt-224\n"
     ]
    },
    {
     "name": "stderr",
     "output_type": "stream",
     "text": [
      "\n",
      "\n",
      "Loading checkpoint shards:   0%|          | 0/2 [00:00<?, ?it/s]\u001b[A\u001b[A\n",
      "\n",
      "Loading checkpoint shards:  50%|█████     | 1/2 [00:00<00:00,  1.25it/s]\u001b[A\u001b[A\n",
      "\n",
      "Loading checkpoint shards: 100%|██████████| 2/2 [00:00<00:00,  2.05it/s]\u001b[A\u001b[A\n",
      "\n",
      "Layer 8 texts:  15%|█▌        | 15/100 [03:01<17:09, 12.11s/it]\u001b[A"
     ]
    },
    {
     "name": "stdout",
     "output_type": "stream",
     "text": [
      "⚠️  No logits available for google/paligemma2-3b-pt-224, using zero loss\n",
      "📥 Loading model: google/gemma-2-2b\n"
     ]
    },
    {
     "name": "stderr",
     "output_type": "stream",
     "text": [
      "\n",
      "\n",
      "Loading checkpoint shards: 100%|██████████| 3/3 [00:00<00:00, 59.33it/s]\n"
     ]
    },
    {
     "name": "stdout",
     "output_type": "stream",
     "text": [
      "📥 Loading model: google/paligemma2-3b-pt-224\n"
     ]
    },
    {
     "name": "stderr",
     "output_type": "stream",
     "text": [
      "\n",
      "\n",
      "Loading checkpoint shards:   0%|          | 0/2 [00:00<?, ?it/s]\u001b[A\u001b[A\n",
      "\n",
      "Loading checkpoint shards:  50%|█████     | 1/2 [00:00<00:00,  1.20it/s]\u001b[A\u001b[A\n",
      "\n",
      "Loading checkpoint shards: 100%|██████████| 2/2 [00:01<00:00,  1.99it/s]\u001b[A\u001b[A\n",
      "\n",
      "Layer 8 texts:  16%|█▌        | 16/100 [03:13<17:00, 12.15s/it]\u001b[A"
     ]
    },
    {
     "name": "stdout",
     "output_type": "stream",
     "text": [
      "⚠️  No logits available for google/paligemma2-3b-pt-224, using zero loss\n",
      "📥 Loading model: google/gemma-2-2b\n"
     ]
    },
    {
     "name": "stderr",
     "output_type": "stream",
     "text": [
      "\n",
      "\n",
      "Loading checkpoint shards: 100%|██████████| 3/3 [00:00<00:00, 61.06it/s]\n"
     ]
    },
    {
     "name": "stdout",
     "output_type": "stream",
     "text": [
      "📥 Loading model: google/paligemma2-3b-pt-224\n"
     ]
    },
    {
     "name": "stderr",
     "output_type": "stream",
     "text": [
      "\n",
      "\n",
      "Loading checkpoint shards:   0%|          | 0/2 [00:00<?, ?it/s]\u001b[A\u001b[A\n",
      "\n",
      "Loading checkpoint shards:  50%|█████     | 1/2 [00:00<00:00,  1.24it/s]\u001b[A\u001b[A\n",
      "\n",
      "Loading checkpoint shards: 100%|██████████| 2/2 [00:00<00:00,  2.04it/s]\u001b[A\u001b[A\n",
      "\n",
      "Layer 8 texts:  17%|█▋        | 17/100 [03:25<16:46, 12.13s/it]\u001b[A"
     ]
    },
    {
     "name": "stdout",
     "output_type": "stream",
     "text": [
      "⚠️  No logits available for google/paligemma2-3b-pt-224, using zero loss\n",
      "📥 Loading model: google/gemma-2-2b\n"
     ]
    },
    {
     "name": "stderr",
     "output_type": "stream",
     "text": [
      "\n",
      "\n",
      "Loading checkpoint shards: 100%|██████████| 3/3 [00:00<00:00, 60.44it/s]\n"
     ]
    },
    {
     "name": "stdout",
     "output_type": "stream",
     "text": [
      "📥 Loading model: google/paligemma2-3b-pt-224\n"
     ]
    },
    {
     "name": "stderr",
     "output_type": "stream",
     "text": [
      "\n",
      "\n",
      "Loading checkpoint shards:   0%|          | 0/2 [00:00<?, ?it/s]\u001b[A\u001b[A\n",
      "\n",
      "Loading checkpoint shards:  50%|█████     | 1/2 [00:00<00:00,  1.27it/s]\u001b[A\u001b[A\n",
      "\n",
      "Loading checkpoint shards: 100%|██████████| 2/2 [00:00<00:00,  2.06it/s]\u001b[A\u001b[A\n",
      "\n",
      "Layer 8 texts:  18%|█▊        | 18/100 [03:37<16:30, 12.08s/it]\u001b[A"
     ]
    },
    {
     "name": "stdout",
     "output_type": "stream",
     "text": [
      "⚠️  No logits available for google/paligemma2-3b-pt-224, using zero loss\n",
      "📥 Loading model: google/gemma-2-2b\n"
     ]
    },
    {
     "name": "stderr",
     "output_type": "stream",
     "text": [
      "\n",
      "\n",
      "Loading checkpoint shards: 100%|██████████| 3/3 [00:00<00:00, 54.40it/s]\n"
     ]
    },
    {
     "name": "stdout",
     "output_type": "stream",
     "text": [
      "📥 Loading model: google/paligemma2-3b-pt-224\n"
     ]
    },
    {
     "name": "stderr",
     "output_type": "stream",
     "text": [
      "\n",
      "\n",
      "Loading checkpoint shards:   0%|          | 0/2 [00:00<?, ?it/s]\u001b[A\u001b[A\n",
      "\n",
      "Loading checkpoint shards:  50%|█████     | 1/2 [00:01<00:01,  1.02s/it]\u001b[A\u001b[A\n",
      "\n",
      "Loading checkpoint shards: 100%|██████████| 2/2 [00:01<00:00,  1.62it/s]\u001b[A\u001b[A\n",
      "\n",
      "Layer 8 texts:  19%|█▉        | 19/100 [03:49<16:21, 12.12s/it]\u001b[A"
     ]
    },
    {
     "name": "stdout",
     "output_type": "stream",
     "text": [
      "⚠️  No logits available for google/paligemma2-3b-pt-224, using zero loss\n",
      "📥 Loading model: google/gemma-2-2b\n"
     ]
    },
    {
     "name": "stderr",
     "output_type": "stream",
     "text": [
      "\n",
      "\n",
      "Loading checkpoint shards: 100%|██████████| 3/3 [00:00<00:00, 60.78it/s]\n"
     ]
    },
    {
     "name": "stdout",
     "output_type": "stream",
     "text": [
      "📥 Loading model: google/paligemma2-3b-pt-224\n"
     ]
    },
    {
     "name": "stderr",
     "output_type": "stream",
     "text": [
      "\n",
      "\n",
      "Loading checkpoint shards:   0%|          | 0/2 [00:00<?, ?it/s]\u001b[A\u001b[A\n",
      "\n",
      "Loading checkpoint shards:  50%|█████     | 1/2 [00:00<00:00,  1.20it/s]\u001b[A\u001b[A\n",
      "\n",
      "Loading checkpoint shards: 100%|██████████| 2/2 [00:01<00:00,  1.97it/s]\u001b[A\u001b[A\n",
      "\n",
      "Layer 8 texts:  20%|██        | 20/100 [04:01<16:06, 12.08s/it]\u001b[A"
     ]
    },
    {
     "name": "stdout",
     "output_type": "stream",
     "text": [
      "⚠️  No logits available for google/paligemma2-3b-pt-224, using zero loss\n",
      "📥 Loading model: google/gemma-2-2b\n"
     ]
    },
    {
     "name": "stderr",
     "output_type": "stream",
     "text": [
      "\n",
      "\n",
      "Loading checkpoint shards: 100%|██████████| 3/3 [00:00<00:00, 58.80it/s]\n"
     ]
    },
    {
     "name": "stdout",
     "output_type": "stream",
     "text": [
      "📥 Loading model: google/paligemma2-3b-pt-224\n"
     ]
    },
    {
     "name": "stderr",
     "output_type": "stream",
     "text": [
      "\n",
      "\n",
      "Loading checkpoint shards:   0%|          | 0/2 [00:00<?, ?it/s]\u001b[A\u001b[A\n",
      "\n",
      "Loading checkpoint shards:  50%|█████     | 1/2 [00:00<00:00,  1.36it/s]\u001b[A\u001b[A\n",
      "\n",
      "Loading checkpoint shards: 100%|██████████| 2/2 [00:00<00:00,  2.19it/s]\u001b[A\u001b[A\n",
      "\n",
      "Layer 8 texts:  21%|██        | 21/100 [04:13<15:46, 11.99s/it]\u001b[A"
     ]
    },
    {
     "name": "stdout",
     "output_type": "stream",
     "text": [
      "⚠️  No logits available for google/paligemma2-3b-pt-224, using zero loss\n",
      "📥 Loading model: google/gemma-2-2b\n"
     ]
    },
    {
     "name": "stderr",
     "output_type": "stream",
     "text": [
      "\n",
      "\n",
      "Loading checkpoint shards: 100%|██████████| 3/3 [00:00<00:00, 60.29it/s]\n"
     ]
    },
    {
     "name": "stdout",
     "output_type": "stream",
     "text": [
      "📥 Loading model: google/paligemma2-3b-pt-224\n"
     ]
    },
    {
     "name": "stderr",
     "output_type": "stream",
     "text": [
      "\n",
      "\n",
      "Loading checkpoint shards:   0%|          | 0/2 [00:00<?, ?it/s]\u001b[A\u001b[A\n",
      "\n",
      "Loading checkpoint shards:  50%|█████     | 1/2 [00:00<00:00,  1.28it/s]\u001b[A\u001b[A\n",
      "\n",
      "Loading checkpoint shards: 100%|██████████| 2/2 [00:00<00:00,  2.09it/s]\u001b[A\u001b[A\n",
      "\n",
      "Layer 8 texts:  22%|██▏       | 22/100 [04:25<15:33, 11.97s/it]\u001b[A"
     ]
    },
    {
     "name": "stdout",
     "output_type": "stream",
     "text": [
      "⚠️  No logits available for google/paligemma2-3b-pt-224, using zero loss\n",
      "📥 Loading model: google/gemma-2-2b\n"
     ]
    },
    {
     "name": "stderr",
     "output_type": "stream",
     "text": [
      "\n",
      "\n",
      "Loading checkpoint shards: 100%|██████████| 3/3 [00:00<00:00, 55.73it/s]\n"
     ]
    },
    {
     "name": "stdout",
     "output_type": "stream",
     "text": [
      "📥 Loading model: google/paligemma2-3b-pt-224\n"
     ]
    },
    {
     "name": "stderr",
     "output_type": "stream",
     "text": [
      "\n",
      "\n",
      "Loading checkpoint shards:   0%|          | 0/2 [00:00<?, ?it/s]\u001b[A\u001b[A\n",
      "\n",
      "Loading checkpoint shards:  50%|█████     | 1/2 [00:00<00:00,  1.30it/s]\u001b[A\u001b[A\n",
      "\n",
      "Loading checkpoint shards: 100%|██████████| 2/2 [00:00<00:00,  2.11it/s]\u001b[A\u001b[A\n",
      "\n",
      "Layer 8 texts:  23%|██▎       | 23/100 [04:37<15:29, 12.07s/it]\u001b[A"
     ]
    },
    {
     "name": "stdout",
     "output_type": "stream",
     "text": [
      "⚠️  No logits available for google/paligemma2-3b-pt-224, using zero loss\n",
      "📥 Loading model: google/gemma-2-2b\n"
     ]
    },
    {
     "name": "stderr",
     "output_type": "stream",
     "text": [
      "\n",
      "\n",
      "Loading checkpoint shards: 100%|██████████| 3/3 [00:00<00:00, 61.52it/s]\n"
     ]
    },
    {
     "name": "stdout",
     "output_type": "stream",
     "text": [
      "📥 Loading model: google/paligemma2-3b-pt-224\n"
     ]
    },
    {
     "name": "stderr",
     "output_type": "stream",
     "text": [
      "\n",
      "\n",
      "Loading checkpoint shards:   0%|          | 0/2 [00:00<?, ?it/s]\u001b[A\u001b[A\n",
      "\n",
      "Loading checkpoint shards:  50%|█████     | 1/2 [00:00<00:00,  1.32it/s]\u001b[A\u001b[A\n",
      "\n",
      "Loading checkpoint shards: 100%|██████████| 2/2 [00:00<00:00,  2.12it/s]\u001b[A\u001b[A\n",
      "\n",
      "Layer 8 texts:  24%|██▍       | 24/100 [04:50<15:18, 12.09s/it]\u001b[A"
     ]
    },
    {
     "name": "stdout",
     "output_type": "stream",
     "text": [
      "⚠️  No logits available for google/paligemma2-3b-pt-224, using zero loss\n",
      "📥 Loading model: google/gemma-2-2b\n"
     ]
    },
    {
     "name": "stderr",
     "output_type": "stream",
     "text": [
      "\n",
      "\n",
      "Loading checkpoint shards: 100%|██████████| 3/3 [00:00<00:00, 60.81it/s]\n"
     ]
    },
    {
     "name": "stdout",
     "output_type": "stream",
     "text": [
      "📥 Loading model: google/paligemma2-3b-pt-224\n"
     ]
    },
    {
     "name": "stderr",
     "output_type": "stream",
     "text": [
      "\n",
      "\n",
      "Loading checkpoint shards:   0%|          | 0/2 [00:00<?, ?it/s]\u001b[A\u001b[A\n",
      "\n",
      "Loading checkpoint shards:  50%|█████     | 1/2 [00:00<00:00,  1.28it/s]\u001b[A\u001b[A\n",
      "\n",
      "Loading checkpoint shards: 100%|██████████| 2/2 [00:00<00:00,  2.08it/s]\u001b[A\u001b[A\n"
     ]
    },
    {
     "name": "stdout",
     "output_type": "stream",
     "text": [
      "⚠️  No logits available for google/paligemma2-3b-pt-224, using zero loss\n"
     ]
    },
    {
     "name": "stderr",
     "output_type": "stream",
     "text": [
      "\n",
      "Layer 8 texts:  25%|██▌       | 25/100 [05:02<15:07, 12.10s/it]\u001b[A"
     ]
    },
    {
     "name": "stdout",
     "output_type": "stream",
     "text": [
      "📥 Loading model: google/gemma-2-2b\n"
     ]
    },
    {
     "name": "stderr",
     "output_type": "stream",
     "text": [
      "\n",
      "\n",
      "Loading checkpoint shards: 100%|██████████| 3/3 [00:00<00:00, 52.04it/s]\n"
     ]
    },
    {
     "name": "stdout",
     "output_type": "stream",
     "text": [
      "📥 Loading model: google/paligemma2-3b-pt-224\n"
     ]
    },
    {
     "name": "stderr",
     "output_type": "stream",
     "text": [
      "\n",
      "\n",
      "Loading checkpoint shards:   0%|          | 0/2 [00:00<?, ?it/s]\u001b[A\u001b[A\n",
      "\n",
      "Loading checkpoint shards:  50%|█████     | 1/2 [00:00<00:00,  1.26it/s]\u001b[A\u001b[A\n",
      "\n",
      "Loading checkpoint shards: 100%|██████████| 2/2 [00:00<00:00,  2.04it/s]\u001b[A\u001b[A\n",
      "\n",
      "Layer 8 texts:  26%|██▌       | 26/100 [05:13<14:47, 11.99s/it]\u001b[A"
     ]
    },
    {
     "name": "stdout",
     "output_type": "stream",
     "text": [
      "⚠️  No logits available for google/paligemma2-3b-pt-224, using zero loss\n",
      "📥 Loading model: google/gemma-2-2b\n"
     ]
    },
    {
     "name": "stderr",
     "output_type": "stream",
     "text": [
      "\n",
      "\n",
      "Loading checkpoint shards: 100%|██████████| 3/3 [00:00<00:00, 62.75it/s]\n"
     ]
    },
    {
     "name": "stdout",
     "output_type": "stream",
     "text": [
      "📥 Loading model: google/paligemma2-3b-pt-224\n"
     ]
    },
    {
     "name": "stderr",
     "output_type": "stream",
     "text": [
      "\n",
      "\n",
      "Loading checkpoint shards:   0%|          | 0/2 [00:00<?, ?it/s]\u001b[A\u001b[A\n",
      "\n",
      "Loading checkpoint shards:  50%|█████     | 1/2 [00:00<00:00,  1.30it/s]\u001b[A\u001b[A\n",
      "\n",
      "Loading checkpoint shards: 100%|██████████| 2/2 [00:00<00:00,  2.13it/s]\u001b[A\u001b[A\n",
      "\n",
      "Layer 8 texts:  27%|██▋       | 27/100 [05:26<14:37, 12.01s/it]\u001b[A"
     ]
    },
    {
     "name": "stdout",
     "output_type": "stream",
     "text": [
      "⚠️  No logits available for google/paligemma2-3b-pt-224, using zero loss\n",
      "📥 Loading model: google/gemma-2-2b\n"
     ]
    },
    {
     "name": "stderr",
     "output_type": "stream",
     "text": [
      "\n",
      "\n",
      "Loading checkpoint shards: 100%|██████████| 3/3 [00:00<00:00, 51.81it/s]\n"
     ]
    },
    {
     "name": "stdout",
     "output_type": "stream",
     "text": [
      "📥 Loading model: google/paligemma2-3b-pt-224\n"
     ]
    },
    {
     "name": "stderr",
     "output_type": "stream",
     "text": [
      "\n",
      "\n",
      "Loading checkpoint shards:   0%|          | 0/2 [00:00<?, ?it/s]\u001b[A\u001b[A\n",
      "\n",
      "Loading checkpoint shards:  50%|█████     | 1/2 [00:00<00:00,  1.22it/s]\u001b[A\u001b[A\n",
      "\n",
      "Loading checkpoint shards: 100%|██████████| 2/2 [00:00<00:00,  2.02it/s]\u001b[A\u001b[A\n",
      "\n",
      "Layer 8 texts:  28%|██▊       | 28/100 [05:38<14:26, 12.04s/it]\u001b[A"
     ]
    },
    {
     "name": "stdout",
     "output_type": "stream",
     "text": [
      "⚠️  No logits available for google/paligemma2-3b-pt-224, using zero loss\n",
      "📥 Loading model: google/gemma-2-2b\n"
     ]
    },
    {
     "name": "stderr",
     "output_type": "stream",
     "text": [
      "\n",
      "\n",
      "Loading checkpoint shards: 100%|██████████| 3/3 [00:00<00:00, 60.37it/s]\n"
     ]
    },
    {
     "name": "stdout",
     "output_type": "stream",
     "text": [
      "📥 Loading model: google/paligemma2-3b-pt-224\n"
     ]
    },
    {
     "name": "stderr",
     "output_type": "stream",
     "text": [
      "\n",
      "\n",
      "Loading checkpoint shards:   0%|          | 0/2 [00:00<?, ?it/s]\u001b[A\u001b[A\n",
      "\n",
      "Loading checkpoint shards:  50%|█████     | 1/2 [00:00<00:00,  1.26it/s]\u001b[A\u001b[A\n",
      "\n",
      "Loading checkpoint shards: 100%|██████████| 2/2 [00:00<00:00,  2.06it/s]\u001b[A\u001b[A\n",
      "\n",
      "Layer 8 texts:  29%|██▉       | 29/100 [05:50<14:16, 12.07s/it]\u001b[A"
     ]
    },
    {
     "name": "stdout",
     "output_type": "stream",
     "text": [
      "⚠️  No logits available for google/paligemma2-3b-pt-224, using zero loss\n",
      "📥 Loading model: google/gemma-2-2b\n"
     ]
    },
    {
     "name": "stderr",
     "output_type": "stream",
     "text": [
      "\n",
      "\n",
      "Loading checkpoint shards: 100%|██████████| 3/3 [00:00<00:00, 60.83it/s]\n"
     ]
    },
    {
     "name": "stdout",
     "output_type": "stream",
     "text": [
      "📥 Loading model: google/paligemma2-3b-pt-224\n"
     ]
    },
    {
     "name": "stderr",
     "output_type": "stream",
     "text": [
      "\n",
      "\n",
      "Loading checkpoint shards:   0%|          | 0/2 [00:00<?, ?it/s]\u001b[A\u001b[A\n",
      "\n",
      "Loading checkpoint shards:  50%|█████     | 1/2 [00:00<00:00,  1.25it/s]\u001b[A\u001b[A\n",
      "\n",
      "Loading checkpoint shards: 100%|██████████| 2/2 [00:00<00:00,  2.05it/s]\u001b[A\u001b[A\n",
      "\n",
      "Layer 8 texts:  30%|███       | 30/100 [06:02<14:05, 12.08s/it]\u001b[A"
     ]
    },
    {
     "name": "stdout",
     "output_type": "stream",
     "text": [
      "⚠️  No logits available for google/paligemma2-3b-pt-224, using zero loss\n",
      "📥 Loading model: google/gemma-2-2b\n"
     ]
    },
    {
     "name": "stderr",
     "output_type": "stream",
     "text": [
      "\n",
      "\n",
      "Loading checkpoint shards: 100%|██████████| 3/3 [00:00<00:00, 60.54it/s]\n"
     ]
    },
    {
     "name": "stdout",
     "output_type": "stream",
     "text": [
      "📥 Loading model: google/paligemma2-3b-pt-224\n"
     ]
    },
    {
     "name": "stderr",
     "output_type": "stream",
     "text": [
      "\n",
      "\n",
      "Loading checkpoint shards:   0%|          | 0/2 [00:00<?, ?it/s]\u001b[A\u001b[A\n",
      "\n",
      "Loading checkpoint shards:  50%|█████     | 1/2 [00:00<00:00,  1.29it/s]\u001b[A\u001b[A\n",
      "\n",
      "Loading checkpoint shards: 100%|██████████| 2/2 [00:00<00:00,  2.10it/s]\u001b[A\u001b[A\n",
      "\n",
      "Layer 8 texts:  31%|███       | 31/100 [06:14<13:52, 12.06s/it]\u001b[A"
     ]
    },
    {
     "name": "stdout",
     "output_type": "stream",
     "text": [
      "⚠️  No logits available for google/paligemma2-3b-pt-224, using zero loss\n",
      "📥 Loading model: google/gemma-2-2b\n"
     ]
    },
    {
     "name": "stderr",
     "output_type": "stream",
     "text": [
      "\n",
      "\n",
      "Loading checkpoint shards: 100%|██████████| 3/3 [00:00<00:00, 61.27it/s]\n"
     ]
    },
    {
     "name": "stdout",
     "output_type": "stream",
     "text": [
      "📥 Loading model: google/paligemma2-3b-pt-224\n"
     ]
    },
    {
     "name": "stderr",
     "output_type": "stream",
     "text": [
      "\n",
      "\n",
      "Loading checkpoint shards:   0%|          | 0/2 [00:00<?, ?it/s]\u001b[A\u001b[A\n",
      "\n",
      "Loading checkpoint shards:  50%|█████     | 1/2 [00:00<00:00,  1.30it/s]\u001b[A\u001b[A\n",
      "\n",
      "Loading checkpoint shards: 100%|██████████| 2/2 [00:01<00:00,  1.86it/s]\u001b[A\u001b[A\n",
      "\n",
      "Layer 8 texts:  32%|███▏      | 32/100 [06:26<13:42, 12.10s/it]\u001b[A"
     ]
    },
    {
     "name": "stdout",
     "output_type": "stream",
     "text": [
      "⚠️  No logits available for google/paligemma2-3b-pt-224, using zero loss\n",
      "📥 Loading model: google/gemma-2-2b\n"
     ]
    },
    {
     "name": "stderr",
     "output_type": "stream",
     "text": [
      "\n",
      "\n",
      "Loading checkpoint shards:   0%|          | 0/3 [00:00<?, ?it/s]\u001b[A\u001b[A\n",
      "\n",
      "Loading checkpoint shards: 100%|██████████| 3/3 [00:00<00:00, 12.32it/s]\u001b[A\u001b[A\n"
     ]
    },
    {
     "name": "stdout",
     "output_type": "stream",
     "text": [
      "📥 Loading model: google/paligemma2-3b-pt-224\n"
     ]
    },
    {
     "name": "stderr",
     "output_type": "stream",
     "text": [
      "\n",
      "\n",
      "Loading checkpoint shards:   0%|          | 0/2 [00:00<?, ?it/s]\u001b[A\u001b[A\n",
      "\n",
      "Loading checkpoint shards:  50%|█████     | 1/2 [00:01<00:01,  1.04s/it]\u001b[A\u001b[A\n",
      "\n",
      "Loading checkpoint shards: 100%|██████████| 2/2 [00:01<00:00,  1.64it/s]\u001b[A\u001b[A\n",
      "\n",
      "Layer 8 texts:  33%|███▎      | 33/100 [06:38<13:34, 12.16s/it]\u001b[A"
     ]
    },
    {
     "name": "stdout",
     "output_type": "stream",
     "text": [
      "⚠️  No logits available for google/paligemma2-3b-pt-224, using zero loss\n",
      "📥 Loading model: google/gemma-2-2b\n"
     ]
    },
    {
     "name": "stderr",
     "output_type": "stream",
     "text": [
      "\n",
      "\n",
      "Loading checkpoint shards: 100%|██████████| 3/3 [00:00<00:00, 61.56it/s]\n"
     ]
    },
    {
     "name": "stdout",
     "output_type": "stream",
     "text": [
      "📥 Loading model: google/paligemma2-3b-pt-224\n"
     ]
    },
    {
     "name": "stderr",
     "output_type": "stream",
     "text": [
      "\n",
      "\n",
      "Loading checkpoint shards:   0%|          | 0/2 [00:00<?, ?it/s]\u001b[A\u001b[A\n",
      "\n",
      "Loading checkpoint shards:  50%|█████     | 1/2 [00:00<00:00,  1.30it/s]\u001b[A\u001b[A\n",
      "\n",
      "Loading checkpoint shards: 100%|██████████| 2/2 [00:00<00:00,  2.13it/s]\u001b[A\u001b[A\n",
      "\n",
      "Layer 8 texts:  34%|███▍      | 34/100 [06:50<13:18, 12.09s/it]\u001b[A"
     ]
    },
    {
     "name": "stdout",
     "output_type": "stream",
     "text": [
      "⚠️  No logits available for google/paligemma2-3b-pt-224, using zero loss\n",
      "📥 Loading model: google/gemma-2-2b\n"
     ]
    },
    {
     "name": "stderr",
     "output_type": "stream",
     "text": [
      "\n",
      "\n",
      "Loading checkpoint shards: 100%|██████████| 3/3 [00:00<00:00, 60.49it/s]\n"
     ]
    },
    {
     "name": "stdout",
     "output_type": "stream",
     "text": [
      "📥 Loading model: google/paligemma2-3b-pt-224\n"
     ]
    },
    {
     "name": "stderr",
     "output_type": "stream",
     "text": [
      "\n",
      "\n",
      "Loading checkpoint shards:   0%|          | 0/2 [00:00<?, ?it/s]\u001b[A\u001b[A\n",
      "\n",
      "Loading checkpoint shards:  50%|█████     | 1/2 [00:00<00:00,  1.28it/s]\u001b[A\u001b[A\n",
      "\n",
      "Loading checkpoint shards: 100%|██████████| 2/2 [00:00<00:00,  2.10it/s]\u001b[A\u001b[A\n",
      "\n",
      "Layer 8 texts:  35%|███▌      | 35/100 [07:02<13:05, 12.09s/it]\u001b[A"
     ]
    },
    {
     "name": "stdout",
     "output_type": "stream",
     "text": [
      "⚠️  No logits available for google/paligemma2-3b-pt-224, using zero loss\n",
      "📥 Loading model: google/gemma-2-2b\n"
     ]
    },
    {
     "name": "stderr",
     "output_type": "stream",
     "text": [
      "\n",
      "\n",
      "Loading checkpoint shards: 100%|██████████| 3/3 [00:00<00:00, 61.56it/s]\n"
     ]
    },
    {
     "name": "stdout",
     "output_type": "stream",
     "text": [
      "📥 Loading model: google/paligemma2-3b-pt-224\n"
     ]
    },
    {
     "name": "stderr",
     "output_type": "stream",
     "text": [
      "\n",
      "\n",
      "Loading checkpoint shards:   0%|          | 0/2 [00:00<?, ?it/s]\u001b[A\u001b[A\n",
      "\n",
      "Loading checkpoint shards:  50%|█████     | 1/2 [00:00<00:00,  1.30it/s]\u001b[A\u001b[A\n",
      "\n",
      "Loading checkpoint shards: 100%|██████████| 2/2 [00:00<00:00,  2.12it/s]\u001b[A\u001b[A\n",
      "\n",
      "Layer 8 texts:  36%|███▌      | 36/100 [07:15<13:02, 12.23s/it]\u001b[A"
     ]
    },
    {
     "name": "stdout",
     "output_type": "stream",
     "text": [
      "⚠️  No logits available for google/paligemma2-3b-pt-224, using zero loss\n",
      "📥 Loading model: google/gemma-2-2b\n"
     ]
    },
    {
     "name": "stderr",
     "output_type": "stream",
     "text": [
      "\n",
      "\n",
      "Loading checkpoint shards: 100%|██████████| 3/3 [00:00<00:00, 59.87it/s]\n"
     ]
    },
    {
     "name": "stdout",
     "output_type": "stream",
     "text": [
      "📥 Loading model: google/paligemma2-3b-pt-224\n"
     ]
    },
    {
     "name": "stderr",
     "output_type": "stream",
     "text": [
      "\n",
      "\n",
      "Loading checkpoint shards:   0%|          | 0/2 [00:00<?, ?it/s]\u001b[A\u001b[A\n",
      "\n",
      "Loading checkpoint shards:  50%|█████     | 1/2 [00:00<00:00,  1.25it/s]\u001b[A\u001b[A\n",
      "\n",
      "Loading checkpoint shards: 100%|██████████| 2/2 [00:00<00:00,  2.05it/s]\u001b[A\u001b[A\n",
      "\n",
      "Layer 8 texts:  37%|███▋      | 37/100 [07:27<12:48, 12.19s/it]\u001b[A"
     ]
    },
    {
     "name": "stdout",
     "output_type": "stream",
     "text": [
      "⚠️  No logits available for google/paligemma2-3b-pt-224, using zero loss\n",
      "📥 Loading model: google/gemma-2-2b\n"
     ]
    },
    {
     "name": "stderr",
     "output_type": "stream",
     "text": [
      "\n",
      "\n",
      "Loading checkpoint shards: 100%|██████████| 3/3 [00:00<00:00, 60.89it/s]\n"
     ]
    },
    {
     "name": "stdout",
     "output_type": "stream",
     "text": [
      "📥 Loading model: google/paligemma2-3b-pt-224\n"
     ]
    },
    {
     "name": "stderr",
     "output_type": "stream",
     "text": [
      "\n",
      "\n",
      "Loading checkpoint shards:   0%|          | 0/2 [00:00<?, ?it/s]\u001b[A\u001b[A\n",
      "\n",
      "Loading checkpoint shards:  50%|█████     | 1/2 [00:00<00:00,  1.22it/s]\u001b[A\u001b[A\n",
      "\n",
      "Loading checkpoint shards: 100%|██████████| 2/2 [00:01<00:00,  2.00it/s]\u001b[A\u001b[A\n",
      "\n",
      "Layer 8 texts:  38%|███▊      | 38/100 [07:39<12:30, 12.10s/it]\u001b[A"
     ]
    },
    {
     "name": "stdout",
     "output_type": "stream",
     "text": [
      "⚠️  No logits available for google/paligemma2-3b-pt-224, using zero loss\n",
      "📥 Loading model: google/gemma-2-2b\n"
     ]
    },
    {
     "name": "stderr",
     "output_type": "stream",
     "text": [
      "\n",
      "\n",
      "Loading checkpoint shards: 100%|██████████| 3/3 [00:00<00:00, 59.65it/s]\n"
     ]
    },
    {
     "name": "stdout",
     "output_type": "stream",
     "text": [
      "📥 Loading model: google/paligemma2-3b-pt-224\n"
     ]
    },
    {
     "name": "stderr",
     "output_type": "stream",
     "text": [
      "\n",
      "\n",
      "Loading checkpoint shards:   0%|          | 0/2 [00:00<?, ?it/s]\u001b[A\u001b[A\n",
      "\n",
      "Loading checkpoint shards:  50%|█████     | 1/2 [00:00<00:00,  1.27it/s]\u001b[A\u001b[A\n",
      "\n",
      "Loading checkpoint shards: 100%|██████████| 2/2 [00:00<00:00,  2.06it/s]\u001b[A\u001b[A\n",
      "\n",
      "Layer 8 texts:  39%|███▉      | 39/100 [07:51<12:12, 12.00s/it]\u001b[A"
     ]
    },
    {
     "name": "stdout",
     "output_type": "stream",
     "text": [
      "⚠️  No logits available for google/paligemma2-3b-pt-224, using zero loss\n",
      "📥 Loading model: google/gemma-2-2b\n"
     ]
    },
    {
     "name": "stderr",
     "output_type": "stream",
     "text": [
      "\n",
      "\n",
      "Loading checkpoint shards: 100%|██████████| 3/3 [00:00<00:00, 61.21it/s]\n"
     ]
    },
    {
     "name": "stdout",
     "output_type": "stream",
     "text": [
      "📥 Loading model: google/paligemma2-3b-pt-224\n"
     ]
    },
    {
     "name": "stderr",
     "output_type": "stream",
     "text": [
      "\n",
      "\n",
      "Loading checkpoint shards:   0%|          | 0/2 [00:00<?, ?it/s]\u001b[A\u001b[A\n",
      "\n",
      "Loading checkpoint shards:  50%|█████     | 1/2 [00:00<00:00,  1.29it/s]\u001b[A\u001b[A\n",
      "\n",
      "Loading checkpoint shards: 100%|██████████| 2/2 [00:01<00:00,  1.73it/s]\u001b[A\u001b[A\n",
      "\n",
      "Layer 8 texts:  40%|████      | 40/100 [08:03<12:00, 12.00s/it]\u001b[A"
     ]
    },
    {
     "name": "stdout",
     "output_type": "stream",
     "text": [
      "⚠️  No logits available for google/paligemma2-3b-pt-224, using zero loss\n",
      "📥 Loading model: google/gemma-2-2b\n"
     ]
    },
    {
     "name": "stderr",
     "output_type": "stream",
     "text": [
      "\n",
      "\n",
      "Loading checkpoint shards: 100%|██████████| 3/3 [00:00<00:00, 59.21it/s]\n"
     ]
    },
    {
     "name": "stdout",
     "output_type": "stream",
     "text": [
      "📥 Loading model: google/paligemma2-3b-pt-224\n"
     ]
    },
    {
     "name": "stderr",
     "output_type": "stream",
     "text": [
      "\n",
      "\n",
      "Loading checkpoint shards:   0%|          | 0/2 [00:00<?, ?it/s]\u001b[A\u001b[A\n",
      "\n",
      "Loading checkpoint shards:  50%|█████     | 1/2 [00:00<00:00,  1.29it/s]\u001b[A\u001b[A\n",
      "\n",
      "Loading checkpoint shards: 100%|██████████| 2/2 [00:00<00:00,  2.10it/s]\u001b[A\u001b[A\n",
      "\n",
      "Layer 8 texts:  41%|████      | 41/100 [08:14<11:43, 11.92s/it]\u001b[A"
     ]
    },
    {
     "name": "stdout",
     "output_type": "stream",
     "text": [
      "⚠️  No logits available for google/paligemma2-3b-pt-224, using zero loss\n",
      "📥 Loading model: google/gemma-2-2b\n"
     ]
    },
    {
     "name": "stderr",
     "output_type": "stream",
     "text": [
      "\n",
      "\n",
      "Loading checkpoint shards: 100%|██████████| 3/3 [00:00<00:00, 62.45it/s]\n"
     ]
    },
    {
     "name": "stdout",
     "output_type": "stream",
     "text": [
      "📥 Loading model: google/paligemma2-3b-pt-224\n"
     ]
    },
    {
     "name": "stderr",
     "output_type": "stream",
     "text": [
      "\n",
      "\n",
      "Loading checkpoint shards:   0%|          | 0/2 [00:00<?, ?it/s]\u001b[A\u001b[A\n",
      "\n",
      "Loading checkpoint shards:  50%|█████     | 1/2 [00:00<00:00,  1.26it/s]\u001b[A\u001b[A\n",
      "\n",
      "Loading checkpoint shards: 100%|██████████| 2/2 [00:00<00:00,  2.06it/s]\u001b[A\u001b[A\n",
      "\n",
      "Layer 8 texts:  42%|████▏     | 42/100 [08:27<11:37, 12.02s/it]\u001b[A"
     ]
    },
    {
     "name": "stdout",
     "output_type": "stream",
     "text": [
      "⚠️  No logits available for google/paligemma2-3b-pt-224, using zero loss\n",
      "📥 Loading model: google/gemma-2-2b\n"
     ]
    },
    {
     "name": "stderr",
     "output_type": "stream",
     "text": [
      "\n",
      "\n",
      "Loading checkpoint shards: 100%|██████████| 3/3 [00:00<00:00, 62.56it/s]\n"
     ]
    },
    {
     "name": "stdout",
     "output_type": "stream",
     "text": [
      "📥 Loading model: google/paligemma2-3b-pt-224\n"
     ]
    },
    {
     "name": "stderr",
     "output_type": "stream",
     "text": [
      "\n",
      "\n",
      "Loading checkpoint shards:   0%|          | 0/2 [00:00<?, ?it/s]\u001b[A\u001b[A\n",
      "\n",
      "Loading checkpoint shards:  50%|█████     | 1/2 [00:00<00:00,  1.28it/s]\u001b[A\u001b[A\n",
      "\n",
      "Loading checkpoint shards: 100%|██████████| 2/2 [00:00<00:00,  2.09it/s]\u001b[A\u001b[A\n",
      "\n",
      "Layer 8 texts:  43%|████▎     | 43/100 [08:39<11:27, 12.07s/it]\u001b[A"
     ]
    },
    {
     "name": "stdout",
     "output_type": "stream",
     "text": [
      "⚠️  No logits available for google/paligemma2-3b-pt-224, using zero loss\n",
      "📥 Loading model: google/gemma-2-2b\n"
     ]
    },
    {
     "name": "stderr",
     "output_type": "stream",
     "text": [
      "\n",
      "\n",
      "Loading checkpoint shards: 100%|██████████| 3/3 [00:00<00:00, 60.82it/s]\n"
     ]
    },
    {
     "name": "stdout",
     "output_type": "stream",
     "text": [
      "📥 Loading model: google/paligemma2-3b-pt-224\n"
     ]
    },
    {
     "name": "stderr",
     "output_type": "stream",
     "text": [
      "\n",
      "\n",
      "Loading checkpoint shards:   0%|          | 0/2 [00:00<?, ?it/s]\u001b[A\u001b[A\n",
      "\n",
      "Loading checkpoint shards:  50%|█████     | 1/2 [00:00<00:00,  1.28it/s]\u001b[A\u001b[A\n",
      "\n",
      "Loading checkpoint shards: 100%|██████████| 2/2 [00:00<00:00,  2.11it/s]\u001b[A\u001b[A\n",
      "\n",
      "Layer 8 texts:  44%|████▍     | 44/100 [08:51<11:16, 12.08s/it]\u001b[A"
     ]
    },
    {
     "name": "stdout",
     "output_type": "stream",
     "text": [
      "⚠️  No logits available for google/paligemma2-3b-pt-224, using zero loss\n",
      "📥 Loading model: google/gemma-2-2b\n"
     ]
    },
    {
     "name": "stderr",
     "output_type": "stream",
     "text": [
      "\n",
      "\n",
      "Loading checkpoint shards: 100%|██████████| 3/3 [00:00<00:00, 60.38it/s]\n"
     ]
    },
    {
     "name": "stdout",
     "output_type": "stream",
     "text": [
      "📥 Loading model: google/paligemma2-3b-pt-224\n"
     ]
    },
    {
     "name": "stderr",
     "output_type": "stream",
     "text": [
      "\n",
      "\n",
      "Loading checkpoint shards:   0%|          | 0/2 [00:00<?, ?it/s]\u001b[A\u001b[A\n",
      "\n",
      "Loading checkpoint shards:  50%|█████     | 1/2 [00:00<00:00,  1.31it/s]\u001b[A\u001b[A\n",
      "\n",
      "Loading checkpoint shards: 100%|██████████| 2/2 [00:00<00:00,  2.11it/s]\u001b[A\u001b[A\n",
      "\n",
      "Layer 8 texts:  45%|████▌     | 45/100 [09:03<11:01, 12.03s/it]\u001b[A"
     ]
    },
    {
     "name": "stdout",
     "output_type": "stream",
     "text": [
      "⚠️  No logits available for google/paligemma2-3b-pt-224, using zero loss\n",
      "📥 Loading model: google/gemma-2-2b\n"
     ]
    },
    {
     "name": "stderr",
     "output_type": "stream",
     "text": [
      "\n",
      "\n",
      "Loading checkpoint shards: 100%|██████████| 3/3 [00:00<00:00, 62.22it/s]\n"
     ]
    },
    {
     "name": "stdout",
     "output_type": "stream",
     "text": [
      "📥 Loading model: google/paligemma2-3b-pt-224\n"
     ]
    },
    {
     "name": "stderr",
     "output_type": "stream",
     "text": [
      "\n",
      "\n",
      "Loading checkpoint shards:   0%|          | 0/2 [00:00<?, ?it/s]\u001b[A\u001b[A\n",
      "\n",
      "Loading checkpoint shards:  50%|█████     | 1/2 [00:00<00:00,  1.26it/s]\u001b[A\u001b[A\n",
      "\n",
      "Loading checkpoint shards: 100%|██████████| 2/2 [00:00<00:00,  2.05it/s]\u001b[A\u001b[A\n",
      "\n",
      "Layer 8 texts:  46%|████▌     | 46/100 [09:15<10:45, 11.96s/it]\u001b[A"
     ]
    },
    {
     "name": "stdout",
     "output_type": "stream",
     "text": [
      "⚠️  No logits available for google/paligemma2-3b-pt-224, using zero loss\n",
      "📥 Loading model: google/gemma-2-2b\n"
     ]
    },
    {
     "name": "stderr",
     "output_type": "stream",
     "text": [
      "\n",
      "\n",
      "Loading checkpoint shards: 100%|██████████| 3/3 [00:00<00:00, 61.43it/s]\n"
     ]
    },
    {
     "name": "stdout",
     "output_type": "stream",
     "text": [
      "📥 Loading model: google/paligemma2-3b-pt-224\n"
     ]
    },
    {
     "name": "stderr",
     "output_type": "stream",
     "text": [
      "\n",
      "\n",
      "Loading checkpoint shards:   0%|          | 0/2 [00:00<?, ?it/s]\u001b[A\u001b[A\n",
      "\n",
      "Loading checkpoint shards:  50%|█████     | 1/2 [00:00<00:00,  1.26it/s]\u001b[A\u001b[A\n",
      "\n",
      "Loading checkpoint shards: 100%|██████████| 2/2 [00:00<00:00,  2.06it/s]\u001b[A\u001b[A\n",
      "\n",
      "Layer 8 texts:  47%|████▋     | 47/100 [09:26<10:30, 11.90s/it]\u001b[A"
     ]
    },
    {
     "name": "stdout",
     "output_type": "stream",
     "text": [
      "⚠️  No logits available for google/paligemma2-3b-pt-224, using zero loss\n",
      "📥 Loading model: google/gemma-2-2b\n"
     ]
    },
    {
     "name": "stderr",
     "output_type": "stream",
     "text": [
      "\n",
      "\n",
      "Loading checkpoint shards: 100%|██████████| 3/3 [00:00<00:00, 62.22it/s]\n"
     ]
    },
    {
     "name": "stdout",
     "output_type": "stream",
     "text": [
      "📥 Loading model: google/paligemma2-3b-pt-224\n"
     ]
    },
    {
     "name": "stderr",
     "output_type": "stream",
     "text": [
      "\n",
      "\n",
      "Loading checkpoint shards:   0%|          | 0/2 [00:00<?, ?it/s]\u001b[A\u001b[A\n",
      "\n",
      "Loading checkpoint shards:  50%|█████     | 1/2 [00:00<00:00,  1.35it/s]\u001b[A\u001b[A\n",
      "\n",
      "Loading checkpoint shards: 100%|██████████| 2/2 [00:00<00:00,  2.17it/s]\u001b[A\u001b[A\n",
      "\n",
      "Layer 8 texts:  48%|████▊     | 48/100 [09:38<10:17, 11.87s/it]\u001b[A"
     ]
    },
    {
     "name": "stdout",
     "output_type": "stream",
     "text": [
      "⚠️  No logits available for google/paligemma2-3b-pt-224, using zero loss\n",
      "📥 Loading model: google/gemma-2-2b\n"
     ]
    },
    {
     "name": "stderr",
     "output_type": "stream",
     "text": [
      "\n",
      "\n",
      "Loading checkpoint shards: 100%|██████████| 3/3 [00:00<00:00, 62.44it/s]\n"
     ]
    },
    {
     "name": "stdout",
     "output_type": "stream",
     "text": [
      "📥 Loading model: google/paligemma2-3b-pt-224\n"
     ]
    },
    {
     "name": "stderr",
     "output_type": "stream",
     "text": [
      "\n",
      "\n",
      "Loading checkpoint shards:   0%|          | 0/2 [00:00<?, ?it/s]\u001b[A\u001b[A\n",
      "\n",
      "Loading checkpoint shards:  50%|█████     | 1/2 [00:00<00:00,  1.27it/s]\u001b[A\u001b[A\n",
      "\n",
      "Loading checkpoint shards: 100%|██████████| 2/2 [00:00<00:00,  2.08it/s]\u001b[A\u001b[A\n",
      "\n",
      "Layer 8 texts:  49%|████▉     | 49/100 [09:51<10:11, 11.99s/it]\u001b[A"
     ]
    },
    {
     "name": "stdout",
     "output_type": "stream",
     "text": [
      "⚠️  No logits available for google/paligemma2-3b-pt-224, using zero loss\n",
      "📥 Loading model: google/gemma-2-2b\n"
     ]
    },
    {
     "name": "stderr",
     "output_type": "stream",
     "text": [
      "\n",
      "\n",
      "Loading checkpoint shards: 100%|██████████| 3/3 [00:00<00:00, 60.48it/s]\n"
     ]
    },
    {
     "name": "stdout",
     "output_type": "stream",
     "text": [
      "📥 Loading model: google/paligemma2-3b-pt-224\n"
     ]
    },
    {
     "name": "stderr",
     "output_type": "stream",
     "text": [
      "\n",
      "\n",
      "Loading checkpoint shards:   0%|          | 0/2 [00:00<?, ?it/s]\u001b[A\u001b[A\n",
      "\n",
      "Loading checkpoint shards:  50%|█████     | 1/2 [00:00<00:00,  1.28it/s]\u001b[A\u001b[A\n",
      "\n",
      "Loading checkpoint shards: 100%|██████████| 2/2 [00:00<00:00,  2.09it/s]\u001b[A\u001b[A\n",
      "\n",
      "Layer 8 texts:  50%|█████     | 50/100 [10:03<10:03, 12.07s/it]\u001b[A"
     ]
    },
    {
     "name": "stdout",
     "output_type": "stream",
     "text": [
      "⚠️  No logits available for google/paligemma2-3b-pt-224, using zero loss\n",
      "📥 Loading model: google/gemma-2-2b\n"
     ]
    },
    {
     "name": "stderr",
     "output_type": "stream",
     "text": [
      "\n",
      "\n",
      "Loading checkpoint shards: 100%|██████████| 3/3 [00:00<00:00, 58.80it/s]\n"
     ]
    },
    {
     "name": "stdout",
     "output_type": "stream",
     "text": [
      "📥 Loading model: google/paligemma2-3b-pt-224\n"
     ]
    },
    {
     "name": "stderr",
     "output_type": "stream",
     "text": [
      "\n",
      "\n",
      "Loading checkpoint shards:   0%|          | 0/2 [00:00<?, ?it/s]\u001b[A\u001b[A\n",
      "\n",
      "Loading checkpoint shards:  50%|█████     | 1/2 [00:00<00:00,  1.25it/s]\u001b[A\u001b[A\n",
      "\n",
      "Loading checkpoint shards: 100%|██████████| 2/2 [00:00<00:00,  2.03it/s]\u001b[A\u001b[A\n",
      "\n",
      "Layer 8 texts:  51%|█████     | 51/100 [10:15<09:56, 12.17s/it]\u001b[A"
     ]
    },
    {
     "name": "stdout",
     "output_type": "stream",
     "text": [
      "⚠️  No logits available for google/paligemma2-3b-pt-224, using zero loss\n",
      "📥 Loading model: google/gemma-2-2b\n"
     ]
    },
    {
     "name": "stderr",
     "output_type": "stream",
     "text": [
      "\n",
      "\n",
      "Loading checkpoint shards: 100%|██████████| 3/3 [00:00<00:00, 61.52it/s]\n"
     ]
    },
    {
     "name": "stdout",
     "output_type": "stream",
     "text": [
      "📥 Loading model: google/paligemma2-3b-pt-224\n"
     ]
    },
    {
     "name": "stderr",
     "output_type": "stream",
     "text": [
      "\n",
      "\n",
      "Loading checkpoint shards:   0%|          | 0/2 [00:00<?, ?it/s]\u001b[A\u001b[A\n",
      "\n",
      "Loading checkpoint shards:  50%|█████     | 1/2 [00:00<00:00,  1.23it/s]\u001b[A\u001b[A\n",
      "\n",
      "Loading checkpoint shards: 100%|██████████| 2/2 [00:00<00:00,  2.02it/s]\u001b[A\u001b[A\n",
      "\n",
      "Layer 8 texts:  52%|█████▏    | 52/100 [10:28<09:46, 12.21s/it]\u001b[A"
     ]
    },
    {
     "name": "stdout",
     "output_type": "stream",
     "text": [
      "⚠️  No logits available for google/paligemma2-3b-pt-224, using zero loss\n",
      "📥 Loading model: google/gemma-2-2b\n"
     ]
    },
    {
     "name": "stderr",
     "output_type": "stream",
     "text": [
      "\n",
      "\n",
      "Loading checkpoint shards: 100%|██████████| 3/3 [00:00<00:00, 60.99it/s]\n"
     ]
    },
    {
     "name": "stdout",
     "output_type": "stream",
     "text": [
      "📥 Loading model: google/paligemma2-3b-pt-224\n"
     ]
    },
    {
     "name": "stderr",
     "output_type": "stream",
     "text": [
      "\n",
      "\n",
      "Loading checkpoint shards:   0%|          | 0/2 [00:00<?, ?it/s]\u001b[A\u001b[A\n",
      "\n",
      "Loading checkpoint shards:  50%|█████     | 1/2 [00:00<00:00,  1.19it/s]\u001b[A\u001b[A\n",
      "\n",
      "Loading checkpoint shards: 100%|██████████| 2/2 [00:01<00:00,  1.97it/s]\u001b[A\u001b[A\n",
      "\n",
      "Layer 8 texts:  53%|█████▎    | 53/100 [10:40<09:35, 12.24s/it]\u001b[A"
     ]
    },
    {
     "name": "stdout",
     "output_type": "stream",
     "text": [
      "⚠️  No logits available for google/paligemma2-3b-pt-224, using zero loss\n",
      "📥 Loading model: google/gemma-2-2b\n"
     ]
    },
    {
     "name": "stderr",
     "output_type": "stream",
     "text": [
      "\n",
      "\n",
      "Loading checkpoint shards: 100%|██████████| 3/3 [00:00<00:00, 61.74it/s]\n"
     ]
    },
    {
     "name": "stdout",
     "output_type": "stream",
     "text": [
      "📥 Loading model: google/paligemma2-3b-pt-224\n"
     ]
    },
    {
     "name": "stderr",
     "output_type": "stream",
     "text": [
      "\n",
      "\n",
      "Loading checkpoint shards:   0%|          | 0/2 [00:00<?, ?it/s]\u001b[A\u001b[A\n",
      "\n",
      "Loading checkpoint shards:  50%|█████     | 1/2 [00:00<00:00,  1.23it/s]\u001b[A\u001b[A\n",
      "\n",
      "Loading checkpoint shards: 100%|██████████| 2/2 [00:00<00:00,  2.01it/s]\u001b[A\u001b[A\n",
      "\n",
      "Layer 8 texts:  54%|█████▍    | 54/100 [10:52<09:18, 12.14s/it]\u001b[A"
     ]
    },
    {
     "name": "stdout",
     "output_type": "stream",
     "text": [
      "⚠️  No logits available for google/paligemma2-3b-pt-224, using zero loss\n",
      "📥 Loading model: google/gemma-2-2b\n"
     ]
    },
    {
     "name": "stderr",
     "output_type": "stream",
     "text": [
      "\n",
      "\n",
      "Loading checkpoint shards: 100%|██████████| 3/3 [00:00<00:00, 45.89it/s]\n"
     ]
    },
    {
     "name": "stdout",
     "output_type": "stream",
     "text": [
      "📥 Loading model: google/paligemma2-3b-pt-224\n"
     ]
    },
    {
     "name": "stderr",
     "output_type": "stream",
     "text": [
      "\n",
      "\n",
      "Loading checkpoint shards:   0%|          | 0/2 [00:00<?, ?it/s]\u001b[A\u001b[A\n",
      "\n",
      "Loading checkpoint shards:  50%|█████     | 1/2 [00:00<00:00,  1.26it/s]\u001b[A\u001b[A\n",
      "\n",
      "Loading checkpoint shards: 100%|██████████| 2/2 [00:01<00:00,  1.70it/s]\u001b[A\u001b[A\n",
      "\n",
      "Layer 8 texts:  55%|█████▌    | 55/100 [11:04<09:05, 12.12s/it]\u001b[A"
     ]
    },
    {
     "name": "stdout",
     "output_type": "stream",
     "text": [
      "⚠️  No logits available for google/paligemma2-3b-pt-224, using zero loss\n",
      "📥 Loading model: google/gemma-2-2b\n"
     ]
    },
    {
     "name": "stderr",
     "output_type": "stream",
     "text": [
      "\n",
      "\n",
      "Loading checkpoint shards: 100%|██████████| 3/3 [00:00<00:00, 54.72it/s]\n"
     ]
    },
    {
     "name": "stdout",
     "output_type": "stream",
     "text": [
      "📥 Loading model: google/paligemma2-3b-pt-224\n"
     ]
    },
    {
     "name": "stderr",
     "output_type": "stream",
     "text": [
      "\n",
      "\n",
      "Loading checkpoint shards:   0%|          | 0/2 [00:00<?, ?it/s]\u001b[A\u001b[A\n",
      "\n",
      "Loading checkpoint shards:  50%|█████     | 1/2 [00:00<00:00,  1.23it/s]\u001b[A\u001b[A\n",
      "\n",
      "Loading checkpoint shards: 100%|██████████| 2/2 [00:00<00:00,  2.01it/s]\u001b[A\u001b[A\n",
      "\n",
      "Layer 8 texts:  56%|█████▌    | 56/100 [11:16<08:50, 12.07s/it]\u001b[A"
     ]
    },
    {
     "name": "stdout",
     "output_type": "stream",
     "text": [
      "⚠️  No logits available for google/paligemma2-3b-pt-224, using zero loss\n",
      "📥 Loading model: google/gemma-2-2b\n"
     ]
    },
    {
     "name": "stderr",
     "output_type": "stream",
     "text": [
      "\n",
      "\n",
      "Loading checkpoint shards: 100%|██████████| 3/3 [00:00<00:00, 60.66it/s]\n"
     ]
    },
    {
     "name": "stdout",
     "output_type": "stream",
     "text": [
      "📥 Loading model: google/paligemma2-3b-pt-224\n"
     ]
    },
    {
     "name": "stderr",
     "output_type": "stream",
     "text": [
      "\n",
      "\n",
      "Loading checkpoint shards:   0%|          | 0/2 [00:00<?, ?it/s]\u001b[A\u001b[A\n",
      "\n",
      "Loading checkpoint shards:  50%|█████     | 1/2 [00:00<00:00,  1.22it/s]\u001b[A\u001b[A\n",
      "\n",
      "Loading checkpoint shards: 100%|██████████| 2/2 [00:01<00:00,  1.97it/s]\u001b[A\u001b[A\n",
      "\n",
      "Layer 8 texts:  57%|█████▋    | 57/100 [11:28<08:41, 12.13s/it]\u001b[A"
     ]
    },
    {
     "name": "stdout",
     "output_type": "stream",
     "text": [
      "⚠️  No logits available for google/paligemma2-3b-pt-224, using zero loss\n",
      "📥 Loading model: google/gemma-2-2b\n"
     ]
    },
    {
     "name": "stderr",
     "output_type": "stream",
     "text": [
      "\n",
      "\n",
      "Loading checkpoint shards: 100%|██████████| 3/3 [00:00<00:00, 62.03it/s]\n"
     ]
    },
    {
     "name": "stdout",
     "output_type": "stream",
     "text": [
      "📥 Loading model: google/paligemma2-3b-pt-224\n"
     ]
    },
    {
     "name": "stderr",
     "output_type": "stream",
     "text": [
      "\n",
      "\n",
      "Loading checkpoint shards:   0%|          | 0/2 [00:00<?, ?it/s]\u001b[A\u001b[A\n",
      "\n",
      "Loading checkpoint shards:  50%|█████     | 1/2 [00:00<00:00,  1.19it/s]\u001b[A\u001b[A\n",
      "\n",
      "Loading checkpoint shards: 100%|██████████| 2/2 [00:01<00:00,  1.97it/s]\u001b[A\u001b[A\n",
      "\n",
      "Layer 8 texts:  58%|█████▊    | 58/100 [11:40<08:26, 12.06s/it]\u001b[A"
     ]
    },
    {
     "name": "stdout",
     "output_type": "stream",
     "text": [
      "⚠️  No logits available for google/paligemma2-3b-pt-224, using zero loss\n",
      "📥 Loading model: google/gemma-2-2b\n"
     ]
    },
    {
     "name": "stderr",
     "output_type": "stream",
     "text": [
      "\n",
      "\n",
      "Loading checkpoint shards: 100%|██████████| 3/3 [00:00<00:00, 57.02it/s]\n"
     ]
    },
    {
     "name": "stdout",
     "output_type": "stream",
     "text": [
      "📥 Loading model: google/paligemma2-3b-pt-224\n"
     ]
    },
    {
     "name": "stderr",
     "output_type": "stream",
     "text": [
      "\n",
      "\n",
      "Loading checkpoint shards:   0%|          | 0/2 [00:00<?, ?it/s]\u001b[A\u001b[A\n",
      "\n",
      "Loading checkpoint shards:  50%|█████     | 1/2 [00:00<00:00,  1.26it/s]\u001b[A\u001b[A\n",
      "\n",
      "Loading checkpoint shards: 100%|██████████| 2/2 [00:00<00:00,  2.05it/s]\u001b[A\u001b[A\n",
      "\n",
      "Layer 8 texts:  59%|█████▉    | 59/100 [11:52<08:14, 12.05s/it]\u001b[A"
     ]
    },
    {
     "name": "stdout",
     "output_type": "stream",
     "text": [
      "⚠️  No logits available for google/paligemma2-3b-pt-224, using zero loss\n",
      "📥 Loading model: google/gemma-2-2b\n"
     ]
    },
    {
     "name": "stderr",
     "output_type": "stream",
     "text": [
      "\n",
      "\n",
      "Loading checkpoint shards: 100%|██████████| 3/3 [00:00<00:00, 55.02it/s]\n"
     ]
    },
    {
     "name": "stdout",
     "output_type": "stream",
     "text": [
      "📥 Loading model: google/paligemma2-3b-pt-224\n"
     ]
    },
    {
     "name": "stderr",
     "output_type": "stream",
     "text": [
      "\n",
      "\n",
      "Loading checkpoint shards:   0%|          | 0/2 [00:00<?, ?it/s]\u001b[A\u001b[A\n",
      "\n",
      "Loading checkpoint shards:  50%|█████     | 1/2 [00:00<00:00,  1.26it/s]\u001b[A\u001b[A\n",
      "\n",
      "Loading checkpoint shards: 100%|██████████| 2/2 [00:00<00:00,  2.06it/s]\u001b[A\u001b[A\n",
      "\n",
      "Layer 8 texts:  60%|██████    | 60/100 [12:04<08:00, 12.02s/it]\u001b[A"
     ]
    },
    {
     "name": "stdout",
     "output_type": "stream",
     "text": [
      "⚠️  No logits available for google/paligemma2-3b-pt-224, using zero loss\n",
      "📥 Loading model: google/gemma-2-2b\n"
     ]
    },
    {
     "name": "stderr",
     "output_type": "stream",
     "text": [
      "\n",
      "\n",
      "Loading checkpoint shards: 100%|██████████| 3/3 [00:00<00:00, 60.29it/s]\n"
     ]
    },
    {
     "name": "stdout",
     "output_type": "stream",
     "text": [
      "📥 Loading model: google/paligemma2-3b-pt-224\n"
     ]
    },
    {
     "name": "stderr",
     "output_type": "stream",
     "text": [
      "\n",
      "\n",
      "Loading checkpoint shards:   0%|          | 0/2 [00:00<?, ?it/s]\u001b[A\u001b[A\n",
      "\n",
      "Loading checkpoint shards:  50%|█████     | 1/2 [00:00<00:00,  1.29it/s]\u001b[A\u001b[A\n",
      "\n",
      "Loading checkpoint shards: 100%|██████████| 2/2 [00:00<00:00,  2.09it/s]\u001b[A\u001b[A\n",
      "\n",
      "Layer 8 texts:  61%|██████    | 61/100 [12:16<07:44, 11.92s/it]\u001b[A"
     ]
    },
    {
     "name": "stdout",
     "output_type": "stream",
     "text": [
      "⚠️  No logits available for google/paligemma2-3b-pt-224, using zero loss\n",
      "📥 Loading model: google/gemma-2-2b\n"
     ]
    },
    {
     "name": "stderr",
     "output_type": "stream",
     "text": [
      "\n",
      "\n",
      "Loading checkpoint shards: 100%|██████████| 3/3 [00:00<00:00, 60.90it/s]\n"
     ]
    },
    {
     "name": "stdout",
     "output_type": "stream",
     "text": [
      "📥 Loading model: google/paligemma2-3b-pt-224\n"
     ]
    },
    {
     "name": "stderr",
     "output_type": "stream",
     "text": [
      "\n",
      "\n",
      "Loading checkpoint shards:   0%|          | 0/2 [00:00<?, ?it/s]\u001b[A\u001b[A\n",
      "\n",
      "Loading checkpoint shards:  50%|█████     | 1/2 [00:00<00:00,  1.30it/s]\u001b[A\u001b[A\n",
      "\n",
      "Loading checkpoint shards: 100%|██████████| 2/2 [00:00<00:00,  2.13it/s]\u001b[A\u001b[A\n",
      "\n",
      "Layer 8 texts:  62%|██████▏   | 62/100 [12:27<07:30, 11.87s/it]\u001b[A"
     ]
    },
    {
     "name": "stdout",
     "output_type": "stream",
     "text": [
      "⚠️  No logits available for google/paligemma2-3b-pt-224, using zero loss\n",
      "📥 Loading model: google/gemma-2-2b\n"
     ]
    },
    {
     "name": "stderr",
     "output_type": "stream",
     "text": [
      "\n",
      "\n",
      "Loading checkpoint shards: 100%|██████████| 3/3 [00:00<00:00, 60.07it/s]\n"
     ]
    },
    {
     "name": "stdout",
     "output_type": "stream",
     "text": [
      "📥 Loading model: google/paligemma2-3b-pt-224\n"
     ]
    },
    {
     "name": "stderr",
     "output_type": "stream",
     "text": [
      "\n",
      "\n",
      "Loading checkpoint shards:   0%|          | 0/2 [00:00<?, ?it/s]\u001b[A\u001b[A\n",
      "\n",
      "Loading checkpoint shards:  50%|█████     | 1/2 [00:00<00:00,  1.28it/s]\u001b[A\u001b[A\n",
      "\n",
      "Loading checkpoint shards: 100%|██████████| 2/2 [00:00<00:00,  2.07it/s]\u001b[A\u001b[A\n",
      "\n",
      "Layer 8 texts:  63%|██████▎   | 63/100 [12:39<07:21, 11.93s/it]\u001b[A"
     ]
    },
    {
     "name": "stdout",
     "output_type": "stream",
     "text": [
      "⚠️  No logits available for google/paligemma2-3b-pt-224, using zero loss\n",
      "📥 Loading model: google/gemma-2-2b\n"
     ]
    },
    {
     "name": "stderr",
     "output_type": "stream",
     "text": [
      "\n",
      "\n",
      "Loading checkpoint shards: 100%|██████████| 3/3 [00:00<00:00, 62.04it/s]\n"
     ]
    },
    {
     "name": "stdout",
     "output_type": "stream",
     "text": [
      "📥 Loading model: google/paligemma2-3b-pt-224\n"
     ]
    },
    {
     "name": "stderr",
     "output_type": "stream",
     "text": [
      "\n",
      "\n",
      "Loading checkpoint shards:   0%|          | 0/2 [00:00<?, ?it/s]\u001b[A\u001b[A\n",
      "\n",
      "Loading checkpoint shards:  50%|█████     | 1/2 [00:00<00:00,  1.31it/s]\u001b[A\u001b[A\n",
      "\n",
      "Loading checkpoint shards: 100%|██████████| 2/2 [00:00<00:00,  2.12it/s]\u001b[A\u001b[A\n",
      "\n",
      "Layer 8 texts:  64%|██████▍   | 64/100 [12:52<07:11, 11.99s/it]\u001b[A"
     ]
    },
    {
     "name": "stdout",
     "output_type": "stream",
     "text": [
      "⚠️  No logits available for google/paligemma2-3b-pt-224, using zero loss\n",
      "📥 Loading model: google/gemma-2-2b\n"
     ]
    },
    {
     "name": "stderr",
     "output_type": "stream",
     "text": [
      "\n",
      "\n",
      "Loading checkpoint shards: 100%|██████████| 3/3 [00:00<00:00, 58.84it/s]\n"
     ]
    },
    {
     "name": "stdout",
     "output_type": "stream",
     "text": [
      "📥 Loading model: google/paligemma2-3b-pt-224\n"
     ]
    },
    {
     "name": "stderr",
     "output_type": "stream",
     "text": [
      "\n",
      "\n",
      "Loading checkpoint shards:   0%|          | 0/2 [00:00<?, ?it/s]\u001b[A\u001b[A\n",
      "\n",
      "Loading checkpoint shards:  50%|█████     | 1/2 [00:00<00:00,  1.28it/s]\u001b[A\u001b[A\n",
      "\n",
      "Loading checkpoint shards: 100%|██████████| 2/2 [00:00<00:00,  2.11it/s]\u001b[A\u001b[A\n",
      "\n",
      "Layer 8 texts:  65%|██████▌   | 65/100 [13:04<07:02, 12.08s/it]\u001b[A"
     ]
    },
    {
     "name": "stdout",
     "output_type": "stream",
     "text": [
      "⚠️  No logits available for google/paligemma2-3b-pt-224, using zero loss\n",
      "📥 Loading model: google/gemma-2-2b\n"
     ]
    },
    {
     "name": "stderr",
     "output_type": "stream",
     "text": [
      "\n",
      "\n",
      "Loading checkpoint shards: 100%|██████████| 3/3 [00:00<00:00, 60.70it/s]\n"
     ]
    },
    {
     "name": "stdout",
     "output_type": "stream",
     "text": [
      "📥 Loading model: google/paligemma2-3b-pt-224\n"
     ]
    },
    {
     "name": "stderr",
     "output_type": "stream",
     "text": [
      "\n",
      "\n",
      "Loading checkpoint shards:   0%|          | 0/2 [00:00<?, ?it/s]\u001b[A\u001b[A\n",
      "\n",
      "Loading checkpoint shards:  50%|█████     | 1/2 [00:00<00:00,  1.26it/s]\u001b[A\u001b[A\n",
      "\n",
      "Loading checkpoint shards: 100%|██████████| 2/2 [00:00<00:00,  2.07it/s]\u001b[A\u001b[A\n",
      "\n",
      "Layer 8 texts:  66%|██████▌   | 66/100 [13:16<06:52, 12.12s/it]\u001b[A"
     ]
    },
    {
     "name": "stdout",
     "output_type": "stream",
     "text": [
      "⚠️  No logits available for google/paligemma2-3b-pt-224, using zero loss\n",
      "📥 Loading model: google/gemma-2-2b\n"
     ]
    },
    {
     "name": "stderr",
     "output_type": "stream",
     "text": [
      "\n",
      "\n",
      "Loading checkpoint shards: 100%|██████████| 3/3 [00:00<00:00, 59.12it/s]\n"
     ]
    },
    {
     "name": "stdout",
     "output_type": "stream",
     "text": [
      "📥 Loading model: google/paligemma2-3b-pt-224\n"
     ]
    },
    {
     "name": "stderr",
     "output_type": "stream",
     "text": [
      "\n",
      "\n",
      "Loading checkpoint shards:   0%|          | 0/2 [00:00<?, ?it/s]\u001b[A\u001b[A\n",
      "\n",
      "Loading checkpoint shards:  50%|█████     | 1/2 [00:00<00:00,  1.28it/s]\u001b[A\u001b[A\n",
      "\n",
      "Loading checkpoint shards: 100%|██████████| 2/2 [00:00<00:00,  2.09it/s]\u001b[A\u001b[A\n",
      "\n",
      "Layer 8 texts:  67%|██████▋   | 67/100 [13:28<06:38, 12.07s/it]\u001b[A"
     ]
    },
    {
     "name": "stdout",
     "output_type": "stream",
     "text": [
      "⚠️  No logits available for google/paligemma2-3b-pt-224, using zero loss\n",
      "📥 Loading model: google/gemma-2-2b\n"
     ]
    },
    {
     "name": "stderr",
     "output_type": "stream",
     "text": [
      "\n",
      "\n",
      "Loading checkpoint shards: 100%|██████████| 3/3 [00:00<00:00, 59.83it/s]\n"
     ]
    },
    {
     "name": "stdout",
     "output_type": "stream",
     "text": [
      "📥 Loading model: google/paligemma2-3b-pt-224\n"
     ]
    },
    {
     "name": "stderr",
     "output_type": "stream",
     "text": [
      "\n",
      "\n",
      "Loading checkpoint shards:   0%|          | 0/2 [00:00<?, ?it/s]\u001b[A\u001b[A\n",
      "\n",
      "Loading checkpoint shards:  50%|█████     | 1/2 [00:00<00:00,  1.27it/s]\u001b[A\u001b[A\n",
      "\n",
      "Loading checkpoint shards: 100%|██████████| 2/2 [00:00<00:00,  2.07it/s]\u001b[A\u001b[A\n",
      "\n",
      "Layer 8 texts:  68%|██████▊   | 68/100 [13:40<06:22, 11.97s/it]\u001b[A"
     ]
    },
    {
     "name": "stdout",
     "output_type": "stream",
     "text": [
      "⚠️  No logits available for google/paligemma2-3b-pt-224, using zero loss\n",
      "📥 Loading model: google/gemma-2-2b\n"
     ]
    },
    {
     "name": "stderr",
     "output_type": "stream",
     "text": [
      "\n",
      "\n",
      "Loading checkpoint shards: 100%|██████████| 3/3 [00:00<00:00, 59.42it/s]\n"
     ]
    },
    {
     "name": "stdout",
     "output_type": "stream",
     "text": [
      "📥 Loading model: google/paligemma2-3b-pt-224\n"
     ]
    },
    {
     "name": "stderr",
     "output_type": "stream",
     "text": [
      "\n",
      "\n",
      "Loading checkpoint shards:   0%|          | 0/2 [00:00<?, ?it/s]\u001b[A\u001b[A\n",
      "\n",
      "Loading checkpoint shards:  50%|█████     | 1/2 [00:00<00:00,  1.35it/s]\u001b[A\u001b[A\n",
      "\n",
      "Loading checkpoint shards: 100%|██████████| 2/2 [00:01<00:00,  1.74it/s]\u001b[A\u001b[A\n",
      "\n",
      "Layer 8 texts:  69%|██████▉   | 69/100 [13:52<06:12, 12.02s/it]\u001b[A"
     ]
    },
    {
     "name": "stdout",
     "output_type": "stream",
     "text": [
      "⚠️  No logits available for google/paligemma2-3b-pt-224, using zero loss\n",
      "📥 Loading model: google/gemma-2-2b\n"
     ]
    },
    {
     "name": "stderr",
     "output_type": "stream",
     "text": [
      "\n",
      "\n",
      "Loading checkpoint shards: 100%|██████████| 3/3 [00:00<00:00, 61.58it/s]\n"
     ]
    },
    {
     "name": "stdout",
     "output_type": "stream",
     "text": [
      "📥 Loading model: google/paligemma2-3b-pt-224\n"
     ]
    },
    {
     "name": "stderr",
     "output_type": "stream",
     "text": [
      "\n",
      "\n",
      "Loading checkpoint shards:   0%|          | 0/2 [00:00<?, ?it/s]\u001b[A\u001b[A\n",
      "\n",
      "Loading checkpoint shards:  50%|█████     | 1/2 [00:00<00:00,  1.28it/s]\u001b[A\u001b[A\n",
      "\n",
      "Loading checkpoint shards: 100%|██████████| 2/2 [00:00<00:00,  2.10it/s]\u001b[A\u001b[A\n",
      "\n",
      "Layer 8 texts:  70%|███████   | 70/100 [14:04<06:04, 12.15s/it]\u001b[A"
     ]
    },
    {
     "name": "stdout",
     "output_type": "stream",
     "text": [
      "⚠️  No logits available for google/paligemma2-3b-pt-224, using zero loss\n",
      "📥 Loading model: google/gemma-2-2b\n"
     ]
    },
    {
     "name": "stderr",
     "output_type": "stream",
     "text": [
      "\n",
      "\n",
      "Loading checkpoint shards: 100%|██████████| 3/3 [00:00<00:00, 61.78it/s]\n"
     ]
    },
    {
     "name": "stdout",
     "output_type": "stream",
     "text": [
      "📥 Loading model: google/paligemma2-3b-pt-224\n"
     ]
    },
    {
     "name": "stderr",
     "output_type": "stream",
     "text": [
      "\n",
      "\n",
      "Loading checkpoint shards:   0%|          | 0/2 [00:00<?, ?it/s]\u001b[A\u001b[A\n",
      "\n",
      "Loading checkpoint shards:  50%|█████     | 1/2 [00:00<00:00,  1.28it/s]\u001b[A\u001b[A\n",
      "\n",
      "Loading checkpoint shards: 100%|██████████| 2/2 [00:00<00:00,  2.08it/s]\u001b[A\u001b[A\n",
      "\n",
      "Layer 8 texts:  71%|███████   | 71/100 [14:16<05:51, 12.11s/it]\u001b[A"
     ]
    },
    {
     "name": "stdout",
     "output_type": "stream",
     "text": [
      "⚠️  No logits available for google/paligemma2-3b-pt-224, using zero loss\n",
      "📥 Loading model: google/gemma-2-2b\n"
     ]
    },
    {
     "name": "stderr",
     "output_type": "stream",
     "text": [
      "\n",
      "\n",
      "Loading checkpoint shards: 100%|██████████| 3/3 [00:00<00:00, 57.03it/s]\n"
     ]
    },
    {
     "name": "stdout",
     "output_type": "stream",
     "text": [
      "📥 Loading model: google/paligemma2-3b-pt-224\n"
     ]
    },
    {
     "name": "stderr",
     "output_type": "stream",
     "text": [
      "\n",
      "\n",
      "Loading checkpoint shards:   0%|          | 0/2 [00:00<?, ?it/s]\u001b[A\u001b[A\n",
      "\n",
      "Loading checkpoint shards:  50%|█████     | 1/2 [00:00<00:00,  1.27it/s]\u001b[A\u001b[A\n",
      "\n",
      "Loading checkpoint shards: 100%|██████████| 2/2 [00:00<00:00,  2.06it/s]\u001b[A\u001b[A\n",
      "\n",
      "Layer 8 texts:  72%|███████▏  | 72/100 [14:28<05:39, 12.12s/it]\u001b[A"
     ]
    },
    {
     "name": "stdout",
     "output_type": "stream",
     "text": [
      "⚠️  No logits available for google/paligemma2-3b-pt-224, using zero loss\n",
      "📥 Loading model: google/gemma-2-2b\n"
     ]
    },
    {
     "name": "stderr",
     "output_type": "stream",
     "text": [
      "\n",
      "\n",
      "Loading checkpoint shards: 100%|██████████| 3/3 [00:00<00:00, 62.74it/s]\n"
     ]
    },
    {
     "name": "stdout",
     "output_type": "stream",
     "text": [
      "📥 Loading model: google/paligemma2-3b-pt-224\n"
     ]
    },
    {
     "name": "stderr",
     "output_type": "stream",
     "text": [
      "\n",
      "\n",
      "Loading checkpoint shards:   0%|          | 0/2 [00:00<?, ?it/s]\u001b[A\u001b[A\n",
      "\n",
      "Loading checkpoint shards:  50%|█████     | 1/2 [00:00<00:00,  1.27it/s]\u001b[A\u001b[A\n",
      "\n",
      "Loading checkpoint shards: 100%|██████████| 2/2 [00:00<00:00,  2.08it/s]\u001b[A\u001b[A\n",
      "\n",
      "Layer 8 texts:  73%|███████▎  | 73/100 [14:41<05:28, 12.16s/it]\u001b[A"
     ]
    },
    {
     "name": "stdout",
     "output_type": "stream",
     "text": [
      "⚠️  No logits available for google/paligemma2-3b-pt-224, using zero loss\n",
      "📥 Loading model: google/gemma-2-2b\n"
     ]
    },
    {
     "name": "stderr",
     "output_type": "stream",
     "text": [
      "\n",
      "\n",
      "Loading checkpoint shards: 100%|██████████| 3/3 [00:00<00:00, 58.93it/s]\n"
     ]
    },
    {
     "name": "stdout",
     "output_type": "stream",
     "text": [
      "📥 Loading model: google/paligemma2-3b-pt-224\n"
     ]
    },
    {
     "name": "stderr",
     "output_type": "stream",
     "text": [
      "\n",
      "\n",
      "Loading checkpoint shards:   0%|          | 0/2 [00:00<?, ?it/s]\u001b[A\u001b[A\n",
      "\n",
      "Loading checkpoint shards:  50%|█████     | 1/2 [00:00<00:00,  1.25it/s]\u001b[A\u001b[A\n",
      "\n",
      "Loading checkpoint shards: 100%|██████████| 2/2 [00:00<00:00,  2.05it/s]\u001b[A\u001b[A\n",
      "\n",
      "Layer 8 texts:  74%|███████▍  | 74/100 [14:53<05:16, 12.17s/it]\u001b[A"
     ]
    },
    {
     "name": "stdout",
     "output_type": "stream",
     "text": [
      "⚠️  No logits available for google/paligemma2-3b-pt-224, using zero loss\n",
      "📥 Loading model: google/gemma-2-2b\n"
     ]
    },
    {
     "name": "stderr",
     "output_type": "stream",
     "text": [
      "\n",
      "\n",
      "Loading checkpoint shards: 100%|██████████| 3/3 [00:00<00:00, 62.09it/s]\n"
     ]
    },
    {
     "name": "stdout",
     "output_type": "stream",
     "text": [
      "📥 Loading model: google/paligemma2-3b-pt-224\n"
     ]
    },
    {
     "name": "stderr",
     "output_type": "stream",
     "text": [
      "\n",
      "\n",
      "Loading checkpoint shards:   0%|          | 0/2 [00:00<?, ?it/s]\u001b[A\u001b[A\n",
      "\n",
      "Loading checkpoint shards:  50%|█████     | 1/2 [00:00<00:00,  1.28it/s]\u001b[A\u001b[A\n",
      "\n",
      "Loading checkpoint shards: 100%|██████████| 2/2 [00:00<00:00,  2.10it/s]\u001b[A\u001b[A\n",
      "\n",
      "Layer 8 texts:  75%|███████▌  | 75/100 [15:05<05:05, 12.23s/it]\u001b[A"
     ]
    },
    {
     "name": "stdout",
     "output_type": "stream",
     "text": [
      "⚠️  No logits available for google/paligemma2-3b-pt-224, using zero loss\n",
      "📥 Loading model: google/gemma-2-2b\n"
     ]
    },
    {
     "name": "stderr",
     "output_type": "stream",
     "text": [
      "\n",
      "\n",
      "Loading checkpoint shards: 100%|██████████| 3/3 [00:00<00:00, 62.49it/s]\n"
     ]
    },
    {
     "name": "stdout",
     "output_type": "stream",
     "text": [
      "📥 Loading model: google/paligemma2-3b-pt-224\n"
     ]
    },
    {
     "name": "stderr",
     "output_type": "stream",
     "text": [
      "\n",
      "\n",
      "Loading checkpoint shards:   0%|          | 0/2 [00:00<?, ?it/s]\u001b[A\u001b[A\n",
      "\n",
      "Loading checkpoint shards:  50%|█████     | 1/2 [00:00<00:00,  1.24it/s]\u001b[A\u001b[A\n",
      "\n",
      "Loading checkpoint shards: 100%|██████████| 2/2 [00:00<00:00,  2.04it/s]\u001b[A\u001b[A\n",
      "\n",
      "Layer 8 texts:  76%|███████▌  | 76/100 [15:18<04:54, 12.26s/it]\u001b[A"
     ]
    },
    {
     "name": "stdout",
     "output_type": "stream",
     "text": [
      "⚠️  No logits available for google/paligemma2-3b-pt-224, using zero loss\n",
      "📥 Loading model: google/gemma-2-2b\n"
     ]
    },
    {
     "name": "stderr",
     "output_type": "stream",
     "text": [
      "\n",
      "\n",
      "Loading checkpoint shards: 100%|██████████| 3/3 [00:00<00:00, 59.94it/s]\n"
     ]
    },
    {
     "name": "stdout",
     "output_type": "stream",
     "text": [
      "📥 Loading model: google/paligemma2-3b-pt-224\n"
     ]
    },
    {
     "name": "stderr",
     "output_type": "stream",
     "text": [
      "\n",
      "\n",
      "Loading checkpoint shards:   0%|          | 0/2 [00:00<?, ?it/s]\u001b[A\u001b[A\n",
      "\n",
      "Loading checkpoint shards:  50%|█████     | 1/2 [00:00<00:00,  1.24it/s]\u001b[A\u001b[A\n",
      "\n",
      "Loading checkpoint shards: 100%|██████████| 2/2 [00:00<00:00,  2.01it/s]\u001b[A\u001b[A\n",
      "\n",
      "Layer 8 texts:  77%|███████▋  | 77/100 [15:30<04:41, 12.24s/it]\u001b[A"
     ]
    },
    {
     "name": "stdout",
     "output_type": "stream",
     "text": [
      "⚠️  No logits available for google/paligemma2-3b-pt-224, using zero loss\n",
      "📥 Loading model: google/gemma-2-2b\n"
     ]
    },
    {
     "name": "stderr",
     "output_type": "stream",
     "text": [
      "\n",
      "\n",
      "Loading checkpoint shards: 100%|██████████| 3/3 [00:00<00:00, 59.71it/s]\n"
     ]
    },
    {
     "name": "stdout",
     "output_type": "stream",
     "text": [
      "📥 Loading model: google/paligemma2-3b-pt-224\n"
     ]
    },
    {
     "name": "stderr",
     "output_type": "stream",
     "text": [
      "\n",
      "\n",
      "Loading checkpoint shards:   0%|          | 0/2 [00:00<?, ?it/s]\u001b[A\u001b[A\n",
      "\n",
      "Loading checkpoint shards:  50%|█████     | 1/2 [00:00<00:00,  1.29it/s]\u001b[A\u001b[A\n",
      "\n",
      "Loading checkpoint shards: 100%|██████████| 2/2 [00:00<00:00,  2.11it/s]\u001b[A\u001b[A\n"
     ]
    },
    {
     "name": "stdout",
     "output_type": "stream",
     "text": [
      "⚠️  No logits available for google/paligemma2-3b-pt-224, using zero loss\n"
     ]
    },
    {
     "name": "stderr",
     "output_type": "stream",
     "text": [
      "\n",
      "Layer 8 texts:  78%|███████▊  | 78/100 [15:42<04:27, 12.16s/it]\u001b[A"
     ]
    },
    {
     "name": "stdout",
     "output_type": "stream",
     "text": [
      "📥 Loading model: google/gemma-2-2b\n"
     ]
    },
    {
     "name": "stderr",
     "output_type": "stream",
     "text": [
      "\n",
      "\n",
      "Loading checkpoint shards: 100%|██████████| 3/3 [00:00<00:00, 54.37it/s]\n"
     ]
    },
    {
     "name": "stdout",
     "output_type": "stream",
     "text": [
      "📥 Loading model: google/paligemma2-3b-pt-224\n"
     ]
    },
    {
     "name": "stderr",
     "output_type": "stream",
     "text": [
      "\n",
      "\n",
      "Loading checkpoint shards:   0%|          | 0/2 [00:00<?, ?it/s]\u001b[A\u001b[A\n",
      "\n",
      "Loading checkpoint shards:  50%|█████     | 1/2 [00:00<00:00,  1.17it/s]\u001b[A\u001b[A\n",
      "\n",
      "Loading checkpoint shards: 100%|██████████| 2/2 [00:01<00:00,  1.95it/s]\u001b[A\u001b[A\n",
      "\n",
      "Layer 8 texts:  79%|███████▉  | 79/100 [15:54<04:13, 12.07s/it]\u001b[A"
     ]
    },
    {
     "name": "stdout",
     "output_type": "stream",
     "text": [
      "⚠️  No logits available for google/paligemma2-3b-pt-224, using zero loss\n",
      "📥 Loading model: google/gemma-2-2b\n"
     ]
    },
    {
     "name": "stderr",
     "output_type": "stream",
     "text": [
      "\n",
      "\n",
      "Loading checkpoint shards: 100%|██████████| 3/3 [00:00<00:00, 60.95it/s]\n"
     ]
    },
    {
     "name": "stdout",
     "output_type": "stream",
     "text": [
      "📥 Loading model: google/paligemma2-3b-pt-224\n"
     ]
    },
    {
     "name": "stderr",
     "output_type": "stream",
     "text": [
      "\n",
      "\n",
      "Loading checkpoint shards:   0%|          | 0/2 [00:00<?, ?it/s]\u001b[A\u001b[A\n",
      "\n",
      "Loading checkpoint shards:  50%|█████     | 1/2 [00:00<00:00,  1.28it/s]\u001b[A\u001b[A\n",
      "\n",
      "Loading checkpoint shards: 100%|██████████| 2/2 [00:01<00:00,  1.65it/s]\u001b[A\u001b[A\n",
      "\n",
      "Layer 8 texts:  80%|████████  | 80/100 [16:06<04:01, 12.08s/it]\u001b[A"
     ]
    },
    {
     "name": "stdout",
     "output_type": "stream",
     "text": [
      "⚠️  No logits available for google/paligemma2-3b-pt-224, using zero loss\n",
      "📥 Loading model: google/gemma-2-2b\n"
     ]
    },
    {
     "name": "stderr",
     "output_type": "stream",
     "text": [
      "\n",
      "\n",
      "Loading checkpoint shards: 100%|██████████| 3/3 [00:00<00:00, 61.38it/s]\n"
     ]
    },
    {
     "name": "stdout",
     "output_type": "stream",
     "text": [
      "📥 Loading model: google/paligemma2-3b-pt-224\n"
     ]
    },
    {
     "name": "stderr",
     "output_type": "stream",
     "text": [
      "\n",
      "\n",
      "Loading checkpoint shards:   0%|          | 0/2 [00:00<?, ?it/s]\u001b[A\u001b[A\n",
      "\n",
      "Loading checkpoint shards:  50%|█████     | 1/2 [00:00<00:00,  1.31it/s]\u001b[A\u001b[A\n",
      "\n",
      "Loading checkpoint shards: 100%|██████████| 2/2 [00:00<00:00,  2.14it/s]\u001b[A\u001b[A\n",
      "\n",
      "Layer 8 texts:  81%|████████  | 81/100 [16:18<03:48, 12.02s/it]\u001b[A"
     ]
    },
    {
     "name": "stdout",
     "output_type": "stream",
     "text": [
      "⚠️  No logits available for google/paligemma2-3b-pt-224, using zero loss\n",
      "📥 Loading model: google/gemma-2-2b\n"
     ]
    },
    {
     "name": "stderr",
     "output_type": "stream",
     "text": [
      "\n",
      "\n",
      "Loading checkpoint shards: 100%|██████████| 3/3 [00:00<00:00, 56.00it/s]\n"
     ]
    },
    {
     "name": "stdout",
     "output_type": "stream",
     "text": [
      "📥 Loading model: google/paligemma2-3b-pt-224\n"
     ]
    },
    {
     "name": "stderr",
     "output_type": "stream",
     "text": [
      "\n",
      "\n",
      "Loading checkpoint shards:   0%|          | 0/2 [00:00<?, ?it/s]\u001b[A\u001b[A\n",
      "\n",
      "Loading checkpoint shards:  50%|█████     | 1/2 [00:00<00:00,  1.22it/s]\u001b[A\u001b[A\n",
      "\n",
      "Loading checkpoint shards: 100%|██████████| 2/2 [00:00<00:00,  2.00it/s]\u001b[A\u001b[A\n",
      "\n",
      "Layer 8 texts:  82%|████████▏ | 82/100 [16:30<03:36, 12.03s/it]\u001b[A"
     ]
    },
    {
     "name": "stdout",
     "output_type": "stream",
     "text": [
      "⚠️  No logits available for google/paligemma2-3b-pt-224, using zero loss\n",
      "📥 Loading model: google/gemma-2-2b\n"
     ]
    },
    {
     "name": "stderr",
     "output_type": "stream",
     "text": [
      "\n",
      "\n",
      "Loading checkpoint shards: 100%|██████████| 3/3 [00:00<00:00, 59.35it/s]\n"
     ]
    },
    {
     "name": "stdout",
     "output_type": "stream",
     "text": [
      "📥 Loading model: google/paligemma2-3b-pt-224\n"
     ]
    },
    {
     "name": "stderr",
     "output_type": "stream",
     "text": [
      "\n",
      "\n",
      "Loading checkpoint shards:   0%|          | 0/2 [00:00<?, ?it/s]\u001b[A\u001b[A\n",
      "\n",
      "Loading checkpoint shards:  50%|█████     | 1/2 [00:00<00:00,  1.18it/s]\u001b[A\u001b[A\n",
      "\n",
      "Loading checkpoint shards: 100%|██████████| 2/2 [00:01<00:00,  1.94it/s]\u001b[A\u001b[A\n",
      "\n",
      "Layer 8 texts:  83%|████████▎ | 83/100 [16:42<03:26, 12.16s/it]\u001b[A"
     ]
    },
    {
     "name": "stdout",
     "output_type": "stream",
     "text": [
      "⚠️  No logits available for google/paligemma2-3b-pt-224, using zero loss\n",
      "📥 Loading model: google/gemma-2-2b\n"
     ]
    },
    {
     "name": "stderr",
     "output_type": "stream",
     "text": [
      "\n",
      "\n",
      "Loading checkpoint shards: 100%|██████████| 3/3 [00:00<00:00, 55.00it/s]\n"
     ]
    },
    {
     "name": "stdout",
     "output_type": "stream",
     "text": [
      "📥 Loading model: google/paligemma2-3b-pt-224\n"
     ]
    },
    {
     "name": "stderr",
     "output_type": "stream",
     "text": [
      "\n",
      "\n",
      "Loading checkpoint shards:   0%|          | 0/2 [00:00<?, ?it/s]\u001b[A\u001b[A\n",
      "\n",
      "Loading checkpoint shards:  50%|█████     | 1/2 [00:00<00:00,  1.25it/s]\u001b[A\u001b[A\n",
      "\n",
      "Loading checkpoint shards: 100%|██████████| 2/2 [00:00<00:00,  2.05it/s]\u001b[A\u001b[A\n",
      "\n",
      "Layer 8 texts:  84%|████████▍ | 84/100 [16:54<03:14, 12.17s/it]\u001b[A"
     ]
    },
    {
     "name": "stdout",
     "output_type": "stream",
     "text": [
      "⚠️  No logits available for google/paligemma2-3b-pt-224, using zero loss\n",
      "📥 Loading model: google/gemma-2-2b\n"
     ]
    },
    {
     "name": "stderr",
     "output_type": "stream",
     "text": [
      "\n",
      "\n",
      "Loading checkpoint shards: 100%|██████████| 3/3 [00:00<00:00, 54.16it/s]\n"
     ]
    },
    {
     "name": "stdout",
     "output_type": "stream",
     "text": [
      "📥 Loading model: google/paligemma2-3b-pt-224\n"
     ]
    },
    {
     "name": "stderr",
     "output_type": "stream",
     "text": [
      "\n",
      "\n",
      "Loading checkpoint shards:   0%|          | 0/2 [00:00<?, ?it/s]\u001b[A\u001b[A\n",
      "\n",
      "Loading checkpoint shards:  50%|█████     | 1/2 [00:00<00:00,  1.21it/s]\u001b[A\u001b[A\n",
      "\n",
      "Loading checkpoint shards: 100%|██████████| 2/2 [00:00<00:00,  2.00it/s]\u001b[A\u001b[A\n",
      "\n",
      "Layer 8 texts:  85%|████████▌ | 85/100 [17:06<03:01, 12.09s/it]\u001b[A"
     ]
    },
    {
     "name": "stdout",
     "output_type": "stream",
     "text": [
      "⚠️  No logits available for google/paligemma2-3b-pt-224, using zero loss\n",
      "📥 Loading model: google/gemma-2-2b\n"
     ]
    },
    {
     "name": "stderr",
     "output_type": "stream",
     "text": [
      "\n",
      "\n",
      "Loading checkpoint shards: 100%|██████████| 3/3 [00:00<00:00, 31.33it/s]\n"
     ]
    },
    {
     "name": "stdout",
     "output_type": "stream",
     "text": [
      "📥 Loading model: google/paligemma2-3b-pt-224\n"
     ]
    },
    {
     "name": "stderr",
     "output_type": "stream",
     "text": [
      "\n",
      "\n",
      "Loading checkpoint shards:   0%|          | 0/2 [00:00<?, ?it/s]\u001b[A\u001b[A\n",
      "\n",
      "Loading checkpoint shards:  50%|█████     | 1/2 [00:00<00:00,  1.09it/s]\u001b[A\u001b[A\n",
      "\n",
      "Loading checkpoint shards: 100%|██████████| 2/2 [00:01<00:00,  1.83it/s]\u001b[A\u001b[A\n",
      "\n",
      "Layer 8 texts:  86%|████████▌ | 86/100 [17:18<02:49, 12.13s/it]\u001b[A"
     ]
    },
    {
     "name": "stdout",
     "output_type": "stream",
     "text": [
      "⚠️  No logits available for google/paligemma2-3b-pt-224, using zero loss\n",
      "📥 Loading model: google/gemma-2-2b\n"
     ]
    },
    {
     "name": "stderr",
     "output_type": "stream",
     "text": [
      "\n",
      "\n",
      "Loading checkpoint shards: 100%|██████████| 3/3 [00:00<00:00, 61.57it/s]\n"
     ]
    },
    {
     "name": "stdout",
     "output_type": "stream",
     "text": [
      "📥 Loading model: google/paligemma2-3b-pt-224\n"
     ]
    },
    {
     "name": "stderr",
     "output_type": "stream",
     "text": [
      "\n",
      "\n",
      "Loading checkpoint shards:   0%|          | 0/2 [00:00<?, ?it/s]\u001b[A\u001b[A\n",
      "\n",
      "Loading checkpoint shards:  50%|█████     | 1/2 [00:00<00:00,  1.05it/s]\u001b[A\u001b[A\n",
      "\n",
      "Loading checkpoint shards: 100%|██████████| 2/2 [00:01<00:00,  1.78it/s]\u001b[A\u001b[A\n",
      "\n",
      "Layer 8 texts:  87%|████████▋ | 87/100 [17:30<02:36, 12.06s/it]\u001b[A"
     ]
    },
    {
     "name": "stdout",
     "output_type": "stream",
     "text": [
      "⚠️  No logits available for google/paligemma2-3b-pt-224, using zero loss\n",
      "📥 Loading model: google/gemma-2-2b\n"
     ]
    },
    {
     "name": "stderr",
     "output_type": "stream",
     "text": [
      "\n",
      "\n",
      "Loading checkpoint shards: 100%|██████████| 3/3 [00:00<00:00, 61.16it/s]\n"
     ]
    },
    {
     "name": "stdout",
     "output_type": "stream",
     "text": [
      "📥 Loading model: google/paligemma2-3b-pt-224\n"
     ]
    },
    {
     "name": "stderr",
     "output_type": "stream",
     "text": [
      "\n",
      "\n",
      "Loading checkpoint shards:   0%|          | 0/2 [00:00<?, ?it/s]\u001b[A\u001b[A\n",
      "\n",
      "Loading checkpoint shards:  50%|█████     | 1/2 [00:00<00:00,  1.26it/s]\u001b[A\u001b[A\n",
      "\n",
      "Loading checkpoint shards: 100%|██████████| 2/2 [00:00<00:00,  2.07it/s]\u001b[A\u001b[A\n",
      "\n",
      "Layer 8 texts:  88%|████████▊ | 88/100 [17:42<02:24, 12.08s/it]\u001b[A"
     ]
    },
    {
     "name": "stdout",
     "output_type": "stream",
     "text": [
      "⚠️  No logits available for google/paligemma2-3b-pt-224, using zero loss\n",
      "📥 Loading model: google/gemma-2-2b\n"
     ]
    },
    {
     "name": "stderr",
     "output_type": "stream",
     "text": [
      "\n",
      "\n",
      "Loading checkpoint shards: 100%|██████████| 3/3 [00:00<00:00, 57.00it/s]\n"
     ]
    },
    {
     "name": "stdout",
     "output_type": "stream",
     "text": [
      "📥 Loading model: google/paligemma2-3b-pt-224\n"
     ]
    },
    {
     "name": "stderr",
     "output_type": "stream",
     "text": [
      "\n",
      "\n",
      "Loading checkpoint shards:   0%|          | 0/2 [00:00<?, ?it/s]\u001b[A\u001b[A\n",
      "\n",
      "Loading checkpoint shards:  50%|█████     | 1/2 [00:00<00:00,  1.22it/s]\u001b[A\u001b[A\n",
      "\n",
      "Loading checkpoint shards: 100%|██████████| 2/2 [00:00<00:00,  2.02it/s]\u001b[A\u001b[A\n",
      "\n",
      "Layer 8 texts:  89%|████████▉ | 89/100 [17:55<02:12, 12.09s/it]\u001b[A"
     ]
    },
    {
     "name": "stdout",
     "output_type": "stream",
     "text": [
      "⚠️  No logits available for google/paligemma2-3b-pt-224, using zero loss\n",
      "📥 Loading model: google/gemma-2-2b\n"
     ]
    },
    {
     "name": "stderr",
     "output_type": "stream",
     "text": [
      "\n",
      "\n",
      "Loading checkpoint shards: 100%|██████████| 3/3 [00:00<00:00, 55.69it/s]\n"
     ]
    },
    {
     "name": "stdout",
     "output_type": "stream",
     "text": [
      "📥 Loading model: google/paligemma2-3b-pt-224\n"
     ]
    },
    {
     "name": "stderr",
     "output_type": "stream",
     "text": [
      "\n",
      "\n",
      "Loading checkpoint shards:   0%|          | 0/2 [00:00<?, ?it/s]\u001b[A\u001b[A\n",
      "\n",
      "Loading checkpoint shards:  50%|█████     | 1/2 [00:00<00:00,  1.29it/s]\u001b[A\u001b[A\n",
      "\n",
      "Loading checkpoint shards: 100%|██████████| 2/2 [00:00<00:00,  2.08it/s]\u001b[A\u001b[A\n",
      "\n",
      "Layer 8 texts:  90%|█████████ | 90/100 [18:07<02:01, 12.11s/it]\u001b[A"
     ]
    },
    {
     "name": "stdout",
     "output_type": "stream",
     "text": [
      "⚠️  No logits available for google/paligemma2-3b-pt-224, using zero loss\n",
      "📥 Loading model: google/gemma-2-2b\n"
     ]
    },
    {
     "name": "stderr",
     "output_type": "stream",
     "text": [
      "\n",
      "\n",
      "Loading checkpoint shards: 100%|██████████| 3/3 [00:00<00:00, 60.09it/s]\n"
     ]
    },
    {
     "name": "stdout",
     "output_type": "stream",
     "text": [
      "📥 Loading model: google/paligemma2-3b-pt-224\n"
     ]
    },
    {
     "name": "stderr",
     "output_type": "stream",
     "text": [
      "\n",
      "\n",
      "Loading checkpoint shards:   0%|          | 0/2 [00:00<?, ?it/s]\u001b[A\u001b[A\n",
      "\n",
      "Loading checkpoint shards:  50%|█████     | 1/2 [00:00<00:00,  1.28it/s]\u001b[A\u001b[A\n",
      "\n",
      "Loading checkpoint shards: 100%|██████████| 2/2 [00:00<00:00,  2.09it/s]\u001b[A\u001b[A\n",
      "\n",
      "Layer 8 texts:  91%|█████████ | 91/100 [18:19<01:49, 12.12s/it]\u001b[A"
     ]
    },
    {
     "name": "stdout",
     "output_type": "stream",
     "text": [
      "⚠️  No logits available for google/paligemma2-3b-pt-224, using zero loss\n",
      "📥 Loading model: google/gemma-2-2b\n"
     ]
    },
    {
     "name": "stderr",
     "output_type": "stream",
     "text": [
      "\n",
      "\n",
      "Loading checkpoint shards: 100%|██████████| 3/3 [00:00<00:00, 55.06it/s]\n"
     ]
    },
    {
     "name": "stdout",
     "output_type": "stream",
     "text": [
      "📥 Loading model: google/paligemma2-3b-pt-224\n"
     ]
    },
    {
     "name": "stderr",
     "output_type": "stream",
     "text": [
      "\n",
      "\n",
      "Loading checkpoint shards:   0%|          | 0/2 [00:00<?, ?it/s]\u001b[A\u001b[A\n",
      "\n",
      "Loading checkpoint shards:  50%|█████     | 1/2 [00:00<00:00,  1.25it/s]\u001b[A\u001b[A\n",
      "\n",
      "Loading checkpoint shards: 100%|██████████| 2/2 [00:00<00:00,  2.04it/s]\u001b[A\u001b[A\n",
      "\n",
      "Layer 8 texts:  92%|█████████▏| 92/100 [18:31<01:36, 12.10s/it]\u001b[A"
     ]
    },
    {
     "name": "stdout",
     "output_type": "stream",
     "text": [
      "⚠️  No logits available for google/paligemma2-3b-pt-224, using zero loss\n",
      "📥 Loading model: google/gemma-2-2b\n"
     ]
    },
    {
     "name": "stderr",
     "output_type": "stream",
     "text": [
      "\n",
      "\n",
      "Loading checkpoint shards: 100%|██████████| 3/3 [00:00<00:00, 60.67it/s]\n"
     ]
    },
    {
     "name": "stdout",
     "output_type": "stream",
     "text": [
      "📥 Loading model: google/paligemma2-3b-pt-224\n"
     ]
    },
    {
     "name": "stderr",
     "output_type": "stream",
     "text": [
      "\n",
      "\n",
      "Loading checkpoint shards:   0%|          | 0/2 [00:00<?, ?it/s]\u001b[A\u001b[A\n",
      "\n",
      "Loading checkpoint shards:  50%|█████     | 1/2 [00:00<00:00,  1.27it/s]\u001b[A\u001b[A\n",
      "\n",
      "Loading checkpoint shards: 100%|██████████| 2/2 [00:00<00:00,  2.08it/s]\u001b[A\u001b[A\n",
      "\n",
      "Layer 8 texts:  93%|█████████▎| 93/100 [18:43<01:23, 11.99s/it]\u001b[A"
     ]
    },
    {
     "name": "stdout",
     "output_type": "stream",
     "text": [
      "⚠️  No logits available for google/paligemma2-3b-pt-224, using zero loss\n",
      "📥 Loading model: google/gemma-2-2b\n"
     ]
    },
    {
     "name": "stderr",
     "output_type": "stream",
     "text": [
      "\n",
      "\n",
      "Loading checkpoint shards: 100%|██████████| 3/3 [00:00<00:00, 60.59it/s]\n"
     ]
    },
    {
     "name": "stdout",
     "output_type": "stream",
     "text": [
      "📥 Loading model: google/paligemma2-3b-pt-224\n"
     ]
    },
    {
     "name": "stderr",
     "output_type": "stream",
     "text": [
      "\n",
      "\n",
      "Loading checkpoint shards:   0%|          | 0/2 [00:00<?, ?it/s]\u001b[A\u001b[A\n",
      "\n",
      "Loading checkpoint shards:  50%|█████     | 1/2 [00:00<00:00,  1.24it/s]\u001b[A\u001b[A\n",
      "\n",
      "Loading checkpoint shards: 100%|██████████| 2/2 [00:00<00:00,  2.04it/s]\u001b[A\u001b[A\n",
      "\n",
      "Layer 8 texts:  94%|█████████▍| 94/100 [18:55<01:11, 11.94s/it]\u001b[A"
     ]
    },
    {
     "name": "stdout",
     "output_type": "stream",
     "text": [
      "⚠️  No logits available for google/paligemma2-3b-pt-224, using zero loss\n",
      "📥 Loading model: google/gemma-2-2b\n"
     ]
    },
    {
     "name": "stderr",
     "output_type": "stream",
     "text": [
      "\n",
      "\n",
      "Loading checkpoint shards: 100%|██████████| 3/3 [00:00<00:00, 55.92it/s]\n"
     ]
    },
    {
     "name": "stdout",
     "output_type": "stream",
     "text": [
      "📥 Loading model: google/paligemma2-3b-pt-224\n"
     ]
    },
    {
     "name": "stderr",
     "output_type": "stream",
     "text": [
      "\n",
      "\n",
      "Loading checkpoint shards:   0%|          | 0/2 [00:00<?, ?it/s]\u001b[A\u001b[A\n",
      "\n",
      "Loading checkpoint shards:  50%|█████     | 1/2 [00:00<00:00,  1.23it/s]\u001b[A\u001b[A\n",
      "\n",
      "Loading checkpoint shards: 100%|██████████| 2/2 [00:00<00:00,  2.02it/s]\u001b[A\u001b[A\n",
      "\n",
      "Layer 8 texts:  95%|█████████▌| 95/100 [19:06<00:59, 11.94s/it]\u001b[A"
     ]
    },
    {
     "name": "stdout",
     "output_type": "stream",
     "text": [
      "⚠️  No logits available for google/paligemma2-3b-pt-224, using zero loss\n",
      "📥 Loading model: google/gemma-2-2b\n"
     ]
    },
    {
     "name": "stderr",
     "output_type": "stream",
     "text": [
      "\n",
      "\n",
      "Loading checkpoint shards: 100%|██████████| 3/3 [00:00<00:00, 60.32it/s]\n"
     ]
    },
    {
     "name": "stdout",
     "output_type": "stream",
     "text": [
      "📥 Loading model: google/paligemma2-3b-pt-224\n"
     ]
    },
    {
     "name": "stderr",
     "output_type": "stream",
     "text": [
      "\n",
      "\n",
      "Loading checkpoint shards:   0%|          | 0/2 [00:00<?, ?it/s]\u001b[A\u001b[A\n",
      "\n",
      "Loading checkpoint shards:  50%|█████     | 1/2 [00:00<00:00,  1.23it/s]\u001b[A\u001b[A\n",
      "\n",
      "Loading checkpoint shards: 100%|██████████| 2/2 [00:00<00:00,  2.02it/s]\u001b[A\u001b[A\n",
      "\n",
      "Layer 8 texts:  96%|█████████▌| 96/100 [19:19<00:48, 12.00s/it]\u001b[A"
     ]
    },
    {
     "name": "stdout",
     "output_type": "stream",
     "text": [
      "⚠️  No logits available for google/paligemma2-3b-pt-224, using zero loss\n",
      "📥 Loading model: google/gemma-2-2b\n"
     ]
    },
    {
     "name": "stderr",
     "output_type": "stream",
     "text": [
      "\n",
      "\n",
      "Loading checkpoint shards: 100%|██████████| 3/3 [00:00<00:00, 56.68it/s]\n"
     ]
    },
    {
     "name": "stdout",
     "output_type": "stream",
     "text": [
      "📥 Loading model: google/paligemma2-3b-pt-224\n"
     ]
    },
    {
     "name": "stderr",
     "output_type": "stream",
     "text": [
      "\n",
      "\n",
      "Loading checkpoint shards:   0%|          | 0/2 [00:00<?, ?it/s]\u001b[A\u001b[A\n",
      "\n",
      "Loading checkpoint shards:  50%|█████     | 1/2 [00:00<00:00,  1.23it/s]\u001b[A\u001b[A\n",
      "\n",
      "Loading checkpoint shards: 100%|██████████| 2/2 [00:00<00:00,  2.02it/s]\u001b[A\u001b[A\n",
      "\n",
      "Layer 8 texts:  97%|█████████▋| 97/100 [19:31<00:36, 12.09s/it]\u001b[A"
     ]
    },
    {
     "name": "stdout",
     "output_type": "stream",
     "text": [
      "⚠️  No logits available for google/paligemma2-3b-pt-224, using zero loss\n",
      "📥 Loading model: google/gemma-2-2b\n"
     ]
    },
    {
     "name": "stderr",
     "output_type": "stream",
     "text": [
      "\n",
      "\n",
      "Loading checkpoint shards: 100%|██████████| 3/3 [00:00<00:00, 60.51it/s]\n"
     ]
    },
    {
     "name": "stdout",
     "output_type": "stream",
     "text": [
      "📥 Loading model: google/paligemma2-3b-pt-224\n"
     ]
    },
    {
     "name": "stderr",
     "output_type": "stream",
     "text": [
      "\n",
      "\n",
      "Loading checkpoint shards:   0%|          | 0/2 [00:00<?, ?it/s]\u001b[A\u001b[A\n",
      "\n",
      "Loading checkpoint shards:  50%|█████     | 1/2 [00:00<00:00,  1.27it/s]\u001b[A\u001b[A\n",
      "\n",
      "Loading checkpoint shards: 100%|██████████| 2/2 [00:00<00:00,  2.08it/s]\u001b[A\u001b[A\n",
      "\n",
      "Layer 8 texts:  98%|█████████▊| 98/100 [19:43<00:24, 12.09s/it]\u001b[A"
     ]
    },
    {
     "name": "stdout",
     "output_type": "stream",
     "text": [
      "⚠️  No logits available for google/paligemma2-3b-pt-224, using zero loss\n",
      "📥 Loading model: google/gemma-2-2b\n"
     ]
    },
    {
     "name": "stderr",
     "output_type": "stream",
     "text": [
      "\n",
      "\n",
      "Loading checkpoint shards: 100%|██████████| 3/3 [00:00<00:00, 56.02it/s]\n"
     ]
    },
    {
     "name": "stdout",
     "output_type": "stream",
     "text": [
      "📥 Loading model: google/paligemma2-3b-pt-224\n"
     ]
    },
    {
     "name": "stderr",
     "output_type": "stream",
     "text": [
      "\n",
      "\n",
      "Loading checkpoint shards:   0%|          | 0/2 [00:00<?, ?it/s]\u001b[A\u001b[A\n",
      "\n",
      "Loading checkpoint shards:  50%|█████     | 1/2 [00:00<00:00,  1.22it/s]\u001b[A\u001b[A\n",
      "\n",
      "Loading checkpoint shards: 100%|██████████| 2/2 [00:00<00:00,  2.00it/s]\u001b[A\u001b[A\n",
      "\n",
      "Layer 8 texts:  99%|█████████▉| 99/100 [19:55<00:12, 12.07s/it]\u001b[A"
     ]
    },
    {
     "name": "stdout",
     "output_type": "stream",
     "text": [
      "⚠️  No logits available for google/paligemma2-3b-pt-224, using zero loss\n",
      "📥 Loading model: google/gemma-2-2b\n"
     ]
    },
    {
     "name": "stderr",
     "output_type": "stream",
     "text": [
      "\n",
      "\n",
      "Loading checkpoint shards: 100%|██████████| 3/3 [00:00<00:00, 55.44it/s]\n"
     ]
    },
    {
     "name": "stdout",
     "output_type": "stream",
     "text": [
      "📥 Loading model: google/paligemma2-3b-pt-224\n"
     ]
    },
    {
     "name": "stderr",
     "output_type": "stream",
     "text": [
      "\n",
      "\n",
      "Loading checkpoint shards:   0%|          | 0/2 [00:00<?, ?it/s]\u001b[A\u001b[A\n",
      "\n",
      "Loading checkpoint shards:  50%|█████     | 1/2 [00:00<00:00,  1.22it/s]\u001b[A\u001b[A\n",
      "\n",
      "Loading checkpoint shards: 100%|██████████| 2/2 [00:00<00:00,  2.01it/s]\u001b[A\u001b[A\n",
      "\n",
      "Layer 8 texts: 100%|██████████| 100/100 [20:07<00:00, 12.06s/it]\u001b[A\n",
      "Processing layers:  33%|███▎      | 2/6 [40:29<1:20:54, 1213.72s/it]"
     ]
    },
    {
     "name": "stdout",
     "output_type": "stream",
     "text": [
      "⚠️  No logits available for google/paligemma2-3b-pt-224, using zero loss\n",
      "   Memory after layer 8: 12.83GB\n",
      "\n",
      "📊 Processing Layer 12\n",
      "   📥 Loading SAE Layer 12: layer_12/width_16k/canonical\n"
     ]
    },
    {
     "name": "stderr",
     "output_type": "stream",
     "text": [
      "\n",
      "Layer 12 texts:   0%|          | 0/100 [00:00<?, ?it/s]\u001b[A"
     ]
    },
    {
     "name": "stdout",
     "output_type": "stream",
     "text": [
      "📥 Loading model: google/gemma-2-2b\n"
     ]
    },
    {
     "name": "stderr",
     "output_type": "stream",
     "text": [
      "\n",
      "\n",
      "Loading checkpoint shards: 100%|██████████| 3/3 [00:00<00:00, 60.58it/s]\n"
     ]
    },
    {
     "name": "stdout",
     "output_type": "stream",
     "text": [
      "📥 Loading model: google/paligemma2-3b-pt-224\n"
     ]
    },
    {
     "name": "stderr",
     "output_type": "stream",
     "text": [
      "\n",
      "\n",
      "Loading checkpoint shards:   0%|          | 0/2 [00:00<?, ?it/s]\u001b[A\u001b[A\n",
      "\n",
      "Loading checkpoint shards:  50%|█████     | 1/2 [00:00<00:00,  1.07it/s]\u001b[A\u001b[A\n",
      "\n",
      "Loading checkpoint shards: 100%|██████████| 2/2 [00:01<00:00,  1.81it/s]\u001b[A\u001b[A\n",
      "\n",
      "Layer 12 texts:   1%|          | 1/100 [00:11<19:36, 11.88s/it]\u001b[A"
     ]
    },
    {
     "name": "stdout",
     "output_type": "stream",
     "text": [
      "⚠️  No logits available for google/paligemma2-3b-pt-224, using zero loss\n",
      "📥 Loading model: google/gemma-2-2b\n"
     ]
    },
    {
     "name": "stderr",
     "output_type": "stream",
     "text": [
      "\n",
      "\n",
      "Loading checkpoint shards: 100%|██████████| 3/3 [00:00<00:00, 59.96it/s]\n"
     ]
    },
    {
     "name": "stdout",
     "output_type": "stream",
     "text": [
      "📥 Loading model: google/paligemma2-3b-pt-224\n"
     ]
    },
    {
     "name": "stderr",
     "output_type": "stream",
     "text": [
      "\n",
      "\n",
      "Loading checkpoint shards:   0%|          | 0/2 [00:00<?, ?it/s]\u001b[A\u001b[A\n",
      "\n",
      "Loading checkpoint shards:  50%|█████     | 1/2 [00:00<00:00,  1.09it/s]\u001b[A\u001b[A\n",
      "\n",
      "Loading checkpoint shards: 100%|██████████| 2/2 [00:01<00:00,  1.84it/s]\u001b[A\u001b[A\n",
      "\n",
      "Layer 12 texts:   2%|▏         | 2/100 [00:23<19:32, 11.97s/it]\u001b[A"
     ]
    },
    {
     "name": "stdout",
     "output_type": "stream",
     "text": [
      "⚠️  No logits available for google/paligemma2-3b-pt-224, using zero loss\n",
      "📥 Loading model: google/gemma-2-2b\n"
     ]
    },
    {
     "name": "stderr",
     "output_type": "stream",
     "text": [
      "\n",
      "\n",
      "Loading checkpoint shards: 100%|██████████| 3/3 [00:00<00:00, 62.36it/s]\n"
     ]
    },
    {
     "name": "stdout",
     "output_type": "stream",
     "text": [
      "📥 Loading model: google/paligemma2-3b-pt-224\n"
     ]
    },
    {
     "name": "stderr",
     "output_type": "stream",
     "text": [
      "\n",
      "\n",
      "Loading checkpoint shards:   0%|          | 0/2 [00:00<?, ?it/s]\u001b[A\u001b[A\n",
      "\n",
      "Loading checkpoint shards:  50%|█████     | 1/2 [00:00<00:00,  1.20it/s]\u001b[A\u001b[A\n",
      "\n",
      "Loading checkpoint shards: 100%|██████████| 2/2 [00:01<00:00,  1.99it/s]\u001b[A\u001b[A\n",
      "\n",
      "Layer 12 texts:   3%|▎         | 3/100 [00:35<19:18, 11.94s/it]\u001b[A"
     ]
    },
    {
     "name": "stdout",
     "output_type": "stream",
     "text": [
      "⚠️  No logits available for google/paligemma2-3b-pt-224, using zero loss\n",
      "📥 Loading model: google/gemma-2-2b\n"
     ]
    },
    {
     "name": "stderr",
     "output_type": "stream",
     "text": [
      "\n",
      "\n",
      "Loading checkpoint shards: 100%|██████████| 3/3 [00:00<00:00, 60.05it/s]\n"
     ]
    },
    {
     "name": "stdout",
     "output_type": "stream",
     "text": [
      "📥 Loading model: google/paligemma2-3b-pt-224\n"
     ]
    },
    {
     "name": "stderr",
     "output_type": "stream",
     "text": [
      "\n",
      "\n",
      "Loading checkpoint shards:   0%|          | 0/2 [00:00<?, ?it/s]\u001b[A\u001b[A\n",
      "\n",
      "Loading checkpoint shards:  50%|█████     | 1/2 [00:00<00:00,  1.25it/s]\u001b[A\u001b[A\n",
      "\n",
      "Loading checkpoint shards: 100%|██████████| 2/2 [00:00<00:00,  2.04it/s]\u001b[A\u001b[A\n",
      "\n",
      "Layer 12 texts:   4%|▍         | 4/100 [00:48<19:16, 12.05s/it]\u001b[A"
     ]
    },
    {
     "name": "stdout",
     "output_type": "stream",
     "text": [
      "⚠️  No logits available for google/paligemma2-3b-pt-224, using zero loss\n",
      "📥 Loading model: google/gemma-2-2b\n"
     ]
    },
    {
     "name": "stderr",
     "output_type": "stream",
     "text": [
      "\n",
      "\n",
      "Loading checkpoint shards: 100%|██████████| 3/3 [00:00<00:00, 60.72it/s]\n"
     ]
    },
    {
     "name": "stdout",
     "output_type": "stream",
     "text": [
      "📥 Loading model: google/paligemma2-3b-pt-224\n"
     ]
    },
    {
     "name": "stderr",
     "output_type": "stream",
     "text": [
      "\n",
      "\n",
      "Loading checkpoint shards:   0%|          | 0/2 [00:00<?, ?it/s]\u001b[A\u001b[A\n",
      "\n",
      "Loading checkpoint shards:  50%|█████     | 1/2 [00:00<00:00,  1.24it/s]\u001b[A\u001b[A\n",
      "\n",
      "Loading checkpoint shards: 100%|██████████| 2/2 [00:00<00:00,  2.02it/s]\u001b[A\u001b[A\n",
      "\n",
      "Layer 12 texts:   5%|▌         | 5/100 [01:00<19:08, 12.09s/it]\u001b[A"
     ]
    },
    {
     "name": "stdout",
     "output_type": "stream",
     "text": [
      "⚠️  No logits available for google/paligemma2-3b-pt-224, using zero loss\n",
      "📥 Loading model: google/gemma-2-2b\n"
     ]
    },
    {
     "name": "stderr",
     "output_type": "stream",
     "text": [
      "\n",
      "\n",
      "Loading checkpoint shards: 100%|██████████| 3/3 [00:00<00:00, 61.66it/s]\n"
     ]
    },
    {
     "name": "stdout",
     "output_type": "stream",
     "text": [
      "📥 Loading model: google/paligemma2-3b-pt-224\n"
     ]
    },
    {
     "name": "stderr",
     "output_type": "stream",
     "text": [
      "\n",
      "\n",
      "Loading checkpoint shards:   0%|          | 0/2 [00:00<?, ?it/s]\u001b[A\u001b[A\n",
      "\n",
      "Loading checkpoint shards:  50%|█████     | 1/2 [00:00<00:00,  1.30it/s]\u001b[A\u001b[A\n",
      "\n",
      "Loading checkpoint shards: 100%|██████████| 2/2 [00:00<00:00,  2.10it/s]\u001b[A\u001b[A\n",
      "\n",
      "Layer 12 texts:   6%|▌         | 6/100 [01:12<18:49, 12.01s/it]\u001b[A"
     ]
    },
    {
     "name": "stdout",
     "output_type": "stream",
     "text": [
      "⚠️  No logits available for google/paligemma2-3b-pt-224, using zero loss\n",
      "📥 Loading model: google/gemma-2-2b\n"
     ]
    },
    {
     "name": "stderr",
     "output_type": "stream",
     "text": [
      "\n",
      "\n",
      "Loading checkpoint shards: 100%|██████████| 3/3 [00:00<00:00, 61.15it/s]\n"
     ]
    },
    {
     "name": "stdout",
     "output_type": "stream",
     "text": [
      "📥 Loading model: google/paligemma2-3b-pt-224\n"
     ]
    },
    {
     "name": "stderr",
     "output_type": "stream",
     "text": [
      "\n",
      "\n",
      "Loading checkpoint shards:   0%|          | 0/2 [00:00<?, ?it/s]\u001b[A\u001b[A\n",
      "\n",
      "Loading checkpoint shards:  50%|█████     | 1/2 [00:00<00:00,  1.27it/s]\u001b[A\u001b[A\n",
      "\n",
      "Loading checkpoint shards: 100%|██████████| 2/2 [00:00<00:00,  2.07it/s]\u001b[A\u001b[A\n",
      "\n",
      "Layer 12 texts:   7%|▋         | 7/100 [01:23<18:31, 11.95s/it]\u001b[A"
     ]
    },
    {
     "name": "stdout",
     "output_type": "stream",
     "text": [
      "⚠️  No logits available for google/paligemma2-3b-pt-224, using zero loss\n",
      "📥 Loading model: google/gemma-2-2b\n"
     ]
    },
    {
     "name": "stderr",
     "output_type": "stream",
     "text": [
      "\n",
      "\n",
      "Loading checkpoint shards: 100%|██████████| 3/3 [00:00<00:00, 60.00it/s]\n"
     ]
    },
    {
     "name": "stdout",
     "output_type": "stream",
     "text": [
      "📥 Loading model: google/paligemma2-3b-pt-224\n"
     ]
    },
    {
     "name": "stderr",
     "output_type": "stream",
     "text": [
      "\n",
      "\n",
      "Loading checkpoint shards:   0%|          | 0/2 [00:00<?, ?it/s]\u001b[A\u001b[A\n",
      "\n",
      "Loading checkpoint shards:  50%|█████     | 1/2 [00:00<00:00,  1.29it/s]\u001b[A\u001b[A\n",
      "\n",
      "Loading checkpoint shards: 100%|██████████| 2/2 [00:00<00:00,  2.09it/s]\u001b[A\u001b[A\n",
      "\n",
      "Layer 12 texts:   8%|▊         | 8/100 [01:35<18:19, 11.95s/it]\u001b[A"
     ]
    },
    {
     "name": "stdout",
     "output_type": "stream",
     "text": [
      "⚠️  No logits available for google/paligemma2-3b-pt-224, using zero loss\n",
      "📥 Loading model: google/gemma-2-2b\n"
     ]
    },
    {
     "name": "stderr",
     "output_type": "stream",
     "text": [
      "\n",
      "\n",
      "Loading checkpoint shards: 100%|██████████| 3/3 [00:00<00:00, 61.35it/s]\n"
     ]
    },
    {
     "name": "stdout",
     "output_type": "stream",
     "text": [
      "📥 Loading model: google/paligemma2-3b-pt-224\n"
     ]
    },
    {
     "name": "stderr",
     "output_type": "stream",
     "text": [
      "\n",
      "\n",
      "Loading checkpoint shards:   0%|          | 0/2 [00:00<?, ?it/s]\u001b[A\u001b[A\n",
      "\n",
      "Loading checkpoint shards:  50%|█████     | 1/2 [00:00<00:00,  1.31it/s]\u001b[A\u001b[A\n",
      "\n",
      "Loading checkpoint shards: 100%|██████████| 2/2 [00:01<00:00,  1.78it/s]\u001b[A\u001b[A\n",
      "\n",
      "Layer 12 texts:   9%|▉         | 9/100 [01:47<18:12, 12.00s/it]\u001b[A"
     ]
    },
    {
     "name": "stdout",
     "output_type": "stream",
     "text": [
      "⚠️  No logits available for google/paligemma2-3b-pt-224, using zero loss\n",
      "📥 Loading model: google/gemma-2-2b\n"
     ]
    },
    {
     "name": "stderr",
     "output_type": "stream",
     "text": [
      "\n",
      "\n",
      "Loading checkpoint shards: 100%|██████████| 3/3 [00:00<00:00, 62.26it/s]\n"
     ]
    },
    {
     "name": "stdout",
     "output_type": "stream",
     "text": [
      "📥 Loading model: google/paligemma2-3b-pt-224\n"
     ]
    },
    {
     "name": "stderr",
     "output_type": "stream",
     "text": [
      "\n",
      "\n",
      "Loading checkpoint shards:   0%|          | 0/2 [00:00<?, ?it/s]\u001b[A\u001b[A\n",
      "\n",
      "Loading checkpoint shards:  50%|█████     | 1/2 [00:00<00:00,  1.33it/s]\u001b[A\u001b[A\n",
      "\n",
      "Loading checkpoint shards: 100%|██████████| 2/2 [00:00<00:00,  2.17it/s]\u001b[A\u001b[A\n",
      "\n",
      "Layer 12 texts:  10%|█         | 10/100 [01:59<17:54, 11.94s/it]\u001b[A"
     ]
    },
    {
     "name": "stdout",
     "output_type": "stream",
     "text": [
      "⚠️  No logits available for google/paligemma2-3b-pt-224, using zero loss\n",
      "📥 Loading model: google/gemma-2-2b\n"
     ]
    },
    {
     "name": "stderr",
     "output_type": "stream",
     "text": [
      "\n",
      "\n",
      "Loading checkpoint shards: 100%|██████████| 3/3 [00:00<00:00, 62.11it/s]\n"
     ]
    },
    {
     "name": "stdout",
     "output_type": "stream",
     "text": [
      "📥 Loading model: google/paligemma2-3b-pt-224\n"
     ]
    },
    {
     "name": "stderr",
     "output_type": "stream",
     "text": [
      "\n",
      "\n",
      "Loading checkpoint shards:   0%|          | 0/2 [00:00<?, ?it/s]\u001b[A\u001b[A\n",
      "\n",
      "Loading checkpoint shards:  50%|█████     | 1/2 [00:00<00:00,  1.28it/s]\u001b[A\u001b[A\n",
      "\n",
      "Loading checkpoint shards: 100%|██████████| 2/2 [00:00<00:00,  2.08it/s]\u001b[A\u001b[A\n",
      "\n",
      "Layer 12 texts:  11%|█         | 11/100 [02:11<17:50, 12.03s/it]\u001b[A"
     ]
    },
    {
     "name": "stdout",
     "output_type": "stream",
     "text": [
      "⚠️  No logits available for google/paligemma2-3b-pt-224, using zero loss\n",
      "📥 Loading model: google/gemma-2-2b\n"
     ]
    },
    {
     "name": "stderr",
     "output_type": "stream",
     "text": [
      "\n",
      "\n",
      "Loading checkpoint shards: 100%|██████████| 3/3 [00:00<00:00, 59.70it/s]\n"
     ]
    },
    {
     "name": "stdout",
     "output_type": "stream",
     "text": [
      "📥 Loading model: google/paligemma2-3b-pt-224\n"
     ]
    },
    {
     "name": "stderr",
     "output_type": "stream",
     "text": [
      "\n",
      "\n",
      "Loading checkpoint shards:   0%|          | 0/2 [00:00<?, ?it/s]\u001b[A\u001b[A\n",
      "\n",
      "Loading checkpoint shards:  50%|█████     | 1/2 [00:00<00:00,  1.25it/s]\u001b[A\u001b[A\n",
      "\n",
      "Loading checkpoint shards: 100%|██████████| 2/2 [00:00<00:00,  2.05it/s]\u001b[A\u001b[A\n",
      "\n",
      "Layer 12 texts:  12%|█▏        | 12/100 [02:24<17:41, 12.07s/it]\u001b[A"
     ]
    },
    {
     "name": "stdout",
     "output_type": "stream",
     "text": [
      "⚠️  No logits available for google/paligemma2-3b-pt-224, using zero loss\n",
      "📥 Loading model: google/gemma-2-2b\n"
     ]
    },
    {
     "name": "stderr",
     "output_type": "stream",
     "text": [
      "\n",
      "\n",
      "Loading checkpoint shards: 100%|██████████| 3/3 [00:00<00:00, 60.87it/s]\n"
     ]
    },
    {
     "name": "stdout",
     "output_type": "stream",
     "text": [
      "📥 Loading model: google/paligemma2-3b-pt-224\n"
     ]
    },
    {
     "name": "stderr",
     "output_type": "stream",
     "text": [
      "\n",
      "\n",
      "Loading checkpoint shards:   0%|          | 0/2 [00:00<?, ?it/s]\u001b[A\u001b[A\n",
      "\n",
      "Loading checkpoint shards:  50%|█████     | 1/2 [00:00<00:00,  1.25it/s]\u001b[A\u001b[A\n",
      "\n",
      "Loading checkpoint shards: 100%|██████████| 2/2 [00:00<00:00,  2.03it/s]\u001b[A\u001b[A\n",
      "\n",
      "Layer 12 texts:  13%|█▎        | 13/100 [02:35<17:21, 11.97s/it]\u001b[A"
     ]
    },
    {
     "name": "stdout",
     "output_type": "stream",
     "text": [
      "⚠️  No logits available for google/paligemma2-3b-pt-224, using zero loss\n",
      "📥 Loading model: google/gemma-2-2b\n"
     ]
    },
    {
     "name": "stderr",
     "output_type": "stream",
     "text": [
      "\n",
      "\n",
      "Loading checkpoint shards: 100%|██████████| 3/3 [00:00<00:00, 61.55it/s]\n"
     ]
    },
    {
     "name": "stdout",
     "output_type": "stream",
     "text": [
      "📥 Loading model: google/paligemma2-3b-pt-224\n"
     ]
    },
    {
     "name": "stderr",
     "output_type": "stream",
     "text": [
      "\n",
      "\n",
      "Loading checkpoint shards:   0%|          | 0/2 [00:00<?, ?it/s]\u001b[A\u001b[A\n",
      "\n",
      "Loading checkpoint shards:  50%|█████     | 1/2 [00:00<00:00,  1.14it/s]\u001b[A\u001b[A\n",
      "\n",
      "Loading checkpoint shards: 100%|██████████| 2/2 [00:01<00:00,  1.90it/s]\u001b[A\u001b[A\n",
      "\n",
      "Layer 12 texts:  14%|█▍        | 14/100 [02:47<17:13, 12.01s/it]\u001b[A"
     ]
    },
    {
     "name": "stdout",
     "output_type": "stream",
     "text": [
      "⚠️  No logits available for google/paligemma2-3b-pt-224, using zero loss\n",
      "📥 Loading model: google/gemma-2-2b\n"
     ]
    },
    {
     "name": "stderr",
     "output_type": "stream",
     "text": [
      "\n",
      "\n",
      "Loading checkpoint shards: 100%|██████████| 3/3 [00:00<00:00, 60.82it/s]\n"
     ]
    },
    {
     "name": "stdout",
     "output_type": "stream",
     "text": [
      "📥 Loading model: google/paligemma2-3b-pt-224\n"
     ]
    },
    {
     "name": "stderr",
     "output_type": "stream",
     "text": [
      "\n",
      "\n",
      "Loading checkpoint shards:   0%|          | 0/2 [00:00<?, ?it/s]\u001b[A\u001b[A\n",
      "\n",
      "Loading checkpoint shards:  50%|█████     | 1/2 [00:00<00:00,  1.29it/s]\u001b[A\u001b[A\n",
      "\n",
      "Loading checkpoint shards: 100%|██████████| 2/2 [00:00<00:00,  2.10it/s]\u001b[A\u001b[A\n",
      "\n",
      "Layer 12 texts:  15%|█▌        | 15/100 [03:00<17:01, 12.02s/it]\u001b[A"
     ]
    },
    {
     "name": "stdout",
     "output_type": "stream",
     "text": [
      "⚠️  No logits available for google/paligemma2-3b-pt-224, using zero loss\n",
      "📥 Loading model: google/gemma-2-2b\n"
     ]
    },
    {
     "name": "stderr",
     "output_type": "stream",
     "text": [
      "\n",
      "\n",
      "Loading checkpoint shards: 100%|██████████| 3/3 [00:00<00:00, 59.18it/s]\n"
     ]
    },
    {
     "name": "stdout",
     "output_type": "stream",
     "text": [
      "📥 Loading model: google/paligemma2-3b-pt-224\n"
     ]
    },
    {
     "name": "stderr",
     "output_type": "stream",
     "text": [
      "\n",
      "\n",
      "Loading checkpoint shards:   0%|          | 0/2 [00:00<?, ?it/s]\u001b[A\u001b[A\n",
      "\n",
      "Loading checkpoint shards:  50%|█████     | 1/2 [00:00<00:00,  1.24it/s]\u001b[A\u001b[A\n",
      "\n",
      "Loading checkpoint shards: 100%|██████████| 2/2 [00:00<00:00,  2.04it/s]\u001b[A\u001b[A\n",
      "\n",
      "Layer 12 texts:  16%|█▌        | 16/100 [03:12<16:55, 12.09s/it]\u001b[A"
     ]
    },
    {
     "name": "stdout",
     "output_type": "stream",
     "text": [
      "⚠️  No logits available for google/paligemma2-3b-pt-224, using zero loss\n",
      "📥 Loading model: google/gemma-2-2b\n"
     ]
    },
    {
     "name": "stderr",
     "output_type": "stream",
     "text": [
      "\n",
      "\n",
      "Loading checkpoint shards: 100%|██████████| 3/3 [00:00<00:00, 62.13it/s]\n"
     ]
    },
    {
     "name": "stdout",
     "output_type": "stream",
     "text": [
      "📥 Loading model: google/paligemma2-3b-pt-224\n"
     ]
    },
    {
     "name": "stderr",
     "output_type": "stream",
     "text": [
      "\n",
      "\n",
      "Loading checkpoint shards:   0%|          | 0/2 [00:00<?, ?it/s]\u001b[A\u001b[A\n",
      "\n",
      "Loading checkpoint shards:  50%|█████     | 1/2 [00:00<00:00,  1.28it/s]\u001b[A\u001b[A\n",
      "\n",
      "Loading checkpoint shards: 100%|██████████| 2/2 [00:00<00:00,  2.09it/s]\u001b[A\u001b[A\n",
      "\n",
      "Layer 12 texts:  17%|█▋        | 17/100 [03:24<16:57, 12.26s/it]\u001b[A"
     ]
    },
    {
     "name": "stdout",
     "output_type": "stream",
     "text": [
      "⚠️  No logits available for google/paligemma2-3b-pt-224, using zero loss\n",
      "📥 Loading model: google/gemma-2-2b\n"
     ]
    },
    {
     "name": "stderr",
     "output_type": "stream",
     "text": [
      "\n",
      "\n",
      "Loading checkpoint shards: 100%|██████████| 3/3 [00:00<00:00, 58.76it/s]\n"
     ]
    },
    {
     "name": "stdout",
     "output_type": "stream",
     "text": [
      "📥 Loading model: google/paligemma2-3b-pt-224\n"
     ]
    },
    {
     "name": "stderr",
     "output_type": "stream",
     "text": [
      "\n",
      "\n",
      "Loading checkpoint shards:   0%|          | 0/2 [00:00<?, ?it/s]\u001b[A\u001b[A\n",
      "\n",
      "Loading checkpoint shards:  50%|█████     | 1/2 [00:00<00:00,  1.25it/s]\u001b[A\u001b[A\n",
      "\n",
      "Loading checkpoint shards: 100%|██████████| 2/2 [00:00<00:00,  2.05it/s]\u001b[A\u001b[A\n",
      "\n",
      "Layer 12 texts:  18%|█▊        | 18/100 [03:37<16:49, 12.32s/it]\u001b[A"
     ]
    },
    {
     "name": "stdout",
     "output_type": "stream",
     "text": [
      "⚠️  No logits available for google/paligemma2-3b-pt-224, using zero loss\n",
      "📥 Loading model: google/gemma-2-2b\n"
     ]
    },
    {
     "name": "stderr",
     "output_type": "stream",
     "text": [
      "\n",
      "\n",
      "Loading checkpoint shards: 100%|██████████| 3/3 [00:00<00:00, 61.12it/s]\n"
     ]
    },
    {
     "name": "stdout",
     "output_type": "stream",
     "text": [
      "📥 Loading model: google/paligemma2-3b-pt-224\n"
     ]
    },
    {
     "name": "stderr",
     "output_type": "stream",
     "text": [
      "\n",
      "\n",
      "Loading checkpoint shards:   0%|          | 0/2 [00:00<?, ?it/s]\u001b[A\u001b[A\n",
      "\n",
      "Loading checkpoint shards:  50%|█████     | 1/2 [00:00<00:00,  1.28it/s]\u001b[A\u001b[A\n",
      "\n",
      "Loading checkpoint shards: 100%|██████████| 2/2 [00:00<00:00,  2.08it/s]\u001b[A\u001b[A\n",
      "\n",
      "Layer 12 texts:  19%|█▉        | 19/100 [03:49<16:22, 12.13s/it]\u001b[A"
     ]
    },
    {
     "name": "stdout",
     "output_type": "stream",
     "text": [
      "⚠️  No logits available for google/paligemma2-3b-pt-224, using zero loss\n",
      "📥 Loading model: google/gemma-2-2b\n"
     ]
    },
    {
     "name": "stderr",
     "output_type": "stream",
     "text": [
      "\n",
      "\n",
      "Loading checkpoint shards: 100%|██████████| 3/3 [00:00<00:00, 58.78it/s]\n"
     ]
    },
    {
     "name": "stdout",
     "output_type": "stream",
     "text": [
      "📥 Loading model: google/paligemma2-3b-pt-224\n"
     ]
    },
    {
     "name": "stderr",
     "output_type": "stream",
     "text": [
      "\n",
      "\n",
      "Loading checkpoint shards:   0%|          | 0/2 [00:00<?, ?it/s]\u001b[A\u001b[A\n",
      "\n",
      "Loading checkpoint shards:  50%|█████     | 1/2 [00:00<00:00,  1.26it/s]\u001b[A\u001b[A\n",
      "\n",
      "Loading checkpoint shards: 100%|██████████| 2/2 [00:00<00:00,  2.04it/s]\u001b[A\u001b[A\n",
      "\n",
      "Layer 12 texts:  20%|██        | 20/100 [04:00<16:04, 12.05s/it]\u001b[A"
     ]
    },
    {
     "name": "stdout",
     "output_type": "stream",
     "text": [
      "⚠️  No logits available for google/paligemma2-3b-pt-224, using zero loss\n",
      "📥 Loading model: google/gemma-2-2b\n"
     ]
    },
    {
     "name": "stderr",
     "output_type": "stream",
     "text": [
      "\n",
      "\n",
      "Loading checkpoint shards: 100%|██████████| 3/3 [00:00<00:00, 61.43it/s]\n"
     ]
    },
    {
     "name": "stdout",
     "output_type": "stream",
     "text": [
      "📥 Loading model: google/paligemma2-3b-pt-224\n"
     ]
    },
    {
     "name": "stderr",
     "output_type": "stream",
     "text": [
      "\n",
      "\n",
      "Loading checkpoint shards:   0%|          | 0/2 [00:00<?, ?it/s]\u001b[A\u001b[A\n",
      "\n",
      "Loading checkpoint shards:  50%|█████     | 1/2 [00:00<00:00,  1.07it/s]\u001b[A\u001b[A\n",
      "\n",
      "Loading checkpoint shards: 100%|██████████| 2/2 [00:01<00:00,  1.80it/s]\u001b[A\u001b[A\n",
      "\n",
      "Layer 12 texts:  21%|██        | 21/100 [04:12<15:50, 12.03s/it]\u001b[A"
     ]
    },
    {
     "name": "stdout",
     "output_type": "stream",
     "text": [
      "⚠️  No logits available for google/paligemma2-3b-pt-224, using zero loss\n",
      "📥 Loading model: google/gemma-2-2b\n"
     ]
    },
    {
     "name": "stderr",
     "output_type": "stream",
     "text": [
      "\n",
      "\n",
      "Loading checkpoint shards: 100%|██████████| 3/3 [00:00<00:00, 59.96it/s]\n"
     ]
    },
    {
     "name": "stdout",
     "output_type": "stream",
     "text": [
      "📥 Loading model: google/paligemma2-3b-pt-224\n"
     ]
    },
    {
     "name": "stderr",
     "output_type": "stream",
     "text": [
      "\n",
      "\n",
      "Loading checkpoint shards:   0%|          | 0/2 [00:00<?, ?it/s]\u001b[A\u001b[A\n",
      "\n",
      "Loading checkpoint shards:  50%|█████     | 1/2 [00:00<00:00,  1.25it/s]\u001b[A\u001b[A\n",
      "\n",
      "Loading checkpoint shards: 100%|██████████| 2/2 [00:00<00:00,  2.04it/s]\u001b[A\u001b[A\n",
      "\n",
      "Layer 12 texts:  22%|██▏       | 22/100 [04:24<15:38, 12.03s/it]\u001b[A"
     ]
    },
    {
     "name": "stdout",
     "output_type": "stream",
     "text": [
      "⚠️  No logits available for google/paligemma2-3b-pt-224, using zero loss\n",
      "📥 Loading model: google/gemma-2-2b\n"
     ]
    },
    {
     "name": "stderr",
     "output_type": "stream",
     "text": [
      "\n",
      "\n",
      "Loading checkpoint shards: 100%|██████████| 3/3 [00:00<00:00, 61.37it/s]\n"
     ]
    },
    {
     "name": "stdout",
     "output_type": "stream",
     "text": [
      "📥 Loading model: google/paligemma2-3b-pt-224\n"
     ]
    },
    {
     "name": "stderr",
     "output_type": "stream",
     "text": [
      "\n",
      "\n",
      "Loading checkpoint shards:   0%|          | 0/2 [00:00<?, ?it/s]\u001b[A\u001b[A\n",
      "\n",
      "Loading checkpoint shards:  50%|█████     | 1/2 [00:00<00:00,  1.23it/s]\u001b[A\u001b[A\n",
      "\n",
      "Loading checkpoint shards: 100%|██████████| 2/2 [00:00<00:00,  2.03it/s]\u001b[A\u001b[A\n",
      "\n",
      "Layer 12 texts:  23%|██▎       | 23/100 [04:37<15:27, 12.05s/it]\u001b[A"
     ]
    },
    {
     "name": "stdout",
     "output_type": "stream",
     "text": [
      "⚠️  No logits available for google/paligemma2-3b-pt-224, using zero loss\n",
      "📥 Loading model: google/gemma-2-2b\n"
     ]
    },
    {
     "name": "stderr",
     "output_type": "stream",
     "text": [
      "\n",
      "\n",
      "Loading checkpoint shards: 100%|██████████| 3/3 [00:00<00:00, 61.08it/s]\n"
     ]
    },
    {
     "name": "stdout",
     "output_type": "stream",
     "text": [
      "📥 Loading model: google/paligemma2-3b-pt-224\n"
     ]
    },
    {
     "name": "stderr",
     "output_type": "stream",
     "text": [
      "\n",
      "\n",
      "Loading checkpoint shards:   0%|          | 0/2 [00:00<?, ?it/s]\u001b[A\u001b[A\n",
      "\n",
      "Loading checkpoint shards:  50%|█████     | 1/2 [00:00<00:00,  1.28it/s]\u001b[A\u001b[A\n",
      "\n",
      "Loading checkpoint shards: 100%|██████████| 2/2 [00:00<00:00,  2.08it/s]\u001b[A\u001b[A\n",
      "\n",
      "Layer 12 texts:  24%|██▍       | 24/100 [04:48<15:11, 11.99s/it]\u001b[A"
     ]
    },
    {
     "name": "stdout",
     "output_type": "stream",
     "text": [
      "⚠️  No logits available for google/paligemma2-3b-pt-224, using zero loss\n",
      "📥 Loading model: google/gemma-2-2b\n"
     ]
    },
    {
     "name": "stderr",
     "output_type": "stream",
     "text": [
      "\n",
      "\n",
      "Loading checkpoint shards: 100%|██████████| 3/3 [00:00<00:00, 62.57it/s]\n"
     ]
    },
    {
     "name": "stdout",
     "output_type": "stream",
     "text": [
      "📥 Loading model: google/paligemma2-3b-pt-224\n"
     ]
    },
    {
     "name": "stderr",
     "output_type": "stream",
     "text": [
      "\n",
      "\n",
      "Loading checkpoint shards:   0%|          | 0/2 [00:00<?, ?it/s]\u001b[A\u001b[A\n",
      "\n",
      "Loading checkpoint shards:  50%|█████     | 1/2 [00:00<00:00,  1.32it/s]\u001b[A\u001b[A\n",
      "\n",
      "Loading checkpoint shards: 100%|██████████| 2/2 [00:01<00:00,  1.65it/s]\u001b[A\u001b[A\n",
      "\n",
      "Layer 12 texts:  25%|██▌       | 25/100 [05:00<15:00, 12.00s/it]\u001b[A"
     ]
    },
    {
     "name": "stdout",
     "output_type": "stream",
     "text": [
      "⚠️  No logits available for google/paligemma2-3b-pt-224, using zero loss\n",
      "📥 Loading model: google/gemma-2-2b\n"
     ]
    },
    {
     "name": "stderr",
     "output_type": "stream",
     "text": [
      "\n",
      "\n",
      "Loading checkpoint shards: 100%|██████████| 3/3 [00:00<00:00, 60.72it/s]\n"
     ]
    },
    {
     "name": "stdout",
     "output_type": "stream",
     "text": [
      "📥 Loading model: google/paligemma2-3b-pt-224\n"
     ]
    },
    {
     "name": "stderr",
     "output_type": "stream",
     "text": [
      "\n",
      "\n",
      "Loading checkpoint shards:   0%|          | 0/2 [00:00<?, ?it/s]\u001b[A\u001b[A\n",
      "\n",
      "Loading checkpoint shards:  50%|█████     | 1/2 [00:00<00:00,  1.27it/s]\u001b[A\u001b[A\n",
      "\n",
      "Loading checkpoint shards: 100%|██████████| 2/2 [00:01<00:00,  1.76it/s]\u001b[A\u001b[A\n",
      "\n",
      "Layer 12 texts:  26%|██▌       | 26/100 [05:12<14:48, 12.00s/it]\u001b[A"
     ]
    },
    {
     "name": "stdout",
     "output_type": "stream",
     "text": [
      "⚠️  No logits available for google/paligemma2-3b-pt-224, using zero loss\n",
      "📥 Loading model: google/gemma-2-2b\n"
     ]
    },
    {
     "name": "stderr",
     "output_type": "stream",
     "text": [
      "\n",
      "\n",
      "Loading checkpoint shards: 100%|██████████| 3/3 [00:00<00:00, 61.94it/s]\n"
     ]
    },
    {
     "name": "stdout",
     "output_type": "stream",
     "text": [
      "📥 Loading model: google/paligemma2-3b-pt-224\n"
     ]
    },
    {
     "name": "stderr",
     "output_type": "stream",
     "text": [
      "\n",
      "\n",
      "Loading checkpoint shards:   0%|          | 0/2 [00:00<?, ?it/s]\u001b[A\u001b[A\n",
      "\n",
      "Loading checkpoint shards:  50%|█████     | 1/2 [00:00<00:00,  1.27it/s]\u001b[A\u001b[A\n",
      "\n",
      "Loading checkpoint shards: 100%|██████████| 2/2 [00:00<00:00,  2.09it/s]\u001b[A\u001b[A\n",
      "\n",
      "Layer 12 texts:  27%|██▋       | 27/100 [05:24<14:30, 11.92s/it]\u001b[A"
     ]
    },
    {
     "name": "stdout",
     "output_type": "stream",
     "text": [
      "⚠️  No logits available for google/paligemma2-3b-pt-224, using zero loss\n",
      "📥 Loading model: google/gemma-2-2b\n"
     ]
    },
    {
     "name": "stderr",
     "output_type": "stream",
     "text": [
      "\n",
      "\n",
      "Loading checkpoint shards: 100%|██████████| 3/3 [00:00<00:00, 60.39it/s]\n"
     ]
    },
    {
     "name": "stdout",
     "output_type": "stream",
     "text": [
      "📥 Loading model: google/paligemma2-3b-pt-224\n"
     ]
    },
    {
     "name": "stderr",
     "output_type": "stream",
     "text": [
      "\n",
      "\n",
      "Loading checkpoint shards:   0%|          | 0/2 [00:00<?, ?it/s]\u001b[A\u001b[A\n",
      "\n",
      "Loading checkpoint shards:  50%|█████     | 1/2 [00:00<00:00,  1.25it/s]\u001b[A\u001b[A\n",
      "\n",
      "Loading checkpoint shards: 100%|██████████| 2/2 [00:00<00:00,  2.04it/s]\u001b[A\u001b[A\n",
      "\n",
      "Layer 12 texts:  28%|██▊       | 28/100 [05:37<14:27, 12.05s/it]\u001b[A"
     ]
    },
    {
     "name": "stdout",
     "output_type": "stream",
     "text": [
      "⚠️  No logits available for google/paligemma2-3b-pt-224, using zero loss\n",
      "📥 Loading model: google/gemma-2-2b\n"
     ]
    },
    {
     "name": "stderr",
     "output_type": "stream",
     "text": [
      "\n",
      "\n",
      "Loading checkpoint shards: 100%|██████████| 3/3 [00:00<00:00, 61.27it/s]\n"
     ]
    },
    {
     "name": "stdout",
     "output_type": "stream",
     "text": [
      "📥 Loading model: google/paligemma2-3b-pt-224\n"
     ]
    },
    {
     "name": "stderr",
     "output_type": "stream",
     "text": [
      "\n",
      "\n",
      "Loading checkpoint shards:   0%|          | 0/2 [00:00<?, ?it/s]\u001b[A\u001b[A\n",
      "\n",
      "Loading checkpoint shards:  50%|█████     | 1/2 [00:00<00:00,  1.24it/s]\u001b[A\u001b[A\n",
      "\n",
      "Loading checkpoint shards: 100%|██████████| 2/2 [00:00<00:00,  2.04it/s]\u001b[A\u001b[A\n",
      "\n",
      "Layer 12 texts:  29%|██▉       | 29/100 [05:49<14:17, 12.08s/it]\u001b[A"
     ]
    },
    {
     "name": "stdout",
     "output_type": "stream",
     "text": [
      "⚠️  No logits available for google/paligemma2-3b-pt-224, using zero loss\n",
      "📥 Loading model: google/gemma-2-2b\n"
     ]
    },
    {
     "name": "stderr",
     "output_type": "stream",
     "text": [
      "\n",
      "\n",
      "Loading checkpoint shards: 100%|██████████| 3/3 [00:00<00:00, 60.75it/s]\n"
     ]
    },
    {
     "name": "stdout",
     "output_type": "stream",
     "text": [
      "📥 Loading model: google/paligemma2-3b-pt-224\n"
     ]
    },
    {
     "name": "stderr",
     "output_type": "stream",
     "text": [
      "\n",
      "\n",
      "Loading checkpoint shards:   0%|          | 0/2 [00:00<?, ?it/s]\u001b[A\u001b[A\n",
      "\n",
      "Loading checkpoint shards:  50%|█████     | 1/2 [00:00<00:00,  1.27it/s]\u001b[A\u001b[A\n",
      "\n",
      "Loading checkpoint shards: 100%|██████████| 2/2 [00:00<00:00,  2.07it/s]\u001b[A\u001b[A\n",
      "\n",
      "Layer 12 texts:  30%|███       | 30/100 [06:01<14:03, 12.05s/it]\u001b[A"
     ]
    },
    {
     "name": "stdout",
     "output_type": "stream",
     "text": [
      "⚠️  No logits available for google/paligemma2-3b-pt-224, using zero loss\n",
      "📥 Loading model: google/gemma-2-2b\n"
     ]
    },
    {
     "name": "stderr",
     "output_type": "stream",
     "text": [
      "\n",
      "\n",
      "Loading checkpoint shards: 100%|██████████| 3/3 [00:00<00:00, 59.14it/s]\n"
     ]
    },
    {
     "name": "stdout",
     "output_type": "stream",
     "text": [
      "📥 Loading model: google/paligemma2-3b-pt-224\n"
     ]
    },
    {
     "name": "stderr",
     "output_type": "stream",
     "text": [
      "\n",
      "\n",
      "Loading checkpoint shards:   0%|          | 0/2 [00:00<?, ?it/s]\u001b[A\u001b[A\n",
      "\n",
      "Loading checkpoint shards:  50%|█████     | 1/2 [00:01<00:01,  1.11s/it]\u001b[A\u001b[A\n",
      "\n",
      "Loading checkpoint shards: 100%|██████████| 2/2 [00:01<00:00,  1.56it/s]\u001b[A\u001b[A\n",
      "\n",
      "Layer 12 texts:  31%|███       | 31/100 [06:13<13:54, 12.10s/it]\u001b[A"
     ]
    },
    {
     "name": "stdout",
     "output_type": "stream",
     "text": [
      "⚠️  No logits available for google/paligemma2-3b-pt-224, using zero loss\n",
      "📥 Loading model: google/gemma-2-2b\n"
     ]
    },
    {
     "name": "stderr",
     "output_type": "stream",
     "text": [
      "\n",
      "\n",
      "Loading checkpoint shards: 100%|██████████| 3/3 [00:00<00:00, 60.92it/s]\n"
     ]
    },
    {
     "name": "stdout",
     "output_type": "stream",
     "text": [
      "📥 Loading model: google/paligemma2-3b-pt-224\n"
     ]
    },
    {
     "name": "stderr",
     "output_type": "stream",
     "text": [
      "\n",
      "\n",
      "Loading checkpoint shards:   0%|          | 0/2 [00:00<?, ?it/s]\u001b[A\u001b[A\n",
      "\n",
      "Loading checkpoint shards:  50%|█████     | 1/2 [00:00<00:00,  1.01it/s]\u001b[A\u001b[A\n",
      "\n",
      "Loading checkpoint shards: 100%|██████████| 2/2 [00:01<00:00,  1.72it/s]\u001b[A\u001b[A\n",
      "\n",
      "Layer 12 texts:  32%|███▏      | 32/100 [06:25<13:43, 12.11s/it]\u001b[A"
     ]
    },
    {
     "name": "stdout",
     "output_type": "stream",
     "text": [
      "⚠️  No logits available for google/paligemma2-3b-pt-224, using zero loss\n",
      "📥 Loading model: google/gemma-2-2b\n"
     ]
    },
    {
     "name": "stderr",
     "output_type": "stream",
     "text": [
      "\n",
      "\n",
      "Loading checkpoint shards: 100%|██████████| 3/3 [00:00<00:00, 61.41it/s]\n"
     ]
    },
    {
     "name": "stdout",
     "output_type": "stream",
     "text": [
      "📥 Loading model: google/paligemma2-3b-pt-224\n"
     ]
    },
    {
     "name": "stderr",
     "output_type": "stream",
     "text": [
      "\n",
      "\n",
      "Loading checkpoint shards:   0%|          | 0/2 [00:00<?, ?it/s]\u001b[A\u001b[A\n",
      "\n",
      "Loading checkpoint shards:  50%|█████     | 1/2 [00:01<00:01,  1.02s/it]\u001b[A\u001b[A\n",
      "\n",
      "Loading checkpoint shards: 100%|██████████| 2/2 [00:01<00:00,  1.67it/s]\u001b[A\u001b[A\n",
      "\n",
      "Layer 12 texts:  33%|███▎      | 33/100 [06:37<13:32, 12.13s/it]\u001b[A"
     ]
    },
    {
     "name": "stdout",
     "output_type": "stream",
     "text": [
      "⚠️  No logits available for google/paligemma2-3b-pt-224, using zero loss\n",
      "📥 Loading model: google/gemma-2-2b\n"
     ]
    },
    {
     "name": "stderr",
     "output_type": "stream",
     "text": [
      "\n",
      "\n",
      "Loading checkpoint shards: 100%|██████████| 3/3 [00:00<00:00, 62.79it/s]\n"
     ]
    },
    {
     "name": "stdout",
     "output_type": "stream",
     "text": [
      "📥 Loading model: google/paligemma2-3b-pt-224\n"
     ]
    },
    {
     "name": "stderr",
     "output_type": "stream",
     "text": [
      "\n",
      "\n",
      "Loading checkpoint shards:   0%|          | 0/2 [00:00<?, ?it/s]\u001b[A\u001b[A\n",
      "\n",
      "Loading checkpoint shards:  50%|█████     | 1/2 [00:00<00:00,  1.27it/s]\u001b[A\u001b[A\n",
      "\n",
      "Loading checkpoint shards: 100%|██████████| 2/2 [00:00<00:00,  2.09it/s]\u001b[A\u001b[A\n",
      "\n",
      "Layer 12 texts:  34%|███▍      | 34/100 [06:49<13:14, 12.05s/it]\u001b[A"
     ]
    },
    {
     "name": "stdout",
     "output_type": "stream",
     "text": [
      "⚠️  No logits available for google/paligemma2-3b-pt-224, using zero loss\n",
      "📥 Loading model: google/gemma-2-2b\n"
     ]
    },
    {
     "name": "stderr",
     "output_type": "stream",
     "text": [
      "\n",
      "\n",
      "Loading checkpoint shards: 100%|██████████| 3/3 [00:00<00:00, 62.61it/s]\n"
     ]
    },
    {
     "name": "stdout",
     "output_type": "stream",
     "text": [
      "📥 Loading model: google/paligemma2-3b-pt-224\n"
     ]
    },
    {
     "name": "stderr",
     "output_type": "stream",
     "text": [
      "\n",
      "\n",
      "Loading checkpoint shards:   0%|          | 0/2 [00:00<?, ?it/s]\u001b[A\u001b[A\n",
      "\n",
      "Loading checkpoint shards:  50%|█████     | 1/2 [00:00<00:00,  1.25it/s]\u001b[A\u001b[A\n",
      "\n",
      "Loading checkpoint shards: 100%|██████████| 2/2 [00:00<00:00,  2.07it/s]\u001b[A\u001b[A\n",
      "\n",
      "Layer 12 texts:  35%|███▌      | 35/100 [07:01<13:06, 12.09s/it]\u001b[A"
     ]
    },
    {
     "name": "stdout",
     "output_type": "stream",
     "text": [
      "⚠️  No logits available for google/paligemma2-3b-pt-224, using zero loss\n",
      "📥 Loading model: google/gemma-2-2b\n"
     ]
    },
    {
     "name": "stderr",
     "output_type": "stream",
     "text": [
      "\n",
      "\n",
      "Loading checkpoint shards: 100%|██████████| 3/3 [00:00<00:00, 61.41it/s]\n"
     ]
    },
    {
     "name": "stdout",
     "output_type": "stream",
     "text": [
      "📥 Loading model: google/paligemma2-3b-pt-224\n"
     ]
    },
    {
     "name": "stderr",
     "output_type": "stream",
     "text": [
      "\n",
      "\n",
      "Loading checkpoint shards:   0%|          | 0/2 [00:00<?, ?it/s]\u001b[A\u001b[A\n",
      "\n",
      "Loading checkpoint shards:  50%|█████     | 1/2 [00:00<00:00,  1.25it/s]\u001b[A\u001b[A\n",
      "\n",
      "Loading checkpoint shards: 100%|██████████| 2/2 [00:00<00:00,  2.04it/s]\u001b[A\u001b[A\n",
      "\n",
      "Layer 12 texts:  36%|███▌      | 36/100 [07:13<12:56, 12.13s/it]\u001b[A"
     ]
    },
    {
     "name": "stdout",
     "output_type": "stream",
     "text": [
      "⚠️  No logits available for google/paligemma2-3b-pt-224, using zero loss\n",
      "📥 Loading model: google/gemma-2-2b\n"
     ]
    },
    {
     "name": "stderr",
     "output_type": "stream",
     "text": [
      "\n",
      "\n",
      "Loading checkpoint shards: 100%|██████████| 3/3 [00:00<00:00, 61.48it/s]\n"
     ]
    },
    {
     "name": "stdout",
     "output_type": "stream",
     "text": [
      "📥 Loading model: google/paligemma2-3b-pt-224\n"
     ]
    },
    {
     "name": "stderr",
     "output_type": "stream",
     "text": [
      "\n",
      "\n",
      "Loading checkpoint shards:   0%|          | 0/2 [00:00<?, ?it/s]\u001b[A\u001b[A\n",
      "\n",
      "Loading checkpoint shards:  50%|█████     | 1/2 [00:00<00:00,  1.17it/s]\u001b[A\u001b[A\n",
      "\n",
      "Loading checkpoint shards: 100%|██████████| 2/2 [00:01<00:00,  1.93it/s]\u001b[A\u001b[A\n",
      "\n",
      "Layer 12 texts:  37%|███▋      | 37/100 [07:26<12:44, 12.14s/it]\u001b[A"
     ]
    },
    {
     "name": "stdout",
     "output_type": "stream",
     "text": [
      "⚠️  No logits available for google/paligemma2-3b-pt-224, using zero loss\n",
      "📥 Loading model: google/gemma-2-2b\n"
     ]
    },
    {
     "name": "stderr",
     "output_type": "stream",
     "text": [
      "\n",
      "\n",
      "Loading checkpoint shards: 100%|██████████| 3/3 [00:00<00:00, 56.34it/s]\n"
     ]
    },
    {
     "name": "stdout",
     "output_type": "stream",
     "text": [
      "📥 Loading model: google/paligemma2-3b-pt-224\n"
     ]
    },
    {
     "name": "stderr",
     "output_type": "stream",
     "text": [
      "\n",
      "\n",
      "Loading checkpoint shards:   0%|          | 0/2 [00:00<?, ?it/s]\u001b[A\u001b[A\n",
      "\n",
      "Loading checkpoint shards:  50%|█████     | 1/2 [00:00<00:00,  1.16it/s]\u001b[A\u001b[A\n",
      "\n",
      "Loading checkpoint shards: 100%|██████████| 2/2 [00:01<00:00,  1.93it/s]\u001b[A\u001b[A\n",
      "\n",
      "Layer 12 texts:  38%|███▊      | 38/100 [07:37<12:27, 12.05s/it]\u001b[A"
     ]
    },
    {
     "name": "stdout",
     "output_type": "stream",
     "text": [
      "⚠️  No logits available for google/paligemma2-3b-pt-224, using zero loss\n",
      "📥 Loading model: google/gemma-2-2b\n"
     ]
    },
    {
     "name": "stderr",
     "output_type": "stream",
     "text": [
      "\n",
      "\n",
      "Loading checkpoint shards: 100%|██████████| 3/3 [00:00<00:00, 60.46it/s]\n"
     ]
    },
    {
     "name": "stdout",
     "output_type": "stream",
     "text": [
      "📥 Loading model: google/paligemma2-3b-pt-224\n"
     ]
    },
    {
     "name": "stderr",
     "output_type": "stream",
     "text": [
      "\n",
      "\n",
      "Loading checkpoint shards:   0%|          | 0/2 [00:00<?, ?it/s]\u001b[A\u001b[A\n",
      "\n",
      "Loading checkpoint shards:  50%|█████     | 1/2 [00:00<00:00,  1.21it/s]\u001b[A\u001b[A\n",
      "\n",
      "Loading checkpoint shards: 100%|██████████| 2/2 [00:00<00:00,  2.01it/s]\u001b[A\u001b[A\n",
      "\n",
      "Layer 12 texts:  39%|███▉      | 39/100 [07:49<12:13, 12.03s/it]\u001b[A"
     ]
    },
    {
     "name": "stdout",
     "output_type": "stream",
     "text": [
      "⚠️  No logits available for google/paligemma2-3b-pt-224, using zero loss\n",
      "📥 Loading model: google/gemma-2-2b\n"
     ]
    },
    {
     "name": "stderr",
     "output_type": "stream",
     "text": [
      "\n",
      "\n",
      "Loading checkpoint shards: 100%|██████████| 3/3 [00:00<00:00, 61.78it/s]\n"
     ]
    },
    {
     "name": "stdout",
     "output_type": "stream",
     "text": [
      "📥 Loading model: google/paligemma2-3b-pt-224\n"
     ]
    },
    {
     "name": "stderr",
     "output_type": "stream",
     "text": [
      "\n",
      "\n",
      "Loading checkpoint shards:   0%|          | 0/2 [00:00<?, ?it/s]\u001b[A\u001b[A\n",
      "\n",
      "Loading checkpoint shards:  50%|█████     | 1/2 [00:00<00:00,  1.29it/s]\u001b[A\u001b[A\n",
      "\n",
      "Loading checkpoint shards: 100%|██████████| 2/2 [00:01<00:00,  1.78it/s]\u001b[A\u001b[A\n",
      "\n",
      "Layer 12 texts:  40%|████      | 40/100 [08:02<12:03, 12.06s/it]\u001b[A"
     ]
    },
    {
     "name": "stdout",
     "output_type": "stream",
     "text": [
      "⚠️  No logits available for google/paligemma2-3b-pt-224, using zero loss\n",
      "📥 Loading model: google/gemma-2-2b\n"
     ]
    },
    {
     "name": "stderr",
     "output_type": "stream",
     "text": [
      "\n",
      "\n",
      "Loading checkpoint shards: 100%|██████████| 3/3 [00:00<00:00, 61.45it/s]\n"
     ]
    },
    {
     "name": "stdout",
     "output_type": "stream",
     "text": [
      "📥 Loading model: google/paligemma2-3b-pt-224\n"
     ]
    },
    {
     "name": "stderr",
     "output_type": "stream",
     "text": [
      "\n",
      "\n",
      "Loading checkpoint shards:   0%|          | 0/2 [00:00<?, ?it/s]\u001b[A\u001b[A\n",
      "\n",
      "Loading checkpoint shards:  50%|█████     | 1/2 [00:00<00:00,  1.10it/s]\u001b[A\u001b[A\n",
      "\n",
      "Loading checkpoint shards: 100%|██████████| 2/2 [00:01<00:00,  1.85it/s]\u001b[A\u001b[A\n",
      "\n",
      "Layer 12 texts:  41%|████      | 41/100 [08:14<11:49, 12.03s/it]\u001b[A"
     ]
    },
    {
     "name": "stdout",
     "output_type": "stream",
     "text": [
      "⚠️  No logits available for google/paligemma2-3b-pt-224, using zero loss\n",
      "📥 Loading model: google/gemma-2-2b\n"
     ]
    },
    {
     "name": "stderr",
     "output_type": "stream",
     "text": [
      "\n",
      "\n",
      "Loading checkpoint shards: 100%|██████████| 3/3 [00:00<00:00, 61.73it/s]\n"
     ]
    },
    {
     "name": "stdout",
     "output_type": "stream",
     "text": [
      "📥 Loading model: google/paligemma2-3b-pt-224\n"
     ]
    },
    {
     "name": "stderr",
     "output_type": "stream",
     "text": [
      "\n",
      "\n",
      "Loading checkpoint shards:   0%|          | 0/2 [00:00<?, ?it/s]\u001b[A\u001b[A\n",
      "\n",
      "Loading checkpoint shards:  50%|█████     | 1/2 [00:00<00:00,  1.22it/s]\u001b[A\u001b[A\n",
      "\n",
      "Loading checkpoint shards: 100%|██████████| 2/2 [00:01<00:00,  1.99it/s]\u001b[A\u001b[A\n",
      "\n",
      "Layer 12 texts:  42%|████▏     | 42/100 [08:26<11:40, 12.07s/it]\u001b[A"
     ]
    },
    {
     "name": "stdout",
     "output_type": "stream",
     "text": [
      "⚠️  No logits available for google/paligemma2-3b-pt-224, using zero loss\n",
      "📥 Loading model: google/gemma-2-2b\n"
     ]
    },
    {
     "name": "stderr",
     "output_type": "stream",
     "text": [
      "\n",
      "\n",
      "Loading checkpoint shards: 100%|██████████| 3/3 [00:00<00:00, 61.60it/s]\n"
     ]
    },
    {
     "name": "stdout",
     "output_type": "stream",
     "text": [
      "📥 Loading model: google/paligemma2-3b-pt-224\n"
     ]
    },
    {
     "name": "stderr",
     "output_type": "stream",
     "text": [
      "\n",
      "\n",
      "Loading checkpoint shards:   0%|          | 0/2 [00:00<?, ?it/s]\u001b[A\u001b[A\n",
      "\n",
      "Loading checkpoint shards:  50%|█████     | 1/2 [00:00<00:00,  1.22it/s]\u001b[A\u001b[A\n",
      "\n",
      "Loading checkpoint shards: 100%|██████████| 2/2 [00:00<00:00,  2.01it/s]\u001b[A\u001b[A\n",
      "\n",
      "Layer 12 texts:  43%|████▎     | 43/100 [08:38<11:36, 12.21s/it]\u001b[A"
     ]
    },
    {
     "name": "stdout",
     "output_type": "stream",
     "text": [
      "⚠️  No logits available for google/paligemma2-3b-pt-224, using zero loss\n",
      "📥 Loading model: google/gemma-2-2b\n"
     ]
    },
    {
     "name": "stderr",
     "output_type": "stream",
     "text": [
      "\n",
      "\n",
      "Loading checkpoint shards: 100%|██████████| 3/3 [00:00<00:00, 59.76it/s]\n"
     ]
    },
    {
     "name": "stdout",
     "output_type": "stream",
     "text": [
      "📥 Loading model: google/paligemma2-3b-pt-224\n"
     ]
    },
    {
     "name": "stderr",
     "output_type": "stream",
     "text": [
      "\n",
      "\n",
      "Loading checkpoint shards:   0%|          | 0/2 [00:00<?, ?it/s]\u001b[A\u001b[A\n",
      "\n",
      "Loading checkpoint shards:  50%|█████     | 1/2 [00:00<00:00,  1.24it/s]\u001b[A\u001b[A\n",
      "\n",
      "Loading checkpoint shards: 100%|██████████| 2/2 [00:00<00:00,  2.04it/s]\u001b[A\u001b[A\n",
      "\n",
      "Layer 12 texts:  44%|████▍     | 44/100 [08:50<11:24, 12.22s/it]\u001b[A"
     ]
    },
    {
     "name": "stdout",
     "output_type": "stream",
     "text": [
      "⚠️  No logits available for google/paligemma2-3b-pt-224, using zero loss\n",
      "📥 Loading model: google/gemma-2-2b\n"
     ]
    },
    {
     "name": "stderr",
     "output_type": "stream",
     "text": [
      "\n",
      "\n",
      "Loading checkpoint shards: 100%|██████████| 3/3 [00:00<00:00, 60.21it/s]\n"
     ]
    },
    {
     "name": "stdout",
     "output_type": "stream",
     "text": [
      "📥 Loading model: google/paligemma2-3b-pt-224\n"
     ]
    },
    {
     "name": "stderr",
     "output_type": "stream",
     "text": [
      "\n",
      "\n",
      "Loading checkpoint shards:   0%|          | 0/2 [00:00<?, ?it/s]\u001b[A\u001b[A\n",
      "\n",
      "Loading checkpoint shards:  50%|█████     | 1/2 [00:00<00:00,  1.27it/s]\u001b[A\u001b[A\n",
      "\n",
      "Loading checkpoint shards: 100%|██████████| 2/2 [00:00<00:00,  2.05it/s]\u001b[A\u001b[A\n",
      "\n",
      "Layer 12 texts:  45%|████▌     | 45/100 [09:03<11:10, 12.18s/it]\u001b[A"
     ]
    },
    {
     "name": "stdout",
     "output_type": "stream",
     "text": [
      "⚠️  No logits available for google/paligemma2-3b-pt-224, using zero loss\n",
      "📥 Loading model: google/gemma-2-2b\n"
     ]
    },
    {
     "name": "stderr",
     "output_type": "stream",
     "text": [
      "\n",
      "\n",
      "Loading checkpoint shards: 100%|██████████| 3/3 [00:00<00:00, 59.09it/s]\n"
     ]
    },
    {
     "name": "stdout",
     "output_type": "stream",
     "text": [
      "📥 Loading model: google/paligemma2-3b-pt-224\n"
     ]
    },
    {
     "name": "stderr",
     "output_type": "stream",
     "text": [
      "\n",
      "\n",
      "Loading checkpoint shards:   0%|          | 0/2 [00:00<?, ?it/s]\u001b[A\u001b[A\n",
      "\n",
      "Loading checkpoint shards:  50%|█████     | 1/2 [00:00<00:00,  1.20it/s]\u001b[A\u001b[A\n",
      "\n",
      "Loading checkpoint shards: 100%|██████████| 2/2 [00:01<00:00,  1.99it/s]\u001b[A\u001b[A\n",
      "\n",
      "Layer 12 texts:  46%|████▌     | 46/100 [09:14<10:52, 12.08s/it]\u001b[A"
     ]
    },
    {
     "name": "stdout",
     "output_type": "stream",
     "text": [
      "⚠️  No logits available for google/paligemma2-3b-pt-224, using zero loss\n",
      "📥 Loading model: google/gemma-2-2b\n"
     ]
    },
    {
     "name": "stderr",
     "output_type": "stream",
     "text": [
      "\n",
      "\n",
      "Loading checkpoint shards: 100%|██████████| 3/3 [00:00<00:00, 59.34it/s]\n"
     ]
    },
    {
     "name": "stdout",
     "output_type": "stream",
     "text": [
      "📥 Loading model: google/paligemma2-3b-pt-224\n"
     ]
    },
    {
     "name": "stderr",
     "output_type": "stream",
     "text": [
      "\n",
      "\n",
      "Loading checkpoint shards:   0%|          | 0/2 [00:00<?, ?it/s]\u001b[A\u001b[A\n",
      "\n",
      "Loading checkpoint shards:  50%|█████     | 1/2 [00:00<00:00,  1.17it/s]\u001b[A\u001b[A\n",
      "\n",
      "Loading checkpoint shards: 100%|██████████| 2/2 [00:01<00:00,  1.93it/s]\u001b[A\u001b[A\n",
      "\n",
      "Layer 12 texts:  47%|████▋     | 47/100 [09:26<10:40, 12.08s/it]\u001b[A"
     ]
    },
    {
     "name": "stdout",
     "output_type": "stream",
     "text": [
      "⚠️  No logits available for google/paligemma2-3b-pt-224, using zero loss\n",
      "📥 Loading model: google/gemma-2-2b\n"
     ]
    },
    {
     "name": "stderr",
     "output_type": "stream",
     "text": [
      "\n",
      "\n",
      "Loading checkpoint shards: 100%|██████████| 3/3 [00:00<00:00, 61.22it/s]\n"
     ]
    },
    {
     "name": "stdout",
     "output_type": "stream",
     "text": [
      "📥 Loading model: google/paligemma2-3b-pt-224\n"
     ]
    },
    {
     "name": "stderr",
     "output_type": "stream",
     "text": [
      "\n",
      "\n",
      "Loading checkpoint shards:   0%|          | 0/2 [00:00<?, ?it/s]\u001b[A\u001b[A\n",
      "\n",
      "Loading checkpoint shards:  50%|█████     | 1/2 [00:00<00:00,  1.06it/s]\u001b[A\u001b[A\n",
      "\n",
      "Loading checkpoint shards: 100%|██████████| 2/2 [00:01<00:00,  1.78it/s]\u001b[A\u001b[A\n",
      "\n",
      "Layer 12 texts:  48%|████▊     | 48/100 [09:39<10:27, 12.07s/it]\u001b[A"
     ]
    },
    {
     "name": "stdout",
     "output_type": "stream",
     "text": [
      "⚠️  No logits available for google/paligemma2-3b-pt-224, using zero loss\n",
      "📥 Loading model: google/gemma-2-2b\n"
     ]
    },
    {
     "name": "stderr",
     "output_type": "stream",
     "text": [
      "\n",
      "\n",
      "Loading checkpoint shards: 100%|██████████| 3/3 [00:00<00:00, 61.04it/s]\n"
     ]
    },
    {
     "name": "stdout",
     "output_type": "stream",
     "text": [
      "📥 Loading model: google/paligemma2-3b-pt-224\n"
     ]
    },
    {
     "name": "stderr",
     "output_type": "stream",
     "text": [
      "\n",
      "\n",
      "Loading checkpoint shards:   0%|          | 0/2 [00:00<?, ?it/s]\u001b[A\u001b[A\n",
      "\n",
      "Loading checkpoint shards:  50%|█████     | 1/2 [00:00<00:00,  1.25it/s]\u001b[A\u001b[A\n",
      "\n",
      "Loading checkpoint shards: 100%|██████████| 2/2 [00:00<00:00,  2.05it/s]\u001b[A\u001b[A\n",
      "\n",
      "Layer 12 texts:  49%|████▉     | 49/100 [09:51<10:18, 12.12s/it]\u001b[A"
     ]
    },
    {
     "name": "stdout",
     "output_type": "stream",
     "text": [
      "⚠️  No logits available for google/paligemma2-3b-pt-224, using zero loss\n",
      "📥 Loading model: google/gemma-2-2b\n"
     ]
    },
    {
     "name": "stderr",
     "output_type": "stream",
     "text": [
      "\n",
      "\n",
      "Loading checkpoint shards: 100%|██████████| 3/3 [00:00<00:00, 60.93it/s]\n"
     ]
    },
    {
     "name": "stdout",
     "output_type": "stream",
     "text": [
      "📥 Loading model: google/paligemma2-3b-pt-224\n"
     ]
    },
    {
     "name": "stderr",
     "output_type": "stream",
     "text": [
      "\n",
      "\n",
      "Loading checkpoint shards:   0%|          | 0/2 [00:00<?, ?it/s]\u001b[A\u001b[A\n",
      "\n",
      "Loading checkpoint shards:  50%|█████     | 1/2 [00:00<00:00,  1.25it/s]\u001b[A\u001b[A\n",
      "\n",
      "Loading checkpoint shards: 100%|██████████| 2/2 [00:00<00:00,  2.05it/s]\u001b[A\u001b[A\n",
      "\n",
      "Layer 12 texts:  50%|█████     | 50/100 [10:03<10:05, 12.12s/it]\u001b[A"
     ]
    },
    {
     "name": "stdout",
     "output_type": "stream",
     "text": [
      "⚠️  No logits available for google/paligemma2-3b-pt-224, using zero loss\n",
      "📥 Loading model: google/gemma-2-2b\n"
     ]
    },
    {
     "name": "stderr",
     "output_type": "stream",
     "text": [
      "\n",
      "\n",
      "Loading checkpoint shards: 100%|██████████| 3/3 [00:00<00:00, 61.30it/s]\n"
     ]
    },
    {
     "name": "stdout",
     "output_type": "stream",
     "text": [
      "📥 Loading model: google/paligemma2-3b-pt-224\n"
     ]
    },
    {
     "name": "stderr",
     "output_type": "stream",
     "text": [
      "\n",
      "\n",
      "Loading checkpoint shards:   0%|          | 0/2 [00:00<?, ?it/s]\u001b[A\u001b[A\n",
      "\n",
      "Loading checkpoint shards:  50%|█████     | 1/2 [00:00<00:00,  1.24it/s]\u001b[A\u001b[A\n",
      "\n",
      "Loading checkpoint shards: 100%|██████████| 2/2 [00:00<00:00,  2.05it/s]\u001b[A\u001b[A\n",
      "\n",
      "Layer 12 texts:  51%|█████     | 51/100 [10:15<09:53, 12.12s/it]\u001b[A"
     ]
    },
    {
     "name": "stdout",
     "output_type": "stream",
     "text": [
      "⚠️  No logits available for google/paligemma2-3b-pt-224, using zero loss\n",
      "📥 Loading model: google/gemma-2-2b\n"
     ]
    },
    {
     "name": "stderr",
     "output_type": "stream",
     "text": [
      "\n",
      "\n",
      "Loading checkpoint shards: 100%|██████████| 3/3 [00:00<00:00, 60.09it/s]\n"
     ]
    },
    {
     "name": "stdout",
     "output_type": "stream",
     "text": [
      "📥 Loading model: google/paligemma2-3b-pt-224\n"
     ]
    },
    {
     "name": "stderr",
     "output_type": "stream",
     "text": [
      "\n",
      "\n",
      "Loading checkpoint shards:   0%|          | 0/2 [00:00<?, ?it/s]\u001b[A\u001b[A\n",
      "\n",
      "Loading checkpoint shards:  50%|█████     | 1/2 [00:00<00:00,  1.24it/s]\u001b[A\u001b[A\n",
      "\n",
      "Loading checkpoint shards: 100%|██████████| 2/2 [00:01<00:00,  1.99it/s]\u001b[A\u001b[A\n",
      "\n",
      "Layer 12 texts:  52%|█████▏    | 52/100 [10:27<09:44, 12.18s/it]\u001b[A"
     ]
    },
    {
     "name": "stdout",
     "output_type": "stream",
     "text": [
      "⚠️  No logits available for google/paligemma2-3b-pt-224, using zero loss\n",
      "📥 Loading model: google/gemma-2-2b\n"
     ]
    },
    {
     "name": "stderr",
     "output_type": "stream",
     "text": [
      "\n",
      "\n",
      "Loading checkpoint shards: 100%|██████████| 3/3 [00:00<00:00, 60.72it/s]\n"
     ]
    },
    {
     "name": "stdout",
     "output_type": "stream",
     "text": [
      "📥 Loading model: google/paligemma2-3b-pt-224\n"
     ]
    },
    {
     "name": "stderr",
     "output_type": "stream",
     "text": [
      "\n",
      "\n",
      "Loading checkpoint shards:   0%|          | 0/2 [00:00<?, ?it/s]\u001b[A\u001b[A\n",
      "\n",
      "Loading checkpoint shards:  50%|█████     | 1/2 [00:00<00:00,  1.25it/s]\u001b[A\u001b[A\n",
      "\n",
      "Loading checkpoint shards: 100%|██████████| 2/2 [00:00<00:00,  2.03it/s]\u001b[A\u001b[A\n",
      "\n",
      "Layer 12 texts:  53%|█████▎    | 53/100 [10:39<09:29, 12.12s/it]\u001b[A"
     ]
    },
    {
     "name": "stdout",
     "output_type": "stream",
     "text": [
      "⚠️  No logits available for google/paligemma2-3b-pt-224, using zero loss\n",
      "📥 Loading model: google/gemma-2-2b\n"
     ]
    },
    {
     "name": "stderr",
     "output_type": "stream",
     "text": [
      "\n",
      "\n",
      "Loading checkpoint shards: 100%|██████████| 3/3 [00:00<00:00, 60.89it/s]\n"
     ]
    },
    {
     "name": "stdout",
     "output_type": "stream",
     "text": [
      "📥 Loading model: google/paligemma2-3b-pt-224\n"
     ]
    },
    {
     "name": "stderr",
     "output_type": "stream",
     "text": [
      "\n",
      "\n",
      "Loading checkpoint shards:   0%|          | 0/2 [00:00<?, ?it/s]\u001b[A\u001b[A\n",
      "\n",
      "Loading checkpoint shards:  50%|█████     | 1/2 [00:00<00:00,  1.31it/s]\u001b[A\u001b[A\n",
      "\n",
      "Loading checkpoint shards: 100%|██████████| 2/2 [00:01<00:00,  1.62it/s]\u001b[A\u001b[A\n",
      "\n",
      "Layer 12 texts:  54%|█████▍    | 54/100 [10:51<09:17, 12.12s/it]\u001b[A"
     ]
    },
    {
     "name": "stdout",
     "output_type": "stream",
     "text": [
      "⚠️  No logits available for google/paligemma2-3b-pt-224, using zero loss\n",
      "📥 Loading model: google/gemma-2-2b\n"
     ]
    },
    {
     "name": "stderr",
     "output_type": "stream",
     "text": [
      "\n",
      "\n",
      "Loading checkpoint shards: 100%|██████████| 3/3 [00:00<00:00, 60.45it/s]\n"
     ]
    },
    {
     "name": "stdout",
     "output_type": "stream",
     "text": [
      "📥 Loading model: google/paligemma2-3b-pt-224\n"
     ]
    },
    {
     "name": "stderr",
     "output_type": "stream",
     "text": [
      "\n",
      "\n",
      "Loading checkpoint shards:   0%|          | 0/2 [00:00<?, ?it/s]\u001b[A\u001b[A\n",
      "\n",
      "Loading checkpoint shards:  50%|█████     | 1/2 [00:00<00:00,  1.26it/s]\u001b[A\u001b[A\n",
      "\n",
      "Loading checkpoint shards: 100%|██████████| 2/2 [00:00<00:00,  2.07it/s]\u001b[A\u001b[A\n",
      "\n",
      "Layer 12 texts:  55%|█████▌    | 55/100 [11:03<09:01, 12.02s/it]\u001b[A"
     ]
    },
    {
     "name": "stdout",
     "output_type": "stream",
     "text": [
      "⚠️  No logits available for google/paligemma2-3b-pt-224, using zero loss\n",
      "📥 Loading model: google/gemma-2-2b\n"
     ]
    },
    {
     "name": "stderr",
     "output_type": "stream",
     "text": [
      "\n",
      "\n",
      "Loading checkpoint shards: 100%|██████████| 3/3 [00:00<00:00, 60.47it/s]\n"
     ]
    },
    {
     "name": "stdout",
     "output_type": "stream",
     "text": [
      "📥 Loading model: google/paligemma2-3b-pt-224\n"
     ]
    },
    {
     "name": "stderr",
     "output_type": "stream",
     "text": [
      "\n",
      "\n",
      "Loading checkpoint shards:   0%|          | 0/2 [00:00<?, ?it/s]\u001b[A\u001b[A\n",
      "\n",
      "Loading checkpoint shards:  50%|█████     | 1/2 [00:00<00:00,  1.27it/s]\u001b[A\u001b[A\n",
      "\n",
      "Loading checkpoint shards: 100%|██████████| 2/2 [00:00<00:00,  2.06it/s]\u001b[A\u001b[A\n",
      "\n",
      "Layer 12 texts:  56%|█████▌    | 56/100 [11:16<08:55, 12.18s/it]\u001b[A"
     ]
    },
    {
     "name": "stdout",
     "output_type": "stream",
     "text": [
      "⚠️  No logits available for google/paligemma2-3b-pt-224, using zero loss\n",
      "📥 Loading model: google/gemma-2-2b\n"
     ]
    },
    {
     "name": "stderr",
     "output_type": "stream",
     "text": [
      "\n",
      "\n",
      "Loading checkpoint shards: 100%|██████████| 3/3 [00:00<00:00, 60.16it/s]\n"
     ]
    },
    {
     "name": "stdout",
     "output_type": "stream",
     "text": [
      "📥 Loading model: google/paligemma2-3b-pt-224\n"
     ]
    },
    {
     "name": "stderr",
     "output_type": "stream",
     "text": [
      "\n",
      "\n",
      "Loading checkpoint shards:   0%|          | 0/2 [00:00<?, ?it/s]\u001b[A\u001b[A\n",
      "\n",
      "Loading checkpoint shards:  50%|█████     | 1/2 [00:00<00:00,  1.26it/s]\u001b[A\u001b[A\n",
      "\n",
      "Loading checkpoint shards: 100%|██████████| 2/2 [00:00<00:00,  2.07it/s]\u001b[A\u001b[A\n",
      "\n",
      "Layer 12 texts:  57%|█████▋    | 57/100 [11:28<08:40, 12.11s/it]\u001b[A"
     ]
    },
    {
     "name": "stdout",
     "output_type": "stream",
     "text": [
      "⚠️  No logits available for google/paligemma2-3b-pt-224, using zero loss\n",
      "📥 Loading model: google/gemma-2-2b\n"
     ]
    },
    {
     "name": "stderr",
     "output_type": "stream",
     "text": [
      "\n",
      "\n",
      "Loading checkpoint shards: 100%|██████████| 3/3 [00:00<00:00, 59.82it/s]\n"
     ]
    },
    {
     "name": "stdout",
     "output_type": "stream",
     "text": [
      "📥 Loading model: google/paligemma2-3b-pt-224\n"
     ]
    },
    {
     "name": "stderr",
     "output_type": "stream",
     "text": [
      "\n",
      "\n",
      "Loading checkpoint shards:   0%|          | 0/2 [00:00<?, ?it/s]\u001b[A\u001b[A\n",
      "\n",
      "Loading checkpoint shards:  50%|█████     | 1/2 [00:00<00:00,  1.28it/s]\u001b[A\u001b[A\n",
      "\n",
      "Loading checkpoint shards: 100%|██████████| 2/2 [00:00<00:00,  2.08it/s]\u001b[A\u001b[A\n",
      "\n",
      "Layer 12 texts:  58%|█████▊    | 58/100 [11:40<08:31, 12.17s/it]\u001b[A"
     ]
    },
    {
     "name": "stdout",
     "output_type": "stream",
     "text": [
      "⚠️  No logits available for google/paligemma2-3b-pt-224, using zero loss\n",
      "📥 Loading model: google/gemma-2-2b\n"
     ]
    },
    {
     "name": "stderr",
     "output_type": "stream",
     "text": [
      "\n",
      "\n",
      "Loading checkpoint shards: 100%|██████████| 3/3 [00:00<00:00, 61.38it/s]\n"
     ]
    },
    {
     "name": "stdout",
     "output_type": "stream",
     "text": [
      "📥 Loading model: google/paligemma2-3b-pt-224\n"
     ]
    },
    {
     "name": "stderr",
     "output_type": "stream",
     "text": [
      "\n",
      "\n",
      "Loading checkpoint shards:   0%|          | 0/2 [00:00<?, ?it/s]\u001b[A\u001b[A\n",
      "\n",
      "Loading checkpoint shards:  50%|█████     | 1/2 [00:00<00:00,  1.29it/s]\u001b[A\u001b[A\n",
      "\n",
      "Loading checkpoint shards: 100%|██████████| 2/2 [00:00<00:00,  2.11it/s]\u001b[A\u001b[A\n",
      "\n",
      "Layer 12 texts:  59%|█████▉    | 59/100 [11:52<08:21, 12.24s/it]\u001b[A"
     ]
    },
    {
     "name": "stdout",
     "output_type": "stream",
     "text": [
      "⚠️  No logits available for google/paligemma2-3b-pt-224, using zero loss\n",
      "📥 Loading model: google/gemma-2-2b\n"
     ]
    },
    {
     "name": "stderr",
     "output_type": "stream",
     "text": [
      "\n",
      "\n",
      "Loading checkpoint shards: 100%|██████████| 3/3 [00:00<00:00, 60.38it/s]\n"
     ]
    },
    {
     "name": "stdout",
     "output_type": "stream",
     "text": [
      "📥 Loading model: google/paligemma2-3b-pt-224\n"
     ]
    },
    {
     "name": "stderr",
     "output_type": "stream",
     "text": [
      "\n",
      "\n",
      "Loading checkpoint shards:   0%|          | 0/2 [00:00<?, ?it/s]\u001b[A\u001b[A\n",
      "\n",
      "Loading checkpoint shards:  50%|█████     | 1/2 [00:00<00:00,  1.28it/s]\u001b[A\u001b[A\n",
      "\n",
      "Loading checkpoint shards: 100%|██████████| 2/2 [00:00<00:00,  2.09it/s]\u001b[A\u001b[A\n",
      "\n",
      "Layer 12 texts:  60%|██████    | 60/100 [12:05<08:09, 12.23s/it]\u001b[A"
     ]
    },
    {
     "name": "stdout",
     "output_type": "stream",
     "text": [
      "⚠️  No logits available for google/paligemma2-3b-pt-224, using zero loss\n",
      "📥 Loading model: google/gemma-2-2b\n"
     ]
    },
    {
     "name": "stderr",
     "output_type": "stream",
     "text": [
      "\n",
      "\n",
      "Loading checkpoint shards: 100%|██████████| 3/3 [00:00<00:00, 60.26it/s]\n"
     ]
    },
    {
     "name": "stdout",
     "output_type": "stream",
     "text": [
      "📥 Loading model: google/paligemma2-3b-pt-224\n"
     ]
    },
    {
     "name": "stderr",
     "output_type": "stream",
     "text": [
      "\n",
      "\n",
      "Loading checkpoint shards:   0%|          | 0/2 [00:00<?, ?it/s]\u001b[A\u001b[A\n",
      "\n",
      "Loading checkpoint shards:  50%|█████     | 1/2 [00:00<00:00,  1.25it/s]\u001b[A\u001b[A\n",
      "\n",
      "Loading checkpoint shards: 100%|██████████| 2/2 [00:00<00:00,  2.04it/s]\u001b[A\u001b[A\n",
      "\n",
      "Layer 12 texts:  61%|██████    | 61/100 [12:17<07:53, 12.13s/it]\u001b[A"
     ]
    },
    {
     "name": "stdout",
     "output_type": "stream",
     "text": [
      "⚠️  No logits available for google/paligemma2-3b-pt-224, using zero loss\n",
      "📥 Loading model: google/gemma-2-2b\n"
     ]
    },
    {
     "name": "stderr",
     "output_type": "stream",
     "text": [
      "\n",
      "\n",
      "Loading checkpoint shards: 100%|██████████| 3/3 [00:00<00:00, 61.35it/s]\n"
     ]
    },
    {
     "name": "stdout",
     "output_type": "stream",
     "text": [
      "📥 Loading model: google/paligemma2-3b-pt-224\n"
     ]
    },
    {
     "name": "stderr",
     "output_type": "stream",
     "text": [
      "\n",
      "\n",
      "Loading checkpoint shards:   0%|          | 0/2 [00:00<?, ?it/s]\u001b[A\u001b[A\n",
      "\n",
      "Loading checkpoint shards:  50%|█████     | 1/2 [00:00<00:00,  1.28it/s]\u001b[A\u001b[A\n",
      "\n",
      "Loading checkpoint shards: 100%|██████████| 2/2 [00:00<00:00,  2.08it/s]\u001b[A\u001b[A\n",
      "\n",
      "Layer 12 texts:  62%|██████▏   | 62/100 [12:28<07:37, 12.03s/it]\u001b[A"
     ]
    },
    {
     "name": "stdout",
     "output_type": "stream",
     "text": [
      "⚠️  No logits available for google/paligemma2-3b-pt-224, using zero loss\n",
      "📥 Loading model: google/gemma-2-2b\n"
     ]
    },
    {
     "name": "stderr",
     "output_type": "stream",
     "text": [
      "\n",
      "\n",
      "Loading checkpoint shards: 100%|██████████| 3/3 [00:00<00:00, 58.61it/s]\n"
     ]
    },
    {
     "name": "stdout",
     "output_type": "stream",
     "text": [
      "📥 Loading model: google/paligemma2-3b-pt-224\n"
     ]
    },
    {
     "name": "stderr",
     "output_type": "stream",
     "text": [
      "\n",
      "\n",
      "Loading checkpoint shards:   0%|          | 0/2 [00:00<?, ?it/s]\u001b[A\u001b[A\n",
      "\n",
      "Loading checkpoint shards:  50%|█████     | 1/2 [00:00<00:00,  1.36it/s]\u001b[A\u001b[A\n",
      "\n",
      "Loading checkpoint shards: 100%|██████████| 2/2 [00:00<00:00,  2.20it/s]\u001b[A\u001b[A\n",
      "\n",
      "Layer 12 texts:  63%|██████▎   | 63/100 [12:40<07:21, 11.92s/it]\u001b[A"
     ]
    },
    {
     "name": "stdout",
     "output_type": "stream",
     "text": [
      "⚠️  No logits available for google/paligemma2-3b-pt-224, using zero loss\n",
      "📥 Loading model: google/gemma-2-2b\n"
     ]
    },
    {
     "name": "stderr",
     "output_type": "stream",
     "text": [
      "\n",
      "\n",
      "Loading checkpoint shards: 100%|██████████| 3/3 [00:00<00:00, 61.76it/s]\n"
     ]
    },
    {
     "name": "stdout",
     "output_type": "stream",
     "text": [
      "📥 Loading model: google/paligemma2-3b-pt-224\n"
     ]
    },
    {
     "name": "stderr",
     "output_type": "stream",
     "text": [
      "\n",
      "\n",
      "Loading checkpoint shards:   0%|          | 0/2 [00:00<?, ?it/s]\u001b[A\u001b[A\n",
      "\n",
      "Loading checkpoint shards:  50%|█████     | 1/2 [00:00<00:00,  1.21it/s]\u001b[A\u001b[A\n",
      "\n",
      "Loading checkpoint shards: 100%|██████████| 2/2 [00:01<00:00,  1.98it/s]\u001b[A\u001b[A\n",
      "\n",
      "Layer 12 texts:  64%|██████▍   | 64/100 [12:52<07:10, 11.97s/it]\u001b[A"
     ]
    },
    {
     "name": "stdout",
     "output_type": "stream",
     "text": [
      "⚠️  No logits available for google/paligemma2-3b-pt-224, using zero loss\n",
      "📥 Loading model: google/gemma-2-2b\n"
     ]
    },
    {
     "name": "stderr",
     "output_type": "stream",
     "text": [
      "\n",
      "\n",
      "Loading checkpoint shards: 100%|██████████| 3/3 [00:00<00:00, 59.81it/s]\n"
     ]
    },
    {
     "name": "stdout",
     "output_type": "stream",
     "text": [
      "📥 Loading model: google/paligemma2-3b-pt-224\n"
     ]
    },
    {
     "name": "stderr",
     "output_type": "stream",
     "text": [
      "\n",
      "\n",
      "Loading checkpoint shards:   0%|          | 0/2 [00:00<?, ?it/s]\u001b[A\u001b[A\n",
      "\n",
      "Loading checkpoint shards:  50%|█████     | 1/2 [00:00<00:00,  1.26it/s]\u001b[A\u001b[A\n",
      "\n",
      "Loading checkpoint shards: 100%|██████████| 2/2 [00:00<00:00,  2.05it/s]\u001b[A\u001b[A\n",
      "\n",
      "Layer 12 texts:  65%|██████▌   | 65/100 [13:04<07:01, 12.05s/it]\u001b[A"
     ]
    },
    {
     "name": "stdout",
     "output_type": "stream",
     "text": [
      "⚠️  No logits available for google/paligemma2-3b-pt-224, using zero loss\n",
      "📥 Loading model: google/gemma-2-2b\n"
     ]
    },
    {
     "name": "stderr",
     "output_type": "stream",
     "text": [
      "\n",
      "\n",
      "Loading checkpoint shards: 100%|██████████| 3/3 [00:00<00:00, 59.58it/s]\n"
     ]
    },
    {
     "name": "stdout",
     "output_type": "stream",
     "text": [
      "📥 Loading model: google/paligemma2-3b-pt-224\n"
     ]
    },
    {
     "name": "stderr",
     "output_type": "stream",
     "text": [
      "\n",
      "\n",
      "Loading checkpoint shards:   0%|          | 0/2 [00:00<?, ?it/s]\u001b[A\u001b[A\n",
      "\n",
      "Loading checkpoint shards:  50%|█████     | 1/2 [00:00<00:00,  1.30it/s]\u001b[A\u001b[A\n",
      "\n",
      "Loading checkpoint shards: 100%|██████████| 2/2 [00:00<00:00,  2.12it/s]\u001b[A\u001b[A\n",
      "\n",
      "Layer 12 texts:  66%|██████▌   | 66/100 [13:17<06:52, 12.15s/it]\u001b[A"
     ]
    },
    {
     "name": "stdout",
     "output_type": "stream",
     "text": [
      "⚠️  No logits available for google/paligemma2-3b-pt-224, using zero loss\n",
      "📥 Loading model: google/gemma-2-2b\n"
     ]
    },
    {
     "name": "stderr",
     "output_type": "stream",
     "text": [
      "\n",
      "\n",
      "Loading checkpoint shards: 100%|██████████| 3/3 [00:00<00:00, 60.12it/s]\n"
     ]
    },
    {
     "name": "stdout",
     "output_type": "stream",
     "text": [
      "📥 Loading model: google/paligemma2-3b-pt-224\n"
     ]
    },
    {
     "name": "stderr",
     "output_type": "stream",
     "text": [
      "\n",
      "\n",
      "Loading checkpoint shards:   0%|          | 0/2 [00:00<?, ?it/s]\u001b[A\u001b[A\n",
      "\n",
      "Loading checkpoint shards:  50%|█████     | 1/2 [00:00<00:00,  1.29it/s]\u001b[A\u001b[A\n",
      "\n",
      "Loading checkpoint shards: 100%|██████████| 2/2 [00:00<00:00,  2.09it/s]\u001b[A\u001b[A\n",
      "\n",
      "Layer 12 texts:  67%|██████▋   | 67/100 [13:29<06:39, 12.09s/it]\u001b[A"
     ]
    },
    {
     "name": "stdout",
     "output_type": "stream",
     "text": [
      "⚠️  No logits available for google/paligemma2-3b-pt-224, using zero loss\n",
      "📥 Loading model: google/gemma-2-2b\n"
     ]
    },
    {
     "name": "stderr",
     "output_type": "stream",
     "text": [
      "\n",
      "\n",
      "Loading checkpoint shards: 100%|██████████| 3/3 [00:00<00:00, 60.06it/s]\n"
     ]
    },
    {
     "name": "stdout",
     "output_type": "stream",
     "text": [
      "📥 Loading model: google/paligemma2-3b-pt-224\n"
     ]
    },
    {
     "name": "stderr",
     "output_type": "stream",
     "text": [
      "\n",
      "\n",
      "Loading checkpoint shards:   0%|          | 0/2 [00:00<?, ?it/s]\u001b[A\u001b[A\n",
      "\n",
      "Loading checkpoint shards:  50%|█████     | 1/2 [00:00<00:00,  1.26it/s]\u001b[A\u001b[A\n",
      "\n",
      "Loading checkpoint shards: 100%|██████████| 2/2 [00:00<00:00,  2.06it/s]\u001b[A\u001b[A\n",
      "\n",
      "Layer 12 texts:  68%|██████▊   | 68/100 [13:41<06:25, 12.04s/it]\u001b[A"
     ]
    },
    {
     "name": "stdout",
     "output_type": "stream",
     "text": [
      "⚠️  No logits available for google/paligemma2-3b-pt-224, using zero loss\n",
      "📥 Loading model: google/gemma-2-2b\n"
     ]
    },
    {
     "name": "stderr",
     "output_type": "stream",
     "text": [
      "\n",
      "\n",
      "Loading checkpoint shards: 100%|██████████| 3/3 [00:00<00:00, 61.47it/s]\n"
     ]
    },
    {
     "name": "stdout",
     "output_type": "stream",
     "text": [
      "📥 Loading model: google/paligemma2-3b-pt-224\n"
     ]
    },
    {
     "name": "stderr",
     "output_type": "stream",
     "text": [
      "\n",
      "\n",
      "Loading checkpoint shards:   0%|          | 0/2 [00:00<?, ?it/s]\u001b[A\u001b[A\n",
      "\n",
      "Loading checkpoint shards:  50%|█████     | 1/2 [00:00<00:00,  1.28it/s]\u001b[A\u001b[A\n",
      "\n",
      "Loading checkpoint shards: 100%|██████████| 2/2 [00:00<00:00,  2.06it/s]\u001b[A\u001b[A\n",
      "\n",
      "Layer 12 texts:  69%|██████▉   | 69/100 [13:52<06:09, 11.92s/it]\u001b[A"
     ]
    },
    {
     "name": "stdout",
     "output_type": "stream",
     "text": [
      "⚠️  No logits available for google/paligemma2-3b-pt-224, using zero loss\n",
      "📥 Loading model: google/gemma-2-2b\n"
     ]
    },
    {
     "name": "stderr",
     "output_type": "stream",
     "text": [
      "\n",
      "\n",
      "Loading checkpoint shards: 100%|██████████| 3/3 [00:00<00:00, 59.63it/s]\n"
     ]
    },
    {
     "name": "stdout",
     "output_type": "stream",
     "text": [
      "📥 Loading model: google/paligemma2-3b-pt-224\n"
     ]
    },
    {
     "name": "stderr",
     "output_type": "stream",
     "text": [
      "\n",
      "\n",
      "Loading checkpoint shards:   0%|          | 0/2 [00:00<?, ?it/s]\u001b[A\u001b[A\n",
      "\n",
      "Loading checkpoint shards:  50%|█████     | 1/2 [00:01<00:01,  1.04s/it]\u001b[A\u001b[A\n",
      "\n",
      "Loading checkpoint shards: 100%|██████████| 2/2 [00:01<00:00,  1.64it/s]\u001b[A\u001b[A\n",
      "\n",
      "Layer 12 texts:  70%|███████   | 70/100 [14:05<06:03, 12.12s/it]\u001b[A"
     ]
    },
    {
     "name": "stdout",
     "output_type": "stream",
     "text": [
      "⚠️  No logits available for google/paligemma2-3b-pt-224, using zero loss\n",
      "📥 Loading model: google/gemma-2-2b\n"
     ]
    },
    {
     "name": "stderr",
     "output_type": "stream",
     "text": [
      "\n",
      "\n",
      "Loading checkpoint shards: 100%|██████████| 3/3 [00:00<00:00, 61.98it/s]\n"
     ]
    },
    {
     "name": "stdout",
     "output_type": "stream",
     "text": [
      "📥 Loading model: google/paligemma2-3b-pt-224\n"
     ]
    },
    {
     "name": "stderr",
     "output_type": "stream",
     "text": [
      "\n",
      "\n",
      "Loading checkpoint shards:   0%|          | 0/2 [00:00<?, ?it/s]\u001b[A\u001b[A\n",
      "\n",
      "Loading checkpoint shards:  50%|█████     | 1/2 [00:00<00:00,  1.25it/s]\u001b[A\u001b[A\n",
      "\n",
      "Loading checkpoint shards: 100%|██████████| 2/2 [00:00<00:00,  2.05it/s]\u001b[A\u001b[A\n",
      "\n",
      "Layer 12 texts:  71%|███████   | 71/100 [14:17<05:51, 12.12s/it]\u001b[A"
     ]
    },
    {
     "name": "stdout",
     "output_type": "stream",
     "text": [
      "⚠️  No logits available for google/paligemma2-3b-pt-224, using zero loss\n",
      "📥 Loading model: google/gemma-2-2b\n"
     ]
    },
    {
     "name": "stderr",
     "output_type": "stream",
     "text": [
      "\n",
      "\n",
      "Loading checkpoint shards: 100%|██████████| 3/3 [00:00<00:00, 61.33it/s]\n"
     ]
    },
    {
     "name": "stdout",
     "output_type": "stream",
     "text": [
      "📥 Loading model: google/paligemma2-3b-pt-224\n"
     ]
    },
    {
     "name": "stderr",
     "output_type": "stream",
     "text": [
      "\n",
      "\n",
      "Loading checkpoint shards:   0%|          | 0/2 [00:00<?, ?it/s]\u001b[A\u001b[A\n",
      "\n",
      "Loading checkpoint shards:  50%|█████     | 1/2 [00:00<00:00,  1.29it/s]\u001b[A\u001b[A\n",
      "\n",
      "Loading checkpoint shards: 100%|██████████| 2/2 [00:00<00:00,  2.09it/s]\u001b[A\u001b[A\n",
      "\n",
      "Layer 12 texts:  72%|███████▏  | 72/100 [14:29<05:38, 12.10s/it]\u001b[A"
     ]
    },
    {
     "name": "stdout",
     "output_type": "stream",
     "text": [
      "⚠️  No logits available for google/paligemma2-3b-pt-224, using zero loss\n",
      "📥 Loading model: google/gemma-2-2b\n"
     ]
    },
    {
     "name": "stderr",
     "output_type": "stream",
     "text": [
      "\n",
      "\n",
      "Loading checkpoint shards: 100%|██████████| 3/3 [00:00<00:00, 60.78it/s]\n"
     ]
    },
    {
     "name": "stdout",
     "output_type": "stream",
     "text": [
      "📥 Loading model: google/paligemma2-3b-pt-224\n"
     ]
    },
    {
     "name": "stderr",
     "output_type": "stream",
     "text": [
      "\n",
      "\n",
      "Loading checkpoint shards:   0%|          | 0/2 [00:00<?, ?it/s]\u001b[A\u001b[A\n",
      "\n",
      "Loading checkpoint shards:  50%|█████     | 1/2 [00:00<00:00,  1.25it/s]\u001b[A\u001b[A\n",
      "\n",
      "Loading checkpoint shards: 100%|██████████| 2/2 [00:00<00:00,  2.05it/s]\u001b[A\u001b[A\n",
      "\n",
      "Layer 12 texts:  73%|███████▎  | 73/100 [14:41<05:26, 12.09s/it]\u001b[A"
     ]
    },
    {
     "name": "stdout",
     "output_type": "stream",
     "text": [
      "⚠️  No logits available for google/paligemma2-3b-pt-224, using zero loss\n",
      "📥 Loading model: google/gemma-2-2b\n"
     ]
    },
    {
     "name": "stderr",
     "output_type": "stream",
     "text": [
      "\n",
      "\n",
      "Loading checkpoint shards: 100%|██████████| 3/3 [00:00<00:00, 59.64it/s]\n"
     ]
    },
    {
     "name": "stdout",
     "output_type": "stream",
     "text": [
      "📥 Loading model: google/paligemma2-3b-pt-224\n"
     ]
    },
    {
     "name": "stderr",
     "output_type": "stream",
     "text": [
      "\n",
      "\n",
      "Loading checkpoint shards:   0%|          | 0/2 [00:00<?, ?it/s]\u001b[A\u001b[A\n",
      "\n",
      "Loading checkpoint shards:  50%|█████     | 1/2 [00:00<00:00,  1.27it/s]\u001b[A\u001b[A\n",
      "\n",
      "Loading checkpoint shards: 100%|██████████| 2/2 [00:00<00:00,  2.07it/s]\u001b[A\u001b[A\n",
      "\n",
      "Layer 12 texts:  74%|███████▍  | 74/100 [14:54<05:18, 12.23s/it]\u001b[A"
     ]
    },
    {
     "name": "stdout",
     "output_type": "stream",
     "text": [
      "⚠️  No logits available for google/paligemma2-3b-pt-224, using zero loss\n",
      "📥 Loading model: google/gemma-2-2b\n"
     ]
    },
    {
     "name": "stderr",
     "output_type": "stream",
     "text": [
      "\n",
      "\n",
      "Loading checkpoint shards: 100%|██████████| 3/3 [00:00<00:00, 61.03it/s]\n"
     ]
    },
    {
     "name": "stdout",
     "output_type": "stream",
     "text": [
      "📥 Loading model: google/paligemma2-3b-pt-224\n"
     ]
    },
    {
     "name": "stderr",
     "output_type": "stream",
     "text": [
      "\n",
      "\n",
      "Loading checkpoint shards:   0%|          | 0/2 [00:00<?, ?it/s]\u001b[A\u001b[A\n",
      "\n",
      "Loading checkpoint shards:  50%|█████     | 1/2 [00:00<00:00,  1.25it/s]\u001b[A\u001b[A\n",
      "\n",
      "Loading checkpoint shards: 100%|██████████| 2/2 [00:00<00:00,  2.05it/s]\u001b[A\u001b[A\n",
      "\n",
      "Layer 12 texts:  75%|███████▌  | 75/100 [15:06<05:07, 12.30s/it]\u001b[A"
     ]
    },
    {
     "name": "stdout",
     "output_type": "stream",
     "text": [
      "⚠️  No logits available for google/paligemma2-3b-pt-224, using zero loss\n",
      "📥 Loading model: google/gemma-2-2b\n"
     ]
    },
    {
     "name": "stderr",
     "output_type": "stream",
     "text": [
      "\n",
      "\n",
      "Loading checkpoint shards: 100%|██████████| 3/3 [00:00<00:00, 60.74it/s]\n"
     ]
    },
    {
     "name": "stdout",
     "output_type": "stream",
     "text": [
      "📥 Loading model: google/paligemma2-3b-pt-224\n"
     ]
    },
    {
     "name": "stderr",
     "output_type": "stream",
     "text": [
      "\n",
      "\n",
      "Loading checkpoint shards:   0%|          | 0/2 [00:00<?, ?it/s]\u001b[A\u001b[A\n",
      "\n",
      "Loading checkpoint shards:  50%|█████     | 1/2 [00:00<00:00,  1.26it/s]\u001b[A\u001b[A\n",
      "\n",
      "Loading checkpoint shards: 100%|██████████| 2/2 [00:00<00:00,  2.04it/s]\u001b[A\u001b[A\n",
      "\n",
      "Layer 12 texts:  76%|███████▌  | 76/100 [15:18<04:55, 12.32s/it]\u001b[A"
     ]
    },
    {
     "name": "stdout",
     "output_type": "stream",
     "text": [
      "⚠️  No logits available for google/paligemma2-3b-pt-224, using zero loss\n",
      "📥 Loading model: google/gemma-2-2b\n"
     ]
    },
    {
     "name": "stderr",
     "output_type": "stream",
     "text": [
      "\n",
      "\n",
      "Loading checkpoint shards: 100%|██████████| 3/3 [00:00<00:00, 60.90it/s]\n"
     ]
    },
    {
     "name": "stdout",
     "output_type": "stream",
     "text": [
      "📥 Loading model: google/paligemma2-3b-pt-224\n"
     ]
    },
    {
     "name": "stderr",
     "output_type": "stream",
     "text": [
      "\n",
      "\n",
      "Loading checkpoint shards:   0%|          | 0/2 [00:00<?, ?it/s]\u001b[A\u001b[A\n",
      "\n",
      "Loading checkpoint shards:  50%|█████     | 1/2 [00:00<00:00,  1.26it/s]\u001b[A\u001b[A\n",
      "\n",
      "Loading checkpoint shards: 100%|██████████| 2/2 [00:00<00:00,  2.07it/s]\u001b[A\u001b[A\n",
      "\n",
      "Layer 12 texts:  77%|███████▋  | 77/100 [15:30<04:41, 12.22s/it]\u001b[A"
     ]
    },
    {
     "name": "stdout",
     "output_type": "stream",
     "text": [
      "⚠️  No logits available for google/paligemma2-3b-pt-224, using zero loss\n",
      "📥 Loading model: google/gemma-2-2b\n"
     ]
    },
    {
     "name": "stderr",
     "output_type": "stream",
     "text": [
      "\n",
      "\n",
      "Loading checkpoint shards: 100%|██████████| 3/3 [00:00<00:00, 59.98it/s]\n"
     ]
    },
    {
     "name": "stdout",
     "output_type": "stream",
     "text": [
      "📥 Loading model: google/paligemma2-3b-pt-224\n"
     ]
    },
    {
     "name": "stderr",
     "output_type": "stream",
     "text": [
      "\n",
      "\n",
      "Loading checkpoint shards:   0%|          | 0/2 [00:00<?, ?it/s]\u001b[A\u001b[A\n",
      "\n",
      "Loading checkpoint shards:  50%|█████     | 1/2 [00:00<00:00,  1.05it/s]\u001b[A\u001b[A\n",
      "\n",
      "Loading checkpoint shards: 100%|██████████| 2/2 [00:01<00:00,  1.77it/s]\u001b[A\u001b[A\n",
      "\n",
      "Layer 12 texts:  78%|███████▊  | 78/100 [15:42<04:27, 12.17s/it]\u001b[A"
     ]
    },
    {
     "name": "stdout",
     "output_type": "stream",
     "text": [
      "⚠️  No logits available for google/paligemma2-3b-pt-224, using zero loss\n",
      "📥 Loading model: google/gemma-2-2b\n"
     ]
    },
    {
     "name": "stderr",
     "output_type": "stream",
     "text": [
      "\n",
      "\n",
      "Loading checkpoint shards: 100%|██████████| 3/3 [00:00<00:00, 60.36it/s]\n"
     ]
    },
    {
     "name": "stdout",
     "output_type": "stream",
     "text": [
      "📥 Loading model: google/paligemma2-3b-pt-224\n"
     ]
    },
    {
     "name": "stderr",
     "output_type": "stream",
     "text": [
      "\n",
      "\n",
      "Loading checkpoint shards:   0%|          | 0/2 [00:00<?, ?it/s]\u001b[A\u001b[A\n",
      "\n",
      "Loading checkpoint shards:  50%|█████     | 1/2 [00:00<00:00,  1.25it/s]\u001b[A\u001b[A\n",
      "\n",
      "Loading checkpoint shards: 100%|██████████| 2/2 [00:00<00:00,  2.05it/s]\u001b[A\u001b[A\n",
      "\n",
      "Layer 12 texts:  79%|███████▉  | 79/100 [15:55<04:16, 12.22s/it]\u001b[A"
     ]
    },
    {
     "name": "stdout",
     "output_type": "stream",
     "text": [
      "⚠️  No logits available for google/paligemma2-3b-pt-224, using zero loss\n",
      "📥 Loading model: google/gemma-2-2b\n"
     ]
    },
    {
     "name": "stderr",
     "output_type": "stream",
     "text": [
      "\n",
      "\n",
      "Loading checkpoint shards: 100%|██████████| 3/3 [00:00<00:00, 60.19it/s]\n"
     ]
    },
    {
     "name": "stdout",
     "output_type": "stream",
     "text": [
      "📥 Loading model: google/paligemma2-3b-pt-224\n"
     ]
    },
    {
     "name": "stderr",
     "output_type": "stream",
     "text": [
      "\n",
      "\n",
      "Loading checkpoint shards:   0%|          | 0/2 [00:00<?, ?it/s]\u001b[A\u001b[A\n",
      "\n",
      "Loading checkpoint shards:  50%|█████     | 1/2 [00:00<00:00,  1.26it/s]\u001b[A\u001b[A\n",
      "\n",
      "Loading checkpoint shards: 100%|██████████| 2/2 [00:00<00:00,  2.07it/s]\u001b[A\u001b[A\n",
      "\n",
      "Layer 12 texts:  80%|████████  | 80/100 [16:07<04:04, 12.20s/it]\u001b[A"
     ]
    },
    {
     "name": "stdout",
     "output_type": "stream",
     "text": [
      "⚠️  No logits available for google/paligemma2-3b-pt-224, using zero loss\n",
      "📥 Loading model: google/gemma-2-2b\n"
     ]
    },
    {
     "name": "stderr",
     "output_type": "stream",
     "text": [
      "\n",
      "\n",
      "Loading checkpoint shards: 100%|██████████| 3/3 [00:00<00:00, 59.71it/s]\n"
     ]
    },
    {
     "name": "stdout",
     "output_type": "stream",
     "text": [
      "📥 Loading model: google/paligemma2-3b-pt-224\n"
     ]
    },
    {
     "name": "stderr",
     "output_type": "stream",
     "text": [
      "\n",
      "\n",
      "Loading checkpoint shards:   0%|          | 0/2 [00:00<?, ?it/s]\u001b[A\u001b[A\n",
      "\n",
      "Loading checkpoint shards:  50%|█████     | 1/2 [00:00<00:00,  1.26it/s]\u001b[A\u001b[A\n",
      "\n",
      "Loading checkpoint shards: 100%|██████████| 2/2 [00:00<00:00,  2.08it/s]\u001b[A\u001b[A\n",
      "\n",
      "Layer 12 texts:  81%|████████  | 81/100 [16:19<03:51, 12.18s/it]\u001b[A"
     ]
    },
    {
     "name": "stdout",
     "output_type": "stream",
     "text": [
      "⚠️  No logits available for google/paligemma2-3b-pt-224, using zero loss\n",
      "📥 Loading model: google/gemma-2-2b\n"
     ]
    },
    {
     "name": "stderr",
     "output_type": "stream",
     "text": [
      "\n",
      "\n",
      "Loading checkpoint shards: 100%|██████████| 3/3 [00:00<00:00, 59.36it/s]\n"
     ]
    },
    {
     "name": "stdout",
     "output_type": "stream",
     "text": [
      "📥 Loading model: google/paligemma2-3b-pt-224\n"
     ]
    },
    {
     "name": "stderr",
     "output_type": "stream",
     "text": [
      "\n",
      "\n",
      "Loading checkpoint shards:   0%|          | 0/2 [00:00<?, ?it/s]\u001b[A\u001b[A\n",
      "\n",
      "Loading checkpoint shards:  50%|█████     | 1/2 [00:00<00:00,  1.27it/s]\u001b[A\u001b[A\n",
      "\n",
      "Loading checkpoint shards: 100%|██████████| 2/2 [00:00<00:00,  2.07it/s]\u001b[A\u001b[A\n",
      "\n",
      "Layer 12 texts:  82%|████████▏ | 82/100 [16:32<03:40, 12.26s/it]\u001b[A"
     ]
    },
    {
     "name": "stdout",
     "output_type": "stream",
     "text": [
      "⚠️  No logits available for google/paligemma2-3b-pt-224, using zero loss\n",
      "📥 Loading model: google/gemma-2-2b\n"
     ]
    },
    {
     "name": "stderr",
     "output_type": "stream",
     "text": [
      "\n",
      "\n",
      "Loading checkpoint shards: 100%|██████████| 3/3 [00:00<00:00, 61.61it/s]\n"
     ]
    },
    {
     "name": "stdout",
     "output_type": "stream",
     "text": [
      "📥 Loading model: google/paligemma2-3b-pt-224\n"
     ]
    },
    {
     "name": "stderr",
     "output_type": "stream",
     "text": [
      "\n",
      "\n",
      "Loading checkpoint shards:   0%|          | 0/2 [00:00<?, ?it/s]\u001b[A\u001b[A\n",
      "\n",
      "Loading checkpoint shards:  50%|█████     | 1/2 [00:00<00:00,  1.22it/s]\u001b[A\u001b[A\n",
      "\n",
      "Loading checkpoint shards: 100%|██████████| 2/2 [00:01<00:00,  2.00it/s]\u001b[A\u001b[A\n",
      "\n",
      "Layer 12 texts:  83%|████████▎ | 83/100 [16:44<03:27, 12.20s/it]\u001b[A"
     ]
    },
    {
     "name": "stdout",
     "output_type": "stream",
     "text": [
      "⚠️  No logits available for google/paligemma2-3b-pt-224, using zero loss\n",
      "📥 Loading model: google/gemma-2-2b\n"
     ]
    },
    {
     "name": "stderr",
     "output_type": "stream",
     "text": [
      "\n",
      "\n",
      "Loading checkpoint shards: 100%|██████████| 3/3 [00:00<00:00, 60.20it/s]\n"
     ]
    },
    {
     "name": "stdout",
     "output_type": "stream",
     "text": [
      "📥 Loading model: google/paligemma2-3b-pt-224\n"
     ]
    },
    {
     "name": "stderr",
     "output_type": "stream",
     "text": [
      "\n",
      "\n",
      "Loading checkpoint shards:   0%|          | 0/2 [00:00<?, ?it/s]\u001b[A\u001b[A\n",
      "\n",
      "Loading checkpoint shards:  50%|█████     | 1/2 [00:00<00:00,  1.28it/s]\u001b[A\u001b[A\n",
      "\n",
      "Loading checkpoint shards: 100%|██████████| 2/2 [00:00<00:00,  2.08it/s]\u001b[A\u001b[A\n",
      "\n",
      "Layer 12 texts:  84%|████████▍ | 84/100 [16:56<03:14, 12.13s/it]\u001b[A"
     ]
    },
    {
     "name": "stdout",
     "output_type": "stream",
     "text": [
      "⚠️  No logits available for google/paligemma2-3b-pt-224, using zero loss\n",
      "📥 Loading model: google/gemma-2-2b\n"
     ]
    },
    {
     "name": "stderr",
     "output_type": "stream",
     "text": [
      "\n",
      "\n",
      "Loading checkpoint shards: 100%|██████████| 3/3 [00:00<00:00, 61.85it/s]\n"
     ]
    },
    {
     "name": "stdout",
     "output_type": "stream",
     "text": [
      "📥 Loading model: google/paligemma2-3b-pt-224\n"
     ]
    },
    {
     "name": "stderr",
     "output_type": "stream",
     "text": [
      "\n",
      "\n",
      "Loading checkpoint shards:   0%|          | 0/2 [00:00<?, ?it/s]\u001b[A\u001b[A\n",
      "\n",
      "Loading checkpoint shards:  50%|█████     | 1/2 [00:00<00:00,  1.26it/s]\u001b[A\u001b[A\n",
      "\n",
      "Loading checkpoint shards: 100%|██████████| 2/2 [00:00<00:00,  2.06it/s]\u001b[A\u001b[A\n",
      "\n",
      "Layer 12 texts:  85%|████████▌ | 85/100 [17:07<03:00, 12.06s/it]\u001b[A"
     ]
    },
    {
     "name": "stdout",
     "output_type": "stream",
     "text": [
      "⚠️  No logits available for google/paligemma2-3b-pt-224, using zero loss\n",
      "📥 Loading model: google/gemma-2-2b\n"
     ]
    },
    {
     "name": "stderr",
     "output_type": "stream",
     "text": [
      "\n",
      "\n",
      "Loading checkpoint shards: 100%|██████████| 3/3 [00:00<00:00, 61.56it/s]\n"
     ]
    },
    {
     "name": "stdout",
     "output_type": "stream",
     "text": [
      "📥 Loading model: google/paligemma2-3b-pt-224\n"
     ]
    },
    {
     "name": "stderr",
     "output_type": "stream",
     "text": [
      "\n",
      "\n",
      "Loading checkpoint shards:   0%|          | 0/2 [00:00<?, ?it/s]\u001b[A\u001b[A\n",
      "\n",
      "Loading checkpoint shards:  50%|█████     | 1/2 [00:00<00:00,  1.29it/s]\u001b[A\u001b[A\n",
      "\n",
      "Loading checkpoint shards: 100%|██████████| 2/2 [00:00<00:00,  2.13it/s]\u001b[A\u001b[A\n",
      "\n",
      "Layer 12 texts:  86%|████████▌ | 86/100 [17:20<02:49, 12.08s/it]\u001b[A"
     ]
    },
    {
     "name": "stdout",
     "output_type": "stream",
     "text": [
      "⚠️  No logits available for google/paligemma2-3b-pt-224, using zero loss\n",
      "📥 Loading model: google/gemma-2-2b\n"
     ]
    },
    {
     "name": "stderr",
     "output_type": "stream",
     "text": [
      "\n",
      "\n",
      "Loading checkpoint shards: 100%|██████████| 3/3 [00:00<00:00, 62.51it/s]\n"
     ]
    },
    {
     "name": "stdout",
     "output_type": "stream",
     "text": [
      "📥 Loading model: google/paligemma2-3b-pt-224\n"
     ]
    },
    {
     "name": "stderr",
     "output_type": "stream",
     "text": [
      "\n",
      "\n",
      "Loading checkpoint shards:   0%|          | 0/2 [00:00<?, ?it/s]\u001b[A\u001b[A\n",
      "\n",
      "Loading checkpoint shards:  50%|█████     | 1/2 [00:00<00:00,  1.26it/s]\u001b[A\u001b[A\n",
      "\n",
      "Loading checkpoint shards: 100%|██████████| 2/2 [00:00<00:00,  2.06it/s]\u001b[A\u001b[A\n",
      "\n",
      "Layer 12 texts:  87%|████████▋ | 87/100 [17:32<02:37, 12.12s/it]\u001b[A"
     ]
    },
    {
     "name": "stdout",
     "output_type": "stream",
     "text": [
      "⚠️  No logits available for google/paligemma2-3b-pt-224, using zero loss\n",
      "📥 Loading model: google/gemma-2-2b\n"
     ]
    },
    {
     "name": "stderr",
     "output_type": "stream",
     "text": [
      "\n",
      "\n",
      "Loading checkpoint shards: 100%|██████████| 3/3 [00:00<00:00, 61.91it/s]\n"
     ]
    },
    {
     "name": "stdout",
     "output_type": "stream",
     "text": [
      "📥 Loading model: google/paligemma2-3b-pt-224\n"
     ]
    },
    {
     "name": "stderr",
     "output_type": "stream",
     "text": [
      "\n",
      "\n",
      "Loading checkpoint shards:   0%|          | 0/2 [00:00<?, ?it/s]\u001b[A\u001b[A\n",
      "\n",
      "Loading checkpoint shards:  50%|█████     | 1/2 [00:00<00:00,  1.26it/s]\u001b[A\u001b[A\n",
      "\n",
      "Loading checkpoint shards: 100%|██████████| 2/2 [00:00<00:00,  2.07it/s]\u001b[A\u001b[A\n",
      "\n",
      "Layer 12 texts:  88%|████████▊ | 88/100 [17:44<02:25, 12.12s/it]\u001b[A"
     ]
    },
    {
     "name": "stdout",
     "output_type": "stream",
     "text": [
      "⚠️  No logits available for google/paligemma2-3b-pt-224, using zero loss\n",
      "📥 Loading model: google/gemma-2-2b\n"
     ]
    },
    {
     "name": "stderr",
     "output_type": "stream",
     "text": [
      "\n",
      "\n",
      "Loading checkpoint shards: 100%|██████████| 3/3 [00:00<00:00, 61.09it/s]\n"
     ]
    },
    {
     "name": "stdout",
     "output_type": "stream",
     "text": [
      "📥 Loading model: google/paligemma2-3b-pt-224\n"
     ]
    },
    {
     "name": "stderr",
     "output_type": "stream",
     "text": [
      "\n",
      "\n",
      "Loading checkpoint shards:   0%|          | 0/2 [00:00<?, ?it/s]\u001b[A\u001b[A\n",
      "\n",
      "Loading checkpoint shards:  50%|█████     | 1/2 [00:00<00:00,  1.24it/s]\u001b[A\u001b[A\n",
      "\n",
      "Loading checkpoint shards: 100%|██████████| 2/2 [00:00<00:00,  2.04it/s]\u001b[A\u001b[A\n",
      "\n",
      "Layer 12 texts:  89%|████████▉ | 89/100 [17:56<02:13, 12.11s/it]\u001b[A"
     ]
    },
    {
     "name": "stdout",
     "output_type": "stream",
     "text": [
      "⚠️  No logits available for google/paligemma2-3b-pt-224, using zero loss\n",
      "📥 Loading model: google/gemma-2-2b\n"
     ]
    },
    {
     "name": "stderr",
     "output_type": "stream",
     "text": [
      "\n",
      "\n",
      "Loading checkpoint shards: 100%|██████████| 3/3 [00:00<00:00, 59.82it/s]\n"
     ]
    },
    {
     "name": "stdout",
     "output_type": "stream",
     "text": [
      "📥 Loading model: google/paligemma2-3b-pt-224\n"
     ]
    },
    {
     "name": "stderr",
     "output_type": "stream",
     "text": [
      "\n",
      "\n",
      "Loading checkpoint shards:   0%|          | 0/2 [00:00<?, ?it/s]\u001b[A\u001b[A\n",
      "\n",
      "Loading checkpoint shards:  50%|█████     | 1/2 [00:00<00:00,  1.28it/s]\u001b[A\u001b[A\n",
      "\n",
      "Loading checkpoint shards: 100%|██████████| 2/2 [00:00<00:00,  2.10it/s]\u001b[A\u001b[A\n",
      "\n",
      "Layer 12 texts:  90%|█████████ | 90/100 [18:08<02:00, 12.07s/it]\u001b[A"
     ]
    },
    {
     "name": "stdout",
     "output_type": "stream",
     "text": [
      "⚠️  No logits available for google/paligemma2-3b-pt-224, using zero loss\n",
      "📥 Loading model: google/gemma-2-2b\n"
     ]
    },
    {
     "name": "stderr",
     "output_type": "stream",
     "text": [
      "\n",
      "\n",
      "Loading checkpoint shards: 100%|██████████| 3/3 [00:00<00:00, 62.09it/s]\n"
     ]
    },
    {
     "name": "stdout",
     "output_type": "stream",
     "text": [
      "📥 Loading model: google/paligemma2-3b-pt-224\n"
     ]
    },
    {
     "name": "stderr",
     "output_type": "stream",
     "text": [
      "\n",
      "\n",
      "Loading checkpoint shards:   0%|          | 0/2 [00:00<?, ?it/s]\u001b[A\u001b[A\n",
      "\n",
      "Loading checkpoint shards:  50%|█████     | 1/2 [00:00<00:00,  1.03it/s]\u001b[A\u001b[A\n",
      "\n",
      "Loading checkpoint shards: 100%|██████████| 2/2 [00:01<00:00,  1.75it/s]\u001b[A\u001b[A\n",
      "\n",
      "Layer 12 texts:  91%|█████████ | 91/100 [18:20<01:48, 12.11s/it]\u001b[A"
     ]
    },
    {
     "name": "stdout",
     "output_type": "stream",
     "text": [
      "⚠️  No logits available for google/paligemma2-3b-pt-224, using zero loss\n",
      "📥 Loading model: google/gemma-2-2b\n"
     ]
    },
    {
     "name": "stderr",
     "output_type": "stream",
     "text": [
      "\n",
      "\n",
      "Loading checkpoint shards: 100%|██████████| 3/3 [00:00<00:00, 61.34it/s]\n"
     ]
    },
    {
     "name": "stdout",
     "output_type": "stream",
     "text": [
      "📥 Loading model: google/paligemma2-3b-pt-224\n"
     ]
    },
    {
     "name": "stderr",
     "output_type": "stream",
     "text": [
      "\n",
      "\n",
      "Loading checkpoint shards:   0%|          | 0/2 [00:00<?, ?it/s]\u001b[A\u001b[A\n",
      "\n",
      "Loading checkpoint shards:  50%|█████     | 1/2 [00:00<00:00,  1.33it/s]\u001b[A\u001b[A\n",
      "\n",
      "Loading checkpoint shards: 100%|██████████| 2/2 [00:01<00:00,  1.66it/s]\u001b[A\u001b[A\n",
      "\n",
      "Layer 12 texts:  92%|█████████▏| 92/100 [18:33<01:37, 12.17s/it]\u001b[A"
     ]
    },
    {
     "name": "stdout",
     "output_type": "stream",
     "text": [
      "⚠️  No logits available for google/paligemma2-3b-pt-224, using zero loss\n",
      "📥 Loading model: google/gemma-2-2b\n"
     ]
    },
    {
     "name": "stderr",
     "output_type": "stream",
     "text": [
      "\n",
      "\n",
      "Loading checkpoint shards: 100%|██████████| 3/3 [00:00<00:00, 61.81it/s]\n"
     ]
    },
    {
     "name": "stdout",
     "output_type": "stream",
     "text": [
      "📥 Loading model: google/paligemma2-3b-pt-224\n"
     ]
    },
    {
     "name": "stderr",
     "output_type": "stream",
     "text": [
      "\n",
      "\n",
      "Loading checkpoint shards:   0%|          | 0/2 [00:00<?, ?it/s]\u001b[A\u001b[A\n",
      "\n",
      "Loading checkpoint shards:  50%|█████     | 1/2 [00:00<00:00,  1.29it/s]\u001b[A\u001b[A\n",
      "\n",
      "Loading checkpoint shards: 100%|██████████| 2/2 [00:00<00:00,  2.10it/s]\u001b[A\u001b[A\n",
      "\n",
      "Layer 12 texts:  93%|█████████▎| 93/100 [18:44<01:24, 12.06s/it]\u001b[A"
     ]
    },
    {
     "name": "stdout",
     "output_type": "stream",
     "text": [
      "⚠️  No logits available for google/paligemma2-3b-pt-224, using zero loss\n",
      "📥 Loading model: google/gemma-2-2b\n"
     ]
    },
    {
     "name": "stderr",
     "output_type": "stream",
     "text": [
      "\n",
      "\n",
      "Loading checkpoint shards: 100%|██████████| 3/3 [00:00<00:00, 61.13it/s]\n"
     ]
    },
    {
     "name": "stdout",
     "output_type": "stream",
     "text": [
      "📥 Loading model: google/paligemma2-3b-pt-224\n"
     ]
    },
    {
     "name": "stderr",
     "output_type": "stream",
     "text": [
      "\n",
      "\n",
      "Loading checkpoint shards:   0%|          | 0/2 [00:00<?, ?it/s]\u001b[A\u001b[A\n",
      "\n",
      "Loading checkpoint shards:  50%|█████     | 1/2 [00:00<00:00,  1.28it/s]\u001b[A\u001b[A\n",
      "\n",
      "Loading checkpoint shards: 100%|██████████| 2/2 [00:00<00:00,  2.09it/s]\u001b[A\u001b[A\n",
      "\n",
      "Layer 12 texts:  94%|█████████▍| 94/100 [18:56<01:12, 12.01s/it]\u001b[A"
     ]
    },
    {
     "name": "stdout",
     "output_type": "stream",
     "text": [
      "⚠️  No logits available for google/paligemma2-3b-pt-224, using zero loss\n",
      "📥 Loading model: google/gemma-2-2b\n"
     ]
    },
    {
     "name": "stderr",
     "output_type": "stream",
     "text": [
      "\n",
      "\n",
      "Loading checkpoint shards: 100%|██████████| 3/3 [00:00<00:00, 58.96it/s]\n"
     ]
    },
    {
     "name": "stdout",
     "output_type": "stream",
     "text": [
      "📥 Loading model: google/paligemma2-3b-pt-224\n"
     ]
    },
    {
     "name": "stderr",
     "output_type": "stream",
     "text": [
      "\n",
      "\n",
      "Loading checkpoint shards:   0%|          | 0/2 [00:00<?, ?it/s]\u001b[A\u001b[A\n",
      "\n",
      "Loading checkpoint shards:  50%|█████     | 1/2 [00:00<00:00,  1.25it/s]\u001b[A\u001b[A\n",
      "\n",
      "Loading checkpoint shards: 100%|██████████| 2/2 [00:00<00:00,  2.05it/s]\u001b[A\u001b[A\n",
      "\n",
      "Layer 12 texts:  95%|█████████▌| 95/100 [19:09<01:00, 12.11s/it]\u001b[A"
     ]
    },
    {
     "name": "stdout",
     "output_type": "stream",
     "text": [
      "⚠️  No logits available for google/paligemma2-3b-pt-224, using zero loss\n",
      "📥 Loading model: google/gemma-2-2b\n"
     ]
    },
    {
     "name": "stderr",
     "output_type": "stream",
     "text": [
      "\n",
      "\n",
      "Loading checkpoint shards: 100%|██████████| 3/3 [00:00<00:00, 60.50it/s]\n"
     ]
    },
    {
     "name": "stdout",
     "output_type": "stream",
     "text": [
      "📥 Loading model: google/paligemma2-3b-pt-224\n"
     ]
    },
    {
     "name": "stderr",
     "output_type": "stream",
     "text": [
      "\n",
      "\n",
      "Loading checkpoint shards:   0%|          | 0/2 [00:00<?, ?it/s]\u001b[A\u001b[A\n",
      "\n",
      "Loading checkpoint shards:  50%|█████     | 1/2 [00:00<00:00,  1.23it/s]\u001b[A\u001b[A\n",
      "\n",
      "Loading checkpoint shards: 100%|██████████| 2/2 [00:00<00:00,  2.03it/s]\u001b[A\u001b[A\n",
      "\n",
      "Layer 12 texts:  96%|█████████▌| 96/100 [19:20<00:48, 12.02s/it]\u001b[A"
     ]
    },
    {
     "name": "stdout",
     "output_type": "stream",
     "text": [
      "⚠️  No logits available for google/paligemma2-3b-pt-224, using zero loss\n",
      "📥 Loading model: google/gemma-2-2b\n"
     ]
    },
    {
     "name": "stderr",
     "output_type": "stream",
     "text": [
      "\n",
      "\n",
      "Loading checkpoint shards: 100%|██████████| 3/3 [00:00<00:00, 57.93it/s]\n"
     ]
    },
    {
     "name": "stdout",
     "output_type": "stream",
     "text": [
      "📥 Loading model: google/paligemma2-3b-pt-224\n"
     ]
    },
    {
     "name": "stderr",
     "output_type": "stream",
     "text": [
      "\n",
      "\n",
      "Loading checkpoint shards:   0%|          | 0/2 [00:00<?, ?it/s]\u001b[A\u001b[A\n",
      "\n",
      "Loading checkpoint shards:  50%|█████     | 1/2 [00:00<00:00,  1.27it/s]\u001b[A\u001b[A\n",
      "\n",
      "Loading checkpoint shards: 100%|██████████| 2/2 [00:00<00:00,  2.09it/s]\u001b[A\u001b[A\n",
      "\n",
      "Layer 12 texts:  97%|█████████▋| 97/100 [19:32<00:35, 11.98s/it]\u001b[A"
     ]
    },
    {
     "name": "stdout",
     "output_type": "stream",
     "text": [
      "⚠️  No logits available for google/paligemma2-3b-pt-224, using zero loss\n",
      "📥 Loading model: google/gemma-2-2b\n"
     ]
    },
    {
     "name": "stderr",
     "output_type": "stream",
     "text": [
      "\n",
      "\n",
      "Loading checkpoint shards: 100%|██████████| 3/3 [00:00<00:00, 59.87it/s]\n"
     ]
    },
    {
     "name": "stdout",
     "output_type": "stream",
     "text": [
      "📥 Loading model: google/paligemma2-3b-pt-224\n"
     ]
    },
    {
     "name": "stderr",
     "output_type": "stream",
     "text": [
      "\n",
      "\n",
      "Loading checkpoint shards:   0%|          | 0/2 [00:00<?, ?it/s]\u001b[A\u001b[A\n",
      "\n",
      "Loading checkpoint shards:  50%|█████     | 1/2 [00:00<00:00,  1.24it/s]\u001b[A\u001b[A\n",
      "\n",
      "Loading checkpoint shards: 100%|██████████| 2/2 [00:00<00:00,  2.04it/s]\u001b[A\u001b[A\n",
      "\n",
      "Layer 12 texts:  98%|█████████▊| 98/100 [19:44<00:23, 11.94s/it]\u001b[A"
     ]
    },
    {
     "name": "stdout",
     "output_type": "stream",
     "text": [
      "⚠️  No logits available for google/paligemma2-3b-pt-224, using zero loss\n",
      "📥 Loading model: google/gemma-2-2b\n"
     ]
    },
    {
     "name": "stderr",
     "output_type": "stream",
     "text": [
      "\n",
      "\n",
      "Loading checkpoint shards: 100%|██████████| 3/3 [00:00<00:00, 61.24it/s]\n"
     ]
    },
    {
     "name": "stdout",
     "output_type": "stream",
     "text": [
      "📥 Loading model: google/paligemma2-3b-pt-224\n"
     ]
    },
    {
     "name": "stderr",
     "output_type": "stream",
     "text": [
      "\n",
      "\n",
      "Loading checkpoint shards:   0%|          | 0/2 [00:00<?, ?it/s]\u001b[A\u001b[A\n",
      "\n",
      "Loading checkpoint shards:  50%|█████     | 1/2 [00:00<00:00,  1.21it/s]\u001b[A\u001b[A\n",
      "\n",
      "Loading checkpoint shards: 100%|██████████| 2/2 [00:00<00:00,  2.01it/s]\u001b[A\u001b[A\n",
      "\n",
      "Layer 12 texts:  99%|█████████▉| 99/100 [19:56<00:11, 11.95s/it]\u001b[A"
     ]
    },
    {
     "name": "stdout",
     "output_type": "stream",
     "text": [
      "⚠️  No logits available for google/paligemma2-3b-pt-224, using zero loss\n",
      "📥 Loading model: google/gemma-2-2b\n"
     ]
    },
    {
     "name": "stderr",
     "output_type": "stream",
     "text": [
      "\n",
      "\n",
      "Loading checkpoint shards: 100%|██████████| 3/3 [00:00<00:00, 61.90it/s]\n"
     ]
    },
    {
     "name": "stdout",
     "output_type": "stream",
     "text": [
      "📥 Loading model: google/paligemma2-3b-pt-224\n"
     ]
    },
    {
     "name": "stderr",
     "output_type": "stream",
     "text": [
      "\n",
      "\n",
      "Loading checkpoint shards:   0%|          | 0/2 [00:00<?, ?it/s]\u001b[A\u001b[A\n",
      "\n",
      "Loading checkpoint shards:  50%|█████     | 1/2 [00:00<00:00,  1.25it/s]\u001b[A\u001b[A\n",
      "\n",
      "Loading checkpoint shards: 100%|██████████| 2/2 [00:00<00:00,  2.05it/s]\u001b[A\u001b[A\n",
      "\n",
      "Layer 12 texts: 100%|██████████| 100/100 [20:08<00:00, 11.94s/it]\u001b[A\n",
      "Processing layers:  50%|█████     | 3/6 [1:00:39<1:00:35, 1211.75s/it]"
     ]
    },
    {
     "name": "stdout",
     "output_type": "stream",
     "text": [
      "⚠️  No logits available for google/paligemma2-3b-pt-224, using zero loss\n",
      "   Memory after layer 12: 12.83GB\n",
      "\n",
      "📊 Processing Layer 16\n",
      "   📥 Loading SAE Layer 16: layer_16/width_16k/canonical\n"
     ]
    },
    {
     "name": "stderr",
     "output_type": "stream",
     "text": [
      "\n",
      "Layer 16 texts:   0%|          | 0/100 [00:00<?, ?it/s]\u001b[A"
     ]
    },
    {
     "name": "stdout",
     "output_type": "stream",
     "text": [
      "📥 Loading model: google/gemma-2-2b\n"
     ]
    },
    {
     "name": "stderr",
     "output_type": "stream",
     "text": [
      "\n",
      "\n",
      "Loading checkpoint shards: 100%|██████████| 3/3 [00:00<00:00, 60.76it/s]\n"
     ]
    },
    {
     "name": "stdout",
     "output_type": "stream",
     "text": [
      "📥 Loading model: google/paligemma2-3b-pt-224\n"
     ]
    },
    {
     "name": "stderr",
     "output_type": "stream",
     "text": [
      "\n",
      "\n",
      "Loading checkpoint shards:   0%|          | 0/2 [00:00<?, ?it/s]\u001b[A\u001b[A\n",
      "\n",
      "Loading checkpoint shards:  50%|█████     | 1/2 [00:00<00:00,  1.25it/s]\u001b[A\u001b[A\n",
      "\n",
      "Loading checkpoint shards: 100%|██████████| 2/2 [00:00<00:00,  2.04it/s]\u001b[A\u001b[A\n",
      "\n",
      "Layer 16 texts:   1%|          | 1/100 [00:11<19:26, 11.78s/it]\u001b[A"
     ]
    },
    {
     "name": "stdout",
     "output_type": "stream",
     "text": [
      "⚠️  No logits available for google/paligemma2-3b-pt-224, using zero loss\n",
      "📥 Loading model: google/gemma-2-2b\n"
     ]
    },
    {
     "name": "stderr",
     "output_type": "stream",
     "text": [
      "\n",
      "\n",
      "Loading checkpoint shards: 100%|██████████| 3/3 [00:00<00:00, 59.73it/s]\n"
     ]
    },
    {
     "name": "stdout",
     "output_type": "stream",
     "text": [
      "📥 Loading model: google/paligemma2-3b-pt-224\n"
     ]
    },
    {
     "name": "stderr",
     "output_type": "stream",
     "text": [
      "\n",
      "\n",
      "Loading checkpoint shards:   0%|          | 0/2 [00:00<?, ?it/s]\u001b[A\u001b[A\n",
      "\n",
      "Loading checkpoint shards:  50%|█████     | 1/2 [00:00<00:00,  1.25it/s]\u001b[A\u001b[A\n",
      "\n",
      "Loading checkpoint shards: 100%|██████████| 2/2 [00:00<00:00,  2.06it/s]\u001b[A\u001b[A\n",
      "\n",
      "Layer 16 texts:   2%|▏         | 2/100 [00:23<19:23, 11.88s/it]\u001b[A"
     ]
    },
    {
     "name": "stdout",
     "output_type": "stream",
     "text": [
      "⚠️  No logits available for google/paligemma2-3b-pt-224, using zero loss\n",
      "📥 Loading model: google/gemma-2-2b\n"
     ]
    },
    {
     "name": "stderr",
     "output_type": "stream",
     "text": [
      "\n",
      "\n",
      "Loading checkpoint shards: 100%|██████████| 3/3 [00:00<00:00, 60.57it/s]\n"
     ]
    },
    {
     "name": "stdout",
     "output_type": "stream",
     "text": [
      "📥 Loading model: google/paligemma2-3b-pt-224\n"
     ]
    },
    {
     "name": "stderr",
     "output_type": "stream",
     "text": [
      "\n",
      "\n",
      "Loading checkpoint shards:   0%|          | 0/2 [00:00<?, ?it/s]\u001b[A\u001b[A\n",
      "\n",
      "Loading checkpoint shards:  50%|█████     | 1/2 [00:00<00:00,  1.23it/s]\u001b[A\u001b[A\n",
      "\n",
      "Loading checkpoint shards: 100%|██████████| 2/2 [00:00<00:00,  2.01it/s]\u001b[A\u001b[A\n",
      "\n",
      "Layer 16 texts:   3%|▎         | 3/100 [00:35<19:20, 11.96s/it]\u001b[A"
     ]
    },
    {
     "name": "stdout",
     "output_type": "stream",
     "text": [
      "⚠️  No logits available for google/paligemma2-3b-pt-224, using zero loss\n",
      "📥 Loading model: google/gemma-2-2b\n"
     ]
    },
    {
     "name": "stderr",
     "output_type": "stream",
     "text": [
      "\n",
      "\n",
      "Loading checkpoint shards: 100%|██████████| 3/3 [00:00<00:00, 59.27it/s]\n"
     ]
    },
    {
     "name": "stdout",
     "output_type": "stream",
     "text": [
      "📥 Loading model: google/paligemma2-3b-pt-224\n"
     ]
    },
    {
     "name": "stderr",
     "output_type": "stream",
     "text": [
      "\n",
      "\n",
      "Loading checkpoint shards:   0%|          | 0/2 [00:00<?, ?it/s]\u001b[A\u001b[A\n",
      "\n",
      "Loading checkpoint shards:  50%|█████     | 1/2 [00:00<00:00,  1.24it/s]\u001b[A\u001b[A\n",
      "\n",
      "Loading checkpoint shards: 100%|██████████| 2/2 [00:00<00:00,  2.03it/s]\u001b[A\u001b[A\n",
      "\n",
      "Layer 16 texts:   4%|▍         | 4/100 [00:47<19:12, 12.00s/it]\u001b[A"
     ]
    },
    {
     "name": "stdout",
     "output_type": "stream",
     "text": [
      "⚠️  No logits available for google/paligemma2-3b-pt-224, using zero loss\n",
      "📥 Loading model: google/gemma-2-2b\n"
     ]
    },
    {
     "name": "stderr",
     "output_type": "stream",
     "text": [
      "\n",
      "\n",
      "Loading checkpoint shards: 100%|██████████| 3/3 [00:00<00:00, 61.72it/s]\n"
     ]
    },
    {
     "name": "stdout",
     "output_type": "stream",
     "text": [
      "📥 Loading model: google/paligemma2-3b-pt-224\n"
     ]
    },
    {
     "name": "stderr",
     "output_type": "stream",
     "text": [
      "\n",
      "\n",
      "Loading checkpoint shards:   0%|          | 0/2 [00:00<?, ?it/s]\u001b[A\u001b[A\n",
      "\n",
      "Loading checkpoint shards:  50%|█████     | 1/2 [00:00<00:00,  1.24it/s]\u001b[A\u001b[A\n",
      "\n",
      "Loading checkpoint shards: 100%|██████████| 2/2 [00:00<00:00,  2.04it/s]\u001b[A\u001b[A\n",
      "\n",
      "Layer 16 texts:   5%|▌         | 5/100 [00:59<18:56, 11.96s/it]\u001b[A"
     ]
    },
    {
     "name": "stdout",
     "output_type": "stream",
     "text": [
      "⚠️  No logits available for google/paligemma2-3b-pt-224, using zero loss\n",
      "📥 Loading model: google/gemma-2-2b\n"
     ]
    },
    {
     "name": "stderr",
     "output_type": "stream",
     "text": [
      "\n",
      "\n",
      "Loading checkpoint shards: 100%|██████████| 3/3 [00:00<00:00, 61.62it/s]\n"
     ]
    },
    {
     "name": "stdout",
     "output_type": "stream",
     "text": [
      "📥 Loading model: google/paligemma2-3b-pt-224\n"
     ]
    },
    {
     "name": "stderr",
     "output_type": "stream",
     "text": [
      "\n",
      "\n",
      "Loading checkpoint shards:   0%|          | 0/2 [00:00<?, ?it/s]\u001b[A\u001b[A\n",
      "\n",
      "Loading checkpoint shards:  50%|█████     | 1/2 [00:00<00:00,  1.21it/s]\u001b[A\u001b[A\n",
      "\n",
      "Loading checkpoint shards: 100%|██████████| 2/2 [00:01<00:00,  1.97it/s]\u001b[A\u001b[A\n",
      "\n",
      "Layer 16 texts:   6%|▌         | 6/100 [01:11<18:40, 11.92s/it]\u001b[A"
     ]
    },
    {
     "name": "stdout",
     "output_type": "stream",
     "text": [
      "⚠️  No logits available for google/paligemma2-3b-pt-224, using zero loss\n",
      "📥 Loading model: google/gemma-2-2b\n"
     ]
    },
    {
     "name": "stderr",
     "output_type": "stream",
     "text": [
      "\n",
      "\n",
      "Loading checkpoint shards: 100%|██████████| 3/3 [00:00<00:00, 59.15it/s]\n"
     ]
    },
    {
     "name": "stdout",
     "output_type": "stream",
     "text": [
      "📥 Loading model: google/paligemma2-3b-pt-224\n"
     ]
    },
    {
     "name": "stderr",
     "output_type": "stream",
     "text": [
      "\n",
      "\n",
      "Loading checkpoint shards:   0%|          | 0/2 [00:00<?, ?it/s]\u001b[A\u001b[A\n",
      "\n",
      "Loading checkpoint shards:  50%|█████     | 1/2 [00:00<00:00,  1.25it/s]\u001b[A\u001b[A\n",
      "\n",
      "Loading checkpoint shards: 100%|██████████| 2/2 [00:00<00:00,  2.06it/s]\u001b[A\u001b[A\n",
      "\n",
      "Layer 16 texts:   7%|▋         | 7/100 [01:23<18:28, 11.92s/it]\u001b[A"
     ]
    },
    {
     "name": "stdout",
     "output_type": "stream",
     "text": [
      "⚠️  No logits available for google/paligemma2-3b-pt-224, using zero loss\n",
      "📥 Loading model: google/gemma-2-2b\n"
     ]
    },
    {
     "name": "stderr",
     "output_type": "stream",
     "text": [
      "\n",
      "\n",
      "Loading checkpoint shards: 100%|██████████| 3/3 [00:00<00:00, 60.68it/s]\n"
     ]
    },
    {
     "name": "stdout",
     "output_type": "stream",
     "text": [
      "📥 Loading model: google/paligemma2-3b-pt-224\n"
     ]
    },
    {
     "name": "stderr",
     "output_type": "stream",
     "text": [
      "\n",
      "\n",
      "Loading checkpoint shards:   0%|          | 0/2 [00:00<?, ?it/s]\u001b[A\u001b[A\n",
      "\n",
      "Loading checkpoint shards:  50%|█████     | 1/2 [00:00<00:00,  1.30it/s]\u001b[A\u001b[A\n",
      "\n",
      "Loading checkpoint shards: 100%|██████████| 2/2 [00:00<00:00,  2.13it/s]\u001b[A\u001b[A\n",
      "\n",
      "Layer 16 texts:   8%|▊         | 8/100 [01:35<18:13, 11.88s/it]\u001b[A"
     ]
    },
    {
     "name": "stdout",
     "output_type": "stream",
     "text": [
      "⚠️  No logits available for google/paligemma2-3b-pt-224, using zero loss\n",
      "📥 Loading model: google/gemma-2-2b\n"
     ]
    },
    {
     "name": "stderr",
     "output_type": "stream",
     "text": [
      "\n",
      "\n",
      "Loading checkpoint shards: 100%|██████████| 3/3 [00:00<00:00, 61.51it/s]\n"
     ]
    },
    {
     "name": "stdout",
     "output_type": "stream",
     "text": [
      "📥 Loading model: google/paligemma2-3b-pt-224\n"
     ]
    },
    {
     "name": "stderr",
     "output_type": "stream",
     "text": [
      "\n",
      "\n",
      "Loading checkpoint shards:   0%|          | 0/2 [00:00<?, ?it/s]\u001b[A\u001b[A\n",
      "\n",
      "Loading checkpoint shards:  50%|█████     | 1/2 [00:00<00:00,  1.27it/s]\u001b[A\u001b[A\n",
      "\n",
      "Loading checkpoint shards: 100%|██████████| 2/2 [00:00<00:00,  2.08it/s]\u001b[A\u001b[A\n",
      "\n",
      "Layer 16 texts:   9%|▉         | 9/100 [01:47<17:58, 11.85s/it]\u001b[A"
     ]
    },
    {
     "name": "stdout",
     "output_type": "stream",
     "text": [
      "⚠️  No logits available for google/paligemma2-3b-pt-224, using zero loss\n",
      "📥 Loading model: google/gemma-2-2b\n"
     ]
    },
    {
     "name": "stderr",
     "output_type": "stream",
     "text": [
      "\n",
      "\n",
      "Loading checkpoint shards: 100%|██████████| 3/3 [00:00<00:00, 59.38it/s]\n"
     ]
    },
    {
     "name": "stdout",
     "output_type": "stream",
     "text": [
      "📥 Loading model: google/paligemma2-3b-pt-224\n"
     ]
    },
    {
     "name": "stderr",
     "output_type": "stream",
     "text": [
      "\n",
      "\n",
      "Loading checkpoint shards:   0%|          | 0/2 [00:00<?, ?it/s]\u001b[A\u001b[A\n",
      "\n",
      "Loading checkpoint shards:  50%|█████     | 1/2 [00:00<00:00,  1.28it/s]\u001b[A\u001b[A\n",
      "\n",
      "Loading checkpoint shards: 100%|██████████| 2/2 [00:00<00:00,  2.06it/s]\u001b[A\u001b[A\n",
      "\n",
      "Layer 16 texts:  10%|█         | 10/100 [01:59<17:56, 11.96s/it]\u001b[A"
     ]
    },
    {
     "name": "stdout",
     "output_type": "stream",
     "text": [
      "⚠️  No logits available for google/paligemma2-3b-pt-224, using zero loss\n",
      "📥 Loading model: google/gemma-2-2b\n"
     ]
    },
    {
     "name": "stderr",
     "output_type": "stream",
     "text": [
      "\n",
      "\n",
      "Loading checkpoint shards: 100%|██████████| 3/3 [00:00<00:00, 59.27it/s]\n"
     ]
    },
    {
     "name": "stdout",
     "output_type": "stream",
     "text": [
      "📥 Loading model: google/paligemma2-3b-pt-224\n"
     ]
    },
    {
     "name": "stderr",
     "output_type": "stream",
     "text": [
      "\n",
      "\n",
      "Loading checkpoint shards:   0%|          | 0/2 [00:00<?, ?it/s]\u001b[A\u001b[A\n",
      "\n",
      "Loading checkpoint shards:  50%|█████     | 1/2 [00:00<00:00,  1.32it/s]\u001b[A\u001b[A\n",
      "\n",
      "Loading checkpoint shards: 100%|██████████| 2/2 [00:00<00:00,  2.14it/s]\u001b[A\u001b[A\n",
      "\n",
      "Layer 16 texts:  11%|█         | 11/100 [02:11<17:40, 11.91s/it]\u001b[A"
     ]
    },
    {
     "name": "stdout",
     "output_type": "stream",
     "text": [
      "⚠️  No logits available for google/paligemma2-3b-pt-224, using zero loss\n",
      "📥 Loading model: google/gemma-2-2b\n"
     ]
    },
    {
     "name": "stderr",
     "output_type": "stream",
     "text": [
      "\n",
      "\n",
      "Loading checkpoint shards: 100%|██████████| 3/3 [00:00<00:00, 61.27it/s]\n"
     ]
    },
    {
     "name": "stdout",
     "output_type": "stream",
     "text": [
      "📥 Loading model: google/paligemma2-3b-pt-224\n"
     ]
    },
    {
     "name": "stderr",
     "output_type": "stream",
     "text": [
      "\n",
      "\n",
      "Loading checkpoint shards:   0%|          | 0/2 [00:00<?, ?it/s]\u001b[A\u001b[A\n",
      "\n",
      "Loading checkpoint shards:  50%|█████     | 1/2 [00:00<00:00,  1.29it/s]\u001b[A\u001b[A\n",
      "\n",
      "Loading checkpoint shards: 100%|██████████| 2/2 [00:00<00:00,  2.12it/s]\u001b[A\u001b[A\n",
      "\n",
      "Layer 16 texts:  12%|█▏        | 12/100 [02:22<17:24, 11.87s/it]\u001b[A"
     ]
    },
    {
     "name": "stdout",
     "output_type": "stream",
     "text": [
      "⚠️  No logits available for google/paligemma2-3b-pt-224, using zero loss\n",
      "📥 Loading model: google/gemma-2-2b\n"
     ]
    },
    {
     "name": "stderr",
     "output_type": "stream",
     "text": [
      "\n",
      "\n",
      "Loading checkpoint shards: 100%|██████████| 3/3 [00:00<00:00, 59.74it/s]\n"
     ]
    },
    {
     "name": "stdout",
     "output_type": "stream",
     "text": [
      "📥 Loading model: google/paligemma2-3b-pt-224\n"
     ]
    },
    {
     "name": "stderr",
     "output_type": "stream",
     "text": [
      "\n",
      "\n",
      "Loading checkpoint shards:   0%|          | 0/2 [00:00<?, ?it/s]\u001b[A\u001b[A\n",
      "\n",
      "Loading checkpoint shards:  50%|█████     | 1/2 [00:00<00:00,  1.29it/s]\u001b[A\u001b[A\n",
      "\n",
      "Loading checkpoint shards: 100%|██████████| 2/2 [00:00<00:00,  2.10it/s]\u001b[A\u001b[A\n",
      "\n",
      "Layer 16 texts:  13%|█▎        | 13/100 [02:34<17:15, 11.90s/it]\u001b[A"
     ]
    },
    {
     "name": "stdout",
     "output_type": "stream",
     "text": [
      "⚠️  No logits available for google/paligemma2-3b-pt-224, using zero loss\n",
      "📥 Loading model: google/gemma-2-2b\n"
     ]
    },
    {
     "name": "stderr",
     "output_type": "stream",
     "text": [
      "\n",
      "\n",
      "Loading checkpoint shards: 100%|██████████| 3/3 [00:00<00:00, 60.21it/s]\n"
     ]
    },
    {
     "name": "stdout",
     "output_type": "stream",
     "text": [
      "📥 Loading model: google/paligemma2-3b-pt-224\n"
     ]
    },
    {
     "name": "stderr",
     "output_type": "stream",
     "text": [
      "\n",
      "\n",
      "Loading checkpoint shards:   0%|          | 0/2 [00:00<?, ?it/s]\u001b[A\u001b[A\n",
      "\n",
      "Loading checkpoint shards:  50%|█████     | 1/2 [00:00<00:00,  1.28it/s]\u001b[A\u001b[A\n",
      "\n",
      "Loading checkpoint shards: 100%|██████████| 2/2 [00:00<00:00,  2.09it/s]\u001b[A\u001b[A\n",
      "\n",
      "Layer 16 texts:  14%|█▍        | 14/100 [02:46<17:08, 11.96s/it]\u001b[A"
     ]
    },
    {
     "name": "stdout",
     "output_type": "stream",
     "text": [
      "⚠️  No logits available for google/paligemma2-3b-pt-224, using zero loss\n",
      "📥 Loading model: google/gemma-2-2b\n"
     ]
    },
    {
     "name": "stderr",
     "output_type": "stream",
     "text": [
      "\n",
      "\n",
      "Loading checkpoint shards: 100%|██████████| 3/3 [00:00<00:00, 60.82it/s]\n"
     ]
    },
    {
     "name": "stdout",
     "output_type": "stream",
     "text": [
      "📥 Loading model: google/paligemma2-3b-pt-224\n"
     ]
    },
    {
     "name": "stderr",
     "output_type": "stream",
     "text": [
      "\n",
      "\n",
      "Loading checkpoint shards:   0%|          | 0/2 [00:00<?, ?it/s]\u001b[A\u001b[A\n",
      "\n",
      "Loading checkpoint shards:  50%|█████     | 1/2 [00:00<00:00,  1.29it/s]\u001b[A\u001b[A\n",
      "\n",
      "Loading checkpoint shards: 100%|██████████| 2/2 [00:00<00:00,  2.11it/s]\u001b[A\u001b[A\n",
      "\n",
      "Layer 16 texts:  15%|█▌        | 15/100 [02:58<16:55, 11.95s/it]\u001b[A"
     ]
    },
    {
     "name": "stdout",
     "output_type": "stream",
     "text": [
      "⚠️  No logits available for google/paligemma2-3b-pt-224, using zero loss\n",
      "📥 Loading model: google/gemma-2-2b\n"
     ]
    },
    {
     "name": "stderr",
     "output_type": "stream",
     "text": [
      "\n",
      "\n",
      "Loading checkpoint shards: 100%|██████████| 3/3 [00:00<00:00, 61.75it/s]\n"
     ]
    },
    {
     "name": "stdout",
     "output_type": "stream",
     "text": [
      "📥 Loading model: google/paligemma2-3b-pt-224\n"
     ]
    },
    {
     "name": "stderr",
     "output_type": "stream",
     "text": [
      "\n",
      "\n",
      "Loading checkpoint shards:   0%|          | 0/2 [00:00<?, ?it/s]\u001b[A\u001b[A\n",
      "\n",
      "Loading checkpoint shards:  50%|█████     | 1/2 [00:00<00:00,  1.28it/s]\u001b[A\u001b[A\n",
      "\n",
      "Loading checkpoint shards: 100%|██████████| 2/2 [00:00<00:00,  2.08it/s]\u001b[A\u001b[A\n",
      "\n",
      "Layer 16 texts:  16%|█▌        | 16/100 [03:10<16:42, 11.94s/it]\u001b[A"
     ]
    },
    {
     "name": "stdout",
     "output_type": "stream",
     "text": [
      "⚠️  No logits available for google/paligemma2-3b-pt-224, using zero loss\n",
      "📥 Loading model: google/gemma-2-2b\n"
     ]
    },
    {
     "name": "stderr",
     "output_type": "stream",
     "text": [
      "\n",
      "\n",
      "Loading checkpoint shards: 100%|██████████| 3/3 [00:00<00:00, 60.16it/s]\n"
     ]
    },
    {
     "name": "stdout",
     "output_type": "stream",
     "text": [
      "📥 Loading model: google/paligemma2-3b-pt-224\n"
     ]
    },
    {
     "name": "stderr",
     "output_type": "stream",
     "text": [
      "\n",
      "\n",
      "Loading checkpoint shards:   0%|          | 0/2 [00:00<?, ?it/s]\u001b[A\u001b[A\n",
      "\n",
      "Loading checkpoint shards:  50%|█████     | 1/2 [00:00<00:00,  1.29it/s]\u001b[A\u001b[A\n",
      "\n",
      "Loading checkpoint shards: 100%|██████████| 2/2 [00:00<00:00,  2.09it/s]\u001b[A\u001b[A\n",
      "\n",
      "Layer 16 texts:  17%|█▋        | 17/100 [03:22<16:26, 11.89s/it]\u001b[A"
     ]
    },
    {
     "name": "stdout",
     "output_type": "stream",
     "text": [
      "⚠️  No logits available for google/paligemma2-3b-pt-224, using zero loss\n",
      "📥 Loading model: google/gemma-2-2b\n"
     ]
    },
    {
     "name": "stderr",
     "output_type": "stream",
     "text": [
      "\n",
      "\n",
      "Loading checkpoint shards: 100%|██████████| 3/3 [00:00<00:00, 60.62it/s]\n"
     ]
    },
    {
     "name": "stdout",
     "output_type": "stream",
     "text": [
      "📥 Loading model: google/paligemma2-3b-pt-224\n"
     ]
    },
    {
     "name": "stderr",
     "output_type": "stream",
     "text": [
      "\n",
      "\n",
      "Loading checkpoint shards:   0%|          | 0/2 [00:00<?, ?it/s]\u001b[A\u001b[A\n",
      "\n",
      "Loading checkpoint shards:  50%|█████     | 1/2 [00:00<00:00,  1.30it/s]\u001b[A\u001b[A\n",
      "\n",
      "Loading checkpoint shards: 100%|██████████| 2/2 [00:00<00:00,  2.12it/s]\u001b[A\u001b[A\n",
      "\n",
      "Layer 16 texts:  18%|█▊        | 18/100 [03:34<16:11, 11.85s/it]\u001b[A"
     ]
    },
    {
     "name": "stdout",
     "output_type": "stream",
     "text": [
      "⚠️  No logits available for google/paligemma2-3b-pt-224, using zero loss\n",
      "📥 Loading model: google/gemma-2-2b\n"
     ]
    },
    {
     "name": "stderr",
     "output_type": "stream",
     "text": [
      "\n",
      "\n",
      "Loading checkpoint shards: 100%|██████████| 3/3 [00:00<00:00, 62.36it/s]\n"
     ]
    },
    {
     "name": "stdout",
     "output_type": "stream",
     "text": [
      "📥 Loading model: google/paligemma2-3b-pt-224\n"
     ]
    },
    {
     "name": "stderr",
     "output_type": "stream",
     "text": [
      "\n",
      "\n",
      "Loading checkpoint shards:   0%|          | 0/2 [00:00<?, ?it/s]\u001b[A\u001b[A\n",
      "\n",
      "Loading checkpoint shards:  50%|█████     | 1/2 [00:00<00:00,  1.26it/s]\u001b[A\u001b[A\n",
      "\n",
      "Loading checkpoint shards: 100%|██████████| 2/2 [00:00<00:00,  2.07it/s]\u001b[A\u001b[A\n",
      "\n",
      "Layer 16 texts:  19%|█▉        | 19/100 [03:46<16:00, 11.86s/it]\u001b[A"
     ]
    },
    {
     "name": "stdout",
     "output_type": "stream",
     "text": [
      "⚠️  No logits available for google/paligemma2-3b-pt-224, using zero loss\n",
      "📥 Loading model: google/gemma-2-2b\n"
     ]
    },
    {
     "name": "stderr",
     "output_type": "stream",
     "text": [
      "\n",
      "\n",
      "Loading checkpoint shards: 100%|██████████| 3/3 [00:00<00:00, 59.66it/s]\n"
     ]
    },
    {
     "name": "stdout",
     "output_type": "stream",
     "text": [
      "📥 Loading model: google/paligemma2-3b-pt-224\n"
     ]
    },
    {
     "name": "stderr",
     "output_type": "stream",
     "text": [
      "\n",
      "\n",
      "Loading checkpoint shards:   0%|          | 0/2 [00:00<?, ?it/s]\u001b[A\u001b[A\n",
      "\n",
      "Loading checkpoint shards:  50%|█████     | 1/2 [00:00<00:00,  1.29it/s]\u001b[A\u001b[A\n",
      "\n",
      "Loading checkpoint shards: 100%|██████████| 2/2 [00:00<00:00,  2.10it/s]\u001b[A\u001b[A\n",
      "\n",
      "Layer 16 texts:  20%|██        | 20/100 [03:58<15:48, 11.86s/it]\u001b[A"
     ]
    },
    {
     "name": "stdout",
     "output_type": "stream",
     "text": [
      "⚠️  No logits available for google/paligemma2-3b-pt-224, using zero loss\n",
      "📥 Loading model: google/gemma-2-2b\n"
     ]
    },
    {
     "name": "stderr",
     "output_type": "stream",
     "text": [
      "\n",
      "\n",
      "Loading checkpoint shards: 100%|██████████| 3/3 [00:00<00:00, 58.81it/s]\n"
     ]
    },
    {
     "name": "stdout",
     "output_type": "stream",
     "text": [
      "📥 Loading model: google/paligemma2-3b-pt-224\n"
     ]
    },
    {
     "name": "stderr",
     "output_type": "stream",
     "text": [
      "\n",
      "\n",
      "Loading checkpoint shards:   0%|          | 0/2 [00:00<?, ?it/s]\u001b[A\u001b[A\n",
      "\n",
      "Loading checkpoint shards:  50%|█████     | 1/2 [00:00<00:00,  1.29it/s]\u001b[A\u001b[A\n",
      "\n",
      "Loading checkpoint shards: 100%|██████████| 2/2 [00:00<00:00,  2.10it/s]\u001b[A\u001b[A\n",
      "\n",
      "Layer 16 texts:  21%|██        | 21/100 [04:09<15:36, 11.86s/it]\u001b[A"
     ]
    },
    {
     "name": "stdout",
     "output_type": "stream",
     "text": [
      "⚠️  No logits available for google/paligemma2-3b-pt-224, using zero loss\n",
      "📥 Loading model: google/gemma-2-2b\n"
     ]
    },
    {
     "name": "stderr",
     "output_type": "stream",
     "text": [
      "\n",
      "\n",
      "Loading checkpoint shards: 100%|██████████| 3/3 [00:00<00:00, 60.58it/s]\n"
     ]
    },
    {
     "name": "stdout",
     "output_type": "stream",
     "text": [
      "📥 Loading model: google/paligemma2-3b-pt-224\n"
     ]
    },
    {
     "name": "stderr",
     "output_type": "stream",
     "text": [
      "\n",
      "\n",
      "Loading checkpoint shards:   0%|          | 0/2 [00:00<?, ?it/s]\u001b[A\u001b[A\n",
      "\n",
      "Loading checkpoint shards:  50%|█████     | 1/2 [00:00<00:00,  1.26it/s]\u001b[A\u001b[A\n",
      "\n",
      "Loading checkpoint shards: 100%|██████████| 2/2 [00:00<00:00,  2.06it/s]\u001b[A\u001b[A\n",
      "\n",
      "Layer 16 texts:  22%|██▏       | 22/100 [04:21<15:26, 11.87s/it]\u001b[A"
     ]
    },
    {
     "name": "stdout",
     "output_type": "stream",
     "text": [
      "⚠️  No logits available for google/paligemma2-3b-pt-224, using zero loss\n",
      "📥 Loading model: google/gemma-2-2b\n"
     ]
    },
    {
     "name": "stderr",
     "output_type": "stream",
     "text": [
      "\n",
      "\n",
      "Loading checkpoint shards: 100%|██████████| 3/3 [00:00<00:00, 61.18it/s]\n"
     ]
    },
    {
     "name": "stdout",
     "output_type": "stream",
     "text": [
      "📥 Loading model: google/paligemma2-3b-pt-224\n"
     ]
    },
    {
     "name": "stderr",
     "output_type": "stream",
     "text": [
      "\n",
      "\n",
      "Loading checkpoint shards:   0%|          | 0/2 [00:00<?, ?it/s]\u001b[A\u001b[A\n",
      "\n",
      "Loading checkpoint shards:  50%|█████     | 1/2 [00:00<00:00,  1.27it/s]\u001b[A\u001b[A\n",
      "\n",
      "Loading checkpoint shards: 100%|██████████| 2/2 [00:00<00:00,  2.08it/s]\u001b[A\u001b[A\n",
      "\n",
      "Layer 16 texts:  23%|██▎       | 23/100 [04:33<15:12, 11.85s/it]\u001b[A"
     ]
    },
    {
     "name": "stdout",
     "output_type": "stream",
     "text": [
      "⚠️  No logits available for google/paligemma2-3b-pt-224, using zero loss\n",
      "📥 Loading model: google/gemma-2-2b\n"
     ]
    },
    {
     "name": "stderr",
     "output_type": "stream",
     "text": [
      "\n",
      "\n",
      "Loading checkpoint shards: 100%|██████████| 3/3 [00:00<00:00, 59.01it/s]\n"
     ]
    },
    {
     "name": "stdout",
     "output_type": "stream",
     "text": [
      "📥 Loading model: google/paligemma2-3b-pt-224\n"
     ]
    },
    {
     "name": "stderr",
     "output_type": "stream",
     "text": [
      "\n",
      "\n",
      "Loading checkpoint shards:   0%|          | 0/2 [00:00<?, ?it/s]\u001b[A\u001b[A\n",
      "\n",
      "Loading checkpoint shards:  50%|█████     | 1/2 [00:00<00:00,  1.26it/s]\u001b[A\u001b[A\n",
      "\n",
      "Loading checkpoint shards: 100%|██████████| 2/2 [00:00<00:00,  2.06it/s]\u001b[A\u001b[A\n",
      "\n",
      "Layer 16 texts:  24%|██▍       | 24/100 [04:45<15:00, 11.84s/it]\u001b[A"
     ]
    },
    {
     "name": "stdout",
     "output_type": "stream",
     "text": [
      "⚠️  No logits available for google/paligemma2-3b-pt-224, using zero loss\n",
      "📥 Loading model: google/gemma-2-2b\n"
     ]
    },
    {
     "name": "stderr",
     "output_type": "stream",
     "text": [
      "\n",
      "\n",
      "Loading checkpoint shards: 100%|██████████| 3/3 [00:00<00:00, 56.88it/s]\n"
     ]
    },
    {
     "name": "stdout",
     "output_type": "stream",
     "text": [
      "📥 Loading model: google/paligemma2-3b-pt-224\n"
     ]
    },
    {
     "name": "stderr",
     "output_type": "stream",
     "text": [
      "\n",
      "\n",
      "Loading checkpoint shards:   0%|          | 0/2 [00:00<?, ?it/s]\u001b[A\u001b[A\n",
      "\n",
      "Loading checkpoint shards:  50%|█████     | 1/2 [00:00<00:00,  1.30it/s]\u001b[A\u001b[A\n",
      "\n",
      "Loading checkpoint shards: 100%|██████████| 2/2 [00:00<00:00,  2.12it/s]\u001b[A\u001b[A\n",
      "\n",
      "Layer 16 texts:  25%|██▌       | 25/100 [04:57<14:46, 11.82s/it]\u001b[A"
     ]
    },
    {
     "name": "stdout",
     "output_type": "stream",
     "text": [
      "⚠️  No logits available for google/paligemma2-3b-pt-224, using zero loss\n",
      "📥 Loading model: google/gemma-2-2b\n"
     ]
    },
    {
     "name": "stderr",
     "output_type": "stream",
     "text": [
      "\n",
      "\n",
      "Loading checkpoint shards: 100%|██████████| 3/3 [00:00<00:00, 60.35it/s]\n"
     ]
    },
    {
     "name": "stdout",
     "output_type": "stream",
     "text": [
      "📥 Loading model: google/paligemma2-3b-pt-224\n"
     ]
    },
    {
     "name": "stderr",
     "output_type": "stream",
     "text": [
      "\n",
      "\n",
      "Loading checkpoint shards:   0%|          | 0/2 [00:00<?, ?it/s]\u001b[A\u001b[A\n",
      "\n",
      "Loading checkpoint shards:  50%|█████     | 1/2 [00:00<00:00,  1.29it/s]\u001b[A\u001b[A\n",
      "\n",
      "Loading checkpoint shards: 100%|██████████| 2/2 [00:00<00:00,  2.11it/s]\u001b[A\u001b[A\n",
      "\n",
      "Layer 16 texts:  26%|██▌       | 26/100 [05:09<14:39, 11.88s/it]\u001b[A"
     ]
    },
    {
     "name": "stdout",
     "output_type": "stream",
     "text": [
      "⚠️  No logits available for google/paligemma2-3b-pt-224, using zero loss\n",
      "📥 Loading model: google/gemma-2-2b\n"
     ]
    },
    {
     "name": "stderr",
     "output_type": "stream",
     "text": [
      "\n",
      "\n",
      "Loading checkpoint shards: 100%|██████████| 3/3 [00:00<00:00, 61.08it/s]\n"
     ]
    },
    {
     "name": "stdout",
     "output_type": "stream",
     "text": [
      "📥 Loading model: google/paligemma2-3b-pt-224\n"
     ]
    },
    {
     "name": "stderr",
     "output_type": "stream",
     "text": [
      "\n",
      "\n",
      "Loading checkpoint shards:   0%|          | 0/2 [00:00<?, ?it/s]\u001b[A\u001b[A\n",
      "\n",
      "Loading checkpoint shards:  50%|█████     | 1/2 [00:00<00:00,  1.24it/s]\u001b[A\u001b[A\n",
      "\n",
      "Loading checkpoint shards: 100%|██████████| 2/2 [00:00<00:00,  2.03it/s]\u001b[A\u001b[A\n",
      "\n",
      "Layer 16 texts:  27%|██▋       | 27/100 [05:21<14:29, 11.92s/it]\u001b[A"
     ]
    },
    {
     "name": "stdout",
     "output_type": "stream",
     "text": [
      "⚠️  No logits available for google/paligemma2-3b-pt-224, using zero loss\n",
      "📥 Loading model: google/gemma-2-2b\n"
     ]
    },
    {
     "name": "stderr",
     "output_type": "stream",
     "text": [
      "\n",
      "\n",
      "Loading checkpoint shards: 100%|██████████| 3/3 [00:00<00:00, 60.94it/s]\n"
     ]
    },
    {
     "name": "stdout",
     "output_type": "stream",
     "text": [
      "📥 Loading model: google/paligemma2-3b-pt-224\n"
     ]
    },
    {
     "name": "stderr",
     "output_type": "stream",
     "text": [
      "\n",
      "\n",
      "Loading checkpoint shards:   0%|          | 0/2 [00:00<?, ?it/s]\u001b[A\u001b[A\n",
      "\n",
      "Loading checkpoint shards:  50%|█████     | 1/2 [00:00<00:00,  1.28it/s]\u001b[A\u001b[A\n",
      "\n",
      "Loading checkpoint shards: 100%|██████████| 2/2 [00:00<00:00,  2.07it/s]\u001b[A\u001b[A\n",
      "\n",
      "Layer 16 texts:  28%|██▊       | 28/100 [05:33<14:19, 11.94s/it]\u001b[A"
     ]
    },
    {
     "name": "stdout",
     "output_type": "stream",
     "text": [
      "⚠️  No logits available for google/paligemma2-3b-pt-224, using zero loss\n",
      "📥 Loading model: google/gemma-2-2b\n"
     ]
    },
    {
     "name": "stderr",
     "output_type": "stream",
     "text": [
      "\n",
      "\n",
      "Loading checkpoint shards: 100%|██████████| 3/3 [00:00<00:00, 61.26it/s]\n"
     ]
    },
    {
     "name": "stdout",
     "output_type": "stream",
     "text": [
      "📥 Loading model: google/paligemma2-3b-pt-224\n"
     ]
    },
    {
     "name": "stderr",
     "output_type": "stream",
     "text": [
      "\n",
      "\n",
      "Loading checkpoint shards:   0%|          | 0/2 [00:00<?, ?it/s]\u001b[A\u001b[A\n",
      "\n",
      "Loading checkpoint shards:  50%|█████     | 1/2 [00:00<00:00,  1.29it/s]\u001b[A\u001b[A\n",
      "\n",
      "Loading checkpoint shards: 100%|██████████| 2/2 [00:00<00:00,  2.08it/s]\u001b[A\u001b[A\n",
      "\n",
      "Layer 16 texts:  29%|██▉       | 29/100 [05:45<14:04, 11.90s/it]\u001b[A"
     ]
    },
    {
     "name": "stdout",
     "output_type": "stream",
     "text": [
      "⚠️  No logits available for google/paligemma2-3b-pt-224, using zero loss\n",
      "📥 Loading model: google/gemma-2-2b\n"
     ]
    },
    {
     "name": "stderr",
     "output_type": "stream",
     "text": [
      "\n",
      "\n",
      "Loading checkpoint shards: 100%|██████████| 3/3 [00:00<00:00, 61.18it/s]\n"
     ]
    },
    {
     "name": "stdout",
     "output_type": "stream",
     "text": [
      "📥 Loading model: google/paligemma2-3b-pt-224\n"
     ]
    },
    {
     "name": "stderr",
     "output_type": "stream",
     "text": [
      "\n",
      "\n",
      "Loading checkpoint shards:   0%|          | 0/2 [00:00<?, ?it/s]\u001b[A\u001b[A\n",
      "\n",
      "Loading checkpoint shards:  50%|█████     | 1/2 [00:00<00:00,  1.21it/s]\u001b[A\u001b[A\n",
      "\n",
      "Loading checkpoint shards: 100%|██████████| 2/2 [00:01<00:00,  1.99it/s]\u001b[A\u001b[A\n",
      "\n",
      "Layer 16 texts:  30%|███       | 30/100 [05:57<13:56, 11.94s/it]\u001b[A"
     ]
    },
    {
     "name": "stdout",
     "output_type": "stream",
     "text": [
      "⚠️  No logits available for google/paligemma2-3b-pt-224, using zero loss\n",
      "📥 Loading model: google/gemma-2-2b\n"
     ]
    },
    {
     "name": "stderr",
     "output_type": "stream",
     "text": [
      "\n",
      "\n",
      "Loading checkpoint shards: 100%|██████████| 3/3 [00:00<00:00, 61.09it/s]\n"
     ]
    },
    {
     "name": "stdout",
     "output_type": "stream",
     "text": [
      "📥 Loading model: google/paligemma2-3b-pt-224\n"
     ]
    },
    {
     "name": "stderr",
     "output_type": "stream",
     "text": [
      "\n",
      "\n",
      "Loading checkpoint shards:   0%|          | 0/2 [00:00<?, ?it/s]\u001b[A\u001b[A\n",
      "\n",
      "Loading checkpoint shards:  50%|█████     | 1/2 [00:00<00:00,  1.29it/s]\u001b[A\u001b[A\n",
      "\n",
      "Loading checkpoint shards: 100%|██████████| 2/2 [00:00<00:00,  2.09it/s]\u001b[A\u001b[A\n",
      "\n",
      "Layer 16 texts:  31%|███       | 31/100 [06:08<13:40, 11.89s/it]\u001b[A"
     ]
    },
    {
     "name": "stdout",
     "output_type": "stream",
     "text": [
      "⚠️  No logits available for google/paligemma2-3b-pt-224, using zero loss\n",
      "📥 Loading model: google/gemma-2-2b\n"
     ]
    },
    {
     "name": "stderr",
     "output_type": "stream",
     "text": [
      "\n",
      "\n",
      "Loading checkpoint shards: 100%|██████████| 3/3 [00:00<00:00, 61.42it/s]\n"
     ]
    },
    {
     "name": "stdout",
     "output_type": "stream",
     "text": [
      "📥 Loading model: google/paligemma2-3b-pt-224\n"
     ]
    },
    {
     "name": "stderr",
     "output_type": "stream",
     "text": [
      "\n",
      "\n",
      "Loading checkpoint shards:   0%|          | 0/2 [00:00<?, ?it/s]\u001b[A\u001b[A\n",
      "\n",
      "Loading checkpoint shards:  50%|█████     | 1/2 [00:00<00:00,  1.28it/s]\u001b[A\u001b[A\n",
      "\n",
      "Loading checkpoint shards: 100%|██████████| 2/2 [00:00<00:00,  2.09it/s]\u001b[A\u001b[A\n",
      "\n",
      "Layer 16 texts:  32%|███▏      | 32/100 [06:20<13:27, 11.87s/it]\u001b[A"
     ]
    },
    {
     "name": "stdout",
     "output_type": "stream",
     "text": [
      "⚠️  No logits available for google/paligemma2-3b-pt-224, using zero loss\n",
      "📥 Loading model: google/gemma-2-2b\n"
     ]
    },
    {
     "name": "stderr",
     "output_type": "stream",
     "text": [
      "\n",
      "\n",
      "Loading checkpoint shards: 100%|██████████| 3/3 [00:00<00:00, 60.93it/s]\n"
     ]
    },
    {
     "name": "stdout",
     "output_type": "stream",
     "text": [
      "📥 Loading model: google/paligemma2-3b-pt-224\n"
     ]
    },
    {
     "name": "stderr",
     "output_type": "stream",
     "text": [
      "\n",
      "\n",
      "Loading checkpoint shards:   0%|          | 0/2 [00:00<?, ?it/s]\u001b[A\u001b[A\n",
      "\n",
      "Loading checkpoint shards:  50%|█████     | 1/2 [00:00<00:00,  1.25it/s]\u001b[A\u001b[A\n",
      "\n",
      "Loading checkpoint shards: 100%|██████████| 2/2 [00:00<00:00,  2.04it/s]\u001b[A\u001b[A\n",
      "\n",
      "Layer 16 texts:  33%|███▎      | 33/100 [06:32<13:18, 11.91s/it]\u001b[A"
     ]
    },
    {
     "name": "stdout",
     "output_type": "stream",
     "text": [
      "⚠️  No logits available for google/paligemma2-3b-pt-224, using zero loss\n",
      "📥 Loading model: google/gemma-2-2b\n"
     ]
    },
    {
     "name": "stderr",
     "output_type": "stream",
     "text": [
      "\n",
      "\n",
      "Loading checkpoint shards: 100%|██████████| 3/3 [00:00<00:00, 60.99it/s]\n"
     ]
    },
    {
     "name": "stdout",
     "output_type": "stream",
     "text": [
      "📥 Loading model: google/paligemma2-3b-pt-224\n"
     ]
    },
    {
     "name": "stderr",
     "output_type": "stream",
     "text": [
      "\n",
      "\n",
      "Loading checkpoint shards:   0%|          | 0/2 [00:00<?, ?it/s]\u001b[A\u001b[A\n",
      "\n",
      "Loading checkpoint shards:  50%|█████     | 1/2 [00:00<00:00,  1.28it/s]\u001b[A\u001b[A\n",
      "\n",
      "Loading checkpoint shards: 100%|██████████| 2/2 [00:00<00:00,  2.08it/s]\u001b[A\u001b[A\n",
      "\n",
      "Layer 16 texts:  34%|███▍      | 34/100 [06:44<13:02, 11.86s/it]\u001b[A"
     ]
    },
    {
     "name": "stdout",
     "output_type": "stream",
     "text": [
      "⚠️  No logits available for google/paligemma2-3b-pt-224, using zero loss\n",
      "📥 Loading model: google/gemma-2-2b\n"
     ]
    },
    {
     "name": "stderr",
     "output_type": "stream",
     "text": [
      "\n",
      "\n",
      "Loading checkpoint shards: 100%|██████████| 3/3 [00:00<00:00, 60.85it/s]\n"
     ]
    },
    {
     "name": "stdout",
     "output_type": "stream",
     "text": [
      "📥 Loading model: google/paligemma2-3b-pt-224\n"
     ]
    },
    {
     "name": "stderr",
     "output_type": "stream",
     "text": [
      "\n",
      "\n",
      "Loading checkpoint shards:   0%|          | 0/2 [00:00<?, ?it/s]\u001b[A\u001b[A\n",
      "\n",
      "Loading checkpoint shards:  50%|█████     | 1/2 [00:00<00:00,  1.27it/s]\u001b[A\u001b[A\n",
      "\n",
      "Loading checkpoint shards: 100%|██████████| 2/2 [00:00<00:00,  2.07it/s]\u001b[A\u001b[A\n",
      "\n",
      "Layer 16 texts:  35%|███▌      | 35/100 [06:56<12:50, 11.86s/it]\u001b[A"
     ]
    },
    {
     "name": "stdout",
     "output_type": "stream",
     "text": [
      "⚠️  No logits available for google/paligemma2-3b-pt-224, using zero loss\n",
      "📥 Loading model: google/gemma-2-2b\n"
     ]
    },
    {
     "name": "stderr",
     "output_type": "stream",
     "text": [
      "\n",
      "\n",
      "Loading checkpoint shards: 100%|██████████| 3/3 [00:00<00:00, 61.64it/s]\n"
     ]
    },
    {
     "name": "stdout",
     "output_type": "stream",
     "text": [
      "📥 Loading model: google/paligemma2-3b-pt-224\n"
     ]
    },
    {
     "name": "stderr",
     "output_type": "stream",
     "text": [
      "\n",
      "\n",
      "Loading checkpoint shards:   0%|          | 0/2 [00:00<?, ?it/s]\u001b[A\u001b[A\n",
      "\n",
      "Loading checkpoint shards:  50%|█████     | 1/2 [00:00<00:00,  1.24it/s]\u001b[A\u001b[A\n",
      "\n",
      "Loading checkpoint shards: 100%|██████████| 2/2 [00:00<00:00,  2.04it/s]\u001b[A\u001b[A\n",
      "\n",
      "Layer 16 texts:  36%|███▌      | 36/100 [07:08<12:39, 11.87s/it]\u001b[A"
     ]
    },
    {
     "name": "stdout",
     "output_type": "stream",
     "text": [
      "⚠️  No logits available for google/paligemma2-3b-pt-224, using zero loss\n",
      "📥 Loading model: google/gemma-2-2b\n"
     ]
    },
    {
     "name": "stderr",
     "output_type": "stream",
     "text": [
      "\n",
      "\n",
      "Loading checkpoint shards: 100%|██████████| 3/3 [00:00<00:00, 61.78it/s]\n"
     ]
    },
    {
     "name": "stdout",
     "output_type": "stream",
     "text": [
      "📥 Loading model: google/paligemma2-3b-pt-224\n"
     ]
    },
    {
     "name": "stderr",
     "output_type": "stream",
     "text": [
      "\n",
      "\n",
      "Loading checkpoint shards:   0%|          | 0/2 [00:00<?, ?it/s]\u001b[A\u001b[A\n",
      "\n",
      "Loading checkpoint shards:  50%|█████     | 1/2 [00:00<00:00,  1.23it/s]\u001b[A\u001b[A\n",
      "\n",
      "Loading checkpoint shards: 100%|██████████| 2/2 [00:00<00:00,  2.02it/s]\u001b[A\u001b[A\n",
      "\n",
      "Layer 16 texts:  37%|███▋      | 37/100 [07:19<12:26, 11.85s/it]\u001b[A"
     ]
    },
    {
     "name": "stdout",
     "output_type": "stream",
     "text": [
      "⚠️  No logits available for google/paligemma2-3b-pt-224, using zero loss\n",
      "📥 Loading model: google/gemma-2-2b\n"
     ]
    },
    {
     "name": "stderr",
     "output_type": "stream",
     "text": [
      "\n",
      "\n",
      "Loading checkpoint shards: 100%|██████████| 3/3 [00:00<00:00, 59.36it/s]\n"
     ]
    },
    {
     "name": "stdout",
     "output_type": "stream",
     "text": [
      "📥 Loading model: google/paligemma2-3b-pt-224\n"
     ]
    },
    {
     "name": "stderr",
     "output_type": "stream",
     "text": [
      "\n",
      "\n",
      "Loading checkpoint shards:   0%|          | 0/2 [00:00<?, ?it/s]\u001b[A\u001b[A\n",
      "\n",
      "Loading checkpoint shards:  50%|█████     | 1/2 [00:00<00:00,  1.26it/s]\u001b[A\u001b[A\n",
      "\n",
      "Loading checkpoint shards: 100%|██████████| 2/2 [00:00<00:00,  2.05it/s]\u001b[A\u001b[A\n",
      "\n",
      "Layer 16 texts:  38%|███▊      | 38/100 [07:31<12:16, 11.89s/it]\u001b[A"
     ]
    },
    {
     "name": "stdout",
     "output_type": "stream",
     "text": [
      "⚠️  No logits available for google/paligemma2-3b-pt-224, using zero loss\n",
      "📥 Loading model: google/gemma-2-2b\n"
     ]
    },
    {
     "name": "stderr",
     "output_type": "stream",
     "text": [
      "\n",
      "\n",
      "Loading checkpoint shards: 100%|██████████| 3/3 [00:00<00:00, 60.41it/s]\n"
     ]
    },
    {
     "name": "stdout",
     "output_type": "stream",
     "text": [
      "📥 Loading model: google/paligemma2-3b-pt-224\n"
     ]
    },
    {
     "name": "stderr",
     "output_type": "stream",
     "text": [
      "\n",
      "\n",
      "Loading checkpoint shards:   0%|          | 0/2 [00:00<?, ?it/s]\u001b[A\u001b[A\n",
      "\n",
      "Loading checkpoint shards:  50%|█████     | 1/2 [00:00<00:00,  1.26it/s]\u001b[A\u001b[A\n",
      "\n",
      "Loading checkpoint shards: 100%|██████████| 2/2 [00:00<00:00,  2.07it/s]\u001b[A\u001b[A\n",
      "\n",
      "Layer 16 texts:  39%|███▉      | 39/100 [07:43<12:05, 11.90s/it]\u001b[A"
     ]
    },
    {
     "name": "stdout",
     "output_type": "stream",
     "text": [
      "⚠️  No logits available for google/paligemma2-3b-pt-224, using zero loss\n",
      "📥 Loading model: google/gemma-2-2b\n"
     ]
    },
    {
     "name": "stderr",
     "output_type": "stream",
     "text": [
      "\n",
      "\n",
      "Loading checkpoint shards: 100%|██████████| 3/3 [00:00<00:00, 58.90it/s]\n"
     ]
    },
    {
     "name": "stdout",
     "output_type": "stream",
     "text": [
      "📥 Loading model: google/paligemma2-3b-pt-224\n"
     ]
    },
    {
     "name": "stderr",
     "output_type": "stream",
     "text": [
      "\n",
      "\n",
      "Loading checkpoint shards:   0%|          | 0/2 [00:00<?, ?it/s]\u001b[A\u001b[A\n",
      "\n",
      "Loading checkpoint shards:  50%|█████     | 1/2 [00:00<00:00,  1.28it/s]\u001b[A\u001b[A\n",
      "\n",
      "Loading checkpoint shards: 100%|██████████| 2/2 [00:00<00:00,  2.08it/s]\u001b[A\u001b[A\n",
      "\n",
      "Layer 16 texts:  40%|████      | 40/100 [07:55<11:51, 11.86s/it]\u001b[A"
     ]
    },
    {
     "name": "stdout",
     "output_type": "stream",
     "text": [
      "⚠️  No logits available for google/paligemma2-3b-pt-224, using zero loss\n",
      "📥 Loading model: google/gemma-2-2b\n"
     ]
    },
    {
     "name": "stderr",
     "output_type": "stream",
     "text": [
      "\n",
      "\n",
      "Loading checkpoint shards: 100%|██████████| 3/3 [00:00<00:00, 60.07it/s]\n"
     ]
    },
    {
     "name": "stdout",
     "output_type": "stream",
     "text": [
      "📥 Loading model: google/paligemma2-3b-pt-224\n"
     ]
    },
    {
     "name": "stderr",
     "output_type": "stream",
     "text": [
      "\n",
      "\n",
      "Loading checkpoint shards:   0%|          | 0/2 [00:00<?, ?it/s]\u001b[A\u001b[A\n",
      "\n",
      "Loading checkpoint shards:  50%|█████     | 1/2 [00:00<00:00,  1.24it/s]\u001b[A\u001b[A\n",
      "\n",
      "Loading checkpoint shards: 100%|██████████| 2/2 [00:00<00:00,  2.04it/s]\u001b[A\u001b[A\n",
      "\n",
      "Layer 16 texts:  41%|████      | 41/100 [08:07<11:43, 11.92s/it]\u001b[A"
     ]
    },
    {
     "name": "stdout",
     "output_type": "stream",
     "text": [
      "⚠️  No logits available for google/paligemma2-3b-pt-224, using zero loss\n",
      "📥 Loading model: google/gemma-2-2b\n"
     ]
    },
    {
     "name": "stderr",
     "output_type": "stream",
     "text": [
      "\n",
      "\n",
      "Loading checkpoint shards: 100%|██████████| 3/3 [00:00<00:00, 61.72it/s]\n"
     ]
    },
    {
     "name": "stdout",
     "output_type": "stream",
     "text": [
      "📥 Loading model: google/paligemma2-3b-pt-224\n"
     ]
    },
    {
     "name": "stderr",
     "output_type": "stream",
     "text": [
      "\n",
      "\n",
      "Loading checkpoint shards:   0%|          | 0/2 [00:00<?, ?it/s]\u001b[A\u001b[A\n",
      "\n",
      "Loading checkpoint shards:  50%|█████     | 1/2 [00:00<00:00,  1.23it/s]\u001b[A\u001b[A\n",
      "\n",
      "Loading checkpoint shards: 100%|██████████| 2/2 [00:00<00:00,  2.01it/s]\u001b[A\u001b[A\n",
      "\n",
      "Layer 16 texts:  42%|████▏     | 42/100 [08:19<11:32, 11.95s/it]\u001b[A"
     ]
    },
    {
     "name": "stdout",
     "output_type": "stream",
     "text": [
      "⚠️  No logits available for google/paligemma2-3b-pt-224, using zero loss\n",
      "📥 Loading model: google/gemma-2-2b\n"
     ]
    },
    {
     "name": "stderr",
     "output_type": "stream",
     "text": [
      "\n",
      "\n",
      "Loading checkpoint shards: 100%|██████████| 3/3 [00:00<00:00, 59.33it/s]\n"
     ]
    },
    {
     "name": "stdout",
     "output_type": "stream",
     "text": [
      "📥 Loading model: google/paligemma2-3b-pt-224\n"
     ]
    },
    {
     "name": "stderr",
     "output_type": "stream",
     "text": [
      "\n",
      "\n",
      "Loading checkpoint shards:   0%|          | 0/2 [00:00<?, ?it/s]\u001b[A\u001b[A\n",
      "\n",
      "Loading checkpoint shards:  50%|█████     | 1/2 [00:00<00:00,  1.26it/s]\u001b[A\u001b[A\n",
      "\n",
      "Loading checkpoint shards: 100%|██████████| 2/2 [00:00<00:00,  2.02it/s]\u001b[A\u001b[A\n",
      "\n",
      "Layer 16 texts:  43%|████▎     | 43/100 [08:31<11:18, 11.90s/it]\u001b[A"
     ]
    },
    {
     "name": "stdout",
     "output_type": "stream",
     "text": [
      "⚠️  No logits available for google/paligemma2-3b-pt-224, using zero loss\n",
      "📥 Loading model: google/gemma-2-2b\n"
     ]
    },
    {
     "name": "stderr",
     "output_type": "stream",
     "text": [
      "\n",
      "\n",
      "Loading checkpoint shards: 100%|██████████| 3/3 [00:00<00:00, 60.21it/s]\n"
     ]
    },
    {
     "name": "stdout",
     "output_type": "stream",
     "text": [
      "📥 Loading model: google/paligemma2-3b-pt-224\n"
     ]
    },
    {
     "name": "stderr",
     "output_type": "stream",
     "text": [
      "\n",
      "\n",
      "Loading checkpoint shards:   0%|          | 0/2 [00:00<?, ?it/s]\u001b[A\u001b[A\n",
      "\n",
      "Loading checkpoint shards:  50%|█████     | 1/2 [00:00<00:00,  1.29it/s]\u001b[A\u001b[A\n",
      "\n",
      "Loading checkpoint shards: 100%|██████████| 2/2 [00:00<00:00,  2.11it/s]\u001b[A\u001b[A\n",
      "\n",
      "Layer 16 texts:  44%|████▍     | 44/100 [08:43<11:06, 11.90s/it]\u001b[A"
     ]
    },
    {
     "name": "stdout",
     "output_type": "stream",
     "text": [
      "⚠️  No logits available for google/paligemma2-3b-pt-224, using zero loss\n",
      "📥 Loading model: google/gemma-2-2b\n"
     ]
    },
    {
     "name": "stderr",
     "output_type": "stream",
     "text": [
      "\n",
      "\n",
      "Loading checkpoint shards: 100%|██████████| 3/3 [00:00<00:00, 57.75it/s]\n"
     ]
    },
    {
     "name": "stdout",
     "output_type": "stream",
     "text": [
      "📥 Loading model: google/paligemma2-3b-pt-224\n"
     ]
    },
    {
     "name": "stderr",
     "output_type": "stream",
     "text": [
      "\n",
      "\n",
      "Loading checkpoint shards:   0%|          | 0/2 [00:00<?, ?it/s]\u001b[A\u001b[A\n",
      "\n",
      "Loading checkpoint shards:  50%|█████     | 1/2 [00:00<00:00,  1.18it/s]\u001b[A\u001b[A\n",
      "\n",
      "Loading checkpoint shards: 100%|██████████| 2/2 [00:01<00:00,  1.95it/s]\u001b[A\u001b[A\n",
      "\n",
      "Layer 16 texts:  45%|████▌     | 45/100 [08:55<10:58, 11.96s/it]\u001b[A"
     ]
    },
    {
     "name": "stdout",
     "output_type": "stream",
     "text": [
      "⚠️  No logits available for google/paligemma2-3b-pt-224, using zero loss\n",
      "📥 Loading model: google/gemma-2-2b\n"
     ]
    },
    {
     "name": "stderr",
     "output_type": "stream",
     "text": [
      "\n",
      "\n",
      "Loading checkpoint shards: 100%|██████████| 3/3 [00:00<00:00, 59.73it/s]\n"
     ]
    },
    {
     "name": "stdout",
     "output_type": "stream",
     "text": [
      "📥 Loading model: google/paligemma2-3b-pt-224\n"
     ]
    },
    {
     "name": "stderr",
     "output_type": "stream",
     "text": [
      "\n",
      "\n",
      "Loading checkpoint shards:   0%|          | 0/2 [00:00<?, ?it/s]\u001b[A\u001b[A\n",
      "\n",
      "Loading checkpoint shards:  50%|█████     | 1/2 [00:00<00:00,  1.26it/s]\u001b[A\u001b[A\n",
      "\n",
      "Loading checkpoint shards: 100%|██████████| 2/2 [00:00<00:00,  2.05it/s]\u001b[A\u001b[A\n",
      "\n",
      "Layer 16 texts:  46%|████▌     | 46/100 [09:07<10:45, 11.95s/it]\u001b[A"
     ]
    },
    {
     "name": "stdout",
     "output_type": "stream",
     "text": [
      "⚠️  No logits available for google/paligemma2-3b-pt-224, using zero loss\n",
      "📥 Loading model: google/gemma-2-2b\n"
     ]
    },
    {
     "name": "stderr",
     "output_type": "stream",
     "text": [
      "\n",
      "\n",
      "Loading checkpoint shards: 100%|██████████| 3/3 [00:00<00:00, 57.68it/s]\n"
     ]
    },
    {
     "name": "stdout",
     "output_type": "stream",
     "text": [
      "📥 Loading model: google/paligemma2-3b-pt-224\n"
     ]
    },
    {
     "name": "stderr",
     "output_type": "stream",
     "text": [
      "\n",
      "\n",
      "Loading checkpoint shards:   0%|          | 0/2 [00:00<?, ?it/s]\u001b[A\u001b[A\n",
      "\n",
      "Loading checkpoint shards:  50%|█████     | 1/2 [00:00<00:00,  1.31it/s]\u001b[A\u001b[A\n",
      "\n",
      "Loading checkpoint shards: 100%|██████████| 2/2 [00:00<00:00,  2.14it/s]\u001b[A\u001b[A\n",
      "\n",
      "Layer 16 texts:  47%|████▋     | 47/100 [09:19<10:35, 11.99s/it]\u001b[A"
     ]
    },
    {
     "name": "stdout",
     "output_type": "stream",
     "text": [
      "⚠️  No logits available for google/paligemma2-3b-pt-224, using zero loss\n",
      "📥 Loading model: google/gemma-2-2b\n"
     ]
    },
    {
     "name": "stderr",
     "output_type": "stream",
     "text": [
      "\n",
      "\n",
      "Loading checkpoint shards: 100%|██████████| 3/3 [00:00<00:00, 59.73it/s]\n"
     ]
    },
    {
     "name": "stdout",
     "output_type": "stream",
     "text": [
      "📥 Loading model: google/paligemma2-3b-pt-224\n"
     ]
    },
    {
     "name": "stderr",
     "output_type": "stream",
     "text": [
      "\n",
      "\n",
      "Loading checkpoint shards:   0%|          | 0/2 [00:00<?, ?it/s]\u001b[A\u001b[A\n",
      "\n",
      "Loading checkpoint shards:  50%|█████     | 1/2 [00:00<00:00,  1.29it/s]\u001b[A\u001b[A\n",
      "\n",
      "Loading checkpoint shards: 100%|██████████| 2/2 [00:00<00:00,  2.11it/s]\u001b[A\u001b[A\n",
      "\n",
      "Layer 16 texts:  48%|████▊     | 48/100 [09:31<10:22, 11.98s/it]\u001b[A"
     ]
    },
    {
     "name": "stdout",
     "output_type": "stream",
     "text": [
      "⚠️  No logits available for google/paligemma2-3b-pt-224, using zero loss\n",
      "📥 Loading model: google/gemma-2-2b\n"
     ]
    },
    {
     "name": "stderr",
     "output_type": "stream",
     "text": [
      "\n",
      "\n",
      "Loading checkpoint shards: 100%|██████████| 3/3 [00:00<00:00, 57.45it/s]\n"
     ]
    },
    {
     "name": "stdout",
     "output_type": "stream",
     "text": [
      "📥 Loading model: google/paligemma2-3b-pt-224\n"
     ]
    },
    {
     "name": "stderr",
     "output_type": "stream",
     "text": [
      "\n",
      "\n",
      "Loading checkpoint shards:   0%|          | 0/2 [00:00<?, ?it/s]\u001b[A\u001b[A\n",
      "\n",
      "Loading checkpoint shards:  50%|█████     | 1/2 [00:00<00:00,  1.31it/s]\u001b[A\u001b[A\n",
      "\n",
      "Loading checkpoint shards: 100%|██████████| 2/2 [00:00<00:00,  2.15it/s]\u001b[A\u001b[A\n",
      "\n",
      "Layer 16 texts:  49%|████▉     | 49/100 [09:43<10:09, 11.96s/it]\u001b[A"
     ]
    },
    {
     "name": "stdout",
     "output_type": "stream",
     "text": [
      "⚠️  No logits available for google/paligemma2-3b-pt-224, using zero loss\n",
      "📥 Loading model: google/gemma-2-2b\n"
     ]
    },
    {
     "name": "stderr",
     "output_type": "stream",
     "text": [
      "\n",
      "\n",
      "Loading checkpoint shards: 100%|██████████| 3/3 [00:00<00:00, 58.32it/s]\n"
     ]
    },
    {
     "name": "stdout",
     "output_type": "stream",
     "text": [
      "📥 Loading model: google/paligemma2-3b-pt-224\n"
     ]
    },
    {
     "name": "stderr",
     "output_type": "stream",
     "text": [
      "\n",
      "\n",
      "Loading checkpoint shards:   0%|          | 0/2 [00:00<?, ?it/s]\u001b[A\u001b[A\n",
      "\n",
      "Loading checkpoint shards:  50%|█████     | 1/2 [00:00<00:00,  1.26it/s]\u001b[A\u001b[A\n",
      "\n",
      "Loading checkpoint shards: 100%|██████████| 2/2 [00:00<00:00,  2.05it/s]\u001b[A\u001b[A\n",
      "\n",
      "Layer 16 texts:  50%|█████     | 50/100 [09:55<09:57, 11.95s/it]\u001b[A"
     ]
    },
    {
     "name": "stdout",
     "output_type": "stream",
     "text": [
      "⚠️  No logits available for google/paligemma2-3b-pt-224, using zero loss\n",
      "📥 Loading model: google/gemma-2-2b\n"
     ]
    },
    {
     "name": "stderr",
     "output_type": "stream",
     "text": [
      "\n",
      "\n",
      "Loading checkpoint shards: 100%|██████████| 3/3 [00:00<00:00, 61.29it/s]\n"
     ]
    },
    {
     "name": "stdout",
     "output_type": "stream",
     "text": [
      "📥 Loading model: google/paligemma2-3b-pt-224\n"
     ]
    },
    {
     "name": "stderr",
     "output_type": "stream",
     "text": [
      "\n",
      "\n",
      "Loading checkpoint shards:   0%|          | 0/2 [00:00<?, ?it/s]\u001b[A\u001b[A\n",
      "\n",
      "Loading checkpoint shards:  50%|█████     | 1/2 [00:00<00:00,  1.27it/s]\u001b[A\u001b[A\n",
      "\n",
      "Loading checkpoint shards: 100%|██████████| 2/2 [00:00<00:00,  2.06it/s]\u001b[A\u001b[A\n",
      "\n",
      "Layer 16 texts:  51%|█████     | 51/100 [10:07<09:47, 11.99s/it]\u001b[A"
     ]
    },
    {
     "name": "stdout",
     "output_type": "stream",
     "text": [
      "⚠️  No logits available for google/paligemma2-3b-pt-224, using zero loss\n",
      "📥 Loading model: google/gemma-2-2b\n"
     ]
    },
    {
     "name": "stderr",
     "output_type": "stream",
     "text": [
      "\n",
      "\n",
      "Loading checkpoint shards: 100%|██████████| 3/3 [00:00<00:00, 60.54it/s]\n"
     ]
    },
    {
     "name": "stdout",
     "output_type": "stream",
     "text": [
      "📥 Loading model: google/paligemma2-3b-pt-224\n"
     ]
    },
    {
     "name": "stderr",
     "output_type": "stream",
     "text": [
      "\n",
      "\n",
      "Loading checkpoint shards:   0%|          | 0/2 [00:00<?, ?it/s]\u001b[A\u001b[A\n",
      "\n",
      "Loading checkpoint shards:  50%|█████     | 1/2 [00:00<00:00,  1.22it/s]\u001b[A\u001b[A\n",
      "\n",
      "Loading checkpoint shards: 100%|██████████| 2/2 [00:01<00:00,  2.00it/s]\u001b[A\u001b[A\n",
      "\n",
      "Layer 16 texts:  52%|█████▏    | 52/100 [10:19<09:38, 12.06s/it]\u001b[A"
     ]
    },
    {
     "name": "stdout",
     "output_type": "stream",
     "text": [
      "⚠️  No logits available for google/paligemma2-3b-pt-224, using zero loss\n",
      "📥 Loading model: google/gemma-2-2b\n"
     ]
    },
    {
     "name": "stderr",
     "output_type": "stream",
     "text": [
      "\n",
      "\n",
      "Loading checkpoint shards: 100%|██████████| 3/3 [00:00<00:00, 61.15it/s]\n"
     ]
    },
    {
     "name": "stdout",
     "output_type": "stream",
     "text": [
      "📥 Loading model: google/paligemma2-3b-pt-224\n"
     ]
    },
    {
     "name": "stderr",
     "output_type": "stream",
     "text": [
      "\n",
      "\n",
      "Loading checkpoint shards:   0%|          | 0/2 [00:00<?, ?it/s]\u001b[A\u001b[A\n",
      "\n",
      "Loading checkpoint shards:  50%|█████     | 1/2 [00:00<00:00,  1.24it/s]\u001b[A\u001b[A\n",
      "\n",
      "Loading checkpoint shards: 100%|██████████| 2/2 [00:00<00:00,  2.03it/s]\u001b[A\u001b[A\n",
      "\n",
      "Layer 16 texts:  53%|█████▎    | 53/100 [10:31<09:25, 12.02s/it]\u001b[A"
     ]
    },
    {
     "name": "stdout",
     "output_type": "stream",
     "text": [
      "⚠️  No logits available for google/paligemma2-3b-pt-224, using zero loss\n",
      "📥 Loading model: google/gemma-2-2b\n"
     ]
    },
    {
     "name": "stderr",
     "output_type": "stream",
     "text": [
      "\n",
      "\n",
      "Loading checkpoint shards: 100%|██████████| 3/3 [00:00<00:00, 59.92it/s]\n"
     ]
    },
    {
     "name": "stdout",
     "output_type": "stream",
     "text": [
      "📥 Loading model: google/paligemma2-3b-pt-224\n"
     ]
    },
    {
     "name": "stderr",
     "output_type": "stream",
     "text": [
      "\n",
      "\n",
      "Loading checkpoint shards:   0%|          | 0/2 [00:00<?, ?it/s]\u001b[A\u001b[A\n",
      "\n",
      "Loading checkpoint shards:  50%|█████     | 1/2 [00:00<00:00,  1.26it/s]\u001b[A\u001b[A\n",
      "\n",
      "Loading checkpoint shards: 100%|██████████| 2/2 [00:00<00:00,  2.06it/s]\u001b[A\u001b[A\n",
      "\n",
      "Layer 16 texts:  54%|█████▍    | 54/100 [10:43<09:10, 11.96s/it]\u001b[A"
     ]
    },
    {
     "name": "stdout",
     "output_type": "stream",
     "text": [
      "⚠️  No logits available for google/paligemma2-3b-pt-224, using zero loss\n",
      "📥 Loading model: google/gemma-2-2b\n"
     ]
    },
    {
     "name": "stderr",
     "output_type": "stream",
     "text": [
      "\n",
      "\n",
      "Loading checkpoint shards: 100%|██████████| 3/3 [00:00<00:00, 57.08it/s]\n"
     ]
    },
    {
     "name": "stdout",
     "output_type": "stream",
     "text": [
      "📥 Loading model: google/paligemma2-3b-pt-224\n"
     ]
    },
    {
     "name": "stderr",
     "output_type": "stream",
     "text": [
      "\n",
      "\n",
      "Loading checkpoint shards:   0%|          | 0/2 [00:00<?, ?it/s]\u001b[A\u001b[A\n",
      "\n",
      "Loading checkpoint shards:  50%|█████     | 1/2 [00:00<00:00,  1.19it/s]\u001b[A\u001b[A\n",
      "\n",
      "Loading checkpoint shards: 100%|██████████| 2/2 [00:01<00:00,  1.97it/s]\u001b[A\u001b[A\n",
      "\n",
      "Layer 16 texts:  55%|█████▌    | 55/100 [10:55<08:59, 11.98s/it]\u001b[A"
     ]
    },
    {
     "name": "stdout",
     "output_type": "stream",
     "text": [
      "⚠️  No logits available for google/paligemma2-3b-pt-224, using zero loss\n",
      "📥 Loading model: google/gemma-2-2b\n"
     ]
    },
    {
     "name": "stderr",
     "output_type": "stream",
     "text": [
      "\n",
      "\n",
      "Loading checkpoint shards: 100%|██████████| 3/3 [00:00<00:00, 59.54it/s]\n"
     ]
    },
    {
     "name": "stdout",
     "output_type": "stream",
     "text": [
      "📥 Loading model: google/paligemma2-3b-pt-224\n"
     ]
    },
    {
     "name": "stderr",
     "output_type": "stream",
     "text": [
      "\n",
      "\n",
      "Loading checkpoint shards:   0%|          | 0/2 [00:00<?, ?it/s]\u001b[A\u001b[A\n",
      "\n",
      "Loading checkpoint shards:  50%|█████     | 1/2 [00:00<00:00,  1.24it/s]\u001b[A\u001b[A\n",
      "\n",
      "Loading checkpoint shards: 100%|██████████| 2/2 [00:00<00:00,  2.04it/s]\u001b[A\u001b[A\n",
      "\n",
      "Layer 16 texts:  56%|█████▌    | 56/100 [11:07<08:46, 11.97s/it]\u001b[A"
     ]
    },
    {
     "name": "stdout",
     "output_type": "stream",
     "text": [
      "⚠️  No logits available for google/paligemma2-3b-pt-224, using zero loss\n",
      "📥 Loading model: google/gemma-2-2b\n"
     ]
    },
    {
     "name": "stderr",
     "output_type": "stream",
     "text": [
      "\n",
      "\n",
      "Loading checkpoint shards: 100%|██████████| 3/3 [00:00<00:00, 59.58it/s]\n"
     ]
    },
    {
     "name": "stdout",
     "output_type": "stream",
     "text": [
      "📥 Loading model: google/paligemma2-3b-pt-224\n"
     ]
    },
    {
     "name": "stderr",
     "output_type": "stream",
     "text": [
      "\n",
      "\n",
      "Loading checkpoint shards:   0%|          | 0/2 [00:00<?, ?it/s]\u001b[A\u001b[A\n",
      "\n",
      "Loading checkpoint shards:  50%|█████     | 1/2 [00:00<00:00,  1.23it/s]\u001b[A\u001b[A\n",
      "\n",
      "Loading checkpoint shards: 100%|██████████| 2/2 [00:00<00:00,  2.02it/s]\u001b[A\u001b[A\n",
      "\n",
      "Layer 16 texts:  57%|█████▋    | 57/100 [11:19<08:37, 12.04s/it]\u001b[A"
     ]
    },
    {
     "name": "stdout",
     "output_type": "stream",
     "text": [
      "⚠️  No logits available for google/paligemma2-3b-pt-224, using zero loss\n",
      "📥 Loading model: google/gemma-2-2b\n"
     ]
    },
    {
     "name": "stderr",
     "output_type": "stream",
     "text": [
      "\n",
      "\n",
      "Loading checkpoint shards: 100%|██████████| 3/3 [00:00<00:00, 60.85it/s]\n"
     ]
    },
    {
     "name": "stdout",
     "output_type": "stream",
     "text": [
      "📥 Loading model: google/paligemma2-3b-pt-224\n"
     ]
    },
    {
     "name": "stderr",
     "output_type": "stream",
     "text": [
      "\n",
      "\n",
      "Loading checkpoint shards:   0%|          | 0/2 [00:00<?, ?it/s]\u001b[A\u001b[A\n",
      "\n",
      "Loading checkpoint shards:  50%|█████     | 1/2 [00:00<00:00,  1.28it/s]\u001b[A\u001b[A\n",
      "\n",
      "Loading checkpoint shards: 100%|██████████| 2/2 [00:00<00:00,  2.11it/s]\u001b[A\u001b[A\n",
      "\n",
      "Layer 16 texts:  58%|█████▊    | 58/100 [11:31<08:26, 12.05s/it]\u001b[A"
     ]
    },
    {
     "name": "stdout",
     "output_type": "stream",
     "text": [
      "⚠️  No logits available for google/paligemma2-3b-pt-224, using zero loss\n",
      "📥 Loading model: google/gemma-2-2b\n"
     ]
    },
    {
     "name": "stderr",
     "output_type": "stream",
     "text": [
      "\n",
      "\n",
      "Loading checkpoint shards: 100%|██████████| 3/3 [00:00<00:00, 58.26it/s]\n"
     ]
    },
    {
     "name": "stdout",
     "output_type": "stream",
     "text": [
      "📥 Loading model: google/paligemma2-3b-pt-224\n"
     ]
    },
    {
     "name": "stderr",
     "output_type": "stream",
     "text": [
      "\n",
      "\n",
      "Loading checkpoint shards:   0%|          | 0/2 [00:00<?, ?it/s]\u001b[A\u001b[A\n",
      "\n",
      "Loading checkpoint shards:  50%|█████     | 1/2 [00:00<00:00,  1.25it/s]\u001b[A\u001b[A\n",
      "\n",
      "Loading checkpoint shards: 100%|██████████| 2/2 [00:00<00:00,  2.06it/s]\u001b[A\u001b[A\n",
      "\n",
      "Layer 16 texts:  59%|█████▉    | 59/100 [11:43<08:15, 12.09s/it]\u001b[A"
     ]
    },
    {
     "name": "stdout",
     "output_type": "stream",
     "text": [
      "⚠️  No logits available for google/paligemma2-3b-pt-224, using zero loss\n",
      "📥 Loading model: google/gemma-2-2b\n"
     ]
    },
    {
     "name": "stderr",
     "output_type": "stream",
     "text": [
      "\n",
      "\n",
      "Loading checkpoint shards: 100%|██████████| 3/3 [00:00<00:00, 60.26it/s]\n"
     ]
    },
    {
     "name": "stdout",
     "output_type": "stream",
     "text": [
      "📥 Loading model: google/paligemma2-3b-pt-224\n"
     ]
    },
    {
     "name": "stderr",
     "output_type": "stream",
     "text": [
      "\n",
      "\n",
      "Loading checkpoint shards:   0%|          | 0/2 [00:00<?, ?it/s]\u001b[A\u001b[A\n",
      "\n",
      "Loading checkpoint shards:  50%|█████     | 1/2 [00:00<00:00,  1.29it/s]\u001b[A\u001b[A\n",
      "\n",
      "Loading checkpoint shards: 100%|██████████| 2/2 [00:00<00:00,  2.09it/s]\u001b[A\u001b[A\n",
      "\n",
      "Layer 16 texts:  60%|██████    | 60/100 [11:55<08:03, 12.08s/it]\u001b[A"
     ]
    },
    {
     "name": "stdout",
     "output_type": "stream",
     "text": [
      "⚠️  No logits available for google/paligemma2-3b-pt-224, using zero loss\n",
      "📥 Loading model: google/gemma-2-2b\n"
     ]
    },
    {
     "name": "stderr",
     "output_type": "stream",
     "text": [
      "\n",
      "\n",
      "Loading checkpoint shards: 100%|██████████| 3/3 [00:00<00:00, 59.37it/s]\n"
     ]
    },
    {
     "name": "stdout",
     "output_type": "stream",
     "text": [
      "📥 Loading model: google/paligemma2-3b-pt-224\n"
     ]
    },
    {
     "name": "stderr",
     "output_type": "stream",
     "text": [
      "\n",
      "\n",
      "Loading checkpoint shards:   0%|          | 0/2 [00:00<?, ?it/s]\u001b[A\u001b[A\n",
      "\n",
      "Loading checkpoint shards:  50%|█████     | 1/2 [00:00<00:00,  1.26it/s]\u001b[A\u001b[A\n",
      "\n",
      "Loading checkpoint shards: 100%|██████████| 2/2 [00:00<00:00,  2.06it/s]\u001b[A\u001b[A\n",
      "\n",
      "Layer 16 texts:  61%|██████    | 61/100 [12:07<07:50, 12.07s/it]\u001b[A"
     ]
    },
    {
     "name": "stdout",
     "output_type": "stream",
     "text": [
      "⚠️  No logits available for google/paligemma2-3b-pt-224, using zero loss\n",
      "📥 Loading model: google/gemma-2-2b\n"
     ]
    },
    {
     "name": "stderr",
     "output_type": "stream",
     "text": [
      "\n",
      "\n",
      "Loading checkpoint shards: 100%|██████████| 3/3 [00:00<00:00, 61.15it/s]\n"
     ]
    },
    {
     "name": "stdout",
     "output_type": "stream",
     "text": [
      "📥 Loading model: google/paligemma2-3b-pt-224\n"
     ]
    },
    {
     "name": "stderr",
     "output_type": "stream",
     "text": [
      "\n",
      "\n",
      "Loading checkpoint shards:   0%|          | 0/2 [00:00<?, ?it/s]\u001b[A\u001b[A\n",
      "\n",
      "Loading checkpoint shards:  50%|█████     | 1/2 [00:00<00:00,  1.29it/s]\u001b[A\u001b[A\n",
      "\n",
      "Loading checkpoint shards: 100%|██████████| 2/2 [00:00<00:00,  2.10it/s]\u001b[A\u001b[A\n",
      "\n",
      "Layer 16 texts:  62%|██████▏   | 62/100 [12:19<07:38, 12.07s/it]\u001b[A"
     ]
    },
    {
     "name": "stdout",
     "output_type": "stream",
     "text": [
      "⚠️  No logits available for google/paligemma2-3b-pt-224, using zero loss\n",
      "📥 Loading model: google/gemma-2-2b\n"
     ]
    },
    {
     "name": "stderr",
     "output_type": "stream",
     "text": [
      "\n",
      "\n",
      "Loading checkpoint shards: 100%|██████████| 3/3 [00:00<00:00, 61.54it/s]\n"
     ]
    },
    {
     "name": "stdout",
     "output_type": "stream",
     "text": [
      "📥 Loading model: google/paligemma2-3b-pt-224\n"
     ]
    },
    {
     "name": "stderr",
     "output_type": "stream",
     "text": [
      "\n",
      "\n",
      "Loading checkpoint shards:   0%|          | 0/2 [00:00<?, ?it/s]\u001b[A\u001b[A\n",
      "\n",
      "Loading checkpoint shards:  50%|█████     | 1/2 [00:00<00:00,  1.16it/s]\u001b[A\u001b[A\n",
      "\n",
      "Loading checkpoint shards: 100%|██████████| 2/2 [00:01<00:00,  1.92it/s]\u001b[A\u001b[A\n",
      "\n",
      "Layer 16 texts:  63%|██████▎   | 63/100 [12:31<07:24, 12.01s/it]\u001b[A"
     ]
    },
    {
     "name": "stdout",
     "output_type": "stream",
     "text": [
      "⚠️  No logits available for google/paligemma2-3b-pt-224, using zero loss\n",
      "📥 Loading model: google/gemma-2-2b\n"
     ]
    },
    {
     "name": "stderr",
     "output_type": "stream",
     "text": [
      "\n",
      "\n",
      "Loading checkpoint shards: 100%|██████████| 3/3 [00:00<00:00, 61.12it/s]\n"
     ]
    },
    {
     "name": "stdout",
     "output_type": "stream",
     "text": [
      "📥 Loading model: google/paligemma2-3b-pt-224\n"
     ]
    },
    {
     "name": "stderr",
     "output_type": "stream",
     "text": [
      "\n",
      "\n",
      "Loading checkpoint shards:   0%|          | 0/2 [00:00<?, ?it/s]\u001b[A\u001b[A\n",
      "\n",
      "Loading checkpoint shards:  50%|█████     | 1/2 [00:00<00:00,  1.26it/s]\u001b[A\u001b[A\n",
      "\n",
      "Loading checkpoint shards: 100%|██████████| 2/2 [00:00<00:00,  2.07it/s]\u001b[A\u001b[A\n",
      "\n",
      "Layer 16 texts:  64%|██████▍   | 64/100 [12:43<07:10, 11.96s/it]\u001b[A"
     ]
    },
    {
     "name": "stdout",
     "output_type": "stream",
     "text": [
      "⚠️  No logits available for google/paligemma2-3b-pt-224, using zero loss\n",
      "📥 Loading model: google/gemma-2-2b\n"
     ]
    },
    {
     "name": "stderr",
     "output_type": "stream",
     "text": [
      "\n",
      "\n",
      "Loading checkpoint shards: 100%|██████████| 3/3 [00:00<00:00, 61.14it/s]\n"
     ]
    },
    {
     "name": "stdout",
     "output_type": "stream",
     "text": [
      "📥 Loading model: google/paligemma2-3b-pt-224\n"
     ]
    },
    {
     "name": "stderr",
     "output_type": "stream",
     "text": [
      "\n",
      "\n",
      "Loading checkpoint shards:   0%|          | 0/2 [00:00<?, ?it/s]\u001b[A\u001b[A\n",
      "\n",
      "Loading checkpoint shards:  50%|█████     | 1/2 [00:00<00:00,  1.28it/s]\u001b[A\u001b[A\n",
      "\n",
      "Loading checkpoint shards: 100%|██████████| 2/2 [00:00<00:00,  2.09it/s]\u001b[A\u001b[A\n",
      "\n",
      "Layer 16 texts:  65%|██████▌   | 65/100 [12:55<06:58, 11.96s/it]\u001b[A"
     ]
    },
    {
     "name": "stdout",
     "output_type": "stream",
     "text": [
      "⚠️  No logits available for google/paligemma2-3b-pt-224, using zero loss\n",
      "📥 Loading model: google/gemma-2-2b\n"
     ]
    },
    {
     "name": "stderr",
     "output_type": "stream",
     "text": [
      "\n",
      "\n",
      "Loading checkpoint shards: 100%|██████████| 3/3 [00:00<00:00, 59.76it/s]\n"
     ]
    },
    {
     "name": "stdout",
     "output_type": "stream",
     "text": [
      "📥 Loading model: google/paligemma2-3b-pt-224\n"
     ]
    },
    {
     "name": "stderr",
     "output_type": "stream",
     "text": [
      "\n",
      "\n",
      "Loading checkpoint shards:   0%|          | 0/2 [00:00<?, ?it/s]\u001b[A\u001b[A\n",
      "\n",
      "Loading checkpoint shards:  50%|█████     | 1/2 [00:00<00:00,  1.29it/s]\u001b[A\u001b[A\n",
      "\n",
      "Loading checkpoint shards: 100%|██████████| 2/2 [00:00<00:00,  2.10it/s]\u001b[A\u001b[A\n",
      "\n",
      "Layer 16 texts:  66%|██████▌   | 66/100 [13:07<06:44, 11.89s/it]\u001b[A"
     ]
    },
    {
     "name": "stdout",
     "output_type": "stream",
     "text": [
      "⚠️  No logits available for google/paligemma2-3b-pt-224, using zero loss\n",
      "📥 Loading model: google/gemma-2-2b\n"
     ]
    },
    {
     "name": "stderr",
     "output_type": "stream",
     "text": [
      "\n",
      "\n",
      "Loading checkpoint shards: 100%|██████████| 3/3 [00:00<00:00, 60.97it/s]\n"
     ]
    },
    {
     "name": "stdout",
     "output_type": "stream",
     "text": [
      "📥 Loading model: google/paligemma2-3b-pt-224\n"
     ]
    },
    {
     "name": "stderr",
     "output_type": "stream",
     "text": [
      "\n",
      "\n",
      "Loading checkpoint shards:   0%|          | 0/2 [00:00<?, ?it/s]\u001b[A\u001b[A\n",
      "\n",
      "Loading checkpoint shards:  50%|█████     | 1/2 [00:00<00:00,  1.26it/s]\u001b[A\u001b[A\n",
      "\n",
      "Loading checkpoint shards: 100%|██████████| 2/2 [00:00<00:00,  2.07it/s]\u001b[A\u001b[A\n",
      "\n",
      "Layer 16 texts:  67%|██████▋   | 67/100 [13:19<06:32, 11.90s/it]\u001b[A"
     ]
    },
    {
     "name": "stdout",
     "output_type": "stream",
     "text": [
      "⚠️  No logits available for google/paligemma2-3b-pt-224, using zero loss\n",
      "📥 Loading model: google/gemma-2-2b\n"
     ]
    },
    {
     "name": "stderr",
     "output_type": "stream",
     "text": [
      "\n",
      "\n",
      "Loading checkpoint shards: 100%|██████████| 3/3 [00:00<00:00, 61.05it/s]\n"
     ]
    },
    {
     "name": "stdout",
     "output_type": "stream",
     "text": [
      "📥 Loading model: google/paligemma2-3b-pt-224\n"
     ]
    },
    {
     "name": "stderr",
     "output_type": "stream",
     "text": [
      "\n",
      "\n",
      "Loading checkpoint shards:   0%|          | 0/2 [00:00<?, ?it/s]\u001b[A\u001b[A\n",
      "\n",
      "Loading checkpoint shards:  50%|█████     | 1/2 [00:00<00:00,  1.30it/s]\u001b[A\u001b[A\n",
      "\n",
      "Loading checkpoint shards: 100%|██████████| 2/2 [00:00<00:00,  2.11it/s]\u001b[A\u001b[A\n",
      "\n",
      "Layer 16 texts:  68%|██████▊   | 68/100 [13:31<06:20, 11.89s/it]\u001b[A"
     ]
    },
    {
     "name": "stdout",
     "output_type": "stream",
     "text": [
      "⚠️  No logits available for google/paligemma2-3b-pt-224, using zero loss\n",
      "📥 Loading model: google/gemma-2-2b\n"
     ]
    },
    {
     "name": "stderr",
     "output_type": "stream",
     "text": [
      "\n",
      "\n",
      "Loading checkpoint shards: 100%|██████████| 3/3 [00:00<00:00, 61.67it/s]\n"
     ]
    },
    {
     "name": "stdout",
     "output_type": "stream",
     "text": [
      "📥 Loading model: google/paligemma2-3b-pt-224\n"
     ]
    },
    {
     "name": "stderr",
     "output_type": "stream",
     "text": [
      "\n",
      "\n",
      "Loading checkpoint shards:   0%|          | 0/2 [00:00<?, ?it/s]\u001b[A\u001b[A\n",
      "\n",
      "Loading checkpoint shards:  50%|█████     | 1/2 [00:00<00:00,  1.28it/s]\u001b[A\u001b[A\n",
      "\n",
      "Loading checkpoint shards: 100%|██████████| 2/2 [00:00<00:00,  2.09it/s]\u001b[A\u001b[A\n",
      "\n",
      "Layer 16 texts:  69%|██████▉   | 69/100 [13:42<06:07, 11.87s/it]\u001b[A"
     ]
    },
    {
     "name": "stdout",
     "output_type": "stream",
     "text": [
      "⚠️  No logits available for google/paligemma2-3b-pt-224, using zero loss\n",
      "📥 Loading model: google/gemma-2-2b\n"
     ]
    },
    {
     "name": "stderr",
     "output_type": "stream",
     "text": [
      "\n",
      "\n",
      "Loading checkpoint shards: 100%|██████████| 3/3 [00:00<00:00, 60.85it/s]\n"
     ]
    },
    {
     "name": "stdout",
     "output_type": "stream",
     "text": [
      "📥 Loading model: google/paligemma2-3b-pt-224\n"
     ]
    },
    {
     "name": "stderr",
     "output_type": "stream",
     "text": [
      "\n",
      "\n",
      "Loading checkpoint shards:   0%|          | 0/2 [00:00<?, ?it/s]\u001b[A\u001b[A\n",
      "\n",
      "Loading checkpoint shards:  50%|█████     | 1/2 [00:00<00:00,  1.29it/s]\u001b[A\u001b[A\n",
      "\n",
      "Loading checkpoint shards: 100%|██████████| 2/2 [00:00<00:00,  2.11it/s]\u001b[A\u001b[A\n",
      "\n",
      "Layer 16 texts:  70%|███████   | 70/100 [13:55<05:58, 11.96s/it]\u001b[A"
     ]
    },
    {
     "name": "stdout",
     "output_type": "stream",
     "text": [
      "⚠️  No logits available for google/paligemma2-3b-pt-224, using zero loss\n",
      "📥 Loading model: google/gemma-2-2b\n"
     ]
    },
    {
     "name": "stderr",
     "output_type": "stream",
     "text": [
      "\n",
      "\n",
      "Loading checkpoint shards: 100%|██████████| 3/3 [00:00<00:00, 62.66it/s]\n"
     ]
    },
    {
     "name": "stdout",
     "output_type": "stream",
     "text": [
      "📥 Loading model: google/paligemma2-3b-pt-224\n"
     ]
    },
    {
     "name": "stderr",
     "output_type": "stream",
     "text": [
      "\n",
      "\n",
      "Loading checkpoint shards:   0%|          | 0/2 [00:00<?, ?it/s]\u001b[A\u001b[A\n",
      "\n",
      "Loading checkpoint shards:  50%|█████     | 1/2 [00:00<00:00,  1.27it/s]\u001b[A\u001b[A\n",
      "\n",
      "Loading checkpoint shards: 100%|██████████| 2/2 [00:00<00:00,  2.09it/s]\u001b[A\u001b[A\n",
      "\n",
      "Layer 16 texts:  71%|███████   | 71/100 [14:07<05:46, 11.94s/it]\u001b[A"
     ]
    },
    {
     "name": "stdout",
     "output_type": "stream",
     "text": [
      "⚠️  No logits available for google/paligemma2-3b-pt-224, using zero loss\n",
      "📥 Loading model: google/gemma-2-2b\n"
     ]
    },
    {
     "name": "stderr",
     "output_type": "stream",
     "text": [
      "\n",
      "\n",
      "Loading checkpoint shards: 100%|██████████| 3/3 [00:00<00:00, 62.43it/s]\n"
     ]
    },
    {
     "name": "stdout",
     "output_type": "stream",
     "text": [
      "📥 Loading model: google/paligemma2-3b-pt-224\n"
     ]
    },
    {
     "name": "stderr",
     "output_type": "stream",
     "text": [
      "\n",
      "\n",
      "Loading checkpoint shards:   0%|          | 0/2 [00:00<?, ?it/s]\u001b[A\u001b[A\n",
      "\n",
      "Loading checkpoint shards:  50%|█████     | 1/2 [00:00<00:00,  1.26it/s]\u001b[A\u001b[A\n",
      "\n",
      "Loading checkpoint shards: 100%|██████████| 2/2 [00:00<00:00,  2.08it/s]\u001b[A\u001b[A\n",
      "\n",
      "Layer 16 texts:  72%|███████▏  | 72/100 [14:18<05:33, 11.92s/it]\u001b[A"
     ]
    },
    {
     "name": "stdout",
     "output_type": "stream",
     "text": [
      "⚠️  No logits available for google/paligemma2-3b-pt-224, using zero loss\n",
      "📥 Loading model: google/gemma-2-2b\n"
     ]
    },
    {
     "name": "stderr",
     "output_type": "stream",
     "text": [
      "\n",
      "\n",
      "Loading checkpoint shards: 100%|██████████| 3/3 [00:00<00:00, 60.52it/s]\n"
     ]
    },
    {
     "name": "stdout",
     "output_type": "stream",
     "text": [
      "📥 Loading model: google/paligemma2-3b-pt-224\n"
     ]
    },
    {
     "name": "stderr",
     "output_type": "stream",
     "text": [
      "\n",
      "\n",
      "Loading checkpoint shards:   0%|          | 0/2 [00:00<?, ?it/s]\u001b[A\u001b[A\n",
      "\n",
      "Loading checkpoint shards:  50%|█████     | 1/2 [00:00<00:00,  1.29it/s]\u001b[A\u001b[A\n",
      "\n",
      "Loading checkpoint shards: 100%|██████████| 2/2 [00:00<00:00,  2.11it/s]\u001b[A\u001b[A\n",
      "\n",
      "Layer 16 texts:  73%|███████▎  | 73/100 [14:30<05:22, 11.95s/it]\u001b[A"
     ]
    },
    {
     "name": "stdout",
     "output_type": "stream",
     "text": [
      "⚠️  No logits available for google/paligemma2-3b-pt-224, using zero loss\n",
      "📥 Loading model: google/gemma-2-2b\n"
     ]
    },
    {
     "name": "stderr",
     "output_type": "stream",
     "text": [
      "\n",
      "\n",
      "Loading checkpoint shards: 100%|██████████| 3/3 [00:00<00:00, 59.94it/s]\n"
     ]
    },
    {
     "name": "stdout",
     "output_type": "stream",
     "text": [
      "📥 Loading model: google/paligemma2-3b-pt-224\n"
     ]
    },
    {
     "name": "stderr",
     "output_type": "stream",
     "text": [
      "\n",
      "\n",
      "Loading checkpoint shards:   0%|          | 0/2 [00:00<?, ?it/s]\u001b[A\u001b[A\n",
      "\n",
      "Loading checkpoint shards:  50%|█████     | 1/2 [00:00<00:00,  1.25it/s]\u001b[A\u001b[A\n",
      "\n",
      "Loading checkpoint shards: 100%|██████████| 2/2 [00:00<00:00,  2.03it/s]\u001b[A\u001b[A\n",
      "\n",
      "Layer 16 texts:  74%|███████▍  | 74/100 [14:42<05:10, 11.94s/it]\u001b[A"
     ]
    },
    {
     "name": "stdout",
     "output_type": "stream",
     "text": [
      "⚠️  No logits available for google/paligemma2-3b-pt-224, using zero loss\n",
      "📥 Loading model: google/gemma-2-2b\n"
     ]
    },
    {
     "name": "stderr",
     "output_type": "stream",
     "text": [
      "\n",
      "\n",
      "Loading checkpoint shards: 100%|██████████| 3/3 [00:00<00:00, 60.68it/s]\n"
     ]
    },
    {
     "name": "stdout",
     "output_type": "stream",
     "text": [
      "📥 Loading model: google/paligemma2-3b-pt-224\n"
     ]
    },
    {
     "name": "stderr",
     "output_type": "stream",
     "text": [
      "\n",
      "\n",
      "Loading checkpoint shards:   0%|          | 0/2 [00:00<?, ?it/s]\u001b[A\u001b[A\n",
      "\n",
      "Loading checkpoint shards:  50%|█████     | 1/2 [00:00<00:00,  1.24it/s]\u001b[A\u001b[A\n",
      "\n",
      "Loading checkpoint shards: 100%|██████████| 2/2 [00:00<00:00,  2.04it/s]\u001b[A\u001b[A\n",
      "\n",
      "Layer 16 texts:  75%|███████▌  | 75/100 [14:54<04:58, 11.94s/it]\u001b[A"
     ]
    },
    {
     "name": "stdout",
     "output_type": "stream",
     "text": [
      "⚠️  No logits available for google/paligemma2-3b-pt-224, using zero loss\n",
      "📥 Loading model: google/gemma-2-2b\n"
     ]
    },
    {
     "name": "stderr",
     "output_type": "stream",
     "text": [
      "\n",
      "\n",
      "Loading checkpoint shards: 100%|██████████| 3/3 [00:00<00:00, 61.91it/s]\n"
     ]
    },
    {
     "name": "stdout",
     "output_type": "stream",
     "text": [
      "📥 Loading model: google/paligemma2-3b-pt-224\n"
     ]
    },
    {
     "name": "stderr",
     "output_type": "stream",
     "text": [
      "\n",
      "\n",
      "Loading checkpoint shards:   0%|          | 0/2 [00:00<?, ?it/s]\u001b[A\u001b[A\n",
      "\n",
      "Loading checkpoint shards:  50%|█████     | 1/2 [00:00<00:00,  1.28it/s]\u001b[A\u001b[A\n",
      "\n",
      "Loading checkpoint shards: 100%|██████████| 2/2 [00:00<00:00,  2.09it/s]\u001b[A\u001b[A\n",
      "\n",
      "Layer 16 texts:  76%|███████▌  | 76/100 [15:06<04:46, 11.93s/it]\u001b[A"
     ]
    },
    {
     "name": "stdout",
     "output_type": "stream",
     "text": [
      "⚠️  No logits available for google/paligemma2-3b-pt-224, using zero loss\n",
      "📥 Loading model: google/gemma-2-2b\n"
     ]
    },
    {
     "name": "stderr",
     "output_type": "stream",
     "text": [
      "\n",
      "\n",
      "Loading checkpoint shards: 100%|██████████| 3/3 [00:00<00:00, 60.99it/s]\n"
     ]
    },
    {
     "name": "stdout",
     "output_type": "stream",
     "text": [
      "📥 Loading model: google/paligemma2-3b-pt-224\n"
     ]
    },
    {
     "name": "stderr",
     "output_type": "stream",
     "text": [
      "\n",
      "\n",
      "Loading checkpoint shards:   0%|          | 0/2 [00:00<?, ?it/s]\u001b[A\u001b[A\n",
      "\n",
      "Loading checkpoint shards:  50%|█████     | 1/2 [00:00<00:00,  1.25it/s]\u001b[A\u001b[A\n",
      "\n",
      "Loading checkpoint shards: 100%|██████████| 2/2 [00:00<00:00,  2.04it/s]\u001b[A\u001b[A\n",
      "\n",
      "Layer 16 texts:  77%|███████▋  | 77/100 [15:18<04:35, 11.97s/it]\u001b[A"
     ]
    },
    {
     "name": "stdout",
     "output_type": "stream",
     "text": [
      "⚠️  No logits available for google/paligemma2-3b-pt-224, using zero loss\n",
      "📥 Loading model: google/gemma-2-2b\n"
     ]
    },
    {
     "name": "stderr",
     "output_type": "stream",
     "text": [
      "\n",
      "\n",
      "Loading checkpoint shards: 100%|██████████| 3/3 [00:00<00:00, 60.83it/s]\n"
     ]
    },
    {
     "name": "stdout",
     "output_type": "stream",
     "text": [
      "📥 Loading model: google/paligemma2-3b-pt-224\n"
     ]
    },
    {
     "name": "stderr",
     "output_type": "stream",
     "text": [
      "\n",
      "\n",
      "Loading checkpoint shards:   0%|          | 0/2 [00:00<?, ?it/s]\u001b[A\u001b[A\n",
      "\n",
      "Loading checkpoint shards:  50%|█████     | 1/2 [00:00<00:00,  1.28it/s]\u001b[A\u001b[A\n",
      "\n",
      "Loading checkpoint shards: 100%|██████████| 2/2 [00:00<00:00,  2.08it/s]\u001b[A\u001b[A\n",
      "\n",
      "Layer 16 texts:  78%|███████▊  | 78/100 [15:30<04:23, 11.97s/it]\u001b[A"
     ]
    },
    {
     "name": "stdout",
     "output_type": "stream",
     "text": [
      "⚠️  No logits available for google/paligemma2-3b-pt-224, using zero loss\n",
      "📥 Loading model: google/gemma-2-2b\n"
     ]
    },
    {
     "name": "stderr",
     "output_type": "stream",
     "text": [
      "\n",
      "\n",
      "Loading checkpoint shards: 100%|██████████| 3/3 [00:00<00:00, 59.75it/s]\n"
     ]
    },
    {
     "name": "stdout",
     "output_type": "stream",
     "text": [
      "📥 Loading model: google/paligemma2-3b-pt-224\n"
     ]
    },
    {
     "name": "stderr",
     "output_type": "stream",
     "text": [
      "\n",
      "\n",
      "Loading checkpoint shards:   0%|          | 0/2 [00:00<?, ?it/s]\u001b[A\u001b[A\n",
      "\n",
      "Loading checkpoint shards:  50%|█████     | 1/2 [00:00<00:00,  1.25it/s]\u001b[A\u001b[A\n",
      "\n",
      "Loading checkpoint shards: 100%|██████████| 2/2 [00:00<00:00,  2.03it/s]\u001b[A\u001b[A\n",
      "\n",
      "Layer 16 texts:  79%|███████▉  | 79/100 [15:42<04:10, 11.93s/it]\u001b[A"
     ]
    },
    {
     "name": "stdout",
     "output_type": "stream",
     "text": [
      "⚠️  No logits available for google/paligemma2-3b-pt-224, using zero loss\n",
      "📥 Loading model: google/gemma-2-2b\n"
     ]
    },
    {
     "name": "stderr",
     "output_type": "stream",
     "text": [
      "\n",
      "\n",
      "Loading checkpoint shards: 100%|██████████| 3/3 [00:00<00:00, 58.21it/s]\n"
     ]
    },
    {
     "name": "stdout",
     "output_type": "stream",
     "text": [
      "📥 Loading model: google/paligemma2-3b-pt-224\n"
     ]
    },
    {
     "name": "stderr",
     "output_type": "stream",
     "text": [
      "\n",
      "\n",
      "Loading checkpoint shards:   0%|          | 0/2 [00:00<?, ?it/s]\u001b[A\u001b[A\n",
      "\n",
      "Loading checkpoint shards:  50%|█████     | 1/2 [00:00<00:00,  1.25it/s]\u001b[A\u001b[A\n",
      "\n",
      "Loading checkpoint shards: 100%|██████████| 2/2 [00:00<00:00,  2.05it/s]\u001b[A\u001b[A\n",
      "\n",
      "Layer 16 texts:  80%|████████  | 80/100 [15:54<03:58, 11.94s/it]\u001b[A"
     ]
    },
    {
     "name": "stdout",
     "output_type": "stream",
     "text": [
      "⚠️  No logits available for google/paligemma2-3b-pt-224, using zero loss\n",
      "📥 Loading model: google/gemma-2-2b\n"
     ]
    },
    {
     "name": "stderr",
     "output_type": "stream",
     "text": [
      "\n",
      "\n",
      "Loading checkpoint shards: 100%|██████████| 3/3 [00:00<00:00, 59.36it/s]\n"
     ]
    },
    {
     "name": "stdout",
     "output_type": "stream",
     "text": [
      "📥 Loading model: google/paligemma2-3b-pt-224\n"
     ]
    },
    {
     "name": "stderr",
     "output_type": "stream",
     "text": [
      "\n",
      "\n",
      "Loading checkpoint shards:   0%|          | 0/2 [00:00<?, ?it/s]\u001b[A\u001b[A\n",
      "\n",
      "Loading checkpoint shards:  50%|█████     | 1/2 [00:00<00:00,  1.29it/s]\u001b[A\u001b[A\n",
      "\n",
      "Loading checkpoint shards: 100%|██████████| 2/2 [00:00<00:00,  2.10it/s]\u001b[A\u001b[A\n",
      "\n",
      "Layer 16 texts:  81%|████████  | 81/100 [16:06<03:46, 11.94s/it]\u001b[A"
     ]
    },
    {
     "name": "stdout",
     "output_type": "stream",
     "text": [
      "⚠️  No logits available for google/paligemma2-3b-pt-224, using zero loss\n",
      "📥 Loading model: google/gemma-2-2b\n"
     ]
    },
    {
     "name": "stderr",
     "output_type": "stream",
     "text": [
      "\n",
      "\n",
      "Loading checkpoint shards: 100%|██████████| 3/3 [00:00<00:00, 61.20it/s]\n"
     ]
    },
    {
     "name": "stdout",
     "output_type": "stream",
     "text": [
      "📥 Loading model: google/paligemma2-3b-pt-224\n"
     ]
    },
    {
     "name": "stderr",
     "output_type": "stream",
     "text": [
      "\n",
      "\n",
      "Loading checkpoint shards:   0%|          | 0/2 [00:00<?, ?it/s]\u001b[A\u001b[A\n",
      "\n",
      "Loading checkpoint shards:  50%|█████     | 1/2 [00:00<00:00,  1.30it/s]\u001b[A\u001b[A\n",
      "\n",
      "Loading checkpoint shards: 100%|██████████| 2/2 [00:00<00:00,  2.10it/s]\u001b[A\u001b[A\n",
      "\n",
      "Layer 16 texts:  82%|████████▏ | 82/100 [16:18<03:35, 11.96s/it]\u001b[A"
     ]
    },
    {
     "name": "stdout",
     "output_type": "stream",
     "text": [
      "⚠️  No logits available for google/paligemma2-3b-pt-224, using zero loss\n",
      "📥 Loading model: google/gemma-2-2b\n"
     ]
    },
    {
     "name": "stderr",
     "output_type": "stream",
     "text": [
      "\n",
      "\n",
      "Loading checkpoint shards: 100%|██████████| 3/3 [00:00<00:00, 61.48it/s]\n"
     ]
    },
    {
     "name": "stdout",
     "output_type": "stream",
     "text": [
      "📥 Loading model: google/paligemma2-3b-pt-224\n"
     ]
    },
    {
     "name": "stderr",
     "output_type": "stream",
     "text": [
      "\n",
      "\n",
      "Loading checkpoint shards:   0%|          | 0/2 [00:00<?, ?it/s]\u001b[A\u001b[A\n",
      "\n",
      "Loading checkpoint shards:  50%|█████     | 1/2 [00:00<00:00,  1.28it/s]\u001b[A\u001b[A\n",
      "\n",
      "Loading checkpoint shards: 100%|██████████| 2/2 [00:00<00:00,  2.09it/s]\u001b[A\u001b[A\n",
      "\n",
      "Layer 16 texts:  83%|████████▎ | 83/100 [16:30<03:23, 11.96s/it]\u001b[A"
     ]
    },
    {
     "name": "stdout",
     "output_type": "stream",
     "text": [
      "⚠️  No logits available for google/paligemma2-3b-pt-224, using zero loss\n",
      "📥 Loading model: google/gemma-2-2b\n"
     ]
    },
    {
     "name": "stderr",
     "output_type": "stream",
     "text": [
      "\n",
      "\n",
      "Loading checkpoint shards: 100%|██████████| 3/3 [00:00<00:00, 60.58it/s]\n"
     ]
    },
    {
     "name": "stdout",
     "output_type": "stream",
     "text": [
      "📥 Loading model: google/paligemma2-3b-pt-224\n"
     ]
    },
    {
     "name": "stderr",
     "output_type": "stream",
     "text": [
      "\n",
      "\n",
      "Loading checkpoint shards:   0%|          | 0/2 [00:00<?, ?it/s]\u001b[A\u001b[A\n",
      "\n",
      "Loading checkpoint shards:  50%|█████     | 1/2 [00:00<00:00,  1.27it/s]\u001b[A\u001b[A\n",
      "\n",
      "Loading checkpoint shards: 100%|██████████| 2/2 [00:00<00:00,  2.05it/s]\u001b[A\u001b[A\n",
      "\n",
      "Layer 16 texts:  84%|████████▍ | 84/100 [16:42<03:10, 11.92s/it]\u001b[A"
     ]
    },
    {
     "name": "stdout",
     "output_type": "stream",
     "text": [
      "⚠️  No logits available for google/paligemma2-3b-pt-224, using zero loss\n",
      "📥 Loading model: google/gemma-2-2b\n"
     ]
    },
    {
     "name": "stderr",
     "output_type": "stream",
     "text": [
      "\n",
      "\n",
      "Loading checkpoint shards: 100%|██████████| 3/3 [00:00<00:00, 58.05it/s]\n"
     ]
    },
    {
     "name": "stdout",
     "output_type": "stream",
     "text": [
      "📥 Loading model: google/paligemma2-3b-pt-224\n"
     ]
    },
    {
     "name": "stderr",
     "output_type": "stream",
     "text": [
      "\n",
      "\n",
      "Loading checkpoint shards:   0%|          | 0/2 [00:00<?, ?it/s]\u001b[A\u001b[A\n",
      "\n",
      "Loading checkpoint shards:  50%|█████     | 1/2 [00:00<00:00,  1.26it/s]\u001b[A\u001b[A\n",
      "\n",
      "Loading checkpoint shards: 100%|██████████| 2/2 [00:00<00:00,  2.07it/s]\u001b[A\u001b[A\n",
      "\n",
      "Layer 16 texts:  85%|████████▌ | 85/100 [16:54<02:59, 11.95s/it]\u001b[A"
     ]
    },
    {
     "name": "stdout",
     "output_type": "stream",
     "text": [
      "⚠️  No logits available for google/paligemma2-3b-pt-224, using zero loss\n",
      "📥 Loading model: google/gemma-2-2b\n"
     ]
    },
    {
     "name": "stderr",
     "output_type": "stream",
     "text": [
      "\n",
      "\n",
      "Loading checkpoint shards: 100%|██████████| 3/3 [00:00<00:00, 60.59it/s]\n"
     ]
    },
    {
     "name": "stdout",
     "output_type": "stream",
     "text": [
      "📥 Loading model: google/paligemma2-3b-pt-224\n"
     ]
    },
    {
     "name": "stderr",
     "output_type": "stream",
     "text": [
      "\n",
      "\n",
      "Loading checkpoint shards:   0%|          | 0/2 [00:00<?, ?it/s]\u001b[A\u001b[A\n",
      "\n",
      "Loading checkpoint shards:  50%|█████     | 1/2 [00:00<00:00,  1.25it/s]\u001b[A\u001b[A\n",
      "\n",
      "Loading checkpoint shards: 100%|██████████| 2/2 [00:00<00:00,  2.05it/s]\u001b[A\u001b[A\n",
      "\n",
      "Layer 16 texts:  86%|████████▌ | 86/100 [17:06<02:49, 12.10s/it]\u001b[A"
     ]
    },
    {
     "name": "stdout",
     "output_type": "stream",
     "text": [
      "⚠️  No logits available for google/paligemma2-3b-pt-224, using zero loss\n",
      "📥 Loading model: google/gemma-2-2b\n"
     ]
    },
    {
     "name": "stderr",
     "output_type": "stream",
     "text": [
      "\n",
      "\n",
      "Loading checkpoint shards: 100%|██████████| 3/3 [00:00<00:00, 62.36it/s]\n"
     ]
    },
    {
     "name": "stdout",
     "output_type": "stream",
     "text": [
      "📥 Loading model: google/paligemma2-3b-pt-224\n"
     ]
    },
    {
     "name": "stderr",
     "output_type": "stream",
     "text": [
      "\n",
      "\n",
      "Loading checkpoint shards:   0%|          | 0/2 [00:00<?, ?it/s]\u001b[A\u001b[A\n",
      "\n",
      "Loading checkpoint shards:  50%|█████     | 1/2 [00:00<00:00,  1.23it/s]\u001b[A\u001b[A\n",
      "\n",
      "Loading checkpoint shards: 100%|██████████| 2/2 [00:00<00:00,  2.03it/s]\u001b[A\u001b[A\n",
      "\n",
      "Layer 16 texts:  87%|████████▋ | 87/100 [17:18<02:36, 12.03s/it]\u001b[A"
     ]
    },
    {
     "name": "stdout",
     "output_type": "stream",
     "text": [
      "⚠️  No logits available for google/paligemma2-3b-pt-224, using zero loss\n",
      "📥 Loading model: google/gemma-2-2b\n"
     ]
    },
    {
     "name": "stderr",
     "output_type": "stream",
     "text": [
      "\n",
      "\n",
      "Loading checkpoint shards: 100%|██████████| 3/3 [00:00<00:00, 60.03it/s]\n"
     ]
    },
    {
     "name": "stdout",
     "output_type": "stream",
     "text": [
      "📥 Loading model: google/paligemma2-3b-pt-224\n"
     ]
    },
    {
     "name": "stderr",
     "output_type": "stream",
     "text": [
      "\n",
      "\n",
      "Loading checkpoint shards:   0%|          | 0/2 [00:00<?, ?it/s]\u001b[A\u001b[A\n",
      "\n",
      "Loading checkpoint shards:  50%|█████     | 1/2 [00:00<00:00,  1.25it/s]\u001b[A\u001b[A\n",
      "\n",
      "Loading checkpoint shards: 100%|██████████| 2/2 [00:00<00:00,  2.04it/s]\u001b[A\u001b[A\n",
      "\n",
      "Layer 16 texts:  88%|████████▊ | 88/100 [17:30<02:24, 12.01s/it]\u001b[A"
     ]
    },
    {
     "name": "stdout",
     "output_type": "stream",
     "text": [
      "⚠️  No logits available for google/paligemma2-3b-pt-224, using zero loss\n",
      "📥 Loading model: google/gemma-2-2b\n"
     ]
    },
    {
     "name": "stderr",
     "output_type": "stream",
     "text": [
      "\n",
      "\n",
      "Loading checkpoint shards: 100%|██████████| 3/3 [00:00<00:00, 61.51it/s]\n"
     ]
    },
    {
     "name": "stdout",
     "output_type": "stream",
     "text": [
      "📥 Loading model: google/paligemma2-3b-pt-224\n"
     ]
    },
    {
     "name": "stderr",
     "output_type": "stream",
     "text": [
      "\n",
      "\n",
      "Loading checkpoint shards:   0%|          | 0/2 [00:00<?, ?it/s]\u001b[A\u001b[A\n",
      "\n",
      "Loading checkpoint shards:  50%|█████     | 1/2 [00:00<00:00,  1.27it/s]\u001b[A\u001b[A\n",
      "\n",
      "Loading checkpoint shards: 100%|██████████| 2/2 [00:00<00:00,  2.10it/s]\u001b[A\u001b[A\n",
      "\n",
      "Layer 16 texts:  89%|████████▉ | 89/100 [17:42<02:11, 12.00s/it]\u001b[A"
     ]
    },
    {
     "name": "stdout",
     "output_type": "stream",
     "text": [
      "⚠️  No logits available for google/paligemma2-3b-pt-224, using zero loss\n",
      "📥 Loading model: google/gemma-2-2b\n"
     ]
    },
    {
     "name": "stderr",
     "output_type": "stream",
     "text": [
      "\n",
      "\n",
      "Loading checkpoint shards: 100%|██████████| 3/3 [00:00<00:00, 60.37it/s]\n"
     ]
    },
    {
     "name": "stdout",
     "output_type": "stream",
     "text": [
      "📥 Loading model: google/paligemma2-3b-pt-224\n"
     ]
    },
    {
     "name": "stderr",
     "output_type": "stream",
     "text": [
      "\n",
      "\n",
      "Loading checkpoint shards:   0%|          | 0/2 [00:00<?, ?it/s]\u001b[A\u001b[A\n",
      "\n",
      "Loading checkpoint shards:  50%|█████     | 1/2 [00:00<00:00,  1.29it/s]\u001b[A\u001b[A\n",
      "\n",
      "Loading checkpoint shards: 100%|██████████| 2/2 [00:00<00:00,  2.09it/s]\u001b[A\u001b[A\n",
      "\n",
      "Layer 16 texts:  90%|█████████ | 90/100 [17:54<02:00, 12.03s/it]\u001b[A"
     ]
    },
    {
     "name": "stdout",
     "output_type": "stream",
     "text": [
      "⚠️  No logits available for google/paligemma2-3b-pt-224, using zero loss\n",
      "📥 Loading model: google/gemma-2-2b\n"
     ]
    },
    {
     "name": "stderr",
     "output_type": "stream",
     "text": [
      "\n",
      "\n",
      "Loading checkpoint shards: 100%|██████████| 3/3 [00:00<00:00, 60.81it/s]\n"
     ]
    },
    {
     "name": "stdout",
     "output_type": "stream",
     "text": [
      "📥 Loading model: google/paligemma2-3b-pt-224\n"
     ]
    },
    {
     "name": "stderr",
     "output_type": "stream",
     "text": [
      "\n",
      "\n",
      "Loading checkpoint shards:   0%|          | 0/2 [00:00<?, ?it/s]\u001b[A\u001b[A\n",
      "\n",
      "Loading checkpoint shards:  50%|█████     | 1/2 [00:00<00:00,  1.26it/s]\u001b[A\u001b[A\n",
      "\n",
      "Loading checkpoint shards: 100%|██████████| 2/2 [00:00<00:00,  2.08it/s]\u001b[A\u001b[A\n",
      "\n",
      "Layer 16 texts:  91%|█████████ | 91/100 [18:06<01:47, 11.95s/it]\u001b[A"
     ]
    },
    {
     "name": "stdout",
     "output_type": "stream",
     "text": [
      "⚠️  No logits available for google/paligemma2-3b-pt-224, using zero loss\n",
      "📥 Loading model: google/gemma-2-2b\n"
     ]
    },
    {
     "name": "stderr",
     "output_type": "stream",
     "text": [
      "\n",
      "\n",
      "Loading checkpoint shards: 100%|██████████| 3/3 [00:00<00:00, 62.02it/s]\n"
     ]
    },
    {
     "name": "stdout",
     "output_type": "stream",
     "text": [
      "📥 Loading model: google/paligemma2-3b-pt-224\n"
     ]
    },
    {
     "name": "stderr",
     "output_type": "stream",
     "text": [
      "\n",
      "\n",
      "Loading checkpoint shards:   0%|          | 0/2 [00:00<?, ?it/s]\u001b[A\u001b[A\n",
      "\n",
      "Loading checkpoint shards:  50%|█████     | 1/2 [00:00<00:00,  1.22it/s]\u001b[A\u001b[A\n",
      "\n",
      "Loading checkpoint shards: 100%|██████████| 2/2 [00:01<00:00,  1.97it/s]\u001b[A\u001b[A\n",
      "\n",
      "Layer 16 texts:  92%|█████████▏| 92/100 [18:18<01:35, 12.00s/it]\u001b[A"
     ]
    },
    {
     "name": "stdout",
     "output_type": "stream",
     "text": [
      "⚠️  No logits available for google/paligemma2-3b-pt-224, using zero loss\n",
      "📥 Loading model: google/gemma-2-2b\n"
     ]
    },
    {
     "name": "stderr",
     "output_type": "stream",
     "text": [
      "\n",
      "\n",
      "Loading checkpoint shards: 100%|██████████| 3/3 [00:00<00:00, 60.75it/s]\n"
     ]
    },
    {
     "name": "stdout",
     "output_type": "stream",
     "text": [
      "📥 Loading model: google/paligemma2-3b-pt-224\n"
     ]
    },
    {
     "name": "stderr",
     "output_type": "stream",
     "text": [
      "\n",
      "\n",
      "Loading checkpoint shards:   0%|          | 0/2 [00:00<?, ?it/s]\u001b[A\u001b[A\n",
      "\n",
      "Loading checkpoint shards:  50%|█████     | 1/2 [00:00<00:00,  1.26it/s]\u001b[A\u001b[A\n",
      "\n",
      "Loading checkpoint shards: 100%|██████████| 2/2 [00:00<00:00,  2.07it/s]\u001b[A\u001b[A\n",
      "\n",
      "Layer 16 texts:  93%|█████████▎| 93/100 [18:30<01:23, 11.97s/it]\u001b[A"
     ]
    },
    {
     "name": "stdout",
     "output_type": "stream",
     "text": [
      "⚠️  No logits available for google/paligemma2-3b-pt-224, using zero loss\n",
      "📥 Loading model: google/gemma-2-2b\n"
     ]
    },
    {
     "name": "stderr",
     "output_type": "stream",
     "text": [
      "\n",
      "\n",
      "Loading checkpoint shards: 100%|██████████| 3/3 [00:00<00:00, 55.94it/s]\n"
     ]
    },
    {
     "name": "stdout",
     "output_type": "stream",
     "text": [
      "📥 Loading model: google/paligemma2-3b-pt-224\n"
     ]
    },
    {
     "name": "stderr",
     "output_type": "stream",
     "text": [
      "\n",
      "\n",
      "Loading checkpoint shards:   0%|          | 0/2 [00:00<?, ?it/s]\u001b[A\u001b[A\n",
      "\n",
      "Loading checkpoint shards:  50%|█████     | 1/2 [00:00<00:00,  1.25it/s]\u001b[A\u001b[A\n",
      "\n",
      "Loading checkpoint shards: 100%|██████████| 2/2 [00:00<00:00,  2.05it/s]\u001b[A\u001b[A\n",
      "\n",
      "Layer 16 texts:  94%|█████████▍| 94/100 [18:42<01:11, 11.99s/it]\u001b[A"
     ]
    },
    {
     "name": "stdout",
     "output_type": "stream",
     "text": [
      "⚠️  No logits available for google/paligemma2-3b-pt-224, using zero loss\n",
      "📥 Loading model: google/gemma-2-2b\n"
     ]
    },
    {
     "name": "stderr",
     "output_type": "stream",
     "text": [
      "\n",
      "\n",
      "Loading checkpoint shards: 100%|██████████| 3/3 [00:00<00:00, 60.50it/s]\n"
     ]
    },
    {
     "name": "stdout",
     "output_type": "stream",
     "text": [
      "📥 Loading model: google/paligemma2-3b-pt-224\n"
     ]
    },
    {
     "name": "stderr",
     "output_type": "stream",
     "text": [
      "\n",
      "\n",
      "Loading checkpoint shards:   0%|          | 0/2 [00:00<?, ?it/s]\u001b[A\u001b[A\n",
      "\n",
      "Loading checkpoint shards:  50%|█████     | 1/2 [00:00<00:00,  1.30it/s]\u001b[A\u001b[A\n",
      "\n",
      "Loading checkpoint shards: 100%|██████████| 2/2 [00:00<00:00,  2.11it/s]\u001b[A\u001b[A\n",
      "\n",
      "Layer 16 texts:  95%|█████████▌| 95/100 [18:54<00:59, 11.98s/it]\u001b[A"
     ]
    },
    {
     "name": "stdout",
     "output_type": "stream",
     "text": [
      "⚠️  No logits available for google/paligemma2-3b-pt-224, using zero loss\n",
      "📥 Loading model: google/gemma-2-2b\n"
     ]
    },
    {
     "name": "stderr",
     "output_type": "stream",
     "text": [
      "\n",
      "\n",
      "Loading checkpoint shards: 100%|██████████| 3/3 [00:00<00:00, 58.58it/s]\n"
     ]
    },
    {
     "name": "stdout",
     "output_type": "stream",
     "text": [
      "📥 Loading model: google/paligemma2-3b-pt-224\n"
     ]
    },
    {
     "name": "stderr",
     "output_type": "stream",
     "text": [
      "\n",
      "\n",
      "Loading checkpoint shards:   0%|          | 0/2 [00:00<?, ?it/s]\u001b[A\u001b[A\n",
      "\n",
      "Loading checkpoint shards:  50%|█████     | 1/2 [00:00<00:00,  1.27it/s]\u001b[A\u001b[A\n",
      "\n",
      "Loading checkpoint shards: 100%|██████████| 2/2 [00:00<00:00,  2.08it/s]\u001b[A\u001b[A\n",
      "\n",
      "Layer 16 texts:  96%|█████████▌| 96/100 [19:06<00:47, 11.94s/it]\u001b[A"
     ]
    },
    {
     "name": "stdout",
     "output_type": "stream",
     "text": [
      "⚠️  No logits available for google/paligemma2-3b-pt-224, using zero loss\n",
      "📥 Loading model: google/gemma-2-2b\n"
     ]
    },
    {
     "name": "stderr",
     "output_type": "stream",
     "text": [
      "\n",
      "\n",
      "Loading checkpoint shards: 100%|██████████| 3/3 [00:00<00:00, 61.63it/s]\n"
     ]
    },
    {
     "name": "stdout",
     "output_type": "stream",
     "text": [
      "📥 Loading model: google/paligemma2-3b-pt-224\n"
     ]
    },
    {
     "name": "stderr",
     "output_type": "stream",
     "text": [
      "\n",
      "\n",
      "Loading checkpoint shards:   0%|          | 0/2 [00:00<?, ?it/s]\u001b[A\u001b[A\n",
      "\n",
      "Loading checkpoint shards:  50%|█████     | 1/2 [00:00<00:00,  1.23it/s]\u001b[A\u001b[A\n",
      "\n",
      "Loading checkpoint shards: 100%|██████████| 2/2 [00:00<00:00,  2.01it/s]\u001b[A\u001b[A\n",
      "\n",
      "Layer 16 texts:  97%|█████████▋| 97/100 [19:18<00:35, 11.96s/it]\u001b[A"
     ]
    },
    {
     "name": "stdout",
     "output_type": "stream",
     "text": [
      "⚠️  No logits available for google/paligemma2-3b-pt-224, using zero loss\n",
      "📥 Loading model: google/gemma-2-2b\n"
     ]
    },
    {
     "name": "stderr",
     "output_type": "stream",
     "text": [
      "\n",
      "\n",
      "Loading checkpoint shards: 100%|██████████| 3/3 [00:00<00:00, 62.34it/s]\n"
     ]
    },
    {
     "name": "stdout",
     "output_type": "stream",
     "text": [
      "📥 Loading model: google/paligemma2-3b-pt-224\n"
     ]
    },
    {
     "name": "stderr",
     "output_type": "stream",
     "text": [
      "\n",
      "\n",
      "Loading checkpoint shards:   0%|          | 0/2 [00:00<?, ?it/s]\u001b[A\u001b[A\n",
      "\n",
      "Loading checkpoint shards:  50%|█████     | 1/2 [00:00<00:00,  1.28it/s]\u001b[A\u001b[A\n",
      "\n",
      "Loading checkpoint shards: 100%|██████████| 2/2 [00:00<00:00,  2.09it/s]\u001b[A\u001b[A\n",
      "\n",
      "Layer 16 texts:  98%|█████████▊| 98/100 [19:30<00:24, 12.02s/it]\u001b[A"
     ]
    },
    {
     "name": "stdout",
     "output_type": "stream",
     "text": [
      "⚠️  No logits available for google/paligemma2-3b-pt-224, using zero loss\n",
      "📥 Loading model: google/gemma-2-2b\n"
     ]
    },
    {
     "name": "stderr",
     "output_type": "stream",
     "text": [
      "\n",
      "\n",
      "Loading checkpoint shards: 100%|██████████| 3/3 [00:00<00:00, 61.46it/s]\n"
     ]
    },
    {
     "name": "stdout",
     "output_type": "stream",
     "text": [
      "📥 Loading model: google/paligemma2-3b-pt-224\n"
     ]
    },
    {
     "name": "stderr",
     "output_type": "stream",
     "text": [
      "\n",
      "\n",
      "Loading checkpoint shards:   0%|          | 0/2 [00:00<?, ?it/s]\u001b[A\u001b[A\n",
      "\n",
      "Loading checkpoint shards:  50%|█████     | 1/2 [00:00<00:00,  1.23it/s]\u001b[A\u001b[A\n",
      "\n",
      "Loading checkpoint shards: 100%|██████████| 2/2 [00:00<00:00,  2.02it/s]\u001b[A\u001b[A\n",
      "\n",
      "Layer 16 texts:  99%|█████████▉| 99/100 [19:42<00:11, 11.96s/it]\u001b[A"
     ]
    },
    {
     "name": "stdout",
     "output_type": "stream",
     "text": [
      "⚠️  No logits available for google/paligemma2-3b-pt-224, using zero loss\n",
      "📥 Loading model: google/gemma-2-2b\n"
     ]
    },
    {
     "name": "stderr",
     "output_type": "stream",
     "text": [
      "\n",
      "\n",
      "Loading checkpoint shards: 100%|██████████| 3/3 [00:00<00:00, 60.77it/s]\n"
     ]
    },
    {
     "name": "stdout",
     "output_type": "stream",
     "text": [
      "📥 Loading model: google/paligemma2-3b-pt-224\n"
     ]
    },
    {
     "name": "stderr",
     "output_type": "stream",
     "text": [
      "\n",
      "\n",
      "Loading checkpoint shards:   0%|          | 0/2 [00:00<?, ?it/s]\u001b[A\u001b[A\n",
      "\n",
      "Loading checkpoint shards:  50%|█████     | 1/2 [00:00<00:00,  1.29it/s]\u001b[A\u001b[A\n",
      "\n",
      "Loading checkpoint shards: 100%|██████████| 2/2 [00:00<00:00,  2.11it/s]\u001b[A\u001b[A\n",
      "\n",
      "Layer 16 texts: 100%|██████████| 100/100 [19:54<00:00, 11.97s/it]\u001b[A\n",
      "Processing layers:  67%|██████▋   | 4/6 [1:20:34<40:10, 1205.20s/it]  "
     ]
    },
    {
     "name": "stdout",
     "output_type": "stream",
     "text": [
      "⚠️  No logits available for google/paligemma2-3b-pt-224, using zero loss\n",
      "   Memory after layer 16: 12.83GB\n",
      "\n",
      "📊 Processing Layer 20\n",
      "   📥 Loading SAE Layer 20: layer_20/width_16k/canonical\n"
     ]
    },
    {
     "name": "stderr",
     "output_type": "stream",
     "text": [
      "\n",
      "Layer 20 texts:   0%|          | 0/100 [00:00<?, ?it/s]\u001b[A"
     ]
    },
    {
     "name": "stdout",
     "output_type": "stream",
     "text": [
      "📥 Loading model: google/gemma-2-2b\n"
     ]
    },
    {
     "name": "stderr",
     "output_type": "stream",
     "text": [
      "\n",
      "\n",
      "Loading checkpoint shards: 100%|██████████| 3/3 [00:00<00:00, 61.87it/s]\n"
     ]
    },
    {
     "name": "stdout",
     "output_type": "stream",
     "text": [
      "📥 Loading model: google/paligemma2-3b-pt-224\n"
     ]
    },
    {
     "name": "stderr",
     "output_type": "stream",
     "text": [
      "\n",
      "\n",
      "Loading checkpoint shards:   0%|          | 0/2 [00:00<?, ?it/s]\u001b[A\u001b[A\n",
      "\n",
      "Loading checkpoint shards:  50%|█████     | 1/2 [00:00<00:00,  1.26it/s]\u001b[A\u001b[A\n",
      "\n",
      "Loading checkpoint shards: 100%|██████████| 2/2 [00:00<00:00,  2.06it/s]\u001b[A\u001b[A\n",
      "\n",
      "Layer 20 texts:   1%|          | 1/100 [00:12<19:54, 12.06s/it]\u001b[A"
     ]
    },
    {
     "name": "stdout",
     "output_type": "stream",
     "text": [
      "⚠️  No logits available for google/paligemma2-3b-pt-224, using zero loss\n",
      "📥 Loading model: google/gemma-2-2b\n"
     ]
    },
    {
     "name": "stderr",
     "output_type": "stream",
     "text": [
      "\n",
      "\n",
      "Loading checkpoint shards: 100%|██████████| 3/3 [00:00<00:00, 62.46it/s]\n"
     ]
    },
    {
     "name": "stdout",
     "output_type": "stream",
     "text": [
      "📥 Loading model: google/paligemma2-3b-pt-224\n"
     ]
    },
    {
     "name": "stderr",
     "output_type": "stream",
     "text": [
      "\n",
      "\n",
      "Loading checkpoint shards:   0%|          | 0/2 [00:00<?, ?it/s]\u001b[A\u001b[A\n",
      "\n",
      "Loading checkpoint shards:  50%|█████     | 1/2 [00:00<00:00,  1.26it/s]\u001b[A\u001b[A\n",
      "\n",
      "Loading checkpoint shards: 100%|██████████| 2/2 [00:00<00:00,  2.04it/s]\u001b[A\u001b[A\n",
      "\n",
      "Layer 20 texts:   2%|▏         | 2/100 [00:24<19:39, 12.04s/it]\u001b[A"
     ]
    },
    {
     "name": "stdout",
     "output_type": "stream",
     "text": [
      "⚠️  No logits available for google/paligemma2-3b-pt-224, using zero loss\n",
      "📥 Loading model: google/gemma-2-2b\n"
     ]
    },
    {
     "name": "stderr",
     "output_type": "stream",
     "text": [
      "\n",
      "\n",
      "Loading checkpoint shards: 100%|██████████| 3/3 [00:00<00:00, 54.74it/s]\n"
     ]
    },
    {
     "name": "stdout",
     "output_type": "stream",
     "text": [
      "📥 Loading model: google/paligemma2-3b-pt-224\n"
     ]
    },
    {
     "name": "stderr",
     "output_type": "stream",
     "text": [
      "\n",
      "\n",
      "Loading checkpoint shards:   0%|          | 0/2 [00:00<?, ?it/s]\u001b[A\u001b[A\n",
      "\n",
      "Loading checkpoint shards:  50%|█████     | 1/2 [00:00<00:00,  1.25it/s]\u001b[A\u001b[A\n",
      "\n",
      "Loading checkpoint shards: 100%|██████████| 2/2 [00:00<00:00,  2.06it/s]\u001b[A\u001b[A\n",
      "\n",
      "Layer 20 texts:   3%|▎         | 3/100 [00:36<19:34, 12.11s/it]\u001b[A"
     ]
    },
    {
     "name": "stdout",
     "output_type": "stream",
     "text": [
      "⚠️  No logits available for google/paligemma2-3b-pt-224, using zero loss\n",
      "📥 Loading model: google/gemma-2-2b\n"
     ]
    },
    {
     "name": "stderr",
     "output_type": "stream",
     "text": [
      "\n",
      "\n",
      "Loading checkpoint shards: 100%|██████████| 3/3 [00:00<00:00, 60.33it/s]\n"
     ]
    },
    {
     "name": "stdout",
     "output_type": "stream",
     "text": [
      "📥 Loading model: google/paligemma2-3b-pt-224\n"
     ]
    },
    {
     "name": "stderr",
     "output_type": "stream",
     "text": [
      "\n",
      "\n",
      "Loading checkpoint shards:   0%|          | 0/2 [00:00<?, ?it/s]\u001b[A\u001b[A\n",
      "\n",
      "Loading checkpoint shards:  50%|█████     | 1/2 [00:00<00:00,  1.20it/s]\u001b[A\u001b[A\n",
      "\n",
      "Loading checkpoint shards: 100%|██████████| 2/2 [00:01<00:00,  1.98it/s]\u001b[A\u001b[A\n",
      "\n",
      "Layer 20 texts:   4%|▍         | 4/100 [00:48<19:17, 12.06s/it]\u001b[A"
     ]
    },
    {
     "name": "stdout",
     "output_type": "stream",
     "text": [
      "⚠️  No logits available for google/paligemma2-3b-pt-224, using zero loss\n",
      "📥 Loading model: google/gemma-2-2b\n"
     ]
    },
    {
     "name": "stderr",
     "output_type": "stream",
     "text": [
      "\n",
      "\n",
      "Loading checkpoint shards: 100%|██████████| 3/3 [00:00<00:00, 57.52it/s]\n"
     ]
    },
    {
     "name": "stdout",
     "output_type": "stream",
     "text": [
      "📥 Loading model: google/paligemma2-3b-pt-224\n"
     ]
    },
    {
     "name": "stderr",
     "output_type": "stream",
     "text": [
      "\n",
      "\n",
      "Loading checkpoint shards:   0%|          | 0/2 [00:00<?, ?it/s]\u001b[A\u001b[A\n",
      "\n",
      "Loading checkpoint shards:  50%|█████     | 1/2 [00:00<00:00,  1.24it/s]\u001b[A\u001b[A\n",
      "\n",
      "Loading checkpoint shards: 100%|██████████| 2/2 [00:00<00:00,  2.03it/s]\u001b[A\u001b[A\n",
      "\n",
      "Layer 20 texts:   5%|▌         | 5/100 [01:00<18:58, 11.98s/it]\u001b[A"
     ]
    },
    {
     "name": "stdout",
     "output_type": "stream",
     "text": [
      "⚠️  No logits available for google/paligemma2-3b-pt-224, using zero loss\n",
      "📥 Loading model: google/gemma-2-2b\n"
     ]
    },
    {
     "name": "stderr",
     "output_type": "stream",
     "text": [
      "\n",
      "\n",
      "Loading checkpoint shards: 100%|██████████| 3/3 [00:00<00:00, 59.67it/s]\n"
     ]
    },
    {
     "name": "stdout",
     "output_type": "stream",
     "text": [
      "📥 Loading model: google/paligemma2-3b-pt-224\n"
     ]
    },
    {
     "name": "stderr",
     "output_type": "stream",
     "text": [
      "\n",
      "\n",
      "Loading checkpoint shards:   0%|          | 0/2 [00:00<?, ?it/s]\u001b[A\u001b[A\n",
      "\n",
      "Loading checkpoint shards:  50%|█████     | 1/2 [00:00<00:00,  1.25it/s]\u001b[A\u001b[A\n",
      "\n",
      "Loading checkpoint shards: 100%|██████████| 2/2 [00:00<00:00,  2.05it/s]\u001b[A\u001b[A\n",
      "\n",
      "Layer 20 texts:   6%|▌         | 6/100 [01:12<18:49, 12.02s/it]\u001b[A"
     ]
    },
    {
     "name": "stdout",
     "output_type": "stream",
     "text": [
      "⚠️  No logits available for google/paligemma2-3b-pt-224, using zero loss\n",
      "📥 Loading model: google/gemma-2-2b\n"
     ]
    },
    {
     "name": "stderr",
     "output_type": "stream",
     "text": [
      "\n",
      "\n",
      "Loading checkpoint shards: 100%|██████████| 3/3 [00:00<00:00, 58.94it/s]\n"
     ]
    },
    {
     "name": "stdout",
     "output_type": "stream",
     "text": [
      "📥 Loading model: google/paligemma2-3b-pt-224\n"
     ]
    },
    {
     "name": "stderr",
     "output_type": "stream",
     "text": [
      "\n",
      "\n",
      "Loading checkpoint shards:   0%|          | 0/2 [00:00<?, ?it/s]\u001b[A\u001b[A\n",
      "\n",
      "Loading checkpoint shards:  50%|█████     | 1/2 [00:00<00:00,  1.29it/s]\u001b[A\u001b[A\n",
      "\n",
      "Loading checkpoint shards: 100%|██████████| 2/2 [00:00<00:00,  2.10it/s]\u001b[A\u001b[A\n",
      "\n",
      "Layer 20 texts:   7%|▋         | 7/100 [01:24<18:37, 12.01s/it]\u001b[A"
     ]
    },
    {
     "name": "stdout",
     "output_type": "stream",
     "text": [
      "⚠️  No logits available for google/paligemma2-3b-pt-224, using zero loss\n",
      "📥 Loading model: google/gemma-2-2b\n"
     ]
    },
    {
     "name": "stderr",
     "output_type": "stream",
     "text": [
      "\n",
      "\n",
      "Loading checkpoint shards: 100%|██████████| 3/3 [00:00<00:00, 60.10it/s]\n"
     ]
    },
    {
     "name": "stdout",
     "output_type": "stream",
     "text": [
      "📥 Loading model: google/paligemma2-3b-pt-224\n"
     ]
    },
    {
     "name": "stderr",
     "output_type": "stream",
     "text": [
      "\n",
      "\n",
      "Loading checkpoint shards:   0%|          | 0/2 [00:00<?, ?it/s]\u001b[A\u001b[A\n",
      "\n",
      "Loading checkpoint shards:  50%|█████     | 1/2 [00:00<00:00,  1.24it/s]\u001b[A\u001b[A\n",
      "\n",
      "Loading checkpoint shards: 100%|██████████| 2/2 [00:00<00:00,  2.04it/s]\u001b[A\u001b[A\n",
      "\n",
      "Layer 20 texts:   8%|▊         | 8/100 [01:36<18:21, 11.97s/it]\u001b[A"
     ]
    },
    {
     "name": "stdout",
     "output_type": "stream",
     "text": [
      "⚠️  No logits available for google/paligemma2-3b-pt-224, using zero loss\n",
      "📥 Loading model: google/gemma-2-2b\n"
     ]
    },
    {
     "name": "stderr",
     "output_type": "stream",
     "text": [
      "\n",
      "\n",
      "Loading checkpoint shards: 100%|██████████| 3/3 [00:00<00:00, 60.72it/s]\n"
     ]
    },
    {
     "name": "stdout",
     "output_type": "stream",
     "text": [
      "📥 Loading model: google/paligemma2-3b-pt-224\n"
     ]
    },
    {
     "name": "stderr",
     "output_type": "stream",
     "text": [
      "\n",
      "\n",
      "Loading checkpoint shards:   0%|          | 0/2 [00:00<?, ?it/s]\u001b[A\u001b[A\n",
      "\n",
      "Loading checkpoint shards:  50%|█████     | 1/2 [00:00<00:00,  1.29it/s]\u001b[A\u001b[A\n",
      "\n",
      "Loading checkpoint shards: 100%|██████████| 2/2 [00:00<00:00,  2.11it/s]\u001b[A\u001b[A\n",
      "\n",
      "Layer 20 texts:   9%|▉         | 9/100 [01:48<18:10, 11.98s/it]\u001b[A"
     ]
    },
    {
     "name": "stdout",
     "output_type": "stream",
     "text": [
      "⚠️  No logits available for google/paligemma2-3b-pt-224, using zero loss\n",
      "📥 Loading model: google/gemma-2-2b\n"
     ]
    },
    {
     "name": "stderr",
     "output_type": "stream",
     "text": [
      "\n",
      "\n",
      "Loading checkpoint shards: 100%|██████████| 3/3 [00:00<00:00, 61.00it/s]\n"
     ]
    },
    {
     "name": "stdout",
     "output_type": "stream",
     "text": [
      "📥 Loading model: google/paligemma2-3b-pt-224\n"
     ]
    },
    {
     "name": "stderr",
     "output_type": "stream",
     "text": [
      "\n",
      "\n",
      "Loading checkpoint shards:   0%|          | 0/2 [00:00<?, ?it/s]\u001b[A\u001b[A\n",
      "\n",
      "Loading checkpoint shards:  50%|█████     | 1/2 [00:00<00:00,  1.28it/s]\u001b[A\u001b[A\n",
      "\n",
      "Loading checkpoint shards: 100%|██████████| 2/2 [00:00<00:00,  2.05it/s]\u001b[A\u001b[A\n",
      "\n",
      "Layer 20 texts:  10%|█         | 10/100 [01:59<17:55, 11.95s/it]\u001b[A"
     ]
    },
    {
     "name": "stdout",
     "output_type": "stream",
     "text": [
      "⚠️  No logits available for google/paligemma2-3b-pt-224, using zero loss\n",
      "📥 Loading model: google/gemma-2-2b\n"
     ]
    },
    {
     "name": "stderr",
     "output_type": "stream",
     "text": [
      "\n",
      "\n",
      "Loading checkpoint shards: 100%|██████████| 3/3 [00:00<00:00, 59.10it/s]\n"
     ]
    },
    {
     "name": "stdout",
     "output_type": "stream",
     "text": [
      "📥 Loading model: google/paligemma2-3b-pt-224\n"
     ]
    },
    {
     "name": "stderr",
     "output_type": "stream",
     "text": [
      "\n",
      "\n",
      "Loading checkpoint shards:   0%|          | 0/2 [00:00<?, ?it/s]\u001b[A\u001b[A\n",
      "\n",
      "Loading checkpoint shards:  50%|█████     | 1/2 [00:00<00:00,  1.27it/s]\u001b[A\u001b[A\n",
      "\n",
      "Loading checkpoint shards: 100%|██████████| 2/2 [00:00<00:00,  2.08it/s]\u001b[A\u001b[A\n",
      "\n",
      "Layer 20 texts:  11%|█         | 11/100 [02:11<17:43, 11.95s/it]\u001b[A"
     ]
    },
    {
     "name": "stdout",
     "output_type": "stream",
     "text": [
      "⚠️  No logits available for google/paligemma2-3b-pt-224, using zero loss\n",
      "📥 Loading model: google/gemma-2-2b\n"
     ]
    },
    {
     "name": "stderr",
     "output_type": "stream",
     "text": [
      "\n",
      "\n",
      "Loading checkpoint shards: 100%|██████████| 3/3 [00:00<00:00, 61.14it/s]\n"
     ]
    },
    {
     "name": "stdout",
     "output_type": "stream",
     "text": [
      "📥 Loading model: google/paligemma2-3b-pt-224\n"
     ]
    },
    {
     "name": "stderr",
     "output_type": "stream",
     "text": [
      "\n",
      "\n",
      "Loading checkpoint shards:   0%|          | 0/2 [00:00<?, ?it/s]\u001b[A\u001b[A\n",
      "\n",
      "Loading checkpoint shards:  50%|█████     | 1/2 [00:00<00:00,  1.31it/s]\u001b[A\u001b[A\n",
      "\n",
      "Loading checkpoint shards: 100%|██████████| 2/2 [00:00<00:00,  2.13it/s]\u001b[A\u001b[A\n",
      "\n",
      "Layer 20 texts:  12%|█▏        | 12/100 [02:23<17:30, 11.93s/it]\u001b[A"
     ]
    },
    {
     "name": "stdout",
     "output_type": "stream",
     "text": [
      "⚠️  No logits available for google/paligemma2-3b-pt-224, using zero loss\n",
      "📥 Loading model: google/gemma-2-2b\n"
     ]
    },
    {
     "name": "stderr",
     "output_type": "stream",
     "text": [
      "\n",
      "\n",
      "Loading checkpoint shards: 100%|██████████| 3/3 [00:00<00:00, 62.23it/s]\n"
     ]
    },
    {
     "name": "stdout",
     "output_type": "stream",
     "text": [
      "📥 Loading model: google/paligemma2-3b-pt-224\n"
     ]
    },
    {
     "name": "stderr",
     "output_type": "stream",
     "text": [
      "\n",
      "\n",
      "Loading checkpoint shards:   0%|          | 0/2 [00:00<?, ?it/s]\u001b[A\u001b[A\n",
      "\n",
      "Loading checkpoint shards:  50%|█████     | 1/2 [00:00<00:00,  1.26it/s]\u001b[A\u001b[A\n",
      "\n",
      "Loading checkpoint shards: 100%|██████████| 2/2 [00:00<00:00,  2.07it/s]\u001b[A\u001b[A\n",
      "\n",
      "Layer 20 texts:  13%|█▎        | 13/100 [02:35<17:13, 11.88s/it]\u001b[A"
     ]
    },
    {
     "name": "stdout",
     "output_type": "stream",
     "text": [
      "⚠️  No logits available for google/paligemma2-3b-pt-224, using zero loss\n",
      "📥 Loading model: google/gemma-2-2b\n"
     ]
    },
    {
     "name": "stderr",
     "output_type": "stream",
     "text": [
      "\n",
      "\n",
      "Loading checkpoint shards: 100%|██████████| 3/3 [00:00<00:00, 59.23it/s]\n"
     ]
    },
    {
     "name": "stdout",
     "output_type": "stream",
     "text": [
      "📥 Loading model: google/paligemma2-3b-pt-224\n"
     ]
    },
    {
     "name": "stderr",
     "output_type": "stream",
     "text": [
      "\n",
      "\n",
      "Loading checkpoint shards:   0%|          | 0/2 [00:00<?, ?it/s]\u001b[A\u001b[A\n",
      "\n",
      "Loading checkpoint shards:  50%|█████     | 1/2 [00:00<00:00,  1.29it/s]\u001b[A\u001b[A\n",
      "\n",
      "Loading checkpoint shards: 100%|██████████| 2/2 [00:00<00:00,  2.10it/s]\u001b[A\u001b[A\n",
      "\n",
      "Layer 20 texts:  14%|█▍        | 14/100 [02:47<17:01, 11.88s/it]\u001b[A"
     ]
    },
    {
     "name": "stdout",
     "output_type": "stream",
     "text": [
      "⚠️  No logits available for google/paligemma2-3b-pt-224, using zero loss\n",
      "📥 Loading model: google/gemma-2-2b\n"
     ]
    },
    {
     "name": "stderr",
     "output_type": "stream",
     "text": [
      "\n",
      "\n",
      "Loading checkpoint shards: 100%|██████████| 3/3 [00:00<00:00, 55.30it/s]\n"
     ]
    },
    {
     "name": "stdout",
     "output_type": "stream",
     "text": [
      "📥 Loading model: google/paligemma2-3b-pt-224\n"
     ]
    },
    {
     "name": "stderr",
     "output_type": "stream",
     "text": [
      "\n",
      "\n",
      "Loading checkpoint shards:   0%|          | 0/2 [00:00<?, ?it/s]\u001b[A\u001b[A\n",
      "\n",
      "Loading checkpoint shards:  50%|█████     | 1/2 [00:00<00:00,  1.29it/s]\u001b[A\u001b[A\n",
      "\n",
      "Loading checkpoint shards: 100%|██████████| 2/2 [00:00<00:00,  2.11it/s]\u001b[A\u001b[A\n",
      "\n",
      "Layer 20 texts:  15%|█▌        | 15/100 [02:59<16:51, 11.90s/it]\u001b[A"
     ]
    },
    {
     "name": "stdout",
     "output_type": "stream",
     "text": [
      "⚠️  No logits available for google/paligemma2-3b-pt-224, using zero loss\n",
      "📥 Loading model: google/gemma-2-2b\n"
     ]
    },
    {
     "name": "stderr",
     "output_type": "stream",
     "text": [
      "\n",
      "\n",
      "Loading checkpoint shards: 100%|██████████| 3/3 [00:00<00:00, 61.79it/s]\n"
     ]
    },
    {
     "name": "stdout",
     "output_type": "stream",
     "text": [
      "📥 Loading model: google/paligemma2-3b-pt-224\n"
     ]
    },
    {
     "name": "stderr",
     "output_type": "stream",
     "text": [
      "\n",
      "\n",
      "Loading checkpoint shards:   0%|          | 0/2 [00:00<?, ?it/s]\u001b[A\u001b[A\n",
      "\n",
      "Loading checkpoint shards:  50%|█████     | 1/2 [00:00<00:00,  1.30it/s]\u001b[A\u001b[A\n",
      "\n",
      "Loading checkpoint shards: 100%|██████████| 2/2 [00:00<00:00,  2.13it/s]\u001b[A\u001b[A\n",
      "\n",
      "Layer 20 texts:  16%|█▌        | 16/100 [03:11<16:36, 11.86s/it]\u001b[A"
     ]
    },
    {
     "name": "stdout",
     "output_type": "stream",
     "text": [
      "⚠️  No logits available for google/paligemma2-3b-pt-224, using zero loss\n",
      "📥 Loading model: google/gemma-2-2b\n"
     ]
    },
    {
     "name": "stderr",
     "output_type": "stream",
     "text": [
      "\n",
      "\n",
      "Loading checkpoint shards: 100%|██████████| 3/3 [00:00<00:00, 61.19it/s]\n"
     ]
    },
    {
     "name": "stdout",
     "output_type": "stream",
     "text": [
      "📥 Loading model: google/paligemma2-3b-pt-224\n"
     ]
    },
    {
     "name": "stderr",
     "output_type": "stream",
     "text": [
      "\n",
      "\n",
      "Loading checkpoint shards:   0%|          | 0/2 [00:00<?, ?it/s]\u001b[A\u001b[A\n",
      "\n",
      "Loading checkpoint shards:  50%|█████     | 1/2 [00:00<00:00,  1.26it/s]\u001b[A\u001b[A\n",
      "\n",
      "Loading checkpoint shards: 100%|██████████| 2/2 [00:00<00:00,  2.07it/s]\u001b[A\u001b[A\n",
      "\n",
      "Layer 20 texts:  17%|█▋        | 17/100 [03:23<16:25, 11.87s/it]\u001b[A"
     ]
    },
    {
     "name": "stdout",
     "output_type": "stream",
     "text": [
      "⚠️  No logits available for google/paligemma2-3b-pt-224, using zero loss\n",
      "📥 Loading model: google/gemma-2-2b\n"
     ]
    },
    {
     "name": "stderr",
     "output_type": "stream",
     "text": [
      "\n",
      "\n",
      "Loading checkpoint shards: 100%|██████████| 3/3 [00:00<00:00, 62.31it/s]\n"
     ]
    },
    {
     "name": "stdout",
     "output_type": "stream",
     "text": [
      "📥 Loading model: google/paligemma2-3b-pt-224\n"
     ]
    },
    {
     "name": "stderr",
     "output_type": "stream",
     "text": [
      "\n",
      "\n",
      "Loading checkpoint shards:   0%|          | 0/2 [00:00<?, ?it/s]\u001b[A\u001b[A\n",
      "\n",
      "Loading checkpoint shards:  50%|█████     | 1/2 [00:00<00:00,  1.26it/s]\u001b[A\u001b[A\n",
      "\n",
      "Loading checkpoint shards: 100%|██████████| 2/2 [00:00<00:00,  2.07it/s]\u001b[A\u001b[A\n",
      "\n",
      "Layer 20 texts:  18%|█▊        | 18/100 [03:35<16:25, 12.02s/it]\u001b[A"
     ]
    },
    {
     "name": "stdout",
     "output_type": "stream",
     "text": [
      "⚠️  No logits available for google/paligemma2-3b-pt-224, using zero loss\n",
      "📥 Loading model: google/gemma-2-2b\n"
     ]
    },
    {
     "name": "stderr",
     "output_type": "stream",
     "text": [
      "\n",
      "\n",
      "Loading checkpoint shards: 100%|██████████| 3/3 [00:00<00:00, 61.25it/s]\n"
     ]
    },
    {
     "name": "stdout",
     "output_type": "stream",
     "text": [
      "📥 Loading model: google/paligemma2-3b-pt-224\n"
     ]
    },
    {
     "name": "stderr",
     "output_type": "stream",
     "text": [
      "\n",
      "\n",
      "Loading checkpoint shards:   0%|          | 0/2 [00:00<?, ?it/s]\u001b[A\u001b[A\n",
      "\n",
      "Loading checkpoint shards:  50%|█████     | 1/2 [00:00<00:00,  1.28it/s]\u001b[A\u001b[A\n",
      "\n",
      "Loading checkpoint shards: 100%|██████████| 2/2 [00:00<00:00,  2.08it/s]\u001b[A\u001b[A\n",
      "\n",
      "Layer 20 texts:  19%|█▉        | 19/100 [03:47<16:13, 12.02s/it]\u001b[A"
     ]
    },
    {
     "name": "stdout",
     "output_type": "stream",
     "text": [
      "⚠️  No logits available for google/paligemma2-3b-pt-224, using zero loss\n",
      "📥 Loading model: google/gemma-2-2b\n"
     ]
    },
    {
     "name": "stderr",
     "output_type": "stream",
     "text": [
      "\n",
      "\n",
      "Loading checkpoint shards: 100%|██████████| 3/3 [00:00<00:00, 59.33it/s]\n"
     ]
    },
    {
     "name": "stdout",
     "output_type": "stream",
     "text": [
      "📥 Loading model: google/paligemma2-3b-pt-224\n"
     ]
    },
    {
     "name": "stderr",
     "output_type": "stream",
     "text": [
      "\n",
      "\n",
      "Loading checkpoint shards:   0%|          | 0/2 [00:00<?, ?it/s]\u001b[A\u001b[A\n",
      "\n",
      "Loading checkpoint shards:  50%|█████     | 1/2 [00:00<00:00,  1.25it/s]\u001b[A\u001b[A\n",
      "\n",
      "Loading checkpoint shards: 100%|██████████| 2/2 [00:00<00:00,  2.06it/s]\u001b[A\u001b[A\n",
      "\n",
      "Layer 20 texts:  20%|██        | 20/100 [03:59<15:55, 11.95s/it]\u001b[A"
     ]
    },
    {
     "name": "stdout",
     "output_type": "stream",
     "text": [
      "⚠️  No logits available for google/paligemma2-3b-pt-224, using zero loss\n",
      "📥 Loading model: google/gemma-2-2b\n"
     ]
    },
    {
     "name": "stderr",
     "output_type": "stream",
     "text": [
      "\n",
      "\n",
      "Loading checkpoint shards: 100%|██████████| 3/3 [00:00<00:00, 61.60it/s]\n"
     ]
    },
    {
     "name": "stdout",
     "output_type": "stream",
     "text": [
      "📥 Loading model: google/paligemma2-3b-pt-224\n"
     ]
    },
    {
     "name": "stderr",
     "output_type": "stream",
     "text": [
      "\n",
      "\n",
      "Loading checkpoint shards:   0%|          | 0/2 [00:00<?, ?it/s]\u001b[A\u001b[A\n",
      "\n",
      "Loading checkpoint shards:  50%|█████     | 1/2 [00:00<00:00,  1.24it/s]\u001b[A\u001b[A\n",
      "\n",
      "Loading checkpoint shards: 100%|██████████| 2/2 [00:00<00:00,  2.03it/s]\u001b[A\u001b[A\n",
      "\n",
      "Layer 20 texts:  21%|██        | 21/100 [04:11<15:43, 11.94s/it]\u001b[A"
     ]
    },
    {
     "name": "stdout",
     "output_type": "stream",
     "text": [
      "⚠️  No logits available for google/paligemma2-3b-pt-224, using zero loss\n",
      "📥 Loading model: google/gemma-2-2b\n"
     ]
    },
    {
     "name": "stderr",
     "output_type": "stream",
     "text": [
      "\n",
      "\n",
      "Loading checkpoint shards: 100%|██████████| 3/3 [00:00<00:00, 61.79it/s]\n"
     ]
    },
    {
     "name": "stdout",
     "output_type": "stream",
     "text": [
      "📥 Loading model: google/paligemma2-3b-pt-224\n"
     ]
    },
    {
     "name": "stderr",
     "output_type": "stream",
     "text": [
      "\n",
      "\n",
      "Loading checkpoint shards:   0%|          | 0/2 [00:00<?, ?it/s]\u001b[A\u001b[A\n",
      "\n",
      "Loading checkpoint shards:  50%|█████     | 1/2 [00:00<00:00,  1.28it/s]\u001b[A\u001b[A\n",
      "\n",
      "Loading checkpoint shards: 100%|██████████| 2/2 [00:00<00:00,  2.09it/s]\u001b[A\u001b[A\n",
      "\n",
      "Layer 20 texts:  22%|██▏       | 22/100 [04:23<15:36, 12.01s/it]\u001b[A"
     ]
    },
    {
     "name": "stdout",
     "output_type": "stream",
     "text": [
      "⚠️  No logits available for google/paligemma2-3b-pt-224, using zero loss\n",
      "📥 Loading model: google/gemma-2-2b\n"
     ]
    },
    {
     "name": "stderr",
     "output_type": "stream",
     "text": [
      "\n",
      "\n",
      "Loading checkpoint shards: 100%|██████████| 3/3 [00:00<00:00, 59.84it/s]\n"
     ]
    },
    {
     "name": "stdout",
     "output_type": "stream",
     "text": [
      "📥 Loading model: google/paligemma2-3b-pt-224\n"
     ]
    },
    {
     "name": "stderr",
     "output_type": "stream",
     "text": [
      "\n",
      "\n",
      "Loading checkpoint shards:   0%|          | 0/2 [00:00<?, ?it/s]\u001b[A\u001b[A\n",
      "\n",
      "Loading checkpoint shards:  50%|█████     | 1/2 [00:00<00:00,  1.27it/s]\u001b[A\u001b[A\n",
      "\n",
      "Loading checkpoint shards: 100%|██████████| 2/2 [00:00<00:00,  2.05it/s]\u001b[A\u001b[A\n",
      "\n",
      "Layer 20 texts:  23%|██▎       | 23/100 [04:35<15:21, 11.97s/it]\u001b[A"
     ]
    },
    {
     "name": "stdout",
     "output_type": "stream",
     "text": [
      "⚠️  No logits available for google/paligemma2-3b-pt-224, using zero loss\n",
      "📥 Loading model: google/gemma-2-2b\n"
     ]
    },
    {
     "name": "stderr",
     "output_type": "stream",
     "text": [
      "\n",
      "\n",
      "Loading checkpoint shards: 100%|██████████| 3/3 [00:00<00:00, 60.99it/s]\n"
     ]
    },
    {
     "name": "stdout",
     "output_type": "stream",
     "text": [
      "📥 Loading model: google/paligemma2-3b-pt-224\n"
     ]
    },
    {
     "name": "stderr",
     "output_type": "stream",
     "text": [
      "\n",
      "\n",
      "Loading checkpoint shards:   0%|          | 0/2 [00:00<?, ?it/s]\u001b[A\u001b[A\n",
      "\n",
      "Loading checkpoint shards:  50%|█████     | 1/2 [00:00<00:00,  1.28it/s]\u001b[A\u001b[A\n",
      "\n",
      "Loading checkpoint shards: 100%|██████████| 2/2 [00:00<00:00,  2.07it/s]\u001b[A\u001b[A\n",
      "\n",
      "Layer 20 texts:  24%|██▍       | 24/100 [04:47<15:10, 11.99s/it]\u001b[A"
     ]
    },
    {
     "name": "stdout",
     "output_type": "stream",
     "text": [
      "⚠️  No logits available for google/paligemma2-3b-pt-224, using zero loss\n",
      "📥 Loading model: google/gemma-2-2b\n"
     ]
    },
    {
     "name": "stderr",
     "output_type": "stream",
     "text": [
      "\n",
      "\n",
      "Loading checkpoint shards: 100%|██████████| 3/3 [00:00<00:00, 59.67it/s]\n"
     ]
    },
    {
     "name": "stdout",
     "output_type": "stream",
     "text": [
      "📥 Loading model: google/paligemma2-3b-pt-224\n"
     ]
    },
    {
     "name": "stderr",
     "output_type": "stream",
     "text": [
      "\n",
      "\n",
      "Loading checkpoint shards:   0%|          | 0/2 [00:00<?, ?it/s]\u001b[A\u001b[A\n",
      "\n",
      "Loading checkpoint shards:  50%|█████     | 1/2 [00:00<00:00,  1.27it/s]\u001b[A\u001b[A\n",
      "\n",
      "Loading checkpoint shards: 100%|██████████| 2/2 [00:00<00:00,  2.08it/s]\u001b[A\u001b[A\n",
      "\n",
      "Layer 20 texts:  25%|██▌       | 25/100 [04:59<15:00, 12.00s/it]\u001b[A"
     ]
    },
    {
     "name": "stdout",
     "output_type": "stream",
     "text": [
      "⚠️  No logits available for google/paligemma2-3b-pt-224, using zero loss\n",
      "📥 Loading model: google/gemma-2-2b\n"
     ]
    },
    {
     "name": "stderr",
     "output_type": "stream",
     "text": [
      "\n",
      "\n",
      "Loading checkpoint shards: 100%|██████████| 3/3 [00:00<00:00, 61.26it/s]\n"
     ]
    },
    {
     "name": "stdout",
     "output_type": "stream",
     "text": [
      "📥 Loading model: google/paligemma2-3b-pt-224\n"
     ]
    },
    {
     "name": "stderr",
     "output_type": "stream",
     "text": [
      "\n",
      "\n",
      "Loading checkpoint shards:   0%|          | 0/2 [00:00<?, ?it/s]\u001b[A\u001b[A\n",
      "\n",
      "Loading checkpoint shards:  50%|█████     | 1/2 [00:00<00:00,  1.29it/s]\u001b[A\u001b[A\n",
      "\n",
      "Loading checkpoint shards: 100%|██████████| 2/2 [00:00<00:00,  2.12it/s]\u001b[A\u001b[A\n",
      "\n",
      "Layer 20 texts:  26%|██▌       | 26/100 [05:11<14:45, 11.97s/it]\u001b[A"
     ]
    },
    {
     "name": "stdout",
     "output_type": "stream",
     "text": [
      "⚠️  No logits available for google/paligemma2-3b-pt-224, using zero loss\n",
      "📥 Loading model: google/gemma-2-2b\n"
     ]
    },
    {
     "name": "stderr",
     "output_type": "stream",
     "text": [
      "\n",
      "\n",
      "Loading checkpoint shards: 100%|██████████| 3/3 [00:00<00:00, 59.50it/s]\n"
     ]
    },
    {
     "name": "stdout",
     "output_type": "stream",
     "text": [
      "📥 Loading model: google/paligemma2-3b-pt-224\n"
     ]
    },
    {
     "name": "stderr",
     "output_type": "stream",
     "text": [
      "\n",
      "\n",
      "Loading checkpoint shards:   0%|          | 0/2 [00:00<?, ?it/s]\u001b[A\u001b[A\n",
      "\n",
      "Loading checkpoint shards:  50%|█████     | 1/2 [00:00<00:00,  1.27it/s]\u001b[A\u001b[A\n",
      "\n",
      "Loading checkpoint shards: 100%|██████████| 2/2 [00:00<00:00,  2.07it/s]\u001b[A\u001b[A\n",
      "\n",
      "Layer 20 texts:  27%|██▋       | 27/100 [05:23<14:31, 11.94s/it]\u001b[A"
     ]
    },
    {
     "name": "stdout",
     "output_type": "stream",
     "text": [
      "⚠️  No logits available for google/paligemma2-3b-pt-224, using zero loss\n",
      "📥 Loading model: google/gemma-2-2b\n"
     ]
    },
    {
     "name": "stderr",
     "output_type": "stream",
     "text": [
      "\n",
      "\n",
      "Loading checkpoint shards: 100%|██████████| 3/3 [00:00<00:00, 61.35it/s]\n"
     ]
    },
    {
     "name": "stdout",
     "output_type": "stream",
     "text": [
      "📥 Loading model: google/paligemma2-3b-pt-224\n"
     ]
    },
    {
     "name": "stderr",
     "output_type": "stream",
     "text": [
      "\n",
      "\n",
      "Loading checkpoint shards:   0%|          | 0/2 [00:00<?, ?it/s]\u001b[A\u001b[A\n",
      "\n",
      "Loading checkpoint shards:  50%|█████     | 1/2 [00:00<00:00,  1.24it/s]\u001b[A\u001b[A\n",
      "\n",
      "Loading checkpoint shards: 100%|██████████| 2/2 [00:00<00:00,  2.05it/s]\u001b[A\u001b[A\n",
      "\n",
      "Layer 20 texts:  28%|██▊       | 28/100 [05:34<14:16, 11.90s/it]\u001b[A"
     ]
    },
    {
     "name": "stdout",
     "output_type": "stream",
     "text": [
      "⚠️  No logits available for google/paligemma2-3b-pt-224, using zero loss\n",
      "📥 Loading model: google/gemma-2-2b\n"
     ]
    },
    {
     "name": "stderr",
     "output_type": "stream",
     "text": [
      "\n",
      "\n",
      "Loading checkpoint shards: 100%|██████████| 3/3 [00:00<00:00, 61.07it/s]\n"
     ]
    },
    {
     "name": "stdout",
     "output_type": "stream",
     "text": [
      "📥 Loading model: google/paligemma2-3b-pt-224\n"
     ]
    },
    {
     "name": "stderr",
     "output_type": "stream",
     "text": [
      "\n",
      "\n",
      "Loading checkpoint shards:   0%|          | 0/2 [00:00<?, ?it/s]\u001b[A\u001b[A\n",
      "\n",
      "Loading checkpoint shards:  50%|█████     | 1/2 [00:00<00:00,  1.26it/s]\u001b[A\u001b[A\n",
      "\n",
      "Loading checkpoint shards: 100%|██████████| 2/2 [00:00<00:00,  2.06it/s]\u001b[A\u001b[A\n",
      "\n",
      "Layer 20 texts:  29%|██▉       | 29/100 [05:46<14:06, 11.92s/it]\u001b[A"
     ]
    },
    {
     "name": "stdout",
     "output_type": "stream",
     "text": [
      "⚠️  No logits available for google/paligemma2-3b-pt-224, using zero loss\n",
      "📥 Loading model: google/gemma-2-2b\n"
     ]
    },
    {
     "name": "stderr",
     "output_type": "stream",
     "text": [
      "\n",
      "\n",
      "Loading checkpoint shards: 100%|██████████| 3/3 [00:00<00:00, 57.83it/s]\n"
     ]
    },
    {
     "name": "stdout",
     "output_type": "stream",
     "text": [
      "📥 Loading model: google/paligemma2-3b-pt-224\n"
     ]
    },
    {
     "name": "stderr",
     "output_type": "stream",
     "text": [
      "\n",
      "\n",
      "Loading checkpoint shards:   0%|          | 0/2 [00:00<?, ?it/s]\u001b[A\u001b[A\n",
      "\n",
      "Loading checkpoint shards:  50%|█████     | 1/2 [00:00<00:00,  1.27it/s]\u001b[A\u001b[A\n",
      "\n",
      "Loading checkpoint shards: 100%|██████████| 2/2 [00:00<00:00,  2.06it/s]\u001b[A\u001b[A\n",
      "\n",
      "Layer 20 texts:  30%|███       | 30/100 [05:59<14:00, 12.01s/it]\u001b[A"
     ]
    },
    {
     "name": "stdout",
     "output_type": "stream",
     "text": [
      "⚠️  No logits available for google/paligemma2-3b-pt-224, using zero loss\n",
      "📥 Loading model: google/gemma-2-2b\n"
     ]
    },
    {
     "name": "stderr",
     "output_type": "stream",
     "text": [
      "\n",
      "\n",
      "Loading checkpoint shards: 100%|██████████| 3/3 [00:00<00:00, 60.71it/s]\n"
     ]
    },
    {
     "name": "stdout",
     "output_type": "stream",
     "text": [
      "📥 Loading model: google/paligemma2-3b-pt-224\n"
     ]
    },
    {
     "name": "stderr",
     "output_type": "stream",
     "text": [
      "\n",
      "\n",
      "Loading checkpoint shards:   0%|          | 0/2 [00:00<?, ?it/s]\u001b[A\u001b[A\n",
      "\n",
      "Loading checkpoint shards:  50%|█████     | 1/2 [00:00<00:00,  1.29it/s]\u001b[A\u001b[A\n",
      "\n",
      "Loading checkpoint shards: 100%|██████████| 2/2 [00:00<00:00,  2.10it/s]\u001b[A\u001b[A\n",
      "\n",
      "Layer 20 texts:  31%|███       | 31/100 [06:11<13:51, 12.05s/it]\u001b[A"
     ]
    },
    {
     "name": "stdout",
     "output_type": "stream",
     "text": [
      "⚠️  No logits available for google/paligemma2-3b-pt-224, using zero loss\n",
      "📥 Loading model: google/gemma-2-2b\n"
     ]
    },
    {
     "name": "stderr",
     "output_type": "stream",
     "text": [
      "\n",
      "\n",
      "Loading checkpoint shards: 100%|██████████| 3/3 [00:00<00:00, 60.20it/s]\n"
     ]
    },
    {
     "name": "stdout",
     "output_type": "stream",
     "text": [
      "📥 Loading model: google/paligemma2-3b-pt-224\n"
     ]
    },
    {
     "name": "stderr",
     "output_type": "stream",
     "text": [
      "\n",
      "\n",
      "Loading checkpoint shards:   0%|          | 0/2 [00:00<?, ?it/s]\u001b[A\u001b[A\n",
      "\n",
      "Loading checkpoint shards:  50%|█████     | 1/2 [00:00<00:00,  1.23it/s]\u001b[A\u001b[A\n",
      "\n",
      "Loading checkpoint shards: 100%|██████████| 2/2 [00:00<00:00,  2.01it/s]\u001b[A\u001b[A\n",
      "\n",
      "Layer 20 texts:  32%|███▏      | 32/100 [06:22<13:33, 11.97s/it]\u001b[A"
     ]
    },
    {
     "name": "stdout",
     "output_type": "stream",
     "text": [
      "⚠️  No logits available for google/paligemma2-3b-pt-224, using zero loss\n",
      "📥 Loading model: google/gemma-2-2b\n"
     ]
    },
    {
     "name": "stderr",
     "output_type": "stream",
     "text": [
      "\n",
      "\n",
      "Loading checkpoint shards: 100%|██████████| 3/3 [00:00<00:00, 60.90it/s]\n"
     ]
    },
    {
     "name": "stdout",
     "output_type": "stream",
     "text": [
      "📥 Loading model: google/paligemma2-3b-pt-224\n"
     ]
    },
    {
     "name": "stderr",
     "output_type": "stream",
     "text": [
      "\n",
      "\n",
      "Loading checkpoint shards:   0%|          | 0/2 [00:00<?, ?it/s]\u001b[A\u001b[A\n",
      "\n",
      "Loading checkpoint shards:  50%|█████     | 1/2 [00:00<00:00,  1.26it/s]\u001b[A\u001b[A\n",
      "\n",
      "Loading checkpoint shards: 100%|██████████| 2/2 [00:00<00:00,  2.08it/s]\u001b[A\u001b[A\n",
      "\n",
      "Layer 20 texts:  33%|███▎      | 33/100 [06:34<13:21, 11.96s/it]\u001b[A"
     ]
    },
    {
     "name": "stdout",
     "output_type": "stream",
     "text": [
      "⚠️  No logits available for google/paligemma2-3b-pt-224, using zero loss\n",
      "📥 Loading model: google/gemma-2-2b\n"
     ]
    },
    {
     "name": "stderr",
     "output_type": "stream",
     "text": [
      "\n",
      "\n",
      "Loading checkpoint shards: 100%|██████████| 3/3 [00:00<00:00, 61.12it/s]\n"
     ]
    },
    {
     "name": "stdout",
     "output_type": "stream",
     "text": [
      "📥 Loading model: google/paligemma2-3b-pt-224\n"
     ]
    },
    {
     "name": "stderr",
     "output_type": "stream",
     "text": [
      "\n",
      "\n",
      "Loading checkpoint shards:   0%|          | 0/2 [00:00<?, ?it/s]\u001b[A\u001b[A\n",
      "\n",
      "Loading checkpoint shards:  50%|█████     | 1/2 [00:00<00:00,  1.28it/s]\u001b[A\u001b[A\n",
      "\n",
      "Loading checkpoint shards: 100%|██████████| 2/2 [00:00<00:00,  2.10it/s]\u001b[A\u001b[A\n",
      "\n",
      "Layer 20 texts:  34%|███▍      | 34/100 [06:46<13:09, 11.95s/it]\u001b[A"
     ]
    },
    {
     "name": "stdout",
     "output_type": "stream",
     "text": [
      "⚠️  No logits available for google/paligemma2-3b-pt-224, using zero loss\n",
      "📥 Loading model: google/gemma-2-2b\n"
     ]
    },
    {
     "name": "stderr",
     "output_type": "stream",
     "text": [
      "\n",
      "\n",
      "Loading checkpoint shards: 100%|██████████| 3/3 [00:00<00:00, 61.54it/s]\n"
     ]
    },
    {
     "name": "stdout",
     "output_type": "stream",
     "text": [
      "📥 Loading model: google/paligemma2-3b-pt-224\n"
     ]
    },
    {
     "name": "stderr",
     "output_type": "stream",
     "text": [
      "\n",
      "\n",
      "Loading checkpoint shards:   0%|          | 0/2 [00:00<?, ?it/s]\u001b[A\u001b[A\n",
      "\n",
      "Loading checkpoint shards:  50%|█████     | 1/2 [00:00<00:00,  1.25it/s]\u001b[A\u001b[A\n",
      "\n",
      "Loading checkpoint shards: 100%|██████████| 2/2 [00:00<00:00,  2.07it/s]\u001b[A\u001b[A\n",
      "\n",
      "Layer 20 texts:  35%|███▌      | 35/100 [06:58<12:56, 11.95s/it]\u001b[A"
     ]
    },
    {
     "name": "stdout",
     "output_type": "stream",
     "text": [
      "⚠️  No logits available for google/paligemma2-3b-pt-224, using zero loss\n",
      "📥 Loading model: google/gemma-2-2b\n"
     ]
    },
    {
     "name": "stderr",
     "output_type": "stream",
     "text": [
      "\n",
      "\n",
      "Loading checkpoint shards: 100%|██████████| 3/3 [00:00<00:00, 61.18it/s]\n"
     ]
    },
    {
     "name": "stdout",
     "output_type": "stream",
     "text": [
      "📥 Loading model: google/paligemma2-3b-pt-224\n"
     ]
    },
    {
     "name": "stderr",
     "output_type": "stream",
     "text": [
      "\n",
      "\n",
      "Loading checkpoint shards:   0%|          | 0/2 [00:00<?, ?it/s]\u001b[A\u001b[A\n",
      "\n",
      "Loading checkpoint shards:  50%|█████     | 1/2 [00:00<00:00,  1.29it/s]\u001b[A\u001b[A\n",
      "\n",
      "Loading checkpoint shards: 100%|██████████| 2/2 [00:00<00:00,  2.09it/s]\u001b[A\u001b[A\n",
      "\n",
      "Layer 20 texts:  36%|███▌      | 36/100 [07:10<12:42, 11.91s/it]\u001b[A"
     ]
    },
    {
     "name": "stdout",
     "output_type": "stream",
     "text": [
      "⚠️  No logits available for google/paligemma2-3b-pt-224, using zero loss\n",
      "📥 Loading model: google/gemma-2-2b\n"
     ]
    },
    {
     "name": "stderr",
     "output_type": "stream",
     "text": [
      "\n",
      "\n",
      "Loading checkpoint shards: 100%|██████████| 3/3 [00:00<00:00, 61.95it/s]\n"
     ]
    },
    {
     "name": "stdout",
     "output_type": "stream",
     "text": [
      "📥 Loading model: google/paligemma2-3b-pt-224\n"
     ]
    },
    {
     "name": "stderr",
     "output_type": "stream",
     "text": [
      "\n",
      "\n",
      "Loading checkpoint shards:   0%|          | 0/2 [00:00<?, ?it/s]\u001b[A\u001b[A\n",
      "\n",
      "Loading checkpoint shards:  50%|█████     | 1/2 [00:00<00:00,  1.29it/s]\u001b[A\u001b[A\n",
      "\n",
      "Loading checkpoint shards: 100%|██████████| 2/2 [00:00<00:00,  2.11it/s]\u001b[A\u001b[A\n",
      "\n",
      "Layer 20 texts:  37%|███▋      | 37/100 [07:22<12:30, 11.91s/it]\u001b[A"
     ]
    },
    {
     "name": "stdout",
     "output_type": "stream",
     "text": [
      "⚠️  No logits available for google/paligemma2-3b-pt-224, using zero loss\n",
      "📥 Loading model: google/gemma-2-2b\n"
     ]
    },
    {
     "name": "stderr",
     "output_type": "stream",
     "text": [
      "\n",
      "\n",
      "Loading checkpoint shards: 100%|██████████| 3/3 [00:00<00:00, 59.41it/s]\n"
     ]
    },
    {
     "name": "stdout",
     "output_type": "stream",
     "text": [
      "📥 Loading model: google/paligemma2-3b-pt-224\n"
     ]
    },
    {
     "name": "stderr",
     "output_type": "stream",
     "text": [
      "\n",
      "\n",
      "Loading checkpoint shards:   0%|          | 0/2 [00:00<?, ?it/s]\u001b[A\u001b[A\n",
      "\n",
      "Loading checkpoint shards:  50%|█████     | 1/2 [00:00<00:00,  1.25it/s]\u001b[A\u001b[A\n",
      "\n",
      "Loading checkpoint shards: 100%|██████████| 2/2 [00:00<00:00,  2.07it/s]\u001b[A\u001b[A\n",
      "\n",
      "Layer 20 texts:  38%|███▊      | 38/100 [07:34<12:20, 11.94s/it]\u001b[A"
     ]
    },
    {
     "name": "stdout",
     "output_type": "stream",
     "text": [
      "⚠️  No logits available for google/paligemma2-3b-pt-224, using zero loss\n",
      "📥 Loading model: google/gemma-2-2b\n"
     ]
    },
    {
     "name": "stderr",
     "output_type": "stream",
     "text": [
      "\n",
      "\n",
      "Loading checkpoint shards: 100%|██████████| 3/3 [00:00<00:00, 58.92it/s]\n"
     ]
    },
    {
     "name": "stdout",
     "output_type": "stream",
     "text": [
      "📥 Loading model: google/paligemma2-3b-pt-224\n"
     ]
    },
    {
     "name": "stderr",
     "output_type": "stream",
     "text": [
      "\n",
      "\n",
      "Loading checkpoint shards:   0%|          | 0/2 [00:00<?, ?it/s]\u001b[A\u001b[A\n",
      "\n",
      "Loading checkpoint shards:  50%|█████     | 1/2 [00:00<00:00,  1.27it/s]\u001b[A\u001b[A\n",
      "\n",
      "Loading checkpoint shards: 100%|██████████| 2/2 [00:00<00:00,  2.08it/s]\u001b[A\u001b[A\n",
      "\n",
      "Layer 20 texts:  39%|███▉      | 39/100 [07:46<12:10, 11.97s/it]\u001b[A"
     ]
    },
    {
     "name": "stdout",
     "output_type": "stream",
     "text": [
      "⚠️  No logits available for google/paligemma2-3b-pt-224, using zero loss\n",
      "📥 Loading model: google/gemma-2-2b\n"
     ]
    },
    {
     "name": "stderr",
     "output_type": "stream",
     "text": [
      "\n",
      "\n",
      "Loading checkpoint shards: 100%|██████████| 3/3 [00:00<00:00, 59.50it/s]\n"
     ]
    },
    {
     "name": "stdout",
     "output_type": "stream",
     "text": [
      "📥 Loading model: google/paligemma2-3b-pt-224\n"
     ]
    },
    {
     "name": "stderr",
     "output_type": "stream",
     "text": [
      "\n",
      "\n",
      "Loading checkpoint shards:   0%|          | 0/2 [00:00<?, ?it/s]\u001b[A\u001b[A\n",
      "\n",
      "Loading checkpoint shards:  50%|█████     | 1/2 [00:00<00:00,  1.31it/s]\u001b[A\u001b[A\n",
      "\n",
      "Loading checkpoint shards: 100%|██████████| 2/2 [00:00<00:00,  2.13it/s]\u001b[A\u001b[A\n",
      "\n",
      "Layer 20 texts:  40%|████      | 40/100 [07:58<11:54, 11.91s/it]\u001b[A"
     ]
    },
    {
     "name": "stdout",
     "output_type": "stream",
     "text": [
      "⚠️  No logits available for google/paligemma2-3b-pt-224, using zero loss\n",
      "📥 Loading model: google/gemma-2-2b\n"
     ]
    },
    {
     "name": "stderr",
     "output_type": "stream",
     "text": [
      "\n",
      "\n",
      "Loading checkpoint shards: 100%|██████████| 3/3 [00:00<00:00, 59.45it/s]\n"
     ]
    },
    {
     "name": "stdout",
     "output_type": "stream",
     "text": [
      "📥 Loading model: google/paligemma2-3b-pt-224\n"
     ]
    },
    {
     "name": "stderr",
     "output_type": "stream",
     "text": [
      "\n",
      "\n",
      "Loading checkpoint shards:   0%|          | 0/2 [00:00<?, ?it/s]\u001b[A\u001b[A\n",
      "\n",
      "Loading checkpoint shards:  50%|█████     | 1/2 [00:00<00:00,  1.26it/s]\u001b[A\u001b[A\n",
      "\n",
      "Loading checkpoint shards: 100%|██████████| 2/2 [00:00<00:00,  2.08it/s]\u001b[A\u001b[A\n",
      "\n",
      "Layer 20 texts:  41%|████      | 41/100 [08:10<11:41, 11.89s/it]\u001b[A"
     ]
    },
    {
     "name": "stdout",
     "output_type": "stream",
     "text": [
      "⚠️  No logits available for google/paligemma2-3b-pt-224, using zero loss\n",
      "📥 Loading model: google/gemma-2-2b\n"
     ]
    },
    {
     "name": "stderr",
     "output_type": "stream",
     "text": [
      "\n",
      "\n",
      "Loading checkpoint shards: 100%|██████████| 3/3 [00:00<00:00, 61.48it/s]\n"
     ]
    },
    {
     "name": "stdout",
     "output_type": "stream",
     "text": [
      "📥 Loading model: google/paligemma2-3b-pt-224\n"
     ]
    },
    {
     "name": "stderr",
     "output_type": "stream",
     "text": [
      "\n",
      "\n",
      "Loading checkpoint shards:   0%|          | 0/2 [00:00<?, ?it/s]\u001b[A\u001b[A\n",
      "\n",
      "Loading checkpoint shards:  50%|█████     | 1/2 [00:00<00:00,  1.30it/s]\u001b[A\u001b[A\n",
      "\n",
      "Loading checkpoint shards: 100%|██████████| 2/2 [00:00<00:00,  2.12it/s]\u001b[A\u001b[A\n",
      "\n",
      "Layer 20 texts:  42%|████▏     | 42/100 [08:22<11:30, 11.91s/it]\u001b[A"
     ]
    },
    {
     "name": "stdout",
     "output_type": "stream",
     "text": [
      "⚠️  No logits available for google/paligemma2-3b-pt-224, using zero loss\n",
      "📥 Loading model: google/gemma-2-2b\n"
     ]
    },
    {
     "name": "stderr",
     "output_type": "stream",
     "text": [
      "\n",
      "\n",
      "Loading checkpoint shards: 100%|██████████| 3/3 [00:00<00:00, 59.13it/s]\n"
     ]
    },
    {
     "name": "stdout",
     "output_type": "stream",
     "text": [
      "📥 Loading model: google/paligemma2-3b-pt-224\n"
     ]
    },
    {
     "name": "stderr",
     "output_type": "stream",
     "text": [
      "\n",
      "\n",
      "Loading checkpoint shards:   0%|          | 0/2 [00:00<?, ?it/s]\u001b[A\u001b[A\n",
      "\n",
      "Loading checkpoint shards:  50%|█████     | 1/2 [00:00<00:00,  1.23it/s]\u001b[A\u001b[A\n",
      "\n",
      "Loading checkpoint shards: 100%|██████████| 2/2 [00:00<00:00,  2.02it/s]\u001b[A\u001b[A\n",
      "\n",
      "Layer 20 texts:  43%|████▎     | 43/100 [08:34<11:20, 11.94s/it]\u001b[A"
     ]
    },
    {
     "name": "stdout",
     "output_type": "stream",
     "text": [
      "⚠️  No logits available for google/paligemma2-3b-pt-224, using zero loss\n",
      "📥 Loading model: google/gemma-2-2b\n"
     ]
    },
    {
     "name": "stderr",
     "output_type": "stream",
     "text": [
      "\n",
      "\n",
      "Loading checkpoint shards: 100%|██████████| 3/3 [00:00<00:00, 60.24it/s]\n"
     ]
    },
    {
     "name": "stdout",
     "output_type": "stream",
     "text": [
      "📥 Loading model: google/paligemma2-3b-pt-224\n"
     ]
    },
    {
     "name": "stderr",
     "output_type": "stream",
     "text": [
      "\n",
      "\n",
      "Loading checkpoint shards:   0%|          | 0/2 [00:00<?, ?it/s]\u001b[A\u001b[A\n",
      "\n",
      "Loading checkpoint shards:  50%|█████     | 1/2 [00:00<00:00,  1.30it/s]\u001b[A\u001b[A\n",
      "\n",
      "Loading checkpoint shards: 100%|██████████| 2/2 [00:00<00:00,  2.13it/s]\u001b[A\u001b[A\n",
      "\n",
      "Layer 20 texts:  44%|████▍     | 44/100 [08:46<11:12, 12.01s/it]\u001b[A"
     ]
    },
    {
     "name": "stdout",
     "output_type": "stream",
     "text": [
      "⚠️  No logits available for google/paligemma2-3b-pt-224, using zero loss\n",
      "📥 Loading model: google/gemma-2-2b\n"
     ]
    },
    {
     "name": "stderr",
     "output_type": "stream",
     "text": [
      "\n",
      "\n",
      "Loading checkpoint shards: 100%|██████████| 3/3 [00:00<00:00, 61.56it/s]\n"
     ]
    },
    {
     "name": "stdout",
     "output_type": "stream",
     "text": [
      "📥 Loading model: google/paligemma2-3b-pt-224\n"
     ]
    },
    {
     "name": "stderr",
     "output_type": "stream",
     "text": [
      "\n",
      "\n",
      "Loading checkpoint shards:   0%|          | 0/2 [00:00<?, ?it/s]\u001b[A\u001b[A\n",
      "\n",
      "Loading checkpoint shards:  50%|█████     | 1/2 [00:00<00:00,  1.24it/s]\u001b[A\u001b[A\n",
      "\n",
      "Loading checkpoint shards: 100%|██████████| 2/2 [00:00<00:00,  2.02it/s]\u001b[A\u001b[A\n",
      "\n",
      "Layer 20 texts:  45%|████▌     | 45/100 [08:58<11:02, 12.04s/it]\u001b[A"
     ]
    },
    {
     "name": "stdout",
     "output_type": "stream",
     "text": [
      "⚠️  No logits available for google/paligemma2-3b-pt-224, using zero loss\n",
      "📥 Loading model: google/gemma-2-2b\n"
     ]
    },
    {
     "name": "stderr",
     "output_type": "stream",
     "text": [
      "\n",
      "\n",
      "Loading checkpoint shards: 100%|██████████| 3/3 [00:00<00:00, 60.91it/s]\n"
     ]
    },
    {
     "name": "stdout",
     "output_type": "stream",
     "text": [
      "📥 Loading model: google/paligemma2-3b-pt-224\n"
     ]
    },
    {
     "name": "stderr",
     "output_type": "stream",
     "text": [
      "\n",
      "\n",
      "Loading checkpoint shards:   0%|          | 0/2 [00:00<?, ?it/s]\u001b[A\u001b[A\n",
      "\n",
      "Loading checkpoint shards:  50%|█████     | 1/2 [00:00<00:00,  1.27it/s]\u001b[A\u001b[A\n",
      "\n",
      "Loading checkpoint shards: 100%|██████████| 2/2 [00:00<00:00,  2.07it/s]\u001b[A\u001b[A\n",
      "\n",
      "Layer 20 texts:  46%|████▌     | 46/100 [09:10<10:48, 12.00s/it]\u001b[A"
     ]
    },
    {
     "name": "stdout",
     "output_type": "stream",
     "text": [
      "⚠️  No logits available for google/paligemma2-3b-pt-224, using zero loss\n",
      "📥 Loading model: google/gemma-2-2b\n"
     ]
    },
    {
     "name": "stderr",
     "output_type": "stream",
     "text": [
      "\n",
      "\n",
      "Loading checkpoint shards: 100%|██████████| 3/3 [00:00<00:00, 60.59it/s]\n"
     ]
    },
    {
     "name": "stdout",
     "output_type": "stream",
     "text": [
      "📥 Loading model: google/paligemma2-3b-pt-224\n"
     ]
    },
    {
     "name": "stderr",
     "output_type": "stream",
     "text": [
      "\n",
      "\n",
      "Loading checkpoint shards:   0%|          | 0/2 [00:00<?, ?it/s]\u001b[A\u001b[A\n",
      "\n",
      "Loading checkpoint shards:  50%|█████     | 1/2 [00:00<00:00,  1.23it/s]\u001b[A\u001b[A\n",
      "\n",
      "Loading checkpoint shards: 100%|██████████| 2/2 [00:00<00:00,  2.01it/s]\u001b[A\u001b[A\n",
      "\n",
      "Layer 20 texts:  47%|████▋     | 47/100 [09:22<10:34, 11.97s/it]\u001b[A"
     ]
    },
    {
     "name": "stdout",
     "output_type": "stream",
     "text": [
      "⚠️  No logits available for google/paligemma2-3b-pt-224, using zero loss\n",
      "📥 Loading model: google/gemma-2-2b\n"
     ]
    },
    {
     "name": "stderr",
     "output_type": "stream",
     "text": [
      "\n",
      "\n",
      "Loading checkpoint shards: 100%|██████████| 3/3 [00:00<00:00, 61.06it/s]\n"
     ]
    },
    {
     "name": "stdout",
     "output_type": "stream",
     "text": [
      "📥 Loading model: google/paligemma2-3b-pt-224\n"
     ]
    },
    {
     "name": "stderr",
     "output_type": "stream",
     "text": [
      "\n",
      "\n",
      "Loading checkpoint shards:   0%|          | 0/2 [00:00<?, ?it/s]\u001b[A\u001b[A\n",
      "\n",
      "Loading checkpoint shards:  50%|█████     | 1/2 [00:00<00:00,  1.20it/s]\u001b[A\u001b[A\n",
      "\n",
      "Loading checkpoint shards: 100%|██████████| 2/2 [00:01<00:00,  2.00it/s]\u001b[A\u001b[A\n",
      "\n",
      "Layer 20 texts:  48%|████▊     | 48/100 [09:34<10:22, 11.97s/it]\u001b[A"
     ]
    },
    {
     "name": "stdout",
     "output_type": "stream",
     "text": [
      "⚠️  No logits available for google/paligemma2-3b-pt-224, using zero loss\n",
      "📥 Loading model: google/gemma-2-2b\n"
     ]
    },
    {
     "name": "stderr",
     "output_type": "stream",
     "text": [
      "\n",
      "\n",
      "Loading checkpoint shards: 100%|██████████| 3/3 [00:00<00:00, 58.74it/s]\n"
     ]
    },
    {
     "name": "stdout",
     "output_type": "stream",
     "text": [
      "📥 Loading model: google/paligemma2-3b-pt-224\n"
     ]
    },
    {
     "name": "stderr",
     "output_type": "stream",
     "text": [
      "\n",
      "\n",
      "Loading checkpoint shards:   0%|          | 0/2 [00:00<?, ?it/s]\u001b[A\u001b[A\n",
      "\n",
      "Loading checkpoint shards:  50%|█████     | 1/2 [00:00<00:00,  1.25it/s]\u001b[A\u001b[A\n",
      "\n",
      "Loading checkpoint shards: 100%|██████████| 2/2 [00:00<00:00,  2.05it/s]\u001b[A\u001b[A\n",
      "\n",
      "Layer 20 texts:  49%|████▉     | 49/100 [09:46<10:12, 12.02s/it]\u001b[A"
     ]
    },
    {
     "name": "stdout",
     "output_type": "stream",
     "text": [
      "⚠️  No logits available for google/paligemma2-3b-pt-224, using zero loss\n",
      "📥 Loading model: google/gemma-2-2b\n"
     ]
    },
    {
     "name": "stderr",
     "output_type": "stream",
     "text": [
      "\n",
      "\n",
      "Loading checkpoint shards: 100%|██████████| 3/3 [00:00<00:00, 58.58it/s]\n"
     ]
    },
    {
     "name": "stdout",
     "output_type": "stream",
     "text": [
      "📥 Loading model: google/paligemma2-3b-pt-224\n"
     ]
    },
    {
     "name": "stderr",
     "output_type": "stream",
     "text": [
      "\n",
      "\n",
      "Loading checkpoint shards:   0%|          | 0/2 [00:00<?, ?it/s]\u001b[A\u001b[A\n",
      "\n",
      "Loading checkpoint shards:  50%|█████     | 1/2 [00:00<00:00,  1.26it/s]\u001b[A\u001b[A\n",
      "\n",
      "Loading checkpoint shards: 100%|██████████| 2/2 [00:00<00:00,  2.07it/s]\u001b[A\u001b[A\n",
      "\n",
      "Layer 20 texts:  50%|█████     | 50/100 [09:58<09:58, 11.97s/it]\u001b[A"
     ]
    },
    {
     "name": "stdout",
     "output_type": "stream",
     "text": [
      "⚠️  No logits available for google/paligemma2-3b-pt-224, using zero loss\n",
      "📥 Loading model: google/gemma-2-2b\n"
     ]
    },
    {
     "name": "stderr",
     "output_type": "stream",
     "text": [
      "\n",
      "\n",
      "Loading checkpoint shards: 100%|██████████| 3/3 [00:00<00:00, 60.81it/s]\n"
     ]
    },
    {
     "name": "stdout",
     "output_type": "stream",
     "text": [
      "📥 Loading model: google/paligemma2-3b-pt-224\n"
     ]
    },
    {
     "name": "stderr",
     "output_type": "stream",
     "text": [
      "\n",
      "\n",
      "Loading checkpoint shards:   0%|          | 0/2 [00:00<?, ?it/s]\u001b[A\u001b[A\n",
      "\n",
      "Loading checkpoint shards:  50%|█████     | 1/2 [00:00<00:00,  1.24it/s]\u001b[A\u001b[A\n",
      "\n",
      "Loading checkpoint shards: 100%|██████████| 2/2 [00:00<00:00,  2.04it/s]\u001b[A\u001b[A\n",
      "\n",
      "Layer 20 texts:  51%|█████     | 51/100 [10:10<09:49, 12.02s/it]\u001b[A"
     ]
    },
    {
     "name": "stdout",
     "output_type": "stream",
     "text": [
      "⚠️  No logits available for google/paligemma2-3b-pt-224, using zero loss\n",
      "📥 Loading model: google/gemma-2-2b\n"
     ]
    },
    {
     "name": "stderr",
     "output_type": "stream",
     "text": [
      "\n",
      "\n",
      "Loading checkpoint shards: 100%|██████████| 3/3 [00:00<00:00, 60.46it/s]\n"
     ]
    },
    {
     "name": "stdout",
     "output_type": "stream",
     "text": [
      "📥 Loading model: google/paligemma2-3b-pt-224\n"
     ]
    },
    {
     "name": "stderr",
     "output_type": "stream",
     "text": [
      "\n",
      "\n",
      "Loading checkpoint shards:   0%|          | 0/2 [00:00<?, ?it/s]\u001b[A\u001b[A\n",
      "\n",
      "Loading checkpoint shards:  50%|█████     | 1/2 [00:00<00:00,  1.25it/s]\u001b[A\u001b[A\n",
      "\n",
      "Loading checkpoint shards: 100%|██████████| 2/2 [00:00<00:00,  2.03it/s]\u001b[A\u001b[A\n",
      "\n",
      "Layer 20 texts:  52%|█████▏    | 52/100 [10:22<09:36, 12.02s/it]\u001b[A"
     ]
    },
    {
     "name": "stdout",
     "output_type": "stream",
     "text": [
      "⚠️  No logits available for google/paligemma2-3b-pt-224, using zero loss\n",
      "📥 Loading model: google/gemma-2-2b\n"
     ]
    },
    {
     "name": "stderr",
     "output_type": "stream",
     "text": [
      "\n",
      "\n",
      "Loading checkpoint shards: 100%|██████████| 3/3 [00:00<00:00, 60.80it/s]\n"
     ]
    },
    {
     "name": "stdout",
     "output_type": "stream",
     "text": [
      "📥 Loading model: google/paligemma2-3b-pt-224\n"
     ]
    },
    {
     "name": "stderr",
     "output_type": "stream",
     "text": [
      "\n",
      "\n",
      "Loading checkpoint shards:   0%|          | 0/2 [00:00<?, ?it/s]\u001b[A\u001b[A\n",
      "\n",
      "Loading checkpoint shards:  50%|█████     | 1/2 [00:00<00:00,  1.17it/s]\u001b[A\u001b[A\n",
      "\n",
      "Loading checkpoint shards: 100%|██████████| 2/2 [00:01<00:00,  1.93it/s]\u001b[A\u001b[A\n",
      "\n",
      "Layer 20 texts:  53%|█████▎    | 53/100 [10:34<09:27, 12.07s/it]\u001b[A"
     ]
    },
    {
     "name": "stdout",
     "output_type": "stream",
     "text": [
      "⚠️  No logits available for google/paligemma2-3b-pt-224, using zero loss\n",
      "📥 Loading model: google/gemma-2-2b\n"
     ]
    },
    {
     "name": "stderr",
     "output_type": "stream",
     "text": [
      "\n",
      "\n",
      "Loading checkpoint shards: 100%|██████████| 3/3 [00:00<00:00, 61.08it/s]\n"
     ]
    },
    {
     "name": "stdout",
     "output_type": "stream",
     "text": [
      "📥 Loading model: google/paligemma2-3b-pt-224\n"
     ]
    },
    {
     "name": "stderr",
     "output_type": "stream",
     "text": [
      "\n",
      "\n",
      "Loading checkpoint shards:   0%|          | 0/2 [00:00<?, ?it/s]\u001b[A\u001b[A\n",
      "\n",
      "Loading checkpoint shards:  50%|█████     | 1/2 [00:00<00:00,  1.24it/s]\u001b[A\u001b[A\n",
      "\n",
      "Loading checkpoint shards: 100%|██████████| 2/2 [00:00<00:00,  2.05it/s]\u001b[A\u001b[A\n",
      "\n",
      "Layer 20 texts:  54%|█████▍    | 54/100 [10:46<09:11, 12.00s/it]\u001b[A"
     ]
    },
    {
     "name": "stdout",
     "output_type": "stream",
     "text": [
      "⚠️  No logits available for google/paligemma2-3b-pt-224, using zero loss\n",
      "📥 Loading model: google/gemma-2-2b\n"
     ]
    },
    {
     "name": "stderr",
     "output_type": "stream",
     "text": [
      "\n",
      "\n",
      "Loading checkpoint shards: 100%|██████████| 3/3 [00:00<00:00, 60.17it/s]\n"
     ]
    },
    {
     "name": "stdout",
     "output_type": "stream",
     "text": [
      "📥 Loading model: google/paligemma2-3b-pt-224\n"
     ]
    },
    {
     "name": "stderr",
     "output_type": "stream",
     "text": [
      "\n",
      "\n",
      "Loading checkpoint shards:   0%|          | 0/2 [00:00<?, ?it/s]\u001b[A\u001b[A\n",
      "\n",
      "Loading checkpoint shards:  50%|█████     | 1/2 [00:00<00:00,  1.24it/s]\u001b[A\u001b[A\n",
      "\n",
      "Loading checkpoint shards: 100%|██████████| 2/2 [00:00<00:00,  2.04it/s]\u001b[A\u001b[A\n",
      "\n",
      "Layer 20 texts:  55%|█████▌    | 55/100 [10:58<08:58, 11.97s/it]\u001b[A"
     ]
    },
    {
     "name": "stdout",
     "output_type": "stream",
     "text": [
      "⚠️  No logits available for google/paligemma2-3b-pt-224, using zero loss\n",
      "📥 Loading model: google/gemma-2-2b\n"
     ]
    },
    {
     "name": "stderr",
     "output_type": "stream",
     "text": [
      "\n",
      "\n",
      "Loading checkpoint shards: 100%|██████████| 3/3 [00:00<00:00, 59.55it/s]\n"
     ]
    },
    {
     "name": "stdout",
     "output_type": "stream",
     "text": [
      "📥 Loading model: google/paligemma2-3b-pt-224\n"
     ]
    },
    {
     "name": "stderr",
     "output_type": "stream",
     "text": [
      "\n",
      "\n",
      "Loading checkpoint shards:   0%|          | 0/2 [00:00<?, ?it/s]\u001b[A\u001b[A\n",
      "\n",
      "Loading checkpoint shards:  50%|█████     | 1/2 [00:00<00:00,  1.29it/s]\u001b[A\u001b[A\n",
      "\n",
      "Loading checkpoint shards: 100%|██████████| 2/2 [00:00<00:00,  2.11it/s]\u001b[A\u001b[A\n",
      "\n",
      "Layer 20 texts:  56%|█████▌    | 56/100 [11:10<08:45, 11.94s/it]\u001b[A"
     ]
    },
    {
     "name": "stdout",
     "output_type": "stream",
     "text": [
      "⚠️  No logits available for google/paligemma2-3b-pt-224, using zero loss\n",
      "📥 Loading model: google/gemma-2-2b\n"
     ]
    },
    {
     "name": "stderr",
     "output_type": "stream",
     "text": [
      "\n",
      "\n",
      "Loading checkpoint shards: 100%|██████████| 3/3 [00:00<00:00, 59.75it/s]\n"
     ]
    },
    {
     "name": "stdout",
     "output_type": "stream",
     "text": [
      "📥 Loading model: google/paligemma2-3b-pt-224\n"
     ]
    },
    {
     "name": "stderr",
     "output_type": "stream",
     "text": [
      "\n",
      "\n",
      "Loading checkpoint shards:   0%|          | 0/2 [00:00<?, ?it/s]\u001b[A\u001b[A\n",
      "\n",
      "Loading checkpoint shards:  50%|█████     | 1/2 [00:00<00:00,  1.22it/s]\u001b[A\u001b[A\n",
      "\n",
      "Loading checkpoint shards: 100%|██████████| 2/2 [00:01<00:00,  2.00it/s]\u001b[A\u001b[A\n",
      "\n",
      "Layer 20 texts:  57%|█████▋    | 57/100 [11:21<08:30, 11.88s/it]\u001b[A"
     ]
    },
    {
     "name": "stdout",
     "output_type": "stream",
     "text": [
      "⚠️  No logits available for google/paligemma2-3b-pt-224, using zero loss\n",
      "📥 Loading model: google/gemma-2-2b\n"
     ]
    },
    {
     "name": "stderr",
     "output_type": "stream",
     "text": [
      "\n",
      "\n",
      "Loading checkpoint shards: 100%|██████████| 3/3 [00:00<00:00, 55.85it/s]\n"
     ]
    },
    {
     "name": "stdout",
     "output_type": "stream",
     "text": [
      "📥 Loading model: google/paligemma2-3b-pt-224\n"
     ]
    },
    {
     "name": "stderr",
     "output_type": "stream",
     "text": [
      "\n",
      "\n",
      "Loading checkpoint shards:   0%|          | 0/2 [00:00<?, ?it/s]\u001b[A\u001b[A\n",
      "\n",
      "Loading checkpoint shards:  50%|█████     | 1/2 [00:00<00:00,  1.31it/s]\u001b[A\u001b[A\n",
      "\n",
      "Loading checkpoint shards: 100%|██████████| 2/2 [00:00<00:00,  2.13it/s]\u001b[A\u001b[A\n",
      "\n",
      "Layer 20 texts:  58%|█████▊    | 58/100 [11:33<08:18, 11.88s/it]\u001b[A"
     ]
    },
    {
     "name": "stdout",
     "output_type": "stream",
     "text": [
      "⚠️  No logits available for google/paligemma2-3b-pt-224, using zero loss\n",
      "📥 Loading model: google/gemma-2-2b\n"
     ]
    },
    {
     "name": "stderr",
     "output_type": "stream",
     "text": [
      "\n",
      "\n",
      "Loading checkpoint shards: 100%|██████████| 3/3 [00:00<00:00, 59.53it/s]\n"
     ]
    },
    {
     "name": "stdout",
     "output_type": "stream",
     "text": [
      "📥 Loading model: google/paligemma2-3b-pt-224\n"
     ]
    },
    {
     "name": "stderr",
     "output_type": "stream",
     "text": [
      "\n",
      "\n",
      "Loading checkpoint shards:   0%|          | 0/2 [00:00<?, ?it/s]\u001b[A\u001b[A\n",
      "\n",
      "Loading checkpoint shards:  50%|█████     | 1/2 [00:00<00:00,  1.25it/s]\u001b[A\u001b[A\n",
      "\n",
      "Loading checkpoint shards: 100%|██████████| 2/2 [00:00<00:00,  2.06it/s]\u001b[A\u001b[A\n",
      "\n",
      "Layer 20 texts:  59%|█████▉    | 59/100 [11:45<08:06, 11.87s/it]\u001b[A"
     ]
    },
    {
     "name": "stdout",
     "output_type": "stream",
     "text": [
      "⚠️  No logits available for google/paligemma2-3b-pt-224, using zero loss\n",
      "📥 Loading model: google/gemma-2-2b\n"
     ]
    },
    {
     "name": "stderr",
     "output_type": "stream",
     "text": [
      "\n",
      "\n",
      "Loading checkpoint shards: 100%|██████████| 3/3 [00:00<00:00, 59.57it/s]\n"
     ]
    },
    {
     "name": "stdout",
     "output_type": "stream",
     "text": [
      "📥 Loading model: google/paligemma2-3b-pt-224\n"
     ]
    },
    {
     "name": "stderr",
     "output_type": "stream",
     "text": [
      "\n",
      "\n",
      "Loading checkpoint shards:   0%|          | 0/2 [00:00<?, ?it/s]\u001b[A\u001b[A\n",
      "\n",
      "Loading checkpoint shards:  50%|█████     | 1/2 [00:00<00:00,  1.32it/s]\u001b[A\u001b[A\n",
      "\n",
      "Loading checkpoint shards: 100%|██████████| 2/2 [00:00<00:00,  2.12it/s]\u001b[A\u001b[A\n",
      "\n",
      "Layer 20 texts:  60%|██████    | 60/100 [11:57<07:54, 11.86s/it]\u001b[A"
     ]
    },
    {
     "name": "stdout",
     "output_type": "stream",
     "text": [
      "⚠️  No logits available for google/paligemma2-3b-pt-224, using zero loss\n",
      "📥 Loading model: google/gemma-2-2b\n"
     ]
    },
    {
     "name": "stderr",
     "output_type": "stream",
     "text": [
      "\n",
      "\n",
      "Loading checkpoint shards: 100%|██████████| 3/3 [00:00<00:00, 61.70it/s]\n"
     ]
    },
    {
     "name": "stdout",
     "output_type": "stream",
     "text": [
      "📥 Loading model: google/paligemma2-3b-pt-224\n"
     ]
    },
    {
     "name": "stderr",
     "output_type": "stream",
     "text": [
      "\n",
      "\n",
      "Loading checkpoint shards:   0%|          | 0/2 [00:00<?, ?it/s]\u001b[A\u001b[A\n",
      "\n",
      "Loading checkpoint shards:  50%|█████     | 1/2 [00:00<00:00,  1.26it/s]\u001b[A\u001b[A\n",
      "\n",
      "Loading checkpoint shards: 100%|██████████| 2/2 [00:00<00:00,  2.05it/s]\u001b[A\u001b[A\n",
      "\n",
      "Layer 20 texts:  61%|██████    | 61/100 [12:09<07:44, 11.91s/it]\u001b[A"
     ]
    },
    {
     "name": "stdout",
     "output_type": "stream",
     "text": [
      "⚠️  No logits available for google/paligemma2-3b-pt-224, using zero loss\n",
      "📥 Loading model: google/gemma-2-2b\n"
     ]
    },
    {
     "name": "stderr",
     "output_type": "stream",
     "text": [
      "\n",
      "\n",
      "Loading checkpoint shards: 100%|██████████| 3/3 [00:00<00:00, 61.73it/s]\n"
     ]
    },
    {
     "name": "stdout",
     "output_type": "stream",
     "text": [
      "📥 Loading model: google/paligemma2-3b-pt-224\n"
     ]
    },
    {
     "name": "stderr",
     "output_type": "stream",
     "text": [
      "\n",
      "\n",
      "Loading checkpoint shards:   0%|          | 0/2 [00:00<?, ?it/s]\u001b[A\u001b[A\n",
      "\n",
      "Loading checkpoint shards:  50%|█████     | 1/2 [00:00<00:00,  1.22it/s]\u001b[A\u001b[A\n",
      "\n",
      "Loading checkpoint shards: 100%|██████████| 2/2 [00:01<00:00,  1.99it/s]\u001b[A\u001b[A\n",
      "\n",
      "Layer 20 texts:  62%|██████▏   | 62/100 [12:21<07:33, 11.92s/it]\u001b[A"
     ]
    },
    {
     "name": "stdout",
     "output_type": "stream",
     "text": [
      "⚠️  No logits available for google/paligemma2-3b-pt-224, using zero loss\n",
      "📥 Loading model: google/gemma-2-2b\n"
     ]
    },
    {
     "name": "stderr",
     "output_type": "stream",
     "text": [
      "\n",
      "\n",
      "Loading checkpoint shards: 100%|██████████| 3/3 [00:00<00:00, 60.28it/s]\n"
     ]
    },
    {
     "name": "stdout",
     "output_type": "stream",
     "text": [
      "📥 Loading model: google/paligemma2-3b-pt-224\n"
     ]
    },
    {
     "name": "stderr",
     "output_type": "stream",
     "text": [
      "\n",
      "\n",
      "Loading checkpoint shards:   0%|          | 0/2 [00:00<?, ?it/s]\u001b[A\u001b[A\n",
      "\n",
      "Loading checkpoint shards:  50%|█████     | 1/2 [00:00<00:00,  1.27it/s]\u001b[A\u001b[A\n",
      "\n",
      "Loading checkpoint shards: 100%|██████████| 2/2 [00:00<00:00,  2.08it/s]\u001b[A\u001b[A\n",
      "\n",
      "Layer 20 texts:  63%|██████▎   | 63/100 [12:33<07:23, 11.98s/it]\u001b[A"
     ]
    },
    {
     "name": "stdout",
     "output_type": "stream",
     "text": [
      "⚠️  No logits available for google/paligemma2-3b-pt-224, using zero loss\n",
      "📥 Loading model: google/gemma-2-2b\n"
     ]
    },
    {
     "name": "stderr",
     "output_type": "stream",
     "text": [
      "\n",
      "\n",
      "Loading checkpoint shards: 100%|██████████| 3/3 [00:00<00:00, 61.75it/s]\n"
     ]
    },
    {
     "name": "stdout",
     "output_type": "stream",
     "text": [
      "📥 Loading model: google/paligemma2-3b-pt-224\n"
     ]
    },
    {
     "name": "stderr",
     "output_type": "stream",
     "text": [
      "\n",
      "\n",
      "Loading checkpoint shards:   0%|          | 0/2 [00:00<?, ?it/s]\u001b[A\u001b[A\n",
      "\n",
      "Loading checkpoint shards:  50%|█████     | 1/2 [00:00<00:00,  1.31it/s]\u001b[A\u001b[A\n",
      "\n",
      "Loading checkpoint shards: 100%|██████████| 2/2 [00:00<00:00,  2.13it/s]\u001b[A\u001b[A\n",
      "\n",
      "Layer 20 texts:  64%|██████▍   | 64/100 [12:45<07:10, 11.96s/it]\u001b[A"
     ]
    },
    {
     "name": "stdout",
     "output_type": "stream",
     "text": [
      "⚠️  No logits available for google/paligemma2-3b-pt-224, using zero loss\n",
      "📥 Loading model: google/gemma-2-2b\n"
     ]
    },
    {
     "name": "stderr",
     "output_type": "stream",
     "text": [
      "\n",
      "\n",
      "Loading checkpoint shards: 100%|██████████| 3/3 [00:00<00:00, 60.88it/s]\n"
     ]
    },
    {
     "name": "stdout",
     "output_type": "stream",
     "text": [
      "📥 Loading model: google/paligemma2-3b-pt-224\n"
     ]
    },
    {
     "name": "stderr",
     "output_type": "stream",
     "text": [
      "\n",
      "\n",
      "Loading checkpoint shards:   0%|          | 0/2 [00:00<?, ?it/s]\u001b[A\u001b[A\n",
      "\n",
      "Loading checkpoint shards:  50%|█████     | 1/2 [00:00<00:00,  1.28it/s]\u001b[A\u001b[A\n",
      "\n",
      "Loading checkpoint shards: 100%|██████████| 2/2 [00:00<00:00,  2.10it/s]\u001b[A\u001b[A\n",
      "\n",
      "Layer 20 texts:  65%|██████▌   | 65/100 [12:57<06:57, 11.92s/it]\u001b[A"
     ]
    },
    {
     "name": "stdout",
     "output_type": "stream",
     "text": [
      "⚠️  No logits available for google/paligemma2-3b-pt-224, using zero loss\n",
      "📥 Loading model: google/gemma-2-2b\n"
     ]
    },
    {
     "name": "stderr",
     "output_type": "stream",
     "text": [
      "\n",
      "\n",
      "Loading checkpoint shards: 100%|██████████| 3/3 [00:00<00:00, 61.07it/s]\n"
     ]
    },
    {
     "name": "stdout",
     "output_type": "stream",
     "text": [
      "📥 Loading model: google/paligemma2-3b-pt-224\n"
     ]
    },
    {
     "name": "stderr",
     "output_type": "stream",
     "text": [
      "\n",
      "\n",
      "Loading checkpoint shards:   0%|          | 0/2 [00:00<?, ?it/s]\u001b[A\u001b[A\n",
      "\n",
      "Loading checkpoint shards:  50%|█████     | 1/2 [00:00<00:00,  1.30it/s]\u001b[A\u001b[A\n",
      "\n",
      "Loading checkpoint shards: 100%|██████████| 2/2 [00:00<00:00,  2.10it/s]\u001b[A\u001b[A\n",
      "\n",
      "Layer 20 texts:  66%|██████▌   | 66/100 [13:08<06:43, 11.87s/it]\u001b[A"
     ]
    },
    {
     "name": "stdout",
     "output_type": "stream",
     "text": [
      "⚠️  No logits available for google/paligemma2-3b-pt-224, using zero loss\n",
      "📥 Loading model: google/gemma-2-2b\n"
     ]
    },
    {
     "name": "stderr",
     "output_type": "stream",
     "text": [
      "\n",
      "\n",
      "Loading checkpoint shards: 100%|██████████| 3/3 [00:00<00:00, 59.96it/s]\n"
     ]
    },
    {
     "name": "stdout",
     "output_type": "stream",
     "text": [
      "📥 Loading model: google/paligemma2-3b-pt-224\n"
     ]
    },
    {
     "name": "stderr",
     "output_type": "stream",
     "text": [
      "\n",
      "\n",
      "Loading checkpoint shards:   0%|          | 0/2 [00:00<?, ?it/s]\u001b[A\u001b[A\n",
      "\n",
      "Loading checkpoint shards:  50%|█████     | 1/2 [00:00<00:00,  1.26it/s]\u001b[A\u001b[A\n",
      "\n",
      "Loading checkpoint shards: 100%|██████████| 2/2 [00:00<00:00,  2.07it/s]\u001b[A\u001b[A\n",
      "\n",
      "Layer 20 texts:  67%|██████▋   | 67/100 [13:20<06:31, 11.86s/it]\u001b[A"
     ]
    },
    {
     "name": "stdout",
     "output_type": "stream",
     "text": [
      "⚠️  No logits available for google/paligemma2-3b-pt-224, using zero loss\n",
      "📥 Loading model: google/gemma-2-2b\n"
     ]
    },
    {
     "name": "stderr",
     "output_type": "stream",
     "text": [
      "\n",
      "\n",
      "Loading checkpoint shards: 100%|██████████| 3/3 [00:00<00:00, 58.49it/s]\n"
     ]
    },
    {
     "name": "stdout",
     "output_type": "stream",
     "text": [
      "📥 Loading model: google/paligemma2-3b-pt-224\n"
     ]
    },
    {
     "name": "stderr",
     "output_type": "stream",
     "text": [
      "\n",
      "\n",
      "Loading checkpoint shards:   0%|          | 0/2 [00:00<?, ?it/s]\u001b[A\u001b[A\n",
      "\n",
      "Loading checkpoint shards:  50%|█████     | 1/2 [00:00<00:00,  1.28it/s]\u001b[A\u001b[A\n",
      "\n",
      "Loading checkpoint shards: 100%|██████████| 2/2 [00:00<00:00,  2.08it/s]\u001b[A\u001b[A\n",
      "\n",
      "Layer 20 texts:  68%|██████▊   | 68/100 [13:32<06:20, 11.89s/it]\u001b[A"
     ]
    },
    {
     "name": "stdout",
     "output_type": "stream",
     "text": [
      "⚠️  No logits available for google/paligemma2-3b-pt-224, using zero loss\n",
      "📥 Loading model: google/gemma-2-2b\n"
     ]
    },
    {
     "name": "stderr",
     "output_type": "stream",
     "text": [
      "\n",
      "\n",
      "Loading checkpoint shards: 100%|██████████| 3/3 [00:00<00:00, 60.21it/s]\n"
     ]
    },
    {
     "name": "stdout",
     "output_type": "stream",
     "text": [
      "📥 Loading model: google/paligemma2-3b-pt-224\n"
     ]
    },
    {
     "name": "stderr",
     "output_type": "stream",
     "text": [
      "\n",
      "\n",
      "Loading checkpoint shards:   0%|          | 0/2 [00:00<?, ?it/s]\u001b[A\u001b[A\n",
      "\n",
      "Loading checkpoint shards:  50%|█████     | 1/2 [00:00<00:00,  1.26it/s]\u001b[A\u001b[A\n",
      "\n",
      "Loading checkpoint shards: 100%|██████████| 2/2 [00:00<00:00,  2.06it/s]\u001b[A\u001b[A\n",
      "\n",
      "Layer 20 texts:  69%|██████▉   | 69/100 [13:44<06:07, 11.86s/it]\u001b[A"
     ]
    },
    {
     "name": "stdout",
     "output_type": "stream",
     "text": [
      "⚠️  No logits available for google/paligemma2-3b-pt-224, using zero loss\n",
      "📥 Loading model: google/gemma-2-2b\n"
     ]
    },
    {
     "name": "stderr",
     "output_type": "stream",
     "text": [
      "\n",
      "\n",
      "Loading checkpoint shards: 100%|██████████| 3/3 [00:00<00:00, 59.83it/s]\n"
     ]
    },
    {
     "name": "stdout",
     "output_type": "stream",
     "text": [
      "📥 Loading model: google/paligemma2-3b-pt-224\n"
     ]
    },
    {
     "name": "stderr",
     "output_type": "stream",
     "text": [
      "\n",
      "\n",
      "Loading checkpoint shards:   0%|          | 0/2 [00:00<?, ?it/s]\u001b[A\u001b[A\n",
      "\n",
      "Loading checkpoint shards:  50%|█████     | 1/2 [00:00<00:00,  1.28it/s]\u001b[A\u001b[A\n",
      "\n",
      "Loading checkpoint shards: 100%|██████████| 2/2 [00:00<00:00,  2.08it/s]\u001b[A\u001b[A\n",
      "\n",
      "Layer 20 texts:  70%|███████   | 70/100 [13:56<05:55, 11.85s/it]\u001b[A"
     ]
    },
    {
     "name": "stdout",
     "output_type": "stream",
     "text": [
      "⚠️  No logits available for google/paligemma2-3b-pt-224, using zero loss\n",
      "📥 Loading model: google/gemma-2-2b\n"
     ]
    },
    {
     "name": "stderr",
     "output_type": "stream",
     "text": [
      "\n",
      "\n",
      "Loading checkpoint shards: 100%|██████████| 3/3 [00:00<00:00, 57.11it/s]\n"
     ]
    },
    {
     "name": "stdout",
     "output_type": "stream",
     "text": [
      "📥 Loading model: google/paligemma2-3b-pt-224\n"
     ]
    },
    {
     "name": "stderr",
     "output_type": "stream",
     "text": [
      "\n",
      "\n",
      "Loading checkpoint shards:   0%|          | 0/2 [00:00<?, ?it/s]\u001b[A\u001b[A\n",
      "\n",
      "Loading checkpoint shards:  50%|█████     | 1/2 [00:00<00:00,  1.30it/s]\u001b[A\u001b[A\n",
      "\n",
      "Loading checkpoint shards: 100%|██████████| 2/2 [00:00<00:00,  2.11it/s]\u001b[A\u001b[A\n",
      "\n",
      "Layer 20 texts:  71%|███████   | 71/100 [14:08<05:45, 11.90s/it]\u001b[A"
     ]
    },
    {
     "name": "stdout",
     "output_type": "stream",
     "text": [
      "⚠️  No logits available for google/paligemma2-3b-pt-224, using zero loss\n",
      "📥 Loading model: google/gemma-2-2b\n"
     ]
    },
    {
     "name": "stderr",
     "output_type": "stream",
     "text": [
      "\n",
      "\n",
      "Loading checkpoint shards: 100%|██████████| 3/3 [00:00<00:00, 58.36it/s]\n"
     ]
    },
    {
     "name": "stdout",
     "output_type": "stream",
     "text": [
      "📥 Loading model: google/paligemma2-3b-pt-224\n"
     ]
    },
    {
     "name": "stderr",
     "output_type": "stream",
     "text": [
      "\n",
      "\n",
      "Loading checkpoint shards:   0%|          | 0/2 [00:00<?, ?it/s]\u001b[A\u001b[A\n",
      "\n",
      "Loading checkpoint shards:  50%|█████     | 1/2 [00:00<00:00,  1.29it/s]\u001b[A\u001b[A\n",
      "\n",
      "Loading checkpoint shards: 100%|██████████| 2/2 [00:00<00:00,  2.09it/s]\u001b[A\u001b[A\n",
      "\n",
      "Layer 20 texts:  72%|███████▏  | 72/100 [14:20<05:35, 11.98s/it]\u001b[A"
     ]
    },
    {
     "name": "stdout",
     "output_type": "stream",
     "text": [
      "⚠️  No logits available for google/paligemma2-3b-pt-224, using zero loss\n",
      "📥 Loading model: google/gemma-2-2b\n"
     ]
    },
    {
     "name": "stderr",
     "output_type": "stream",
     "text": [
      "\n",
      "\n",
      "Loading checkpoint shards: 100%|██████████| 3/3 [00:00<00:00, 62.14it/s]\n"
     ]
    },
    {
     "name": "stdout",
     "output_type": "stream",
     "text": [
      "📥 Loading model: google/paligemma2-3b-pt-224\n"
     ]
    },
    {
     "name": "stderr",
     "output_type": "stream",
     "text": [
      "\n",
      "\n",
      "Loading checkpoint shards:   0%|          | 0/2 [00:00<?, ?it/s]\u001b[A\u001b[A\n",
      "\n",
      "Loading checkpoint shards:  50%|█████     | 1/2 [00:00<00:00,  1.29it/s]\u001b[A\u001b[A\n",
      "\n",
      "Loading checkpoint shards: 100%|██████████| 2/2 [00:00<00:00,  2.09it/s]\u001b[A\u001b[A\n",
      "\n",
      "Layer 20 texts:  73%|███████▎  | 73/100 [14:32<05:23, 11.98s/it]\u001b[A"
     ]
    },
    {
     "name": "stdout",
     "output_type": "stream",
     "text": [
      "⚠️  No logits available for google/paligemma2-3b-pt-224, using zero loss\n",
      "📥 Loading model: google/gemma-2-2b\n"
     ]
    },
    {
     "name": "stderr",
     "output_type": "stream",
     "text": [
      "\n",
      "\n",
      "Loading checkpoint shards: 100%|██████████| 3/3 [00:00<00:00, 60.50it/s]\n"
     ]
    },
    {
     "name": "stdout",
     "output_type": "stream",
     "text": [
      "📥 Loading model: google/paligemma2-3b-pt-224\n"
     ]
    },
    {
     "name": "stderr",
     "output_type": "stream",
     "text": [
      "\n",
      "\n",
      "Loading checkpoint shards:   0%|          | 0/2 [00:00<?, ?it/s]\u001b[A\u001b[A\n",
      "\n",
      "Loading checkpoint shards:  50%|█████     | 1/2 [00:00<00:00,  1.25it/s]\u001b[A\u001b[A\n",
      "\n",
      "Loading checkpoint shards: 100%|██████████| 2/2 [00:00<00:00,  2.06it/s]\u001b[A\u001b[A\n",
      "\n",
      "Layer 20 texts:  74%|███████▍  | 74/100 [14:44<05:13, 12.04s/it]\u001b[A"
     ]
    },
    {
     "name": "stdout",
     "output_type": "stream",
     "text": [
      "⚠️  No logits available for google/paligemma2-3b-pt-224, using zero loss\n",
      "📥 Loading model: google/gemma-2-2b\n"
     ]
    },
    {
     "name": "stderr",
     "output_type": "stream",
     "text": [
      "\n",
      "\n",
      "Loading checkpoint shards: 100%|██████████| 3/3 [00:00<00:00, 61.35it/s]\n"
     ]
    },
    {
     "name": "stdout",
     "output_type": "stream",
     "text": [
      "📥 Loading model: google/paligemma2-3b-pt-224\n"
     ]
    },
    {
     "name": "stderr",
     "output_type": "stream",
     "text": [
      "\n",
      "\n",
      "Loading checkpoint shards:   0%|          | 0/2 [00:00<?, ?it/s]\u001b[A\u001b[A\n",
      "\n",
      "Loading checkpoint shards:  50%|█████     | 1/2 [00:00<00:00,  1.26it/s]\u001b[A\u001b[A\n",
      "\n",
      "Loading checkpoint shards: 100%|██████████| 2/2 [00:00<00:00,  2.06it/s]\u001b[A\u001b[A\n",
      "\n",
      "Layer 20 texts:  75%|███████▌  | 75/100 [14:56<05:01, 12.04s/it]\u001b[A"
     ]
    },
    {
     "name": "stdout",
     "output_type": "stream",
     "text": [
      "⚠️  No logits available for google/paligemma2-3b-pt-224, using zero loss\n",
      "📥 Loading model: google/gemma-2-2b\n"
     ]
    },
    {
     "name": "stderr",
     "output_type": "stream",
     "text": [
      "\n",
      "\n",
      "Loading checkpoint shards: 100%|██████████| 3/3 [00:00<00:00, 62.11it/s]\n"
     ]
    },
    {
     "name": "stdout",
     "output_type": "stream",
     "text": [
      "📥 Loading model: google/paligemma2-3b-pt-224\n"
     ]
    },
    {
     "name": "stderr",
     "output_type": "stream",
     "text": [
      "\n",
      "\n",
      "Loading checkpoint shards:   0%|          | 0/2 [00:00<?, ?it/s]\u001b[A\u001b[A\n",
      "\n",
      "Loading checkpoint shards:  50%|█████     | 1/2 [00:00<00:00,  1.29it/s]\u001b[A\u001b[A\n",
      "\n",
      "Loading checkpoint shards: 100%|██████████| 2/2 [00:00<00:00,  2.11it/s]\u001b[A\u001b[A\n",
      "\n",
      "Layer 20 texts:  76%|███████▌  | 76/100 [15:08<04:46, 11.92s/it]\u001b[A"
     ]
    },
    {
     "name": "stdout",
     "output_type": "stream",
     "text": [
      "⚠️  No logits available for google/paligemma2-3b-pt-224, using zero loss\n",
      "📥 Loading model: google/gemma-2-2b\n"
     ]
    },
    {
     "name": "stderr",
     "output_type": "stream",
     "text": [
      "\n",
      "\n",
      "Loading checkpoint shards: 100%|██████████| 3/3 [00:00<00:00, 60.12it/s]\n"
     ]
    },
    {
     "name": "stdout",
     "output_type": "stream",
     "text": [
      "📥 Loading model: google/paligemma2-3b-pt-224\n"
     ]
    },
    {
     "name": "stderr",
     "output_type": "stream",
     "text": [
      "\n",
      "\n",
      "Loading checkpoint shards:   0%|          | 0/2 [00:00<?, ?it/s]\u001b[A\u001b[A\n",
      "\n",
      "Loading checkpoint shards:  50%|█████     | 1/2 [00:00<00:00,  1.28it/s]\u001b[A\u001b[A\n",
      "\n",
      "Loading checkpoint shards: 100%|██████████| 2/2 [00:00<00:00,  2.09it/s]\u001b[A\u001b[A\n",
      "\n",
      "Layer 20 texts:  77%|███████▋  | 77/100 [15:20<04:33, 11.89s/it]\u001b[A"
     ]
    },
    {
     "name": "stdout",
     "output_type": "stream",
     "text": [
      "⚠️  No logits available for google/paligemma2-3b-pt-224, using zero loss\n",
      "📥 Loading model: google/gemma-2-2b\n"
     ]
    },
    {
     "name": "stderr",
     "output_type": "stream",
     "text": [
      "\n",
      "\n",
      "Loading checkpoint shards: 100%|██████████| 3/3 [00:00<00:00, 61.60it/s]\n"
     ]
    },
    {
     "name": "stdout",
     "output_type": "stream",
     "text": [
      "📥 Loading model: google/paligemma2-3b-pt-224\n"
     ]
    },
    {
     "name": "stderr",
     "output_type": "stream",
     "text": [
      "\n",
      "\n",
      "Loading checkpoint shards:   0%|          | 0/2 [00:00<?, ?it/s]\u001b[A\u001b[A\n",
      "\n",
      "Loading checkpoint shards:  50%|█████     | 1/2 [00:00<00:00,  1.31it/s]\u001b[A\u001b[A\n",
      "\n",
      "Loading checkpoint shards: 100%|██████████| 2/2 [00:00<00:00,  2.14it/s]\u001b[A\u001b[A\n",
      "\n",
      "Layer 20 texts:  78%|███████▊  | 78/100 [15:32<04:23, 11.97s/it]\u001b[A"
     ]
    },
    {
     "name": "stdout",
     "output_type": "stream",
     "text": [
      "⚠️  No logits available for google/paligemma2-3b-pt-224, using zero loss\n",
      "📥 Loading model: google/gemma-2-2b\n"
     ]
    },
    {
     "name": "stderr",
     "output_type": "stream",
     "text": [
      "\n",
      "\n",
      "Loading checkpoint shards: 100%|██████████| 3/3 [00:00<00:00, 61.11it/s]\n"
     ]
    },
    {
     "name": "stdout",
     "output_type": "stream",
     "text": [
      "📥 Loading model: google/paligemma2-3b-pt-224\n"
     ]
    },
    {
     "name": "stderr",
     "output_type": "stream",
     "text": [
      "\n",
      "\n",
      "Loading checkpoint shards:   0%|          | 0/2 [00:00<?, ?it/s]\u001b[A\u001b[A\n",
      "\n",
      "Loading checkpoint shards:  50%|█████     | 1/2 [00:00<00:00,  1.26it/s]\u001b[A\u001b[A\n",
      "\n",
      "Loading checkpoint shards: 100%|██████████| 2/2 [00:00<00:00,  2.07it/s]\u001b[A\u001b[A\n",
      "\n",
      "Layer 20 texts:  79%|███████▉  | 79/100 [15:44<04:09, 11.90s/it]\u001b[A"
     ]
    },
    {
     "name": "stdout",
     "output_type": "stream",
     "text": [
      "⚠️  No logits available for google/paligemma2-3b-pt-224, using zero loss\n",
      "📥 Loading model: google/gemma-2-2b\n"
     ]
    },
    {
     "name": "stderr",
     "output_type": "stream",
     "text": [
      "\n",
      "\n",
      "Loading checkpoint shards: 100%|██████████| 3/3 [00:00<00:00, 62.37it/s]\n"
     ]
    },
    {
     "name": "stdout",
     "output_type": "stream",
     "text": [
      "📥 Loading model: google/paligemma2-3b-pt-224\n"
     ]
    },
    {
     "name": "stderr",
     "output_type": "stream",
     "text": [
      "\n",
      "\n",
      "Loading checkpoint shards:   0%|          | 0/2 [00:00<?, ?it/s]\u001b[A\u001b[A\n",
      "\n",
      "Loading checkpoint shards:  50%|█████     | 1/2 [00:00<00:00,  1.25it/s]\u001b[A\u001b[A\n",
      "\n",
      "Loading checkpoint shards: 100%|██████████| 2/2 [00:00<00:00,  2.04it/s]\u001b[A\u001b[A\n",
      "\n",
      "Layer 20 texts:  80%|████████  | 80/100 [15:56<03:58, 11.93s/it]\u001b[A"
     ]
    },
    {
     "name": "stdout",
     "output_type": "stream",
     "text": [
      "⚠️  No logits available for google/paligemma2-3b-pt-224, using zero loss\n",
      "📥 Loading model: google/gemma-2-2b\n"
     ]
    },
    {
     "name": "stderr",
     "output_type": "stream",
     "text": [
      "\n",
      "\n",
      "Loading checkpoint shards: 100%|██████████| 3/3 [00:00<00:00, 58.98it/s]\n"
     ]
    },
    {
     "name": "stdout",
     "output_type": "stream",
     "text": [
      "📥 Loading model: google/paligemma2-3b-pt-224\n"
     ]
    },
    {
     "name": "stderr",
     "output_type": "stream",
     "text": [
      "\n",
      "\n",
      "Loading checkpoint shards:   0%|          | 0/2 [00:00<?, ?it/s]\u001b[A\u001b[A\n",
      "\n",
      "Loading checkpoint shards:  50%|█████     | 1/2 [00:00<00:00,  1.27it/s]\u001b[A\u001b[A\n",
      "\n",
      "Loading checkpoint shards: 100%|██████████| 2/2 [00:00<00:00,  2.06it/s]\u001b[A\u001b[A\n",
      "\n",
      "Layer 20 texts:  81%|████████  | 81/100 [16:08<03:47, 11.96s/it]\u001b[A"
     ]
    },
    {
     "name": "stdout",
     "output_type": "stream",
     "text": [
      "⚠️  No logits available for google/paligemma2-3b-pt-224, using zero loss\n",
      "📥 Loading model: google/gemma-2-2b\n"
     ]
    },
    {
     "name": "stderr",
     "output_type": "stream",
     "text": [
      "\n",
      "\n",
      "Loading checkpoint shards: 100%|██████████| 3/3 [00:00<00:00, 61.05it/s]\n"
     ]
    },
    {
     "name": "stdout",
     "output_type": "stream",
     "text": [
      "📥 Loading model: google/paligemma2-3b-pt-224\n"
     ]
    },
    {
     "name": "stderr",
     "output_type": "stream",
     "text": [
      "\n",
      "\n",
      "Loading checkpoint shards:   0%|          | 0/2 [00:00<?, ?it/s]\u001b[A\u001b[A\n",
      "\n",
      "Loading checkpoint shards:  50%|█████     | 1/2 [00:00<00:00,  1.25it/s]\u001b[A\u001b[A\n",
      "\n",
      "Loading checkpoint shards: 100%|██████████| 2/2 [00:00<00:00,  2.06it/s]\u001b[A\u001b[A\n",
      "\n",
      "Layer 20 texts:  82%|████████▏ | 82/100 [16:20<03:35, 11.95s/it]\u001b[A"
     ]
    },
    {
     "name": "stdout",
     "output_type": "stream",
     "text": [
      "⚠️  No logits available for google/paligemma2-3b-pt-224, using zero loss\n",
      "📥 Loading model: google/gemma-2-2b\n"
     ]
    },
    {
     "name": "stderr",
     "output_type": "stream",
     "text": [
      "\n",
      "\n",
      "Loading checkpoint shards: 100%|██████████| 3/3 [00:00<00:00, 61.29it/s]\n"
     ]
    },
    {
     "name": "stdout",
     "output_type": "stream",
     "text": [
      "📥 Loading model: google/paligemma2-3b-pt-224\n"
     ]
    },
    {
     "name": "stderr",
     "output_type": "stream",
     "text": [
      "\n",
      "\n",
      "Loading checkpoint shards:   0%|          | 0/2 [00:00<?, ?it/s]\u001b[A\u001b[A\n",
      "\n",
      "Loading checkpoint shards:  50%|█████     | 1/2 [00:00<00:00,  1.27it/s]\u001b[A\u001b[A\n",
      "\n",
      "Loading checkpoint shards: 100%|██████████| 2/2 [00:00<00:00,  2.07it/s]\u001b[A\u001b[A\n",
      "\n",
      "Layer 20 texts:  83%|████████▎ | 83/100 [16:32<03:23, 11.96s/it]\u001b[A"
     ]
    },
    {
     "name": "stdout",
     "output_type": "stream",
     "text": [
      "⚠️  No logits available for google/paligemma2-3b-pt-224, using zero loss\n",
      "📥 Loading model: google/gemma-2-2b\n"
     ]
    },
    {
     "name": "stderr",
     "output_type": "stream",
     "text": [
      "\n",
      "\n",
      "Loading checkpoint shards: 100%|██████████| 3/3 [00:00<00:00, 60.76it/s]\n"
     ]
    },
    {
     "name": "stdout",
     "output_type": "stream",
     "text": [
      "📥 Loading model: google/paligemma2-3b-pt-224\n"
     ]
    },
    {
     "name": "stderr",
     "output_type": "stream",
     "text": [
      "\n",
      "\n",
      "Loading checkpoint shards:   0%|          | 0/2 [00:00<?, ?it/s]\u001b[A\u001b[A\n",
      "\n",
      "Loading checkpoint shards:  50%|█████     | 1/2 [00:00<00:00,  1.28it/s]\u001b[A\u001b[A\n",
      "\n",
      "Loading checkpoint shards: 100%|██████████| 2/2 [00:00<00:00,  2.09it/s]\u001b[A\u001b[A\n",
      "\n",
      "Layer 20 texts:  84%|████████▍ | 84/100 [16:44<03:12, 12.05s/it]\u001b[A"
     ]
    },
    {
     "name": "stdout",
     "output_type": "stream",
     "text": [
      "⚠️  No logits available for google/paligemma2-3b-pt-224, using zero loss\n",
      "📥 Loading model: google/gemma-2-2b\n"
     ]
    },
    {
     "name": "stderr",
     "output_type": "stream",
     "text": [
      "\n",
      "\n",
      "Loading checkpoint shards: 100%|██████████| 3/3 [00:00<00:00, 60.38it/s]\n"
     ]
    },
    {
     "name": "stdout",
     "output_type": "stream",
     "text": [
      "📥 Loading model: google/paligemma2-3b-pt-224\n"
     ]
    },
    {
     "name": "stderr",
     "output_type": "stream",
     "text": [
      "\n",
      "\n",
      "Loading checkpoint shards:   0%|          | 0/2 [00:00<?, ?it/s]\u001b[A\u001b[A\n",
      "\n",
      "Loading checkpoint shards:  50%|█████     | 1/2 [00:00<00:00,  1.29it/s]\u001b[A\u001b[A\n",
      "\n",
      "Loading checkpoint shards: 100%|██████████| 2/2 [00:00<00:00,  2.09it/s]\u001b[A\u001b[A\n",
      "\n",
      "Layer 20 texts:  85%|████████▌ | 85/100 [16:56<03:00, 12.01s/it]\u001b[A"
     ]
    },
    {
     "name": "stdout",
     "output_type": "stream",
     "text": [
      "⚠️  No logits available for google/paligemma2-3b-pt-224, using zero loss\n",
      "📥 Loading model: google/gemma-2-2b\n"
     ]
    },
    {
     "name": "stderr",
     "output_type": "stream",
     "text": [
      "\n",
      "\n",
      "Loading checkpoint shards: 100%|██████████| 3/3 [00:00<00:00, 59.93it/s]\n"
     ]
    },
    {
     "name": "stdout",
     "output_type": "stream",
     "text": [
      "📥 Loading model: google/paligemma2-3b-pt-224\n"
     ]
    },
    {
     "name": "stderr",
     "output_type": "stream",
     "text": [
      "\n",
      "\n",
      "Loading checkpoint shards:   0%|          | 0/2 [00:00<?, ?it/s]\u001b[A\u001b[A\n",
      "\n",
      "Loading checkpoint shards:  50%|█████     | 1/2 [00:00<00:00,  1.29it/s]\u001b[A\u001b[A\n",
      "\n",
      "Loading checkpoint shards: 100%|██████████| 2/2 [00:00<00:00,  2.12it/s]\u001b[A\u001b[A\n",
      "\n",
      "Layer 20 texts:  86%|████████▌ | 86/100 [17:08<02:47, 11.97s/it]\u001b[A"
     ]
    },
    {
     "name": "stdout",
     "output_type": "stream",
     "text": [
      "⚠️  No logits available for google/paligemma2-3b-pt-224, using zero loss\n",
      "📥 Loading model: google/gemma-2-2b\n"
     ]
    },
    {
     "name": "stderr",
     "output_type": "stream",
     "text": [
      "\n",
      "\n",
      "Loading checkpoint shards: 100%|██████████| 3/3 [00:00<00:00, 60.54it/s]\n"
     ]
    },
    {
     "name": "stdout",
     "output_type": "stream",
     "text": [
      "📥 Loading model: google/paligemma2-3b-pt-224\n"
     ]
    },
    {
     "name": "stderr",
     "output_type": "stream",
     "text": [
      "\n",
      "\n",
      "Loading checkpoint shards:   0%|          | 0/2 [00:00<?, ?it/s]\u001b[A\u001b[A\n",
      "\n",
      "Loading checkpoint shards:  50%|█████     | 1/2 [00:00<00:00,  1.25it/s]\u001b[A\u001b[A\n",
      "\n",
      "Loading checkpoint shards: 100%|██████████| 2/2 [00:00<00:00,  2.05it/s]\u001b[A\u001b[A\n",
      "\n",
      "Layer 20 texts:  87%|████████▋ | 87/100 [17:19<02:35, 11.94s/it]\u001b[A"
     ]
    },
    {
     "name": "stdout",
     "output_type": "stream",
     "text": [
      "⚠️  No logits available for google/paligemma2-3b-pt-224, using zero loss\n",
      "📥 Loading model: google/gemma-2-2b\n"
     ]
    },
    {
     "name": "stderr",
     "output_type": "stream",
     "text": [
      "\n",
      "\n",
      "Loading checkpoint shards: 100%|██████████| 3/3 [00:00<00:00, 61.09it/s]\n"
     ]
    },
    {
     "name": "stdout",
     "output_type": "stream",
     "text": [
      "📥 Loading model: google/paligemma2-3b-pt-224\n"
     ]
    },
    {
     "name": "stderr",
     "output_type": "stream",
     "text": [
      "\n",
      "\n",
      "Loading checkpoint shards:   0%|          | 0/2 [00:00<?, ?it/s]\u001b[A\u001b[A\n",
      "\n",
      "Loading checkpoint shards:  50%|█████     | 1/2 [00:00<00:00,  1.22it/s]\u001b[A\u001b[A\n",
      "\n",
      "Loading checkpoint shards: 100%|██████████| 2/2 [00:00<00:00,  2.01it/s]\u001b[A\u001b[A\n",
      "\n",
      "Layer 20 texts:  88%|████████▊ | 88/100 [17:32<02:23, 11.97s/it]\u001b[A"
     ]
    },
    {
     "name": "stdout",
     "output_type": "stream",
     "text": [
      "⚠️  No logits available for google/paligemma2-3b-pt-224, using zero loss\n",
      "📥 Loading model: google/gemma-2-2b\n"
     ]
    },
    {
     "name": "stderr",
     "output_type": "stream",
     "text": [
      "\n",
      "\n",
      "Loading checkpoint shards: 100%|██████████| 3/3 [00:00<00:00, 59.23it/s]\n"
     ]
    },
    {
     "name": "stdout",
     "output_type": "stream",
     "text": [
      "📥 Loading model: google/paligemma2-3b-pt-224\n"
     ]
    },
    {
     "name": "stderr",
     "output_type": "stream",
     "text": [
      "\n",
      "\n",
      "Loading checkpoint shards:   0%|          | 0/2 [00:00<?, ?it/s]\u001b[A\u001b[A\n",
      "\n",
      "Loading checkpoint shards:  50%|█████     | 1/2 [00:00<00:00,  1.24it/s]\u001b[A\u001b[A\n",
      "\n",
      "Loading checkpoint shards: 100%|██████████| 2/2 [00:00<00:00,  2.05it/s]\u001b[A\u001b[A\n",
      "\n",
      "Layer 20 texts:  89%|████████▉ | 89/100 [17:43<02:11, 11.92s/it]\u001b[A"
     ]
    },
    {
     "name": "stdout",
     "output_type": "stream",
     "text": [
      "⚠️  No logits available for google/paligemma2-3b-pt-224, using zero loss\n",
      "📥 Loading model: google/gemma-2-2b\n"
     ]
    },
    {
     "name": "stderr",
     "output_type": "stream",
     "text": [
      "\n",
      "\n",
      "Loading checkpoint shards: 100%|██████████| 3/3 [00:00<00:00, 61.13it/s]\n"
     ]
    },
    {
     "name": "stdout",
     "output_type": "stream",
     "text": [
      "📥 Loading model: google/paligemma2-3b-pt-224\n"
     ]
    },
    {
     "name": "stderr",
     "output_type": "stream",
     "text": [
      "\n",
      "\n",
      "Loading checkpoint shards:   0%|          | 0/2 [00:00<?, ?it/s]\u001b[A\u001b[A\n",
      "\n",
      "Loading checkpoint shards:  50%|█████     | 1/2 [00:00<00:00,  1.32it/s]\u001b[A\u001b[A\n",
      "\n",
      "Loading checkpoint shards: 100%|██████████| 2/2 [00:00<00:00,  2.13it/s]\u001b[A\u001b[A\n",
      "\n",
      "Layer 20 texts:  90%|█████████ | 90/100 [17:55<01:59, 11.97s/it]\u001b[A"
     ]
    },
    {
     "name": "stdout",
     "output_type": "stream",
     "text": [
      "⚠️  No logits available for google/paligemma2-3b-pt-224, using zero loss\n",
      "📥 Loading model: google/gemma-2-2b\n"
     ]
    },
    {
     "name": "stderr",
     "output_type": "stream",
     "text": [
      "\n",
      "\n",
      "Loading checkpoint shards: 100%|██████████| 3/3 [00:00<00:00, 60.99it/s]\n"
     ]
    },
    {
     "name": "stdout",
     "output_type": "stream",
     "text": [
      "📥 Loading model: google/paligemma2-3b-pt-224\n"
     ]
    },
    {
     "name": "stderr",
     "output_type": "stream",
     "text": [
      "\n",
      "\n",
      "Loading checkpoint shards:   0%|          | 0/2 [00:00<?, ?it/s]\u001b[A\u001b[A\n",
      "\n",
      "Loading checkpoint shards:  50%|█████     | 1/2 [00:00<00:00,  1.24it/s]\u001b[A\u001b[A\n",
      "\n",
      "Loading checkpoint shards: 100%|██████████| 2/2 [00:00<00:00,  2.05it/s]\u001b[A\u001b[A\n",
      "\n",
      "Layer 20 texts:  91%|█████████ | 91/100 [18:08<01:48, 12.00s/it]\u001b[A"
     ]
    },
    {
     "name": "stdout",
     "output_type": "stream",
     "text": [
      "⚠️  No logits available for google/paligemma2-3b-pt-224, using zero loss\n",
      "📥 Loading model: google/gemma-2-2b\n"
     ]
    },
    {
     "name": "stderr",
     "output_type": "stream",
     "text": [
      "\n",
      "\n",
      "Loading checkpoint shards: 100%|██████████| 3/3 [00:00<00:00, 62.56it/s]\n"
     ]
    },
    {
     "name": "stdout",
     "output_type": "stream",
     "text": [
      "📥 Loading model: google/paligemma2-3b-pt-224\n"
     ]
    },
    {
     "name": "stderr",
     "output_type": "stream",
     "text": [
      "\n",
      "\n",
      "Loading checkpoint shards:   0%|          | 0/2 [00:00<?, ?it/s]\u001b[A\u001b[A\n",
      "\n",
      "Loading checkpoint shards:  50%|█████     | 1/2 [00:00<00:00,  1.29it/s]\u001b[A\u001b[A\n",
      "\n",
      "Loading checkpoint shards: 100%|██████████| 2/2 [00:00<00:00,  2.08it/s]\u001b[A\u001b[A\n",
      "\n",
      "Layer 20 texts:  92%|█████████▏| 92/100 [18:19<01:35, 11.99s/it]\u001b[A"
     ]
    },
    {
     "name": "stdout",
     "output_type": "stream",
     "text": [
      "⚠️  No logits available for google/paligemma2-3b-pt-224, using zero loss\n",
      "📥 Loading model: google/gemma-2-2b\n"
     ]
    },
    {
     "name": "stderr",
     "output_type": "stream",
     "text": [
      "\n",
      "\n",
      "Loading checkpoint shards: 100%|██████████| 3/3 [00:00<00:00, 60.12it/s]\n"
     ]
    },
    {
     "name": "stdout",
     "output_type": "stream",
     "text": [
      "📥 Loading model: google/paligemma2-3b-pt-224\n"
     ]
    },
    {
     "name": "stderr",
     "output_type": "stream",
     "text": [
      "\n",
      "\n",
      "Loading checkpoint shards:   0%|          | 0/2 [00:00<?, ?it/s]\u001b[A\u001b[A\n",
      "\n",
      "Loading checkpoint shards:  50%|█████     | 1/2 [00:00<00:00,  1.28it/s]\u001b[A\u001b[A\n",
      "\n",
      "Loading checkpoint shards: 100%|██████████| 2/2 [00:00<00:00,  2.10it/s]\u001b[A\u001b[A\n",
      "\n",
      "Layer 20 texts:  93%|█████████▎| 93/100 [18:32<01:24, 12.12s/it]\u001b[A"
     ]
    },
    {
     "name": "stdout",
     "output_type": "stream",
     "text": [
      "⚠️  No logits available for google/paligemma2-3b-pt-224, using zero loss\n",
      "📥 Loading model: google/gemma-2-2b\n"
     ]
    },
    {
     "name": "stderr",
     "output_type": "stream",
     "text": [
      "\n",
      "\n",
      "Loading checkpoint shards: 100%|██████████| 3/3 [00:00<00:00, 60.18it/s]\n"
     ]
    },
    {
     "name": "stdout",
     "output_type": "stream",
     "text": [
      "📥 Loading model: google/paligemma2-3b-pt-224\n"
     ]
    },
    {
     "name": "stderr",
     "output_type": "stream",
     "text": [
      "\n",
      "\n",
      "Loading checkpoint shards:   0%|          | 0/2 [00:00<?, ?it/s]\u001b[A\u001b[A\n",
      "\n",
      "Loading checkpoint shards:  50%|█████     | 1/2 [00:00<00:00,  1.31it/s]\u001b[A\u001b[A\n",
      "\n",
      "Loading checkpoint shards: 100%|██████████| 2/2 [00:00<00:00,  2.13it/s]\u001b[A\u001b[A\n",
      "\n",
      "Layer 20 texts:  94%|█████████▍| 94/100 [18:44<01:12, 12.01s/it]\u001b[A"
     ]
    },
    {
     "name": "stdout",
     "output_type": "stream",
     "text": [
      "⚠️  No logits available for google/paligemma2-3b-pt-224, using zero loss\n",
      "📥 Loading model: google/gemma-2-2b\n"
     ]
    },
    {
     "name": "stderr",
     "output_type": "stream",
     "text": [
      "\n",
      "\n",
      "Loading checkpoint shards: 100%|██████████| 3/3 [00:00<00:00, 60.78it/s]\n"
     ]
    },
    {
     "name": "stdout",
     "output_type": "stream",
     "text": [
      "📥 Loading model: google/paligemma2-3b-pt-224\n"
     ]
    },
    {
     "name": "stderr",
     "output_type": "stream",
     "text": [
      "\n",
      "\n",
      "Loading checkpoint shards:   0%|          | 0/2 [00:00<?, ?it/s]\u001b[A\u001b[A\n",
      "\n",
      "Loading checkpoint shards:  50%|█████     | 1/2 [00:00<00:00,  1.25it/s]\u001b[A\u001b[A\n",
      "\n",
      "Loading checkpoint shards: 100%|██████████| 2/2 [00:00<00:00,  2.06it/s]\u001b[A\u001b[A\n",
      "\n",
      "Layer 20 texts:  95%|█████████▌| 95/100 [18:55<00:59, 11.94s/it]\u001b[A"
     ]
    },
    {
     "name": "stdout",
     "output_type": "stream",
     "text": [
      "⚠️  No logits available for google/paligemma2-3b-pt-224, using zero loss\n",
      "📥 Loading model: google/gemma-2-2b\n"
     ]
    },
    {
     "name": "stderr",
     "output_type": "stream",
     "text": [
      "\n",
      "\n",
      "Loading checkpoint shards: 100%|██████████| 3/3 [00:00<00:00, 59.82it/s]\n"
     ]
    },
    {
     "name": "stdout",
     "output_type": "stream",
     "text": [
      "📥 Loading model: google/paligemma2-3b-pt-224\n"
     ]
    },
    {
     "name": "stderr",
     "output_type": "stream",
     "text": [
      "\n",
      "\n",
      "Loading checkpoint shards:   0%|          | 0/2 [00:00<?, ?it/s]\u001b[A\u001b[A\n",
      "\n",
      "Loading checkpoint shards:  50%|█████     | 1/2 [00:00<00:00,  1.22it/s]\u001b[A\u001b[A\n",
      "\n",
      "Loading checkpoint shards: 100%|██████████| 2/2 [00:00<00:00,  2.01it/s]\u001b[A\u001b[A\n",
      "\n",
      "Layer 20 texts:  96%|█████████▌| 96/100 [19:07<00:47, 11.93s/it]\u001b[A"
     ]
    },
    {
     "name": "stdout",
     "output_type": "stream",
     "text": [
      "⚠️  No logits available for google/paligemma2-3b-pt-224, using zero loss\n",
      "📥 Loading model: google/gemma-2-2b\n"
     ]
    },
    {
     "name": "stderr",
     "output_type": "stream",
     "text": [
      "\n",
      "\n",
      "Loading checkpoint shards: 100%|██████████| 3/3 [00:00<00:00, 62.77it/s]\n"
     ]
    },
    {
     "name": "stdout",
     "output_type": "stream",
     "text": [
      "📥 Loading model: google/paligemma2-3b-pt-224\n"
     ]
    },
    {
     "name": "stderr",
     "output_type": "stream",
     "text": [
      "\n",
      "\n",
      "Loading checkpoint shards:   0%|          | 0/2 [00:00<?, ?it/s]\u001b[A\u001b[A\n",
      "\n",
      "Loading checkpoint shards:  50%|█████     | 1/2 [00:00<00:00,  1.31it/s]\u001b[A\u001b[A\n",
      "\n",
      "Loading checkpoint shards: 100%|██████████| 2/2 [00:00<00:00,  2.13it/s]\u001b[A\u001b[A\n",
      "\n",
      "Layer 20 texts:  97%|█████████▋| 97/100 [19:19<00:35, 11.98s/it]\u001b[A"
     ]
    },
    {
     "name": "stdout",
     "output_type": "stream",
     "text": [
      "⚠️  No logits available for google/paligemma2-3b-pt-224, using zero loss\n",
      "📥 Loading model: google/gemma-2-2b\n"
     ]
    },
    {
     "name": "stderr",
     "output_type": "stream",
     "text": [
      "\n",
      "\n",
      "Loading checkpoint shards: 100%|██████████| 3/3 [00:00<00:00, 59.39it/s]\n"
     ]
    },
    {
     "name": "stdout",
     "output_type": "stream",
     "text": [
      "📥 Loading model: google/paligemma2-3b-pt-224\n"
     ]
    },
    {
     "name": "stderr",
     "output_type": "stream",
     "text": [
      "\n",
      "\n",
      "Loading checkpoint shards:   0%|          | 0/2 [00:00<?, ?it/s]\u001b[A\u001b[A\n",
      "\n",
      "Loading checkpoint shards:  50%|█████     | 1/2 [00:00<00:00,  1.28it/s]\u001b[A\u001b[A\n",
      "\n",
      "Loading checkpoint shards: 100%|██████████| 2/2 [00:00<00:00,  2.10it/s]\u001b[A\u001b[A\n",
      "\n",
      "Layer 20 texts:  98%|█████████▊| 98/100 [19:32<00:24, 12.02s/it]\u001b[A"
     ]
    },
    {
     "name": "stdout",
     "output_type": "stream",
     "text": [
      "⚠️  No logits available for google/paligemma2-3b-pt-224, using zero loss\n",
      "📥 Loading model: google/gemma-2-2b\n"
     ]
    },
    {
     "name": "stderr",
     "output_type": "stream",
     "text": [
      "\n",
      "\n",
      "Loading checkpoint shards: 100%|██████████| 3/3 [00:00<00:00, 61.94it/s]\n"
     ]
    },
    {
     "name": "stdout",
     "output_type": "stream",
     "text": [
      "📥 Loading model: google/paligemma2-3b-pt-224\n"
     ]
    },
    {
     "name": "stderr",
     "output_type": "stream",
     "text": [
      "\n",
      "\n",
      "Loading checkpoint shards:   0%|          | 0/2 [00:00<?, ?it/s]\u001b[A\u001b[A\n",
      "\n",
      "Loading checkpoint shards:  50%|█████     | 1/2 [00:00<00:00,  1.23it/s]\u001b[A\u001b[A\n",
      "\n",
      "Loading checkpoint shards: 100%|██████████| 2/2 [00:00<00:00,  2.03it/s]\u001b[A\u001b[A\n",
      "\n",
      "Layer 20 texts:  99%|█████████▉| 99/100 [19:43<00:11, 11.99s/it]\u001b[A"
     ]
    },
    {
     "name": "stdout",
     "output_type": "stream",
     "text": [
      "⚠️  No logits available for google/paligemma2-3b-pt-224, using zero loss\n",
      "📥 Loading model: google/gemma-2-2b\n"
     ]
    },
    {
     "name": "stderr",
     "output_type": "stream",
     "text": [
      "\n",
      "\n",
      "Loading checkpoint shards: 100%|██████████| 3/3 [00:00<00:00, 60.29it/s]\n"
     ]
    },
    {
     "name": "stdout",
     "output_type": "stream",
     "text": [
      "📥 Loading model: google/paligemma2-3b-pt-224\n"
     ]
    },
    {
     "name": "stderr",
     "output_type": "stream",
     "text": [
      "\n",
      "\n",
      "Loading checkpoint shards:   0%|          | 0/2 [00:00<?, ?it/s]\u001b[A\u001b[A\n",
      "\n",
      "Loading checkpoint shards:  50%|█████     | 1/2 [00:00<00:00,  1.25it/s]\u001b[A\u001b[A\n",
      "\n",
      "Loading checkpoint shards: 100%|██████████| 2/2 [00:00<00:00,  2.05it/s]\u001b[A\u001b[A\n",
      "\n",
      "Layer 20 texts: 100%|██████████| 100/100 [19:55<00:00, 11.98s/it]\u001b[A\n",
      "Processing layers:  83%|████████▎ | 5/6 [1:40:31<20:02, 1202.19s/it]"
     ]
    },
    {
     "name": "stdout",
     "output_type": "stream",
     "text": [
      "⚠️  No logits available for google/paligemma2-3b-pt-224, using zero loss\n",
      "   Memory after layer 20: 12.83GB\n",
      "\n",
      "📊 Processing Layer 24\n",
      "   📥 Loading SAE Layer 24: layer_24/width_16k/canonical\n"
     ]
    },
    {
     "name": "stderr",
     "output_type": "stream",
     "text": [
      "\n",
      "Layer 24 texts:   0%|          | 0/100 [00:00<?, ?it/s]\u001b[A"
     ]
    },
    {
     "name": "stdout",
     "output_type": "stream",
     "text": [
      "📥 Loading model: google/gemma-2-2b\n"
     ]
    },
    {
     "name": "stderr",
     "output_type": "stream",
     "text": [
      "\n",
      "\n",
      "Loading checkpoint shards: 100%|██████████| 3/3 [00:00<00:00, 61.63it/s]\n"
     ]
    },
    {
     "name": "stdout",
     "output_type": "stream",
     "text": [
      "📥 Loading model: google/paligemma2-3b-pt-224\n"
     ]
    },
    {
     "name": "stderr",
     "output_type": "stream",
     "text": [
      "\n",
      "\n",
      "Loading checkpoint shards:   0%|          | 0/2 [00:00<?, ?it/s]\u001b[A\u001b[A\n",
      "\n",
      "Loading checkpoint shards:  50%|█████     | 1/2 [00:00<00:00,  1.23it/s]\u001b[A\u001b[A\n",
      "\n",
      "Loading checkpoint shards: 100%|██████████| 2/2 [00:00<00:00,  2.00it/s]\u001b[A\u001b[A\n",
      "\n",
      "Layer 24 texts:   1%|          | 1/100 [00:11<19:44, 11.96s/it]\u001b[A"
     ]
    },
    {
     "name": "stdout",
     "output_type": "stream",
     "text": [
      "⚠️  No logits available for google/paligemma2-3b-pt-224, using zero loss\n",
      "📥 Loading model: google/gemma-2-2b\n"
     ]
    },
    {
     "name": "stderr",
     "output_type": "stream",
     "text": [
      "\n",
      "\n",
      "Loading checkpoint shards: 100%|██████████| 3/3 [00:00<00:00, 61.07it/s]\n"
     ]
    },
    {
     "name": "stdout",
     "output_type": "stream",
     "text": [
      "📥 Loading model: google/paligemma2-3b-pt-224\n"
     ]
    },
    {
     "name": "stderr",
     "output_type": "stream",
     "text": [
      "\n",
      "\n",
      "Loading checkpoint shards:   0%|          | 0/2 [00:00<?, ?it/s]\u001b[A\u001b[A\n",
      "\n",
      "Loading checkpoint shards:  50%|█████     | 1/2 [00:00<00:00,  1.21it/s]\u001b[A\u001b[A\n",
      "\n",
      "Loading checkpoint shards: 100%|██████████| 2/2 [00:01<00:00,  1.99it/s]\u001b[A\u001b[A\n",
      "\n",
      "Layer 24 texts:   2%|▏         | 2/100 [00:23<19:29, 11.93s/it]\u001b[A"
     ]
    },
    {
     "name": "stdout",
     "output_type": "stream",
     "text": [
      "⚠️  No logits available for google/paligemma2-3b-pt-224, using zero loss\n",
      "📥 Loading model: google/gemma-2-2b\n"
     ]
    },
    {
     "name": "stderr",
     "output_type": "stream",
     "text": [
      "\n",
      "\n",
      "Loading checkpoint shards: 100%|██████████| 3/3 [00:00<00:00, 62.13it/s]\n"
     ]
    },
    {
     "name": "stdout",
     "output_type": "stream",
     "text": [
      "📥 Loading model: google/paligemma2-3b-pt-224\n"
     ]
    },
    {
     "name": "stderr",
     "output_type": "stream",
     "text": [
      "\n",
      "\n",
      "Loading checkpoint shards:   0%|          | 0/2 [00:00<?, ?it/s]\u001b[A\u001b[A\n",
      "\n",
      "Loading checkpoint shards:  50%|█████     | 1/2 [00:00<00:00,  1.26it/s]\u001b[A\u001b[A\n",
      "\n",
      "Loading checkpoint shards: 100%|██████████| 2/2 [00:00<00:00,  2.07it/s]\u001b[A\u001b[A\n",
      "\n",
      "Layer 24 texts:   3%|▎         | 3/100 [00:35<19:08, 11.84s/it]\u001b[A"
     ]
    },
    {
     "name": "stdout",
     "output_type": "stream",
     "text": [
      "⚠️  No logits available for google/paligemma2-3b-pt-224, using zero loss\n",
      "📥 Loading model: google/gemma-2-2b\n"
     ]
    },
    {
     "name": "stderr",
     "output_type": "stream",
     "text": [
      "\n",
      "\n",
      "Loading checkpoint shards: 100%|██████████| 3/3 [00:00<00:00, 60.48it/s]\n"
     ]
    },
    {
     "name": "stdout",
     "output_type": "stream",
     "text": [
      "📥 Loading model: google/paligemma2-3b-pt-224\n"
     ]
    },
    {
     "name": "stderr",
     "output_type": "stream",
     "text": [
      "\n",
      "\n",
      "Loading checkpoint shards:   0%|          | 0/2 [00:00<?, ?it/s]\u001b[A\u001b[A\n",
      "\n",
      "Loading checkpoint shards:  50%|█████     | 1/2 [00:00<00:00,  1.25it/s]\u001b[A\u001b[A\n",
      "\n",
      "Loading checkpoint shards: 100%|██████████| 2/2 [00:00<00:00,  2.04it/s]\u001b[A\u001b[A\n",
      "\n",
      "Layer 24 texts:   4%|▍         | 4/100 [00:47<19:00, 11.88s/it]\u001b[A"
     ]
    },
    {
     "name": "stdout",
     "output_type": "stream",
     "text": [
      "⚠️  No logits available for google/paligemma2-3b-pt-224, using zero loss\n",
      "📥 Loading model: google/gemma-2-2b\n"
     ]
    },
    {
     "name": "stderr",
     "output_type": "stream",
     "text": [
      "\n",
      "\n",
      "Loading checkpoint shards: 100%|██████████| 3/3 [00:00<00:00, 59.34it/s]\n"
     ]
    },
    {
     "name": "stdout",
     "output_type": "stream",
     "text": [
      "📥 Loading model: google/paligemma2-3b-pt-224\n"
     ]
    },
    {
     "name": "stderr",
     "output_type": "stream",
     "text": [
      "\n",
      "\n",
      "Loading checkpoint shards:   0%|          | 0/2 [00:00<?, ?it/s]\u001b[A\u001b[A\n",
      "\n",
      "Loading checkpoint shards:  50%|█████     | 1/2 [00:00<00:00,  1.28it/s]\u001b[A\u001b[A\n",
      "\n",
      "Loading checkpoint shards: 100%|██████████| 2/2 [00:00<00:00,  2.09it/s]\u001b[A\u001b[A\n",
      "\n",
      "Layer 24 texts:   5%|▌         | 5/100 [00:59<18:49, 11.89s/it]\u001b[A"
     ]
    },
    {
     "name": "stdout",
     "output_type": "stream",
     "text": [
      "⚠️  No logits available for google/paligemma2-3b-pt-224, using zero loss\n",
      "📥 Loading model: google/gemma-2-2b\n"
     ]
    },
    {
     "name": "stderr",
     "output_type": "stream",
     "text": [
      "\n",
      "\n",
      "Loading checkpoint shards: 100%|██████████| 3/3 [00:00<00:00, 59.03it/s]\n"
     ]
    },
    {
     "name": "stdout",
     "output_type": "stream",
     "text": [
      "📥 Loading model: google/paligemma2-3b-pt-224\n"
     ]
    },
    {
     "name": "stderr",
     "output_type": "stream",
     "text": [
      "\n",
      "\n",
      "Loading checkpoint shards:   0%|          | 0/2 [00:00<?, ?it/s]\u001b[A\u001b[A\n",
      "\n",
      "Loading checkpoint shards:  50%|█████     | 1/2 [00:00<00:00,  1.27it/s]\u001b[A\u001b[A\n",
      "\n",
      "Loading checkpoint shards: 100%|██████████| 2/2 [00:00<00:00,  2.05it/s]\u001b[A\u001b[A\n",
      "\n",
      "Layer 24 texts:   6%|▌         | 6/100 [01:11<18:35, 11.86s/it]\u001b[A"
     ]
    },
    {
     "name": "stdout",
     "output_type": "stream",
     "text": [
      "⚠️  No logits available for google/paligemma2-3b-pt-224, using zero loss\n",
      "📥 Loading model: google/gemma-2-2b\n"
     ]
    },
    {
     "name": "stderr",
     "output_type": "stream",
     "text": [
      "\n",
      "\n",
      "Loading checkpoint shards: 100%|██████████| 3/3 [00:00<00:00, 60.59it/s]\n"
     ]
    },
    {
     "name": "stdout",
     "output_type": "stream",
     "text": [
      "📥 Loading model: google/paligemma2-3b-pt-224\n"
     ]
    },
    {
     "name": "stderr",
     "output_type": "stream",
     "text": [
      "\n",
      "\n",
      "Loading checkpoint shards:   0%|          | 0/2 [00:00<?, ?it/s]\u001b[A\u001b[A\n",
      "\n",
      "Loading checkpoint shards:  50%|█████     | 1/2 [00:00<00:00,  1.26it/s]\u001b[A\u001b[A\n",
      "\n",
      "Loading checkpoint shards: 100%|██████████| 2/2 [00:00<00:00,  2.07it/s]\u001b[A\u001b[A\n",
      "\n",
      "Layer 24 texts:   7%|▋         | 7/100 [01:23<18:24, 11.88s/it]\u001b[A"
     ]
    },
    {
     "name": "stdout",
     "output_type": "stream",
     "text": [
      "⚠️  No logits available for google/paligemma2-3b-pt-224, using zero loss\n",
      "📥 Loading model: google/gemma-2-2b\n"
     ]
    },
    {
     "name": "stderr",
     "output_type": "stream",
     "text": [
      "\n",
      "\n",
      "Loading checkpoint shards: 100%|██████████| 3/3 [00:00<00:00, 59.04it/s]\n"
     ]
    },
    {
     "name": "stdout",
     "output_type": "stream",
     "text": [
      "📥 Loading model: google/paligemma2-3b-pt-224\n"
     ]
    },
    {
     "name": "stderr",
     "output_type": "stream",
     "text": [
      "\n",
      "\n",
      "Loading checkpoint shards:   0%|          | 0/2 [00:00<?, ?it/s]\u001b[A\u001b[A\n",
      "\n",
      "Loading checkpoint shards:  50%|█████     | 1/2 [00:00<00:00,  1.29it/s]\u001b[A\u001b[A\n",
      "\n",
      "Loading checkpoint shards: 100%|██████████| 2/2 [00:00<00:00,  2.10it/s]\u001b[A\u001b[A\n",
      "\n",
      "Layer 24 texts:   8%|▊         | 8/100 [01:35<18:15, 11.91s/it]\u001b[A"
     ]
    },
    {
     "name": "stdout",
     "output_type": "stream",
     "text": [
      "⚠️  No logits available for google/paligemma2-3b-pt-224, using zero loss\n",
      "📥 Loading model: google/gemma-2-2b\n"
     ]
    },
    {
     "name": "stderr",
     "output_type": "stream",
     "text": [
      "\n",
      "\n",
      "Loading checkpoint shards: 100%|██████████| 3/3 [00:00<00:00, 59.84it/s]\n"
     ]
    },
    {
     "name": "stdout",
     "output_type": "stream",
     "text": [
      "📥 Loading model: google/paligemma2-3b-pt-224\n"
     ]
    },
    {
     "name": "stderr",
     "output_type": "stream",
     "text": [
      "\n",
      "\n",
      "Loading checkpoint shards:   0%|          | 0/2 [00:00<?, ?it/s]\u001b[A\u001b[A\n",
      "\n",
      "Loading checkpoint shards:  50%|█████     | 1/2 [00:00<00:00,  1.26it/s]\u001b[A\u001b[A\n",
      "\n",
      "Loading checkpoint shards: 100%|██████████| 2/2 [00:00<00:00,  2.06it/s]\u001b[A\u001b[A\n",
      "\n",
      "Layer 24 texts:   9%|▉         | 9/100 [01:46<17:59, 11.87s/it]\u001b[A"
     ]
    },
    {
     "name": "stdout",
     "output_type": "stream",
     "text": [
      "⚠️  No logits available for google/paligemma2-3b-pt-224, using zero loss\n",
      "📥 Loading model: google/gemma-2-2b\n"
     ]
    },
    {
     "name": "stderr",
     "output_type": "stream",
     "text": [
      "\n",
      "\n",
      "Loading checkpoint shards: 100%|██████████| 3/3 [00:00<00:00, 61.25it/s]\n"
     ]
    },
    {
     "name": "stdout",
     "output_type": "stream",
     "text": [
      "📥 Loading model: google/paligemma2-3b-pt-224\n"
     ]
    },
    {
     "name": "stderr",
     "output_type": "stream",
     "text": [
      "\n",
      "\n",
      "Loading checkpoint shards:   0%|          | 0/2 [00:00<?, ?it/s]\u001b[A\u001b[A\n",
      "\n",
      "Loading checkpoint shards:  50%|█████     | 1/2 [00:00<00:00,  1.28it/s]\u001b[A\u001b[A\n",
      "\n",
      "Loading checkpoint shards: 100%|██████████| 2/2 [00:00<00:00,  2.10it/s]\u001b[A\u001b[A\n",
      "\n",
      "Layer 24 texts:  10%|█         | 10/100 [01:58<17:45, 11.84s/it]\u001b[A"
     ]
    },
    {
     "name": "stdout",
     "output_type": "stream",
     "text": [
      "⚠️  No logits available for google/paligemma2-3b-pt-224, using zero loss\n",
      "📥 Loading model: google/gemma-2-2b\n"
     ]
    },
    {
     "name": "stderr",
     "output_type": "stream",
     "text": [
      "\n",
      "\n",
      "Loading checkpoint shards: 100%|██████████| 3/3 [00:00<00:00, 59.79it/s]\n"
     ]
    },
    {
     "name": "stdout",
     "output_type": "stream",
     "text": [
      "📥 Loading model: google/paligemma2-3b-pt-224\n"
     ]
    },
    {
     "name": "stderr",
     "output_type": "stream",
     "text": [
      "\n",
      "\n",
      "Loading checkpoint shards:   0%|          | 0/2 [00:00<?, ?it/s]\u001b[A\u001b[A\n",
      "\n",
      "Loading checkpoint shards:  50%|█████     | 1/2 [00:00<00:00,  1.25it/s]\u001b[A\u001b[A\n",
      "\n",
      "Loading checkpoint shards: 100%|██████████| 2/2 [00:00<00:00,  2.04it/s]\u001b[A\u001b[A\n",
      "\n",
      "Layer 24 texts:  11%|█         | 11/100 [02:10<17:37, 11.88s/it]\u001b[A"
     ]
    },
    {
     "name": "stdout",
     "output_type": "stream",
     "text": [
      "⚠️  No logits available for google/paligemma2-3b-pt-224, using zero loss\n",
      "📥 Loading model: google/gemma-2-2b\n"
     ]
    },
    {
     "name": "stderr",
     "output_type": "stream",
     "text": [
      "\n",
      "\n",
      "Loading checkpoint shards: 100%|██████████| 3/3 [00:00<00:00, 59.78it/s]\n"
     ]
    },
    {
     "name": "stdout",
     "output_type": "stream",
     "text": [
      "📥 Loading model: google/paligemma2-3b-pt-224\n"
     ]
    },
    {
     "name": "stderr",
     "output_type": "stream",
     "text": [
      "\n",
      "\n",
      "Loading checkpoint shards:   0%|          | 0/2 [00:00<?, ?it/s]\u001b[A\u001b[A\n",
      "\n",
      "Loading checkpoint shards:  50%|█████     | 1/2 [00:00<00:00,  1.24it/s]\u001b[A\u001b[A\n",
      "\n",
      "Loading checkpoint shards: 100%|██████████| 2/2 [00:00<00:00,  2.01it/s]\u001b[A\u001b[A\n",
      "\n",
      "Layer 24 texts:  12%|█▏        | 12/100 [02:22<17:23, 11.86s/it]\u001b[A"
     ]
    },
    {
     "name": "stdout",
     "output_type": "stream",
     "text": [
      "⚠️  No logits available for google/paligemma2-3b-pt-224, using zero loss\n",
      "📥 Loading model: google/gemma-2-2b\n"
     ]
    },
    {
     "name": "stderr",
     "output_type": "stream",
     "text": [
      "\n",
      "\n",
      "Loading checkpoint shards: 100%|██████████| 3/3 [00:00<00:00, 59.48it/s]\n"
     ]
    },
    {
     "name": "stdout",
     "output_type": "stream",
     "text": [
      "📥 Loading model: google/paligemma2-3b-pt-224\n"
     ]
    },
    {
     "name": "stderr",
     "output_type": "stream",
     "text": [
      "\n",
      "\n",
      "Loading checkpoint shards:   0%|          | 0/2 [00:00<?, ?it/s]\u001b[A\u001b[A\n",
      "\n",
      "Loading checkpoint shards:  50%|█████     | 1/2 [00:00<00:00,  1.26it/s]\u001b[A\u001b[A\n",
      "\n",
      "Loading checkpoint shards: 100%|██████████| 2/2 [00:00<00:00,  2.07it/s]\u001b[A\u001b[A\n",
      "\n",
      "Layer 24 texts:  13%|█▎        | 13/100 [02:34<17:12, 11.86s/it]\u001b[A"
     ]
    },
    {
     "name": "stdout",
     "output_type": "stream",
     "text": [
      "⚠️  No logits available for google/paligemma2-3b-pt-224, using zero loss\n",
      "📥 Loading model: google/gemma-2-2b\n"
     ]
    },
    {
     "name": "stderr",
     "output_type": "stream",
     "text": [
      "\n",
      "\n",
      "Loading checkpoint shards: 100%|██████████| 3/3 [00:00<00:00, 61.12it/s]\n"
     ]
    },
    {
     "name": "stdout",
     "output_type": "stream",
     "text": [
      "📥 Loading model: google/paligemma2-3b-pt-224\n"
     ]
    },
    {
     "name": "stderr",
     "output_type": "stream",
     "text": [
      "\n",
      "\n",
      "Loading checkpoint shards:   0%|          | 0/2 [00:00<?, ?it/s]\u001b[A\u001b[A\n",
      "\n",
      "Loading checkpoint shards:  50%|█████     | 1/2 [00:00<00:00,  1.29it/s]\u001b[A\u001b[A\n",
      "\n",
      "Loading checkpoint shards: 100%|██████████| 2/2 [00:00<00:00,  2.12it/s]\u001b[A\u001b[A\n",
      "\n",
      "Layer 24 texts:  14%|█▍        | 14/100 [02:46<17:01, 11.87s/it]\u001b[A"
     ]
    },
    {
     "name": "stdout",
     "output_type": "stream",
     "text": [
      "⚠️  No logits available for google/paligemma2-3b-pt-224, using zero loss\n",
      "📥 Loading model: google/gemma-2-2b\n"
     ]
    },
    {
     "name": "stderr",
     "output_type": "stream",
     "text": [
      "\n",
      "\n",
      "Loading checkpoint shards: 100%|██████████| 3/3 [00:00<00:00, 59.40it/s]\n"
     ]
    },
    {
     "name": "stdout",
     "output_type": "stream",
     "text": [
      "📥 Loading model: google/paligemma2-3b-pt-224\n"
     ]
    },
    {
     "name": "stderr",
     "output_type": "stream",
     "text": [
      "\n",
      "\n",
      "Loading checkpoint shards:   0%|          | 0/2 [00:00<?, ?it/s]\u001b[A\u001b[A\n",
      "\n",
      "Loading checkpoint shards:  50%|█████     | 1/2 [00:00<00:00,  1.27it/s]\u001b[A\u001b[A\n",
      "\n",
      "Loading checkpoint shards: 100%|██████████| 2/2 [00:00<00:00,  2.06it/s]\u001b[A\u001b[A\n",
      "\n",
      "Layer 24 texts:  15%|█▌        | 15/100 [02:58<16:50, 11.89s/it]\u001b[A"
     ]
    },
    {
     "name": "stdout",
     "output_type": "stream",
     "text": [
      "⚠️  No logits available for google/paligemma2-3b-pt-224, using zero loss\n",
      "📥 Loading model: google/gemma-2-2b\n"
     ]
    },
    {
     "name": "stderr",
     "output_type": "stream",
     "text": [
      "\n",
      "\n",
      "Loading checkpoint shards: 100%|██████████| 3/3 [00:00<00:00, 59.67it/s]\n"
     ]
    },
    {
     "name": "stdout",
     "output_type": "stream",
     "text": [
      "📥 Loading model: google/paligemma2-3b-pt-224\n"
     ]
    },
    {
     "name": "stderr",
     "output_type": "stream",
     "text": [
      "\n",
      "\n",
      "Loading checkpoint shards:   0%|          | 0/2 [00:00<?, ?it/s]\u001b[A\u001b[A\n",
      "\n",
      "Loading checkpoint shards:  50%|█████     | 1/2 [00:00<00:00,  1.27it/s]\u001b[A\u001b[A\n",
      "\n",
      "Loading checkpoint shards: 100%|██████████| 2/2 [00:00<00:00,  2.08it/s]\u001b[A\u001b[A\n",
      "\n",
      "Layer 24 texts:  16%|█▌        | 16/100 [03:10<16:37, 11.87s/it]\u001b[A"
     ]
    },
    {
     "name": "stdout",
     "output_type": "stream",
     "text": [
      "⚠️  No logits available for google/paligemma2-3b-pt-224, using zero loss\n",
      "📥 Loading model: google/gemma-2-2b\n"
     ]
    },
    {
     "name": "stderr",
     "output_type": "stream",
     "text": [
      "\n",
      "\n",
      "Loading checkpoint shards: 100%|██████████| 3/3 [00:00<00:00, 61.16it/s]\n"
     ]
    },
    {
     "name": "stdout",
     "output_type": "stream",
     "text": [
      "📥 Loading model: google/paligemma2-3b-pt-224\n"
     ]
    },
    {
     "name": "stderr",
     "output_type": "stream",
     "text": [
      "\n",
      "\n",
      "Loading checkpoint shards:   0%|          | 0/2 [00:00<?, ?it/s]\u001b[A\u001b[A\n",
      "\n",
      "Loading checkpoint shards:  50%|█████     | 1/2 [00:00<00:00,  1.28it/s]\u001b[A\u001b[A\n",
      "\n",
      "Loading checkpoint shards: 100%|██████████| 2/2 [00:00<00:00,  2.11it/s]\u001b[A\u001b[A\n",
      "\n",
      "Layer 24 texts:  17%|█▋        | 17/100 [03:21<16:24, 11.86s/it]\u001b[A"
     ]
    },
    {
     "name": "stdout",
     "output_type": "stream",
     "text": [
      "⚠️  No logits available for google/paligemma2-3b-pt-224, using zero loss\n",
      "📥 Loading model: google/gemma-2-2b\n"
     ]
    },
    {
     "name": "stderr",
     "output_type": "stream",
     "text": [
      "\n",
      "\n",
      "Loading checkpoint shards: 100%|██████████| 3/3 [00:00<00:00, 60.26it/s]\n"
     ]
    },
    {
     "name": "stdout",
     "output_type": "stream",
     "text": [
      "📥 Loading model: google/paligemma2-3b-pt-224\n"
     ]
    },
    {
     "name": "stderr",
     "output_type": "stream",
     "text": [
      "\n",
      "\n",
      "Loading checkpoint shards:   0%|          | 0/2 [00:00<?, ?it/s]\u001b[A\u001b[A\n",
      "\n",
      "Loading checkpoint shards:  50%|█████     | 1/2 [00:00<00:00,  1.26it/s]\u001b[A\u001b[A\n",
      "\n",
      "Loading checkpoint shards: 100%|██████████| 2/2 [00:00<00:00,  2.05it/s]\u001b[A\u001b[A\n",
      "\n",
      "Layer 24 texts:  18%|█▊        | 18/100 [03:33<16:12, 11.86s/it]\u001b[A"
     ]
    },
    {
     "name": "stdout",
     "output_type": "stream",
     "text": [
      "⚠️  No logits available for google/paligemma2-3b-pt-224, using zero loss\n",
      "📥 Loading model: google/gemma-2-2b\n"
     ]
    },
    {
     "name": "stderr",
     "output_type": "stream",
     "text": [
      "\n",
      "\n",
      "Loading checkpoint shards: 100%|██████████| 3/3 [00:00<00:00, 59.91it/s]\n"
     ]
    },
    {
     "name": "stdout",
     "output_type": "stream",
     "text": [
      "📥 Loading model: google/paligemma2-3b-pt-224\n"
     ]
    },
    {
     "name": "stderr",
     "output_type": "stream",
     "text": [
      "\n",
      "\n",
      "Loading checkpoint shards:   0%|          | 0/2 [00:00<?, ?it/s]\u001b[A\u001b[A\n",
      "\n",
      "Loading checkpoint shards:  50%|█████     | 1/2 [00:00<00:00,  1.17it/s]\u001b[A\u001b[A\n",
      "\n",
      "Loading checkpoint shards: 100%|██████████| 2/2 [00:01<00:00,  1.94it/s]\u001b[A\u001b[A\n",
      "\n",
      "Layer 24 texts:  19%|█▉        | 19/100 [03:45<16:03, 11.89s/it]\u001b[A"
     ]
    },
    {
     "name": "stdout",
     "output_type": "stream",
     "text": [
      "⚠️  No logits available for google/paligemma2-3b-pt-224, using zero loss\n",
      "📥 Loading model: google/gemma-2-2b\n"
     ]
    },
    {
     "name": "stderr",
     "output_type": "stream",
     "text": [
      "\n",
      "\n",
      "Loading checkpoint shards: 100%|██████████| 3/3 [00:00<00:00, 61.02it/s]\n"
     ]
    },
    {
     "name": "stdout",
     "output_type": "stream",
     "text": [
      "📥 Loading model: google/paligemma2-3b-pt-224\n"
     ]
    },
    {
     "name": "stderr",
     "output_type": "stream",
     "text": [
      "\n",
      "\n",
      "Loading checkpoint shards:   0%|          | 0/2 [00:00<?, ?it/s]\u001b[A\u001b[A\n",
      "\n",
      "Loading checkpoint shards:  50%|█████     | 1/2 [00:00<00:00,  1.28it/s]\u001b[A\u001b[A\n",
      "\n",
      "Loading checkpoint shards: 100%|██████████| 2/2 [00:00<00:00,  2.08it/s]\u001b[A\u001b[A\n",
      "\n",
      "Layer 24 texts:  20%|██        | 20/100 [03:57<15:48, 11.86s/it]\u001b[A"
     ]
    },
    {
     "name": "stdout",
     "output_type": "stream",
     "text": [
      "⚠️  No logits available for google/paligemma2-3b-pt-224, using zero loss\n",
      "📥 Loading model: google/gemma-2-2b\n"
     ]
    },
    {
     "name": "stderr",
     "output_type": "stream",
     "text": [
      "\n",
      "\n",
      "Loading checkpoint shards: 100%|██████████| 3/3 [00:00<00:00, 59.01it/s]\n"
     ]
    },
    {
     "name": "stdout",
     "output_type": "stream",
     "text": [
      "📥 Loading model: google/paligemma2-3b-pt-224\n"
     ]
    },
    {
     "name": "stderr",
     "output_type": "stream",
     "text": [
      "\n",
      "\n",
      "Loading checkpoint shards:   0%|          | 0/2 [00:00<?, ?it/s]\u001b[A\u001b[A\n",
      "\n",
      "Loading checkpoint shards:  50%|█████     | 1/2 [00:00<00:00,  1.26it/s]\u001b[A\u001b[A\n",
      "\n",
      "Loading checkpoint shards: 100%|██████████| 2/2 [00:00<00:00,  2.06it/s]\u001b[A\u001b[A\n",
      "\n",
      "Layer 24 texts:  21%|██        | 21/100 [04:09<15:35, 11.84s/it]\u001b[A"
     ]
    },
    {
     "name": "stdout",
     "output_type": "stream",
     "text": [
      "⚠️  No logits available for google/paligemma2-3b-pt-224, using zero loss\n",
      "📥 Loading model: google/gemma-2-2b\n"
     ]
    },
    {
     "name": "stderr",
     "output_type": "stream",
     "text": [
      "\n",
      "\n",
      "Loading checkpoint shards: 100%|██████████| 3/3 [00:00<00:00, 59.88it/s]\n"
     ]
    },
    {
     "name": "stdout",
     "output_type": "stream",
     "text": [
      "📥 Loading model: google/paligemma2-3b-pt-224\n"
     ]
    },
    {
     "name": "stderr",
     "output_type": "stream",
     "text": [
      "\n",
      "\n",
      "Loading checkpoint shards:   0%|          | 0/2 [00:00<?, ?it/s]\u001b[A\u001b[A\n",
      "\n",
      "Loading checkpoint shards:  50%|█████     | 1/2 [00:00<00:00,  1.24it/s]\u001b[A\u001b[A\n",
      "\n",
      "Loading checkpoint shards: 100%|██████████| 2/2 [00:00<00:00,  2.04it/s]\u001b[A\u001b[A\n",
      "\n",
      "Layer 24 texts:  22%|██▏       | 22/100 [04:21<15:26, 11.88s/it]\u001b[A"
     ]
    },
    {
     "name": "stdout",
     "output_type": "stream",
     "text": [
      "⚠️  No logits available for google/paligemma2-3b-pt-224, using zero loss\n",
      "📥 Loading model: google/gemma-2-2b\n"
     ]
    },
    {
     "name": "stderr",
     "output_type": "stream",
     "text": [
      "\n",
      "\n",
      "Loading checkpoint shards: 100%|██████████| 3/3 [00:00<00:00, 61.04it/s]\n"
     ]
    },
    {
     "name": "stdout",
     "output_type": "stream",
     "text": [
      "📥 Loading model: google/paligemma2-3b-pt-224\n"
     ]
    },
    {
     "name": "stderr",
     "output_type": "stream",
     "text": [
      "\n",
      "\n",
      "Loading checkpoint shards:   0%|          | 0/2 [00:00<?, ?it/s]\u001b[A\u001b[A\n",
      "\n",
      "Loading checkpoint shards:  50%|█████     | 1/2 [00:00<00:00,  1.29it/s]\u001b[A\u001b[A\n",
      "\n",
      "Loading checkpoint shards: 100%|██████████| 2/2 [00:00<00:00,  2.09it/s]\u001b[A\u001b[A\n",
      "\n",
      "Layer 24 texts:  23%|██▎       | 23/100 [04:33<15:17, 11.92s/it]\u001b[A"
     ]
    },
    {
     "name": "stdout",
     "output_type": "stream",
     "text": [
      "⚠️  No logits available for google/paligemma2-3b-pt-224, using zero loss\n",
      "📥 Loading model: google/gemma-2-2b\n"
     ]
    },
    {
     "name": "stderr",
     "output_type": "stream",
     "text": [
      "\n",
      "\n",
      "Loading checkpoint shards: 100%|██████████| 3/3 [00:00<00:00, 58.94it/s]\n"
     ]
    },
    {
     "name": "stdout",
     "output_type": "stream",
     "text": [
      "📥 Loading model: google/paligemma2-3b-pt-224\n"
     ]
    },
    {
     "name": "stderr",
     "output_type": "stream",
     "text": [
      "\n",
      "\n",
      "Loading checkpoint shards:   0%|          | 0/2 [00:00<?, ?it/s]\u001b[A\u001b[A\n",
      "\n",
      "Loading checkpoint shards:  50%|█████     | 1/2 [00:00<00:00,  1.26it/s]\u001b[A\u001b[A\n",
      "\n",
      "Loading checkpoint shards: 100%|██████████| 2/2 [00:00<00:00,  2.06it/s]\u001b[A\u001b[A\n",
      "\n",
      "Layer 24 texts:  24%|██▍       | 24/100 [04:44<15:00, 11.85s/it]\u001b[A"
     ]
    },
    {
     "name": "stdout",
     "output_type": "stream",
     "text": [
      "⚠️  No logits available for google/paligemma2-3b-pt-224, using zero loss\n",
      "📥 Loading model: google/gemma-2-2b\n"
     ]
    },
    {
     "name": "stderr",
     "output_type": "stream",
     "text": [
      "\n",
      "\n",
      "Loading checkpoint shards: 100%|██████████| 3/3 [00:00<00:00, 60.74it/s]\n"
     ]
    },
    {
     "name": "stdout",
     "output_type": "stream",
     "text": [
      "📥 Loading model: google/paligemma2-3b-pt-224\n"
     ]
    },
    {
     "name": "stderr",
     "output_type": "stream",
     "text": [
      "\n",
      "\n",
      "Loading checkpoint shards:   0%|          | 0/2 [00:00<?, ?it/s]\u001b[A\u001b[A\n",
      "\n",
      "Loading checkpoint shards:  50%|█████     | 1/2 [00:00<00:00,  1.24it/s]\u001b[A\u001b[A\n",
      "\n",
      "Loading checkpoint shards: 100%|██████████| 2/2 [00:00<00:00,  2.03it/s]\u001b[A\u001b[A\n",
      "\n",
      "Layer 24 texts:  25%|██▌       | 25/100 [04:56<14:52, 11.90s/it]\u001b[A"
     ]
    },
    {
     "name": "stdout",
     "output_type": "stream",
     "text": [
      "⚠️  No logits available for google/paligemma2-3b-pt-224, using zero loss\n",
      "📥 Loading model: google/gemma-2-2b\n"
     ]
    },
    {
     "name": "stderr",
     "output_type": "stream",
     "text": [
      "\n",
      "\n",
      "Loading checkpoint shards: 100%|██████████| 3/3 [00:00<00:00, 60.39it/s]\n"
     ]
    },
    {
     "name": "stdout",
     "output_type": "stream",
     "text": [
      "📥 Loading model: google/paligemma2-3b-pt-224\n"
     ]
    },
    {
     "name": "stderr",
     "output_type": "stream",
     "text": [
      "\n",
      "\n",
      "Loading checkpoint shards:   0%|          | 0/2 [00:00<?, ?it/s]\u001b[A\u001b[A\n",
      "\n",
      "Loading checkpoint shards:  50%|█████     | 1/2 [00:00<00:00,  1.28it/s]\u001b[A\u001b[A\n",
      "\n",
      "Loading checkpoint shards: 100%|██████████| 2/2 [00:00<00:00,  2.07it/s]\u001b[A\u001b[A\n",
      "\n",
      "Layer 24 texts:  26%|██▌       | 26/100 [05:08<14:43, 11.94s/it]\u001b[A"
     ]
    },
    {
     "name": "stdout",
     "output_type": "stream",
     "text": [
      "⚠️  No logits available for google/paligemma2-3b-pt-224, using zero loss\n",
      "📥 Loading model: google/gemma-2-2b\n"
     ]
    },
    {
     "name": "stderr",
     "output_type": "stream",
     "text": [
      "\n",
      "\n",
      "Loading checkpoint shards: 100%|██████████| 3/3 [00:00<00:00, 62.04it/s]\n"
     ]
    },
    {
     "name": "stdout",
     "output_type": "stream",
     "text": [
      "📥 Loading model: google/paligemma2-3b-pt-224\n"
     ]
    },
    {
     "name": "stderr",
     "output_type": "stream",
     "text": [
      "\n",
      "\n",
      "Loading checkpoint shards:   0%|          | 0/2 [00:00<?, ?it/s]\u001b[A\u001b[A\n",
      "\n",
      "Loading checkpoint shards:  50%|█████     | 1/2 [00:00<00:00,  1.21it/s]\u001b[A\u001b[A\n",
      "\n",
      "Loading checkpoint shards: 100%|██████████| 2/2 [00:01<00:00,  1.99it/s]\u001b[A\u001b[A\n",
      "\n",
      "Layer 24 texts:  27%|██▋       | 27/100 [05:21<14:34, 11.97s/it]\u001b[A"
     ]
    },
    {
     "name": "stdout",
     "output_type": "stream",
     "text": [
      "⚠️  No logits available for google/paligemma2-3b-pt-224, using zero loss\n",
      "📥 Loading model: google/gemma-2-2b\n"
     ]
    },
    {
     "name": "stderr",
     "output_type": "stream",
     "text": [
      "\n",
      "\n",
      "Loading checkpoint shards: 100%|██████████| 3/3 [00:00<00:00, 62.29it/s]\n"
     ]
    },
    {
     "name": "stdout",
     "output_type": "stream",
     "text": [
      "📥 Loading model: google/paligemma2-3b-pt-224\n"
     ]
    },
    {
     "name": "stderr",
     "output_type": "stream",
     "text": [
      "\n",
      "\n",
      "Loading checkpoint shards:   0%|          | 0/2 [00:00<?, ?it/s]\u001b[A\u001b[A\n",
      "\n",
      "Loading checkpoint shards:  50%|█████     | 1/2 [00:00<00:00,  1.28it/s]\u001b[A\u001b[A\n",
      "\n",
      "Loading checkpoint shards: 100%|██████████| 2/2 [00:00<00:00,  2.07it/s]\u001b[A\u001b[A\n",
      "\n",
      "Layer 24 texts:  28%|██▊       | 28/100 [05:32<14:20, 11.95s/it]\u001b[A"
     ]
    },
    {
     "name": "stdout",
     "output_type": "stream",
     "text": [
      "⚠️  No logits available for google/paligemma2-3b-pt-224, using zero loss\n",
      "📥 Loading model: google/gemma-2-2b\n"
     ]
    },
    {
     "name": "stderr",
     "output_type": "stream",
     "text": [
      "\n",
      "\n",
      "Loading checkpoint shards: 100%|██████████| 3/3 [00:00<00:00, 59.32it/s]\n"
     ]
    },
    {
     "name": "stdout",
     "output_type": "stream",
     "text": [
      "📥 Loading model: google/paligemma2-3b-pt-224\n"
     ]
    },
    {
     "name": "stderr",
     "output_type": "stream",
     "text": [
      "\n",
      "\n",
      "Loading checkpoint shards:   0%|          | 0/2 [00:00<?, ?it/s]\u001b[A\u001b[A\n",
      "\n",
      "Loading checkpoint shards:  50%|█████     | 1/2 [00:00<00:00,  1.29it/s]\u001b[A\u001b[A\n",
      "\n",
      "Loading checkpoint shards: 100%|██████████| 2/2 [00:00<00:00,  2.10it/s]\u001b[A\u001b[A\n",
      "\n",
      "Layer 24 texts:  29%|██▉       | 29/100 [05:44<14:05, 11.91s/it]\u001b[A"
     ]
    },
    {
     "name": "stdout",
     "output_type": "stream",
     "text": [
      "⚠️  No logits available for google/paligemma2-3b-pt-224, using zero loss\n",
      "📥 Loading model: google/gemma-2-2b\n"
     ]
    },
    {
     "name": "stderr",
     "output_type": "stream",
     "text": [
      "\n",
      "\n",
      "Loading checkpoint shards: 100%|██████████| 3/3 [00:00<00:00, 60.66it/s]\n"
     ]
    },
    {
     "name": "stdout",
     "output_type": "stream",
     "text": [
      "📥 Loading model: google/paligemma2-3b-pt-224\n"
     ]
    },
    {
     "name": "stderr",
     "output_type": "stream",
     "text": [
      "\n",
      "\n",
      "Loading checkpoint shards:   0%|          | 0/2 [00:00<?, ?it/s]\u001b[A\u001b[A\n",
      "\n",
      "Loading checkpoint shards:  50%|█████     | 1/2 [00:00<00:00,  1.25it/s]\u001b[A\u001b[A\n",
      "\n",
      "Loading checkpoint shards: 100%|██████████| 2/2 [00:00<00:00,  2.06it/s]\u001b[A\u001b[A\n",
      "\n",
      "Layer 24 texts:  30%|███       | 30/100 [05:56<13:56, 11.95s/it]\u001b[A"
     ]
    },
    {
     "name": "stdout",
     "output_type": "stream",
     "text": [
      "⚠️  No logits available for google/paligemma2-3b-pt-224, using zero loss\n",
      "📥 Loading model: google/gemma-2-2b\n"
     ]
    },
    {
     "name": "stderr",
     "output_type": "stream",
     "text": [
      "\n",
      "\n",
      "Loading checkpoint shards: 100%|██████████| 3/3 [00:00<00:00, 60.56it/s]\n"
     ]
    },
    {
     "name": "stdout",
     "output_type": "stream",
     "text": [
      "📥 Loading model: google/paligemma2-3b-pt-224\n"
     ]
    },
    {
     "name": "stderr",
     "output_type": "stream",
     "text": [
      "\n",
      "\n",
      "Loading checkpoint shards:   0%|          | 0/2 [00:00<?, ?it/s]\u001b[A\u001b[A\n",
      "\n",
      "Loading checkpoint shards:  50%|█████     | 1/2 [00:00<00:00,  1.22it/s]\u001b[A\u001b[A\n",
      "\n",
      "Loading checkpoint shards: 100%|██████████| 2/2 [00:01<00:00,  2.00it/s]\u001b[A\u001b[A\n",
      "\n",
      "Layer 24 texts:  31%|███       | 31/100 [06:08<13:45, 11.97s/it]\u001b[A"
     ]
    },
    {
     "name": "stdout",
     "output_type": "stream",
     "text": [
      "⚠️  No logits available for google/paligemma2-3b-pt-224, using zero loss\n",
      "📥 Loading model: google/gemma-2-2b\n"
     ]
    },
    {
     "name": "stderr",
     "output_type": "stream",
     "text": [
      "\n",
      "\n",
      "Loading checkpoint shards: 100%|██████████| 3/3 [00:00<00:00, 59.51it/s]\n"
     ]
    },
    {
     "name": "stdout",
     "output_type": "stream",
     "text": [
      "📥 Loading model: google/paligemma2-3b-pt-224\n"
     ]
    },
    {
     "name": "stderr",
     "output_type": "stream",
     "text": [
      "\n",
      "\n",
      "Loading checkpoint shards:   0%|          | 0/2 [00:00<?, ?it/s]\u001b[A\u001b[A\n",
      "\n",
      "Loading checkpoint shards:  50%|█████     | 1/2 [00:00<00:00,  1.27it/s]\u001b[A\u001b[A\n",
      "\n",
      "Loading checkpoint shards: 100%|██████████| 2/2 [00:00<00:00,  2.08it/s]\u001b[A\u001b[A\n",
      "\n",
      "Layer 24 texts:  32%|███▏      | 32/100 [06:20<13:29, 11.91s/it]\u001b[A"
     ]
    },
    {
     "name": "stdout",
     "output_type": "stream",
     "text": [
      "⚠️  No logits available for google/paligemma2-3b-pt-224, using zero loss\n",
      "📥 Loading model: google/gemma-2-2b\n"
     ]
    },
    {
     "name": "stderr",
     "output_type": "stream",
     "text": [
      "\n",
      "\n",
      "Loading checkpoint shards: 100%|██████████| 3/3 [00:00<00:00, 60.03it/s]\n"
     ]
    },
    {
     "name": "stdout",
     "output_type": "stream",
     "text": [
      "📥 Loading model: google/paligemma2-3b-pt-224\n"
     ]
    },
    {
     "name": "stderr",
     "output_type": "stream",
     "text": [
      "\n",
      "\n",
      "Loading checkpoint shards:   0%|          | 0/2 [00:00<?, ?it/s]\u001b[A\u001b[A\n",
      "\n",
      "Loading checkpoint shards:  50%|█████     | 1/2 [00:00<00:00,  1.25it/s]\u001b[A\u001b[A\n",
      "\n",
      "Loading checkpoint shards: 100%|██████████| 2/2 [00:00<00:00,  2.04it/s]\u001b[A\u001b[A\n",
      "\n",
      "Layer 24 texts:  33%|███▎      | 33/100 [06:32<13:18, 11.92s/it]\u001b[A"
     ]
    },
    {
     "name": "stdout",
     "output_type": "stream",
     "text": [
      "⚠️  No logits available for google/paligemma2-3b-pt-224, using zero loss\n",
      "📥 Loading model: google/gemma-2-2b\n"
     ]
    },
    {
     "name": "stderr",
     "output_type": "stream",
     "text": [
      "\n",
      "\n",
      "Loading checkpoint shards: 100%|██████████| 3/3 [00:00<00:00, 59.39it/s]\n"
     ]
    },
    {
     "name": "stdout",
     "output_type": "stream",
     "text": [
      "📥 Loading model: google/paligemma2-3b-pt-224\n"
     ]
    },
    {
     "name": "stderr",
     "output_type": "stream",
     "text": [
      "\n",
      "\n",
      "Loading checkpoint shards:   0%|          | 0/2 [00:00<?, ?it/s]\u001b[A\u001b[A\n",
      "\n",
      "Loading checkpoint shards:  50%|█████     | 1/2 [00:00<00:00,  1.29it/s]\u001b[A\u001b[A\n",
      "\n",
      "Loading checkpoint shards: 100%|██████████| 2/2 [00:00<00:00,  2.12it/s]\u001b[A\u001b[A\n",
      "\n",
      "Layer 24 texts:  34%|███▍      | 34/100 [06:44<13:09, 11.96s/it]\u001b[A"
     ]
    },
    {
     "name": "stdout",
     "output_type": "stream",
     "text": [
      "⚠️  No logits available for google/paligemma2-3b-pt-224, using zero loss\n",
      "📥 Loading model: google/gemma-2-2b\n"
     ]
    },
    {
     "name": "stderr",
     "output_type": "stream",
     "text": [
      "\n",
      "\n",
      "Loading checkpoint shards: 100%|██████████| 3/3 [00:00<00:00, 61.26it/s]\n"
     ]
    },
    {
     "name": "stdout",
     "output_type": "stream",
     "text": [
      "📥 Loading model: google/paligemma2-3b-pt-224\n"
     ]
    },
    {
     "name": "stderr",
     "output_type": "stream",
     "text": [
      "\n",
      "\n",
      "Loading checkpoint shards:   0%|          | 0/2 [00:00<?, ?it/s]\u001b[A\u001b[A\n",
      "\n",
      "Loading checkpoint shards:  50%|█████     | 1/2 [00:00<00:00,  1.27it/s]\u001b[A\u001b[A\n",
      "\n",
      "Loading checkpoint shards: 100%|██████████| 2/2 [00:00<00:00,  2.08it/s]\u001b[A\u001b[A\n",
      "\n",
      "Layer 24 texts:  35%|███▌      | 35/100 [06:56<12:54, 11.91s/it]\u001b[A"
     ]
    },
    {
     "name": "stdout",
     "output_type": "stream",
     "text": [
      "⚠️  No logits available for google/paligemma2-3b-pt-224, using zero loss\n",
      "📥 Loading model: google/gemma-2-2b\n"
     ]
    },
    {
     "name": "stderr",
     "output_type": "stream",
     "text": [
      "\n",
      "\n",
      "Loading checkpoint shards: 100%|██████████| 3/3 [00:00<00:00, 60.60it/s]\n"
     ]
    },
    {
     "name": "stdout",
     "output_type": "stream",
     "text": [
      "📥 Loading model: google/paligemma2-3b-pt-224\n"
     ]
    },
    {
     "name": "stderr",
     "output_type": "stream",
     "text": [
      "\n",
      "\n",
      "Loading checkpoint shards:   0%|          | 0/2 [00:00<?, ?it/s]\u001b[A\u001b[A\n",
      "\n",
      "Loading checkpoint shards:  50%|█████     | 1/2 [00:00<00:00,  1.28it/s]\u001b[A\u001b[A\n",
      "\n",
      "Loading checkpoint shards: 100%|██████████| 2/2 [00:00<00:00,  2.09it/s]\u001b[A\u001b[A\n",
      "\n",
      "Layer 24 texts:  36%|███▌      | 36/100 [07:08<12:42, 11.92s/it]\u001b[A"
     ]
    },
    {
     "name": "stdout",
     "output_type": "stream",
     "text": [
      "⚠️  No logits available for google/paligemma2-3b-pt-224, using zero loss\n",
      "📥 Loading model: google/gemma-2-2b\n"
     ]
    },
    {
     "name": "stderr",
     "output_type": "stream",
     "text": [
      "\n",
      "\n",
      "Loading checkpoint shards: 100%|██████████| 3/3 [00:00<00:00, 60.94it/s]\n"
     ]
    },
    {
     "name": "stdout",
     "output_type": "stream",
     "text": [
      "📥 Loading model: google/paligemma2-3b-pt-224\n"
     ]
    },
    {
     "name": "stderr",
     "output_type": "stream",
     "text": [
      "\n",
      "\n",
      "Loading checkpoint shards:   0%|          | 0/2 [00:00<?, ?it/s]\u001b[A\u001b[A\n",
      "\n",
      "Loading checkpoint shards:  50%|█████     | 1/2 [00:00<00:00,  1.28it/s]\u001b[A\u001b[A\n",
      "\n",
      "Loading checkpoint shards: 100%|██████████| 2/2 [00:00<00:00,  2.10it/s]\u001b[A\u001b[A\n",
      "\n",
      "Layer 24 texts:  37%|███▋      | 37/100 [07:20<12:31, 11.93s/it]\u001b[A"
     ]
    },
    {
     "name": "stdout",
     "output_type": "stream",
     "text": [
      "⚠️  No logits available for google/paligemma2-3b-pt-224, using zero loss\n",
      "📥 Loading model: google/gemma-2-2b\n"
     ]
    },
    {
     "name": "stderr",
     "output_type": "stream",
     "text": [
      "\n",
      "\n",
      "Loading checkpoint shards: 100%|██████████| 3/3 [00:00<00:00, 58.16it/s]\n"
     ]
    },
    {
     "name": "stdout",
     "output_type": "stream",
     "text": [
      "📥 Loading model: google/paligemma2-3b-pt-224\n"
     ]
    },
    {
     "name": "stderr",
     "output_type": "stream",
     "text": [
      "\n",
      "\n",
      "Loading checkpoint shards:   0%|          | 0/2 [00:00<?, ?it/s]\u001b[A\u001b[A\n",
      "\n",
      "Loading checkpoint shards:  50%|█████     | 1/2 [00:00<00:00,  1.27it/s]\u001b[A\u001b[A\n",
      "\n",
      "Loading checkpoint shards: 100%|██████████| 2/2 [00:00<00:00,  2.08it/s]\u001b[A\u001b[A\n",
      "\n",
      "Layer 24 texts:  38%|███▊      | 38/100 [07:32<12:20, 11.95s/it]\u001b[A"
     ]
    },
    {
     "name": "stdout",
     "output_type": "stream",
     "text": [
      "⚠️  No logits available for google/paligemma2-3b-pt-224, using zero loss\n",
      "📥 Loading model: google/gemma-2-2b\n"
     ]
    },
    {
     "name": "stderr",
     "output_type": "stream",
     "text": [
      "\n",
      "\n",
      "Loading checkpoint shards: 100%|██████████| 3/3 [00:00<00:00, 61.68it/s]\n"
     ]
    },
    {
     "name": "stdout",
     "output_type": "stream",
     "text": [
      "📥 Loading model: google/paligemma2-3b-pt-224\n"
     ]
    },
    {
     "name": "stderr",
     "output_type": "stream",
     "text": [
      "\n",
      "\n",
      "Loading checkpoint shards:   0%|          | 0/2 [00:00<?, ?it/s]\u001b[A\u001b[A\n",
      "\n",
      "Loading checkpoint shards:  50%|█████     | 1/2 [00:00<00:00,  1.24it/s]\u001b[A\u001b[A\n",
      "\n",
      "Loading checkpoint shards: 100%|██████████| 2/2 [00:00<00:00,  2.04it/s]\u001b[A\u001b[A\n",
      "\n",
      "Layer 24 texts:  39%|███▉      | 39/100 [07:44<12:14, 12.03s/it]\u001b[A"
     ]
    },
    {
     "name": "stdout",
     "output_type": "stream",
     "text": [
      "⚠️  No logits available for google/paligemma2-3b-pt-224, using zero loss\n",
      "📥 Loading model: google/gemma-2-2b\n"
     ]
    },
    {
     "name": "stderr",
     "output_type": "stream",
     "text": [
      "\n",
      "\n",
      "Loading checkpoint shards: 100%|██████████| 3/3 [00:00<00:00, 60.28it/s]\n"
     ]
    },
    {
     "name": "stdout",
     "output_type": "stream",
     "text": [
      "📥 Loading model: google/paligemma2-3b-pt-224\n"
     ]
    },
    {
     "name": "stderr",
     "output_type": "stream",
     "text": [
      "\n",
      "\n",
      "Loading checkpoint shards:   0%|          | 0/2 [00:00<?, ?it/s]\u001b[A\u001b[A\n",
      "\n",
      "Loading checkpoint shards:  50%|█████     | 1/2 [00:00<00:00,  1.25it/s]\u001b[A\u001b[A\n",
      "\n",
      "Loading checkpoint shards: 100%|██████████| 2/2 [00:00<00:00,  2.04it/s]\u001b[A\u001b[A\n",
      "\n",
      "Layer 24 texts:  40%|████      | 40/100 [07:56<12:01, 12.02s/it]\u001b[A"
     ]
    },
    {
     "name": "stdout",
     "output_type": "stream",
     "text": [
      "⚠️  No logits available for google/paligemma2-3b-pt-224, using zero loss\n",
      "📥 Loading model: google/gemma-2-2b\n"
     ]
    },
    {
     "name": "stderr",
     "output_type": "stream",
     "text": [
      "\n",
      "\n",
      "Loading checkpoint shards: 100%|██████████| 3/3 [00:00<00:00, 59.35it/s]\n"
     ]
    },
    {
     "name": "stdout",
     "output_type": "stream",
     "text": [
      "📥 Loading model: google/paligemma2-3b-pt-224\n"
     ]
    },
    {
     "name": "stderr",
     "output_type": "stream",
     "text": [
      "\n",
      "\n",
      "Loading checkpoint shards:   0%|          | 0/2 [00:00<?, ?it/s]\u001b[A\u001b[A\n",
      "\n",
      "Loading checkpoint shards:  50%|█████     | 1/2 [00:00<00:00,  1.26it/s]\u001b[A\u001b[A\n",
      "\n",
      "Loading checkpoint shards: 100%|██████████| 2/2 [00:00<00:00,  2.07it/s]\u001b[A\u001b[A\n",
      "\n",
      "Layer 24 texts:  41%|████      | 41/100 [08:08<11:49, 12.02s/it]\u001b[A"
     ]
    },
    {
     "name": "stdout",
     "output_type": "stream",
     "text": [
      "⚠️  No logits available for google/paligemma2-3b-pt-224, using zero loss\n",
      "📥 Loading model: google/gemma-2-2b\n"
     ]
    },
    {
     "name": "stderr",
     "output_type": "stream",
     "text": [
      "\n",
      "\n",
      "Loading checkpoint shards: 100%|██████████| 3/3 [00:00<00:00, 61.65it/s]\n"
     ]
    },
    {
     "name": "stdout",
     "output_type": "stream",
     "text": [
      "📥 Loading model: google/paligemma2-3b-pt-224\n"
     ]
    },
    {
     "name": "stderr",
     "output_type": "stream",
     "text": [
      "\n",
      "\n",
      "Loading checkpoint shards:   0%|          | 0/2 [00:00<?, ?it/s]\u001b[A\u001b[A\n",
      "\n",
      "Loading checkpoint shards:  50%|█████     | 1/2 [00:00<00:00,  1.25it/s]\u001b[A\u001b[A\n",
      "\n",
      "Loading checkpoint shards: 100%|██████████| 2/2 [00:00<00:00,  2.04it/s]\u001b[A\u001b[A\n",
      "\n",
      "Layer 24 texts:  42%|████▏     | 42/100 [08:20<11:34, 11.97s/it]\u001b[A"
     ]
    },
    {
     "name": "stdout",
     "output_type": "stream",
     "text": [
      "⚠️  No logits available for google/paligemma2-3b-pt-224, using zero loss\n",
      "📥 Loading model: google/gemma-2-2b\n"
     ]
    },
    {
     "name": "stderr",
     "output_type": "stream",
     "text": [
      "\n",
      "\n",
      "Loading checkpoint shards: 100%|██████████| 3/3 [00:00<00:00, 61.33it/s]\n"
     ]
    },
    {
     "name": "stdout",
     "output_type": "stream",
     "text": [
      "📥 Loading model: google/paligemma2-3b-pt-224\n"
     ]
    },
    {
     "name": "stderr",
     "output_type": "stream",
     "text": [
      "\n",
      "\n",
      "Loading checkpoint shards:   0%|          | 0/2 [00:00<?, ?it/s]\u001b[A\u001b[A\n",
      "\n",
      "Loading checkpoint shards:  50%|█████     | 1/2 [00:00<00:00,  1.21it/s]\u001b[A\u001b[A\n",
      "\n",
      "Loading checkpoint shards: 100%|██████████| 2/2 [00:01<00:00,  2.00it/s]\u001b[A\u001b[A\n",
      "\n",
      "Layer 24 texts:  43%|████▎     | 43/100 [08:32<11:20, 11.94s/it]\u001b[A"
     ]
    },
    {
     "name": "stdout",
     "output_type": "stream",
     "text": [
      "⚠️  No logits available for google/paligemma2-3b-pt-224, using zero loss\n",
      "📥 Loading model: google/gemma-2-2b\n"
     ]
    },
    {
     "name": "stderr",
     "output_type": "stream",
     "text": [
      "\n",
      "\n",
      "Loading checkpoint shards: 100%|██████████| 3/3 [00:00<00:00, 61.37it/s]\n"
     ]
    },
    {
     "name": "stdout",
     "output_type": "stream",
     "text": [
      "📥 Loading model: google/paligemma2-3b-pt-224\n"
     ]
    },
    {
     "name": "stderr",
     "output_type": "stream",
     "text": [
      "\n",
      "\n",
      "Loading checkpoint shards:   0%|          | 0/2 [00:00<?, ?it/s]\u001b[A\u001b[A\n",
      "\n",
      "Loading checkpoint shards:  50%|█████     | 1/2 [00:00<00:00,  1.27it/s]\u001b[A\u001b[A\n",
      "\n",
      "Loading checkpoint shards: 100%|██████████| 2/2 [00:00<00:00,  2.06it/s]\u001b[A\u001b[A\n",
      "\n",
      "Layer 24 texts:  44%|████▍     | 44/100 [08:44<11:09, 11.96s/it]\u001b[A"
     ]
    },
    {
     "name": "stdout",
     "output_type": "stream",
     "text": [
      "⚠️  No logits available for google/paligemma2-3b-pt-224, using zero loss\n",
      "📥 Loading model: google/gemma-2-2b\n"
     ]
    },
    {
     "name": "stderr",
     "output_type": "stream",
     "text": [
      "\n",
      "\n",
      "Loading checkpoint shards: 100%|██████████| 3/3 [00:00<00:00, 59.92it/s]\n"
     ]
    },
    {
     "name": "stdout",
     "output_type": "stream",
     "text": [
      "📥 Loading model: google/paligemma2-3b-pt-224\n"
     ]
    },
    {
     "name": "stderr",
     "output_type": "stream",
     "text": [
      "\n",
      "\n",
      "Loading checkpoint shards:   0%|          | 0/2 [00:00<?, ?it/s]\u001b[A\u001b[A\n",
      "\n",
      "Loading checkpoint shards:  50%|█████     | 1/2 [00:00<00:00,  1.21it/s]\u001b[A\u001b[A\n",
      "\n",
      "Loading checkpoint shards: 100%|██████████| 2/2 [00:01<00:00,  2.00it/s]\u001b[A\u001b[A\n",
      "\n",
      "Layer 24 texts:  45%|████▌     | 45/100 [08:56<10:56, 11.93s/it]\u001b[A"
     ]
    },
    {
     "name": "stdout",
     "output_type": "stream",
     "text": [
      "⚠️  No logits available for google/paligemma2-3b-pt-224, using zero loss\n",
      "📥 Loading model: google/gemma-2-2b\n"
     ]
    },
    {
     "name": "stderr",
     "output_type": "stream",
     "text": [
      "\n",
      "\n",
      "Loading checkpoint shards: 100%|██████████| 3/3 [00:00<00:00, 61.25it/s]\n"
     ]
    },
    {
     "name": "stdout",
     "output_type": "stream",
     "text": [
      "📥 Loading model: google/paligemma2-3b-pt-224\n"
     ]
    },
    {
     "name": "stderr",
     "output_type": "stream",
     "text": [
      "\n",
      "\n",
      "Loading checkpoint shards:   0%|          | 0/2 [00:00<?, ?it/s]\u001b[A\u001b[A\n",
      "\n",
      "Loading checkpoint shards:  50%|█████     | 1/2 [00:00<00:00,  1.17it/s]\u001b[A\u001b[A\n",
      "\n",
      "Loading checkpoint shards: 100%|██████████| 2/2 [00:01<00:00,  1.94it/s]\u001b[A\u001b[A\n",
      "\n",
      "Layer 24 texts:  46%|████▌     | 46/100 [09:07<10:43, 11.92s/it]\u001b[A"
     ]
    },
    {
     "name": "stdout",
     "output_type": "stream",
     "text": [
      "⚠️  No logits available for google/paligemma2-3b-pt-224, using zero loss\n",
      "📥 Loading model: google/gemma-2-2b\n"
     ]
    },
    {
     "name": "stderr",
     "output_type": "stream",
     "text": [
      "\n",
      "\n",
      "Loading checkpoint shards: 100%|██████████| 3/3 [00:00<00:00, 60.34it/s]\n"
     ]
    },
    {
     "name": "stdout",
     "output_type": "stream",
     "text": [
      "📥 Loading model: google/paligemma2-3b-pt-224\n"
     ]
    },
    {
     "name": "stderr",
     "output_type": "stream",
     "text": [
      "\n",
      "\n",
      "Loading checkpoint shards:   0%|          | 0/2 [00:00<?, ?it/s]\u001b[A\u001b[A\n",
      "\n",
      "Loading checkpoint shards:  50%|█████     | 1/2 [00:00<00:00,  1.25it/s]\u001b[A\u001b[A\n",
      "\n",
      "Loading checkpoint shards: 100%|██████████| 2/2 [00:00<00:00,  2.03it/s]\u001b[A\u001b[A\n",
      "\n",
      "Layer 24 texts:  47%|████▋     | 47/100 [09:19<10:30, 11.90s/it]\u001b[A"
     ]
    },
    {
     "name": "stdout",
     "output_type": "stream",
     "text": [
      "⚠️  No logits available for google/paligemma2-3b-pt-224, using zero loss\n",
      "📥 Loading model: google/gemma-2-2b\n"
     ]
    },
    {
     "name": "stderr",
     "output_type": "stream",
     "text": [
      "\n",
      "\n",
      "Loading checkpoint shards: 100%|██████████| 3/3 [00:00<00:00, 59.19it/s]\n"
     ]
    },
    {
     "name": "stdout",
     "output_type": "stream",
     "text": [
      "📥 Loading model: google/paligemma2-3b-pt-224\n"
     ]
    },
    {
     "name": "stderr",
     "output_type": "stream",
     "text": [
      "\n",
      "\n",
      "Loading checkpoint shards:   0%|          | 0/2 [00:00<?, ?it/s]\u001b[A\u001b[A\n",
      "\n",
      "Loading checkpoint shards:  50%|█████     | 1/2 [00:00<00:00,  1.22it/s]\u001b[A\u001b[A\n",
      "\n",
      "Loading checkpoint shards: 100%|██████████| 2/2 [00:00<00:00,  2.02it/s]\u001b[A\u001b[A\n",
      "\n",
      "Layer 24 texts:  48%|████▊     | 48/100 [09:31<10:21, 11.95s/it]\u001b[A"
     ]
    },
    {
     "name": "stdout",
     "output_type": "stream",
     "text": [
      "⚠️  No logits available for google/paligemma2-3b-pt-224, using zero loss\n",
      "📥 Loading model: google/gemma-2-2b\n"
     ]
    },
    {
     "name": "stderr",
     "output_type": "stream",
     "text": [
      "\n",
      "\n",
      "Loading checkpoint shards: 100%|██████████| 3/3 [00:00<00:00, 61.57it/s]\n"
     ]
    },
    {
     "name": "stdout",
     "output_type": "stream",
     "text": [
      "📥 Loading model: google/paligemma2-3b-pt-224\n"
     ]
    },
    {
     "name": "stderr",
     "output_type": "stream",
     "text": [
      "\n",
      "\n",
      "Loading checkpoint shards:   0%|          | 0/2 [00:00<?, ?it/s]\u001b[A\u001b[A\n",
      "\n",
      "Loading checkpoint shards:  50%|█████     | 1/2 [00:00<00:00,  1.31it/s]\u001b[A\u001b[A\n",
      "\n",
      "Loading checkpoint shards: 100%|██████████| 2/2 [00:00<00:00,  2.12it/s]\u001b[A\u001b[A\n",
      "\n",
      "Layer 24 texts:  49%|████▉     | 49/100 [09:44<10:13, 12.02s/it]\u001b[A"
     ]
    },
    {
     "name": "stdout",
     "output_type": "stream",
     "text": [
      "⚠️  No logits available for google/paligemma2-3b-pt-224, using zero loss\n",
      "📥 Loading model: google/gemma-2-2b\n"
     ]
    },
    {
     "name": "stderr",
     "output_type": "stream",
     "text": [
      "\n",
      "\n",
      "Loading checkpoint shards: 100%|██████████| 3/3 [00:00<00:00, 60.65it/s]\n"
     ]
    },
    {
     "name": "stdout",
     "output_type": "stream",
     "text": [
      "📥 Loading model: google/paligemma2-3b-pt-224\n"
     ]
    },
    {
     "name": "stderr",
     "output_type": "stream",
     "text": [
      "\n",
      "\n",
      "Loading checkpoint shards:   0%|          | 0/2 [00:00<?, ?it/s]\u001b[A\u001b[A\n",
      "\n",
      "Loading checkpoint shards:  50%|█████     | 1/2 [00:00<00:00,  1.25it/s]\u001b[A\u001b[A\n",
      "\n",
      "Loading checkpoint shards: 100%|██████████| 2/2 [00:00<00:00,  2.04it/s]\u001b[A\u001b[A\n",
      "\n",
      "Layer 24 texts:  50%|█████     | 50/100 [09:56<10:03, 12.06s/it]\u001b[A"
     ]
    },
    {
     "name": "stdout",
     "output_type": "stream",
     "text": [
      "⚠️  No logits available for google/paligemma2-3b-pt-224, using zero loss\n",
      "📥 Loading model: google/gemma-2-2b\n"
     ]
    },
    {
     "name": "stderr",
     "output_type": "stream",
     "text": [
      "\n",
      "\n",
      "Loading checkpoint shards: 100%|██████████| 3/3 [00:00<00:00, 59.01it/s]\n"
     ]
    },
    {
     "name": "stdout",
     "output_type": "stream",
     "text": [
      "📥 Loading model: google/paligemma2-3b-pt-224\n"
     ]
    },
    {
     "name": "stderr",
     "output_type": "stream",
     "text": [
      "\n",
      "\n",
      "Loading checkpoint shards:   0%|          | 0/2 [00:00<?, ?it/s]\u001b[A\u001b[A\n",
      "\n",
      "Loading checkpoint shards:  50%|█████     | 1/2 [00:00<00:00,  1.28it/s]\u001b[A\u001b[A\n",
      "\n",
      "Loading checkpoint shards: 100%|██████████| 2/2 [00:00<00:00,  2.08it/s]\u001b[A\u001b[A\n",
      "\n",
      "Layer 24 texts:  51%|█████     | 51/100 [10:08<09:49, 12.03s/it]\u001b[A"
     ]
    },
    {
     "name": "stdout",
     "output_type": "stream",
     "text": [
      "⚠️  No logits available for google/paligemma2-3b-pt-224, using zero loss\n",
      "📥 Loading model: google/gemma-2-2b\n"
     ]
    },
    {
     "name": "stderr",
     "output_type": "stream",
     "text": [
      "\n",
      "\n",
      "Loading checkpoint shards: 100%|██████████| 3/3 [00:00<00:00, 60.88it/s]\n"
     ]
    },
    {
     "name": "stdout",
     "output_type": "stream",
     "text": [
      "📥 Loading model: google/paligemma2-3b-pt-224\n"
     ]
    },
    {
     "name": "stderr",
     "output_type": "stream",
     "text": [
      "\n",
      "\n",
      "Loading checkpoint shards:   0%|          | 0/2 [00:00<?, ?it/s]\u001b[A\u001b[A\n",
      "\n",
      "Loading checkpoint shards:  50%|█████     | 1/2 [00:00<00:00,  1.24it/s]\u001b[A\u001b[A\n",
      "\n",
      "Loading checkpoint shards: 100%|██████████| 2/2 [00:00<00:00,  2.05it/s]\u001b[A\u001b[A\n",
      "\n",
      "Layer 24 texts:  52%|█████▏    | 52/100 [10:19<09:33, 11.96s/it]\u001b[A"
     ]
    },
    {
     "name": "stdout",
     "output_type": "stream",
     "text": [
      "⚠️  No logits available for google/paligemma2-3b-pt-224, using zero loss\n",
      "📥 Loading model: google/gemma-2-2b\n"
     ]
    },
    {
     "name": "stderr",
     "output_type": "stream",
     "text": [
      "\n",
      "\n",
      "Loading checkpoint shards: 100%|██████████| 3/3 [00:00<00:00, 60.62it/s]\n"
     ]
    },
    {
     "name": "stdout",
     "output_type": "stream",
     "text": [
      "📥 Loading model: google/paligemma2-3b-pt-224\n"
     ]
    },
    {
     "name": "stderr",
     "output_type": "stream",
     "text": [
      "\n",
      "\n",
      "Loading checkpoint shards:   0%|          | 0/2 [00:00<?, ?it/s]\u001b[A\u001b[A\n",
      "\n",
      "Loading checkpoint shards:  50%|█████     | 1/2 [00:00<00:00,  1.23it/s]\u001b[A\u001b[A\n",
      "\n",
      "Loading checkpoint shards: 100%|██████████| 2/2 [00:00<00:00,  2.02it/s]\u001b[A\u001b[A\n",
      "\n",
      "Layer 24 texts:  53%|█████▎    | 53/100 [10:31<09:21, 11.94s/it]\u001b[A"
     ]
    },
    {
     "name": "stdout",
     "output_type": "stream",
     "text": [
      "⚠️  No logits available for google/paligemma2-3b-pt-224, using zero loss\n",
      "📥 Loading model: google/gemma-2-2b\n"
     ]
    },
    {
     "name": "stderr",
     "output_type": "stream",
     "text": [
      "\n",
      "\n",
      "Loading checkpoint shards: 100%|██████████| 3/3 [00:00<00:00, 60.23it/s]\n"
     ]
    },
    {
     "name": "stdout",
     "output_type": "stream",
     "text": [
      "📥 Loading model: google/paligemma2-3b-pt-224\n"
     ]
    },
    {
     "name": "stderr",
     "output_type": "stream",
     "text": [
      "\n",
      "\n",
      "Loading checkpoint shards:   0%|          | 0/2 [00:00<?, ?it/s]\u001b[A\u001b[A\n",
      "\n",
      "Loading checkpoint shards:  50%|█████     | 1/2 [00:00<00:00,  1.27it/s]\u001b[A\u001b[A\n",
      "\n",
      "Loading checkpoint shards: 100%|██████████| 2/2 [00:00<00:00,  2.06it/s]\u001b[A\u001b[A\n",
      "\n",
      "Layer 24 texts:  54%|█████▍    | 54/100 [10:43<09:08, 11.93s/it]\u001b[A"
     ]
    },
    {
     "name": "stdout",
     "output_type": "stream",
     "text": [
      "⚠️  No logits available for google/paligemma2-3b-pt-224, using zero loss\n",
      "📥 Loading model: google/gemma-2-2b\n"
     ]
    },
    {
     "name": "stderr",
     "output_type": "stream",
     "text": [
      "\n",
      "\n",
      "Loading checkpoint shards: 100%|██████████| 3/3 [00:00<00:00, 59.58it/s]\n"
     ]
    },
    {
     "name": "stdout",
     "output_type": "stream",
     "text": [
      "📥 Loading model: google/paligemma2-3b-pt-224\n"
     ]
    },
    {
     "name": "stderr",
     "output_type": "stream",
     "text": [
      "\n",
      "\n",
      "Loading checkpoint shards:   0%|          | 0/2 [00:00<?, ?it/s]\u001b[A\u001b[A\n",
      "\n",
      "Loading checkpoint shards:  50%|█████     | 1/2 [00:00<00:00,  1.26it/s]\u001b[A\u001b[A\n",
      "\n",
      "Loading checkpoint shards: 100%|██████████| 2/2 [00:00<00:00,  2.06it/s]\u001b[A\u001b[A\n",
      "\n",
      "Layer 24 texts:  55%|█████▌    | 55/100 [10:55<08:53, 11.86s/it]\u001b[A"
     ]
    },
    {
     "name": "stdout",
     "output_type": "stream",
     "text": [
      "⚠️  No logits available for google/paligemma2-3b-pt-224, using zero loss\n",
      "📥 Loading model: google/gemma-2-2b\n"
     ]
    },
    {
     "name": "stderr",
     "output_type": "stream",
     "text": [
      "\n",
      "\n",
      "Loading checkpoint shards: 100%|██████████| 3/3 [00:00<00:00, 60.47it/s]\n"
     ]
    },
    {
     "name": "stdout",
     "output_type": "stream",
     "text": [
      "📥 Loading model: google/paligemma2-3b-pt-224\n"
     ]
    },
    {
     "name": "stderr",
     "output_type": "stream",
     "text": [
      "\n",
      "\n",
      "Loading checkpoint shards:   0%|          | 0/2 [00:00<?, ?it/s]\u001b[A\u001b[A\n",
      "\n",
      "Loading checkpoint shards:  50%|█████     | 1/2 [00:00<00:00,  1.27it/s]\u001b[A\u001b[A\n",
      "\n",
      "Loading checkpoint shards: 100%|██████████| 2/2 [00:00<00:00,  2.09it/s]\u001b[A\u001b[A\n",
      "\n",
      "Layer 24 texts:  56%|█████▌    | 56/100 [11:07<08:42, 11.88s/it]\u001b[A"
     ]
    },
    {
     "name": "stdout",
     "output_type": "stream",
     "text": [
      "⚠️  No logits available for google/paligemma2-3b-pt-224, using zero loss\n",
      "📥 Loading model: google/gemma-2-2b\n"
     ]
    },
    {
     "name": "stderr",
     "output_type": "stream",
     "text": [
      "\n",
      "\n",
      "Loading checkpoint shards: 100%|██████████| 3/3 [00:00<00:00, 58.40it/s]\n"
     ]
    },
    {
     "name": "stdout",
     "output_type": "stream",
     "text": [
      "📥 Loading model: google/paligemma2-3b-pt-224\n"
     ]
    },
    {
     "name": "stderr",
     "output_type": "stream",
     "text": [
      "\n",
      "\n",
      "Loading checkpoint shards:   0%|          | 0/2 [00:00<?, ?it/s]\u001b[A\u001b[A\n",
      "\n",
      "Loading checkpoint shards:  50%|█████     | 1/2 [00:00<00:00,  1.30it/s]\u001b[A\u001b[A\n",
      "\n",
      "Loading checkpoint shards: 100%|██████████| 2/2 [00:00<00:00,  2.12it/s]\u001b[A\u001b[A\n",
      "\n",
      "Layer 24 texts:  57%|█████▋    | 57/100 [11:19<08:31, 11.90s/it]\u001b[A"
     ]
    },
    {
     "name": "stdout",
     "output_type": "stream",
     "text": [
      "⚠️  No logits available for google/paligemma2-3b-pt-224, using zero loss\n",
      "📥 Loading model: google/gemma-2-2b\n"
     ]
    },
    {
     "name": "stderr",
     "output_type": "stream",
     "text": [
      "\n",
      "\n",
      "Loading checkpoint shards: 100%|██████████| 3/3 [00:00<00:00, 59.07it/s]\n"
     ]
    },
    {
     "name": "stdout",
     "output_type": "stream",
     "text": [
      "📥 Loading model: google/paligemma2-3b-pt-224\n"
     ]
    },
    {
     "name": "stderr",
     "output_type": "stream",
     "text": [
      "\n",
      "\n",
      "Loading checkpoint shards:   0%|          | 0/2 [00:00<?, ?it/s]\u001b[A\u001b[A\n",
      "\n",
      "Loading checkpoint shards:  50%|█████     | 1/2 [00:00<00:00,  1.19it/s]\u001b[A\u001b[A\n",
      "\n",
      "Loading checkpoint shards: 100%|██████████| 2/2 [00:01<00:00,  1.96it/s]\u001b[A\u001b[A\n",
      "\n",
      "Layer 24 texts:  58%|█████▊    | 58/100 [11:31<08:17, 11.84s/it]\u001b[A"
     ]
    },
    {
     "name": "stdout",
     "output_type": "stream",
     "text": [
      "⚠️  No logits available for google/paligemma2-3b-pt-224, using zero loss\n",
      "📥 Loading model: google/gemma-2-2b\n"
     ]
    },
    {
     "name": "stderr",
     "output_type": "stream",
     "text": [
      "\n",
      "\n",
      "Loading checkpoint shards: 100%|██████████| 3/3 [00:00<00:00, 60.30it/s]\n"
     ]
    },
    {
     "name": "stdout",
     "output_type": "stream",
     "text": [
      "📥 Loading model: google/paligemma2-3b-pt-224\n"
     ]
    },
    {
     "name": "stderr",
     "output_type": "stream",
     "text": [
      "\n",
      "\n",
      "Loading checkpoint shards:   0%|          | 0/2 [00:00<?, ?it/s]\u001b[A\u001b[A\n",
      "\n",
      "Loading checkpoint shards:  50%|█████     | 1/2 [00:00<00:00,  1.29it/s]\u001b[A\u001b[A\n",
      "\n",
      "Loading checkpoint shards: 100%|██████████| 2/2 [00:00<00:00,  2.11it/s]\u001b[A\u001b[A\n",
      "\n",
      "Layer 24 texts:  59%|█████▉    | 59/100 [11:42<08:05, 11.85s/it]\u001b[A"
     ]
    },
    {
     "name": "stdout",
     "output_type": "stream",
     "text": [
      "⚠️  No logits available for google/paligemma2-3b-pt-224, using zero loss\n",
      "📥 Loading model: google/gemma-2-2b\n"
     ]
    },
    {
     "name": "stderr",
     "output_type": "stream",
     "text": [
      "\n",
      "\n",
      "Loading checkpoint shards: 100%|██████████| 3/3 [00:00<00:00, 61.15it/s]\n"
     ]
    },
    {
     "name": "stdout",
     "output_type": "stream",
     "text": [
      "📥 Loading model: google/paligemma2-3b-pt-224\n"
     ]
    },
    {
     "name": "stderr",
     "output_type": "stream",
     "text": [
      "\n",
      "\n",
      "Loading checkpoint shards:   0%|          | 0/2 [00:00<?, ?it/s]\u001b[A\u001b[A\n",
      "\n",
      "Loading checkpoint shards:  50%|█████     | 1/2 [00:00<00:00,  1.29it/s]\u001b[A\u001b[A\n",
      "\n",
      "Loading checkpoint shards: 100%|██████████| 2/2 [00:00<00:00,  2.09it/s]\u001b[A\u001b[A\n",
      "\n",
      "Layer 24 texts:  60%|██████    | 60/100 [11:54<07:55, 11.89s/it]\u001b[A"
     ]
    },
    {
     "name": "stdout",
     "output_type": "stream",
     "text": [
      "⚠️  No logits available for google/paligemma2-3b-pt-224, using zero loss\n",
      "📥 Loading model: google/gemma-2-2b\n"
     ]
    },
    {
     "name": "stderr",
     "output_type": "stream",
     "text": [
      "\n",
      "\n",
      "Loading checkpoint shards: 100%|██████████| 3/3 [00:00<00:00, 62.17it/s]\n"
     ]
    },
    {
     "name": "stdout",
     "output_type": "stream",
     "text": [
      "📥 Loading model: google/paligemma2-3b-pt-224\n"
     ]
    },
    {
     "name": "stderr",
     "output_type": "stream",
     "text": [
      "\n",
      "\n",
      "Loading checkpoint shards:   0%|          | 0/2 [00:00<?, ?it/s]\u001b[A\u001b[A\n",
      "\n",
      "Loading checkpoint shards:  50%|█████     | 1/2 [00:00<00:00,  1.26it/s]\u001b[A\u001b[A\n",
      "\n",
      "Loading checkpoint shards: 100%|██████████| 2/2 [00:00<00:00,  2.08it/s]\u001b[A\u001b[A\n",
      "\n",
      "Layer 24 texts:  61%|██████    | 61/100 [12:06<07:42, 11.87s/it]\u001b[A"
     ]
    },
    {
     "name": "stdout",
     "output_type": "stream",
     "text": [
      "⚠️  No logits available for google/paligemma2-3b-pt-224, using zero loss\n",
      "📥 Loading model: google/gemma-2-2b\n"
     ]
    },
    {
     "name": "stderr",
     "output_type": "stream",
     "text": [
      "\n",
      "\n",
      "Loading checkpoint shards: 100%|██████████| 3/3 [00:00<00:00, 59.83it/s]\n"
     ]
    },
    {
     "name": "stdout",
     "output_type": "stream",
     "text": [
      "📥 Loading model: google/paligemma2-3b-pt-224\n"
     ]
    },
    {
     "name": "stderr",
     "output_type": "stream",
     "text": [
      "\n",
      "\n",
      "Loading checkpoint shards:   0%|          | 0/2 [00:00<?, ?it/s]\u001b[A\u001b[A\n",
      "\n",
      "Loading checkpoint shards:  50%|█████     | 1/2 [00:00<00:00,  1.29it/s]\u001b[A\u001b[A\n",
      "\n",
      "Loading checkpoint shards: 100%|██████████| 2/2 [00:00<00:00,  2.10it/s]\u001b[A\u001b[A\n",
      "\n",
      "Layer 24 texts:  62%|██████▏   | 62/100 [12:18<07:31, 11.89s/it]\u001b[A"
     ]
    },
    {
     "name": "stdout",
     "output_type": "stream",
     "text": [
      "⚠️  No logits available for google/paligemma2-3b-pt-224, using zero loss\n",
      "📥 Loading model: google/gemma-2-2b\n"
     ]
    },
    {
     "name": "stderr",
     "output_type": "stream",
     "text": [
      "\n",
      "\n",
      "Loading checkpoint shards: 100%|██████████| 3/3 [00:00<00:00, 58.05it/s]\n"
     ]
    },
    {
     "name": "stdout",
     "output_type": "stream",
     "text": [
      "📥 Loading model: google/paligemma2-3b-pt-224\n"
     ]
    },
    {
     "name": "stderr",
     "output_type": "stream",
     "text": [
      "\n",
      "\n",
      "Loading checkpoint shards:   0%|          | 0/2 [00:00<?, ?it/s]\u001b[A\u001b[A\n",
      "\n",
      "Loading checkpoint shards:  50%|█████     | 1/2 [00:00<00:00,  1.31it/s]\u001b[A\u001b[A\n",
      "\n",
      "Loading checkpoint shards: 100%|██████████| 2/2 [00:00<00:00,  2.13it/s]\u001b[A\u001b[A\n",
      "\n",
      "Layer 24 texts:  63%|██████▎   | 63/100 [12:30<07:18, 11.86s/it]\u001b[A"
     ]
    },
    {
     "name": "stdout",
     "output_type": "stream",
     "text": [
      "⚠️  No logits available for google/paligemma2-3b-pt-224, using zero loss\n",
      "📥 Loading model: google/gemma-2-2b\n"
     ]
    },
    {
     "name": "stderr",
     "output_type": "stream",
     "text": [
      "\n",
      "\n",
      "Loading checkpoint shards: 100%|██████████| 3/3 [00:00<00:00, 61.82it/s]\n"
     ]
    },
    {
     "name": "stdout",
     "output_type": "stream",
     "text": [
      "📥 Loading model: google/paligemma2-3b-pt-224\n"
     ]
    },
    {
     "name": "stderr",
     "output_type": "stream",
     "text": [
      "\n",
      "\n",
      "Loading checkpoint shards:   0%|          | 0/2 [00:00<?, ?it/s]\u001b[A\u001b[A\n",
      "\n",
      "Loading checkpoint shards:  50%|█████     | 1/2 [00:00<00:00,  1.25it/s]\u001b[A\u001b[A\n",
      "\n",
      "Loading checkpoint shards: 100%|██████████| 2/2 [00:00<00:00,  2.03it/s]\u001b[A\u001b[A\n",
      "\n",
      "Layer 24 texts:  64%|██████▍   | 64/100 [12:42<07:06, 11.84s/it]\u001b[A"
     ]
    },
    {
     "name": "stdout",
     "output_type": "stream",
     "text": [
      "⚠️  No logits available for google/paligemma2-3b-pt-224, using zero loss\n",
      "📥 Loading model: google/gemma-2-2b\n"
     ]
    },
    {
     "name": "stderr",
     "output_type": "stream",
     "text": [
      "\n",
      "\n",
      "Loading checkpoint shards: 100%|██████████| 3/3 [00:00<00:00, 60.00it/s]\n"
     ]
    },
    {
     "name": "stdout",
     "output_type": "stream",
     "text": [
      "📥 Loading model: google/paligemma2-3b-pt-224\n"
     ]
    },
    {
     "name": "stderr",
     "output_type": "stream",
     "text": [
      "\n",
      "\n",
      "Loading checkpoint shards:   0%|          | 0/2 [00:00<?, ?it/s]\u001b[A\u001b[A\n",
      "\n",
      "Loading checkpoint shards:  50%|█████     | 1/2 [00:00<00:00,  1.27it/s]\u001b[A\u001b[A\n",
      "\n",
      "Loading checkpoint shards: 100%|██████████| 2/2 [00:00<00:00,  2.08it/s]\u001b[A\u001b[A\n",
      "\n",
      "Layer 24 texts:  65%|██████▌   | 65/100 [12:54<06:56, 11.89s/it]\u001b[A"
     ]
    },
    {
     "name": "stdout",
     "output_type": "stream",
     "text": [
      "⚠️  No logits available for google/paligemma2-3b-pt-224, using zero loss\n",
      "📥 Loading model: google/gemma-2-2b\n"
     ]
    },
    {
     "name": "stderr",
     "output_type": "stream",
     "text": [
      "\n",
      "\n",
      "Loading checkpoint shards: 100%|██████████| 3/3 [00:00<00:00, 62.08it/s]\n"
     ]
    },
    {
     "name": "stdout",
     "output_type": "stream",
     "text": [
      "📥 Loading model: google/paligemma2-3b-pt-224\n"
     ]
    },
    {
     "name": "stderr",
     "output_type": "stream",
     "text": [
      "\n",
      "\n",
      "Loading checkpoint shards:   0%|          | 0/2 [00:00<?, ?it/s]\u001b[A\u001b[A\n",
      "\n",
      "Loading checkpoint shards:  50%|█████     | 1/2 [00:00<00:00,  1.30it/s]\u001b[A\u001b[A\n",
      "\n",
      "Loading checkpoint shards: 100%|██████████| 2/2 [00:00<00:00,  2.11it/s]\u001b[A\u001b[A\n",
      "\n",
      "Layer 24 texts:  66%|██████▌   | 66/100 [13:06<06:47, 11.99s/it]\u001b[A"
     ]
    },
    {
     "name": "stdout",
     "output_type": "stream",
     "text": [
      "⚠️  No logits available for google/paligemma2-3b-pt-224, using zero loss\n",
      "📥 Loading model: google/gemma-2-2b\n"
     ]
    },
    {
     "name": "stderr",
     "output_type": "stream",
     "text": [
      "\n",
      "\n",
      "Loading checkpoint shards: 100%|██████████| 3/3 [00:00<00:00, 61.00it/s]\n"
     ]
    },
    {
     "name": "stdout",
     "output_type": "stream",
     "text": [
      "📥 Loading model: google/paligemma2-3b-pt-224\n"
     ]
    },
    {
     "name": "stderr",
     "output_type": "stream",
     "text": [
      "\n",
      "\n",
      "Loading checkpoint shards:   0%|          | 0/2 [00:00<?, ?it/s]\u001b[A\u001b[A\n",
      "\n",
      "Loading checkpoint shards:  50%|█████     | 1/2 [00:00<00:00,  1.28it/s]\u001b[A\u001b[A\n",
      "\n",
      "Loading checkpoint shards: 100%|██████████| 2/2 [00:00<00:00,  2.09it/s]\u001b[A\u001b[A\n",
      "\n",
      "Layer 24 texts:  67%|██████▋   | 67/100 [13:18<06:35, 11.99s/it]\u001b[A"
     ]
    },
    {
     "name": "stdout",
     "output_type": "stream",
     "text": [
      "⚠️  No logits available for google/paligemma2-3b-pt-224, using zero loss\n",
      "📥 Loading model: google/gemma-2-2b\n"
     ]
    },
    {
     "name": "stderr",
     "output_type": "stream",
     "text": [
      "\n",
      "\n",
      "Loading checkpoint shards: 100%|██████████| 3/3 [00:00<00:00, 59.96it/s]\n"
     ]
    },
    {
     "name": "stdout",
     "output_type": "stream",
     "text": [
      "📥 Loading model: google/paligemma2-3b-pt-224\n"
     ]
    },
    {
     "name": "stderr",
     "output_type": "stream",
     "text": [
      "\n",
      "\n",
      "Loading checkpoint shards:   0%|          | 0/2 [00:00<?, ?it/s]\u001b[A\u001b[A\n",
      "\n",
      "Loading checkpoint shards:  50%|█████     | 1/2 [00:00<00:00,  1.26it/s]\u001b[A\u001b[A\n",
      "\n",
      "Loading checkpoint shards: 100%|██████████| 2/2 [00:00<00:00,  2.07it/s]\u001b[A\u001b[A\n",
      "\n",
      "Layer 24 texts:  68%|██████▊   | 68/100 [13:30<06:23, 11.99s/it]\u001b[A"
     ]
    },
    {
     "name": "stdout",
     "output_type": "stream",
     "text": [
      "⚠️  No logits available for google/paligemma2-3b-pt-224, using zero loss\n",
      "📥 Loading model: google/gemma-2-2b\n"
     ]
    },
    {
     "name": "stderr",
     "output_type": "stream",
     "text": [
      "\n",
      "\n",
      "Loading checkpoint shards: 100%|██████████| 3/3 [00:00<00:00, 61.15it/s]\n"
     ]
    },
    {
     "name": "stdout",
     "output_type": "stream",
     "text": [
      "📥 Loading model: google/paligemma2-3b-pt-224\n"
     ]
    },
    {
     "name": "stderr",
     "output_type": "stream",
     "text": [
      "\n",
      "\n",
      "Loading checkpoint shards:   0%|          | 0/2 [00:00<?, ?it/s]\u001b[A\u001b[A\n",
      "\n",
      "Loading checkpoint shards:  50%|█████     | 1/2 [00:00<00:00,  1.26it/s]\u001b[A\u001b[A\n",
      "\n",
      "Loading checkpoint shards: 100%|██████████| 2/2 [00:00<00:00,  2.07it/s]\u001b[A\u001b[A\n",
      "\n",
      "Layer 24 texts:  69%|██████▉   | 69/100 [13:42<06:09, 11.92s/it]\u001b[A"
     ]
    },
    {
     "name": "stdout",
     "output_type": "stream",
     "text": [
      "⚠️  No logits available for google/paligemma2-3b-pt-224, using zero loss\n",
      "📥 Loading model: google/gemma-2-2b\n"
     ]
    },
    {
     "name": "stderr",
     "output_type": "stream",
     "text": [
      "\n",
      "\n",
      "Loading checkpoint shards: 100%|██████████| 3/3 [00:00<00:00, 60.01it/s]\n"
     ]
    },
    {
     "name": "stdout",
     "output_type": "stream",
     "text": [
      "📥 Loading model: google/paligemma2-3b-pt-224\n"
     ]
    },
    {
     "name": "stderr",
     "output_type": "stream",
     "text": [
      "\n",
      "\n",
      "Loading checkpoint shards:   0%|          | 0/2 [00:00<?, ?it/s]\u001b[A\u001b[A\n",
      "\n",
      "Loading checkpoint shards:  50%|█████     | 1/2 [00:00<00:00,  1.23it/s]\u001b[A\u001b[A\n",
      "\n",
      "Loading checkpoint shards: 100%|██████████| 2/2 [00:00<00:00,  2.03it/s]\u001b[A\u001b[A\n",
      "\n",
      "Layer 24 texts:  70%|███████   | 70/100 [13:54<05:57, 11.92s/it]\u001b[A"
     ]
    },
    {
     "name": "stdout",
     "output_type": "stream",
     "text": [
      "⚠️  No logits available for google/paligemma2-3b-pt-224, using zero loss\n",
      "📥 Loading model: google/gemma-2-2b\n"
     ]
    },
    {
     "name": "stderr",
     "output_type": "stream",
     "text": [
      "\n",
      "\n",
      "Loading checkpoint shards: 100%|██████████| 3/3 [00:00<00:00, 61.17it/s]\n"
     ]
    },
    {
     "name": "stdout",
     "output_type": "stream",
     "text": [
      "📥 Loading model: google/paligemma2-3b-pt-224\n"
     ]
    },
    {
     "name": "stderr",
     "output_type": "stream",
     "text": [
      "\n",
      "\n",
      "Loading checkpoint shards:   0%|          | 0/2 [00:00<?, ?it/s]\u001b[A\u001b[A\n",
      "\n",
      "Loading checkpoint shards:  50%|█████     | 1/2 [00:00<00:00,  1.22it/s]\u001b[A\u001b[A\n",
      "\n",
      "Loading checkpoint shards: 100%|██████████| 2/2 [00:00<00:00,  2.01it/s]\u001b[A\u001b[A\n",
      "\n",
      "Layer 24 texts:  71%|███████   | 71/100 [14:05<05:45, 11.91s/it]\u001b[A"
     ]
    },
    {
     "name": "stdout",
     "output_type": "stream",
     "text": [
      "⚠️  No logits available for google/paligemma2-3b-pt-224, using zero loss\n",
      "📥 Loading model: google/gemma-2-2b\n"
     ]
    },
    {
     "name": "stderr",
     "output_type": "stream",
     "text": [
      "\n",
      "\n",
      "Loading checkpoint shards: 100%|██████████| 3/3 [00:00<00:00, 53.98it/s]\n"
     ]
    },
    {
     "name": "stdout",
     "output_type": "stream",
     "text": [
      "📥 Loading model: google/paligemma2-3b-pt-224\n"
     ]
    },
    {
     "name": "stderr",
     "output_type": "stream",
     "text": [
      "\n",
      "\n",
      "Loading checkpoint shards:   0%|          | 0/2 [00:00<?, ?it/s]\u001b[A\u001b[A\n",
      "\n",
      "Loading checkpoint shards:  50%|█████     | 1/2 [00:00<00:00,  1.28it/s]\u001b[A\u001b[A\n",
      "\n",
      "Loading checkpoint shards: 100%|██████████| 2/2 [00:00<00:00,  2.08it/s]\u001b[A\u001b[A\n",
      "\n",
      "Layer 24 texts:  72%|███████▏  | 72/100 [14:17<05:33, 11.90s/it]\u001b[A"
     ]
    },
    {
     "name": "stdout",
     "output_type": "stream",
     "text": [
      "⚠️  No logits available for google/paligemma2-3b-pt-224, using zero loss\n",
      "📥 Loading model: google/gemma-2-2b\n"
     ]
    },
    {
     "name": "stderr",
     "output_type": "stream",
     "text": [
      "\n",
      "\n",
      "Loading checkpoint shards: 100%|██████████| 3/3 [00:00<00:00, 58.95it/s]\n"
     ]
    },
    {
     "name": "stdout",
     "output_type": "stream",
     "text": [
      "📥 Loading model: google/paligemma2-3b-pt-224\n"
     ]
    },
    {
     "name": "stderr",
     "output_type": "stream",
     "text": [
      "\n",
      "\n",
      "Loading checkpoint shards:   0%|          | 0/2 [00:00<?, ?it/s]\u001b[A\u001b[A\n",
      "\n",
      "Loading checkpoint shards:  50%|█████     | 1/2 [00:00<00:00,  1.28it/s]\u001b[A\u001b[A\n",
      "\n",
      "Loading checkpoint shards: 100%|██████████| 2/2 [00:00<00:00,  2.09it/s]\u001b[A\u001b[A\n",
      "\n",
      "Layer 24 texts:  73%|███████▎  | 73/100 [14:29<05:23, 11.96s/it]\u001b[A"
     ]
    },
    {
     "name": "stdout",
     "output_type": "stream",
     "text": [
      "⚠️  No logits available for google/paligemma2-3b-pt-224, using zero loss\n",
      "📥 Loading model: google/gemma-2-2b\n"
     ]
    },
    {
     "name": "stderr",
     "output_type": "stream",
     "text": [
      "\n",
      "\n",
      "Loading checkpoint shards: 100%|██████████| 3/3 [00:00<00:00, 60.70it/s]\n"
     ]
    },
    {
     "name": "stdout",
     "output_type": "stream",
     "text": [
      "📥 Loading model: google/paligemma2-3b-pt-224\n"
     ]
    },
    {
     "name": "stderr",
     "output_type": "stream",
     "text": [
      "\n",
      "\n",
      "Loading checkpoint shards:   0%|          | 0/2 [00:00<?, ?it/s]\u001b[A\u001b[A\n",
      "\n",
      "Loading checkpoint shards:  50%|█████     | 1/2 [00:00<00:00,  1.25it/s]\u001b[A\u001b[A\n",
      "\n",
      "Loading checkpoint shards: 100%|██████████| 2/2 [00:00<00:00,  2.04it/s]\u001b[A\u001b[A\n",
      "\n",
      "Layer 24 texts:  74%|███████▍  | 74/100 [14:41<05:09, 11.91s/it]\u001b[A"
     ]
    },
    {
     "name": "stdout",
     "output_type": "stream",
     "text": [
      "⚠️  No logits available for google/paligemma2-3b-pt-224, using zero loss\n",
      "📥 Loading model: google/gemma-2-2b\n"
     ]
    },
    {
     "name": "stderr",
     "output_type": "stream",
     "text": [
      "\n",
      "\n",
      "Loading checkpoint shards: 100%|██████████| 3/3 [00:00<00:00, 60.00it/s]\n"
     ]
    },
    {
     "name": "stdout",
     "output_type": "stream",
     "text": [
      "📥 Loading model: google/paligemma2-3b-pt-224\n"
     ]
    },
    {
     "name": "stderr",
     "output_type": "stream",
     "text": [
      "\n",
      "\n",
      "Loading checkpoint shards:   0%|          | 0/2 [00:00<?, ?it/s]\u001b[A\u001b[A\n",
      "\n",
      "Loading checkpoint shards:  50%|█████     | 1/2 [00:00<00:00,  1.27it/s]\u001b[A\u001b[A\n",
      "\n",
      "Loading checkpoint shards: 100%|██████████| 2/2 [00:00<00:00,  2.07it/s]\u001b[A\u001b[A\n",
      "\n",
      "Layer 24 texts:  75%|███████▌  | 75/100 [14:53<04:57, 11.90s/it]\u001b[A"
     ]
    },
    {
     "name": "stdout",
     "output_type": "stream",
     "text": [
      "⚠️  No logits available for google/paligemma2-3b-pt-224, using zero loss\n",
      "📥 Loading model: google/gemma-2-2b\n"
     ]
    },
    {
     "name": "stderr",
     "output_type": "stream",
     "text": [
      "\n",
      "\n",
      "Loading checkpoint shards: 100%|██████████| 3/3 [00:00<00:00, 61.81it/s]\n"
     ]
    },
    {
     "name": "stdout",
     "output_type": "stream",
     "text": [
      "📥 Loading model: google/paligemma2-3b-pt-224\n"
     ]
    },
    {
     "name": "stderr",
     "output_type": "stream",
     "text": [
      "\n",
      "\n",
      "Loading checkpoint shards:   0%|          | 0/2 [00:00<?, ?it/s]\u001b[A\u001b[A\n",
      "\n",
      "Loading checkpoint shards:  50%|█████     | 1/2 [00:00<00:00,  1.27it/s]\u001b[A\u001b[A\n",
      "\n",
      "Loading checkpoint shards: 100%|██████████| 2/2 [00:00<00:00,  2.07it/s]\u001b[A\u001b[A\n",
      "\n",
      "Layer 24 texts:  76%|███████▌  | 76/100 [15:05<04:47, 11.98s/it]\u001b[A"
     ]
    },
    {
     "name": "stdout",
     "output_type": "stream",
     "text": [
      "⚠️  No logits available for google/paligemma2-3b-pt-224, using zero loss\n",
      "📥 Loading model: google/gemma-2-2b\n"
     ]
    },
    {
     "name": "stderr",
     "output_type": "stream",
     "text": [
      "\n",
      "\n",
      "Loading checkpoint shards: 100%|██████████| 3/3 [00:00<00:00, 59.10it/s]\n"
     ]
    },
    {
     "name": "stdout",
     "output_type": "stream",
     "text": [
      "📥 Loading model: google/paligemma2-3b-pt-224\n"
     ]
    },
    {
     "name": "stderr",
     "output_type": "stream",
     "text": [
      "\n",
      "\n",
      "Loading checkpoint shards:   0%|          | 0/2 [00:00<?, ?it/s]\u001b[A\u001b[A\n",
      "\n",
      "Loading checkpoint shards:  50%|█████     | 1/2 [00:00<00:00,  1.24it/s]\u001b[A\u001b[A\n",
      "\n",
      "Loading checkpoint shards: 100%|██████████| 2/2 [00:00<00:00,  2.04it/s]\u001b[A\u001b[A\n",
      "\n",
      "Layer 24 texts:  77%|███████▋  | 77/100 [15:17<04:34, 11.95s/it]\u001b[A"
     ]
    },
    {
     "name": "stdout",
     "output_type": "stream",
     "text": [
      "⚠️  No logits available for google/paligemma2-3b-pt-224, using zero loss\n",
      "📥 Loading model: google/gemma-2-2b\n"
     ]
    },
    {
     "name": "stderr",
     "output_type": "stream",
     "text": [
      "\n",
      "\n",
      "Loading checkpoint shards: 100%|██████████| 3/3 [00:00<00:00, 60.84it/s]\n"
     ]
    },
    {
     "name": "stdout",
     "output_type": "stream",
     "text": [
      "📥 Loading model: google/paligemma2-3b-pt-224\n"
     ]
    },
    {
     "name": "stderr",
     "output_type": "stream",
     "text": [
      "\n",
      "\n",
      "Loading checkpoint shards:   0%|          | 0/2 [00:00<?, ?it/s]\u001b[A\u001b[A\n",
      "\n",
      "Loading checkpoint shards:  50%|█████     | 1/2 [00:00<00:00,  1.28it/s]\u001b[A\u001b[A\n",
      "\n",
      "Loading checkpoint shards: 100%|██████████| 2/2 [00:00<00:00,  2.08it/s]\u001b[A\u001b[A\n",
      "\n",
      "Layer 24 texts:  78%|███████▊  | 78/100 [15:29<04:23, 11.98s/it]\u001b[A"
     ]
    },
    {
     "name": "stdout",
     "output_type": "stream",
     "text": [
      "⚠️  No logits available for google/paligemma2-3b-pt-224, using zero loss\n",
      "📥 Loading model: google/gemma-2-2b\n"
     ]
    },
    {
     "name": "stderr",
     "output_type": "stream",
     "text": [
      "\n",
      "\n",
      "Loading checkpoint shards: 100%|██████████| 3/3 [00:00<00:00, 59.72it/s]\n"
     ]
    },
    {
     "name": "stdout",
     "output_type": "stream",
     "text": [
      "📥 Loading model: google/paligemma2-3b-pt-224\n"
     ]
    },
    {
     "name": "stderr",
     "output_type": "stream",
     "text": [
      "\n",
      "\n",
      "Loading checkpoint shards:   0%|          | 0/2 [00:00<?, ?it/s]\u001b[A\u001b[A\n",
      "\n",
      "Loading checkpoint shards:  50%|█████     | 1/2 [00:00<00:00,  1.29it/s]\u001b[A\u001b[A\n",
      "\n",
      "Loading checkpoint shards: 100%|██████████| 2/2 [00:00<00:00,  2.11it/s]\u001b[A\u001b[A\n",
      "\n",
      "Layer 24 texts:  79%|███████▉  | 79/100 [15:41<04:10, 11.94s/it]\u001b[A"
     ]
    },
    {
     "name": "stdout",
     "output_type": "stream",
     "text": [
      "⚠️  No logits available for google/paligemma2-3b-pt-224, using zero loss\n",
      "📥 Loading model: google/gemma-2-2b\n"
     ]
    },
    {
     "name": "stderr",
     "output_type": "stream",
     "text": [
      "\n",
      "\n",
      "Loading checkpoint shards: 100%|██████████| 3/3 [00:00<00:00, 59.89it/s]\n"
     ]
    },
    {
     "name": "stdout",
     "output_type": "stream",
     "text": [
      "📥 Loading model: google/paligemma2-3b-pt-224\n"
     ]
    },
    {
     "name": "stderr",
     "output_type": "stream",
     "text": [
      "\n",
      "\n",
      "Loading checkpoint shards:   0%|          | 0/2 [00:00<?, ?it/s]\u001b[A\u001b[A\n",
      "\n",
      "Loading checkpoint shards:  50%|█████     | 1/2 [00:00<00:00,  1.25it/s]\u001b[A\u001b[A\n",
      "\n",
      "Loading checkpoint shards: 100%|██████████| 2/2 [00:00<00:00,  2.05it/s]\u001b[A\u001b[A\n",
      "\n",
      "Layer 24 texts:  80%|████████  | 80/100 [15:53<03:58, 11.92s/it]\u001b[A"
     ]
    },
    {
     "name": "stdout",
     "output_type": "stream",
     "text": [
      "⚠️  No logits available for google/paligemma2-3b-pt-224, using zero loss\n",
      "📥 Loading model: google/gemma-2-2b\n"
     ]
    },
    {
     "name": "stderr",
     "output_type": "stream",
     "text": [
      "\n",
      "\n",
      "Loading checkpoint shards: 100%|██████████| 3/3 [00:00<00:00, 57.99it/s]\n"
     ]
    },
    {
     "name": "stdout",
     "output_type": "stream",
     "text": [
      "📥 Loading model: google/paligemma2-3b-pt-224\n"
     ]
    },
    {
     "name": "stderr",
     "output_type": "stream",
     "text": [
      "\n",
      "\n",
      "Loading checkpoint shards:   0%|          | 0/2 [00:00<?, ?it/s]\u001b[A\u001b[A\n",
      "\n",
      "Loading checkpoint shards:  50%|█████     | 1/2 [00:00<00:00,  1.25it/s]\u001b[A\u001b[A\n",
      "\n",
      "Loading checkpoint shards: 100%|██████████| 2/2 [00:00<00:00,  2.05it/s]\u001b[A\u001b[A\n",
      "\n",
      "Layer 24 texts:  81%|████████  | 81/100 [16:05<03:46, 11.93s/it]\u001b[A"
     ]
    },
    {
     "name": "stdout",
     "output_type": "stream",
     "text": [
      "⚠️  No logits available for google/paligemma2-3b-pt-224, using zero loss\n",
      "📥 Loading model: google/gemma-2-2b\n"
     ]
    },
    {
     "name": "stderr",
     "output_type": "stream",
     "text": [
      "\n",
      "\n",
      "Loading checkpoint shards: 100%|██████████| 3/3 [00:00<00:00, 57.25it/s]\n"
     ]
    },
    {
     "name": "stdout",
     "output_type": "stream",
     "text": [
      "📥 Loading model: google/paligemma2-3b-pt-224\n"
     ]
    },
    {
     "name": "stderr",
     "output_type": "stream",
     "text": [
      "\n",
      "\n",
      "Loading checkpoint shards:   0%|          | 0/2 [00:00<?, ?it/s]\u001b[A\u001b[A\n",
      "\n",
      "Loading checkpoint shards:  50%|█████     | 1/2 [00:00<00:00,  1.25it/s]\u001b[A\u001b[A\n",
      "\n",
      "Loading checkpoint shards: 100%|██████████| 2/2 [00:00<00:00,  2.05it/s]\u001b[A\u001b[A\n",
      "\n",
      "Layer 24 texts:  82%|████████▏ | 82/100 [16:17<03:34, 11.93s/it]\u001b[A"
     ]
    },
    {
     "name": "stdout",
     "output_type": "stream",
     "text": [
      "⚠️  No logits available for google/paligemma2-3b-pt-224, using zero loss\n",
      "📥 Loading model: google/gemma-2-2b\n"
     ]
    },
    {
     "name": "stderr",
     "output_type": "stream",
     "text": [
      "\n",
      "\n",
      "Loading checkpoint shards: 100%|██████████| 3/3 [00:00<00:00, 60.49it/s]\n"
     ]
    },
    {
     "name": "stdout",
     "output_type": "stream",
     "text": [
      "📥 Loading model: google/paligemma2-3b-pt-224\n"
     ]
    },
    {
     "name": "stderr",
     "output_type": "stream",
     "text": [
      "\n",
      "\n",
      "Loading checkpoint shards:   0%|          | 0/2 [00:00<?, ?it/s]\u001b[A\u001b[A\n",
      "\n",
      "Loading checkpoint shards:  50%|█████     | 1/2 [00:00<00:00,  1.22it/s]\u001b[A\u001b[A\n",
      "\n",
      "Loading checkpoint shards: 100%|██████████| 2/2 [00:01<00:00,  2.00it/s]\u001b[A\u001b[A\n",
      "\n",
      "Layer 24 texts:  83%|████████▎ | 83/100 [16:29<03:23, 11.98s/it]\u001b[A"
     ]
    },
    {
     "name": "stdout",
     "output_type": "stream",
     "text": [
      "⚠️  No logits available for google/paligemma2-3b-pt-224, using zero loss\n",
      "📥 Loading model: google/gemma-2-2b\n"
     ]
    },
    {
     "name": "stderr",
     "output_type": "stream",
     "text": [
      "\n",
      "\n",
      "Loading checkpoint shards: 100%|██████████| 3/3 [00:00<00:00, 57.43it/s]\n"
     ]
    },
    {
     "name": "stdout",
     "output_type": "stream",
     "text": [
      "📥 Loading model: google/paligemma2-3b-pt-224\n"
     ]
    },
    {
     "name": "stderr",
     "output_type": "stream",
     "text": [
      "\n",
      "\n",
      "Loading checkpoint shards:   0%|          | 0/2 [00:00<?, ?it/s]\u001b[A\u001b[A\n",
      "\n",
      "Loading checkpoint shards:  50%|█████     | 1/2 [00:00<00:00,  1.25it/s]\u001b[A\u001b[A\n",
      "\n",
      "Loading checkpoint shards: 100%|██████████| 2/2 [00:00<00:00,  2.03it/s]\u001b[A\u001b[A\n",
      "\n",
      "Layer 24 texts:  84%|████████▍ | 84/100 [16:41<03:12, 12.03s/it]\u001b[A"
     ]
    },
    {
     "name": "stdout",
     "output_type": "stream",
     "text": [
      "⚠️  No logits available for google/paligemma2-3b-pt-224, using zero loss\n",
      "📥 Loading model: google/gemma-2-2b\n"
     ]
    },
    {
     "name": "stderr",
     "output_type": "stream",
     "text": [
      "\n",
      "\n",
      "Loading checkpoint shards: 100%|██████████| 3/3 [00:00<00:00, 58.51it/s]\n"
     ]
    },
    {
     "name": "stdout",
     "output_type": "stream",
     "text": [
      "📥 Loading model: google/paligemma2-3b-pt-224\n"
     ]
    },
    {
     "name": "stderr",
     "output_type": "stream",
     "text": [
      "\n",
      "\n",
      "Loading checkpoint shards:   0%|          | 0/2 [00:00<?, ?it/s]\u001b[A\u001b[A\n",
      "\n",
      "Loading checkpoint shards:  50%|█████     | 1/2 [00:00<00:00,  1.23it/s]\u001b[A\u001b[A\n",
      "\n",
      "Loading checkpoint shards: 100%|██████████| 2/2 [00:00<00:00,  2.01it/s]\u001b[A\u001b[A\n",
      "\n",
      "Layer 24 texts:  85%|████████▌ | 85/100 [16:53<02:59, 12.00s/it]\u001b[A"
     ]
    },
    {
     "name": "stdout",
     "output_type": "stream",
     "text": [
      "⚠️  No logits available for google/paligemma2-3b-pt-224, using zero loss\n",
      "📥 Loading model: google/gemma-2-2b\n"
     ]
    },
    {
     "name": "stderr",
     "output_type": "stream",
     "text": [
      "\n",
      "\n",
      "Loading checkpoint shards: 100%|██████████| 3/3 [00:00<00:00, 60.49it/s]\n"
     ]
    },
    {
     "name": "stdout",
     "output_type": "stream",
     "text": [
      "📥 Loading model: google/paligemma2-3b-pt-224\n"
     ]
    },
    {
     "name": "stderr",
     "output_type": "stream",
     "text": [
      "\n",
      "\n",
      "Loading checkpoint shards:   0%|          | 0/2 [00:00<?, ?it/s]\u001b[A\u001b[A\n",
      "\n",
      "Loading checkpoint shards:  50%|█████     | 1/2 [00:00<00:00,  1.26it/s]\u001b[A\u001b[A\n",
      "\n",
      "Loading checkpoint shards: 100%|██████████| 2/2 [00:00<00:00,  2.04it/s]\u001b[A\u001b[A\n",
      "\n",
      "Layer 24 texts:  86%|████████▌ | 86/100 [17:05<02:47, 11.98s/it]\u001b[A"
     ]
    },
    {
     "name": "stdout",
     "output_type": "stream",
     "text": [
      "⚠️  No logits available for google/paligemma2-3b-pt-224, using zero loss\n",
      "📥 Loading model: google/gemma-2-2b\n"
     ]
    },
    {
     "name": "stderr",
     "output_type": "stream",
     "text": [
      "\n",
      "\n",
      "Loading checkpoint shards: 100%|██████████| 3/3 [00:00<00:00, 58.27it/s]\n"
     ]
    },
    {
     "name": "stdout",
     "output_type": "stream",
     "text": [
      "📥 Loading model: google/paligemma2-3b-pt-224\n"
     ]
    },
    {
     "name": "stderr",
     "output_type": "stream",
     "text": [
      "\n",
      "\n",
      "Loading checkpoint shards:   0%|          | 0/2 [00:00<?, ?it/s]\u001b[A\u001b[A\n",
      "\n",
      "Loading checkpoint shards:  50%|█████     | 1/2 [00:00<00:00,  1.25it/s]\u001b[A\u001b[A\n",
      "\n",
      "Loading checkpoint shards: 100%|██████████| 2/2 [00:00<00:00,  2.04it/s]\u001b[A\u001b[A\n",
      "\n",
      "Layer 24 texts:  87%|████████▋ | 87/100 [17:17<02:35, 11.94s/it]\u001b[A"
     ]
    },
    {
     "name": "stdout",
     "output_type": "stream",
     "text": [
      "⚠️  No logits available for google/paligemma2-3b-pt-224, using zero loss\n",
      "📥 Loading model: google/gemma-2-2b\n"
     ]
    },
    {
     "name": "stderr",
     "output_type": "stream",
     "text": [
      "\n",
      "\n",
      "Loading checkpoint shards: 100%|██████████| 3/3 [00:00<00:00, 59.32it/s]\n"
     ]
    },
    {
     "name": "stdout",
     "output_type": "stream",
     "text": [
      "📥 Loading model: google/paligemma2-3b-pt-224\n"
     ]
    },
    {
     "name": "stderr",
     "output_type": "stream",
     "text": [
      "\n",
      "\n",
      "Loading checkpoint shards:   0%|          | 0/2 [00:00<?, ?it/s]\u001b[A\u001b[A\n",
      "\n",
      "Loading checkpoint shards:  50%|█████     | 1/2 [00:00<00:00,  1.28it/s]\u001b[A\u001b[A\n",
      "\n",
      "Loading checkpoint shards: 100%|██████████| 2/2 [00:00<00:00,  2.09it/s]\u001b[A\u001b[A\n",
      "\n",
      "Layer 24 texts:  88%|████████▊ | 88/100 [17:29<02:23, 11.98s/it]\u001b[A"
     ]
    },
    {
     "name": "stdout",
     "output_type": "stream",
     "text": [
      "⚠️  No logits available for google/paligemma2-3b-pt-224, using zero loss\n",
      "📥 Loading model: google/gemma-2-2b\n"
     ]
    },
    {
     "name": "stderr",
     "output_type": "stream",
     "text": [
      "\n",
      "\n",
      "Loading checkpoint shards: 100%|██████████| 3/3 [00:00<00:00, 58.95it/s]\n"
     ]
    },
    {
     "name": "stdout",
     "output_type": "stream",
     "text": [
      "📥 Loading model: google/paligemma2-3b-pt-224\n"
     ]
    },
    {
     "name": "stderr",
     "output_type": "stream",
     "text": [
      "\n",
      "\n",
      "Loading checkpoint shards:   0%|          | 0/2 [00:00<?, ?it/s]\u001b[A\u001b[A\n",
      "\n",
      "Loading checkpoint shards:  50%|█████     | 1/2 [00:00<00:00,  1.21it/s]\u001b[A\u001b[A\n",
      "\n",
      "Loading checkpoint shards: 100%|██████████| 2/2 [00:01<00:00,  1.99it/s]\u001b[A\u001b[A\n",
      "\n",
      "Layer 24 texts:  89%|████████▉ | 89/100 [17:41<02:12, 12.00s/it]\u001b[A"
     ]
    },
    {
     "name": "stdout",
     "output_type": "stream",
     "text": [
      "⚠️  No logits available for google/paligemma2-3b-pt-224, using zero loss\n",
      "📥 Loading model: google/gemma-2-2b\n"
     ]
    },
    {
     "name": "stderr",
     "output_type": "stream",
     "text": [
      "\n",
      "\n",
      "Loading checkpoint shards: 100%|██████████| 3/3 [00:00<00:00, 59.64it/s]\n"
     ]
    },
    {
     "name": "stdout",
     "output_type": "stream",
     "text": [
      "📥 Loading model: google/paligemma2-3b-pt-224\n"
     ]
    },
    {
     "name": "stderr",
     "output_type": "stream",
     "text": [
      "\n",
      "\n",
      "Loading checkpoint shards:   0%|          | 0/2 [00:00<?, ?it/s]\u001b[A\u001b[A\n",
      "\n",
      "Loading checkpoint shards:  50%|█████     | 1/2 [00:00<00:00,  1.25it/s]\u001b[A\u001b[A\n",
      "\n",
      "Loading checkpoint shards: 100%|██████████| 2/2 [00:00<00:00,  2.03it/s]\u001b[A\u001b[A\n",
      "\n",
      "Layer 24 texts:  90%|█████████ | 90/100 [17:53<02:00, 12.00s/it]\u001b[A"
     ]
    },
    {
     "name": "stdout",
     "output_type": "stream",
     "text": [
      "⚠️  No logits available for google/paligemma2-3b-pt-224, using zero loss\n",
      "📥 Loading model: google/gemma-2-2b\n"
     ]
    },
    {
     "name": "stderr",
     "output_type": "stream",
     "text": [
      "\n",
      "\n",
      "Loading checkpoint shards: 100%|██████████| 3/3 [00:00<00:00, 59.23it/s]\n"
     ]
    },
    {
     "name": "stdout",
     "output_type": "stream",
     "text": [
      "📥 Loading model: google/paligemma2-3b-pt-224\n"
     ]
    },
    {
     "name": "stderr",
     "output_type": "stream",
     "text": [
      "\n",
      "\n",
      "Loading checkpoint shards:   0%|          | 0/2 [00:00<?, ?it/s]\u001b[A\u001b[A\n",
      "\n",
      "Loading checkpoint shards:  50%|█████     | 1/2 [00:00<00:00,  1.20it/s]\u001b[A\u001b[A\n",
      "\n",
      "Loading checkpoint shards: 100%|██████████| 2/2 [00:01<00:00,  1.98it/s]\u001b[A\u001b[A\n",
      "\n",
      "Layer 24 texts:  91%|█████████ | 91/100 [18:05<01:48, 12.01s/it]\u001b[A"
     ]
    },
    {
     "name": "stdout",
     "output_type": "stream",
     "text": [
      "⚠️  No logits available for google/paligemma2-3b-pt-224, using zero loss\n",
      "📥 Loading model: google/gemma-2-2b\n"
     ]
    },
    {
     "name": "stderr",
     "output_type": "stream",
     "text": [
      "\n",
      "\n",
      "Loading checkpoint shards: 100%|██████████| 3/3 [00:00<00:00, 61.46it/s]\n"
     ]
    },
    {
     "name": "stdout",
     "output_type": "stream",
     "text": [
      "📥 Loading model: google/paligemma2-3b-pt-224\n"
     ]
    },
    {
     "name": "stderr",
     "output_type": "stream",
     "text": [
      "\n",
      "\n",
      "Loading checkpoint shards:   0%|          | 0/2 [00:00<?, ?it/s]\u001b[A\u001b[A\n",
      "\n",
      "Loading checkpoint shards:  50%|█████     | 1/2 [00:00<00:00,  1.20it/s]\u001b[A\u001b[A\n",
      "\n",
      "Loading checkpoint shards: 100%|██████████| 2/2 [00:01<00:00,  1.97it/s]\u001b[A\u001b[A\n",
      "\n",
      "Layer 24 texts:  92%|█████████▏| 92/100 [18:17<01:35, 11.96s/it]\u001b[A"
     ]
    },
    {
     "name": "stdout",
     "output_type": "stream",
     "text": [
      "⚠️  No logits available for google/paligemma2-3b-pt-224, using zero loss\n",
      "📥 Loading model: google/gemma-2-2b\n"
     ]
    },
    {
     "name": "stderr",
     "output_type": "stream",
     "text": [
      "\n",
      "\n",
      "Loading checkpoint shards: 100%|██████████| 3/3 [00:00<00:00, 60.16it/s]\n"
     ]
    },
    {
     "name": "stdout",
     "output_type": "stream",
     "text": [
      "📥 Loading model: google/paligemma2-3b-pt-224\n"
     ]
    },
    {
     "name": "stderr",
     "output_type": "stream",
     "text": [
      "\n",
      "\n",
      "Loading checkpoint shards:   0%|          | 0/2 [00:00<?, ?it/s]\u001b[A\u001b[A\n",
      "\n",
      "Loading checkpoint shards:  50%|█████     | 1/2 [00:00<00:00,  1.30it/s]\u001b[A\u001b[A\n",
      "\n",
      "Loading checkpoint shards: 100%|██████████| 2/2 [00:00<00:00,  2.13it/s]\u001b[A\u001b[A\n",
      "\n",
      "Layer 24 texts:  93%|█████████▎| 93/100 [18:29<01:23, 11.91s/it]\u001b[A"
     ]
    },
    {
     "name": "stdout",
     "output_type": "stream",
     "text": [
      "⚠️  No logits available for google/paligemma2-3b-pt-224, using zero loss\n",
      "📥 Loading model: google/gemma-2-2b\n"
     ]
    },
    {
     "name": "stderr",
     "output_type": "stream",
     "text": [
      "\n",
      "\n",
      "Loading checkpoint shards: 100%|██████████| 3/3 [00:00<00:00, 60.04it/s]\n"
     ]
    },
    {
     "name": "stdout",
     "output_type": "stream",
     "text": [
      "📥 Loading model: google/paligemma2-3b-pt-224\n"
     ]
    },
    {
     "name": "stderr",
     "output_type": "stream",
     "text": [
      "\n",
      "\n",
      "Loading checkpoint shards:   0%|          | 0/2 [00:00<?, ?it/s]\u001b[A\u001b[A\n",
      "\n",
      "Loading checkpoint shards:  50%|█████     | 1/2 [00:00<00:00,  1.24it/s]\u001b[A\u001b[A\n",
      "\n",
      "Loading checkpoint shards: 100%|██████████| 2/2 [00:00<00:00,  2.04it/s]\u001b[A\u001b[A\n",
      "\n",
      "Layer 24 texts:  94%|█████████▍| 94/100 [18:41<01:12, 12.00s/it]\u001b[A"
     ]
    },
    {
     "name": "stdout",
     "output_type": "stream",
     "text": [
      "⚠️  No logits available for google/paligemma2-3b-pt-224, using zero loss\n",
      "📥 Loading model: google/gemma-2-2b\n"
     ]
    },
    {
     "name": "stderr",
     "output_type": "stream",
     "text": [
      "\n",
      "\n",
      "Loading checkpoint shards: 100%|██████████| 3/3 [00:00<00:00, 59.37it/s]\n"
     ]
    },
    {
     "name": "stdout",
     "output_type": "stream",
     "text": [
      "📥 Loading model: google/paligemma2-3b-pt-224\n"
     ]
    },
    {
     "name": "stderr",
     "output_type": "stream",
     "text": [
      "\n",
      "\n",
      "Loading checkpoint shards:   0%|          | 0/2 [00:00<?, ?it/s]\u001b[A\u001b[A\n",
      "\n",
      "Loading checkpoint shards:  50%|█████     | 1/2 [00:00<00:00,  1.22it/s]\u001b[A\u001b[A\n",
      "\n",
      "Loading checkpoint shards: 100%|██████████| 2/2 [00:00<00:00,  2.01it/s]\u001b[A\u001b[A\n",
      "\n",
      "Layer 24 texts:  95%|█████████▌| 95/100 [18:53<01:00, 12.02s/it]\u001b[A"
     ]
    },
    {
     "name": "stdout",
     "output_type": "stream",
     "text": [
      "⚠️  No logits available for google/paligemma2-3b-pt-224, using zero loss\n",
      "📥 Loading model: google/gemma-2-2b\n"
     ]
    },
    {
     "name": "stderr",
     "output_type": "stream",
     "text": [
      "\n",
      "\n",
      "Loading checkpoint shards: 100%|██████████| 3/3 [00:00<00:00, 58.93it/s]\n"
     ]
    },
    {
     "name": "stdout",
     "output_type": "stream",
     "text": [
      "📥 Loading model: google/paligemma2-3b-pt-224\n"
     ]
    },
    {
     "name": "stderr",
     "output_type": "stream",
     "text": [
      "\n",
      "\n",
      "Loading checkpoint shards:   0%|          | 0/2 [00:00<?, ?it/s]\u001b[A\u001b[A\n",
      "\n",
      "Loading checkpoint shards:  50%|█████     | 1/2 [00:00<00:00,  1.25it/s]\u001b[A\u001b[A\n",
      "\n",
      "Loading checkpoint shards: 100%|██████████| 2/2 [00:00<00:00,  2.04it/s]\u001b[A\u001b[A\n",
      "\n",
      "Layer 24 texts:  96%|█████████▌| 96/100 [19:05<00:48, 12.01s/it]\u001b[A"
     ]
    },
    {
     "name": "stdout",
     "output_type": "stream",
     "text": [
      "⚠️  No logits available for google/paligemma2-3b-pt-224, using zero loss\n",
      "📥 Loading model: google/gemma-2-2b\n"
     ]
    },
    {
     "name": "stderr",
     "output_type": "stream",
     "text": [
      "\n",
      "\n",
      "Loading checkpoint shards: 100%|██████████| 3/3 [00:00<00:00, 60.76it/s]\n"
     ]
    },
    {
     "name": "stdout",
     "output_type": "stream",
     "text": [
      "📥 Loading model: google/paligemma2-3b-pt-224\n"
     ]
    },
    {
     "name": "stderr",
     "output_type": "stream",
     "text": [
      "\n",
      "\n",
      "Loading checkpoint shards:   0%|          | 0/2 [00:00<?, ?it/s]\u001b[A\u001b[A\n",
      "\n",
      "Loading checkpoint shards:  50%|█████     | 1/2 [00:00<00:00,  1.24it/s]\u001b[A\u001b[A\n",
      "\n",
      "Loading checkpoint shards: 100%|██████████| 2/2 [00:00<00:00,  2.04it/s]\u001b[A\u001b[A\n",
      "\n",
      "Layer 24 texts:  97%|█████████▋| 97/100 [19:17<00:35, 11.95s/it]\u001b[A"
     ]
    },
    {
     "name": "stdout",
     "output_type": "stream",
     "text": [
      "⚠️  No logits available for google/paligemma2-3b-pt-224, using zero loss\n",
      "📥 Loading model: google/gemma-2-2b\n"
     ]
    },
    {
     "name": "stderr",
     "output_type": "stream",
     "text": [
      "\n",
      "\n",
      "Loading checkpoint shards: 100%|██████████| 3/3 [00:00<00:00, 59.97it/s]\n"
     ]
    },
    {
     "name": "stdout",
     "output_type": "stream",
     "text": [
      "📥 Loading model: google/paligemma2-3b-pt-224\n"
     ]
    },
    {
     "name": "stderr",
     "output_type": "stream",
     "text": [
      "\n",
      "\n",
      "Loading checkpoint shards:   0%|          | 0/2 [00:00<?, ?it/s]\u001b[A\u001b[A\n",
      "\n",
      "Loading checkpoint shards:  50%|█████     | 1/2 [00:00<00:00,  1.22it/s]\u001b[A\u001b[A\n",
      "\n",
      "Loading checkpoint shards: 100%|██████████| 2/2 [00:01<00:00,  2.00it/s]\u001b[A\u001b[A\n",
      "\n",
      "Layer 24 texts:  98%|█████████▊| 98/100 [19:29<00:23, 11.98s/it]\u001b[A"
     ]
    },
    {
     "name": "stdout",
     "output_type": "stream",
     "text": [
      "⚠️  No logits available for google/paligemma2-3b-pt-224, using zero loss\n",
      "📥 Loading model: google/gemma-2-2b\n"
     ]
    },
    {
     "name": "stderr",
     "output_type": "stream",
     "text": [
      "\n",
      "\n",
      "Loading checkpoint shards: 100%|██████████| 3/3 [00:00<00:00, 61.35it/s]\n"
     ]
    },
    {
     "name": "stdout",
     "output_type": "stream",
     "text": [
      "📥 Loading model: google/paligemma2-3b-pt-224\n"
     ]
    },
    {
     "name": "stderr",
     "output_type": "stream",
     "text": [
      "\n",
      "\n",
      "Loading checkpoint shards:   0%|          | 0/2 [00:00<?, ?it/s]\u001b[A\u001b[A\n",
      "\n",
      "Loading checkpoint shards:  50%|█████     | 1/2 [00:00<00:00,  1.20it/s]\u001b[A\u001b[A\n",
      "\n",
      "Loading checkpoint shards: 100%|██████████| 2/2 [00:01<00:00,  1.97it/s]\u001b[A\u001b[A\n",
      "\n",
      "Layer 24 texts:  99%|█████████▉| 99/100 [19:41<00:11, 11.95s/it]\u001b[A"
     ]
    },
    {
     "name": "stdout",
     "output_type": "stream",
     "text": [
      "⚠️  No logits available for google/paligemma2-3b-pt-224, using zero loss\n",
      "📥 Loading model: google/gemma-2-2b\n"
     ]
    },
    {
     "name": "stderr",
     "output_type": "stream",
     "text": [
      "\n",
      "\n",
      "Loading checkpoint shards: 100%|██████████| 3/3 [00:00<00:00, 60.17it/s]\n"
     ]
    },
    {
     "name": "stdout",
     "output_type": "stream",
     "text": [
      "📥 Loading model: google/paligemma2-3b-pt-224\n"
     ]
    },
    {
     "name": "stderr",
     "output_type": "stream",
     "text": [
      "\n",
      "\n",
      "Loading checkpoint shards:   0%|          | 0/2 [00:00<?, ?it/s]\u001b[A\u001b[A\n",
      "\n",
      "Loading checkpoint shards:  50%|█████     | 1/2 [00:00<00:00,  1.29it/s]\u001b[A\u001b[A\n",
      "\n",
      "Loading checkpoint shards: 100%|██████████| 2/2 [00:00<00:00,  2.09it/s]\u001b[A\u001b[A\n",
      "\n",
      "Layer 24 texts: 100%|██████████| 100/100 [19:53<00:00, 11.97s/it]\u001b[A\n",
      "Processing layers: 100%|██████████| 6/6 [2:00:25<00:00, 1204.21s/it]"
     ]
    },
    {
     "name": "stdout",
     "output_type": "stream",
     "text": [
      "⚠️  No logits available for google/paligemma2-3b-pt-224, using zero loss\n",
      "   Memory after layer 24: 12.83GB\n",
      "\n",
      "📊 LAYER SWEEP RESULTS:\n",
      "==================================================\n",
      "Most Similar Layer: 4\n",
      "Most Different Layer: 24\n",
      "Highest Feature Overlap Layer: 8\n",
      "Average Similarity Across Layers: 0.638\n",
      "Average Feature Overlap: 0.028\n",
      "\n",
      "🔍 INTERPRETATIONS:\n",
      "==================================================\n",
      "Adaptation Magnitude: 🔍 SIGNIFICANT LLM→VLM adaptation - substantial representational reorganization\n",
      "Adaptation Location: 🎯 Layer 24 shows maximum adaptation\n",
      "Feature Preservation: 🔗 Layer 8 best preserves LLM features\n",
      "Adaptation Pattern: 📈 Early layers preserve LLM representations better than late layers\n",
      "Sae Quality: ❌ SAE reconstructions significantly impact model functionality\n",
      "\n",
      "📈 Generating Visualizations...\n"
     ]
    },
    {
     "name": "stderr",
     "output_type": "stream",
     "text": [
      "\n"
     ]
    },
    {
     "name": "stdout",
     "output_type": "stream",
     "text": [
      "✅ Layer sweep visualization saved to ../figs_tabs/google_gemma_2_2b_google_paligemma2_3b_pt_224_layer_sweep.png\n",
      "✅ Detailed results saved to ../figs_tabs/google_gemma_2_2b_google_paligemma2_3b_pt_224_results.json\n",
      "❌ Error during analysis: 'MemoryEfficientSAEAnalyzer' object has no attribute '_analyze_top_features_trends'\n",
      "\n",
      "💡 Troubleshooting Tips:\n",
      "   1. Ensure sufficient GPU memory (8GB+ recommended)\n",
      "   2. Reduce LAYERS list or sample size if out of memory\n",
      "   3. Check model names are correct and accessible\n",
      "   4. Install required packages: pip install sae-lens transformers datasets\n"
     ]
    },
    {
     "name": "stderr",
     "output_type": "stream",
     "text": [
      "Traceback (most recent call last):\n",
      "  File \"/tmp/ipykernel_476945/2513033672.py\", line 1165, in main\n",
      "    analyzer.visualize_layer_sweep_results(results, model1_name, model2_name)\n",
      "  File \"/tmp/ipykernel_476945/2513033672.py\", line 1047, in visualize_layer_sweep_results\n",
      "    self._analyze_top_features_trends()\n",
      "    ^^^^^^^^^^^^^^^^^^^^^^^^^^^^^^^^^\n",
      "AttributeError: 'MemoryEfficientSAEAnalyzer' object has no attribute '_analyze_top_features_trends'\n"
     ]
    },
    {
     "data": {
      "text/plain": [
       "'\\npip install sae-lens transformers torch matplotlib seaborn numpy datasets tqdm\\n\\n# For CUDA support (recommended):\\npip install torch torchvision torchaudio --index-url https://download.pytorch.org/whl/cu118\\n'"
      ]
     },
     "execution_count": 1,
     "metadata": {},
     "output_type": "execute_result"
    }
   ],
   "source": [
    "\"\"\"\n",
    "Comprehensive SAE-based representation shift analysis with layer sweeping,\n",
    "real datasets, and patching logic for LLM->VLM adaptation studies.\n",
    "FIXED: Handles PaliGemma loss computation correctly.\n",
    "\"\"\"\n",
    "\n",
    "import torch\n",
    "import numpy as np\n",
    "import os\n",
    "import gc\n",
    "from pathlib import Path\n",
    "from transformers import AutoTokenizer, AutoModelForCausalLM\n",
    "from sae_lens import SAE\n",
    "import matplotlib.pyplot as plt\n",
    "from typing import Dict, Tuple, List, Optional, Union\n",
    "from dataclasses import dataclass\n",
    "import seaborn as sns\n",
    "from datasets import load_dataset\n",
    "import json\n",
    "from tqdm import tqdm\n",
    "import warnings\n",
    "warnings.filterwarnings(\"ignore\")\n",
    "\n",
    "# Disable gradients globally for memory efficiency\n",
    "torch.set_grad_enabled(False)\n",
    "\n",
    "@dataclass\n",
    "class SAEMetrics:\n",
    "    \"\"\"Container for SAE evaluation metrics.\"\"\"\n",
    "    reconstruction_loss: float\n",
    "    l0_sparsity: float\n",
    "    l1_sparsity: float\n",
    "    fraction_alive: float\n",
    "    mean_max_activation: float\n",
    "    reconstruction_score: float\n",
    "    model_delta_loss: float \n",
    "    rec_loss_topk: float\n",
    "\n",
    "@dataclass\n",
    "class RepresentationShift:\n",
    "    \"\"\"Container for representation shift metrics.\"\"\"\n",
    "    cosine_similarity: float\n",
    "    l2_distance: float\n",
    "    feature_overlap: float\n",
    "    js_divergence: float\n",
    "    feature_correlation: float\n",
    "\n",
    "class DatasetLoader:\n",
    "    \"\"\"Handles loading and preprocessing of various datasets.\"\"\"\n",
    "    \n",
    "    def __init__(self, device: str = \"cuda\"):\n",
    "        self.device = device\n",
    "    \n",
    "    def load_cifar100_captions(self, split: str = \"train\", max_samples: int = 100) -> List[str]:\n",
    "        \"\"\"Load CIFAR-100 with generated captions for multimodal analysis.\"\"\"\n",
    "        try:\n",
    "            # CIFAR-100 doesn't have captions by default, so we create descriptive ones\n",
    "            dataset = load_dataset(\"cifar100\", split=split)\n",
    "            \n",
    "            # CIFAR-100 class names\n",
    "            class_names = [\n",
    "                'apple', 'aquarium_fish', 'baby', 'bear', 'beaver', 'bed', 'bee', 'beetle',\n",
    "                'bicycle', 'bottle', 'bowl', 'boy', 'bridge', 'bus', 'butterfly', 'camel',\n",
    "                'can', 'castle', 'caterpillar', 'cattle', 'chair', 'chimpanzee', 'clock',\n",
    "                'cloud', 'cockroach', 'couch', 'crab', 'crocodile', 'cup', 'dinosaur',\n",
    "                'dolphin', 'elephant', 'flatfish', 'forest', 'fox', 'girl', 'hamster',\n",
    "                'house', 'kangaroo', 'keyboard', 'lamp', 'lawn_mower', 'leopard', 'lion',\n",
    "                'lizard', 'lobster', 'man', 'maple_tree', 'motorcycle', 'mountain', 'mouse',\n",
    "                'mushroom', 'oak_tree', 'orange', 'orchid', 'otter', 'palm_tree', 'pear',\n",
    "                'pickup_truck', 'pine_tree', 'plain', 'plate', 'poppy', 'porcupine',\n",
    "                'possum', 'rabbit', 'raccoon', 'ray', 'road', 'rocket', 'rose',\n",
    "                'sea', 'seal', 'shark', 'shrew', 'skunk', 'skyscraper', 'snail', 'snake',\n",
    "                'spider', 'squirrel', 'streetcar', 'sunflower', 'sweet_pepper', 'table',\n",
    "                'tank', 'telephone', 'television', 'tiger', 'tractor', 'train', 'trout',\n",
    "                'tulip', 'turtle', 'wardrobe', 'whale', 'willow_tree', 'wolf', 'woman', 'worm'\n",
    "            ]\n",
    "            \n",
    "            texts = []\n",
    "            for i, sample in enumerate(dataset):\n",
    "                if i >= max_samples:\n",
    "                    break\n",
    "                class_name = class_names[sample['fine_label']]\n",
    "                # Generate descriptive captions\n",
    "                captions = [\n",
    "                    f\"This is a photo of a {class_name}.\",\n",
    "                    f\"An image showing a {class_name}.\",\n",
    "                    f\"A picture of a {class_name} in natural setting.\",\n",
    "                    f\"Visual representation of a {class_name}.\"\n",
    "                ]\n",
    "                texts.extend(captions[:2])  # Take 2 captions per image\n",
    "            \n",
    "            print(f\"✅ Loaded {len(texts)} CIFAR-100 captions\")\n",
    "            return texts[:max_samples]\n",
    "            \n",
    "        except Exception as e:\n",
    "            print(f\"❌ Error loading CIFAR-100: {e}\")\n",
    "            return self._get_fallback_texts()\n",
    "    \n",
    "    def load_coco_captions(self, split: str = \"validation\", max_samples: int = 100) -> List[str]:\n",
    "        \"\"\"Load COCO captions dataset.\"\"\"\n",
    "        try:\n",
    "            # Load COCO captions\n",
    "            dataset = load_dataset(\"HuggingFaceM4/COCO\", split=split)\n",
    "            \n",
    "            texts = []\n",
    "            for i, sample in enumerate(dataset):\n",
    "                if i >= max_samples:\n",
    "                    break\n",
    "                \n",
    "                # COCO has multiple captions per image\n",
    "                if 'sentences' in sample and 'raw' in sample['sentences']:\n",
    "                    for sentence in sample['sentences']['raw'][:2]:  # Take first 2 captions\n",
    "                        texts.append(sentence)\n",
    "                elif 'caption' in sample:\n",
    "                    texts.append(sample['caption'])\n",
    "            \n",
    "            print(f\"✅ Loaded {len(texts)} COCO captions\")\n",
    "            return texts[:max_samples]\n",
    "            \n",
    "        except Exception as e:\n",
    "            print(f\"❌ Error loading COCO: {e}\")\n",
    "            # Try alternative COCO dataset\n",
    "            try:\n",
    "                dataset = load_dataset(\"nielsr/coco-captions\", split=\"validation\")\n",
    "                texts = [sample['caption'] for sample in dataset.select(range(min(max_samples, len(dataset))))]\n",
    "                print(f\"✅ Loaded {len(texts)} COCO captions (alternative)\")\n",
    "                return texts\n",
    "            except:\n",
    "                return self._get_fallback_texts()\n",
    "    \n",
    "    def load_llava_bench(self, max_samples: int = 100) -> List[str]:\n",
    "        \"\"\"Load LLaVA-Bench questions/descriptions.\"\"\"\n",
    "        try:\n",
    "            # LLaVA bench conversations\n",
    "            dataset = load_dataset(\"lmms-lab/LLaVA-OneVision-Data\", split=\"dev_mini\")\n",
    "            \n",
    "            texts = []\n",
    "            for i, sample in enumerate(dataset):\n",
    "                if i >= max_samples:\n",
    "                    break\n",
    "                \n",
    "                if 'conversations' in sample:\n",
    "                    for conv in sample['conversations'][:2]:  # Take first 2 conversations\n",
    "                        if 'value' in conv:\n",
    "                            texts.append(conv['value'])\n",
    "            \n",
    "            print(f\"✅ Loaded {len(texts)} LLaVA-Bench texts\")\n",
    "            return texts[:max_samples]\n",
    "            \n",
    "        except Exception as e:\n",
    "            print(f\"❌ Error loading LLaVA-Bench: {e}\")\n",
    "            return self._get_fallback_texts()\n",
    "    \n",
    "    def _get_fallback_texts(self) -> List[str]:\n",
    "        \"\"\"Fallback texts if datasets fail to load.\"\"\"\n",
    "        return [\n",
    "            \"A photo of a red apple on a white background.\",\n",
    "            \"The cat is sitting on a wooden chair.\",\n",
    "            \"Mountains covered with snow in winter landscape.\",\n",
    "            \"A blue car driving on a highway.\",\n",
    "            \"Children playing in a park with green grass.\",\n",
    "            \"A delicious chocolate cake on a plate.\",\n",
    "            \"Ocean waves crashing against rocky shore.\",\n",
    "            \"A person reading a book in a library.\",\n",
    "            \"Colorful flowers blooming in spring garden.\",\n",
    "            \"A dog running happily in the field.\",\n",
    "        ]\n",
    "    \n",
    "    def get_mixed_dataset(self, total_samples: int = 150) -> List[str]:\n",
    "        \"\"\"Get a mixed dataset from multiple sources.\"\"\"\n",
    "        samples_per_source = total_samples // 3\n",
    "        \n",
    "        texts = []\n",
    "        texts.extend(self.load_cifar100_captions(max_samples=samples_per_source))\n",
    "        texts.extend(self.load_coco_captions(max_samples=samples_per_source))\n",
    "        texts.extend(self.load_llava_bench(max_samples=samples_per_source))\n",
    "        \n",
    "        # Shuffle for good measure\n",
    "        import random\n",
    "        random.shuffle(texts)\n",
    "        \n",
    "        return texts[:total_samples]\n",
    "\n",
    "class MemoryEfficientSAEAnalyzer:\n",
    "    \"\"\"Memory-efficient SAE analyzer with layer sweeping and patching logic.\"\"\"\n",
    "    \n",
    "    def __init__(self, \n",
    "                 model_size: str = \"2b\",\n",
    "                 width: str = \"16k\", \n",
    "                 suffix: str = \"canonical\",\n",
    "                 device: str = \"cuda\",\n",
    "                 output_dir: str = \"../figs_tabs\"):\n",
    "        \"\"\"\n",
    "        Initialize memory-efficient SAE analyzer.\n",
    "        \n",
    "        Args:\n",
    "            model_size: Model size (\"2b\" or \"9b\")\n",
    "            width: SAE width (\"16k\", \"65k\", \"262k\")\n",
    "            suffix: SAE variant (\"canonical\" or specific L0)\n",
    "            device: Device to use\n",
    "            output_dir: Directory for saving outputs\n",
    "        \"\"\"\n",
    "        self.device = device if torch.cuda.is_available() else \"cpu\"\n",
    "        self.model_size = model_size\n",
    "        self.width = width\n",
    "        self.suffix = suffix\n",
    "        self.output_dir = Path(output_dir)\n",
    "        self.output_dir.mkdir(parents=True, exist_ok=True)\n",
    "        \n",
    "        # Model cache for memory efficiency\n",
    "        self.model_cache = {}\n",
    "        self.sae_cache = {}\n",
    "        \n",
    "        print(f\"🔧 Initialized SAE Analyzer\")\n",
    "        print(f\"   Device: {self.device}\")\n",
    "        print(f\"   Model Size: {model_size}\")\n",
    "        print(f\"   SAE Width: {width}\")\n",
    "        print(f\"   Output Dir: {output_dir}\")\n",
    "\n",
    "    def get_gemmascope_sae(self, layer: int) -> SAE:\n",
    "        \"\"\"Load Gemma Scope SAE with caching for memory efficiency.\"\"\"\n",
    "        cache_key = f\"layer_{layer}\"\n",
    "        \n",
    "        if cache_key in self.sae_cache:\n",
    "            return self.sae_cache[cache_key]\n",
    "        \n",
    "        release = f\"gemma-scope-{self.model_size}-pt-res\"\n",
    "        if self.suffix == \"canonical\":\n",
    "            release = f\"gemma-scope-{self.model_size}-pt-res-canonical\"\n",
    "            sae_id = f\"layer_{layer}/width_{self.width}/canonical\"\n",
    "        else:\n",
    "            sae_id = f\"layer_{layer}/width_{self.width}/{self.suffix}\"\n",
    "        \n",
    "        print(f\"   📥 Loading SAE Layer {layer}: {sae_id}\")\n",
    "        \n",
    "        try:\n",
    "            sae = SAE.from_pretrained(release, sae_id).to(self.device)\n",
    "            sae.eval()\n",
    "            \n",
    "            # Cache management - keep only last 2 SAEs to save memory\n",
    "            if len(self.sae_cache) >= 2:\n",
    "                oldest_key = list(self.sae_cache.keys())[0]\n",
    "                del self.sae_cache[oldest_key]\n",
    "                gc.collect()\n",
    "            \n",
    "            self.sae_cache[cache_key] = sae\n",
    "            return sae\n",
    "            \n",
    "        except Exception as e:\n",
    "            print(f\"❌ Error loading SAE layer {layer}: {e}\")\n",
    "            raise\n",
    "\n",
    "    def get_model(self, model_name: str):\n",
    "        \"\"\"Load model with caching and proper device placement.\"\"\"\n",
    "        if model_name in self.model_cache:\n",
    "            return self.model_cache[model_name]\n",
    "        \n",
    "        print(f\"📥 Loading model: {model_name}\")\n",
    "        \n",
    "        try:\n",
    "            tokenizer = AutoTokenizer.from_pretrained(model_name, trust_remote_code=True)\n",
    "            if tokenizer.pad_token is None:\n",
    "                tokenizer.pad_token = tokenizer.eos_token\n",
    "            \n",
    "            # Handle different model types\n",
    "            if \"paligemma\" in model_name.lower():\n",
    "                from transformers import PaliGemmaForConditionalGeneration\n",
    "                model = PaliGemmaForConditionalGeneration.from_pretrained(\n",
    "                    model_name, \n",
    "                    trust_remote_code=True,\n",
    "                    torch_dtype=torch.float32,  # Use fp16 for memory efficiency\n",
    "                    device_map=None  # We'll handle device placement manually\n",
    "                )\n",
    "                model = model.to(self.device)\n",
    "                language_model = model.language_model\n",
    "            else:\n",
    "                model = AutoModelForCausalLM.from_pretrained(\n",
    "                    model_name, \n",
    "                    trust_remote_code=True,\n",
    "                    torch_dtype=torch.float32,\n",
    "                    device_map=None\n",
    "                )\n",
    "                model = model.to(self.device)\n",
    "                language_model = model\n",
    "            \n",
    "            language_model.eval()\n",
    "            \n",
    "            # Cache management - keep only one model at a time\n",
    "            if len(self.model_cache) >= 1:\n",
    "                for cached_name in list(self.model_cache.keys()):\n",
    "                    del self.model_cache[cached_name]\n",
    "                gc.collect()\n",
    "                torch.cuda.empty_cache() if torch.cuda.is_available() else None\n",
    "            \n",
    "            self.model_cache[model_name] = (tokenizer, model, language_model)\n",
    "            return tokenizer, model, language_model\n",
    "            \n",
    "        except Exception as e:\n",
    "            print(f\"❌ Error loading model {model_name}: {e}\")\n",
    "            raise\n",
    "\n",
    "    def extract_activations_with_patching(self, \n",
    "                                        model_name: str, \n",
    "                                        text: str, \n",
    "                                        layer: int,\n",
    "                                        sae: Optional[SAE] = None) -> Tuple[torch.Tensor, float]:\n",
    "        \"\"\"\n",
    "        Extract activations and compute model delta loss with patching.\n",
    "        FIXED: Addresses CUDA device-side assert errors with proper tokenization and loss computation.\n",
    "\n",
    "        Returns:\n",
    "            Tuple of (activations, model_delta_loss)\n",
    "        \"\"\"\n",
    "        tokenizer, model, language_model = self.get_model(model_name)\n",
    "\n",
    "        # FIXED: More robust tokenization with proper padding token handling\n",
    "        # Ensure we have a pad token\n",
    "        if tokenizer.pad_token is None:\n",
    "            tokenizer.pad_token = tokenizer.eos_token\n",
    "            tokenizer.pad_token_id = tokenizer.eos_token_id\n",
    "\n",
    "        # Tokenize with safer parameters\n",
    "        inputs = tokenizer(\n",
    "            text, \n",
    "            return_tensors=\"pt\", \n",
    "            padding=\"max_length\",\n",
    "            truncation=True,\n",
    "            max_length=64,\n",
    "            add_special_tokens=True  # Ensure special tokens are added properly\n",
    "        )\n",
    "\n",
    "        # FIXED: Validate token IDs are within vocabulary range\n",
    "        vocab_size = tokenizer.vocab_size\n",
    "        input_ids = inputs['input_ids']\n",
    "\n",
    "        # Check for out-of-bounds token IDs\n",
    "        if torch.any(input_ids >= vocab_size) or torch.any(input_ids < 0):\n",
    "            print(f\"⚠️  Invalid token IDs detected. Max ID: {input_ids.max()}, Vocab size: {vocab_size}\")\n",
    "            # Clamp invalid IDs to valid range\n",
    "            input_ids = torch.clamp(input_ids, 0, vocab_size - 1)\n",
    "            inputs['input_ids'] = input_ids\n",
    "\n",
    "        inputs = {k: v.to(self.device) for k, v in inputs.items()}\n",
    "\n",
    "        # FIXED: More robust label creation\n",
    "        def create_labels(input_ids, pad_token_id):\n",
    "            \"\"\"Create labels with proper masking for loss computation\"\"\"\n",
    "            labels = input_ids.clone()\n",
    "            # Mask padding tokens\n",
    "            labels[labels == pad_token_id] = -100\n",
    "            # FIXED: Also mask the first token (often BOS) to avoid issues\n",
    "            if labels.size(1) > 1:\n",
    "                labels[:, 0] = -100\n",
    "            return labels\n",
    "\n",
    "        # Get unpatched model loss (baseline)\n",
    "        unpatched_loss = 0.0\n",
    "        with torch.no_grad():\n",
    "            try:\n",
    "                if \"paligemma\" in model_name.lower():\n",
    "                    # For PaliGemma, we need to handle text-only input differently\n",
    "                    labels = create_labels(inputs['input_ids'], tokenizer.pad_token_id)\n",
    "\n",
    "                    # Get outputs from language model\n",
    "                    unpatched_outputs = language_model(**inputs)\n",
    "\n",
    "                    # Check if we have logits to compute loss\n",
    "                    if hasattr(unpatched_outputs, 'logits'):\n",
    "                        logits = unpatched_outputs.logits\n",
    "\n",
    "                        # FIXED: More robust loss computation with better shape handling\n",
    "                        if logits.size(1) > 1 and labels.size(1) > 1:\n",
    "                            shift_logits = logits[..., :-1, :].contiguous()\n",
    "                            shift_labels = labels[..., 1:].contiguous()\n",
    "\n",
    "                            # Ensure we have valid data for loss computation\n",
    "                            valid_mask = shift_labels != -100\n",
    "                            if valid_mask.any():\n",
    "                                shift_logits = shift_logits.view(-1, shift_logits.size(-1))\n",
    "                                shift_labels = shift_labels.view(-1)\n",
    "\n",
    "                                # FIXED: Use reduction='mean' and handle empty tensors\n",
    "                                loss_fct = torch.nn.CrossEntropyLoss(ignore_index=-100, reduction='mean')\n",
    "                                unpatched_loss = loss_fct(shift_logits, shift_labels).item()\n",
    "                            else:\n",
    "                                print(\"⚠️  No valid tokens for loss computation\")\n",
    "                                unpatched_loss = 0.0\n",
    "                        else:\n",
    "                            print(\"⚠️  Insufficient sequence length for loss computation\")\n",
    "                            unpatched_loss = 0.0\n",
    "                    else:\n",
    "                        # Fallback for models without logits\n",
    "                        unpatched_loss = 0.0\n",
    "                        print(f\"⚠️  No logits available for {model_name}, using zero loss\")\n",
    "\n",
    "                else:\n",
    "                    # For regular language models\n",
    "                    labels = create_labels(inputs['input_ids'], tokenizer.pad_token_id)\n",
    "                    unpatched_outputs = language_model(**inputs, labels=labels)\n",
    "\n",
    "                    if hasattr(unpatched_outputs, 'loss') and unpatched_outputs.loss is not None:\n",
    "                        unpatched_loss = unpatched_outputs.loss.item()\n",
    "                    else:\n",
    "                        # FIXED: Same robust loss computation as above\n",
    "                        if hasattr(unpatched_outputs, 'logits'):\n",
    "                            logits = unpatched_outputs.logits\n",
    "\n",
    "                            if logits.size(1) > 1 and labels.size(1) > 1:\n",
    "                                shift_logits = logits[..., :-1, :].contiguous()\n",
    "                                shift_labels = labels[..., 1:].contiguous()\n",
    "\n",
    "                                valid_mask = shift_labels != -100\n",
    "                                if valid_mask.any():\n",
    "                                    shift_logits = shift_logits.view(-1, shift_logits.size(-1))\n",
    "                                    shift_labels = shift_labels.view(-1)\n",
    "\n",
    "                                    loss_fct = torch.nn.CrossEntropyLoss(ignore_index=-100, reduction='mean')\n",
    "                                    unpatched_loss = loss_fct(shift_logits, shift_labels).item()\n",
    "                                else:\n",
    "                                    unpatched_loss = 0.0\n",
    "                            else:\n",
    "                                unpatched_loss = 0.0\n",
    "                        else:\n",
    "                            unpatched_loss = 0.0\n",
    "\n",
    "            except Exception as e:\n",
    "                print(f\"⚠️  Error computing unpatched loss: {e}\")\n",
    "                unpatched_loss = 0.0\n",
    "\n",
    "        # Extract activations from target layer\n",
    "        activations = None\n",
    "        patched_loss = unpatched_loss  # Default if no patching\n",
    "\n",
    "        def activation_hook(module, input, output):\n",
    "            nonlocal activations\n",
    "            try:\n",
    "                if isinstance(output, tuple):\n",
    "                    activations = output[0].clone().detach()\n",
    "                else:\n",
    "                    activations = output.clone().detach()\n",
    "            except Exception as e:\n",
    "                print(f\"⚠️  Error in activation hook: {e}\")\n",
    "\n",
    "        # FIXED: More robust layer identification\n",
    "        target_layer = None\n",
    "        try:\n",
    "            if hasattr(language_model, 'model') and hasattr(language_model.model, 'layers'):\n",
    "                if layer < len(language_model.model.layers):\n",
    "                    target_layer = language_model.model.layers[layer]\n",
    "                else:\n",
    "                    print(f\"❌ Layer {layer} out of range. Model has {len(language_model.model.layers)} layers\")\n",
    "                    return torch.randn(1, 64, 2304).to(self.device), 0.0\n",
    "            elif hasattr(language_model, 'layers'):\n",
    "                if layer < len(language_model.layers):\n",
    "                    target_layer = language_model.layers[layer]\n",
    "                else:\n",
    "                    print(f\"❌ Layer {layer} out of range. Model has {len(language_model.layers)} layers\")\n",
    "                    return torch.randn(1, 64, 2304).to(self.device), 0.0\n",
    "            else:\n",
    "                print(f\"❌ Could not find layers in model structure\")\n",
    "                return torch.randn(1, 64, 2304).to(self.device), 0.0\n",
    "        except Exception as e:\n",
    "            print(f\"❌ Error accessing layer {layer}: {e}\")\n",
    "            return torch.randn(1, 64, 2304).to(self.device), 0.0\n",
    "\n",
    "        if target_layer is None:\n",
    "            print(f\"❌ Could not find layer {layer}\")\n",
    "            return torch.randn(1, 64, 2304).to(self.device), 0.0\n",
    "\n",
    "        hook = target_layer.register_forward_hook(activation_hook)\n",
    "\n",
    "        # Forward pass to get activations\n",
    "        with torch.no_grad():\n",
    "            try:\n",
    "                if \"paligemma\" in model_name.lower():\n",
    "                    _ = language_model(**inputs)\n",
    "                else:\n",
    "                    _ = language_model(**inputs)\n",
    "            except Exception as e:\n",
    "                print(f\"⚠️  Error in activation extraction: {e}\")\n",
    "\n",
    "        hook.remove()\n",
    "\n",
    "        # Compute patched loss if SAE is provided\n",
    "        if sae is not None and activations is not None:\n",
    "            patched_loss = self._compute_patched_loss(\n",
    "                language_model, inputs, activations, sae, layer, model_name, tokenizer\n",
    "            )\n",
    "\n",
    "        model_delta_loss = patched_loss - unpatched_loss\n",
    "\n",
    "        if activations is None:\n",
    "            print(f\"⚠️  Failed to extract activations from layer {layer}\")\n",
    "            # FIXED: Return appropriate tensor size based on model\n",
    "            try:\n",
    "                # Try to get the actual hidden size from the model config\n",
    "                if hasattr(language_model, 'config') and hasattr(language_model.config, 'hidden_size'):\n",
    "                    hidden_size = language_model.config.hidden_size\n",
    "                else:\n",
    "                    hidden_size = 2304  # fallback\n",
    "                activations = torch.randn(1, 64, hidden_size).to(self.device)\n",
    "            except:\n",
    "                activations = torch.randn(1, 64, 2304).to(self.device)\n",
    "\n",
    "        return activations, model_delta_loss\n",
    "\n",
    "    def _compute_patched_loss(self, \n",
    "                            language_model, \n",
    "                            inputs: Dict, \n",
    "                            original_activations: torch.Tensor, \n",
    "                            sae: SAE, \n",
    "                            layer: int,\n",
    "                            model_name: str,\n",
    "                            tokenizer) -> float:\n",
    "        \"\"\"Compute loss with SAE-patched activations. FIXED: Robust error handling and loss computation.\"\"\"\n",
    "        try:\n",
    "            # Get SAE reconstruction\n",
    "            flat_activations = original_activations.view(-1, original_activations.size(-1))\n",
    "            sae_output = sae(flat_activations)\n",
    "\n",
    "            # Handle different SAE output formats\n",
    "            if hasattr(sae_output, 'sae_out'):\n",
    "                reconstructed = sae_output.sae_out\n",
    "            elif isinstance(sae_output, tuple):\n",
    "                reconstructed = sae_output[0]\n",
    "            else:\n",
    "                reconstructed = sae_output\n",
    "\n",
    "            # Reshape back to original shape\n",
    "            reconstructed = reconstructed.view(original_activations.shape)\n",
    "\n",
    "            # Patch the reconstructed activations back into the model\n",
    "            patched_activations = reconstructed.detach()  # FIXED: Ensure no gradients\n",
    "\n",
    "            # Create a patching hook\n",
    "            def patching_hook(module, input, output):\n",
    "                try:\n",
    "                    if isinstance(output, tuple):\n",
    "                        return (patched_activations, *output[1:])\n",
    "                    else:\n",
    "                        return patched_activations\n",
    "                except Exception as e:\n",
    "                    print(f\"⚠️  Error in patching hook: {e}\")\n",
    "                    return output  # Return original if patching fails\n",
    "\n",
    "            # Hook the target layer for patching\n",
    "            target_layer = None\n",
    "            if hasattr(language_model, 'model') and hasattr(language_model.model, 'layers'):\n",
    "                if layer < len(language_model.model.layers):\n",
    "                    target_layer = language_model.model.layers[layer]\n",
    "            elif hasattr(language_model, 'layers'):\n",
    "                if layer < len(language_model.layers):\n",
    "                    target_layer = language_model.layers[layer]\n",
    "\n",
    "            if target_layer is None:\n",
    "                return 0.0\n",
    "\n",
    "            patch_hook = target_layer.register_forward_hook(patching_hook)\n",
    "\n",
    "            # FIXED: Use the same robust label creation as in main function\n",
    "            def create_labels(input_ids, pad_token_id):\n",
    "                labels = input_ids.clone()\n",
    "                labels[labels == pad_token_id] = -100\n",
    "                if labels.size(1) > 1:\n",
    "                    labels[:, 0] = -100\n",
    "                return labels\n",
    "\n",
    "            # Forward pass with patched activations\n",
    "            patched_loss = 0.0\n",
    "            with torch.no_grad():\n",
    "                if \"paligemma\" in model_name.lower():\n",
    "                    labels = create_labels(inputs['input_ids'], tokenizer.pad_token_id)\n",
    "                    patched_outputs = language_model(**inputs)\n",
    "\n",
    "                    if hasattr(patched_outputs, 'logits'):\n",
    "                        logits = patched_outputs.logits\n",
    "\n",
    "                        if logits.size(1) > 1 and labels.size(1) > 1:\n",
    "                            shift_logits = logits[..., :-1, :].contiguous()\n",
    "                            shift_labels = labels[..., 1:].contiguous()\n",
    "\n",
    "                            valid_mask = shift_labels != -100\n",
    "                            if valid_mask.any():\n",
    "                                shift_logits = shift_logits.view(-1, shift_logits.size(-1))\n",
    "                                shift_labels = shift_labels.view(-1)\n",
    "\n",
    "                                loss_fct = torch.nn.CrossEntropyLoss(ignore_index=-100, reduction='mean')\n",
    "                                patched_loss = loss_fct(shift_logits, shift_labels).item()\n",
    "                    else:\n",
    "                        patched_loss = 0.0\n",
    "                else:\n",
    "                    labels = create_labels(inputs['input_ids'], tokenizer.pad_token_id)\n",
    "                    patched_outputs = language_model(**inputs, labels=labels)\n",
    "\n",
    "                    if hasattr(patched_outputs, 'loss') and patched_outputs.loss is not None:\n",
    "                        patched_loss = patched_outputs.loss.item()\n",
    "                    else:\n",
    "                        if hasattr(patched_outputs, 'logits'):\n",
    "                            logits = patched_outputs.logits\n",
    "\n",
    "                            if logits.size(1) > 1 and labels.size(1) > 1:\n",
    "                                shift_logits = logits[..., :-1, :].contiguous()\n",
    "                                shift_labels = labels[..., 1:].contiguous()\n",
    "\n",
    "                                valid_mask = shift_labels != -100\n",
    "                                if valid_mask.any():\n",
    "                                    shift_logits = shift_logits.view(-1, shift_logits.size(-1))\n",
    "                                    shift_labels = shift_labels.view(-1)\n",
    "\n",
    "                                    loss_fct = torch.nn.CrossEntropyLoss(ignore_index=-100, reduction='mean')\n",
    "                                    patched_loss = loss_fct(shift_logits, shift_labels).item()\n",
    "\n",
    "            patch_hook.remove()\n",
    "            return patched_loss\n",
    "\n",
    "        except Exception as e:\n",
    "            print(f\"⚠️  Patching failed: {e}\")\n",
    "            return 0.0\n",
    "\n",
    "    def compute_sae_metrics(self, activations: torch.Tensor, sae: SAE, model_delta_loss: float) -> SAEMetrics:\n",
    "        \"\"\"Compute comprehensive SAE evaluation metrics including model delta loss and top-20 features.\"\"\"\n",
    "        with torch.no_grad():\n",
    "            # Reshape activations for SAE processing\n",
    "            batch_size, seq_len, d_model = activations.shape\n",
    "            flat_activations = activations.view(-1, d_model)\n",
    "            \n",
    "            # Forward pass through SAE\n",
    "            sae_output = sae(flat_activations) \n",
    "            \n",
    "            # Handle different SAE output formats\n",
    "            if hasattr(sae_output, 'feature_acts'):\n",
    "                feature_acts = sae_output.feature_acts # shape (batch_size * seq_len,  latent_dim)\n",
    "                reconstructed = sae_output.sae_out\n",
    "            elif isinstance(sae_output, tuple) and len(sae_output) >= 2:\n",
    "                reconstructed, feature_acts = sae_output[0], sae_output[1]\n",
    "            elif hasattr(sae, 'encode') and hasattr(sae, 'decode'):\n",
    "                feature_acts = sae.encode(flat_activations)\n",
    "                reconstructed = sae.decode(feature_acts)\n",
    "            else:\n",
    "                reconstructed = sae_output\n",
    "                if hasattr(sae, 'W_enc') and hasattr(sae, 'b_enc'):\n",
    "                    feature_acts = torch.relu(flat_activations @ sae.W_enc + sae.b_enc)\n",
    "                else:\n",
    "                    print(f\"Failed retrieving SAE reconstructions, random intialisign...\")\n",
    "                    feature_acts = torch.randn(flat_activations.shape[0], 16384, device=flat_activations.device)\n",
    "            \n",
    "            # 1. Reconstruction Loss (MSE)\n",
    "            reconstruction_loss = torch.nn.functional.mse_loss(reconstructed, flat_activations).item()\n",
    "            \n",
    "            # 2. L0 Sparsity (fraction of non-zero features)\n",
    "            l0_sparsity = (feature_acts > 0).float().mean().item()\n",
    "            \n",
    "            # 3. L1 Sparsity (mean absolute activation)\n",
    "            l1_sparsity = feature_acts.abs().mean().item()\n",
    "            \n",
    "            # 4. Fraction of features that are ever active\n",
    "            fraction_alive = (feature_acts.max(dim=0)[0] > 0).float().mean().item()\n",
    "            \n",
    "            # 5. Mean maximum activation per sample\n",
    "            mean_max_activation = feature_acts.max(dim=1)[0].mean().item()\n",
    "            \n",
    "            # 6. Reconstruction score (explained variance)\n",
    "            var_original = flat_activations.var(dim=0).mean()\n",
    "            var_residual = (flat_activations - reconstructed).var(dim=0).mean()\n",
    "            reconstruction_score = max(0.0, 1 - (var_residual / var_original).item())\n",
    "            \n",
    "            # Store top-20 features for analysis\n",
    "            mean_feature_acts = feature_acts.mean(dim=0)  # Average across all tokens/samples\n",
    "            top_20_indices = torch.topk(mean_feature_acts, k=min(20, feature_acts.size(-1)))[1]\n",
    "            self._store_top_features(top_20_indices, mean_feature_acts, \n",
    "                                   reconstruction_loss, l0_sparsity, model_delta_loss)\n",
    "            \n",
    "            # top-20 rec loss\n",
    "            top_acts = feature_acts[..., top_20_indices] # shape (batch_size * seq_len,  latent_dim)\n",
    "            if hasattr(sae, 'decode'):\n",
    "                recon_from_topk = sae.decode( top_acts )  # if your SAE supports that\n",
    "            else:\n",
    "                if hasattr(sae, 'W_dec') and hasattr(sae, 'b_dec'):\n",
    "                    recon_from_topk = torch.relu(top_acts @ sae.W_dec + sae.b_dec)\n",
    "            \n",
    "            rec_loss_topk = F.mse_loss(recon_from_topk, flat_activations).item()\n",
    "            \n",
    "            return SAEMetrics(\n",
    "                reconstruction_loss=reconstruction_loss,\n",
    "                l0_sparsity=l0_sparsity,\n",
    "                l1_sparsity=l1_sparsity,\n",
    "                fraction_alive=fraction_alive,\n",
    "                mean_max_activation=mean_max_activation,\n",
    "                reconstruction_score=reconstruction_score,\n",
    "                model_delta_loss=model_delta_loss,\n",
    "                rec_loss_topk=rec_loss_topk\n",
    "            )\n",
    "    \n",
    "    def _store_top_features(self, top_indices: torch.Tensor, feature_acts: torch.Tensor, \n",
    "                           recon_loss: float, sparsity: float, delta_loss: float):\n",
    "        \"\"\"Store top-20 activated features for analysis.\"\"\"\n",
    "        if not hasattr(self, 'top_features_log'):\n",
    "            self.top_features_log = []\n",
    "        \n",
    "        top_features_info = {\n",
    "            'top_20_indices': top_indices.cpu().tolist(),\n",
    "            'top_20_activations': feature_acts[top_indices].cpu().tolist(),\n",
    "            'reconstruction_loss': recon_loss,\n",
    "            'sparsity': sparsity,\n",
    "            'delta_loss': delta_loss,\n",
    "            'timestamp': len(self.top_features_log)  # Simple counter\n",
    "        }\n",
    "        \n",
    "        self.top_features_log.append(top_features_info)\n",
    "\n",
    "    def analyze_layer_sweep(self, \n",
    "                           model1_name: str, \n",
    "                           model2_name: str, \n",
    "                           texts: List[str],\n",
    "                           layers: List[int] = None) -> Dict:\n",
    "        \"\"\"\n",
    "        Perform memory-efficient layer sweep analysis.\n",
    "        \n",
    "        Args:\n",
    "            model1_name: First model (base LLM)\n",
    "            model2_name: Second model (VLM) \n",
    "            texts: List of texts to analyze\n",
    "            layers: List of layers to analyze (default: [8, 12, 16, 20])\n",
    "        \"\"\"\n",
    "        if layers is None:\n",
    "            layers = [8, 12, 16, 20]  # Sample layers across the model\n",
    "        \n",
    "        print(f\"🚀 Starting Layer Sweep Analysis\")\n",
    "        print(f\"   Model 1: {model1_name}\")\n",
    "        print(f\"   Model 2: {model2_name}\")\n",
    "        print(f\"   Layers: {layers}\")\n",
    "        print(f\"   Texts: {len(texts)} samples\")\n",
    "        print(f\"   Memory: {torch.cuda.memory_allocated() / 1e9:.2f}GB\" if torch.cuda.is_available() else \"\")\n",
    "        \n",
    "        results = {\n",
    "            'layers': layers,\n",
    "            'layer_results': {},\n",
    "            'texts': texts[:10]  # Store subset for reference\n",
    "        }\n",
    "        \n",
    "        for layer in tqdm(layers, desc=\"Processing layers\"):\n",
    "            print(f\"\\n📊 Processing Layer {layer}\")\n",
    "            \n",
    "            # Load SAE for this layer\n",
    "            sae = self.get_gemmascope_sae(layer)\n",
    "            \n",
    "            layer_metrics = {\n",
    "                'model1_metrics': [],\n",
    "                'model2_metrics': [],\n",
    "                'shift_metrics': []\n",
    "            }\n",
    "            \n",
    "            # Process subset of texts for each layer (memory efficiency)\n",
    "            sample_texts = texts[:100]  # Process 100 texts per layer (increased from 20)\n",
    "            \n",
    "            for i, text in enumerate(tqdm(sample_texts, desc=f\"Layer {layer} texts\", leave=False)):\n",
    "                try:\n",
    "                    # Extract activations and compute metrics for model 1\n",
    "                    acts1, delta_loss1 = self.extract_activations_with_patching(\n",
    "                        model1_name, text, layer, sae\n",
    "                    )\n",
    "                    metrics1 = self.compute_sae_metrics(acts1, sae, delta_loss1)\n",
    "                    \n",
    "                    # Extract activations and compute metrics for model 2\n",
    "                    acts2, delta_loss2 = self.extract_activations_with_patching(\n",
    "                        model2_name, text, layer, sae\n",
    "                    )\n",
    "                    metrics2 = self.compute_sae_metrics(acts2, sae, delta_loss2)\n",
    "                    \n",
    "                    # Compute representation shift\n",
    "                    shift = self.compute_representation_shift(acts1, acts2, sae)\n",
    "                    \n",
    "                    layer_metrics['model1_metrics'].append(metrics1)\n",
    "                    layer_metrics['model2_metrics'].append(metrics2)\n",
    "                    layer_metrics['shift_metrics'].append(shift)\n",
    "                    \n",
    "                except Exception as e:\n",
    "                    print(f\"⚠️  Error processing text {i} in layer {layer}: {e}\")\n",
    "                    continue\n",
    "            \n",
    "            # Compute layer-level aggregates\n",
    "            layer_metrics['aggregate'] = self._compute_layer_aggregate(layer_metrics)\n",
    "            results['layer_results'][layer] = layer_metrics\n",
    "            \n",
    "            # Memory cleanup\n",
    "            if torch.cuda.is_available():\n",
    "                torch.cuda.empty_cache()\n",
    "                print(f\"   Memory after layer {layer}: {torch.cuda.memory_allocated() / 1e9:.2f}GB\")\n",
    "        \n",
    "        # Compute overall analysis\n",
    "        results['overall_analysis'] = self._compute_overall_analysis(results)\n",
    "        \n",
    "        return results\n",
    "\n",
    "    def compute_representation_shift(self, \n",
    "                                   activations1: torch.Tensor, \n",
    "                                   activations2: torch.Tensor,\n",
    "                                   sae: SAE) -> RepresentationShift:\n",
    "        \"\"\"Compute representation shift metrics using SAE features.\"\"\"\n",
    "        with torch.no_grad():\n",
    "            # Process both activation sets through SAE\n",
    "            flat_acts1 = activations1.view(-1, activations1.size(-1))\n",
    "            flat_acts2 = activations2.view(-1, activations2.size(-1))\n",
    "            \n",
    "            # Get SAE features\n",
    "            def extract_features(flat_acts):\n",
    "                sae_output = sae(flat_acts)\n",
    "                if hasattr(sae_output, 'feature_acts'):\n",
    "                    return sae_output.feature_acts\n",
    "                elif isinstance(sae_output, tuple) and len(sae_output) >= 2:\n",
    "                    return sae_output[1]\n",
    "                elif hasattr(sae, 'encode'):\n",
    "                    return sae.encode(flat_acts)\n",
    "                else:\n",
    "                    if hasattr(sae, 'W_enc') and hasattr(sae, 'b_enc'):\n",
    "                        return torch.relu(flat_acts @ sae.W_enc + sae.b_enc)\n",
    "                    else:\n",
    "                        return torch.randn(flat_acts.shape[0], 16384, device=flat_acts.device)\n",
    "            \n",
    "            features1 = extract_features(flat_acts1)\n",
    "            features2 = extract_features(flat_acts2)\n",
    "            \n",
    "            # 1. Cosine similarity\n",
    "            cosine_sim = torch.nn.functional.cosine_similarity(\n",
    "                features1.mean(dim=0), features2.mean(dim=0), dim=0\n",
    "            ).item()\n",
    "            \n",
    "            # 2. L2 distance\n",
    "            l2_distance = torch.norm(features1.mean(dim=0) - features2.mean(dim=0), p=2).item()\n",
    "            \n",
    "            # 3. Feature overlap (Jaccard similarity)\n",
    "            active1 = (features1 > 0).float()\n",
    "            active2 = (features2 > 0).float()\n",
    "            intersection = (active1 * active2).sum(dim=0)\n",
    "            union = torch.clamp(active1.sum(dim=0) + active2.sum(dim=0) - intersection, min=1)\n",
    "            feature_overlap = (intersection / union).mean().item()\n",
    "            \n",
    "            # 4. Jensen-Shannon divergence\n",
    "            def js_divergence(p, q):\n",
    "                p = p + 1e-8\n",
    "                q = q + 1e-8\n",
    "                p = p / p.sum()\n",
    "                q = q / q.sum()\n",
    "                m = 0.5 * (p + q)\n",
    "                return 0.5 * (torch.nn.functional.kl_div(p.log(), m, reduction='sum') + \n",
    "                             torch.nn.functional.kl_div(q.log(), m, reduction='sum'))\n",
    "            \n",
    "            p = features1.mean(dim=0).abs()\n",
    "            q = features2.mean(dim=0).abs()\n",
    "            js_div = js_divergence(p, q).item()\n",
    "            \n",
    "            # 5. Feature correlation\n",
    "            try:\n",
    "                corr_matrix = torch.corrcoef(torch.stack([\n",
    "                    features1.mean(dim=0), features2.mean(dim=0)\n",
    "                ]))\n",
    "                feature_correlation = corr_matrix[0, 1].item() if not torch.isnan(corr_matrix[0, 1]) else 0.0\n",
    "            except:\n",
    "                feature_correlation = 0.0\n",
    "            \n",
    "            return RepresentationShift(\n",
    "                cosine_similarity=cosine_sim,\n",
    "                l2_distance=l2_distance,\n",
    "                feature_overlap=feature_overlap,\n",
    "                js_divergence=js_div,\n",
    "                feature_correlation=feature_correlation\n",
    "            )\n",
    "\n",
    "    def _compute_layer_aggregate(self, layer_metrics: Dict) -> Dict:\n",
    "        \"\"\"Compute aggregate statistics for a single layer.\"\"\"\n",
    "        n_samples = len(layer_metrics['model1_metrics'])\n",
    "        if n_samples == 0:\n",
    "            return {}\n",
    "        \n",
    "        # Average metrics across samples\n",
    "        avg_model1 = {}\n",
    "        avg_model2 = {}\n",
    "        avg_shift = {}\n",
    "        \n",
    "        for field in SAEMetrics.__dataclass_fields__:\n",
    "            avg_model1[field] = np.mean([getattr(m, field) for m in layer_metrics['model1_metrics']])\n",
    "            avg_model2[field] = np.mean([getattr(m, field) for m in layer_metrics['model2_metrics']])\n",
    "        \n",
    "        for field in RepresentationShift.__dataclass_fields__:\n",
    "            avg_shift[field] = np.mean([getattr(s, field) for s in layer_metrics['shift_metrics']])\n",
    "        \n",
    "        return {\n",
    "            'avg_model1_metrics': avg_model1,\n",
    "            'avg_model2_metrics': avg_model2,\n",
    "            'avg_shift_metrics': avg_shift,\n",
    "            'n_samples': n_samples\n",
    "        }\n",
    "\n",
    "    def _compute_overall_analysis(self, results: Dict) -> Dict:\n",
    "        \"\"\"Compute overall analysis across all layers.\"\"\"\n",
    "        layers = results['layers']\n",
    "        \n",
    "        # Collect metrics across layers\n",
    "        layer_similarities = []\n",
    "        layer_overlaps = []\n",
    "        layer_delta_losses = []\n",
    "        layer_sparsities = []\n",
    "        layer_rec_loss_topk = []\n",
    "        \n",
    "        for layer in layers:\n",
    "            if layer in results['layer_results'] and 'aggregate' in results['layer_results'][layer]:\n",
    "                agg = results['layer_results'][layer]['aggregate']\n",
    "                if agg:  # Check if aggregate is not empty\n",
    "                    layer_similarities.append(agg['avg_shift_metrics']['cosine_similarity'])\n",
    "                    layer_overlaps.append(agg['avg_shift_metrics']['feature_overlap'])\n",
    "                    layer_delta_losses.append(abs(agg['avg_model1_metrics']['model_delta_loss'] - \n",
    "                                                 agg['avg_model2_metrics']['model_delta_loss']))\n",
    "                    layer_sparsities.append((agg['avg_model1_metrics']['l0_sparsity'] + \n",
    "                                           agg['avg_model2_metrics']['l0_sparsity']) / 2)\n",
    "\n",
    "        \n",
    "        # Overall insights\n",
    "        overall = {\n",
    "            'most_similar_layer': layers[np.argmax(layer_similarities)] if layer_similarities else None,\n",
    "            'most_different_layer': layers[np.argmin(layer_similarities)] if layer_similarities else None,\n",
    "            'highest_overlap_layer': layers[np.argmax(layer_overlaps)] if layer_overlaps else None,\n",
    "            'highest_delta_loss_layer': layers[np.argmax(layer_delta_losses)] if layer_delta_losses else None,\n",
    "            'avg_similarity_across_layers': np.mean(layer_similarities) if layer_similarities else 0,\n",
    "            'avg_overlap_across_layers': np.mean(layer_overlaps) if layer_overlaps else 0,\n",
    "            'avg_delta_loss_across_layers': np.mean(layer_delta_losses) if layer_delta_losses else 0,\n",
    "            'layer_similarities': dict(zip(layers, layer_similarities)),\n",
    "            'layer_overlaps': dict(zip(layers, layer_overlaps))\n",
    "        }\n",
    "        \n",
    "        return overall\n",
    "\n",
    "    def visualize_layer_sweep_results(self, results: Dict, model1_name: str, model2_name: str):\n",
    "        \"\"\"Create comprehensive visualization of layer sweep results.\"\"\"\n",
    "        layers = results['layers']\n",
    "        \n",
    "        # Create output filename\n",
    "        model1_clean = model1_name.replace('/', '_').replace('-', '_')\n",
    "        model2_clean = model2_name.replace('/', '_').replace('-', '_')\n",
    "        save_path = self.output_dir / f\"{model1_clean}_{model2_clean}_layer_sweep.png\"\n",
    "        \n",
    "        fig, axes = plt.subplots(2, 3, figsize=(20, 12))\n",
    "        fig.suptitle(f'SAE Layer Sweep Analysis: {model1_name} vs {model2_name}', fontsize=16)\n",
    "        \n",
    "        # Collect data across layers\n",
    "        layer_data = {\n",
    "            'similarities': [],\n",
    "            'overlaps': [],\n",
    "            'recon_losses_m1': [],\n",
    "            'recon_losses_m2': [],\n",
    "            'sparsities_m1': [],\n",
    "            'sparsities_m2': [],\n",
    "            'delta_losses_m1': [],\n",
    "            'delta_losses_m2': []\n",
    "        }\n",
    "        \n",
    "        for layer in layers:\n",
    "            if layer in results['layer_results'] and 'aggregate' in results['layer_results'][layer]:\n",
    "                agg = results['layer_results'][layer]['aggregate']\n",
    "                if agg:\n",
    "                    layer_data['similarities'].append(agg['avg_shift_metrics']['cosine_similarity'])\n",
    "                    layer_data['overlaps'].append(agg['avg_shift_metrics']['feature_overlap'])\n",
    "                    layer_data['recon_losses_m1'].append(agg['avg_model1_metrics']['reconstruction_loss'])\n",
    "                    layer_data['recon_losses_m2'].append(agg['avg_model2_metrics']['reconstruction_loss'])\n",
    "                    layer_data['sparsities_m1'].append(agg['avg_model1_metrics']['l0_sparsity'])\n",
    "                    layer_data['sparsities_m2'].append(agg['avg_model2_metrics']['l0_sparsity'])\n",
    "                    layer_data['delta_losses_m1'].append(agg['avg_model1_metrics']['model_delta_loss'])\n",
    "                    layer_data['delta_losses_m2'].append(agg['avg_model2_metrics']['model_delta_loss'])\n",
    "        \n",
    "        # Plot 1: Representation Similarity Across Layers\n",
    "        axes[0, 0].plot(layers, layer_data['similarities'], 'o-', linewidth=2, markersize=8)\n",
    "        axes[0, 0].set_title('Cosine Similarity Across Layers')\n",
    "        axes[0, 0].set_xlabel('Layer')\n",
    "        axes[0, 0].set_ylabel('Cosine Similarity')\n",
    "        axes[0, 0].grid(True, alpha=0.3)\n",
    "        axes[0, 0].axhline(y=0.8, color='red', linestyle='--', alpha=0.5, label='High Similarity')\n",
    "        axes[0, 0].legend()\n",
    "        \n",
    "        # Plot 2: Feature Overlap Across Layers\n",
    "        axes[0, 1].plot(layers, layer_data['overlaps'], 'o-', color='green', linewidth=2, markersize=8)\n",
    "        axes[0, 1].set_title('Feature Overlap Across Layers')\n",
    "        axes[0, 1].set_xlabel('Layer')\n",
    "        axes[0, 1].set_ylabel('Feature Overlap')\n",
    "        axes[0, 1].grid(True, alpha=0.3)\n",
    "        axes[0, 1].axhline(y=0.5, color='red', linestyle='--', alpha=0.5, label='Moderate Overlap')\n",
    "        axes[0, 1].legend()\n",
    "        \n",
    "        # Plot 3: Reconstruction Loss Comparison\n",
    "        axes[0, 2].plot(layers, layer_data['recon_losses_m1'], 'o-', label='Model 1 (LLM)', linewidth=2)\n",
    "        axes[0, 2].plot(layers, layer_data['recon_losses_m2'], 's-', label='Model 2 (VLM)', linewidth=2)\n",
    "        axes[0, 2].set_title('Reconstruction Loss Across Layers')\n",
    "        axes[0, 2].set_xlabel('Layer')\n",
    "        axes[0, 2].set_ylabel('Reconstruction Loss')\n",
    "        axes[0, 2].legend()\n",
    "        axes[0, 2].grid(True, alpha=0.3)\n",
    "        \n",
    "        # Plot 4: Sparsity Comparison\n",
    "        axes[1, 0].plot(layers, layer_data['sparsities_m1'], 'o-', label='Model 1 (LLM)', linewidth=2)\n",
    "        axes[1, 0].plot(layers, layer_data['sparsities_m2'], 's-', label='Model 2 (VLM)', linewidth=2)\n",
    "        axes[1, 0].set_title('L0 Sparsity Across Layers')\n",
    "        axes[1, 0].set_xlabel('Layer')\n",
    "        axes[1, 0].set_ylabel('L0 Sparsity')\n",
    "        axes[1, 0].legend()\n",
    "        axes[1, 0].grid(True, alpha=0.3)\n",
    "        \n",
    "        # Plot 5: Model Delta Loss (Patching Performance)\n",
    "        axes[1, 1].plot(layers, layer_data['delta_losses_m1'], 'o-', label='Model 1 (LLM)', linewidth=2)\n",
    "        axes[1, 1].plot(layers, layer_data['delta_losses_m2'], 's-', label='Model 2 (VLM)', linewidth=2)\n",
    "        axes[1, 1].set_title('Model Delta Loss (Patching Quality)')\n",
    "        axes[1, 1].set_xlabel('Layer')\n",
    "        axes[1, 1].set_ylabel('Delta Loss')\n",
    "        axes[1, 1].legend()\n",
    "        axes[1, 1].grid(True, alpha=0.3)\n",
    "        axes[1, 1].axhline(y=0, color='black', linestyle='-', alpha=0.3)\n",
    "        \n",
    "        # Plot 6: Summary Heatmap\n",
    "        # Create a summary matrix for visualization\n",
    "        metrics_matrix = np.array([\n",
    "            layer_data['similarities'],\n",
    "            layer_data['overlaps'],\n",
    "            np.array(layer_data['recon_losses_m1']) / max(max(layer_data['recon_losses_m1']), 1e-6),  # Normalize\n",
    "            np.array(layer_data['sparsities_m1']) * 10,  # Scale up for visibility\n",
    "        ])\n",
    "        \n",
    "        im = axes[1, 2].imshow(metrics_matrix, cmap='RdYlBu_r', aspect='auto')\n",
    "        axes[1, 2].set_title('Metrics Heatmap Across Layers')\n",
    "        axes[1, 2].set_xlabel('Layer Index')\n",
    "        axes[1, 2].set_yticks(range(4))\n",
    "        axes[1, 2].set_yticklabels(['Similarity', 'Overlap', 'Recon Loss (norm)', 'Sparsity (x10)'])\n",
    "        axes[1, 2].set_xticks(range(len(layers)))\n",
    "        axes[1, 2].set_xticklabels([f'L{l}' for l in layers])\n",
    "        \n",
    "        # Add colorbar\n",
    "        cbar = plt.colorbar(im, ax=axes[1, 2])\n",
    "        cbar.set_label('Metric Value')\n",
    "        \n",
    "        plt.tight_layout()\n",
    "        plt.savefig(save_path, dpi=300, bbox_inches='tight')\n",
    "        print(f\"✅ Layer sweep visualization saved to {save_path}\")\n",
    "        \n",
    "        # Save detailed results as JSON including top features\n",
    "        json_path = self.output_dir / f\"{model1_clean}_{model2_clean}_results.json\"\n",
    "        \n",
    "        # Convert results to JSON-serializable format\n",
    "        json_results = {\n",
    "            'layers': layers,\n",
    "            'overall_analysis': results['overall_analysis'],\n",
    "            'layer_summaries': {},\n",
    "            'top_features_analysis': getattr(self, 'top_features_log', [])\n",
    "        }\n",
    "        \n",
    "        for layer in layers:\n",
    "            if layer in results['layer_results'] and 'aggregate' in results['layer_results'][layer]:\n",
    "                agg = results['layer_results'][layer]['aggregate']\n",
    "                if agg:\n",
    "                    json_results['layer_summaries'][str(layer)] = agg\n",
    "        \n",
    "        with open(json_path, 'w') as f:\n",
    "            json.dump(json_results, f, indent=2)\n",
    "        print(f\"✅ Detailed results saved to {json_path}\")\n",
    "        \n",
    "        # Create top features analysis\n",
    "        self._analyze_top_features_trends()\n",
    "\n",
    "    def interpret_layer_sweep_results(self, results: Dict) -> Dict[str, str]:\n",
    "        \"\"\"Provide interpretation of layer sweep results.\"\"\"\n",
    "        overall = results['overall_analysis']\n",
    "        interpretations = {}\n",
    "        \n",
    "        # Overall adaptation assessment\n",
    "        avg_similarity = overall['avg_similarity_across_layers']\n",
    "        if avg_similarity > 0.85:\n",
    "            interpretations['adaptation_magnitude'] = \"✅ MINIMAL LLM→VLM adaptation - representations largely preserved\"\n",
    "        elif avg_similarity > 0.7:\n",
    "            interpretations['adaptation_magnitude'] = \"⚠️ MODERATE LLM→VLM adaptation - selective representational changes\"\n",
    "        else:\n",
    "            interpretations['adaptation_magnitude'] = \"🔍 SIGNIFICANT LLM→VLM adaptation - substantial representational reorganization\"\n",
    "        \n",
    "        # Layer-specific insights\n",
    "        if overall['most_different_layer'] is not None:\n",
    "            interpretations['adaptation_location'] = f\"🎯 Layer {overall['most_different_layer']} shows maximum adaptation\"\n",
    "        \n",
    "        if overall['highest_overlap_layer'] is not None:\n",
    "            interpretations['feature_preservation'] = f\"🔗 Layer {overall['highest_overlap_layer']} best preserves LLM features\"\n",
    "        \n",
    "        # Adaptation pattern\n",
    "        layer_sims = list(overall['layer_similarities'].values())\n",
    "        if len(layer_sims) >= 3:\n",
    "            early_sim = np.mean(layer_sims[:len(layer_sims)//3])\n",
    "            late_sim = np.mean(layer_sims[-len(layer_sims)//3:])\n",
    "            \n",
    "            if early_sim > late_sim + 0.1:\n",
    "                interpretations['adaptation_pattern'] = \"📈 Early layers preserve LLM representations better than late layers\"\n",
    "            elif late_sim > early_sim + 0.1:\n",
    "                interpretations['adaptation_pattern'] = \"📉 Late layers preserve LLM representations better than early layers\"\n",
    "            else:\n",
    "                interpretations['adaptation_pattern'] = \"📊 Uniform adaptation pattern across layers\"\n",
    "        \n",
    "        # SAE quality assessment\n",
    "        avg_delta_loss = overall['avg_delta_loss_across_layers']\n",
    "        if avg_delta_loss < 0.1:\n",
    "            interpretations['sae_quality'] = \"✅ SAE reconstructions preserve model functionality well\"\n",
    "        elif avg_delta_loss < 0.5:\n",
    "            interpretations['sae_quality'] = \"⚠️ SAE reconstructions cause moderate functional degradation\"\n",
    "        else:\n",
    "            interpretations['sae_quality'] = \"❌ SAE reconstructions significantly impact model functionality\"\n",
    "        \n",
    "        return interpretations\n",
    "\n",
    "\n",
    "def main():\n",
    "    \"\"\"Main function for comprehensive LLM->VLM representation shift analysis.\"\"\"\n",
    "    print(\"🚀 Comprehensive SAE Layer Sweep Analysis: LLM→VLM Adaptation\")\n",
    "    print(\"=\" * 70)\n",
    "    \n",
    "    # Configuration\n",
    "    MODEL_SIZE = \"2b\"\n",
    "    WIDTH = \"16k\"\n",
    "    SUFFIX = \"canonical\"\n",
    "    DEVICE = \"cuda\" if torch.cuda.is_available() else \"cpu\"\n",
    "    LAYERS = [4, 8, 12, 16, 20, 24]  # Sample across the model depth\n",
    "    \n",
    "    try:\n",
    "        # Initialize analyzer\n",
    "        analyzer = MemoryEfficientSAEAnalyzer(\n",
    "            model_size=MODEL_SIZE,\n",
    "            width=WIDTH,\n",
    "            suffix=SUFFIX,\n",
    "            device=DEVICE\n",
    "        )\n",
    "        \n",
    "        # Load dataset\n",
    "        print(\"\\n📚 Loading Datasets...\")\n",
    "        dataset_loader = DatasetLoader(device=DEVICE)\n",
    "        texts = dataset_loader.get_mixed_dataset(total_samples=1000)  # Use 1K data as requested\n",
    "        \n",
    "        print(f\"✅ Loaded {len(texts)} texts from mixed datasets\")\n",
    "        print(f\"Sample texts: {texts[:3]}\")\n",
    "        \n",
    "        # Model configuration for LLM->VLM comparison\n",
    "        model1_name = \"google/gemma-2-2b\"  # Base Gemma-2-2B (LLM)\n",
    "        model2_name = \"google/paligemma2-3b-pt-224\"  # PaliGemma with Gemma-2-2B decoder (VLM)\n",
    "        \n",
    "        print(f\"\\n🔬 Research Configuration:\")\n",
    "        print(f\"   Model 1 (LLM): {model1_name}\")\n",
    "        print(f\"   Model 2 (VLM): {model2_name}\")\n",
    "        print(f\"   Layers to analyze: {LAYERS}\")\n",
    "        print(f\"   SAE Configuration: {MODEL_SIZE}-{WIDTH}-{SUFFIX}\")\n",
    "        print(f\"   Device: {DEVICE}\")\n",
    "        print(f\"   Total texts: {len(texts)}\")\n",
    "        \n",
    "        # Run layer sweep analysis\n",
    "        print(f\"\\n🚀 Starting Layer Sweep Analysis...\")\n",
    "        results = analyzer.analyze_layer_sweep(\n",
    "            model1_name=model1_name,\n",
    "            model2_name=model2_name,\n",
    "            texts=texts,\n",
    "            layers=LAYERS\n",
    "        )\n",
    "        \n",
    "        # Generate interpretations\n",
    "        interpretations = analyzer.interpret_layer_sweep_results(results)\n",
    "        \n",
    "        print(f\"\\n📊 LAYER SWEEP RESULTS:\")\n",
    "        print(\"=\" * 50)\n",
    "        \n",
    "        overall = results['overall_analysis']\n",
    "        print(f\"Most Similar Layer: {overall['most_similar_layer']}\")\n",
    "        print(f\"Most Different Layer: {overall['most_different_layer']}\")\n",
    "        print(f\"Highest Feature Overlap Layer: {overall['highest_overlap_layer']}\")\n",
    "        print(f\"Average Similarity Across Layers: {overall['avg_similarity_across_layers']:.3f}\")\n",
    "        print(f\"Average Feature Overlap: {overall['avg_overlap_across_layers']:.3f}\")\n",
    "        \n",
    "        print(f\"\\n🔍 INTERPRETATIONS:\")\n",
    "        print(\"=\" * 50)\n",
    "        for aspect, interpretation in interpretations.items():\n",
    "            print(f\"{aspect.replace('_', ' ').title()}: {interpretation}\")\n",
    "        \n",
    "        # Create visualizations\n",
    "        print(f\"\\n📈 Generating Visualizations...\")\n",
    "        analyzer.visualize_layer_sweep_results(results, model1_name, model2_name)\n",
    "        \n",
    "        print(f\"\\n✅ Analysis Complete!\")\n",
    "        print(f\"📁 Results saved to: {analyzer.output_dir}\")\n",
    "        print(f\"🧠 Key Finding: {interpretations.get('adaptation_magnitude', 'Analysis completed')}\")\n",
    "        \n",
    "        # Memory cleanup\n",
    "        if torch.cuda.is_available():\n",
    "            torch.cuda.empty_cache()\n",
    "            print(f\"🔧 Final GPU Memory: {torch.cuda.memory_allocated() / 1e9:.2f}GB\")\n",
    "        \n",
    "    except Exception as e:\n",
    "        print(f\"❌ Error during analysis: {e}\")\n",
    "        import traceback\n",
    "        traceback.print_exc()\n",
    "        \n",
    "        print(\"\\n💡 Troubleshooting Tips:\")\n",
    "        print(\"   1. Ensure sufficient GPU memory (8GB+ recommended)\")\n",
    "        print(\"   2. Reduce LAYERS list or sample size if out of memory\")\n",
    "        print(\"   3. Check model names are correct and accessible\")\n",
    "        print(\"   4. Install required packages: pip install sae-lens transformers datasets\")\n",
    "\n",
    "\n",
    "if __name__ == \"__main__\":\n",
    "    main()\n",
    "\n",
    "# Installation requirements:\n",
    "\"\"\"\n",
    "pip install sae-lens transformers torch matplotlib seaborn numpy datasets tqdm\n",
    "\n",
    "# For CUDA support (recommended):\n",
    "pip install torch torchvision torchaudio --index-url https://download.pytorch.org/whl/cu118\n",
    "\"\"\""
   ]
  },
  {
   "cell_type": "code",
   "execution_count": null,
   "id": "7dbf819e",
   "metadata": {},
   "outputs": [],
   "source": []
  }
 ],
 "metadata": {
  "kernelspec": {
   "display_name": "Python py311",
   "language": "python",
   "name": "py311"
  },
  "language_info": {
   "codemirror_mode": {
    "name": "ipython",
    "version": 3
   },
   "file_extension": ".py",
   "mimetype": "text/x-python",
   "name": "python",
   "nbconvert_exporter": "python",
   "pygments_lexer": "ipython3",
   "version": "3.11.13"
  }
 },
 "nbformat": 4,
 "nbformat_minor": 5
}
